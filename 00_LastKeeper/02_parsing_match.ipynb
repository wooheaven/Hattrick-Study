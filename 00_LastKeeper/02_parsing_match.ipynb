{
 "cells": [
  {
   "cell_type": "code",
   "execution_count": 1,
   "metadata": {
    "scrolled": true
   },
   "outputs": [
    {
     "name": "stderr",
     "output_type": "stream",
     "text": [
      "/home/rwoo/02_WorkSpace/04_Hattrick/Hattrick-Study/99_Utility/ht-venv/lib/python3.6/site-packages/psycopg2/__init__.py:144: UserWarning: The psycopg2 wheel package will be renamed from release 2.8; in order to keep installing from binary please use \"pip install psycopg2-binary\" instead. For details see: <http://initd.org/psycopg/docs/install.html#binary-install-from-pypi>.\n",
      "  \"\"\")\n"
     ]
    }
   ],
   "source": [
    "import sys\n",
    "\n",
    "sys.path.insert(0, '../03_Remake_with_TDD/algorithms')\n",
    "from ht_time import *\n",
    "\n",
    "sys.path.insert(0, '../03_Remake_with_TDD/postgresql')\n",
    "from ht_player_postgresql import *\n",
    "from ht_match_postgresql import *"
   ]
  },
  {
   "cell_type": "code",
   "execution_count": 4,
   "metadata": {},
   "outputs": [
    {
     "name": "stdout",
     "output_type": "stream",
     "text": [
      "folder = 2019/06/23\n"
     ]
    }
   ],
   "source": [
    "ht_time = HattrickTime()\n",
    "folder = ht_time.findLastSunOrWed()\n",
    "# folder = ht_time.findLastSunOrWed('2018/06/13')\n",
    "folder = \"2019/06/23\"\n",
    "print(\"folder =\", folder)"
   ]
  },
  {
   "cell_type": "code",
   "execution_count": 5,
   "metadata": {},
   "outputs": [],
   "source": [
    "import re\n",
    "from bs4 import BeautifulSoup"
   ]
  },
  {
   "cell_type": "code",
   "execution_count": 6,
   "metadata": {
    "scrolled": true
   },
   "outputs": [],
   "source": [
    "sys.path.insert(0, '../97_Parse/')\n",
    "from parseMatch import *\n",
    "\n",
    "sys.path.insert(0, '../98_Crawler/01_DualMonitor/')\n",
    "from DualMonitor import getIsDualMonitor\n",
    "\n",
    "sys.path.insert(0, '../98_Crawler/02_WebBrowser/')\n",
    "from FirefoxTab import clickTabOfFireFox\n",
    "from crawMatch import *\n",
    "\n",
    "sys.path.insert(0, '../98_Crawler/03_OnScreen/')\n",
    "from Empty import clickEmpty\n",
    "from MoveScroll import moveScroll\n",
    "from MoveFindMoveClick import moveByImage, moveByImageWithModify\n",
    "sys.path.insert(0, '../98_Crawler/04_Login/')\n",
    "from HattrickLogInOut import clickHattrickLogin2, clickHattrickLogout"
   ]
  },
  {
   "cell_type": "code",
   "execution_count": 7,
   "metadata": {},
   "outputs": [
    {
     "name": "stdout",
     "output_type": "stream",
     "text": [
      "use 1 monitor = 1920 x 1080 isDualMonitor= False\n"
     ]
    }
   ],
   "source": [
    "# isDualMonitor\n",
    "isDualMonitor = getIsDualMonitor()"
   ]
  },
  {
   "cell_type": "code",
   "execution_count": null,
   "metadata": {},
   "outputs": [],
   "source": [
    "# Hattrick LastKeeper Tab\n",
    "clickTabOfFireFox(4, isDualMonitor)\n",
    "\n",
    "# Hattrick Login\n",
    "clickEmpty(305, isDualMonitor)\n",
    "moveScroll(20)\n",
    "clickHattrickLogin2(495, 574, isDualMonitor)"
   ]
  },
  {
   "cell_type": "code",
   "execution_count": null,
   "metadata": {},
   "outputs": [],
   "source": [
    "# Hattrick LastKeeper Tab\n",
    "clickTabOfFireFox(4, isDualMonitor)\n",
    "\n",
    "# Hattrick MyClub\n",
    "moveScroll(20)\n",
    "time.sleep(8)\n",
    "moveByImage(517, 336, 79, 44, isDualMonitor, 'screen-MyClub.png')\n",
    "\n",
    "# Hattrick Match\n",
    "clickEmpty(670, isDualMonitor)\n",
    "moveScroll(20)\n",
    "moveByImage(400, 677, 53, 52, isDualMonitor, 'screen-Match.png')\n",
    "\n",
    "# Hattrick LastMatch\n",
    "clickEmpty(800, isDualMonitor)\n",
    "moveScroll(20)\n",
    "# moveByImageWithModify(1040, 831, 15, -15, 58, 48, isDualMonitor, 'screen-LastMatch.png')\n",
    "moveAndClick(1095, 795, isDualMonitor)\n",
    "time.sleep(5)\n",
    "\n",
    "# FirefoxFile\n",
    "moveAndClick(90, 15, isDualMonitor)\n",
    "\n",
    "# SavePageAs\n",
    "moveAndClick(91, 130, isDualMonitor)\n",
    "\n",
    "# Type match\n",
    "time.sleep(0.5)\n",
    "typeFileName()\n",
    "\n",
    "# rwoo folder\n",
    "moveAndClick(550, 313, isDualMonitor)\n",
    "moveAndClick(550, 313, isDualMonitor)\n",
    "\n",
    "# 02_workspace folder\n",
    "moveAndClicks(880, 400, isDualMonitor, 2)\n",
    "\n",
    "# 04_Hattrick folder\n",
    "moveAndClicks(880, 455, isDualMonitor, 2)\n",
    "\n",
    "# HattrickStudy\n",
    "moveAndClicks(880, 377, isDualMonitor, 2)\n",
    "\n",
    "# 00_LastKeeper\n",
    "moveAndClicks(880, 375, isDualMonitor, 2)\n",
    "\n",
    "# 2018\n",
    "moveAndClicks(880, 420, isDualMonitor, 2)\n",
    "\n",
    "# Last Month\n",
    "clickLastMonthOrDay()\n",
    "\n",
    "# Last Day\n",
    "clickLastMonthOrDay()\n",
    "\n",
    "# Save\n",
    "moveAndClicks(1380, 895, isDualMonitor, 2)\n",
    "# moveByImage(1338, 883, 88, 35, isDualMonitor, 'screen-Save.png')\n",
    "\n",
    "# # Hattrick Logout by Facebook\n",
    "# clickEmpty(370, isDualMonitor)\n",
    "# moveScroll(20)\n",
    "# clickHattrickLogout(1275, 370, isDualMonitor)\n",
    "\n",
    "# Jupyter Tab\n",
    "clickTabOfFireFox(6, isDualMonitor)"
   ]
  },
  {
   "cell_type": "code",
   "execution_count": 8,
   "metadata": {},
   "outputs": [],
   "source": [
    "from ht_file import *\n",
    "HattrickFile = HattrickFile()"
   ]
  },
  {
   "cell_type": "code",
   "execution_count": 9,
   "metadata": {},
   "outputs": [
    {
     "name": "stdout",
     "output_type": "stream",
     "text": [
      "2019/06/23/match_files\t\t : is exitsted\n",
      "2019/06/23/match_files\t\t : will be removed\n",
      "2019/06/23/match_files\t\t : is not exitsed\n"
     ]
    }
   ],
   "source": [
    "HattrickFile.check_and_delete_folder(folder + '/match_files')"
   ]
  },
  {
   "cell_type": "code",
   "execution_count": 10,
   "metadata": {},
   "outputs": [],
   "source": [
    "from ht_match import *"
   ]
  },
  {
   "cell_type": "code",
   "execution_count": 11,
   "metadata": {},
   "outputs": [],
   "source": [
    "HattrickMatch = HattrickMatch()"
   ]
  },
  {
   "cell_type": "code",
   "execution_count": 12,
   "metadata": {},
   "outputs": [],
   "source": [
    "# ht_player_table_name = 'player'\n",
    "ht_player_table_name = 'player_tmp'"
   ]
  },
  {
   "cell_type": "code",
   "execution_count": 13,
   "metadata": {},
   "outputs": [
    {
     "name": "stdout",
     "output_type": "stream",
     "text": [
      "line num 4226 head 100 {\"matchId\":642920796,\"sourceSystem\":\"Hattrick\",\"matchType\":4,\"leagueId\":30,\"leagueName\":\"대한민국\",\"lluI\n",
      "LastKeeper HomeTeam\n"
     ]
    }
   ],
   "source": [
    "match_player = HattrickMatch.findMatchList(folder + '/match.html', 'mydatabase', ht_player_table_name)\n",
    "# match_dict_list = HattrickMatch.findMatchList(folder + '/match.html', 'mydatabase', ht_player_table_name)"
   ]
  },
  {
   "cell_type": "code",
   "execution_count": 14,
   "metadata": {
    "scrolled": true
   },
   "outputs": [
    {
     "name": "stdout",
     "output_type": "stream",
     "text": [
      "po,num,rt,sMin,eMin\n",
      "KP,84,6.0,0,91\n",
      "WB,61,4.5,0,91\n",
      "CD,40,6.0,0,55\n",
      "CD,4,4.0,55,91\n",
      "CD,83,4.5,0,91\n",
      "WB,80,5.5,0,91\n",
      "W,8,3.5,0,91\n",
      "IM,10,5.0,0,91\n",
      "IM,79,7.0,0,55\n",
      "IM,34,4.5,55,91\n",
      "W,13,4.5,0,55\n",
      "W,65,4.0,55,91\n",
      "FW,48,4.5,0,91\n",
      "FW,85,3.5,0,91\n"
     ]
    }
   ],
   "source": [
    "HattrickMatch.print_match_player(match_player)"
   ]
  },
  {
   "cell_type": "code",
   "execution_count": 15,
   "metadata": {},
   "outputs": [],
   "source": [
    "HattrickMatch.save_match_player(folder+'/match.txt', match_player)"
   ]
  },
  {
   "cell_type": "code",
   "execution_count": 16,
   "metadata": {},
   "outputs": [],
   "source": [
    "# HattrickFile.check_and_delete_file(folder + '/match.txt')"
   ]
  },
  {
   "cell_type": "code",
   "execution_count": 17,
   "metadata": {},
   "outputs": [],
   "source": [
    "import psycopg2"
   ]
  },
  {
   "cell_type": "code",
   "execution_count": 40,
   "metadata": {},
   "outputs": [
    {
     "data": {
      "text/plain": [
       "<connection object at 0x7f440112f9c8; dsn: 'user=myuser password=xxx dbname=mydatabase host=localhost port=65432', closed: 0>"
      ]
     },
     "execution_count": 40,
     "metadata": {},
     "output_type": "execute_result"
    }
   ],
   "source": [
    "conn = psycopg2.connect(\"dbname='mydatabase' user='myuser' host='localhost' port='65432' password='123qwe'\")\n",
    "conn"
   ]
  },
  {
   "cell_type": "code",
   "execution_count": 19,
   "metadata": {},
   "outputs": [],
   "source": [
    "# def dropMatchTable():\n",
    "#     conn = None\n",
    "#     try:\n",
    "#         conn = psycopg2.connect(\"dbname='mydatabase' user='myuser' host='localhost' port='65432' password='123qwe'\")\n",
    "#         cur = conn.cursor()\n",
    "#         sql = \"\"\"DROP TABLE IF EXISTS match ; \"\"\"\n",
    "#         cur.execute(sql)\n",
    "#         conn.commit()\n",
    "#     except(Exception, psycopg2.DatabaseError) as error:\n",
    "#         print(error)\n",
    "#     finally:\n",
    "#         if conn is not None:\n",
    "#             conn.close()"
   ]
  },
  {
   "cell_type": "code",
   "execution_count": 20,
   "metadata": {},
   "outputs": [],
   "source": [
    "#dropMatchTable()"
   ]
  },
  {
   "cell_type": "code",
   "execution_count": 21,
   "metadata": {},
   "outputs": [],
   "source": [
    "# def createMatchTable():\n",
    "#     conn = None\n",
    "#     try:\n",
    "#         conn = psycopg2.connect(\"dbname='mydatabase' user='myuser' host='localhost' port='65432' password='123qwe'\")\n",
    "#         cur = conn.cursor()\n",
    "#         sql = \"\"\"\n",
    "# CREATE TABLE match (\n",
    "#     Date DATE,          --01\n",
    "#     Po   VARCHAR(5),    --02 Position\n",
    "#     Num  INT,           --03 Number\n",
    "#     RT   NUMERIC(2, 1), --04 Rating\n",
    "#     sMin INT,           --05 Start Min\n",
    "#     eMin INT            --06 End Min\n",
    "# ) ; \"\"\"\n",
    "#         cur.execute(sql)\n",
    "#         conn.commit()\n",
    "#     except(Exception, psycopg2.DatabaseError) as error:\n",
    "#         print(error)\n",
    "#     finally:\n",
    "#         if conn is not None:\n",
    "#             conn.close()"
   ]
  },
  {
   "cell_type": "code",
   "execution_count": 22,
   "metadata": {},
   "outputs": [],
   "source": [
    "# createMatchTable()"
   ]
  },
  {
   "cell_type": "code",
   "execution_count": 23,
   "metadata": {},
   "outputs": [],
   "source": [
    "hattrickMatchPostgresql = HattrickMatchPostgreSQL()\n",
    "hattrickPlayerPostgresql = HattrickPlayerPostgreSQL()"
   ]
  },
  {
   "cell_type": "code",
   "execution_count": 24,
   "metadata": {},
   "outputs": [
    {
     "data": {
      "text/plain": [
       "1885"
      ]
     },
     "execution_count": 24,
     "metadata": {},
     "output_type": "execute_result"
    }
   ],
   "source": [
    "hattrickMatchPostgresql.select_count_of_match(conn)"
   ]
  },
  {
   "cell_type": "code",
   "execution_count": 25,
   "metadata": {},
   "outputs": [],
   "source": [
    "import csv\n",
    "with open(folder + '/match.txt', 'r', encoding='utf-8') as f:\n",
    "    reader = csv.reader(f, delimiter=',')\n",
    "    for row in reader:\n",
    "        if(re.match( '^[0-9]{1,2}', row[1] ) ) :\n",
    "            hattrickMatchPostgresql.insert_to_match(conn, folder.replace('/', '-'), row)"
   ]
  },
  {
   "cell_type": "code",
   "execution_count": 26,
   "metadata": {},
   "outputs": [
    {
     "data": {
      "text/plain": [
       "1899"
      ]
     },
     "execution_count": 26,
     "metadata": {},
     "output_type": "execute_result"
    }
   ],
   "source": [
    "hattrickMatchPostgresql.select_count_of_match(conn)"
   ]
  },
  {
   "cell_type": "code",
   "execution_count": 27,
   "metadata": {},
   "outputs": [],
   "source": [
    "hattrickMatchPostgresql.update_rt_of_match(conn, ht_player_table_name)"
   ]
  },
  {
   "cell_type": "code",
   "execution_count": 28,
   "metadata": {
    "scrolled": false
   },
   "outputs": [
    {
     "name": "stdout",
     "output_type": "stream",
     "text": [
      "KP\t84\t6.0\t0\t91\n",
      "WB\t61\t4.5\t0\t91\n",
      "WB\t80\t5.5\t0\t91\n",
      "CD\t40\t6.0\t0\t55\n",
      "CD\t4\t4.0\t55\t91\n",
      "CD\t83\t4.5\t0\t91\n",
      "W\t13\t4.5\t0\t55\n",
      "W\t65\t4.0\t55\t91\n",
      "W\t8\t3.5\t0\t91\n",
      "IM\t79\t7.0\t0\t55\n",
      "IM\t34\t4.5\t55\t91\n",
      "IM\t10\t5.0\t0\t91\n",
      "FW\t48\t4.5\t0\t91\n",
      "FW\t85\t3.5\t0\t91\n"
     ]
    }
   ],
   "source": [
    "tupleList = hattrickMatchPostgresql.getMatchByDate(folder, conn)\n",
    "hattrickMatchPostgresql.printMatchByDate(tupleList)"
   ]
  },
  {
   "cell_type": "code",
   "execution_count": 29,
   "metadata": {
    "scrolled": true
   },
   "outputs": [
    {
     "name": "stdout",
     "output_type": "stream",
     "text": [
      "2019/06/23/match.txt\t : will be removed\n",
      "2019/06/23/match.txt\t : is not existed\n"
     ]
    }
   ],
   "source": [
    "HattrickFile.check_and_delete_file(folder + '/match.txt')"
   ]
  },
  {
   "cell_type": "code",
   "execution_count": 30,
   "metadata": {},
   "outputs": [],
   "source": [
    "with open ( folder + '/match.txt', 'a' ) as f:\n",
    "    f.write(\"po,num,rt,sMin,eMin\\n\")\n",
    "    f.write( '\\n'.join('%s,%s,%s,%s,%s' % myTuple for myTuple in tupleList) + '\\n' )"
   ]
  },
  {
   "cell_type": "code",
   "execution_count": 31,
   "metadata": {
    "scrolled": true
   },
   "outputs": [
    {
     "name": "stdout",
     "output_type": "stream",
     "text": [
      "date num min/rt |    02   |    84   |\n",
      "----------------|---------|---------|\n",
      "2019-05-29      |  93/9.5 |         |\n",
      "2019-06-02      |         |  94/6.0 |\n",
      "2019-06-05      |  92/8.5 |         |\n",
      "2019-06-09      |         |  93/6.5 |\n",
      "2019-06-12      |  93/8.5 |         |\n",
      "2019-06-16      |         |  91/6.0 |\n",
      "2019-06-19      |  91/8.0 |         |\n",
      "2019-06-23      |         |  91/6.0 |\n"
     ]
    }
   ],
   "source": [
    "tupleList = hattrickMatchPostgresql.getMatchByPoNum(conn, 'KP', [2,84])\n",
    "hattrickMatchPostgresql.printMatchByPoNum(tupleList, [2,84])"
   ]
  },
  {
   "cell_type": "code",
   "execution_count": 32,
   "metadata": {
    "scrolled": true
   },
   "outputs": [
    {
     "name": "stdout",
     "output_type": "stream",
     "text": [
      "date num min/rt |    61   |    78   |    80   |    81   |    83   |\n",
      "----------------|---------|---------|---------|---------|---------|\n",
      "2019-05-29      |         |  93/4.5 |         |  93/4.0 |         |\n",
      "2019-06-02      |  94/4.5 |         |  94/5.0 |         |         |\n",
      "2019-06-05      |         |  92/4.5 |         |  92/4.5 |         |\n",
      "2019-06-09      |  93/4.5 |         |  93/5.5 |         |         |\n",
      "2019-06-12      |         |  93/5.0 |         |  93/5.0 |         |\n",
      "2019-06-16      |  91/4.0 |         |  91/5.5 |         |         |\n",
      "2019-06-19      |         |  91/5.0 |         |  91/5.0 |         |\n",
      "2019-06-23      |  91/4.5 |         |  91/5.5 |         |         |\n",
      "+----+-------+-------+---------+---------+--------+----------+---------+----------+-------+\n",
      "|    |   num | b_p   |   b_p_v |   wbd_p |   wb_p |   wbtm_p |   wbo_p | idxmax   |   max |\n",
      "|----+-------+-------+---------+---------+--------+----------+---------+----------+-------|\n",
      "|  0 |    61 | WBd   |    8.76 |    8.76 |   8.53 |     8.43 |    8.3  | wbd_p    |  8.76 |\n",
      "|  1 |    78 | WBd   |    7.69 |    7.69 |   7.22 |     7.17 |    6.73 | wbd_p    |  7.69 |\n",
      "|  2 |    80 | WBd   |    9.92 |    9.92 |   9.7  |     9.59 |    9.46 | wbd_p    |  9.92 |\n",
      "|  3 |    81 | WBd   |    9.1  |    9.1  |   8.81 |     8.87 |    8.52 | wbd_p    |  9.1  |\n",
      "|  4 |    83 | CDtw  |    8.07 |    8.03 |   7.7  |     7.83 |    7.36 | wbd_p    |  8.03 |\n",
      "+----+-------+-------+---------+---------+--------+----------+---------+----------+-------+\n"
     ]
    }
   ],
   "source": [
    "tupleList = hattrickMatchPostgresql.getMatchByPoNum(conn, 'WB', [61,78,80,81,83])\n",
    "hattrickMatchPostgresql.printMatchByPoNum(tupleList, [61,78,80,81,83])\n",
    "hattrickPlayerPostgresql.select(conn, ht_player_table_name, folder, [61,78,80,81,83], 'wb')"
   ]
  },
  {
   "cell_type": "code",
   "execution_count": 33,
   "metadata": {
    "scrolled": false
   },
   "outputs": [
    {
     "name": "stdout",
     "output_type": "stream",
     "text": [
      "date num min/rt |    04   |    40   |    52   |    70   |    83   |\n",
      "----------------|---------|---------|---------|---------|---------|\n",
      "2019-05-29      |         |  47/6.0 |  46/4.5 |  93/4.5 |         |\n",
      "2019-06-02      |  39/4.5 |  55/6.0 |         |         |  94/4.5 |\n",
      "2019-06-05      |         |  46/6.0 |  46/4.0 |  92/4.5 |         |\n",
      "2019-06-09      |  38/4.5 |  55/6.0 |         |         |  93/4.5 |\n",
      "2019-06-12      |         |  47/6.0 |  46/4.5 |  93/4.5 |         |\n",
      "2019-06-16      |  36/4.5 |  55/6.0 |         |         |  91/4.5 |\n",
      "2019-06-19      |         |  45/6.0 |  46/5.0 |  91/4.5 |         |\n",
      "2019-06-23      |  36/4.0 |  55/6.0 |         |         |  91/4.5 |\n",
      "+----+-------+-------+---------+--------+----------+---------+----------+-------+\n",
      "|    |   num | b_p   |   b_p_v |   cd_p |   cdtw_p |   cdo_p | idxmax   |   max |\n",
      "|----+-------+-------+---------+--------+----------+---------+----------+-------|\n",
      "|  0 |     4 | CDtw  |    7.24 |   7.19 |     7.24 |    6.69 | cdtw_p   |  7.24 |\n",
      "|  1 |    40 | CD    |   10.56 |  10.56 |    10.14 |   10.2  | cd_p     | 10.56 |\n",
      "|  2 |    52 | CD    |    9.04 |   9.04 |     9.04 |    9.04 | cd_p     |  9.04 |\n",
      "|  3 |    70 | CD    |    8.48 |   8.48 |     8.45 |    7.98 | cd_p     |  8.48 |\n",
      "|  4 |    83 | CDtw  |    8.07 |   8.02 |     8.07 |    7.46 | cdtw_p   |  8.07 |\n",
      "+----+-------+-------+---------+--------+----------+---------+----------+-------+\n"
     ]
    }
   ],
   "source": [
    "tupleList = hattrickMatchPostgresql.getMatchByPoNum(conn, 'CD', [4,40,52,70,83])\n",
    "hattrickMatchPostgresql.printMatchByPoNum(tupleList, [4,40,52,70,83])\n",
    "hattrickPlayerPostgresql.select(conn, ht_player_table_name, folder, [4,40,52,70,83], 'cd')"
   ]
  },
  {
   "cell_type": "code",
   "execution_count": 34,
   "metadata": {
    "scrolled": true
   },
   "outputs": [
    {
     "name": "stdout",
     "output_type": "stream",
     "text": [
      "date num min/rt |    08   |    11   |    13   |    15   |    65   |    86   |\n",
      "----------------|---------|---------|---------|---------|---------|---------|\n",
      "2019-05-29      |         |  38/4.0 |  55/5.0 |  93/4.5 |         |         |\n",
      "2019-06-02      |  94/4.0 |         |  50/4.5 |         |  44/5.0 |         |\n",
      "2019-06-05      |         |  37/3.5 |  55/4.5 |  92/4.5 |         |         |\n",
      "2019-06-09      |  93/4.0 |         |  50/5.0 |         |  43/4.5 |         |\n",
      "2019-06-12      |         |  38/3.5 |  55/5.0 |  93/5.0 |         |         |\n",
      "2019-06-16      |  91/4.0 |         |  55/5.0 |         |  36/4.0 |         |\n",
      "2019-06-19      |         |  36/4.0 |  55/5.0 |  91/5.0 |         |         |\n",
      "2019-06-23      |  91/3.5 |         |  55/4.5 |         |  36/4.0 |         |\n",
      "+----+-------+-------+---------+--------+-------+---------+--------+----------+-------+\n",
      "|    |   num | b_p   |   b_p_v |   wd_p |   w_p |   wtm_p |   wo_p | idxmax   |   max |\n",
      "|----+-------+-------+---------+--------+-------+---------+--------+----------+-------|\n",
      "|  0 |     8 | IMtw  |    6.46 |   6.22 |  6.32 |    6.38 |   6.24 | wtm_p    |  6.38 |\n",
      "|  1 |    11 | IMd   |    7.33 |   6.57 |  6.63 |    6.81 |   6.31 | wtm_p    |  6.81 |\n",
      "|  2 |    13 | IMtw  |    7.72 |   7.54 |  7.66 |    7.69 |   7.66 | wtm_p    |  7.69 |\n",
      "|  3 |    15 | Wo    |    7.58 |   7.33 |  7.38 |    7.28 |   7.58 | wo_p     |  7.58 |\n",
      "|  4 |    65 | CD    |    5.71 |   5.44 |  5.34 |    5.33 |   5.29 | wd_p     |  5.44 |\n",
      "|  5 |    86 | Wo    |    8.39 |   7.49 |  7.75 |    7.5  |   8.39 | wo_p     |  8.39 |\n",
      "+----+-------+-------+---------+--------+-------+---------+--------+----------+-------+\n"
     ]
    }
   ],
   "source": [
    "tupleList = hattrickMatchPostgresql.getMatchByPoNum(conn, 'W', [8,11,13,15,65,86])\n",
    "hattrickMatchPostgresql.printMatchByPoNum(tupleList, [8,11,13,15,65,86])\n",
    "hattrickPlayerPostgresql.select(conn, ht_player_table_name, folder, [8,11,13,15,65,86], 'w')"
   ]
  },
  {
   "cell_type": "code",
   "execution_count": 41,
   "metadata": {
    "scrolled": false
   },
   "outputs": [
    {
     "name": "stdout",
     "output_type": "stream",
     "text": [
      "date num min/rt |    10   |    11   |    12   |    25   |    34   |    79   |\n",
      "----------------|---------|---------|---------|---------|---------|---------|\n",
      "2019-05-29      |         |         |  50/4.0 |  43/4.0 |         |  93/7.0 |\n",
      "2019-06-02      |  94/5.0 |         |         |  39/4.0 |  55/4.5 |         |\n",
      "2019-06-05      |         |         |  55/4.5 |  37/4.0 |         |  92/7.0 |\n",
      "2019-06-09      |  93/5.0 |         |         |         |         |  93/7.0 |\n",
      "2019-06-12      |         |         |  55/4.0 |  38/4.5 |         |  93/7.0 |\n",
      "2019-06-16      |  91/5.0 |         |         |         |  36/4.5 |  55/6.5 |\n",
      "2019-06-19      |         |         |  55/4.5 |         |  36/4.5 |  91/6.0 |\n",
      "2019-06-23      |  91/5.0 |         |         |         |  36/4.5 |  55/7.0 |\n",
      "+----+-------+-------+---------+---------+--------+----------+---------+----------+-------+\n",
      "|    |   num | b_p   |   b_p_v |   imd_p |   im_p |   imtw_p |   imo_p | idxmax   |   max |\n",
      "|----+-------+-------+---------+---------+--------+----------+---------+----------+-------|\n",
      "|  0 |    10 | Cdo   |    8.39 |    8.32 |   8.15 |     7.99 |    7.94 | imd_p    |  8.32 |\n",
      "|  1 |    11 | IMd   |    7.33 |    7.33 |   7.3  |     7.09 |    7.25 | imd_p    |  7.33 |\n",
      "|  2 |    12 | IMo   |    7.82 |    7.72 |   7.79 |     7.58 |    7.82 | imo_p    |  7.82 |\n",
      "|  3 |    25 | CD    |    6.94 |    6.85 |   6.8  |     6.68 |    6.74 | imd_p    |  6.85 |\n",
      "|  4 |    34 | CD    |    7.06 |    6.91 |   6.81 |     6.56 |    6.69 | imd_p    |  6.91 |\n",
      "|  5 |    79 | IMd   |   11.33 |   11.33 |  11.31 |    10.9  |   11.24 | imd_p    | 11.33 |\n",
      "+----+-------+-------+---------+---------+--------+----------+---------+----------+-------+\n"
     ]
    }
   ],
   "source": [
    "tupleList = hattrickMatchPostgresql.getMatchByPoNum(conn, 'IM', [10,11,12,25,34,79])\n",
    "hattrickMatchPostgresql.printMatchByPoNum(tupleList, [10,11,12,25,34,79])\n",
    "hattrickPlayerPostgresql.select(conn, ht_player_table_name, folder, [10,11,12,25,34,79], 'im')"
   ]
  },
  {
   "cell_type": "code",
   "execution_count": 36,
   "metadata": {
    "scrolled": false
   },
   "outputs": [
    {
     "name": "stdout",
     "output_type": "stream",
     "text": [
      "date num min/rt |    16   |    31   |    48   |    55   |\n",
      "----------------|---------|---------|---------|---------|\n",
      "2019-05-29      |  93/6.0 |         |         |  93/4.5 |\n",
      "2019-06-02      |         |  94/5.0 |  94/4.5 |         |\n",
      "2019-06-05      |  92/5.5 |         |         |  92/5.0 |\n",
      "2019-06-09      |         |  93/5.0 |  93/4.5 |         |\n",
      "2019-06-12      |  93/5.5 |         |         |  93/5.0 |\n",
      "2019-06-16      |         |  91/5.0 |  91/4.5 |         |\n",
      "2019-06-19      |         |  91/5.0 |         |  91/5.5 |\n",
      "2019-06-23      |         |         |  91/4.5 |         |\n",
      "+----+-------+-------+---------+--------+---------+----------+---------+----------+-------+\n",
      "|    |   num | b_p   |   b_p_v |   fw_p |   fwd_p |   fwtw_p |   tdf_p | idxmax   |   max |\n",
      "|----+-------+-------+---------+--------+---------+----------+---------+----------+-------|\n",
      "|  0 |    16 | FWtw  |    7.33 |   7.04 |    6.27 |     7.33 |    0    | fwtw_p   |  7.33 |\n",
      "|  1 |    31 | FWtw  |    7.48 |   7.47 |    6.83 |     7.48 |    0    | fwtw_p   |  7.48 |\n",
      "|  2 |    48 | TDF   |    6.77 |   6.69 |    0    |     6.77 |    6.77 | fwtw_p   |  6.77 |\n",
      "|  3 |    55 | IMd   |    7.5  |   7.5  |    7.01 |     7.29 |    0    | fw_p     |  7.5  |\n",
      "+----+-------+-------+---------+--------+---------+----------+---------+----------+-------+\n"
     ]
    }
   ],
   "source": [
    "tupleList = hattrickMatchPostgresql.getMatchByPoNum(conn, 'FW', [16,31,48,55])\n",
    "hattrickMatchPostgresql.printMatchByPoNum(tupleList, [16,31,48,55])\n",
    "hattrickPlayerPostgresql.select(conn, ht_player_table_name, folder, [16,31,48,55], 'fw')"
   ]
  },
  {
   "cell_type": "code",
   "execution_count": 37,
   "metadata": {},
   "outputs": [
    {
     "name": "stdout",
     "output_type": "stream",
     "text": [
      "<connection object at 0x7f440112f508; dsn: 'user=myuser password=xxx dbname=mydatabase host=localhost port=65432', closed: 1>\n"
     ]
    }
   ],
   "source": [
    "conn.close()\n",
    "print(conn)"
   ]
  },
  {
   "cell_type": "code",
   "execution_count": 38,
   "metadata": {},
   "outputs": [
    {
     "name": "stdout",
     "output_type": "stream",
     "text": [
      "None\n"
     ]
    }
   ],
   "source": [
    "conn = None\n",
    "print(conn)"
   ]
  },
  {
   "cell_type": "code",
   "execution_count": null,
   "metadata": {},
   "outputs": [],
   "source": []
  }
 ],
 "metadata": {
  "kernelspec": {
   "display_name": "Python 3",
   "language": "python",
   "name": "python3"
  },
  "language_info": {
   "codemirror_mode": {
    "name": "ipython",
    "version": 3
   },
   "file_extension": ".py",
   "mimetype": "text/x-python",
   "name": "python",
   "nbconvert_exporter": "python",
   "pygments_lexer": "ipython3",
   "version": "3.6.7"
  }
 },
 "nbformat": 4,
 "nbformat_minor": 2
}
