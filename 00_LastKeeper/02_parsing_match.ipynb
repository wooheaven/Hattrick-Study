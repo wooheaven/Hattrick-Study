{
 "cells": [
  {
   "cell_type": "code",
   "execution_count": null,
   "metadata": {
    "scrolled": true
   },
   "outputs": [],
   "source": [
    "import sys\n",
    "\n",
    "sys.path.insert(0, '../03_Remake_with_TDD/algorithms')\n",
    "from ht_time import *\n",
    "\n",
    "sys.path.insert(0, '../03_Remake_with_TDD/postgresql')\n",
    "from ht_player_postgresql import *\n",
    "from ht_match_postgresql import *"
   ]
  },
  {
   "cell_type": "code",
   "execution_count": null,
   "metadata": {},
   "outputs": [],
   "source": [
    "ht_time = HattrickTime()\n",
    "folder = ht_time.findLastSunOrWed()\n",
    "# folder = ht_time.findLastSunOrWed('2018/06/13')\n",
    "# folder = \"2019/05/08\"\n",
    "print(\"folder =\", folder)"
   ]
  },
  {
   "cell_type": "code",
   "execution_count": null,
   "metadata": {},
   "outputs": [],
   "source": [
    "import re\n",
    "from bs4 import BeautifulSoup"
   ]
  },
  {
   "cell_type": "code",
   "execution_count": null,
   "metadata": {
    "scrolled": true
   },
   "outputs": [],
   "source": [
    "sys.path.insert(0, '../97_Parse/')\n",
    "from parseMatch import *\n",
    "\n",
    "sys.path.insert(0, '../98_Crawler/01_DualMonitor/')\n",
    "from DualMonitor import getIsDualMonitor\n",
    "\n",
    "sys.path.insert(0, '../98_Crawler/02_WebBrowser/')\n",
    "from FirefoxTab import clickTabOfFireFox\n",
    "from crawMatch import *\n",
    "\n",
    "sys.path.insert(0, '../98_Crawler/03_OnScreen/')\n",
    "from Empty import clickEmpty\n",
    "from MoveScroll import moveScroll\n",
    "from MoveFindMoveClick import moveByImage, moveByImageWithModify\n",
    "sys.path.insert(0, '../98_Crawler/04_Login/')\n",
    "from HattrickLogInOut import clickHattrickLogin2, clickHattrickLogout"
   ]
  },
  {
   "cell_type": "code",
   "execution_count": null,
   "metadata": {},
   "outputs": [],
   "source": [
    "# isDualMonitor\n",
    "isDualMonitor = getIsDualMonitor()"
   ]
  },
  {
   "cell_type": "code",
   "execution_count": null,
   "metadata": {},
   "outputs": [],
   "source": [
    "# Hattrick LastKeeper Tab\n",
    "clickTabOfFireFox(4, isDualMonitor)\n",
    "\n",
    "# Hattrick Login\n",
    "clickEmpty(305, isDualMonitor)\n",
    "moveScroll(20)\n",
    "clickHattrickLogin2(495, 574, isDualMonitor)"
   ]
  },
  {
   "cell_type": "code",
   "execution_count": null,
   "metadata": {},
   "outputs": [],
   "source": [
    "# Hattrick LastKeeper Tab\n",
    "clickTabOfFireFox(4, isDualMonitor)\n",
    "\n",
    "# Hattrick MyClub\n",
    "moveScroll(20)\n",
    "time.sleep(8)\n",
    "moveByImage(517, 336, 79, 44, isDualMonitor, 'screen-MyClub.png')\n",
    "\n",
    "# Hattrick Match\n",
    "clickEmpty(670, isDualMonitor)\n",
    "moveScroll(20)\n",
    "moveByImage(400, 677, 53, 52, isDualMonitor, 'screen-Match.png')\n",
    "\n",
    "# Hattrick LastMatch\n",
    "clickEmpty(800, isDualMonitor)\n",
    "moveScroll(20)\n",
    "# moveByImageWithModify(1040, 831, 15, -15, 58, 48, isDualMonitor, 'screen-LastMatch.png')\n",
    "moveAndClick(1095, 795, isDualMonitor)\n",
    "time.sleep(5)\n",
    "\n",
    "# FirefoxFile\n",
    "moveAndClick(90, 15, isDualMonitor)\n",
    "\n",
    "# SavePageAs\n",
    "moveAndClick(91, 130, isDualMonitor)\n",
    "\n",
    "# Type match\n",
    "time.sleep(0.5)\n",
    "typeFileName()\n",
    "\n",
    "# rwoo folder\n",
    "moveAndClick(550, 313, isDualMonitor)\n",
    "moveAndClick(550, 313, isDualMonitor)\n",
    "\n",
    "# 02_workspace folder\n",
    "moveAndClicks(880, 400, isDualMonitor, 2)\n",
    "\n",
    "# 04_Hattrick folder\n",
    "moveAndClicks(880, 455, isDualMonitor, 2)\n",
    "\n",
    "# HattrickStudy\n",
    "moveAndClicks(880, 377, isDualMonitor, 2)\n",
    "\n",
    "# 00_LastKeeper\n",
    "moveAndClicks(880, 375, isDualMonitor, 2)\n",
    "\n",
    "# 2018\n",
    "moveAndClicks(880, 420, isDualMonitor, 2)\n",
    "\n",
    "# Last Month\n",
    "clickLastMonthOrDay()\n",
    "\n",
    "# Last Day\n",
    "clickLastMonthOrDay()\n",
    "\n",
    "# Save\n",
    "moveAndClicks(1380, 895, isDualMonitor, 2)\n",
    "# moveByImage(1338, 883, 88, 35, isDualMonitor, 'screen-Save.png')\n",
    "\n",
    "# # Hattrick Logout by Facebook\n",
    "# clickEmpty(370, isDualMonitor)\n",
    "# moveScroll(20)\n",
    "# clickHattrickLogout(1275, 370, isDualMonitor)\n",
    "\n",
    "# Jupyter Tab\n",
    "clickTabOfFireFox(6, isDualMonitor)"
   ]
  },
  {
   "cell_type": "code",
   "execution_count": null,
   "metadata": {},
   "outputs": [],
   "source": [
    "from ht_file import *\n",
    "HattrickFile = HattrickFile()"
   ]
  },
  {
   "cell_type": "code",
   "execution_count": null,
   "metadata": {},
   "outputs": [],
   "source": [
    "HattrickFile.check_and_delete_folder(folder + '/match_files')"
   ]
  },
  {
   "cell_type": "code",
   "execution_count": null,
   "metadata": {},
   "outputs": [],
   "source": [
    "from ht_match import *"
   ]
  },
  {
   "cell_type": "code",
   "execution_count": null,
   "metadata": {},
   "outputs": [],
   "source": [
    "HattrickMatch = HattrickMatch()"
   ]
  },
  {
   "cell_type": "code",
   "execution_count": null,
   "metadata": {},
   "outputs": [],
   "source": [
    "# ht_player_table_name = 'player'\n",
    "ht_player_table_name = 'player_tmp'"
   ]
  },
  {
   "cell_type": "code",
   "execution_count": null,
   "metadata": {},
   "outputs": [],
   "source": [
    "match_player = HattrickMatch.findMatchList(folder + '/match.html', 'mydatabase', ht_player_table_name)\n",
    "# match_dict_list = HattrickMatch.findMatchList(folder + '/match.html', 'mydatabase', ht_player_table_name)"
   ]
  },
  {
   "cell_type": "code",
   "execution_count": null,
   "metadata": {
    "scrolled": true
   },
   "outputs": [],
   "source": [
    "HattrickMatch.print_match_player(match_player)"
   ]
  },
  {
   "cell_type": "code",
   "execution_count": null,
   "metadata": {},
   "outputs": [],
   "source": [
    "HattrickMatch.save_match_player(folder+'/match.txt', match_player)"
   ]
  },
  {
   "cell_type": "code",
   "execution_count": null,
   "metadata": {},
   "outputs": [],
   "source": [
    "# HattrickFile.check_and_delete_file(folder + '/match.txt')"
   ]
  },
  {
   "cell_type": "code",
   "execution_count": null,
   "metadata": {},
   "outputs": [],
   "source": [
    "import psycopg2"
   ]
  },
  {
   "cell_type": "code",
   "execution_count": null,
   "metadata": {},
   "outputs": [],
   "source": [
    "conn = psycopg2.connect(\"dbname='mydatabase' user='myuser' host='localhost' port='65432' password='123qwe'\")\n",
    "conn"
   ]
  },
  {
   "cell_type": "code",
   "execution_count": null,
   "metadata": {},
   "outputs": [],
   "source": [
    "# def dropMatchTable():\n",
    "#     conn = None\n",
    "#     try:\n",
    "#         conn = psycopg2.connect(\"dbname='mydatabase' user='myuser' host='localhost' port='65432' password='123qwe'\")\n",
    "#         cur = conn.cursor()\n",
    "#         sql = \"\"\"DROP TABLE IF EXISTS match ; \"\"\"\n",
    "#         cur.execute(sql)\n",
    "#         conn.commit()\n",
    "#     except(Exception, psycopg2.DatabaseError) as error:\n",
    "#         print(error)\n",
    "#     finally:\n",
    "#         if conn is not None:\n",
    "#             conn.close()"
   ]
  },
  {
   "cell_type": "code",
   "execution_count": null,
   "metadata": {},
   "outputs": [],
   "source": [
    "#dropMatchTable()"
   ]
  },
  {
   "cell_type": "code",
   "execution_count": null,
   "metadata": {},
   "outputs": [],
   "source": [
    "# def createMatchTable():\n",
    "#     conn = None\n",
    "#     try:\n",
    "#         conn = psycopg2.connect(\"dbname='mydatabase' user='myuser' host='localhost' port='65432' password='123qwe'\")\n",
    "#         cur = conn.cursor()\n",
    "#         sql = \"\"\"\n",
    "# CREATE TABLE match (\n",
    "#     Date DATE,          --01\n",
    "#     Po   VARCHAR(5),    --02 Position\n",
    "#     Num  INT,           --03 Number\n",
    "#     RT   NUMERIC(2, 1), --04 Rating\n",
    "#     sMin INT,           --05 Start Min\n",
    "#     eMin INT            --06 End Min\n",
    "# ) ; \"\"\"\n",
    "#         cur.execute(sql)\n",
    "#         conn.commit()\n",
    "#     except(Exception, psycopg2.DatabaseError) as error:\n",
    "#         print(error)\n",
    "#     finally:\n",
    "#         if conn is not None:\n",
    "#             conn.close()"
   ]
  },
  {
   "cell_type": "code",
   "execution_count": null,
   "metadata": {},
   "outputs": [],
   "source": [
    "# createMatchTable()"
   ]
  },
  {
   "cell_type": "code",
   "execution_count": null,
   "metadata": {},
   "outputs": [],
   "source": [
    "hattrickMatchPostgresql = HattrickMatchPostgreSQL()\n",
    "hattrickPlayerPostgresql = HattrickPlayerPostgreSQL()"
   ]
  },
  {
   "cell_type": "code",
   "execution_count": null,
   "metadata": {},
   "outputs": [],
   "source": [
    "hattrickMatchPostgresql.select_count_of_match(conn)"
   ]
  },
  {
   "cell_type": "code",
   "execution_count": null,
   "metadata": {},
   "outputs": [],
   "source": [
    "import csv\n",
    "with open(folder + '/match.txt', 'r', encoding='utf-8') as f:\n",
    "    reader = csv.reader(f, delimiter=',')\n",
    "    for row in reader:\n",
    "        if(re.match( '^[0-9]{1,2}', row[1] ) ) :\n",
    "            hattrickMatchPostgresql.insert_to_match(conn, folder.replace('/', '-'), row)"
   ]
  },
  {
   "cell_type": "code",
   "execution_count": null,
   "metadata": {},
   "outputs": [],
   "source": [
    "hattrickMatchPostgresql.select_count_of_match(conn)"
   ]
  },
  {
   "cell_type": "code",
   "execution_count": null,
   "metadata": {},
   "outputs": [],
   "source": [
    "hattrickMatchPostgresql.update_rt_of_match(conn, ht_player_table_name)"
   ]
  },
  {
   "cell_type": "code",
   "execution_count": null,
   "metadata": {
    "scrolled": false
   },
   "outputs": [],
   "source": [
    "tupleList = hattrickMatchPostgresql.getMatchByDate(folder, conn)\n",
    "hattrickMatchPostgresql.printMatchByDate(tupleList)"
   ]
  },
  {
   "cell_type": "code",
   "execution_count": null,
   "metadata": {
    "scrolled": true
   },
   "outputs": [],
   "source": [
    "HattrickFile.check_and_delete_file(folder + '/match.txt')"
   ]
  },
  {
   "cell_type": "code",
   "execution_count": null,
   "metadata": {},
   "outputs": [],
   "source": [
    "with open ( folder + '/match.txt', 'a' ) as f:\n",
    "    f.write(\"po,num,rt,sMin,eMin\\n\")\n",
    "    f.write( '\\n'.join('%s,%s,%s,%s,%s' % myTuple for myTuple in tupleList) + '\\n' )"
   ]
  },
  {
   "cell_type": "code",
   "execution_count": null,
   "metadata": {
    "scrolled": true
   },
   "outputs": [],
   "source": [
    "tupleList = hattrickMatchPostgresql.getMatchByPoNum(conn, 'KP', [2,84])\n",
    "hattrickMatchPostgresql.printMatchByPoNum(tupleList, [2,84])"
   ]
  },
  {
   "cell_type": "code",
   "execution_count": null,
   "metadata": {
    "scrolled": true
   },
   "outputs": [],
   "source": [
    "tupleList = hattrickMatchPostgresql.getMatchByPoNum(conn, 'WB', [61,78,80,81,83])\n",
    "hattrickMatchPostgresql.printMatchByPoNum(tupleList, [61,78,80,81,83])\n",
    "hattrickPlayerPostgresql.select(conn, ht_player_table_name, folder, [61,78,80,81,83], 'wb')"
   ]
  },
  {
   "cell_type": "code",
   "execution_count": null,
   "metadata": {
    "scrolled": false
   },
   "outputs": [],
   "source": [
    "tupleList = hattrickMatchPostgresql.getMatchByPoNum(conn, 'CD', [4,40,52,70,83])\n",
    "hattrickMatchPostgresql.printMatchByPoNum(tupleList, [4,40,52,70,83])\n",
    "hattrickPlayerPostgresql.select(conn, ht_player_table_name, folder, [4,40,52,70,83], 'cd')"
   ]
  },
  {
   "cell_type": "code",
   "execution_count": null,
   "metadata": {
    "scrolled": true
   },
   "outputs": [],
   "source": [
    "tupleList = hattrickMatchPostgresql.getMatchByPoNum(conn, 'W', [8,11,13,15,65])\n",
    "hattrickMatchPostgresql.printMatchByPoNum(tupleList, [8,11,13,15,65])\n",
    "hattrickPlayerPostgresql.select(conn, ht_player_table_name, folder, [8,11,13,15,65], 'w')"
   ]
  },
  {
   "cell_type": "code",
   "execution_count": null,
   "metadata": {
    "scrolled": false
   },
   "outputs": [],
   "source": [
    "tupleList = hattrickMatchPostgresql.getMatchByPoNum(conn, 'IM', [10,12,25,34,79])\n",
    "hattrickMatchPostgresql.printMatchByPoNum(tupleList, [10,12,25,34,79])\n",
    "hattrickPlayerPostgresql.select(conn, ht_player_table_name, folder, [10,12,25,34,79], 'im')"
   ]
  },
  {
   "cell_type": "code",
   "execution_count": null,
   "metadata": {
    "scrolled": false
   },
   "outputs": [],
   "source": [
    "tupleList = hattrickMatchPostgresql.getMatchByPoNum(conn, 'FW', [16,31,48,55])\n",
    "hattrickMatchPostgresql.printMatchByPoNum(tupleList, [16,31,48,55])\n",
    "hattrickPlayerPostgresql.select(conn, ht_player_table_name, folder, [16,31,48,55], 'fw')"
   ]
  },
  {
   "cell_type": "code",
   "execution_count": null,
   "metadata": {},
   "outputs": [],
   "source": [
    "conn.close()\n",
    "print(conn)"
   ]
  },
  {
   "cell_type": "code",
   "execution_count": null,
   "metadata": {},
   "outputs": [],
   "source": [
    "conn = None\n",
    "print(conn)"
   ]
  },
  {
   "cell_type": "code",
   "execution_count": null,
   "metadata": {},
   "outputs": [],
   "source": []
  }
 ],
 "metadata": {
  "kernelspec": {
   "display_name": "Python 3",
   "language": "python",
   "name": "python3"
  },
  "language_info": {
   "codemirror_mode": {
    "name": "ipython",
    "version": 3
   },
   "file_extension": ".py",
   "mimetype": "text/x-python",
   "name": "python",
   "nbconvert_exporter": "python",
   "pygments_lexer": "ipython3",
   "version": "3.6.7"
  }
 },
 "nbformat": 4,
 "nbformat_minor": 2
}
