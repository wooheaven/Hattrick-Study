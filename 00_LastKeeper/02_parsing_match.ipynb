{
 "cells": [
  {
   "cell_type": "code",
   "execution_count": 1,
   "metadata": {},
   "outputs": [
    {
     "name": "stderr",
     "output_type": "stream",
     "text": [
      "/home/rwoo/02_WorkSpace/04_Hattrick/Hattrick-Study/99_Utility/ht-venv/lib/python3.6/site-packages/psycopg2/__init__.py:144: UserWarning: The psycopg2 wheel package will be renamed from release 2.8; in order to keep installing from binary please use \"pip install psycopg2-binary\" instead. For details see: <http://initd.org/psycopg/docs/install.html#binary-install-from-pypi>.\n",
      "  \"\"\")\n"
     ]
    }
   ],
   "source": [
    "import sys\n",
    "\n",
    "sys.path.insert(0, '../03_Remake_with_TDD/algorithms')\n",
    "from ht_time import *\n",
    "\n",
    "sys.path.insert(0, '../03_Remake_with_TDD/postgresql')\n",
    "from ht_player_postgresql import *\n",
    "from ht_match_postgresql import *"
   ]
  },
  {
   "cell_type": "code",
   "execution_count": 2,
   "metadata": {},
   "outputs": [
    {
     "name": "stdout",
     "output_type": "stream",
     "text": [
      "folder = 2019/05/26\n"
     ]
    }
   ],
   "source": [
    "ht_time = HattrickTime()\n",
    "folder = ht_time.findLastSunOrWed()\n",
    "# folder = ht_time.findLastSunOrWed('2018/06/13')\n",
    "# folder = \"2019/05/08\"\n",
    "print(\"folder =\", folder)"
   ]
  },
  {
   "cell_type": "code",
   "execution_count": 3,
   "metadata": {},
   "outputs": [],
   "source": [
    "import re\n",
    "from bs4 import BeautifulSoup"
   ]
  },
  {
   "cell_type": "code",
   "execution_count": 4,
   "metadata": {
    "scrolled": true
   },
   "outputs": [],
   "source": [
    "sys.path.insert(0, '../97_Parse/')\n",
    "from parseMatch import *\n",
    "\n",
    "sys.path.insert(0, '../98_Crawler/01_DualMonitor/')\n",
    "from DualMonitor import getIsDualMonitor\n",
    "\n",
    "sys.path.insert(0, '../98_Crawler/02_WebBrowser/')\n",
    "from FirefoxTab import clickTabOfFireFox\n",
    "from crawMatch import *\n",
    "\n",
    "sys.path.insert(0, '../98_Crawler/03_OnScreen/')\n",
    "from Empty import clickEmpty\n",
    "from MoveScroll import moveScroll\n",
    "from MoveFindMoveClick import moveByImage, moveByImageWithModify\n",
    "sys.path.insert(0, '../98_Crawler/04_Login/')\n",
    "from HattrickLogInOut import clickHattrickLogin2, clickHattrickLogout"
   ]
  },
  {
   "cell_type": "code",
   "execution_count": 5,
   "metadata": {},
   "outputs": [
    {
     "name": "stdout",
     "output_type": "stream",
     "text": [
      "use 2 monitor = 3840 x 1080 isDualMonitor= True\n"
     ]
    }
   ],
   "source": [
    "# isDualMonitor\n",
    "isDualMonitor = getIsDualMonitor()"
   ]
  },
  {
   "cell_type": "code",
   "execution_count": 40,
   "metadata": {},
   "outputs": [],
   "source": [
    "# Hattrick LastKeeper Tab\n",
    "clickTabOfFireFox(4, isDualMonitor)\n",
    "\n",
    "# Hattrick Login\n",
    "clickEmpty(305, isDualMonitor)\n",
    "moveScroll(20)\n",
    "clickHattrickLogin2(495, 574, isDualMonitor)"
   ]
  },
  {
   "cell_type": "code",
   "execution_count": 8,
   "metadata": {},
   "outputs": [
    {
     "name": "stdout",
     "output_type": "stream",
     "text": [
      "screen-MyClub.png location on Screen ( 517 336 79 44 )\n",
      "re find\n",
      "screen-Match.png location on Screen ( 400 675 53 52 )\n"
     ]
    }
   ],
   "source": [
    "# Hattrick LastKeeper Tab\n",
    "clickTabOfFireFox(4, isDualMonitor)\n",
    "\n",
    "# Hattrick MyClub\n",
    "moveScroll(20)\n",
    "time.sleep(8)\n",
    "moveByImage(517, 336, 79, 44, isDualMonitor, 'screen-MyClub.png')\n",
    "\n",
    "# Hattrick Match\n",
    "clickEmpty(670, isDualMonitor)\n",
    "moveScroll(20)\n",
    "moveByImage(400, 677, 53, 52, isDualMonitor, 'screen-Match.png')\n",
    "\n",
    "# Hattrick LastMatch\n",
    "clickEmpty(800, isDualMonitor)\n",
    "moveScroll(20)\n",
    "# moveByImageWithModify(1040, 831, 15, -15, 58, 48, isDualMonitor, 'screen-LastMatch.png')\n",
    "moveAndClick(1095, 795, isDualMonitor)\n",
    "time.sleep(5)\n",
    "\n",
    "# FirefoxFile\n",
    "moveAndClick(90, 15, isDualMonitor)\n",
    "\n",
    "# SavePageAs\n",
    "moveAndClick(91, 130, isDualMonitor)\n",
    "\n",
    "# Type match\n",
    "time.sleep(0.5)\n",
    "typeFileName()\n",
    "\n",
    "# rwoo folder\n",
    "moveAndClick(550, 313, isDualMonitor)\n",
    "moveAndClick(550, 313, isDualMonitor)\n",
    "\n",
    "# 02_workspace folder\n",
    "moveAndClicks(880, 400, isDualMonitor, 2)\n",
    "\n",
    "# 04_Hattrick folder\n",
    "moveAndClicks(880, 455, isDualMonitor, 2)\n",
    "\n",
    "# HattrickStudy\n",
    "moveAndClicks(880, 377, isDualMonitor, 2)\n",
    "\n",
    "# 00_LastKeeper\n",
    "moveAndClicks(880, 375, isDualMonitor, 2)\n",
    "\n",
    "# 2018\n",
    "moveAndClicks(880, 420, isDualMonitor, 2)\n",
    "\n",
    "# Last Month\n",
    "clickLastMonthOrDay()\n",
    "\n",
    "# Last Day\n",
    "clickLastMonthOrDay()\n",
    "\n",
    "# Save\n",
    "moveAndClicks(1380, 895, isDualMonitor, 2)\n",
    "# moveByImage(1338, 883, 88, 35, isDualMonitor, 'screen-Save.png')\n",
    "\n",
    "# # Hattrick Logout by Facebook\n",
    "# clickEmpty(370, isDualMonitor)\n",
    "# moveScroll(20)\n",
    "# clickHattrickLogout(1275, 370, isDualMonitor)\n",
    "\n",
    "# Jupyter Tab\n",
    "clickTabOfFireFox(6, isDualMonitor)"
   ]
  },
  {
   "cell_type": "code",
   "execution_count": 9,
   "metadata": {},
   "outputs": [],
   "source": [
    "from ht_file import *\n",
    "HattrickFile = HattrickFile()"
   ]
  },
  {
   "cell_type": "code",
   "execution_count": 10,
   "metadata": {},
   "outputs": [
    {
     "name": "stdout",
     "output_type": "stream",
     "text": [
      "2019/05/26/match_files\t\t : is exitsted\n",
      "2019/05/26/match_files\t\t : will be removed\n",
      "2019/05/26/match_files\t\t : is not exitsed\n"
     ]
    }
   ],
   "source": [
    "HattrickFile.check_and_delete_folder(folder + '/match_files')"
   ]
  },
  {
   "cell_type": "code",
   "execution_count": 11,
   "metadata": {},
   "outputs": [],
   "source": [
    "from ht_match import *"
   ]
  },
  {
   "cell_type": "code",
   "execution_count": 12,
   "metadata": {},
   "outputs": [],
   "source": [
    "HattrickMatch = HattrickMatch()"
   ]
  },
  {
   "cell_type": "code",
   "execution_count": 13,
   "metadata": {},
   "outputs": [],
   "source": [
    "# ht_player_table_name = 'player'\n",
    "ht_player_table_name = 'player_tmp'"
   ]
  },
  {
   "cell_type": "code",
   "execution_count": 14,
   "metadata": {},
   "outputs": [
    {
     "name": "stdout",
     "output_type": "stream",
     "text": [
      "line num 4226 head 100 {\"matchId\":639970553,\"sourceSystem\":\"Hattrick\",\"matchType\":1,\"leagueId\":30,\"leagueName\":\"대한민국\",\"lluI\n"
     ]
    }
   ],
   "source": [
    "match_player = HattrickMatch.findMatchList(folder + '/match.html', 'mydatabase', ht_player_table_name)\n",
    "# match_dict_list = HattrickMatch.findMatchList(folder + '/match.html', 'mydatabase', ht_player_table_name)"
   ]
  },
  {
   "cell_type": "code",
   "execution_count": 15,
   "metadata": {},
   "outputs": [
    {
     "name": "stdout",
     "output_type": "stream",
     "text": [
      "po,num,rt,sMin,eMin\n",
      "KP,84,6.0,0,90\n",
      "WB,61,5.0,0,90\n",
      "CD,40,6.0,0,55\n",
      "CD,4,4.5,55,90\n",
      "CD,83,4.5,0,90\n",
      "WB,80,5.5,0,90\n",
      "W,8,4.0,0,90\n",
      "IM,10,5.0,0,90\n",
      "IM,34,4.5,0,55\n",
      "IM,25,4.5,55,90\n",
      "W,13,5.0,0,50\n",
      "W,65,4.5,50,90\n",
      "FW,31,5.0,0,90\n",
      "FW,48,4.5,0,90\n"
     ]
    }
   ],
   "source": [
    "HattrickMatch.print_match_player(match_player)"
   ]
  },
  {
   "cell_type": "code",
   "execution_count": 16,
   "metadata": {},
   "outputs": [],
   "source": [
    "HattrickMatch.save_match_player(folder+'/match.txt', match_player)"
   ]
  },
  {
   "cell_type": "code",
   "execution_count": 17,
   "metadata": {},
   "outputs": [],
   "source": [
    "# HattrickFile.check_and_delete_file(folder + '/match.txt')"
   ]
  },
  {
   "cell_type": "code",
   "execution_count": 18,
   "metadata": {},
   "outputs": [],
   "source": [
    "import psycopg2"
   ]
  },
  {
   "cell_type": "code",
   "execution_count": 19,
   "metadata": {},
   "outputs": [
    {
     "data": {
      "text/plain": [
       "<connection object at 0x7fe00d3dd9c8; dsn: 'user=myuser password=xxx dbname=mydatabase host=localhost port=65432', closed: 0>"
      ]
     },
     "execution_count": 19,
     "metadata": {},
     "output_type": "execute_result"
    }
   ],
   "source": [
    "conn = psycopg2.connect(\"dbname='mydatabase' user='myuser' host='localhost' port='65432' password='123qwe'\")\n",
    "conn"
   ]
  },
  {
   "cell_type": "code",
   "execution_count": 20,
   "metadata": {},
   "outputs": [],
   "source": [
    "# def dropMatchTable():\n",
    "#     conn = None\n",
    "#     try:\n",
    "#         conn = psycopg2.connect(\"dbname='mydatabase' user='myuser' host='localhost' port='65432' password='123qwe'\")\n",
    "#         cur = conn.cursor()\n",
    "#         sql = \"\"\"DROP TABLE IF EXISTS match ; \"\"\"\n",
    "#         cur.execute(sql)\n",
    "#         conn.commit()\n",
    "#     except(Exception, psycopg2.DatabaseError) as error:\n",
    "#         print(error)\n",
    "#     finally:\n",
    "#         if conn is not None:\n",
    "#             conn.close()"
   ]
  },
  {
   "cell_type": "code",
   "execution_count": 21,
   "metadata": {},
   "outputs": [],
   "source": [
    "#dropMatchTable()"
   ]
  },
  {
   "cell_type": "code",
   "execution_count": 22,
   "metadata": {},
   "outputs": [],
   "source": [
    "# def createMatchTable():\n",
    "#     conn = None\n",
    "#     try:\n",
    "#         conn = psycopg2.connect(\"dbname='mydatabase' user='myuser' host='localhost' port='65432' password='123qwe'\")\n",
    "#         cur = conn.cursor()\n",
    "#         sql = \"\"\"\n",
    "# CREATE TABLE match (\n",
    "#     Date DATE,          --01\n",
    "#     Po   VARCHAR(5),    --02 Position\n",
    "#     Num  INT,           --03 Number\n",
    "#     RT   NUMERIC(2, 1), --04 Rating\n",
    "#     sMin INT,           --05 Start Min\n",
    "#     eMin INT            --06 End Min\n",
    "# ) ; \"\"\"\n",
    "#         cur.execute(sql)\n",
    "#         conn.commit()\n",
    "#     except(Exception, psycopg2.DatabaseError) as error:\n",
    "#         print(error)\n",
    "#     finally:\n",
    "#         if conn is not None:\n",
    "#             conn.close()"
   ]
  },
  {
   "cell_type": "code",
   "execution_count": 23,
   "metadata": {},
   "outputs": [],
   "source": [
    "# createMatchTable()"
   ]
  },
  {
   "cell_type": "code",
   "execution_count": 24,
   "metadata": {},
   "outputs": [],
   "source": [
    "hattrickMatchPostgresql = HattrickMatchPostgreSQL()\n",
    "hattrickPlayerPostgresql = HattrickPlayerPostgreSQL()"
   ]
  },
  {
   "cell_type": "code",
   "execution_count": 25,
   "metadata": {},
   "outputs": [
    {
     "data": {
      "text/plain": [
       "1774"
      ]
     },
     "execution_count": 25,
     "metadata": {},
     "output_type": "execute_result"
    }
   ],
   "source": [
    "hattrickMatchPostgresql.select_count_of_match(conn)"
   ]
  },
  {
   "cell_type": "code",
   "execution_count": 26,
   "metadata": {},
   "outputs": [],
   "source": [
    "import csv\n",
    "with open(folder + '/match.txt', 'r', encoding='utf-8') as f:\n",
    "    reader = csv.reader(f, delimiter=',')\n",
    "    for row in reader:\n",
    "        if(re.match( '^[0-9]{1,2}', row[1] ) ) :\n",
    "            hattrickMatchPostgresql.insert_to_match(conn, folder.replace('/', '-'), row)"
   ]
  },
  {
   "cell_type": "code",
   "execution_count": 27,
   "metadata": {},
   "outputs": [
    {
     "data": {
      "text/plain": [
       "1788"
      ]
     },
     "execution_count": 27,
     "metadata": {},
     "output_type": "execute_result"
    }
   ],
   "source": [
    "hattrickMatchPostgresql.select_count_of_match(conn)"
   ]
  },
  {
   "cell_type": "code",
   "execution_count": 28,
   "metadata": {},
   "outputs": [],
   "source": [
    "hattrickMatchPostgresql.update_rt_of_match(conn, ht_player_table_name)"
   ]
  },
  {
   "cell_type": "code",
   "execution_count": 29,
   "metadata": {
    "scrolled": false
   },
   "outputs": [
    {
     "name": "stdout",
     "output_type": "stream",
     "text": [
      "KP\t84\t6.0\t0\t90\n",
      "WB\t61\t5.0\t0\t90\n",
      "WB\t80\t5.5\t0\t90\n",
      "CD\t40\t6.0\t0\t55\n",
      "CD\t4\t4.5\t55\t90\n",
      "CD\t83\t4.5\t0\t90\n",
      "W\t13\t5.0\t0\t50\n",
      "W\t65\t4.5\t50\t90\n",
      "W\t8\t4.0\t0\t90\n",
      "IM\t34\t4.5\t0\t55\n",
      "IM\t25\t4.5\t55\t90\n",
      "IM\t10\t5.0\t0\t90\n",
      "FW\t31\t5.0\t0\t90\n",
      "FW\t48\t4.5\t0\t90\n"
     ]
    }
   ],
   "source": [
    "tupleList = hattrickMatchPostgresql.getMatchByDate(folder, conn)\n",
    "hattrickMatchPostgresql.printMatchByDate(tupleList)"
   ]
  },
  {
   "cell_type": "code",
   "execution_count": 30,
   "metadata": {
    "scrolled": true
   },
   "outputs": [
    {
     "name": "stdout",
     "output_type": "stream",
     "text": [
      "2019/05/26/match.txt\t : will be removed\n",
      "2019/05/26/match.txt\t : is not existed\n"
     ]
    }
   ],
   "source": [
    "HattrickFile.check_and_delete_file(folder + '/match.txt')"
   ]
  },
  {
   "cell_type": "code",
   "execution_count": 31,
   "metadata": {},
   "outputs": [],
   "source": [
    "with open ( folder + '/match.txt', 'a' ) as f:\n",
    "    f.write(\"po,num,rt,sMin,eMin\\n\")\n",
    "    f.write( '\\n'.join('%s,%s,%s,%s,%s' % myTuple for myTuple in tupleList) + '\\n' )"
   ]
  },
  {
   "cell_type": "code",
   "execution_count": 32,
   "metadata": {
    "scrolled": true
   },
   "outputs": [
    {
     "name": "stdout",
     "output_type": "stream",
     "text": [
      "date num min/rt |    02   |    84   |\n",
      "----------------|---------|---------|\n",
      "2019-04-28      |         |  90/5.0 |\n",
      "2019-05-01      |  90/8.5 |         |\n",
      "2019-05-05      |         |  90/5.5 |\n",
      "2019-05-08      |  91/8.5 |         |\n",
      "2019-05-12      |         |  93/5.5 |\n",
      "2019-05-15      | 127/9.0 |         |\n",
      "2019-05-19      |         |  93/5.5 |\n",
      "2019-05-22      |  92/9.0 |         |\n",
      "2019-05-26      |         |  90/6.0 |\n"
     ]
    }
   ],
   "source": [
    "tupleList = hattrickMatchPostgresql.getMatchByPoNum(conn, 'KP', [2,84])\n",
    "hattrickMatchPostgresql.printMatchByPoNum(tupleList, [2,84])"
   ]
  },
  {
   "cell_type": "code",
   "execution_count": 33,
   "metadata": {
    "scrolled": true
   },
   "outputs": [
    {
     "name": "stdout",
     "output_type": "stream",
     "text": [
      "date num min/rt |    61   |    78   |    80   |    81   |    83   |\n",
      "----------------|---------|---------|---------|---------|---------|\n",
      "2019-04-28      |  90/4.5 |         |  90/5.0 |         |         |\n",
      "2019-05-01      |         |  60/4.0 |         |  90/4.5 |  30/4.0 |\n",
      "2019-05-05      |  90/4.5 |         |  90/5.0 |         |         |\n",
      "2019-05-08      |         |  91/4.5 |         |  91/4.5 |         |\n",
      "2019-05-12      |  93/4.5 |         |  93/5.5 |         |         |\n",
      "2019-05-15      |         | 127/4.0 |         | 127/4.5 |         |\n",
      "2019-05-19      |  93/4.5 |         |  93/5.5 |         |         |\n",
      "2019-05-22      |         |  92/4.5 |         |  92/4.5 |         |\n",
      "2019-05-26      |  90/5.0 |         |  90/5.5 |         |         |\n",
      "+----+-------+-------+---------+---------+--------+----------+---------+----------+-------+\n",
      "|    |   num | b_p   |   b_p_v |   wbd_p |   wb_p |   wbtm_p |   wbo_p | idxmax   |   max |\n",
      "|----+-------+-------+---------+---------+--------+----------+---------+----------+-------|\n",
      "|  0 |    61 | WBd   |    8.89 |    8.89 |   8.66 |     8.55 |    8.42 | wbd_p    |  8.89 |\n",
      "|  1 |    78 | WBd   |    7.69 |    7.69 |   7.22 |     7.17 |    6.73 | wbd_p    |  7.69 |\n",
      "|  2 |    80 | WBd   |    9.87 |    9.87 |   9.65 |     9.54 |    9.41 | wbd_p    |  9.87 |\n",
      "|  3 |    81 | WBd   |    7.72 |    7.72 |   7.47 |     7.52 |    7.22 | wbd_p    |  7.72 |\n",
      "|  4 |    83 | CDtw  |    7.75 |    7.72 |   7.39 |     7.52 |    7.07 | wbd_p    |  7.72 |\n",
      "+----+-------+-------+---------+---------+--------+----------+---------+----------+-------+\n"
     ]
    }
   ],
   "source": [
    "tupleList = hattrickMatchPostgresql.getMatchByPoNum(conn, 'WB', [61,78,80,81,83])\n",
    "hattrickMatchPostgresql.printMatchByPoNum(tupleList, [61,78,80,81,83])\n",
    "hattrickPlayerPostgresql.select(conn, ht_player_table_name, folder, [61,78,80,81,83], 'wb')"
   ]
  },
  {
   "cell_type": "code",
   "execution_count": 34,
   "metadata": {
    "scrolled": false
   },
   "outputs": [
    {
     "name": "stdout",
     "output_type": "stream",
     "text": [
      "date num min/rt |    04   |    40   |    52   |    70   |    83   |\n",
      "----------------|---------|---------|---------|---------|---------|\n",
      "2019-04-28      |  30/4.0 |  61/5.5 |         |         |  60/4.5 |\n",
      "2019-05-01      |         |         |  90/5.0 |  90/5.0 |         |\n",
      "2019-05-05      |  90/4.0 |         |         |         |  90/4.0 |\n",
      "2019-05-08      |         |  31/5.0 |  60/5.0 |  91/5.0 |         |\n",
      "2019-05-12      |  43/4.0 |  50/6.0 |         |         |  93/4.0 |\n",
      "2019-05-15      |         |  77/5.5 |  50/4.5 | 127/4.5 |         |\n",
      "2019-05-19      |  43/4.0 |  50/6.0 |         |         |  93/4.5 |\n",
      "2019-05-22      |         |  42/6.0 |  50/4.5 |  92/4.5 |         |\n",
      "2019-05-26      |  35/4.5 |  55/6.0 |         |         |  90/4.5 |\n",
      "+----+-------+-------+---------+--------+----------+---------+----------+-------+\n",
      "|    |   num | b_p   |   b_p_v |   cd_p |   cdtw_p |   cdo_p | idxmax   |   max |\n",
      "|----+-------+-------+---------+--------+----------+---------+----------+-------|\n",
      "|  0 |     4 | CDtw  |    7.24 |   7.19 |     7.24 |    6.69 | cdtw_p   |  7.24 |\n",
      "|  1 |    40 | CD    |   10.56 |  10.56 |    10.14 |   10.2  | cd_p     | 10.56 |\n",
      "|  2 |    52 | CD    |    7.41 |   7.41 |     7.41 |    7.41 | cd_p     |  7.41 |\n",
      "|  3 |    70 | CD    |    8.48 |   8.48 |     8.45 |    7.98 | cd_p     |  8.48 |\n",
      "|  4 |    83 | CDtw  |    7.75 |   7.7  |     7.75 |    7.16 | cdtw_p   |  7.75 |\n",
      "+----+-------+-------+---------+--------+----------+---------+----------+-------+\n"
     ]
    }
   ],
   "source": [
    "tupleList = hattrickMatchPostgresql.getMatchByPoNum(conn, 'CD', [4,40,52,70,83])\n",
    "hattrickMatchPostgresql.printMatchByPoNum(tupleList, [4,40,52,70,83])\n",
    "hattrickPlayerPostgresql.select(conn, ht_player_table_name, folder, [4,40,52,70,83], 'cd')"
   ]
  },
  {
   "cell_type": "code",
   "execution_count": 35,
   "metadata": {
    "scrolled": true
   },
   "outputs": [
    {
     "name": "stdout",
     "output_type": "stream",
     "text": [
      "date num min/rt |    08   |    11   |    13   |    15   |    65   |\n",
      "----------------|---------|---------|---------|---------|---------|\n",
      "2019-04-28      |  90/4.5 |  60/4.0 |         |         |  30/4.5 |\n",
      "2019-05-01      |         |         |  88/4.5 |  70/5.0 |  20/4.5 |\n",
      "2019-05-05      |  90/4.5 |  50/4.0 |         |         |  40/4.5 |\n",
      "2019-05-08      |         |         |         |  91/5.0 |  91/4.0 |\n",
      "2019-05-12      |  93/4.0 |  50/4.0 |         |         |  43/4.0 |\n",
      "2019-05-15      |         | 127/3.0 |         | 127/4.0 |         |\n",
      "2019-05-19      |  93/4.0 |         |  50/4.5 |         |  43/4.0 |\n",
      "2019-05-22      |         |  42/3.5 |  50/5.0 |  92/4.0 |         |\n",
      "2019-05-26      |  90/4.0 |         |  50/5.0 |         |  40/4.5 |\n",
      "+----+-------+-------+---------+--------+-------+---------+--------+----------+-------+\n",
      "|    |   num | b_p   |   b_p_v |   wd_p |   w_p |   wtm_p |   wo_p | idxmax   |   max |\n",
      "|----+-------+-------+---------+--------+-------+---------+--------+----------+-------|\n",
      "|  0 |     8 | IMtw  |    7.06 |   6.81 |  6.91 |    6.98 |   6.83 | wtm_p    |  6.98 |\n",
      "|  1 |    11 | IMd   |    7.33 |   6.57 |  6.63 |    6.81 |   6.31 | wtm_p    |  6.81 |\n",
      "|  2 |    13 | IMtw  |    7.98 |   7.79 |  7.92 |    7.96 |   7.92 | wtm_p    |  7.96 |\n",
      "|  3 |    15 | Wo    |    6.43 |   6.22 |  6.25 |    6.18 |   6.43 | wo_p     |  6.43 |\n",
      "|  4 |    65 | CD    |    6.74 |   6.42 |  6.3  |    6.28 |   6.24 | wd_p     |  6.42 |\n",
      "+----+-------+-------+---------+--------+-------+---------+--------+----------+-------+\n"
     ]
    }
   ],
   "source": [
    "tupleList = hattrickMatchPostgresql.getMatchByPoNum(conn, 'W', [8,11,13,15,65])\n",
    "hattrickMatchPostgresql.printMatchByPoNum(tupleList, [8,11,13,15,65])\n",
    "hattrickPlayerPostgresql.select(conn, ht_player_table_name, folder, [8,11,13,15,65], 'w')"
   ]
  },
  {
   "cell_type": "code",
   "execution_count": 36,
   "metadata": {
    "scrolled": false
   },
   "outputs": [
    {
     "name": "stdout",
     "output_type": "stream",
     "text": [
      "date num min/rt |    10   |    12   |    25   |    34   |    79   |    85   |\n",
      "----------------|---------|---------|---------|---------|---------|---------|\n",
      "2019-04-28      |  90/5.0 |         |         |  90/4.0 |         |         |\n",
      "2019-05-01      |         |  70/4.5 |         |  20/4.5 |  90/7.0 |         |\n",
      "2019-05-05      |  90/5.0 |         |         |  90/4.0 |         |         |\n",
      "2019-05-08      |         |  80/4.0 |         |         |  91/7.0 |  11/3.5 |\n",
      "2019-05-12      |  93/5.0 |         |  46/4.0 |  47/4.5 |         |         |\n",
      "2019-05-15      |         |  80/4.0 |         |         | 127/6.5 |  47/3.5 |\n",
      "2019-05-19      |  93/5.0 |         |  38/4.0 |  55/4.5 |         |         |\n",
      "2019-05-22      |         |  80/4.0 |         |         |  92/7.0 |  12/3.5 |\n",
      "2019-05-26      |  90/5.0 |         |  35/4.5 |  55/4.5 |         |         |\n",
      "+----+-------+-------+---------+---------+--------+----------+---------+----------+-------+\n",
      "|    |   num | b_p   |   b_p_v |   imd_p |   im_p |   imtw_p |   imo_p | idxmax   |   max |\n",
      "|----+-------+-------+---------+---------+--------+----------+---------+----------+-------|\n",
      "|  0 |    10 | Cdo   |    8.68 |    8.6  |   8.43 |     8.26 |    8.22 | imd_p    |  8.6  |\n",
      "|  1 |    12 | IMo   |    7.26 |    7.16 |   7.22 |     7.03 |    7.26 | imo_p    |  7.26 |\n",
      "|  2 |    25 | CD    |    6.94 |    6.87 |   6.84 |     6.68 |    6.79 | imd_p    |  6.87 |\n",
      "|  3 |    34 | CD    |    7.06 |    6.91 |   6.81 |     6.56 |    6.69 | imd_p    |  6.91 |\n",
      "|  4 |    79 | IMd   |   11.28 |   11.28 |  11.26 |    10.85 |   11.2  | imd_p    | 11.28 |\n",
      "|  5 |    85 | IMo   |    5.27 |    5.19 |   5.24 |     5.03 |    5.27 | imo_p    |  5.27 |\n",
      "+----+-------+-------+---------+---------+--------+----------+---------+----------+-------+\n"
     ]
    }
   ],
   "source": [
    "tupleList = hattrickMatchPostgresql.getMatchByPoNum(conn, 'IM', [10,12,25,34,79,85])\n",
    "hattrickMatchPostgresql.printMatchByPoNum(tupleList, [10,12,25,34,79,85])\n",
    "hattrickPlayerPostgresql.select(conn, ht_player_table_name, folder, [10,12,25,34,79,85], 'im')"
   ]
  },
  {
   "cell_type": "code",
   "execution_count": 37,
   "metadata": {
    "scrolled": true
   },
   "outputs": [
    {
     "name": "stdout",
     "output_type": "stream",
     "text": [
      "date num min/rt |    16   |    31   |    48   |    55   |\n",
      "----------------|---------|---------|---------|---------|\n",
      "2019-04-28      |         |  90/5.0 |  90/4.0 |         |\n",
      "2019-05-01      |  90/5.5 |         |         |  90/5.5 |\n",
      "2019-05-05      |         |  90/5.0 |  90/4.0 |         |\n",
      "2019-05-08      |  91/5.5 |         |         |  91/5.5 |\n",
      "2019-05-12      |         |  93/5.0 |  93/4.5 |         |\n",
      "2019-05-15      | 127/5.0 |         |         | 127/5.0 |\n",
      "2019-05-19      |         |  93/5.0 |  93/4.5 |         |\n",
      "2019-05-22      |  92/6.0 |         |         |  92/4.5 |\n",
      "2019-05-26      |         |  90/5.0 |  90/4.5 |         |\n",
      "+----+-------+-------+---------+--------+---------+----------+---------+----------+-------+\n",
      "|    |   num | b_p   |   b_p_v |   fw_p |   fwd_p |   fwtw_p |   tdf_p | idxmax   |   max |\n",
      "|----+-------+-------+---------+--------+---------+----------+---------+----------+-------|\n",
      "|  0 |    16 | FWtw  |    7.72 |   7.41 |    6.6  |     7.72 |    0    | fwtw_p   |  7.72 |\n",
      "|  1 |    31 | FWtw  |    7.32 |   7.31 |    6.67 |     7.32 |    0    | fwtw_p   |  7.32 |\n",
      "|  2 |    48 | FWtw  |    6.55 |   6.47 |    0    |     6.55 |    6.54 | fwtw_p   |  6.55 |\n",
      "|  3 |    55 | IMd   |    6.73 |   6.73 |    6.29 |     6.54 |    0    | fw_p     |  6.73 |\n",
      "+----+-------+-------+---------+--------+---------+----------+---------+----------+-------+\n"
     ]
    }
   ],
   "source": [
    "tupleList = hattrickMatchPostgresql.getMatchByPoNum(conn, 'FW', [16,31,48,55])\n",
    "hattrickMatchPostgresql.printMatchByPoNum(tupleList, [16,31,48,55])\n",
    "hattrickPlayerPostgresql.select(conn, ht_player_table_name, folder, [16,31,48,55], 'fw')"
   ]
  },
  {
   "cell_type": "code",
   "execution_count": 38,
   "metadata": {},
   "outputs": [
    {
     "name": "stdout",
     "output_type": "stream",
     "text": [
      "<connection object at 0x7fe00d3dd9c8; dsn: 'user=myuser password=xxx dbname=mydatabase host=localhost port=65432', closed: 1>\n"
     ]
    }
   ],
   "source": [
    "conn.close()\n",
    "print(conn)"
   ]
  },
  {
   "cell_type": "code",
   "execution_count": 39,
   "metadata": {},
   "outputs": [
    {
     "name": "stdout",
     "output_type": "stream",
     "text": [
      "None\n"
     ]
    }
   ],
   "source": [
    "conn = None\n",
    "print(conn)"
   ]
  },
  {
   "cell_type": "code",
   "execution_count": null,
   "metadata": {},
   "outputs": [],
   "source": []
  }
 ],
 "metadata": {
  "kernelspec": {
   "display_name": "Python 3",
   "language": "python",
   "name": "python3"
  },
  "language_info": {
   "codemirror_mode": {
    "name": "ipython",
    "version": 3
   },
   "file_extension": ".py",
   "mimetype": "text/x-python",
   "name": "python",
   "nbconvert_exporter": "python",
   "pygments_lexer": "ipython3",
   "version": "3.6.7"
  }
 },
 "nbformat": 4,
 "nbformat_minor": 2
}
