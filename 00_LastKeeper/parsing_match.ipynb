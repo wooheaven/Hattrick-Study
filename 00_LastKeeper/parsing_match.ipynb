{
 "cells": [
  {
   "cell_type": "code",
   "execution_count": null,
   "metadata": {
    "collapsed": true
   },
   "outputs": [],
   "source": [
    "import datetime\n",
    "now = datetime.datetime.now()\n",
    "print(now)\n",
    "nowDate = now.strftime('%Y/%m/%d')\n",
    "print(\"today = \", nowDate)"
   ]
  },
  {
   "cell_type": "code",
   "execution_count": null,
   "metadata": {
    "collapsed": true
   },
   "outputs": [],
   "source": [
    "from datetime import date,timedelta\n",
    "\n",
    "def findLastSunOrWed():\n",
    "    targetDay = date.today()\n",
    "    \n",
    "    # weekday 2 = Wed \n",
    "    # weekday 6 = Sun\n",
    "    offsetWed = (targetDay.weekday() - 2) % 7\n",
    "    offsetSun = (targetDay.weekday() - 6) % 7\n",
    "    offset = min(offsetWed, offsetSun)\n",
    "    \n",
    "    targetDay = targetDay - timedelta(days=offset)\n",
    "    #print(\"Target Day : \", targetDay, targetDay.weekday())\n",
    "    \n",
    "    return targetDay.strftime('%Y/%m/%d')"
   ]
  },
  {
   "cell_type": "code",
   "execution_count": null,
   "metadata": {
    "collapsed": true
   },
   "outputs": [],
   "source": [
    "folder = findLastSunOrWed()\n",
    "print(\"target =\", folder)"
   ]
  },
  {
   "cell_type": "code",
   "execution_count": null,
   "metadata": {
    "collapsed": true
   },
   "outputs": [],
   "source": [
    "# debugging\n",
    "#folder = \"2017/12/06\"\n",
    "#print(\"target =\", folder)"
   ]
  },
  {
   "cell_type": "code",
   "execution_count": null,
   "metadata": {
    "collapsed": true
   },
   "outputs": [],
   "source": [
    "import re\n",
    "from bs4 import BeautifulSoup"
   ]
  },
  {
   "cell_type": "code",
   "execution_count": null,
   "metadata": {
    "scrolled": true
   },
   "outputs": [],
   "source": [
    "from crawMatch import *\n",
    "from HattrickLogInOut import *"
   ]
  },
  {
   "cell_type": "code",
   "execution_count": null,
   "metadata": {},
   "outputs": [],
   "source": [
    "clickTabOfFireFox(5)\n",
    "\n",
    "clickEmpty(112/300)\n",
    "moveScroll(20)\n",
    "clickFacebookLogin(484, 407)\n",
    "\n",
    "clickFacebookLogout(1258, 338)"
   ]
  },
  {
   "cell_type": "code",
   "execution_count": null,
   "metadata": {},
   "outputs": [],
   "source": [
    "clickTabOfFireFox(5)\n",
    "\n",
    "clickEmpty(112/300)\n",
    "moveScroll(20)\n",
    "clickFacebookLogin()\n",
    "\n",
    "clickMyClub(101/300)\n",
    "\n",
    "clickEmpty(210/300)\n",
    "moveScroll(20)\n",
    "clickMatch(210/300)\n",
    "\n",
    "clickEmpty(234/300)\n",
    "moveScroll(20)\n",
    "clickLastMatch(234/300)\n",
    "\n",
    "clickFirefoxFile()\n",
    "\n",
    "clickSavePageAs()\n",
    "\n",
    "typeFileName()\n",
    "\n",
    "clickRwoo(570, 460)\n",
    "\n",
    "click02_workspace(720, 440)\n",
    "\n",
    "click02_Hattrick(720, 440)\n",
    "\n",
    "clickHattrickStudy(720, 415)\n",
    "\n",
    "click00_LastKeeper(720, 415)\n",
    "\n",
    "click2017(720, 415)\n",
    "\n",
    "clickLastMonth()\n",
    "\n",
    "clickLastDay()\n",
    "\n",
    "clickSave(1305, 865)\n",
    "\n",
    "clickFacebookLogout()\n",
    "\n",
    "clickTabOfFireFox(7)"
   ]
  },
  {
   "cell_type": "code",
   "execution_count": null,
   "metadata": {
    "collapsed": true
   },
   "outputs": [],
   "source": [
    "import os.path, shutil\n",
    "filePath = folder + '/match_files'\n",
    "\n",
    "if ( os.path.exists(filePath) ):\n",
    "    print(filePath + \" <- this folder is existed.\")\n",
    "    shutil.rmtree(filePath, ignore_errors=True)\n",
    "    print(filePath + \" <- this folder is deleted.\")\n",
    "\n",
    "if not ( os.path.exists(filePath) ):\n",
    "    print(filePath + \" <- this folder is not existed.\")"
   ]
  },
  {
   "cell_type": "code",
   "execution_count": null,
   "metadata": {
    "collapsed": true
   },
   "outputs": [],
   "source": [
    "with open(folder+'/match.html', 'r') as file:\n",
    "    soup = BeautifulSoup(file.read(), \"html.parser\")"
   ]
  },
  {
   "cell_type": "code",
   "execution_count": null,
   "metadata": {
    "collapsed": true
   },
   "outputs": [],
   "source": [
    "from parseMatch import *"
   ]
  },
  {
   "cell_type": "code",
   "execution_count": null,
   "metadata": {
    "collapsed": true
   },
   "outputs": [],
   "source": [
    "import os.path\n",
    "filePath = folder + '/match.txt'\n",
    "\n",
    "if ( os.path.exists(filePath) ):\n",
    "    os.remove(filePath)\n",
    "    print(filePath + \" <- this file is deleted.\")\n",
    "\n",
    "if not ( os.path.exists(filePath) ):\n",
    "    print(filePath + \" <- this file is not exists.\")"
   ]
  },
  {
   "cell_type": "code",
   "execution_count": null,
   "metadata": {
    "collapsed": true
   },
   "outputs": [],
   "source": [
    "for div in soup.find_all(\"div\", id=\"ctl00_ctl00_CPContent_CPMain_ucPostMatch_rptTimeline_ctl14_timelineEventPanel\"):\n",
    "    for inputTag in div.find_all(\"input\", id=\"ctl00_ctl00_CPContent_CPMain_ucPostMatch_rptTimeline_ctl14_playerRatingsAway\"):\n",
    "    #for inputTag in div.find_all(\"input\", id=\"ctl00_ctl00_CPContent_CPMain_ucPostMatch_rptTimeline_ctl14_playerRatingsHome\"):\n",
    "        #print(inputTag.prettify())\n",
    "        valueString = inputTag.get('value')\n",
    "        valueString = re.sub('},', '}\\n', valueString)\n",
    "        \n",
    "        matchList = valueString.split(\"\\n\")\n",
    "        matchList = removeFirstChrLastChr(matchList)\n",
    "        matchList = filterColumn(matchList)\n",
    "        matchList = renamePO(matchList)\n",
    "        matchList = renameNumber(matchList, folder)\n",
    "        matchList = renameMin(matchList)\n",
    "        matchList = changedPlayer(matchList)\n",
    "        matchList = removeRows(matchList)\n",
    "        matchList = sortByPO(matchList)\n",
    "        \n",
    "        print(\"\\ncat match.txt\\n\")\n",
    "        \n",
    "        for line in matchList:\n",
    "            print(line)"
   ]
  },
  {
   "cell_type": "code",
   "execution_count": null,
   "metadata": {
    "collapsed": true
   },
   "outputs": [],
   "source": [
    "import os.path\n",
    "filePath = folder + '/match.txt'\n",
    "\n",
    "if ( os.path.exists(filePath) ):\n",
    "    os.remove(filePath)\n",
    "    print(filePath + \" <- this file is deleted.\")\n",
    "\n",
    "if not ( os.path.exists(filePath) ):\n",
    "    print(filePath + \" <- this file is not exists.\")"
   ]
  },
  {
   "cell_type": "code",
   "execution_count": null,
   "metadata": {
    "collapsed": true
   },
   "outputs": [],
   "source": [
    "for line in matchList:\n",
    "    with open (folder + '/match.txt', 'a') as f:\n",
    "        f.write(line + \"\\n\")"
   ]
  },
  {
   "cell_type": "code",
   "execution_count": null,
   "metadata": {
    "collapsed": true
   },
   "outputs": [],
   "source": [
    "import psycopg2"
   ]
  },
  {
   "cell_type": "code",
   "execution_count": null,
   "metadata": {
    "collapsed": true
   },
   "outputs": [],
   "source": [
    "def dropMatchTable():\n",
    "    conn = None\n",
    "    try:\n",
    "        conn = psycopg2.connect(\"dbname='mydatabase' user='myuser' host='localhost' port='65432' password='123qwe'\")\n",
    "        cur = conn.cursor()\n",
    "        sql = \"\"\"DROP TABLE IF EXISTS match ; \"\"\"\n",
    "        cur.execute(sql)\n",
    "        conn.commit()\n",
    "    except(Exception, psycopg2.DatabaseError) as error:\n",
    "        print(error)\n",
    "    finally:\n",
    "        if conn is not None:\n",
    "            conn.close()"
   ]
  },
  {
   "cell_type": "code",
   "execution_count": null,
   "metadata": {
    "collapsed": true
   },
   "outputs": [],
   "source": [
    "#dropMatchTable()"
   ]
  },
  {
   "cell_type": "code",
   "execution_count": null,
   "metadata": {
    "collapsed": true
   },
   "outputs": [],
   "source": [
    "def createMatchTable():\n",
    "    conn = None\n",
    "    try:\n",
    "        conn = psycopg2.connect(\"dbname='mydatabase' user='myuser' host='localhost' port='65432' password='123qwe'\")\n",
    "        cur = conn.cursor()\n",
    "        sql = \"\"\"\n",
    "CREATE TABLE match (\n",
    "    Date DATE,          --01\n",
    "    Po   VARCHAR(5),    --02 Position\n",
    "    Num  INT,           --03 Number\n",
    "    RT   NUMERIC(2, 1), --04 Rating\n",
    "    sMin INT,           --05 Start Min\n",
    "    eMin INT            --06 End Min\n",
    ") ; \"\"\"\n",
    "        cur.execute(sql)\n",
    "        conn.commit()\n",
    "    except(Exception, psycopg2.DatabaseError) as error:\n",
    "        print(error)\n",
    "    finally:\n",
    "        if conn is not None:\n",
    "            conn.close()"
   ]
  },
  {
   "cell_type": "code",
   "execution_count": null,
   "metadata": {
    "collapsed": true
   },
   "outputs": [],
   "source": [
    "#createMatchTable()"
   ]
  },
  {
   "cell_type": "code",
   "execution_count": null,
   "metadata": {
    "collapsed": true
   },
   "outputs": [],
   "source": [
    "def selectCountMatch():\n",
    "    conn = None\n",
    "    try:\n",
    "        conn = psycopg2.connect(\"dbname='mydatabase' user='myuser' host='localhost' port='65432' password='123qwe'\")\n",
    "        cur = conn.cursor()\n",
    "        sql = \"SELECT COUNT(*) FROM match\" \n",
    "        \n",
    "        cur.execute(sql)\n",
    "        row = cur.fetchone()\n",
    "    except (Exception, psycopg2.DatabaseError) as error:\n",
    "        print(error)\n",
    "        print(sql)\n",
    "    finally:\n",
    "        if conn is not None:\n",
    "            conn.close()\n",
    "    return row[0]"
   ]
  },
  {
   "cell_type": "code",
   "execution_count": null,
   "metadata": {
    "collapsed": true
   },
   "outputs": [],
   "source": [
    "selectCountMatch()"
   ]
  },
  {
   "cell_type": "code",
   "execution_count": null,
   "metadata": {
    "collapsed": true
   },
   "outputs": [],
   "source": [
    "def insertMatchTable(time, row):\n",
    "    conn = None\n",
    "    try:\n",
    "        conn = psycopg2.connect(\"dbname='mydatabase' user='myuser' host='localhost' port='65432' password='123qwe'\")\n",
    "        cur = conn.cursor()\n",
    "        sql = \"\"\"\n",
    "INSERT INTO match ( \n",
    "    SELECT \n",
    "        to_date(%s, 'YYYY-MM-DD'), --01 \n",
    "        %s, %s, %s, %s, %s         --02 03 04 05 06\n",
    ") ;\"\"\"\n",
    "        cur.execute(sql, ( time,\n",
    "                           row[0], row[1], row[2], row[3], row[4] ) )\n",
    "        conn.commit()\n",
    "    except (Exception, psycopg2.DatabaseError) as error:\n",
    "        print(\"Error Happend\")\n",
    "        print(error)\n",
    "        print(sql)\n",
    "        print(row)\n",
    "    finally:\n",
    "        if conn is not None:\n",
    "            conn.close()"
   ]
  },
  {
   "cell_type": "code",
   "execution_count": null,
   "metadata": {
    "collapsed": true
   },
   "outputs": [],
   "source": [
    "import csv\n",
    "with open(folder + '/match.txt', 'r', encoding='utf-8') as f:\n",
    "    reader = csv.reader(f, delimiter=',')\n",
    "    for row in reader:\n",
    "        if(re.match( '^[0-9]{1,2}', row[1] ) ) :\n",
    "            insertMatchTable( folder.replace('/','-'), row)"
   ]
  },
  {
   "cell_type": "code",
   "execution_count": null,
   "metadata": {
    "collapsed": true
   },
   "outputs": [],
   "source": [
    "selectCountMatch()"
   ]
  },
  {
   "cell_type": "code",
   "execution_count": null,
   "metadata": {
    "collapsed": true
   },
   "outputs": [],
   "source": [
    "def updateRatingOfMatchTable():\n",
    "    conn = None\n",
    "    try:\n",
    "        conn = psycopg2.connect(\"dbname='mydatabase' user='myuser' host='localhost' port='65432' password='123qwe'\")\n",
    "        cur = conn.cursor()\n",
    "        sql = \"\"\"\n",
    "update match \n",
    "    set rt = player.rt \n",
    "from player   \n",
    "where \n",
    "    match.date = player.date\n",
    "    and player.date = player.last\n",
    "    and match.po = player.po \n",
    "    and match.num = player.num \n",
    "    and match.rt != player.rt\n",
    "; \"\"\"\n",
    "        cur.execute(sql)\n",
    "        conn.commit()\n",
    "    except (Exception, psycopg2.DatabaseError) as error:\n",
    "        print(\"Error Happend\")\n",
    "        print(error)\n",
    "        print(sql)\n",
    "    finally:\n",
    "        if conn is not None:\n",
    "            conn.close()"
   ]
  },
  {
   "cell_type": "code",
   "execution_count": null,
   "metadata": {
    "collapsed": true
   },
   "outputs": [],
   "source": [
    "updateRatingOfMatchTable()"
   ]
  },
  {
   "cell_type": "code",
   "execution_count": null,
   "metadata": {
    "collapsed": true
   },
   "outputs": [],
   "source": [
    "def getTupleListFromMatch(SelectString, WhereString):\n",
    "    outputList = list();\n",
    "    conn = None\n",
    "    try:\n",
    "        conn = psycopg2.connect(\"dbname='mydatabase' user='myuser' host='localhost' port='65432' password='123qwe'\")\n",
    "        cur = conn.cursor()\n",
    "        OrderByString = \"\"\n",
    "        OrderByString += \"\\n\" + \"ORDER BY \"\n",
    "        OrderByString += \"\\n\" + \"    CASE \"\n",
    "        OrderByString += \"\\n\" + \"        WHEN po = 'KP' THEN 1 \"\n",
    "        OrderByString += \"\\n\" + \"        WHEN po = 'WB' THEN 2 \"\n",
    "        OrderByString += \"\\n\" + \"        WHEN po = 'CD' THEN 3 \"\n",
    "        OrderByString += \"\\n\" + \"        WHEN po = 'W'  THEN 4 \"\n",
    "        OrderByString += \"\\n\" + \"        WHEN po = 'IM' THEN 5 \"\n",
    "        OrderByString += \"\\n\" + \"        WHEN po = 'FW' THEN 6 \"\n",
    "        OrderByString += \"\\n\" + \"        ELSE 7 \"\n",
    "        OrderByString += \"\\n\" + \"    END \"\n",
    "        \n",
    "        sql = SelectString + \"\\n\" + \"FROM match \" + WhereString + OrderByString + \"\\n\"\n",
    "        print(sql)\n",
    "        cur.execute(sql)\n",
    "        row = cur.fetchone()\n",
    "        while row is not None:\n",
    "            #print(row)\n",
    "            outputList.append(row)\n",
    "            row = cur.fetchone()\n",
    "    except (Exception, psycopg2.DatabaseError) as error:\n",
    "        print(\"Error Happend\")\n",
    "        print(error)\n",
    "    finally:\n",
    "        if conn is not None:\n",
    "            conn.close()\n",
    "    return outputList"
   ]
  },
  {
   "cell_type": "code",
   "execution_count": null,
   "metadata": {
    "collapsed": true
   },
   "outputs": [],
   "source": [
    "SelectString = \"\"\n",
    "SelectString += \"\\n\" + \"SELECT \"\n",
    "SelectString += \"\\n\" + \"    po, num, rt :: VARCHAR(5), smin, emin \"\n",
    "\n",
    "WhereString = \"\"\n",
    "WhereString += \"\\n\" + \"WHERE \"\n",
    "WhereString += \"\\n\" + \"    date = '\" + folder.replace('/','-') + \"'\"\n",
    "\n",
    "tupleList = getTupleListFromMatch(SelectString, WhereString)\n",
    "for tuple in tupleList:\n",
    "    print(tuple[0], tuple[1], tuple[2], tuple[3], tuple[4], sep='\\t')"
   ]
  },
  {
   "cell_type": "code",
   "execution_count": null,
   "metadata": {
    "collapsed": true,
    "scrolled": true
   },
   "outputs": [],
   "source": [
    "import os.path\n",
    "filePath = folder + '/match.txt'\n",
    "\n",
    "if ( os.path.exists(filePath) ):\n",
    "    os.remove(filePath)\n",
    "    print(filePath + \" <- this file is deleted.\")\n",
    "\n",
    "if not ( os.path.exists(filePath) ):\n",
    "    print(filePath + \" <- this file is not exists.\")"
   ]
  },
  {
   "cell_type": "code",
   "execution_count": null,
   "metadata": {
    "collapsed": true
   },
   "outputs": [],
   "source": [
    "with open ( folder + '/match.txt', 'a' ) as f:\n",
    "    f.write(\"po,num,rt,sMin,eMin\\n\")\n",
    "    f.write( '\\n'.join('%s,%s,%s,%s,%s' % myTuple for myTuple in tupleList) + '\\n' )"
   ]
  },
  {
   "cell_type": "code",
   "execution_count": null,
   "metadata": {
    "collapsed": true
   },
   "outputs": [],
   "source": [
    "def getKP():\n",
    "    outputList = list();\n",
    "    conn = None\n",
    "    try:\n",
    "        conn = psycopg2.connect(\"dbname='mydatabase' user='myuser' host='localhost' port='65432' password='123qwe'\")\n",
    "        cur = conn.cursor()\n",
    "        query =         \"\"\"SELECT * \"\"\"\n",
    "        query += \"\\n\" + \"\"\"FROM crosstab( \"\"\"\n",
    "        query += \"\\n\" + \"\"\"    'SELECT \"\"\"\n",
    "        query += \"\\n\" + \"\"\"        date :: VARCHAR(10), num :: VARCHAR(2), emin-smin||''/''||rt :: VARCHAR(7) as time_rt \"\"\"\n",
    "        query += \"\\n\" + \"\"\"    FROM match \"\"\"\n",
    "        query += \"\\n\" + \"\"\"    WHERE \"\"\"\n",
    "        query += \"\\n\" + \"\"\"        po = ''KP'' \"\"\"\n",
    "        query += \"\\n\" + \"\"\"    ORDER BY \"\"\"\n",
    "        query += \"\\n\" + \"\"\"        date,num', \"\"\"\n",
    "        query += \"\\n\" + \"\"\"    'SELECT DISTINCT num from match WHERE num in (2,45) ORDER BY num :: int'\"\"\"\n",
    "        query += \"\\n\" + \"\"\") \"\"\"\n",
    "        query += \"\\n\" + \"\"\"AS ( \"\"\"\n",
    "        query += \"\\n\" + \"\"\"    \"date num min/rt\" VARCHAR(10), \"\"\"\n",
    "        query += \"\\n\" + \"\"\"    \"     2    \" VARCHAR(7), \"\"\"\n",
    "        query += \"\\n\" + \"\"\"    \"     45   \" VARCHAR(7) \"\"\"\n",
    "        query += \"\\n\" + \"\"\")\"\"\"\n",
    "        query += \"\\n\" + \"\"\"ORDER BY 1\"\"\"\n",
    "\n",
    "        #print(query + \"\\n\")\n",
    "        cur.execute(query)\n",
    "        row = cur.fetchone()\n",
    "        while row is not None:\n",
    "            #print(row)\n",
    "            outputList.append(row)\n",
    "            row = cur.fetchone()\n",
    "    except (Exception, psycopg2.DatabaseError) as error:\n",
    "        print(query + \"\\n\")\n",
    "        print(\"Error Happend\")\n",
    "        print(error)\n",
    "    finally:\n",
    "        if conn is not None:\n",
    "            conn.close()\n",
    "    return outputList"
   ]
  },
  {
   "cell_type": "code",
   "execution_count": null,
   "metadata": {
    "collapsed": true
   },
   "outputs": [],
   "source": [
    "def xstr(s):\n",
    "    if s is None:\n",
    "        return '       '\n",
    "    else :\n",
    "        if len(s) < 7:\n",
    "            s = ' ' + s\n",
    "    return str(s)"
   ]
  },
  {
   "cell_type": "code",
   "execution_count": null,
   "metadata": {
    "collapsed": true,
    "scrolled": true
   },
   "outputs": [],
   "source": [
    "tupleList = getKP()\n",
    "print('date num min/rt |    02   |    45   ')\n",
    "print('----------------+---------+---------')\n",
    "for tuple in tupleList:\n",
    "    #print( len(tuple) )\n",
    "    print(tuple[0] + '     ', xstr(tuple[1]), xstr(tuple[2]), sep=\" | \")"
   ]
  },
  {
   "cell_type": "code",
   "execution_count": null,
   "metadata": {
    "collapsed": true
   },
   "outputs": [],
   "source": [
    "def getWB():\n",
    "    outputList = list();\n",
    "    conn = None\n",
    "    try:\n",
    "        conn = psycopg2.connect(\"dbname='mydatabase' user='myuser' host='localhost' port='65432' password='123qwe'\")\n",
    "        cur = conn.cursor()\n",
    "        query =         \"\"\"SELECT * \"\"\"\n",
    "        query += \"\\n\" + \"\"\"FROM crosstab( \"\"\"\n",
    "        query += \"\\n\" + \"\"\"    'SELECT \"\"\"\n",
    "        query += \"\\n\" + \"\"\"        date :: VARCHAR(10), num, emin-smin||''/''||rt :: VARCHAR(7) as time_rt \"\"\"\n",
    "        query += \"\\n\" + \"\"\"    FROM match \"\"\"\n",
    "        query += \"\\n\" + \"\"\"    WHERE \"\"\"\n",
    "        query += \"\\n\" + \"\"\"        po = ''WB'' \"\"\"\n",
    "        query += \"\\n\" + \"\"\"    ORDER BY \"\"\"\n",
    "        query += \"\\n\" + \"\"\"        date, num', \"\"\"\n",
    "        query += \"\\n\" + \"\"\"    'SELECT DISTINCT num from match WHERE num in (6,7,8,14,52) ORDER BY num'\"\"\"\n",
    "        query += \"\\n\" + \"\"\") \"\"\"\n",
    "        query += \"\\n\" + \"\"\"AS ( \"\"\"\n",
    "        query += \"\\n\" + \"\"\"    \"date num min/rt\" VARCHAR(10), \"\"\"\n",
    "        query += \"\\n\" + \"\"\"    \"   6   \" VARCHAR(8), \"\"\"\n",
    "        query += \"\\n\" + \"\"\"    \"   7   \" VARCHAR(8), \"\"\"\n",
    "        query += \"\\n\" + \"\"\"    \"   8   \" VARCHAR(8), \"\"\"\n",
    "        query += \"\\n\" + \"\"\"    \"   14  \" VARCHAR(8), \"\"\"\n",
    "        query += \"\\n\" + \"\"\"    \"   52  \" VARCHAR(8) \"\"\"\n",
    "        query += \"\\n\" + \"\"\")\"\"\"\n",
    "        query += \"\\n\" + \"\"\"ORDER BY 1\"\"\"\n",
    "\n",
    "        #print(query + \"\\n\")\n",
    "        cur.execute(query)\n",
    "        row = cur.fetchone()\n",
    "        while row is not None:\n",
    "            #print(row)\n",
    "            outputList.append(row)\n",
    "            row = cur.fetchone()\n",
    "    except (Exception, psycopg2.DatabaseError) as error:\n",
    "        print(query +\" \\n\")\n",
    "        print(\"Error Happend\")\n",
    "        print(error)\n",
    "    finally:\n",
    "        if conn is not None:\n",
    "            conn.close()\n",
    "    return outputList"
   ]
  },
  {
   "cell_type": "code",
   "execution_count": null,
   "metadata": {
    "collapsed": true,
    "scrolled": true
   },
   "outputs": [],
   "source": [
    "tupleList = getWB()\n",
    "print('date num min/rt |    6    |    7    |    8    |    14   |    52   ')\n",
    "print('----------------+---------+---------+---------+---------+---------')\n",
    "for tuple in tupleList:\n",
    "    #print( len(tuple) )\n",
    "    print(tuple[0] + '     ', xstr(tuple[1]), xstr(tuple[2]), xstr(tuple[3]), xstr(tuple[4]), xstr(tuple[5]), sep=\" | \")"
   ]
  },
  {
   "cell_type": "code",
   "execution_count": null,
   "metadata": {
    "collapsed": true
   },
   "outputs": [],
   "source": [
    "def getCD():\n",
    "    outputList = list();\n",
    "    conn = None\n",
    "    try:\n",
    "        conn = psycopg2.connect(\"dbname='mydatabase' user='myuser' host='localhost' port='65432' password='123qwe'\")\n",
    "        cur = conn.cursor()\n",
    "        query =  \"\"\"SELECT * \"\"\"\n",
    "        query += \"\\n\" + \"\"\"FROM crosstab( \"\"\"\n",
    "        query += \"\\n\" + \"\"\"    'SELECT \"\"\"\n",
    "        query += \"\\n\" + \"\"\"        date :: VARCHAR(10), num, emin-smin||''/''||rt :: VARCHAR(7) as time_rt \"\"\"\n",
    "        query += \"\\n\" + \"\"\"    FROM match \"\"\"\n",
    "        query += \"\\n\" + \"\"\"    WHERE \"\"\"\n",
    "        query += \"\\n\" + \"\"\"        po = ''CD'' \"\"\"\n",
    "        query += \"\\n\" + \"\"\"    ORDER BY \"\"\"\n",
    "        query += \"\\n\" + \"\"\"        date, num', \"\"\"\n",
    "        query += \"\\n\" + \"\"\"    'SELECT m from unnest(''{3,4,5,38,40,41}''::int[]) m' \"\"\"\n",
    "        query += \"\\n\" + \"\"\") \"\"\"\n",
    "        query += \"\\n\" + \"\"\"AS ( \"\"\"\n",
    "        query += \"\\n\" + \"\"\"    \"date num min/rt\" VARCHAR(10), \"\"\"\n",
    "        query += \"\\n\" + \"\"\"    \"   3   \" VARCHAR(8), \"\"\"\n",
    "        query += \"\\n\" + \"\"\"    \"   4   \" VARCHAR(8), \"\"\"\n",
    "        query += \"\\n\" + \"\"\"    \"   5   \" VARCHAR(8), \"\"\"\n",
    "        query += \"\\n\" + \"\"\"    \"   38  \" VARCHAR(8), \"\"\"\n",
    "        query += \"\\n\" + \"\"\"    \"   40  \" VARCHAR(8), \"\"\"\n",
    "        query += \"\\n\" + \"\"\"    \"   41  \" VARCHAR(8) \"\"\"\n",
    "        query += \"\\n\" + \"\"\")\"\"\"\n",
    "        query += \"\\n\" + \"\"\"ORDER BY 1\"\"\"\n",
    "\n",
    "        #print(query + \"\\n\")\n",
    "        cur.execute(query)\n",
    "        row = cur.fetchone()\n",
    "        while row is not None:\n",
    "            #print(row)\n",
    "            outputList.append(row)\n",
    "            row = cur.fetchone()\n",
    "    except (Exception, psycopg2.DatabaseError) as error:\n",
    "        print(query + \"\\n\")\n",
    "        print(\"Error Happend\")\n",
    "        print(error)\n",
    "    finally:\n",
    "        if conn is not None:\n",
    "            conn.close()\n",
    "    return outputList"
   ]
  },
  {
   "cell_type": "code",
   "execution_count": null,
   "metadata": {
    "collapsed": true
   },
   "outputs": [],
   "source": [
    "tupleList = getCD()\n",
    "print('date num min/rt |    3    |    4    |    5    |    38   |    40   |    41   ')\n",
    "print('----------------+---------+---------+---------+---------+---------+---------')\n",
    "for tuple in tupleList:\n",
    "    #print( len(tuple) )\n",
    "    print(tuple[0] + '     ', xstr(tuple[1]), xstr(tuple[2]), xstr(tuple[3]), xstr(tuple[4]), xstr(tuple[5]), xstr(tuple[6]), sep=\" | \")"
   ]
  },
  {
   "cell_type": "code",
   "execution_count": null,
   "metadata": {
    "collapsed": true
   },
   "outputs": [],
   "source": [
    "def getW():\n",
    "    outputList = list();\n",
    "    conn = None\n",
    "    try:\n",
    "        conn = psycopg2.connect(\"dbname='mydatabase' user='myuser' host='localhost' port='65432' password='123qwe'\")\n",
    "        cur = conn.cursor()\n",
    "        query =  \"\"\"SELECT * \"\"\"\n",
    "        query += \"\\n\" + \"\"\"FROM crosstab( \"\"\"\n",
    "        query += \"\\n\" + \"\"\"    'SELECT \"\"\"\n",
    "        query += \"\\n\" + \"\"\"        date :: VARCHAR(10), num, emin-smin||''/''||rt :: VARCHAR(7) as time_rt \"\"\"\n",
    "        query += \"\\n\" + \"\"\"    FROM match \"\"\"\n",
    "        query += \"\\n\" + \"\"\"    WHERE \"\"\"\n",
    "        query += \"\\n\" + \"\"\"        po = ''W'' \"\"\"\n",
    "        query += \"\\n\" + \"\"\"    ORDER BY \"\"\"\n",
    "        query += \"\\n\" + \"\"\"        date, num', \"\"\"\n",
    "        query += \"\\n\" + \"\"\"    'SELECT m from unnest(''{13,15,21,22,23}''::int[]) m' \"\"\"\n",
    "        query += \"\\n\" + \"\"\") \"\"\"\n",
    "        query += \"\\n\" + \"\"\"AS ( \"\"\"\n",
    "        query += \"\\n\" + \"\"\"    \"date num min/rt\" VARCHAR(10), \"\"\"\n",
    "        query += \"\\n\" + \"\"\"    \"   13   \" VARCHAR(8), \"\"\"\n",
    "        query += \"\\n\" + \"\"\"    \"   15   \" VARCHAR(8), \"\"\"\n",
    "        query += \"\\n\" + \"\"\"    \"   21   \" VARCHAR(8), \"\"\"\n",
    "        query += \"\\n\" + \"\"\"    \"   22   \" VARCHAR(8), \"\"\"\n",
    "        query += \"\\n\" + \"\"\"    \"   23   \" VARCHAR(8) \"\"\"\n",
    "        query += \"\\n\" + \"\"\")\"\"\"\n",
    "        query += \"\\n\" + \"\"\"ORDER BY 1\"\"\"\n",
    "\n",
    "        #print(query + \"\\n\")\n",
    "        cur.execute(query)\n",
    "        row = cur.fetchone()\n",
    "        while row is not None:\n",
    "            #print(row)\n",
    "            outputList.append(row)\n",
    "            row = cur.fetchone()\n",
    "    except (Exception, psycopg2.DatabaseError) as error:\n",
    "        print(query + \"\\n\")\n",
    "        print(\"Error Happend\")\n",
    "        print(error)\n",
    "    finally:\n",
    "        if conn is not None:\n",
    "            conn.close()\n",
    "    return outputList"
   ]
  },
  {
   "cell_type": "code",
   "execution_count": null,
   "metadata": {
    "collapsed": true
   },
   "outputs": [],
   "source": [
    "tupleList = getW()\n",
    "print('date num min/rt |    13   |    15   |    21   |    22   |    23   ')\n",
    "print('----------------+---------+---------+---------+---------+---------')\n",
    "for tuple in tupleList:\n",
    "    #print( len(tuple) )\n",
    "    print(tuple[0] + '     ', xstr(tuple[1]), xstr(tuple[2]), xstr(tuple[3]), xstr(tuple[4]), xstr(tuple[5]), sep=\" | \")"
   ]
  },
  {
   "cell_type": "code",
   "execution_count": null,
   "metadata": {
    "collapsed": true
   },
   "outputs": [],
   "source": [
    "def getIM():\n",
    "    outputList = list();\n",
    "    conn = None\n",
    "    try:\n",
    "        conn = psycopg2.connect(\"dbname='mydatabase' user='myuser' host='localhost' port='65432' password='123qwe'\")\n",
    "        cur = conn.cursor()\n",
    "        query =  \"\"\"SELECT * \"\"\"\n",
    "        query += \"\\n\" + \"\"\"FROM crosstab( \"\"\"\n",
    "        query += \"\\n\" + \"\"\"    'SELECT \"\"\"\n",
    "        query += \"\\n\" + \"\"\"        date :: VARCHAR(10), num, emin-smin||''/''||rt :: VARCHAR(7) as time_rt \"\"\"\n",
    "        query += \"\\n\" + \"\"\"    FROM match \"\"\"\n",
    "        query += \"\\n\" + \"\"\"    WHERE \"\"\"\n",
    "        query += \"\\n\" + \"\"\"        po = ''IM'' \"\"\"\n",
    "        query += \"\\n\" + \"\"\"    ORDER BY \"\"\"\n",
    "        query += \"\\n\" + \"\"\"        date, num', \"\"\"\n",
    "        query += \"\\n\" + \"\"\"    'SELECT m from unnest(''{9,10,11,12,25,34}''::int[]) m' \"\"\"\n",
    "        query += \"\\n\" + \"\"\") \"\"\"\n",
    "        query += \"\\n\" + \"\"\"AS ( \"\"\"\n",
    "        query += \"\\n\" + \"\"\"    \"date num min/rt\" VARCHAR(10), \"\"\"\n",
    "        query += \"\\n\" + \"\"\"    \"   9   \" VARCHAR(8), \"\"\"\n",
    "        query += \"\\n\" + \"\"\"    \"   10  \" VARCHAR(8), \"\"\"\n",
    "        query += \"\\n\" + \"\"\"    \"   11  \" VARCHAR(8), \"\"\"\n",
    "        query += \"\\n\" + \"\"\"    \"   12  \" VARCHAR(8), \"\"\"\n",
    "        query += \"\\n\" + \"\"\"    \"   25  \" VARCHAR(8), \"\"\"\n",
    "        query += \"\\n\" + \"\"\"    \"   34  \" VARCHAR(8) \"\"\"\n",
    "        query += \"\\n\" + \"\"\")\"\"\"\n",
    "        query += \"\\n\" + \"\"\"ORDER BY 1\"\"\"\n",
    "\n",
    "        #print(query + \"\\n\")\n",
    "        cur.execute(query)\n",
    "        row = cur.fetchone()\n",
    "        while row is not None:\n",
    "            #print(row)\n",
    "            outputList.append(row)\n",
    "            row = cur.fetchone()\n",
    "    except (Exception, psycopg2.DatabaseError) as error:\n",
    "        print(query + \"\\n\")\n",
    "        print(\"Error Happend\")\n",
    "        print(error)\n",
    "    finally:\n",
    "        if conn is not None:\n",
    "            conn.close()\n",
    "    return outputList"
   ]
  },
  {
   "cell_type": "code",
   "execution_count": null,
   "metadata": {
    "collapsed": true
   },
   "outputs": [],
   "source": [
    "tupleList = getIM()\n",
    "print('date num min/rt |    09   |    10   |    11   |    12   |    25   |    34   ')\n",
    "print('----------------+---------+---------+---------+---------+---------+---------')\n",
    "for tuple in tupleList:\n",
    "    #print( len(tuple) )\n",
    "    print(tuple[0] + '     ', xstr(tuple[1]),xstr(tuple[2]),xstr(tuple[3]),xstr(tuple[4]),xstr(tuple[5]),xstr(tuple[6]),sep=\" | \")"
   ]
  },
  {
   "cell_type": "code",
   "execution_count": null,
   "metadata": {
    "collapsed": true
   },
   "outputs": [],
   "source": [
    "def getFW():\n",
    "    outputList = list();\n",
    "    conn = None\n",
    "    try:\n",
    "        conn = psycopg2.connect(\"dbname='mydatabase' user='myuser' host='localhost' port='65432' password='123qwe'\")\n",
    "        cur = conn.cursor()\n",
    "        query =  \"\"\"SELECT * \"\"\"\n",
    "        query += \"\\n\" + \"\"\"FROM crosstab( \"\"\"\n",
    "        query += \"\\n\" + \"\"\"    'SELECT \"\"\"\n",
    "        query += \"\\n\" + \"\"\"        date :: VARCHAR(10), num :: VARCHAR(2), emin-smin||''/''||rt :: VARCHAR(7) as time_rt \"\"\"\n",
    "        query += \"\\n\" + \"\"\"    FROM match \"\"\"\n",
    "        query += \"\\n\" + \"\"\"    WHERE \"\"\"\n",
    "        query += \"\\n\" + \"\"\"        po = ''FW'' \"\"\"\n",
    "        query += \"\\n\" + \"\"\"    ORDER BY \"\"\"\n",
    "        query += \"\\n\" + \"\"\"        date, num', \"\"\"\n",
    "        query += \"\\n\" + \"\"\"    'SELECT m from unnest(''{16,17,18,31,48}''::int[]) m' \"\"\"\n",
    "        query += \"\\n\" + \"\"\") \"\"\"\n",
    "        query += \"\\n\" + \"\"\"AS ( \"\"\"\n",
    "        query += \"\\n\" + \"\"\"    \"date num min/rt\" VARCHAR(10), \"\"\"\n",
    "        query += \"\\n\" + \"\"\"    \"   16  \" VARCHAR(8), \"\"\"\n",
    "        query += \"\\n\" + \"\"\"    \"   17  \" VARCHAR(8), \"\"\"\n",
    "        query += \"\\n\" + \"\"\"    \"   18  \" VARCHAR(8), \"\"\"\n",
    "        query += \"\\n\" + \"\"\"    \"   31  \" VARCHAR(8), \"\"\"\n",
    "        query += \"\\n\" + \"\"\"    \"   48  \" VARCHAR(8) \"\"\"\n",
    "        query += \"\\n\" + \"\"\")\"\"\"\n",
    "        query += \"\\n\" + \"\"\"ORDER BY 1\"\"\"\n",
    "\n",
    "        #print(query + \"\\n\")\n",
    "        cur.execute(query)\n",
    "        row = cur.fetchone()\n",
    "        while row is not None:\n",
    "            #print(row)\n",
    "            outputList.append(row)\n",
    "            row = cur.fetchone()\n",
    "    except (Exception, psycopg2.DatabaseError) as error:\n",
    "        print(query + \"\\n\")\n",
    "        print(\"Error Happend\")\n",
    "        print(error)\n",
    "    finally:\n",
    "        if conn is not None:\n",
    "            conn.close()\n",
    "    return outputList"
   ]
  },
  {
   "cell_type": "code",
   "execution_count": null,
   "metadata": {
    "collapsed": true,
    "scrolled": true
   },
   "outputs": [],
   "source": [
    "tupleList = getFW()\n",
    "print('date num min/rt |    16   |    17   |    18   |    31   |    48   ')\n",
    "print('----------------+---------+---------+---------+---------+---------')\n",
    "for tuple in tupleList:\n",
    "    #print( len(tuple) )\n",
    "    print(tuple[0] + '     ', xstr(tuple[1]), xstr(tuple[2]), xstr(tuple[3]), xstr(tuple[4]), xstr(tuple[5]), sep=\" | \")"
   ]
  },
  {
   "cell_type": "code",
   "execution_count": null,
   "metadata": {
    "collapsed": true
   },
   "outputs": [],
   "source": []
  }
 ],
 "metadata": {
  "kernelspec": {
   "display_name": "Python 3",
   "language": "python",
   "name": "python3"
  },
  "language_info": {
   "codemirror_mode": {
    "name": "ipython",
    "version": 3
   },
   "file_extension": ".py",
   "mimetype": "text/x-python",
   "name": "python",
   "nbconvert_exporter": "python",
   "pygments_lexer": "ipython3",
   "version": "3.6.3"
  }
 },
 "nbformat": 4,
 "nbformat_minor": 2
}
