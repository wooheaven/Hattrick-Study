{
 "cells": [
  {
   "cell_type": "code",
   "execution_count": 1,
   "metadata": {
    "collapsed": true
   },
   "outputs": [],
   "source": [
    "import sys\n",
    "\n",
    "sys.path.insert(0, '../03_Remake_with_TDD/algorithms')\n",
    "from ht_time import *\n",
    "\n",
    "sys.path.insert(0, '../03_Remake_with_TDD/postgresql')\n",
    "from ht_player_postgresql import *\n",
    "from ht_match_postgresql import *"
   ]
  },
  {
   "cell_type": "code",
   "execution_count": 2,
   "metadata": {},
   "outputs": [
    {
     "name": "stdout",
     "output_type": "stream",
     "text": [
      "folder = 2018/10/10\n"
     ]
    }
   ],
   "source": [
    "ht_time = HattrickTime()\n",
    "folder = ht_time.findLastSunOrWed()\n",
    "# folder = ht_time.findLastSunOrWed('2018/04/04')\n",
    "# folder = ht_time.findLastSunOrWed('2018/06/13')\n",
    "# folder = \"2018/07/01\"\n",
    "print(\"folder =\", folder)"
   ]
  },
  {
   "cell_type": "code",
   "execution_count": null,
   "metadata": {
    "collapsed": true
   },
   "outputs": [],
   "source": [
    "folder = \"2018/10/03\"\n",
    "print(\"folder =\", folder)"
   ]
  },
  {
   "cell_type": "code",
   "execution_count": 3,
   "metadata": {
    "collapsed": true
   },
   "outputs": [],
   "source": [
    "import re\n",
    "from bs4 import BeautifulSoup"
   ]
  },
  {
   "cell_type": "code",
   "execution_count": 4,
   "metadata": {
    "collapsed": true,
    "scrolled": true
   },
   "outputs": [],
   "source": [
    "import sys\n",
    "\n",
    "sys.path.insert(0, '../97_Parse/')\n",
    "from parseMatch import *\n",
    "\n",
    "sys.path.insert(0, '../98_Crawler/01_DualMonitor/')\n",
    "from DualMonitor import getIsDualMonitor\n",
    "\n",
    "sys.path.insert(0, '../98_Crawler/02_WebBrowser/')\n",
    "from FirefoxTab import clickTabOfFireFox\n",
    "from crawMatch import *\n",
    "\n",
    "sys.path.insert(0, '../98_Crawler/03_OnScreen/')\n",
    "from Empty import clickEmpty\n",
    "from MoveScroll import moveScroll\n",
    "from MoveFindMoveClick import moveByImage, moveByImageWithModify\n",
    "\n",
    "sys.path.insert(0, '../98_Crawler/04_Login/')\n",
    "# from HattrickLogInOut import clickFacebookLogin, clickFacebookLogout\n",
    "from HattrickLogInOut import clickHattrickLogin2, clickHattrickLogout"
   ]
  },
  {
   "cell_type": "code",
   "execution_count": 34,
   "metadata": {},
   "outputs": [
    {
     "name": "stdout",
     "output_type": "stream",
     "text": [
      "use 2 monitor = 3840 x 1080 isDualMonitor= True\n"
     ]
    }
   ],
   "source": [
    "# isDualMonitor\n",
    "isDualMonitor = getIsDualMonitor()\n",
    "\n",
    "# Hattrick LastKeeper Tab\n",
    "clickTabOfFireFox(5, isDualMonitor)\n",
    "\n",
    "# Hattrick Login by Facebook\n",
    "# clickEmpty(410, isDualMonitor)\n",
    "clickEmpty(305, isDualMonitor)\n",
    "moveScroll(20)\n",
    "# clickFacebookLogin(484, 395, isDualMonitor)\n",
    "clickHattrickLogin2(500, 305, isDualMonitor)\n",
    "\n",
    "# # Hattrick Logout by Facebook\n",
    "# clickEmpty(336, isDualMonitor)\n",
    "# moveScroll(20)\n",
    "# clickFacebookLogout(1258, 336, isDualMonitor)"
   ]
  },
  {
   "cell_type": "code",
   "execution_count": null,
   "metadata": {},
   "outputs": [],
   "source": [
    "# isDualMonitor\n",
    "isDualMonitor = getIsDualMonitor()\n",
    "\n",
    "# Hattrick LastKeeper Tab\n",
    "clickTabOfFireFox(5, isDualMonitor)\n",
    "\n",
    "# Hattrick Login by Facebook\n",
    "# clickEmpty(410, isDualMonitor)\n",
    "clickEmpty(305, isDualMonitor)\n",
    "moveScroll(20)\n",
    "# clickFacebookLogin(484, 394, isDualMonitor)\n",
    "clickHattrickLogin2(500, 305, isDualMonitor)\n",
    "\n",
    "# Hattrick MyClub\n",
    "moveScroll(20)\n",
    "moveByImage(530, 340, 77, 42, isDualMonitor, 'screen-MyClub.png')\n",
    "\n",
    "# Hattrick Match\n",
    "clickEmpty(700, isDualMonitor)\n",
    "moveScroll(20)\n",
    "moveByImage(384, 696, 80, 108, isDualMonitor, 'screen-Match.png')\n",
    "\n",
    "# # Hattrick LastMatch\n",
    "clickEmpty(831, isDualMonitor)\n",
    "moveScroll(20)\n",
    "# # moveByImageWithModify(1040, 831, 15, -15, 58, 48, isDualMonitor, 'screen-LastMatch.png')\n",
    "moveAndClick(1082, 837, isDualMonitor)\n",
    "time.sleep(5)\n",
    "\n",
    "# FirefoxFile\n",
    "moveAndClick(90, 15, isDualMonitor)\n",
    "\n",
    "# SavePageAs\n",
    "moveAndClick(91, 130, isDualMonitor)\n",
    "\n",
    "# Type match\n",
    "time.sleep(1)\n",
    "typeFileName()\n",
    "\n",
    "# rwoo folder\n",
    "moveAndClick(570, 460, isDualMonitor)\n",
    "\n",
    "# 02_workspace folder\n",
    "moveAndClicks(720, 440, isDualMonitor, 2)\n",
    "\n",
    "# 04_Hattrick folder\n",
    "moveAndClicks(720, 500, isDualMonitor, 2)\n",
    "\n",
    "# HattrickStudy\n",
    "moveAndClicks(720, 415, isDualMonitor, 2)\n",
    "\n",
    "# 00_LastKeeper\n",
    "moveAndClicks(720, 415, isDualMonitor, 2)\n",
    "\n",
    "# 2018\n",
    "moveAndClicks(720, 440, isDualMonitor, 2)\n",
    "\n",
    "# Last Month\n",
    "clickLastMonthOrDay()\n",
    "\n",
    "# Last Day\n",
    "clickLastMonthOrDay()\n",
    "\n",
    "# Save\n",
    "moveByImage(1280, 847, 91, 41, isDualMonitor, 'screen-Save.png')\n",
    "\n",
    "# Hattrick Logout by Facebook\n",
    "clickEmpty(336, isDualMonitor)\n",
    "moveScroll(20)\n",
    "# clickFacebookLogout(1258, 337, isDualMonitor)\n",
    "clickHattrickLogout(1270, 370, isDualMonitor)\n",
    "\n",
    "# Jupyter Tab\n",
    "clickTabOfFireFox(7, isDualMonitor)"
   ]
  },
  {
   "cell_type": "code",
   "execution_count": 5,
   "metadata": {
    "collapsed": true
   },
   "outputs": [],
   "source": [
    "from ht_file import *\n",
    "HattrickFile = HattrickFile()"
   ]
  },
  {
   "cell_type": "code",
   "execution_count": 6,
   "metadata": {},
   "outputs": [
    {
     "name": "stdout",
     "output_type": "stream",
     "text": [
      "2018/10/10/match_files\t\t : is not exitsed\n"
     ]
    }
   ],
   "source": [
    "HattrickFile.check_and_delete_folder(folder + '/match_files')"
   ]
  },
  {
   "cell_type": "code",
   "execution_count": 7,
   "metadata": {
    "collapsed": true
   },
   "outputs": [],
   "source": [
    "from ht_match import *"
   ]
  },
  {
   "cell_type": "code",
   "execution_count": 8,
   "metadata": {},
   "outputs": [],
   "source": [
    "HattrickMatch = HattrickMatch()\n",
    "ht_player_table_name = 'player_tmp'"
   ]
  },
  {
   "cell_type": "code",
   "execution_count": 9,
   "metadata": {},
   "outputs": [
    {
     "name": "stdout",
     "output_type": "stream",
     "text": [
      "Home\n"
     ]
    }
   ],
   "source": [
    "match_dict_list = HattrickMatch.findMatchList(folder + '/match.html', 'mydatabase', ht_player_table_name)"
   ]
  },
  {
   "cell_type": "code",
   "execution_count": 10,
   "metadata": {},
   "outputs": [
    {
     "name": "stdout",
     "output_type": "stream",
     "text": [
      "\n",
      "cat match_str_List\n",
      "\n",
      "po,num,rt,sMin,eMin\n",
      "KP,2,8.0,0,90\n",
      "WB,61,4.5,0,90\n",
      "WB,78,4.5,0,70\n",
      "WB,6,4.0,70,90\n",
      "CD,70,5.5,0,90\n",
      "CD,4,4.5,0,75\n",
      "CD,72,4.0,75,90\n",
      "W,15,5.0,0,90\n",
      "W,8,4.5,0,55\n",
      "W,65,4.0,55,90\n",
      "IM,12,5.0,0,90\n",
      "IM,25,5.0,0,90\n",
      "FW,16,5.5,0,90\n",
      "FW,31,4.5,0,90\n"
     ]
    }
   ],
   "source": [
    "match_str_list = HattrickMatch.matchDictListToMatchStrList(match_dict_list)\n",
    "\n",
    "print(\"\\ncat match_str_List\\n\")\n",
    "for str_line in match_str_list:\n",
    "    print(str_line)"
   ]
  },
  {
   "cell_type": "code",
   "execution_count": 11,
   "metadata": {},
   "outputs": [
    {
     "name": "stdout",
     "output_type": "stream",
     "text": [
      "2018/10/10/match.txt\t : is not existed\n"
     ]
    }
   ],
   "source": [
    "HattrickFile.check_and_delete_file(folder + '/match.txt')"
   ]
  },
  {
   "cell_type": "code",
   "execution_count": 12,
   "metadata": {
    "collapsed": true
   },
   "outputs": [],
   "source": [
    "for line in match_str_list:\n",
    "    with open (folder + '/match.txt', 'a') as f:\n",
    "        f.write(line + \"\\n\")"
   ]
  },
  {
   "cell_type": "code",
   "execution_count": 13,
   "metadata": {
    "collapsed": true
   },
   "outputs": [],
   "source": [
    "import psycopg2"
   ]
  },
  {
   "cell_type": "code",
   "execution_count": 14,
   "metadata": {},
   "outputs": [
    {
     "data": {
      "text/plain": [
       "<connection object at 0x7f185c086178; dsn: 'user=myuser password=xxx dbname=mydatabase host=localhost port=65432', closed: 0>"
      ]
     },
     "execution_count": 14,
     "metadata": {},
     "output_type": "execute_result"
    }
   ],
   "source": [
    "conn = psycopg2.connect(\"dbname='mydatabase' user='myuser' host='localhost' port='65432' password='123qwe'\")\n",
    "conn"
   ]
  },
  {
   "cell_type": "code",
   "execution_count": null,
   "metadata": {
    "collapsed": true
   },
   "outputs": [],
   "source": [
    "# def dropMatchTable():\n",
    "#     conn = None\n",
    "#     try:\n",
    "#         conn = psycopg2.connect(\"dbname='mydatabase' user='myuser' host='localhost' port='65432' password='123qwe'\")\n",
    "#         cur = conn.cursor()\n",
    "#         sql = \"\"\"DROP TABLE IF EXISTS match ; \"\"\"\n",
    "#         cur.execute(sql)\n",
    "#         conn.commit()\n",
    "#     except(Exception, psycopg2.DatabaseError) as error:\n",
    "#         print(error)\n",
    "#     finally:\n",
    "#         if conn is not None:\n",
    "#             conn.close()"
   ]
  },
  {
   "cell_type": "code",
   "execution_count": null,
   "metadata": {
    "collapsed": true
   },
   "outputs": [],
   "source": [
    "#dropMatchTable()"
   ]
  },
  {
   "cell_type": "code",
   "execution_count": null,
   "metadata": {
    "collapsed": true
   },
   "outputs": [],
   "source": [
    "# def createMatchTable():\n",
    "#     conn = None\n",
    "#     try:\n",
    "#         conn = psycopg2.connect(\"dbname='mydatabase' user='myuser' host='localhost' port='65432' password='123qwe'\")\n",
    "#         cur = conn.cursor()\n",
    "#         sql = \"\"\"\n",
    "# CREATE TABLE match (\n",
    "#     Date DATE,          --01\n",
    "#     Po   VARCHAR(5),    --02 Position\n",
    "#     Num  INT,           --03 Number\n",
    "#     RT   NUMERIC(2, 1), --04 Rating\n",
    "#     sMin INT,           --05 Start Min\n",
    "#     eMin INT            --06 End Min\n",
    "# ) ; \"\"\"\n",
    "#         cur.execute(sql)\n",
    "#         conn.commit()\n",
    "#     except(Exception, psycopg2.DatabaseError) as error:\n",
    "#         print(error)\n",
    "#     finally:\n",
    "#         if conn is not None:\n",
    "#             conn.close()"
   ]
  },
  {
   "cell_type": "code",
   "execution_count": null,
   "metadata": {
    "collapsed": true
   },
   "outputs": [],
   "source": [
    "# createMatchTable()"
   ]
  },
  {
   "cell_type": "code",
   "execution_count": 15,
   "metadata": {
    "collapsed": true
   },
   "outputs": [],
   "source": [
    "hattrickMatchPostgresql = HattrickMatchPostgreSQL()\n",
    "hattrickPlayerPostgresql = HattrickPlayerPostgreSQL()"
   ]
  },
  {
   "cell_type": "code",
   "execution_count": 16,
   "metadata": {},
   "outputs": [
    {
     "data": {
      "text/plain": [
       "932"
      ]
     },
     "execution_count": 16,
     "metadata": {},
     "output_type": "execute_result"
    }
   ],
   "source": [
    "hattrickMatchPostgresql.select_count_of_match(conn)"
   ]
  },
  {
   "cell_type": "code",
   "execution_count": 17,
   "metadata": {
    "collapsed": true
   },
   "outputs": [],
   "source": [
    "import csv\n",
    "with open(folder + '/match.txt', 'r', encoding='utf-8') as f:\n",
    "    reader = csv.reader(f, delimiter=',')\n",
    "    for row in reader:\n",
    "        if(re.match( '^[0-9]{1,2}', row[1] ) ) :\n",
    "            hattrickMatchPostgresql.insert_to_match(conn, folder.replace('/', '-'), row)"
   ]
  },
  {
   "cell_type": "code",
   "execution_count": 18,
   "metadata": {},
   "outputs": [
    {
     "data": {
      "text/plain": [
       "946"
      ]
     },
     "execution_count": 18,
     "metadata": {},
     "output_type": "execute_result"
    }
   ],
   "source": [
    "hattrickMatchPostgresql.select_count_of_match(conn)"
   ]
  },
  {
   "cell_type": "code",
   "execution_count": 19,
   "metadata": {
    "collapsed": true
   },
   "outputs": [],
   "source": [
    "hattrickMatchPostgresql.update_rt_of_match(conn, ht_player_table_name)"
   ]
  },
  {
   "cell_type": "code",
   "execution_count": 20,
   "metadata": {
    "scrolled": true
   },
   "outputs": [
    {
     "name": "stdout",
     "output_type": "stream",
     "text": [
      "KP\t2\t7.5\t0\t90\n",
      "WB\t78\t4.5\t0\t70\n",
      "WB\t6\t4.0\t70\t90\n",
      "WB\t61\t4.5\t0\t90\n",
      "CD\t4\t4.5\t0\t75\n",
      "CD\t72\t4.0\t75\t90\n",
      "CD\t70\t5.0\t0\t90\n",
      "W\t8\t4.5\t0\t55\n",
      "W\t65\t4.0\t55\t90\n",
      "W\t15\t5.0\t0\t90\n",
      "IM\t25\t4.5\t0\t90\n",
      "IM\t12\t5.0\t0\t90\n",
      "FW\t31\t4.5\t0\t90\n",
      "FW\t16\t5.5\t0\t90\n"
     ]
    }
   ],
   "source": [
    "tupleList = hattrickMatchPostgresql.getMatchByDate(folder, conn)\n",
    "hattrickMatchPostgresql.printMatchByDate(tupleList)"
   ]
  },
  {
   "cell_type": "code",
   "execution_count": 21,
   "metadata": {
    "scrolled": true
   },
   "outputs": [
    {
     "name": "stdout",
     "output_type": "stream",
     "text": [
      "2018/10/10/match.txt\t : will be removed\n",
      "2018/10/10/match.txt\t : is not existed\n"
     ]
    }
   ],
   "source": [
    "HattrickFile.check_and_delete_file(folder + '/match.txt')"
   ]
  },
  {
   "cell_type": "code",
   "execution_count": 22,
   "metadata": {
    "collapsed": true
   },
   "outputs": [],
   "source": [
    "with open ( folder + '/match.txt', 'a' ) as f:\n",
    "    f.write(\"po,num,rt,sMin,eMin\\n\")\n",
    "    f.write( '\\n'.join('%s,%s,%s,%s,%s' % myTuple for myTuple in tupleList) + '\\n' )"
   ]
  },
  {
   "cell_type": "code",
   "execution_count": 23,
   "metadata": {
    "scrolled": true
   },
   "outputs": [
    {
     "name": "stdout",
     "output_type": "stream",
     "text": [
      "date num min/rt |    02   |    76   |\n",
      "----------------|---------|---------|\n",
      "2018-09-12      |  90/6.0 |         |\n",
      "2018-09-16      |         |  90/4.5 |\n",
      "2018-09-19      |  90/6.5 |         |\n",
      "2018-09-23      |         |  90/4.5 |\n",
      "2018-09-26      |  90/7.0 |         |\n",
      "2018-09-30      |         |  90/5.0 |\n",
      "2018-10-03      |  90/7.5 |         |\n",
      "2018-10-07      |         |  90/5.0 |\n",
      "2018-10-10      |  90/7.5 |         |\n"
     ]
    }
   ],
   "source": [
    "tupleList = hattrickMatchPostgresql.getMatchByPoNum(conn, 'KP', [2,76])\n",
    "hattrickMatchPostgresql.printMatchByPoNum(tupleList, [2,76])"
   ]
  },
  {
   "cell_type": "code",
   "execution_count": 26,
   "metadata": {
    "scrolled": false
   },
   "outputs": [
    {
     "name": "stdout",
     "output_type": "stream",
     "text": [
      "date num min/rt |    06   |    61   |    78   |    80   |    81   |\n",
      "----------------|---------|---------|---------|---------|---------|\n",
      "2018-09-12      |         |  15/5.0 |  75/4.5 |         |         |\n",
      "2018-09-16      |  90/4.0 |         |         |         |         |\n",
      "2018-09-19      |         |         |  65/4.5 |         |         |\n",
      "2018-09-23      |         |  90/4.0 |         |         |         |\n",
      "2018-09-26      |  62/4.5 |         |  90/4.5 |         |         |\n",
      "2018-09-30      |         |         |         |  46/5.0 |  44/4.5 |\n",
      "2018-10-03      |  20/4.0 |  90/4.5 |  70/4.5 |         |         |\n",
      "2018-10-07      |  20/4.0 |         |         |  90/5.0 |  70/4.5 |\n",
      "2018-10-10      |  20/4.0 |  90/4.5 |  70/4.5 |         |         |\n",
      "Num\tb_p\tb_p_v\twbd_p\twb_p\twbtm_p\twbo_p\n",
      "6\tWBd\t6.75\t6.75\t6.52\t6.38\t6.27\n",
      "61\tWBd\t8.55\t8.55\t8.33\t8.22\t8.09\n",
      "78\tWBd\t6.78\t6.78\t6.34\t6.29\t5.87\n",
      "80\tWBd\t8.9\t8.90\t8.68\t8.58\t8.45\n",
      "81\tWBd\t8.19\t8.19\t7.90\t7.95\t7.61\n"
     ]
    }
   ],
   "source": [
    "tupleList = hattrickMatchPostgresql.getMatchByPoNum(conn, 'WB', [6,61,78,80,81])\n",
    "hattrickMatchPostgresql.printMatchByPoNum(tupleList, [6,61,78,80,81])\n",
    "#  6 -> backUp\n",
    "# 14 -> out\n",
    "tupleList = hattrickPlayerPostgresql.select(conn, ht_player_table_name, folder, [6,61,78,80,81], 'wb')\n",
    "print('Num', 'b_p', 'b_p_v', 'wbd_p', 'wb_p', 'wbtm_p', 'wbo_p', sep='\\t')\n",
    "hattrickPlayerPostgresql.print(tupleList, sep='\\t')"
   ]
  },
  {
   "cell_type": "code",
   "execution_count": 27,
   "metadata": {},
   "outputs": [
    {
     "name": "stdout",
     "output_type": "stream",
     "text": [
      "date num min/rt |    04   |    38   |    40   |    52   |    70   |    72   |\n",
      "----------------|---------|---------|---------|---------|---------|---------|\n",
      "2018-09-12      |         |         |  90/5.0 |         |  50/5.5 |  40/4.0 |\n",
      "2018-09-16      |         |  90/4.0 |         |         |  38/4.5 |         |\n",
      "2018-09-19      |  46/4.0 |         |  90/4.5 |         |         |  44/4.0 |\n",
      "2018-09-23      |         |  90/4.0 |  90/4.5 |         |         |         |\n",
      "2018-09-26      |  90/4.0 |         |         |         |  76/5.0 |         |\n",
      "2018-09-30      |         |  90/4.0 |  90/5.5 |         |         |         |\n",
      "2018-10-03      |  90/4.5 |         |         |         |         |  90/4.0 |\n",
      "2018-10-07      |         |  44/3.5 |  90/5.5 |  46/5.0 |         |         |\n",
      "2018-10-10      |  75/4.5 |         |         |         |  90/5.0 |  15/4.0 |\n",
      "Num\tb_p\tb_p_v\twbd_p\twb_p\twbtm_p\twbo_p\n",
      "6\tWBd\t6.75\t6.21\t6.56\t5.62\n",
      "61\tWBd\t8.55\t8.08\t8.39\t7.53\n",
      "78\tWBd\t6.78\t6.23\t6.62\t5.29\n",
      "80\tWBd\t8.9\t8.44\t8.75\t7.91\n",
      "81\tWBd\t8.19\t8.02\t8.16\t7.49\n"
     ]
    }
   ],
   "source": [
    "tupleList = hattrickMatchPostgresql.getMatchByPoNum(conn, 'CD', [4,38,40,52,70,72])\n",
    "hattrickMatchPostgresql.printMatchByPoNum(tupleList, [4,38,40,52,70,72])\n",
    "#  4 cd_tw\n",
    "# 38 cd\n",
    "# 40 cd\n",
    "# 52 cd\n",
    "# 70 cd\n",
    "# 72 cd backUp\n",
    "tupleList = hattrickPlayerPostgresql.select(conn, ht_player_table_name, folder, [6,61,78,80,81], 'cd')\n",
    "print('Num', 'b_p', 'b_p_v', 'wbd_p', 'wb_p', 'wbtm_p', 'wbo_p', sep='\\t')\n",
    "hattrickPlayerPostgresql.print(tupleList, sep='\\t')"
   ]
  },
  {
   "cell_type": "code",
   "execution_count": 28,
   "metadata": {
    "scrolled": true
   },
   "outputs": [
    {
     "name": "stdout",
     "output_type": "stream",
     "text": [
      "date num min/rt |    08   |    11   |    13   |    15   |    65   |\n",
      "----------------|---------|---------|---------|---------|---------|\n",
      "2018-09-12      |         |         |  90/5.0 |  90/4.5 |         |\n",
      "2018-09-16      |  65/5.0 |         |  90/4.5 |         |  25/4.5 |\n",
      "2018-09-19      |         |         |  90/4.5 |  90/4.5 |         |\n",
      "2018-09-23      |  60/4.5 |         |  83/4.0 |         |  30/4.0 |\n",
      "2018-09-26      |  44/4.5 |  90/4.0 |         |         |  46/4.0 |\n",
      "2018-09-30      |  50/4.5 |  90/4.0 |         |         |  40/4.0 |\n",
      "2018-10-03      |  46/4.5 |         |         |  90/5.0 |  44/4.0 |\n",
      "2018-10-07      |  44/4.0 |  90/4.0 |  46/3.5 |         |         |\n",
      "2018-10-10      |  55/4.5 |         |         |  90/5.0 |  35/4.0 |\n"
     ]
    }
   ],
   "source": [
    "tupleList = hattrickMatchPostgresql.getMatchByPoNum(conn, 'W', [8,11,13,15,65])\n",
    "hattrickMatchPostgresql.printMatchByPoNum(tupleList, [8,11,13,15,65])\n",
    "#  8 w_m\n",
    "# 11 w_m\n",
    "# 65 w"
   ]
  },
  {
   "cell_type": "code",
   "execution_count": 29,
   "metadata": {
    "scrolled": true
   },
   "outputs": [
    {
     "name": "stdout",
     "output_type": "stream",
     "text": [
      "date num min/rt |    10   |    12   |    25   |    34   |    79   |\n",
      "----------------|---------|---------|---------|---------|---------|\n",
      "2018-09-12      |         |  90/5.0 |  55/5.0 |         |         |\n",
      "2018-09-16      |  90/5.0 |         |         |  90/4.0 |         |\n",
      "2018-09-19      |         |  90/5.0 |  90/4.5 |         |         |\n",
      "2018-09-23      |  90/4.5 |  10/5.0 |         |  80/4.0 |         |\n",
      "2018-09-26      |         |  90/5.0 |  60/5.0 |         |  30/5.5 |\n",
      "2018-09-30      |  90/4.0 |         |         |         |  90/6.0 |\n",
      "2018-10-03      |         |  90/5.0 |  90/4.5 |         |         |\n",
      "2018-10-07      |  90/3.5 |         |         |         |  90/6.0 |\n",
      "2018-10-10      |         |  90/5.0 |  90/4.5 |         |         |\n"
     ]
    }
   ],
   "source": [
    "tupleList = hattrickMatchPostgresql.getMatchByPoNum(conn, 'IM', [10,12,25,34,79])\n",
    "hattrickMatchPostgresql.printMatchByPoNum(tupleList, [10,12,25,34,79])\n",
    "# 34 -> backUp\n",
    "# 79 -> im_d"
   ]
  },
  {
   "cell_type": "code",
   "execution_count": 31,
   "metadata": {
    "scrolled": true
   },
   "outputs": [
    {
     "name": "stdout",
     "output_type": "stream",
     "text": [
      "date num min/rt |    16   |    31   |    48   |    55   |\n",
      "----------------|---------|---------|---------|---------|\n",
      "2018-09-12      |         |  90/4.5 |         |  90/5.0 |\n",
      "2018-09-16      |  90/4.5 |         |  90/4.0 |         |\n",
      "2018-09-19      |  24/4.5 |  66/4.5 |         |  90/5.0 |\n",
      "2018-09-23      |  46/5.0 |         |  44/3.5 |  90/4.5 |\n",
      "2018-09-26      |  90/4.5 |         |         |  90/4.5 |\n",
      "2018-09-30      |  70/5.5 |         |  20/3.0 |  90/4.5 |\n",
      "2018-10-03      |  70/5.5 |         |  20/2.5 |  90/4.5 |\n",
      "2018-10-07      |  90/5.5 |         |         |  90/4.0 |\n",
      "2018-10-10      |  90/5.5 |  90/4.5 |         |         |\n",
      "Num\tb_p\tb_p_v\tfw_p\tfwd_p\tfwtw_p\ttdf_p\n",
      "16\tFWtw\t7.27\t6.97\t6.20\t7.27\t0.00\n",
      "31\tFW\t5.98\t5.98\t5.44\t5.98\t0.00\n",
      "48\tFWtw\t4.89\t4.83\t0.00\t4.89\t4.88\n",
      "55\tIMd\t6.08\t6.08\t5.69\t5.92\t0.00\n"
     ]
    }
   ],
   "source": [
    "tupleList = hattrickMatchPostgresql.getMatchByPoNum(conn, 'FW', [16,31,48,55])\n",
    "hattrickMatchPostgresql.printMatchByPoNum(tupleList, [16,31,48,55])\n",
    "# 16 fw_tw\n",
    "# 31\n",
    "# 48 fw_tw\n",
    "# 55\n",
    "tupleList = hattrickPlayerPostgresql.select(conn, ht_player_table_name, folder, [16,31,48,55], 'fw')\n",
    "print('Num', 'b_p', 'b_p_v', 'fw_p', 'fwd_p', 'fwtw_p', 'tdf_p', sep='\\t')\n",
    "hattrickPlayerPostgresql.print(tupleList, sep='\\t')"
   ]
  },
  {
   "cell_type": "code",
   "execution_count": 32,
   "metadata": {},
   "outputs": [
    {
     "name": "stdout",
     "output_type": "stream",
     "text": [
      "<connection object at 0x7f185c086178; dsn: 'user=myuser password=xxx dbname=mydatabase host=localhost port=65432', closed: 1>\n"
     ]
    }
   ],
   "source": [
    "conn.close()\n",
    "print(conn)"
   ]
  },
  {
   "cell_type": "code",
   "execution_count": 33,
   "metadata": {},
   "outputs": [
    {
     "name": "stdout",
     "output_type": "stream",
     "text": [
      "None\n"
     ]
    }
   ],
   "source": [
    "conn = None\n",
    "print(conn)"
   ]
  },
  {
   "cell_type": "code",
   "execution_count": null,
   "metadata": {
    "collapsed": true
   },
   "outputs": [],
   "source": []
  }
 ],
 "metadata": {
  "kernelspec": {
   "display_name": "Python 3",
   "language": "python",
   "name": "python3"
  },
  "language_info": {
   "codemirror_mode": {
    "name": "ipython",
    "version": 3
   },
   "file_extension": ".py",
   "mimetype": "text/x-python",
   "name": "python",
   "nbconvert_exporter": "python",
   "pygments_lexer": "ipython3",
   "version": "3.6.3"
  }
 },
 "nbformat": 4,
 "nbformat_minor": 2
}
