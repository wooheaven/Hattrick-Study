{
 "cells": [
  {
   "cell_type": "code",
   "execution_count": 1,
   "metadata": {},
   "outputs": [
    {
     "name": "stdout",
     "output_type": "stream",
     "text": [
      "2018-01-01 22:49:50.334229\n",
      "today =  2018/01/01\n"
     ]
    }
   ],
   "source": [
    "import datetime\n",
    "now = datetime.datetime.now()\n",
    "print(now)\n",
    "nowDate = now.strftime('%Y/%m/%d')\n",
    "print(\"today = \", nowDate)"
   ]
  },
  {
   "cell_type": "code",
   "execution_count": 2,
   "metadata": {
    "collapsed": true
   },
   "outputs": [],
   "source": [
    "from datetime import date,timedelta\n",
    "\n",
    "def findLastSunOrWed():\n",
    "    targetDay = date.today()\n",
    "    \n",
    "    # weekday 2 = Wed \n",
    "    # weekday 6 = Sun\n",
    "    offsetWed = (targetDay.weekday() - 2) % 7\n",
    "    offsetSun = (targetDay.weekday() - 6) % 7\n",
    "    offset = min(offsetWed, offsetSun)\n",
    "    \n",
    "    targetDay = targetDay - timedelta(days=offset)\n",
    "    #print(\"Target Day : \", targetDay, targetDay.weekday())\n",
    "    \n",
    "    return targetDay.strftime('%Y/%m/%d')"
   ]
  },
  {
   "cell_type": "code",
   "execution_count": 3,
   "metadata": {},
   "outputs": [
    {
     "name": "stdout",
     "output_type": "stream",
     "text": [
      "target = 2017/12/31\n"
     ]
    }
   ],
   "source": [
    "folder = findLastSunOrWed()\n",
    "print(\"target =\", folder)"
   ]
  },
  {
   "cell_type": "code",
   "execution_count": 4,
   "metadata": {
    "collapsed": true
   },
   "outputs": [],
   "source": [
    "# debugging\n",
    "#folder = \"2017/12/06\"\n",
    "#print(\"target =\", folder)"
   ]
  },
  {
   "cell_type": "code",
   "execution_count": 5,
   "metadata": {
    "collapsed": true
   },
   "outputs": [],
   "source": [
    "import re\n",
    "from bs4 import BeautifulSoup"
   ]
  },
  {
   "cell_type": "code",
   "execution_count": 6,
   "metadata": {
    "scrolled": true
   },
   "outputs": [
    {
     "name": "stdout",
     "output_type": "stream",
     "text": [
      "use 2 monitor = 3840 x 1080 isDualMonitor= True\n",
      "use 2 monitor = 3840 x 1080 isDualMonitor= True\n"
     ]
    }
   ],
   "source": [
    "import sys\n",
    "sys.path.insert(0, '../98_Crawler/01_WebBrowser/')\n",
    "sys.path.insert(0, '../98_Crawler/02_Login/')\n",
    "from Tab import clickTabOfFireFox, getIsDualMonitor\n",
    "from HattrickLogInOut import clickFacebookLogin, clickFacebookLogout\n",
    "\n",
    "from crawMatch import *\n",
    "isDualMonitor = getIsDualMonitor()"
   ]
  },
  {
   "cell_type": "code",
   "execution_count": null,
   "metadata": {
    "collapsed": true
   },
   "outputs": [],
   "source": [
    "clickTabOfFireFox(5)\n",
    "\n",
    "clickEmpty(112/300)\n",
    "moveScroll(20)\n",
    "clickFacebookLogin(484, 405)\n",
    "\n",
    "clickFacebookLogout(1258, 336, isDualMonitor)"
   ]
  },
  {
   "cell_type": "code",
   "execution_count": 7,
   "metadata": {},
   "outputs": [
    {
     "name": "stdout",
     "output_type": "stream",
     "text": [
      "1st faceBookLogin location with region = (2404, 405, 77, 33)\n",
      "1st 2nd faceBookLogin is None\n"
     ]
    },
    {
     "ename": "TypeError",
     "evalue": "clickTabOfFireFox() missing 1 required positional argument: 'isDualMonitor'",
     "output_type": "error",
     "traceback": [
      "\u001b[0;31m---------------------------------------------------------------------------\u001b[0m",
      "\u001b[0;31mTypeError\u001b[0m                                 Traceback (most recent call last)",
      "\u001b[0;32m<ipython-input-7-37b88b28ba6a>\u001b[0m in \u001b[0;36m<module>\u001b[0;34m()\u001b[0m\n\u001b[1;32m     41\u001b[0m \u001b[0mclickFacebookLogout\u001b[0m\u001b[0;34m(\u001b[0m\u001b[0;36m1258\u001b[0m\u001b[0;34m,\u001b[0m \u001b[0;36m336\u001b[0m\u001b[0;34m,\u001b[0m \u001b[0misDualMonitor\u001b[0m\u001b[0;34m)\u001b[0m\u001b[0;34m\u001b[0m\u001b[0m\n\u001b[1;32m     42\u001b[0m \u001b[0;34m\u001b[0m\u001b[0m\n\u001b[0;32m---> 43\u001b[0;31m \u001b[0mclickTabOfFireFox\u001b[0m\u001b[0;34m(\u001b[0m\u001b[0;36m7\u001b[0m\u001b[0;34m)\u001b[0m\u001b[0;34m\u001b[0m\u001b[0m\n\u001b[0m",
      "\u001b[0;31mTypeError\u001b[0m: clickTabOfFireFox() missing 1 required positional argument: 'isDualMonitor'"
     ]
    }
   ],
   "source": [
    "clickTabOfFireFox(5, isDualMonitor)\n",
    "\n",
    "clickEmpty(112/300)\n",
    "moveScroll(20)\n",
    "clickFacebookLogin(484, 405, isDualMonitor)\n",
    "\n",
    "clickMyClub(101/300)\n",
    "\n",
    "clickEmpty(210/300)\n",
    "moveScroll(20)\n",
    "clickMatch(210/300)\n",
    "\n",
    "clickEmpty(234/300)\n",
    "moveScroll(20)\n",
    "clickLastMatch(234/300)\n",
    "\n",
    "clickFirefoxFile()\n",
    "\n",
    "clickSavePageAs()\n",
    "\n",
    "typeFileName()\n",
    "\n",
    "clickRwoo(570, 460)\n",
    "\n",
    "click02_workspace(720, 440)\n",
    "\n",
    "click02_Hattrick(720, 440)\n",
    "\n",
    "clickHattrickStudy(720, 415)\n",
    "\n",
    "click00_LastKeeper(720, 415)\n",
    "\n",
    "click2017(720, 415)\n",
    "\n",
    "clickLastMonth()\n",
    "\n",
    "clickLastDay()\n",
    "\n",
    "clickSave(1305, 865)\n",
    "\n",
    "clickFacebookLogout(1258, 336, isDualMonitor)\n",
    "\n",
    "clickTabOfFireFox(7, isDualMonitor)"
   ]
  },
  {
   "cell_type": "code",
   "execution_count": 8,
   "metadata": {},
   "outputs": [
    {
     "name": "stdout",
     "output_type": "stream",
     "text": [
      "2017/12/31/match_files <- this folder is not existed.\n"
     ]
    }
   ],
   "source": [
    "import os.path, shutil\n",
    "filePath = folder + '/match_files'\n",
    "\n",
    "if ( os.path.exists(filePath) ):\n",
    "    print(filePath + \" <- this folder is existed.\")\n",
    "    shutil.rmtree(filePath, ignore_errors=True)\n",
    "    print(filePath + \" <- this folder is deleted.\")\n",
    "\n",
    "if not ( os.path.exists(filePath) ):\n",
    "    print(filePath + \" <- this folder is not existed.\")"
   ]
  },
  {
   "cell_type": "code",
   "execution_count": 9,
   "metadata": {
    "collapsed": true
   },
   "outputs": [],
   "source": [
    "with open(folder+'/match.html', 'r') as file:\n",
    "    soup = BeautifulSoup(file.read(), \"html.parser\")"
   ]
  },
  {
   "cell_type": "code",
   "execution_count": 10,
   "metadata": {
    "collapsed": true
   },
   "outputs": [],
   "source": [
    "from parseMatch import *"
   ]
  },
  {
   "cell_type": "code",
   "execution_count": 11,
   "metadata": {},
   "outputs": [
    {
     "name": "stdout",
     "output_type": "stream",
     "text": [
      "2017/12/31/match.txt <- this file is deleted.\n",
      "2017/12/31/match.txt <- this file is not exists.\n"
     ]
    }
   ],
   "source": [
    "import os.path\n",
    "filePath = folder + '/match.txt'\n",
    "\n",
    "if ( os.path.exists(filePath) ):\n",
    "    os.remove(filePath)\n",
    "    print(filePath + \" <- this file is deleted.\")\n",
    "\n",
    "if not ( os.path.exists(filePath) ):\n",
    "    print(filePath + \" <- this file is not exists.\")"
   ]
  },
  {
   "cell_type": "code",
   "execution_count": 12,
   "metadata": {},
   "outputs": [
    {
     "name": "stdout",
     "output_type": "stream",
     "text": [
      "\n",
      "SELECT \n",
      "    num, playerid --01 02 \n",
      "FROM player\n",
      "WHERE \n",
      "    date = '2017-12-31' \n",
      "    order by num \n",
      "\n",
      "This line is removed : 120,31,0.0,0,0\n",
      "\n",
      "cat match.txt\n",
      "\n",
      "po,num,rt,sMin,eMin\n",
      "KP,2,5.5,0,90\n",
      "WB,7,3.5,0,90\n",
      "WB,52,4.0,0,90\n",
      "CD,41,-1.0,60,90\n",
      "CD,3,3.5,0,60\n",
      "CD,40,4.5,0,90\n",
      "W,21,-1.0,55,90\n",
      "W,23,4.0,0,55\n",
      "W,428060480,3.5,0,90\n",
      "IM,12,-1.0,60,90\n",
      "IM,25,4.5,0,60\n",
      "IM,10,4.5,0,90\n",
      "FW,16,6.0,0,90\n",
      "FW,17,3.5,0,90\n"
     ]
    }
   ],
   "source": [
    "for div in soup.find_all(\"div\", id=\"ctl00_ctl00_CPContent_CPMain_ucPostMatch_rptTimeline_ctl14_timelineEventPanel\"):\n",
    "    for inputTag in div.find_all(\"input\", id=\"ctl00_ctl00_CPContent_CPMain_ucPostMatch_rptTimeline_ctl14_playerRatingsAway\"):\n",
    "    #for inputTag in div.find_all(\"input\", id=\"ctl00_ctl00_CPContent_CPMain_ucPostMatch_rptTimeline_ctl14_playerRatingsHome\"):\n",
    "        #print(inputTag.prettify())\n",
    "        valueString = inputTag.get('value')\n",
    "        valueString = re.sub('},', '}\\n', valueString)\n",
    "        \n",
    "        matchList = valueString.split(\"\\n\")\n",
    "        matchList = removeFirstChrLastChr(matchList)\n",
    "        matchList = filterColumn(matchList)\n",
    "        matchList = renamePO(matchList)\n",
    "        matchList = renameNumber(matchList, folder)\n",
    "        matchList = renameMin(matchList)\n",
    "        matchList = changedPlayer(matchList)\n",
    "        matchList = removeRows(matchList)\n",
    "        matchList = sortByPO(matchList)\n",
    "        \n",
    "        print(\"\\ncat match.txt\\n\")\n",
    "        \n",
    "        for line in matchList:\n",
    "            print(line)"
   ]
  },
  {
   "cell_type": "code",
   "execution_count": 13,
   "metadata": {},
   "outputs": [
    {
     "name": "stdout",
     "output_type": "stream",
     "text": [
      "2017/12/31/match.txt <- this file is not exists.\n"
     ]
    }
   ],
   "source": [
    "import os.path\n",
    "filePath = folder + '/match.txt'\n",
    "\n",
    "if ( os.path.exists(filePath) ):\n",
    "    os.remove(filePath)\n",
    "    print(filePath + \" <- this file is deleted.\")\n",
    "\n",
    "if not ( os.path.exists(filePath) ):\n",
    "    print(filePath + \" <- this file is not exists.\")"
   ]
  },
  {
   "cell_type": "code",
   "execution_count": 14,
   "metadata": {
    "collapsed": true
   },
   "outputs": [],
   "source": [
    "for line in matchList:\n",
    "    with open (folder + '/match.txt', 'a') as f:\n",
    "        f.write(line + \"\\n\")"
   ]
  },
  {
   "cell_type": "code",
   "execution_count": 15,
   "metadata": {
    "collapsed": true
   },
   "outputs": [],
   "source": [
    "import psycopg2"
   ]
  },
  {
   "cell_type": "code",
   "execution_count": 16,
   "metadata": {
    "collapsed": true
   },
   "outputs": [],
   "source": [
    "def dropMatchTable():\n",
    "    conn = None\n",
    "    try:\n",
    "        conn = psycopg2.connect(\"dbname='mydatabase' user='myuser' host='localhost' port='65432' password='123qwe'\")\n",
    "        cur = conn.cursor()\n",
    "        sql = \"\"\"DROP TABLE IF EXISTS match ; \"\"\"\n",
    "        cur.execute(sql)\n",
    "        conn.commit()\n",
    "    except(Exception, psycopg2.DatabaseError) as error:\n",
    "        print(error)\n",
    "    finally:\n",
    "        if conn is not None:\n",
    "            conn.close()"
   ]
  },
  {
   "cell_type": "code",
   "execution_count": 17,
   "metadata": {
    "collapsed": true
   },
   "outputs": [],
   "source": [
    "#dropMatchTable()"
   ]
  },
  {
   "cell_type": "code",
   "execution_count": 18,
   "metadata": {
    "collapsed": true
   },
   "outputs": [],
   "source": [
    "def createMatchTable():\n",
    "    conn = None\n",
    "    try:\n",
    "        conn = psycopg2.connect(\"dbname='mydatabase' user='myuser' host='localhost' port='65432' password='123qwe'\")\n",
    "        cur = conn.cursor()\n",
    "        sql = \"\"\"\n",
    "CREATE TABLE match (\n",
    "    Date DATE,          --01\n",
    "    Po   VARCHAR(5),    --02 Position\n",
    "    Num  INT,           --03 Number\n",
    "    RT   NUMERIC(2, 1), --04 Rating\n",
    "    sMin INT,           --05 Start Min\n",
    "    eMin INT            --06 End Min\n",
    ") ; \"\"\"\n",
    "        cur.execute(sql)\n",
    "        conn.commit()\n",
    "    except(Exception, psycopg2.DatabaseError) as error:\n",
    "        print(error)\n",
    "    finally:\n",
    "        if conn is not None:\n",
    "            conn.close()"
   ]
  },
  {
   "cell_type": "code",
   "execution_count": 19,
   "metadata": {
    "collapsed": true
   },
   "outputs": [],
   "source": [
    "#createMatchTable()"
   ]
  },
  {
   "cell_type": "code",
   "execution_count": 20,
   "metadata": {
    "collapsed": true
   },
   "outputs": [],
   "source": [
    "def selectCountMatch():\n",
    "    conn = None\n",
    "    try:\n",
    "        conn = psycopg2.connect(\"dbname='mydatabase' user='myuser' host='localhost' port='65432' password='123qwe'\")\n",
    "        cur = conn.cursor()\n",
    "        sql = \"SELECT COUNT(*) FROM match\" \n",
    "        \n",
    "        cur.execute(sql)\n",
    "        row = cur.fetchone()\n",
    "    except (Exception, psycopg2.DatabaseError) as error:\n",
    "        print(error)\n",
    "        print(sql)\n",
    "    finally:\n",
    "        if conn is not None:\n",
    "            conn.close()\n",
    "    return row[0]"
   ]
  },
  {
   "cell_type": "code",
   "execution_count": 25,
   "metadata": {},
   "outputs": [
    {
     "data": {
      "text/plain": [
       "533"
      ]
     },
     "execution_count": 25,
     "metadata": {},
     "output_type": "execute_result"
    }
   ],
   "source": [
    "selectCountMatch()"
   ]
  },
  {
   "cell_type": "code",
   "execution_count": 22,
   "metadata": {
    "collapsed": true
   },
   "outputs": [],
   "source": [
    "def insertMatchTable(time, row):\n",
    "    conn = None\n",
    "    try:\n",
    "        conn = psycopg2.connect(\"dbname='mydatabase' user='myuser' host='localhost' port='65432' password='123qwe'\")\n",
    "        cur = conn.cursor()\n",
    "        sql = \"\"\"\n",
    "INSERT INTO match ( \n",
    "    SELECT \n",
    "        to_date(%s, 'YYYY-MM-DD'), --01 \n",
    "        %s, %s, %s, %s, %s         --02 03 04 05 06\n",
    ") ;\"\"\"\n",
    "        cur.execute(sql, ( time,\n",
    "                           row[0], row[1], row[2], row[3], row[4] ) )\n",
    "        conn.commit()\n",
    "    except (Exception, psycopg2.DatabaseError) as error:\n",
    "        print(\"Error Happend\")\n",
    "        print(error)\n",
    "        print(sql)\n",
    "        print(row)\n",
    "    finally:\n",
    "        if conn is not None:\n",
    "            conn.close()"
   ]
  },
  {
   "cell_type": "code",
   "execution_count": 30,
   "metadata": {
    "collapsed": true
   },
   "outputs": [],
   "source": [
    "import csv\n",
    "with open(folder + '/match.txt', 'r', encoding='utf-8') as f:\n",
    "    reader = csv.reader(f, delimiter=',')\n",
    "    for row in reader:\n",
    "        if(re.match( '^[0-9]{1,2}', row[1] ) ) :\n",
    "            insertMatchTable( folder.replace('/','-'), row)"
   ]
  },
  {
   "cell_type": "code",
   "execution_count": 31,
   "metadata": {},
   "outputs": [
    {
     "data": {
      "text/plain": [
       "547"
      ]
     },
     "execution_count": 31,
     "metadata": {},
     "output_type": "execute_result"
    }
   ],
   "source": [
    "selectCountMatch()"
   ]
  },
  {
   "cell_type": "code",
   "execution_count": 32,
   "metadata": {
    "collapsed": true
   },
   "outputs": [],
   "source": [
    "def updateRatingOfMatchTable():\n",
    "    conn = None\n",
    "    try:\n",
    "        conn = psycopg2.connect(\"dbname='mydatabase' user='myuser' host='localhost' port='65432' password='123qwe'\")\n",
    "        cur = conn.cursor()\n",
    "        sql = \"\"\"\n",
    "update match \n",
    "    set rt = player.rt \n",
    "from player   \n",
    "where \n",
    "    match.date = player.date\n",
    "    and player.date = player.last\n",
    "    and match.po = player.po \n",
    "    and match.num = player.num \n",
    "    and match.rt != player.rt\n",
    "; \"\"\"\n",
    "        cur.execute(sql)\n",
    "        conn.commit()\n",
    "    except (Exception, psycopg2.DatabaseError) as error:\n",
    "        print(\"Error Happend\")\n",
    "        print(error)\n",
    "        print(sql)\n",
    "    finally:\n",
    "        if conn is not None:\n",
    "            conn.close()"
   ]
  },
  {
   "cell_type": "code",
   "execution_count": 33,
   "metadata": {
    "collapsed": true
   },
   "outputs": [],
   "source": [
    "updateRatingOfMatchTable()"
   ]
  },
  {
   "cell_type": "code",
   "execution_count": 34,
   "metadata": {
    "collapsed": true
   },
   "outputs": [],
   "source": [
    "def getTupleListFromMatch(SelectString, WhereString):\n",
    "    outputList = list();\n",
    "    conn = None\n",
    "    try:\n",
    "        conn = psycopg2.connect(\"dbname='mydatabase' user='myuser' host='localhost' port='65432' password='123qwe'\")\n",
    "        cur = conn.cursor()\n",
    "        OrderByString = \"\"\n",
    "        OrderByString += \"\\n\" + \"ORDER BY \"\n",
    "        OrderByString += \"\\n\" + \"    CASE \"\n",
    "        OrderByString += \"\\n\" + \"        WHEN po = 'KP' THEN 1 \"\n",
    "        OrderByString += \"\\n\" + \"        WHEN po = 'WB' THEN 2 \"\n",
    "        OrderByString += \"\\n\" + \"        WHEN po = 'CD' THEN 3 \"\n",
    "        OrderByString += \"\\n\" + \"        WHEN po = 'W'  THEN 4 \"\n",
    "        OrderByString += \"\\n\" + \"        WHEN po = 'IM' THEN 5 \"\n",
    "        OrderByString += \"\\n\" + \"        WHEN po = 'FW' THEN 6 \"\n",
    "        OrderByString += \"\\n\" + \"        ELSE 7 \"\n",
    "        OrderByString += \"\\n\" + \"    END \"\n",
    "        \n",
    "        sql = SelectString + \"\\n\" + \"FROM match \" + WhereString + OrderByString + \"\\n\"\n",
    "        print(sql)\n",
    "        cur.execute(sql)\n",
    "        row = cur.fetchone()\n",
    "        while row is not None:\n",
    "            #print(row)\n",
    "            outputList.append(row)\n",
    "            row = cur.fetchone()\n",
    "    except (Exception, psycopg2.DatabaseError) as error:\n",
    "        print(\"Error Happend\")\n",
    "        print(error)\n",
    "    finally:\n",
    "        if conn is not None:\n",
    "            conn.close()\n",
    "    return outputList"
   ]
  },
  {
   "cell_type": "code",
   "execution_count": 35,
   "metadata": {},
   "outputs": [
    {
     "name": "stdout",
     "output_type": "stream",
     "text": [
      "\n",
      "SELECT \n",
      "    po, num, rt :: VARCHAR(5), smin, emin \n",
      "FROM match \n",
      "WHERE \n",
      "    date = '2017-12-31'\n",
      "ORDER BY \n",
      "    CASE \n",
      "        WHEN po = 'KP' THEN 1 \n",
      "        WHEN po = 'WB' THEN 2 \n",
      "        WHEN po = 'CD' THEN 3 \n",
      "        WHEN po = 'W'  THEN 4 \n",
      "        WHEN po = 'IM' THEN 5 \n",
      "        WHEN po = 'FW' THEN 6 \n",
      "        ELSE 7 \n",
      "    END \n",
      "\n",
      "KP\t2\t5.5\t0\t90\n",
      "WB\t7\t3.5\t0\t90\n",
      "WB\t52\t4.0\t0\t90\n",
      "CD\t41\t3.5\t60\t90\n",
      "CD\t40\t4.5\t0\t90\n",
      "CD\t3\t4.0\t0\t60\n",
      "W\t23\t4.5\t0\t55\n",
      "W\t21\t4.5\t55\t90\n",
      "W\t22\t3.5\t0\t90\n",
      "IM\t10\t4.5\t0\t90\n",
      "IM\t12\t5.0\t60\t90\n",
      "IM\t25\t5.0\t0\t60\n",
      "FW\t16\t6.0\t0\t90\n",
      "FW\t17\t3.5\t0\t90\n"
     ]
    }
   ],
   "source": [
    "SelectString = \"\"\n",
    "SelectString += \"\\n\" + \"SELECT \"\n",
    "SelectString += \"\\n\" + \"    po, num, rt :: VARCHAR(5), smin, emin \"\n",
    "\n",
    "WhereString = \"\"\n",
    "WhereString += \"\\n\" + \"WHERE \"\n",
    "WhereString += \"\\n\" + \"    date = '\" + folder.replace('/','-') + \"'\"\n",
    "\n",
    "tupleList = getTupleListFromMatch(SelectString, WhereString)\n",
    "for tuple in tupleList:\n",
    "    print(tuple[0], tuple[1], tuple[2], tuple[3], tuple[4], sep='\\t')"
   ]
  },
  {
   "cell_type": "code",
   "execution_count": 36,
   "metadata": {
    "scrolled": true
   },
   "outputs": [
    {
     "name": "stdout",
     "output_type": "stream",
     "text": [
      "2017/12/31/match.txt <- this file is deleted.\n",
      "2017/12/31/match.txt <- this file is not exists.\n"
     ]
    }
   ],
   "source": [
    "import os.path\n",
    "filePath = folder + '/match.txt'\n",
    "\n",
    "if ( os.path.exists(filePath) ):\n",
    "    os.remove(filePath)\n",
    "    print(filePath + \" <- this file is deleted.\")\n",
    "\n",
    "if not ( os.path.exists(filePath) ):\n",
    "    print(filePath + \" <- this file is not exists.\")"
   ]
  },
  {
   "cell_type": "code",
   "execution_count": 37,
   "metadata": {
    "collapsed": true
   },
   "outputs": [],
   "source": [
    "with open ( folder + '/match.txt', 'a' ) as f:\n",
    "    f.write(\"po,num,rt,sMin,eMin\\n\")\n",
    "    f.write( '\\n'.join('%s,%s,%s,%s,%s' % myTuple for myTuple in tupleList) + '\\n' )"
   ]
  },
  {
   "cell_type": "code",
   "execution_count": 38,
   "metadata": {
    "collapsed": true
   },
   "outputs": [],
   "source": [
    "def getKP():\n",
    "    outputList = list();\n",
    "    conn = None\n",
    "    try:\n",
    "        conn = psycopg2.connect(\"dbname='mydatabase' user='myuser' host='localhost' port='65432' password='123qwe'\")\n",
    "        cur = conn.cursor()\n",
    "        query =         \"\"\"SELECT * \"\"\"\n",
    "        query += \"\\n\" + \"\"\"FROM crosstab( \"\"\"\n",
    "        query += \"\\n\" + \"\"\"    'SELECT \"\"\"\n",
    "        query += \"\\n\" + \"\"\"        date :: VARCHAR(10), num :: VARCHAR(2), emin-smin||''/''||rt :: VARCHAR(7) as time_rt \"\"\"\n",
    "        query += \"\\n\" + \"\"\"    FROM match \"\"\"\n",
    "        query += \"\\n\" + \"\"\"    WHERE \"\"\"\n",
    "        query += \"\\n\" + \"\"\"        po = ''KP'' \"\"\"\n",
    "        query += \"\\n\" + \"\"\"    ORDER BY \"\"\"\n",
    "        query += \"\\n\" + \"\"\"        date,num', \"\"\"\n",
    "        query += \"\\n\" + \"\"\"    'SELECT DISTINCT num from match WHERE num in (2,45) ORDER BY num :: int'\"\"\"\n",
    "        query += \"\\n\" + \"\"\") \"\"\"\n",
    "        query += \"\\n\" + \"\"\"AS ( \"\"\"\n",
    "        query += \"\\n\" + \"\"\"    \"date num min/rt\" VARCHAR(10), \"\"\"\n",
    "        query += \"\\n\" + \"\"\"    \"     2    \" VARCHAR(7), \"\"\"\n",
    "        query += \"\\n\" + \"\"\"    \"     45   \" VARCHAR(7) \"\"\"\n",
    "        query += \"\\n\" + \"\"\")\"\"\"\n",
    "        query += \"\\n\" + \"\"\"ORDER BY 1\"\"\"\n",
    "\n",
    "        #print(query + \"\\n\")\n",
    "        cur.execute(query)\n",
    "        row = cur.fetchone()\n",
    "        while row is not None:\n",
    "            #print(row)\n",
    "            outputList.append(row)\n",
    "            row = cur.fetchone()\n",
    "    except (Exception, psycopg2.DatabaseError) as error:\n",
    "        print(query + \"\\n\")\n",
    "        print(\"Error Happend\")\n",
    "        print(error)\n",
    "    finally:\n",
    "        if conn is not None:\n",
    "            conn.close()\n",
    "    return outputList"
   ]
  },
  {
   "cell_type": "code",
   "execution_count": 39,
   "metadata": {
    "collapsed": true
   },
   "outputs": [],
   "source": [
    "def xstr(s):\n",
    "    if s is None:\n",
    "        return '       '\n",
    "    else :\n",
    "        if len(s) < 7:\n",
    "            s = ' ' + s\n",
    "    return str(s)"
   ]
  },
  {
   "cell_type": "code",
   "execution_count": 40,
   "metadata": {
    "scrolled": true
   },
   "outputs": [
    {
     "name": "stdout",
     "output_type": "stream",
     "text": [
      "date num min/rt |    02   |    45   \n",
      "----------------+---------+---------\n",
      "2017-08-13      |         |        \n",
      "2017-08-16      |  46/4.0 |        \n",
      "2017-08-20      |         |        \n",
      "2017-08-23      |  46/4.0 |        \n",
      "2017-08-27      |         |        \n",
      "2017-08-30      |  46/4.0 |        \n",
      "2017-09-03      |         |        \n",
      "2017-09-06      |  46/4.5 |        \n",
      "2017-09-10      |  44/4.5 |        \n",
      "2017-09-13      |  46/4.5 |        \n",
      "2017-09-17      |  44/4.5 |        \n",
      "2017-09-20      |  46/4.5 |        \n",
      "2017-09-24      |  44/4.5 |        \n",
      "2017-09-27      |         |        \n",
      "2017-10-04      |         |        \n",
      "2017-10-08      |  90/4.5 |        \n",
      "2017-10-11      |         |        \n",
      "2017-10-15      |  90/4.5 |        \n",
      "2017-10-18      |         |        \n",
      "2017-10-22      |  90/4.5 |        \n",
      "2017-10-25      |         |        \n",
      "2017-10-29      |  90/4.5 |        \n",
      "2017-11-01      |         |        \n",
      "2017-11-05      |  90/4.5 |        \n",
      "2017-11-08      |         |        \n",
      "2017-11-12      |         |  90/4.0\n",
      "2017-11-15      |  90/5.0 |        \n",
      "2017-11-19      |         |  90/4.0\n",
      "2017-11-22      |  90/5.0 |        \n",
      "2017-11-26      |         |  90/4.0\n",
      "2017-11-29      |  90/5.0 |        \n",
      "2017-12-03      |         |  90/4.5\n",
      "2017-12-06      |  90/5.0 |        \n",
      "2017-12-10      |         |  90/4.5\n",
      "2017-12-13      |  90/5.5 |        \n",
      "2017-12-17      |         |  74/4.5\n",
      "2017-12-20      |  90/5.5 |        \n",
      "2017-12-27      |         |  90/4.0\n",
      "2017-12-31      |  90/5.5 |        \n"
     ]
    }
   ],
   "source": [
    "tupleList = getKP()\n",
    "print('date num min/rt |    02   |    45   ')\n",
    "print('----------------+---------+---------')\n",
    "for tuple in tupleList:\n",
    "    #print( len(tuple) )\n",
    "    print(tuple[0] + '     ', xstr(tuple[1]), xstr(tuple[2]), sep=\" | \")"
   ]
  },
  {
   "cell_type": "code",
   "execution_count": 41,
   "metadata": {
    "collapsed": true
   },
   "outputs": [],
   "source": [
    "def getWB():\n",
    "    outputList = list();\n",
    "    conn = None\n",
    "    try:\n",
    "        conn = psycopg2.connect(\"dbname='mydatabase' user='myuser' host='localhost' port='65432' password='123qwe'\")\n",
    "        cur = conn.cursor()\n",
    "        query =         \"\"\"SELECT * \"\"\"\n",
    "        query += \"\\n\" + \"\"\"FROM crosstab( \"\"\"\n",
    "        query += \"\\n\" + \"\"\"    'SELECT \"\"\"\n",
    "        query += \"\\n\" + \"\"\"        date :: VARCHAR(10), num, emin-smin||''/''||rt :: VARCHAR(7) as time_rt \"\"\"\n",
    "        query += \"\\n\" + \"\"\"    FROM match \"\"\"\n",
    "        query += \"\\n\" + \"\"\"    WHERE \"\"\"\n",
    "        query += \"\\n\" + \"\"\"        po = ''WB'' \"\"\"\n",
    "        query += \"\\n\" + \"\"\"    ORDER BY \"\"\"\n",
    "        query += \"\\n\" + \"\"\"        date, num', \"\"\"\n",
    "        query += \"\\n\" + \"\"\"    'SELECT DISTINCT num from match WHERE num in (6,7,8,14,52) ORDER BY num'\"\"\"\n",
    "        query += \"\\n\" + \"\"\") \"\"\"\n",
    "        query += \"\\n\" + \"\"\"AS ( \"\"\"\n",
    "        query += \"\\n\" + \"\"\"    \"date num min/rt\" VARCHAR(10), \"\"\"\n",
    "        query += \"\\n\" + \"\"\"    \"   6   \" VARCHAR(8), \"\"\"\n",
    "        query += \"\\n\" + \"\"\"    \"   7   \" VARCHAR(8), \"\"\"\n",
    "        query += \"\\n\" + \"\"\"    \"   8   \" VARCHAR(8), \"\"\"\n",
    "        query += \"\\n\" + \"\"\"    \"   14  \" VARCHAR(8), \"\"\"\n",
    "        query += \"\\n\" + \"\"\"    \"   52  \" VARCHAR(8) \"\"\"\n",
    "        query += \"\\n\" + \"\"\")\"\"\"\n",
    "        query += \"\\n\" + \"\"\"ORDER BY 1\"\"\"\n",
    "\n",
    "        #print(query + \"\\n\")\n",
    "        cur.execute(query)\n",
    "        row = cur.fetchone()\n",
    "        while row is not None:\n",
    "            #print(row)\n",
    "            outputList.append(row)\n",
    "            row = cur.fetchone()\n",
    "    except (Exception, psycopg2.DatabaseError) as error:\n",
    "        print(query +\" \\n\")\n",
    "        print(\"Error Happend\")\n",
    "        print(error)\n",
    "    finally:\n",
    "        if conn is not None:\n",
    "            conn.close()\n",
    "    return outputList"
   ]
  },
  {
   "cell_type": "code",
   "execution_count": 42,
   "metadata": {
    "scrolled": true
   },
   "outputs": [
    {
     "name": "stdout",
     "output_type": "stream",
     "text": [
      "date num min/rt |    6    |    7    |    8    |    14   |    52   \n",
      "----------------+---------+---------+---------+---------+---------\n",
      "2017-08-13      |  90/3.0 |         |  90/3.5 |         |        \n",
      "2017-08-16      |         |         |         |  90/3.5 |        \n",
      "2017-08-20      |  90/4.0 |         |  90/4.0 |         |        \n",
      "2017-08-23      |         |         |         |  90/3.5 |        \n",
      "2017-08-27      |  90/4.0 |         |  90/4.0 |         |        \n",
      "2017-08-30      |         |         |         |  90/3.5 |        \n",
      "2017-09-03      |  90/4.0 |         |  90/3.5 |         |        \n",
      "2017-09-06      |         |         |         |         |        \n",
      "2017-09-10      |  90/3.5 |         |  90/3.5 |         |        \n",
      "2017-09-13      |         |         |         |  90/4.0 |        \n",
      "2017-09-17      |  90/3.5 |         |  90/3.5 |         |        \n",
      "2017-09-20      |         |         |         |  90/4.0 |        \n",
      "2017-09-24      |  90/4.0 |         |  90/4.0 |         |        \n",
      "2017-09-27      |  90/4.0 |         |  90/3.5 |         |        \n",
      "2017-10-04      |  90/4.0 |         |  90/4.0 |         |        \n",
      "2017-10-08      |         |         |         |  69/4.5 |        \n",
      "2017-10-11      |  90/4.0 |         |  90/4.0 |         |        \n",
      "2017-10-15      |         |         |         |  90/4.0 |        \n",
      "2017-10-18      |  90/4.5 |         |         |         |        \n",
      "2017-10-22      |         |         |  90/4.0 |  90/4.0 |        \n",
      "2017-10-25      |  90/4.5 |         |         |         |        \n",
      "2017-10-29      |         |         |  90/3.0 |  90/4.0 |        \n",
      "2017-11-01      |  90/4.5 |  44/3.5 |         |         |        \n",
      "2017-11-05      |         |         |  90/3.5 |  90/4.0 |        \n",
      "2017-11-08      |  90/4.5 |  40/3.5 |         |         |        \n",
      "2017-11-12      |         |         |  90/3.5 |  90/4.0 |        \n",
      "2017-11-15      |  90/4.5 |  35/4.0 |         |         |        \n",
      "2017-11-19      |         |         |  90/3.5 |  90/4.0 |        \n",
      "2017-11-22      |  90/5.0 |         |         |         |        \n",
      "2017-11-26      |         |         |  90/3.5 |  90/4.0 |        \n",
      "2017-11-29      |         |         |  90/3.5 |  90/4.0 |        \n",
      "2017-12-03      |  90/5.0 |         |         |         |        \n",
      "2017-12-06      |         |         |  90/4.0 |  90/4.0 |        \n",
      "2017-12-10      |  90/4.0 |  90/3.0 |         |         |        \n",
      "2017-12-13      |         |         |  90/4.0 |  90/4.0 |        \n",
      "2017-12-17      |  90/3.5 |  90/3.0 |         |         |        \n",
      "2017-12-20      |         |         |  90/3.5 |  90/4.0 |        \n",
      "2017-12-27      |         |         |  90/3.5 |  90/4.0 |        \n",
      "2017-12-31      |         |  90/3.5 |         |         |  90/4.0\n"
     ]
    }
   ],
   "source": [
    "tupleList = getWB()\n",
    "print('date num min/rt |    6    |    7    |    8    |    14   |    52   ')\n",
    "print('----------------+---------+---------+---------+---------+---------')\n",
    "for tuple in tupleList:\n",
    "    #print( len(tuple) )\n",
    "    print(tuple[0] + '     ', xstr(tuple[1]), xstr(tuple[2]), xstr(tuple[3]), xstr(tuple[4]), xstr(tuple[5]), sep=\" | \")"
   ]
  },
  {
   "cell_type": "code",
   "execution_count": 43,
   "metadata": {
    "collapsed": true
   },
   "outputs": [],
   "source": [
    "def getCD():\n",
    "    outputList = list();\n",
    "    conn = None\n",
    "    try:\n",
    "        conn = psycopg2.connect(\"dbname='mydatabase' user='myuser' host='localhost' port='65432' password='123qwe'\")\n",
    "        cur = conn.cursor()\n",
    "        query =  \"\"\"SELECT * \"\"\"\n",
    "        query += \"\\n\" + \"\"\"FROM crosstab( \"\"\"\n",
    "        query += \"\\n\" + \"\"\"    'SELECT \"\"\"\n",
    "        query += \"\\n\" + \"\"\"        date :: VARCHAR(10), num, emin-smin||''/''||rt :: VARCHAR(7) as time_rt \"\"\"\n",
    "        query += \"\\n\" + \"\"\"    FROM match \"\"\"\n",
    "        query += \"\\n\" + \"\"\"    WHERE \"\"\"\n",
    "        query += \"\\n\" + \"\"\"        po = ''CD'' \"\"\"\n",
    "        query += \"\\n\" + \"\"\"    ORDER BY \"\"\"\n",
    "        query += \"\\n\" + \"\"\"        date, num', \"\"\"\n",
    "        query += \"\\n\" + \"\"\"    'SELECT m from unnest(''{3,4,5,38,40,41}''::int[]) m' \"\"\"\n",
    "        query += \"\\n\" + \"\"\") \"\"\"\n",
    "        query += \"\\n\" + \"\"\"AS ( \"\"\"\n",
    "        query += \"\\n\" + \"\"\"    \"date num min/rt\" VARCHAR(10), \"\"\"\n",
    "        query += \"\\n\" + \"\"\"    \"   3   \" VARCHAR(8), \"\"\"\n",
    "        query += \"\\n\" + \"\"\"    \"   4   \" VARCHAR(8), \"\"\"\n",
    "        query += \"\\n\" + \"\"\"    \"   5   \" VARCHAR(8), \"\"\"\n",
    "        query += \"\\n\" + \"\"\"    \"   38  \" VARCHAR(8), \"\"\"\n",
    "        query += \"\\n\" + \"\"\"    \"   40  \" VARCHAR(8), \"\"\"\n",
    "        query += \"\\n\" + \"\"\"    \"   41  \" VARCHAR(8) \"\"\"\n",
    "        query += \"\\n\" + \"\"\")\"\"\"\n",
    "        query += \"\\n\" + \"\"\"ORDER BY 1\"\"\"\n",
    "\n",
    "        #print(query + \"\\n\")\n",
    "        cur.execute(query)\n",
    "        row = cur.fetchone()\n",
    "        while row is not None:\n",
    "            #print(row)\n",
    "            outputList.append(row)\n",
    "            row = cur.fetchone()\n",
    "    except (Exception, psycopg2.DatabaseError) as error:\n",
    "        print(query + \"\\n\")\n",
    "        print(\"Error Happend\")\n",
    "        print(error)\n",
    "    finally:\n",
    "        if conn is not None:\n",
    "            conn.close()\n",
    "    return outputList"
   ]
  },
  {
   "cell_type": "code",
   "execution_count": 44,
   "metadata": {},
   "outputs": [
    {
     "name": "stdout",
     "output_type": "stream",
     "text": [
      "date num min/rt |    3    |    4    |    5    |    38   |    40   |    41   \n",
      "----------------+---------+---------+---------+---------+---------+---------\n",
      "2017-08-13      |  38/3.5 |  90/3.5 |         |         |         |        \n",
      "2017-08-16      |         |  46/4.0 |         |         |         |        \n",
      "2017-08-20      |         |         |         |         |         |        \n",
      "2017-08-23      |         |  90/3.5 |         |         |         |        \n",
      "2017-08-27      |         |         |         |         |         |        \n",
      "2017-08-30      |         |  90/3.5 |         |         |         |        \n",
      "2017-09-03      |         |         |         |         |         |        \n",
      "2017-09-06      |         |  90/3.5 |         |         |         |        \n",
      "2017-09-10      |  44/2.0 |         |         |         |         |        \n",
      "2017-09-13      |         |  90/3.0 |         |         |         |        \n",
      "2017-09-17      |  90/2.5 |         |         |         |         |        \n",
      "2017-09-20      |         |  90/3.5 |         |         |         |        \n",
      "2017-09-24      |  90/3.0 |         |         |         |         |        \n",
      "2017-09-27      |         |         |  90/3.0 |         |         |        \n",
      "2017-10-04      |         |         |  90/3.0 |         |         |        \n",
      "2017-10-08      |  44/3.5 |  46/3.5 |         |         |         |        \n",
      "2017-10-11      |  46/3.5 |         |         |         |         |        \n",
      "2017-10-15      |         |  46/3.0 |         |  44/3.0 |         |        \n",
      "2017-10-18      |  46/4.0 |         |         |         |  90/4.5 |  44/3.0\n",
      "2017-10-22      |         |         |  90/3.0 |  90/2.5 |         |        \n",
      "2017-10-25      |  46/4.0 |         |         |         |  90/4.5 |  44/2.5\n",
      "2017-10-29      |         |         |  90/3.0 |  90/2.5 |         |        \n",
      "2017-11-01      |  70/4.0 |         |         |         |  90/4.5 |  20/2.5\n",
      "2017-11-05      |         |         |  90/3.0 |  90/2.0 |         |        \n",
      "2017-11-08      |  75/4.0 |  15/3.0 |         |         |  90/4.5 |        \n",
      "2017-11-12      |         |  44/3.0 |  90/3.0 |  46/2.0 |         |        \n",
      "2017-11-15      |  65/4.5 |         |         |         |  90/4.5 |  25/2.0\n",
      "2017-11-19      |         |  44/3.5 |  90/3.0 |  46/2.0 |         |        \n",
      "2017-11-22      |  60/4.5 |         |         |         |  90/4.5 |  30/2.5\n",
      "2017-11-26      |         |  50/4.0 |  90/3.5 |  40/1.5 |         |        \n",
      "2017-11-29      |  60/4.5 |         |         |         |  90/4.5 |  30/3.0\n",
      "2017-12-03      |         |  55/4.0 |  90/3.5 |  35/2.5 |         |        \n",
      "2017-12-06      |  60/4.5 |         |         |         |  90/5.0 |  30/3.0\n",
      "2017-12-10      |         |  55/4.0 |  90/4.0 |  35/3.0 |         |        \n",
      "2017-12-13      |  65/4.0 |         |         |         |  90/5.0 |  25/3.0\n",
      "2017-12-17      |         |  50/4.0 |  90/4.0 |  40/3.5 |         |        \n",
      "2017-12-20      |  60/4.0 |         |         |         |  90/5.0 |  30/3.5\n",
      "2017-12-27      |         |  50/4.5 |  90/4.0 |  40/4.0 |         |        \n",
      "2017-12-31      |  60/4.0 |         |         |         |  90/4.5 |  30/3.5\n"
     ]
    }
   ],
   "source": [
    "tupleList = getCD()\n",
    "print('date num min/rt |    3    |    4    |    5    |    38   |    40   |    41   ')\n",
    "print('----------------+---------+---------+---------+---------+---------+---------')\n",
    "for tuple in tupleList:\n",
    "    #print( len(tuple) )\n",
    "    print(tuple[0] + '     ', xstr(tuple[1]), xstr(tuple[2]), xstr(tuple[3]), xstr(tuple[4]), xstr(tuple[5]), xstr(tuple[6]), sep=\" | \")"
   ]
  },
  {
   "cell_type": "code",
   "execution_count": 47,
   "metadata": {
    "collapsed": true
   },
   "outputs": [],
   "source": [
    "def getW():\n",
    "    outputList = list();\n",
    "    conn = None\n",
    "    try:\n",
    "        conn = psycopg2.connect(\"dbname='mydatabase' user='myuser' host='localhost' port='65432' password='123qwe'\")\n",
    "        cur = conn.cursor()\n",
    "        query =  \"\"\"SELECT * \"\"\"\n",
    "        query += \"\\n\" + \"\"\"FROM crosstab( \"\"\"\n",
    "        query += \"\\n\" + \"\"\"    'SELECT \"\"\"\n",
    "        query += \"\\n\" + \"\"\"        date :: VARCHAR(10), num, emin-smin||''/''||rt :: VARCHAR(7) as time_rt \"\"\"\n",
    "        query += \"\\n\" + \"\"\"    FROM match \"\"\"\n",
    "        query += \"\\n\" + \"\"\"    WHERE \"\"\"\n",
    "        query += \"\\n\" + \"\"\"        po = ''W'' \"\"\"\n",
    "        query += \"\\n\" + \"\"\"    ORDER BY \"\"\"\n",
    "        query += \"\\n\" + \"\"\"        date, num', \"\"\"\n",
    "        query += \"\\n\" + \"\"\"    'SELECT m from unnest(''{11,13,15,21,23}''::int[]) m' \"\"\"\n",
    "        query += \"\\n\" + \"\"\") \"\"\"\n",
    "        query += \"\\n\" + \"\"\"AS ( \"\"\"\n",
    "        query += \"\\n\" + \"\"\"    \"date num min/rt\" VARCHAR(10), \"\"\"\n",
    "        query += \"\\n\" + \"\"\"    \"   11   \" VARCHAR(8), \"\"\"\n",
    "        query += \"\\n\" + \"\"\"    \"   13   \" VARCHAR(8), \"\"\"\n",
    "        query += \"\\n\" + \"\"\"    \"   15   \" VARCHAR(8), \"\"\"\n",
    "        query += \"\\n\" + \"\"\"    \"   21   \" VARCHAR(8), \"\"\"\n",
    "        query += \"\\n\" + \"\"\"    \"   23   \" VARCHAR(8) \"\"\"\n",
    "        query += \"\\n\" + \"\"\")\"\"\"\n",
    "        query += \"\\n\" + \"\"\"ORDER BY 1\"\"\"\n",
    "\n",
    "        #print(query + \"\\n\")\n",
    "        cur.execute(query)\n",
    "        row = cur.fetchone()\n",
    "        while row is not None:\n",
    "            #print(row)\n",
    "            outputList.append(row)\n",
    "            row = cur.fetchone()\n",
    "    except (Exception, psycopg2.DatabaseError) as error:\n",
    "        print(query + \"\\n\")\n",
    "        print(\"Error Happend\")\n",
    "        print(error)\n",
    "    finally:\n",
    "        if conn is not None:\n",
    "            conn.close()\n",
    "    return outputList"
   ]
  },
  {
   "cell_type": "code",
   "execution_count": 48,
   "metadata": {},
   "outputs": [
    {
     "name": "stdout",
     "output_type": "stream",
     "text": [
      "date num min/rt |    11   |    13   |    15   |    21   |    23   \n",
      "----------------+---------+---------+---------+---------+---------\n",
      "2017-08-13      |         |  90/4.0 |         |         |        \n",
      "2017-08-16      |         |  90/4.0 |         |         |        \n",
      "2017-08-20      |         |         |  90/5.0 |         |        \n",
      "2017-08-23      |         |  25/4.0 |         |         |  90/3.0\n",
      "2017-08-27      |         |         |  90/5.0 |         |        \n",
      "2017-08-30      |         |         |         |         |  90/3.5\n",
      "2017-09-03      |         |         |         |         |        \n",
      "2017-09-06      |         |         |  90/5.0 |         |  90/3.5\n",
      "2017-09-10      |         |         |         |         |        \n",
      "2017-09-13      |         |  90/4.0 |  90/5.0 |         |        \n",
      "2017-09-17      |         |         |         |         |  90/4.0\n",
      "2017-09-20      |         |  90/4.5 |  90/5.0 |         |        \n",
      "2017-09-24      |         |         |         |         |  90/4.0\n",
      "2017-09-27      |         |         |         |         |        \n",
      "2017-10-04      |         |         |         |         |        \n",
      "2017-10-08      |         |  90/4.5 |  90/5.5 |         |        \n",
      "2017-10-11      |         |         |         |         |  90/4.0\n",
      "2017-10-15      |         |  90/5.0 |  90/5.5 |         |        \n",
      "2017-10-18      |         |         |         |         |  90/4.0\n",
      "2017-10-22      |         |         |         |         |  46/4.5\n",
      "2017-10-25      |         |  90/4.0 |  90/5.0 |         |        \n",
      "2017-10-29      |         |         |         |  20/3.5 |  70/4.0\n",
      "2017-11-01      |         |  90/4.0 |  90/5.0 |         |        \n",
      "2017-11-05      |         |         |         |         |  65/4.0\n",
      "2017-11-08      |         |  90/4.0 |  90/4.5 |         |        \n",
      "2017-11-12      |         |  90/4.5 |  90/5.0 |         |        \n",
      "2017-11-15      |         |         |         |         |  65/4.0\n",
      "2017-11-19      |         |  90/5.0 |  90/4.5 |         |        \n",
      "2017-11-22      |         |         |         |  25/4.5 |  65/4.5\n",
      "2017-11-26      |         |  90/5.0 |  90/5.0 |         |        \n",
      "2017-11-29      |         |         |         |  25/4.5 |  65/4.0\n",
      "2017-12-03      |         |  90/5.0 |  90/5.0 |         |        \n",
      "2017-12-06      |         |         |         |  25/4.5 |  65/4.0\n",
      "2017-12-10      |         |  90/4.5 |  90/5.0 |         |        \n",
      "2017-12-13      |         |         |         |  30/4.5 |  60/4.5\n",
      "2017-12-17      |         |  90/4.5 |  90/4.5 |         |        \n",
      "2017-12-20      |         |         |         |  30/4.5 |  60/4.5\n",
      "2017-12-27      |         |  90/4.5 |  90/4.5 |         |        \n",
      "2017-12-31      |         |         |         |  35/4.5 |  55/4.5\n"
     ]
    }
   ],
   "source": [
    "tupleList = getW()\n",
    "print('date num min/rt |    11   |    13   |    15   |    21   |    23   ')\n",
    "print('----------------+---------+---------+---------+---------+---------')\n",
    "for tuple in tupleList:\n",
    "    #print( len(tuple) )\n",
    "    print(tuple[0] + '     ', xstr(tuple[1]), xstr(tuple[2]), xstr(tuple[3]), xstr(tuple[4]), xstr(tuple[5]), sep=\" | \")"
   ]
  },
  {
   "cell_type": "code",
   "execution_count": 51,
   "metadata": {
    "collapsed": true
   },
   "outputs": [],
   "source": [
    "def getIM():\n",
    "    outputList = list();\n",
    "    conn = None\n",
    "    try:\n",
    "        conn = psycopg2.connect(\"dbname='mydatabase' user='myuser' host='localhost' port='65432' password='123qwe'\")\n",
    "        cur = conn.cursor()\n",
    "        query =  \"\"\"SELECT * \"\"\"\n",
    "        query += \"\\n\" + \"\"\"FROM crosstab( \"\"\"\n",
    "        query += \"\\n\" + \"\"\"    'SELECT \"\"\"\n",
    "        query += \"\\n\" + \"\"\"        date :: VARCHAR(10), num, emin-smin||''/''||rt :: VARCHAR(7) as time_rt \"\"\"\n",
    "        query += \"\\n\" + \"\"\"    FROM match \"\"\"\n",
    "        query += \"\\n\" + \"\"\"    WHERE \"\"\"\n",
    "        query += \"\\n\" + \"\"\"        po = ''IM'' \"\"\"\n",
    "        query += \"\\n\" + \"\"\"    ORDER BY \"\"\"\n",
    "        query += \"\\n\" + \"\"\"        date, num', \"\"\"\n",
    "        query += \"\\n\" + \"\"\"    'SELECT m from unnest(''{9,10,12,25,34}''::int[]) m' \"\"\"\n",
    "        query += \"\\n\" + \"\"\") \"\"\"\n",
    "        query += \"\\n\" + \"\"\"AS ( \"\"\"\n",
    "        query += \"\\n\" + \"\"\"    \"date num min/rt\" VARCHAR(10), \"\"\"\n",
    "        query += \"\\n\" + \"\"\"    \"   9   \" VARCHAR(8), \"\"\"\n",
    "        query += \"\\n\" + \"\"\"    \"   10  \" VARCHAR(8), \"\"\"\n",
    "        query += \"\\n\" + \"\"\"    \"   12  \" VARCHAR(8), \"\"\"\n",
    "        query += \"\\n\" + \"\"\"    \"   25  \" VARCHAR(8), \"\"\"\n",
    "        query += \"\\n\" + \"\"\"    \"   34  \" VARCHAR(8) \"\"\"\n",
    "        query += \"\\n\" + \"\"\")\"\"\"\n",
    "        query += \"\\n\" + \"\"\"ORDER BY 1\"\"\"\n",
    "\n",
    "        #print(query + \"\\n\")\n",
    "        cur.execute(query)\n",
    "        row = cur.fetchone()\n",
    "        while row is not None:\n",
    "            #print(row)\n",
    "            outputList.append(row)\n",
    "            row = cur.fetchone()\n",
    "    except (Exception, psycopg2.DatabaseError) as error:\n",
    "        print(query + \"\\n\")\n",
    "        print(\"Error Happend\")\n",
    "        print(error)\n",
    "    finally:\n",
    "        if conn is not None:\n",
    "            conn.close()\n",
    "    return outputList"
   ]
  },
  {
   "cell_type": "code",
   "execution_count": 53,
   "metadata": {},
   "outputs": [
    {
     "name": "stdout",
     "output_type": "stream",
     "text": [
      "date num min/rt |    09   |    10   |    12   |    25   |    34   \n",
      "----------------+---------+---------+---------+---------+---------\n",
      "2017-08-13      |  90/3.0 |  90/4.0 |         |         |        \n",
      "2017-08-16      |         |         |         |         |        \n",
      "2017-08-20      |         |  90/4.0 |         |  90/4.0 |        \n",
      "2017-08-23      |  90/3.5 |         |         |         |        \n",
      "2017-08-27      |         |  90/4.5 |         |  90/3.5 |        \n",
      "2017-08-30      |  90/3.5 |         |         |         |        \n",
      "2017-09-03      |         |  90/4.5 |         |  46/3.0 |        \n",
      "2017-09-06      |  90/3.5 |         |         |         |        \n",
      "2017-09-10      |         |  90/5.0 |         |  26/3.5 |        \n",
      "2017-09-13      |         |         |         |         |        \n",
      "2017-09-17      |  69/4.5 |  90/5.0 |         |         |        \n",
      "2017-09-20      |         |         |         |  30/3.5 |        \n",
      "2017-09-24      |  90/4.0 |  90/5.0 |         |         |        \n",
      "2017-09-27      |         |  90/5.0 |         |  46/4.0 |        \n",
      "2017-10-04      |         |  90/5.0 |         |  46/4.5 |        \n",
      "2017-10-08      |  90/4.0 |         |         |         |        \n",
      "2017-10-11      |         |  90/5.0 |         |  90/4.0 |        \n",
      "2017-10-15      |  44/4.0 |         |         |         |        \n",
      "2017-10-18      |  44/4.0 |  46/5.0 |         |  90/4.0 |        \n",
      "2017-10-22      |  46/4.0 |         |         |         |  90/4.5\n",
      "2017-10-25      |  44/4.0 |  46/5.0 |         |  90/4.5 |        \n",
      "2017-10-29      |  40/4.0 |         |         |         |  90/4.5\n",
      "2017-11-01      |         |  90/4.5 |         |  90/4.5 |        \n",
      "2017-11-05      |  35/4.0 |         |         |         |  90/4.5\n",
      "2017-11-08      |         |  90/4.5 |         |  90/4.5 |        \n",
      "2017-11-12      |  30/4.0 |         |         |         |  90/4.5\n",
      "2017-11-15      |         |  90/5.0 |         |  90/4.5 |        \n",
      "2017-11-19      |  35/4.0 |         |         |         |  77/4.0\n",
      "2017-11-22      |         |  90/5.0 |  44/5.0 |  46/4.5 |        \n",
      "2017-11-26      |  90/4.0 |         |         |  23/4.5 |        \n",
      "2017-11-29      |         |  90/5.0 |  46/4.0 |  44/4.5 |        \n",
      "2017-12-03      |  90/3.5 |         |         |         |  90/4.0\n",
      "2017-12-06      |         |  90/5.0 |  40/3.5 |  50/4.5 |        \n",
      "2017-12-10      |  90/3.5 |         |         |         |  90/4.0\n",
      "2017-12-13      |         |  90/5.0 |  35/3.5 |  55/5.0 |        \n",
      "2017-12-17      |  46/4.0 |         |         |         |  90/4.0\n",
      "2017-12-20      |         |  90/5.0 |  35/4.0 |  55/5.0 |        \n",
      "2017-12-27      |  90/4.0 |         |         |         |        \n",
      "2017-12-31      |         |  90/4.5 |  30/5.0 |  60/5.0 |        \n"
     ]
    }
   ],
   "source": [
    "tupleList = getIM()\n",
    "print('date num min/rt |    09   |    10   |    12   |    25   |    34   ')\n",
    "print('----------------+---------+---------+---------+---------+---------')\n",
    "for tuple in tupleList:\n",
    "    #print( len(tuple) )\n",
    "    print(tuple[0] + '     ', xstr(tuple[1]),xstr(tuple[2]),xstr(tuple[3]),xstr(tuple[4]),xstr(tuple[5]), sep=\" | \")"
   ]
  },
  {
   "cell_type": "code",
   "execution_count": 54,
   "metadata": {
    "collapsed": true
   },
   "outputs": [],
   "source": [
    "def getFW():\n",
    "    outputList = list();\n",
    "    conn = None\n",
    "    try:\n",
    "        conn = psycopg2.connect(\"dbname='mydatabase' user='myuser' host='localhost' port='65432' password='123qwe'\")\n",
    "        cur = conn.cursor()\n",
    "        query =  \"\"\"SELECT * \"\"\"\n",
    "        query += \"\\n\" + \"\"\"FROM crosstab( \"\"\"\n",
    "        query += \"\\n\" + \"\"\"    'SELECT \"\"\"\n",
    "        query += \"\\n\" + \"\"\"        date :: VARCHAR(10), num :: VARCHAR(2), emin-smin||''/''||rt :: VARCHAR(7) as time_rt \"\"\"\n",
    "        query += \"\\n\" + \"\"\"    FROM match \"\"\"\n",
    "        query += \"\\n\" + \"\"\"    WHERE \"\"\"\n",
    "        query += \"\\n\" + \"\"\"        po = ''FW'' \"\"\"\n",
    "        query += \"\\n\" + \"\"\"    ORDER BY \"\"\"\n",
    "        query += \"\\n\" + \"\"\"        date, num', \"\"\"\n",
    "        query += \"\\n\" + \"\"\"    'SELECT m from unnest(''{16,17,18,31,48}''::int[]) m' \"\"\"\n",
    "        query += \"\\n\" + \"\"\") \"\"\"\n",
    "        query += \"\\n\" + \"\"\"AS ( \"\"\"\n",
    "        query += \"\\n\" + \"\"\"    \"date num min/rt\" VARCHAR(10), \"\"\"\n",
    "        query += \"\\n\" + \"\"\"    \"   16  \" VARCHAR(8), \"\"\"\n",
    "        query += \"\\n\" + \"\"\"    \"   17  \" VARCHAR(8), \"\"\"\n",
    "        query += \"\\n\" + \"\"\"    \"   18  \" VARCHAR(8), \"\"\"\n",
    "        query += \"\\n\" + \"\"\"    \"   31  \" VARCHAR(8), \"\"\"\n",
    "        query += \"\\n\" + \"\"\"    \"   48  \" VARCHAR(8) \"\"\"\n",
    "        query += \"\\n\" + \"\"\")\"\"\"\n",
    "        query += \"\\n\" + \"\"\"ORDER BY 1\"\"\"\n",
    "\n",
    "        #print(query + \"\\n\")\n",
    "        cur.execute(query)\n",
    "        row = cur.fetchone()\n",
    "        while row is not None:\n",
    "            #print(row)\n",
    "            outputList.append(row)\n",
    "            row = cur.fetchone()\n",
    "    except (Exception, psycopg2.DatabaseError) as error:\n",
    "        print(query + \"\\n\")\n",
    "        print(\"Error Happend\")\n",
    "        print(error)\n",
    "    finally:\n",
    "        if conn is not None:\n",
    "            conn.close()\n",
    "    return outputList"
   ]
  },
  {
   "cell_type": "code",
   "execution_count": 55,
   "metadata": {
    "scrolled": true
   },
   "outputs": [
    {
     "name": "stdout",
     "output_type": "stream",
     "text": [
      "date num min/rt |    16   |    17   |    18   |    31   |    48   \n",
      "----------------+---------+---------+---------+---------+---------\n",
      "2017-08-13      |  90/4.5 |  49/4.0 |         |         |        \n",
      "2017-08-16      |         |  60/4.0 |  90/3.5 |         |        \n",
      "2017-08-20      |  90/5.0 |  60/4.5 |         |         |        \n",
      "2017-08-23      |         |         |  90/3.5 |         |        \n",
      "2017-08-27      |         |  90/4.5 |  90/3.5 |         |        \n",
      "2017-08-30      |  90/5.0 |         |         |         |        \n",
      "2017-09-03      |         |  90/4.5 |         |  90/4.0 |        \n",
      "2017-09-06      |  90/5.0 |         |  46/3.5 |  44/4.5 |        \n",
      "2017-09-10      |  36/5.0 |  54/5.0 |         |         |        \n",
      "2017-09-13      |  46/5.0 |         |  44/3.5 |  90/4.5 |        \n",
      "2017-09-17      |  59/5.0 |         |  31/4.0 |         |        \n",
      "2017-09-20      |  60/5.0 |         |  30/4.0 |  90/4.0 |        \n",
      "2017-09-24      |  66/5.5 |         |  24/4.5 |         |        \n",
      "2017-09-27      |         |  90/4.5 |         |  90/4.5 |        \n",
      "2017-10-04      |         |  90/4.5 |         |  90/4.5 |        \n",
      "2017-10-08      |  90/5.5 |         |  46/5.0 |         |        \n",
      "2017-10-11      |         |  59/4.5 |  31/5.0 |  90/4.5 |        \n",
      "2017-10-15      |  90/5.5 |         |         |         |        \n",
      "2017-10-18      |         |         |  90/5.0 |  90/4.0 |        \n",
      "2017-10-22      |         |  20/5.0 |  90/4.5 |  70/4.0 |        \n",
      "2017-10-25      |  90/5.5 |         |         |  20/4.5 |        \n",
      "2017-10-29      |         |  25/5.0 |  79/5.0 |  65/4.5 |        \n",
      "2017-11-01      |  90/5.0 |         |         |  44/4.5 |        \n",
      "2017-11-05      |         |  90/4.0 |         |  46/4.5 |        \n",
      "2017-11-08      |  90/5.0 |  50/5.0 |         |         |        \n",
      "2017-11-12      |         |  50/5.0 |  90/5.0 |  40/4.5 |        \n",
      "2017-11-15      |  90/5.5 |  90/4.5 |         |         |        \n",
      "2017-11-19      |         |         |  90/5.0 |  60/4.5 |        \n",
      "2017-11-22      |  90/5.5 |  90/4.0 |         |         |        \n",
      "2017-11-26      |         |         |  90/5.0 |  60/5.0 |        \n",
      "2017-11-29      |  90/5.5 |  90/4.0 |         |         |        \n",
      "2017-12-03      |         |         |  90/5.5 |  65/5.0 |        \n",
      "2017-12-06      |  90/5.5 |  90/3.5 |         |         |        \n",
      "2017-12-10      |         |         |  90/5.5 |  60/5.5 |        \n",
      "2017-12-13      |  90/5.5 |         |         |  90/5.0 |        \n",
      "2017-12-17      |         |  65/4.0 |  90/5.5 |         |        \n",
      "2017-12-20      |  90/5.5 |         |         |  90/4.5 |        \n",
      "2017-12-27      |         |         |  90/5.5 |  90/5.0 |        \n",
      "2017-12-31      |  90/6.0 |  90/3.5 |         |         |        \n"
     ]
    }
   ],
   "source": [
    "tupleList = getFW()\n",
    "print('date num min/rt |    16   |    17   |    18   |    31   |    48   ')\n",
    "print('----------------+---------+---------+---------+---------+---------')\n",
    "for tuple in tupleList:\n",
    "    #print( len(tuple) )\n",
    "    print(tuple[0] + '     ', xstr(tuple[1]), xstr(tuple[2]), xstr(tuple[3]), xstr(tuple[4]), xstr(tuple[5]), sep=\" | \")"
   ]
  }
 ],
 "metadata": {
  "kernelspec": {
   "display_name": "Python 3",
   "language": "python",
   "name": "python3"
  },
  "language_info": {
   "codemirror_mode": {
    "name": "ipython",
    "version": 3
   },
   "file_extension": ".py",
   "mimetype": "text/x-python",
   "name": "python",
   "nbconvert_exporter": "python",
   "pygments_lexer": "ipython3",
   "version": "3.6.3"
  }
 },
 "nbformat": 4,
 "nbformat_minor": 2
}
