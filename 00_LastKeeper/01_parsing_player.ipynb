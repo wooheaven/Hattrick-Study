{
 "cells": [
  {
   "cell_type": "code",
   "execution_count": 1,
   "metadata": {},
   "outputs": [],
   "source": [
    "import sys\n",
    "\n",
    "import pandas\n",
    "\n",
    "sys.path.insert(0, '../03_Remake_with_TDD/algorithms')\n",
    "from ht_time import *"
   ]
  },
  {
   "cell_type": "code",
   "execution_count": 2,
   "metadata": {},
   "outputs": [],
   "source": [
    "# sys.path.insert(0, '../03_Remake_with_TDD/player')\n",
    "# from parse import Parse"
   ]
  },
  {
   "cell_type": "code",
   "execution_count": 3,
   "metadata": {},
   "outputs": [],
   "source": [
    "sys.path.insert(0, '../03_Remake_with_TDD/player')\n",
    "from parse_tmp import Parse"
   ]
  },
  {
   "cell_type": "code",
   "execution_count": 4,
   "metadata": {},
   "outputs": [
    {
     "name": "stderr",
     "output_type": "stream",
     "text": [
      "/home/rwoo/02_WorkSpace/04_Hattrick/Hattrick-Study/99_Utility/ht-venv/lib/python3.6/site-packages/psycopg2/__init__.py:144: UserWarning: The psycopg2 wheel package will be renamed from release 2.8; in order to keep installing from binary please use \"pip install psycopg2-binary\" instead. For details see: <http://initd.org/psycopg/docs/install.html#binary-install-from-pypi>.\n",
      "  \"\"\")\n"
     ]
    }
   ],
   "source": [
    "sys.path.insert(0, '../03_Remake_with_TDD/postgresql')\n",
    "from ht_player_postgresql import *"
   ]
  },
  {
   "cell_type": "code",
   "execution_count": 5,
   "metadata": {},
   "outputs": [
    {
     "name": "stdout",
     "output_type": "stream",
     "text": [
      "folder = 2019/01/13\n"
     ]
    }
   ],
   "source": [
    "HattrickTime = HattrickTime()\n",
    "folder = HattrickTime.findLastSunOrWed()\n",
    "# folder = ht_time.findLastSunOrWed('2018/04/04')\n",
    "# folder = '2017/10/04'\n",
    "print(\"folder =\", folder)"
   ]
  },
  {
   "cell_type": "code",
   "execution_count": 6,
   "metadata": {},
   "outputs": [
    {
     "data": {
      "text/plain": [
       "'2019/01/13'"
      ]
     },
     "execution_count": 6,
     "metadata": {},
     "output_type": "execute_result"
    }
   ],
   "source": [
    "from datetime import date\n",
    "\n",
    "nowDate = date.today().strftime('%Y/%m/%d')\n",
    "nowDate"
   ]
  },
  {
   "cell_type": "code",
   "execution_count": 7,
   "metadata": {},
   "outputs": [],
   "source": [
    "import sys\n",
    "\n",
    "# sys.path.insert(0, '../97_Parse/')\n",
    "# from parseSkillTable import *\n",
    "\n",
    "sys.path.insert(0, '../98_Crawler/01_DualMonitor/')\n",
    "from DualMonitor import getIsDualMonitor\n",
    "\n",
    "sys.path.insert(0, '../98_Crawler/02_WebBrowser/')\n",
    "from FirefoxTab import clickTabOfFireFox\n",
    "\n",
    "sys.path.insert(0, '../98_Crawler/03_OnScreen/')\n",
    "from Empty import clickEmpty\n",
    "from MoveScroll import moveScroll\n",
    "from MoveFindMoveClick import moveByImage\n",
    "\n",
    "sys.path.insert(0, '../98_Crawler/04_Login/')\n",
    "from HattrickLogInOut import clickHattrickLogin2, clickHattrickLogout"
   ]
  },
  {
   "cell_type": "code",
   "execution_count": 33,
   "metadata": {},
   "outputs": [
    {
     "name": "stdout",
     "output_type": "stream",
     "text": [
      "use 1 monitor = 1920 x 1080 isDualMonitor= False\n"
     ]
    }
   ],
   "source": [
    "# isDualMonitor\n",
    "isDualMonitor = getIsDualMonitor()\n",
    "\n",
    "# Hattrick LastKeeper Tab\n",
    "clickTabOfFireFox(5, isDualMonitor)\n",
    "\n",
    "# Hattrick Login\n",
    "clickEmpty(305, isDualMonitor)\n",
    "moveScroll(20)\n",
    "clickHattrickLogin2(505, 300, isDualMonitor)"
   ]
  },
  {
   "cell_type": "code",
   "execution_count": 9,
   "metadata": {},
   "outputs": [
    {
     "name": "stdout",
     "output_type": "stream",
     "text": [
      "use 1 monitor = 1920 x 1080 isDualMonitor= False\n",
      "screen-MyClub.png location on Screen (517, 336, 79, 44)\n",
      "screen-Player.png location on Screen (392, 697, 61, 68)\n",
      "screen-SkillTable.png location on Screen (566, 605, 101, 28)\n",
      "screen-Since.png location on Screen (573, 796, 185, 20)\n",
      "screen-Copy.png location on Screen (1085, 635, 43, 25)\n"
     ]
    }
   ],
   "source": [
    "# isDualMonitor\n",
    "isDualMonitor = getIsDualMonitor()\n",
    "\n",
    "# Hattrick LastKeeper Tab\n",
    "clickTabOfFireFox(5, isDualMonitor)\n",
    "\n",
    "# Hattrick Login by Facebook\n",
    "clickEmpty(305, isDualMonitor)\n",
    "moveScroll(20)\n",
    "clickHattrickLogin2(505, 300, isDualMonitor)\n",
    "\n",
    "# Hattrick MyClub\n",
    "moveScroll(20)\n",
    "moveByImage(517, 336, 79, 44, isDualMonitor, 'screen-MyClub.png')\n",
    "\n",
    "# Hattrick Player\n",
    "clickEmpty(700, isDualMonitor)\n",
    "moveScroll(20)\n",
    "moveByImage(392, 697, 61, 68, isDualMonitor, 'screen-Player.png')\n",
    "\n",
    "# Hattrick SkillTable\n",
    "clickEmpty(593, isDualMonitor)\n",
    "moveScroll(20)\n",
    "moveByImage(566, 605, 137, 52, isDualMonitor, 'screen-SkillTable.png')\n",
    "\n",
    "# # Hattrick Since\n",
    "moveScroll(-7)\n",
    "moveByImage(573, 796, 185, 20, isDualMonitor, 'screen-Since.png')\n",
    "\n",
    "# Hattrick Copy\n",
    "moveScroll(10)\n",
    "moveByImage(1085, 635, 43, 25, isDualMonitor, 'screen-Copy.png')\n",
    "\n",
    "# Hattrick Logout\n",
    "moveScroll(20)\n",
    "clickHattrickLogout(1270, 370, isDualMonitor)\n",
    "\n",
    "# Jupyter Notebook Tab\n",
    "clickTabOfFireFox(7, isDualMonitor)"
   ]
  },
  {
   "cell_type": "code",
   "execution_count": 10,
   "metadata": {},
   "outputs": [
    {
     "name": "stdout",
     "output_type": "stream",
     "text": [
      "[table]\n",
      "[tr][th]#[/th][th]Nat[/th][th]Player[/th][th]Sp[/th][th]Stat[/th][th]Age[/th][th]Since[/th][th]TSI[/th][th]LS[/th][th]XP[/th][th]Fo[/th][th]Stm[/th][th]Lo[/th][th]MB[/th][th]KP[/th][th]DF[/th][th]PM[/th][th]WI[/th][th]PS[/th][th]SC[/th][th]SP[/th][th]Psico[/th][th]Last[/th][th]Rt[/th][th]Pos[/th][th]Wage[/th][th]G[/th][th]KP[/th][th]WBd[/th][th]WB[/th][th]WBtm[/th][th]WBo[/th][th]CD[/th][th]CDtw[/th][th]Cdo[/th][th]Wd[/th][th]W[/th][th]Wtm[/th][th]Wo[/th][th]IMd[/th][th]IM[/th][th]IMtw[/th][th]IMo[/th][th]FW[/th][th]FWd[/th][th]FWtw[/th][th]TDF[/th][th]BPo[/th][th]BPoV[/th][/tr]\n",
      "[tr][td]2[/td][td]Hanguk[/td][td]Jee-Hoon Kim [playerid=428709461][/td][td][/td][td][/td][td]23.90[/td][td]5 시즌   0 주   0 일[/td][td]65820[/td][td]3[/td][td]3[/td][td]6[/td][td]8[/td][td]20[/td][td]✔[/td][td]16[/td][td]5[/td][td]1[/td][td]1[/td][td]1[/td][td]2[/td][td]10[/td][td]1606[/td][td]2019-01-13[/td][td]7.5[/td][td]KP[/td][td]19050000[/td][td]0[/td][td]13.28[/td][td]5.2[/td][td]4.84[/td][td]4.9[/td][td]4.47[/td][td]4.99[/td][td]5.16[/td][td]4.32[/td][td]3.96[/td][td]3.43[/td][td]3.36[/td][td]3.29[/td][td]3.45[/td][td]3.23[/td][td]3.21[/td][td]3.01[/td][td]3.15[/td][td]2.98[/td][td]3.14[/td][td]0[/td][td]KP[/td][td]13.28[/td][/tr]\n",
      "[tr][td]4[/td][td]Hanguk[/td][td]Ji-Woon Lee [playerid=427619236][/td][td][/td][td]Y×1[/td][td]24.19[/td][td]5 시즌   8 주   0 일[/td][td]1100[/td][td]5[/td][td]4[/td][td]5[/td][td]8[/td][td]20[/td][td]✔[/td][td]1[/td][td]7[/td][td]4[/td][td]3[/td][td]5[/td][td]2[/td][td]9[/td][td]719[/td][td]2019-01-13[/td][td]4[/td][td]CD[/td][td]390000[/td][td]26[/td][td]4.08[/td][td]6.63[/td][td]6.36[/td][td]6.47[/td][td]6.08[/td][td]6.62[/td][td]6.66[/td][td]6.16[/td][td]5.82[/td][td]5.45[/td][td]5.43[/td][td]5.31[/td][td]5.55[/td][td]5.41[/td][td]5.4[/td][td]5.26[/td][td]4.47[/td][td]4.95[/td][td]4.37[/td][td]0[/td][td]CDtw[/td][td]6.66[/td][/tr]\n",
      "[tr][td]6[/td][td]Hanguk[/td][td]Jae-Shin Cha [playerid=427619238][/td][td][/td][td][/td][td]32.0[/td][td]5 시즌   8 주   0 일[/td][td]420[/td][td]5[/td][td]6[/td][td]5[/td][td]6[/td][td]20[/td][td]✔[/td][td]1[/td][td]7[/td][td]3[/td][td]6[/td][td]3[/td][td]1[/td][td]11[/td][td]701[/td][td]2019-01-13[/td][td]4[/td][td]WB[/td][td]320000[/td][td]26[/td][td]3.93[/td][td]6.5[/td][td]6.28[/td][td]6.15[/td][td]6.04[/td][td]5.98[/td][td]6.32[/td][td]5.42[/td][td]5.55[/td][td]5.14[/td][td]4.99[/td][td]5.23[/td][td]4.63[/td][td]4.42[/td][td]4.7[/td][td]4.2[/td][td]3.79[/td][td]3.95[/td][td]4.07[/td][td]0[/td][td]WBd[/td][td]6.5[/td][/tr]\n",
      "[tr][td]8[/td][td]Hanguk[/td][td]Hong-Chan Son [playerid=427619240][/td][td][/td][td]R[/td][td]26.60[/td][td]5 시즌   8 주   0 일[/td][td]1000[/td][td]5[/td][td]4[/td][td]5[/td][td]7[/td][td]20[/td][td]✔[/td][td]1[/td][td]5[/td][td]6[/td][td]5[/td][td]5[/td][td]1[/td][td]10[/td][td]633[/td][td]2019-01-13[/td][td]3.5[/td][td]W[/td][td]310000[/td][td]9[/td][td]3.49[/td][td]5.85[/td][td]5.9[/td][td]5.95[/td][td]5.96[/td][td]6.01[/td][td]5.91[/td][td]6.16[/td][td]6.03[/td][td]6.12[/td][td]6.18[/td][td]6.05[/td][td]6.23[/td][td]6.19[/td][td]6.26[/td][td]6.13[/td][td]4.66[/td][td]5.36[/td][td]4.61[/td][td]0[/td][td]IMtw[/td][td]6.26[/td][/tr]\n",
      "[tr][td]10[/td][td]Hanguk[/td][td]Kwang-Eul Jeon [playerid=427619242][/td][td][/td][td][/td][td]28.66[/td][td]5 시즌   8 주   0 일[/td][td]1330[/td][td]4[/td][td]5[/td][td]7[/td][td]7[/td][td]20[/td][td]✔[/td][td]1[/td][td]6[/td][td]7[/td][td]3[/td][td]3[/td][td]2[/td][td]11[/td][td]730[/td][td]2019-01-09[/td][td]4.5[/td][td]IM[/td][td]430000[/td][td]19[/td][td]4.5[/td][td]7.49[/td][td]7.45[/td][td]7.74[/td][td]7.44[/td][td]8.12[/td][td]7.75[/td][td]8.3[/td][td]7.4[/td][td]7.41[/td][td]7.65[/td][td]6.97[/td][td]8.22[/td][td]8.05[/td][td]7.89[/td][td]7.85[/td][td]5.74[/td][td]6.34[/td][td]5.38[/td][td]0[/td][td]Cdo[/td][td]8.3[/td][/tr]\n",
      "[tr][td]11[/td][td]Hanguk[/td][td]Kwang-Hwan Yun [playerid=427619243][/td][td][/td][td][/td][td]31.33[/td][td]5 시즌   8 주   0 일[/td][td]380[/td][td]6[/td][td]5[/td][td]7[/td][td]6[/td][td]20[/td][td]✔[/td][td]2[/td][td]5[/td][td]6[/td][td]2[/td][td]5[/td][td]2[/td][td]10[/td][td]604[/td][td]2019-01-13[/td][td]4[/td][td]W[/td][td]310000[/td][td]19[/td][td]4.8[/td][td]6.45[/td][td]6.41[/td][td]6.69[/td][td]6.4[/td][td]7.07[/td][td]6.7[/td][td]7.24[/td][td]6.56[/td][td]6.62[/td][td]6.8[/td][td]6.29[/td][td]7.33[/td][td]7.3[/td][td]7.09[/td][td]7.25[/td][td]5.54[/td][td]6.33[/td][td]5.15[/td][td]0[/td][td]IMd[/td][td]7.33[/td][/tr]\n",
      "[tr][td]12[/td][td]Hanguk[/td][td]Chan-Myung Lee [playerid=427619244][/td][td][/td][td]Y×1[/td][td]30.42[/td][td]5 시즌   8 주   0 일[/td][td]540[/td][td]3[/td][td]5[/td][td]6[/td][td]6[/td][td]20[/td][td]✔[/td][td]1[/td][td]3[/td][td]7[/td][td]3[/td][td]4[/td][td]3[/td][td]10[/td][td]702[/td][td]2019-01-09[/td][td]4[/td][td]IM[/td][td]380000[/td][td]10[/td][td]3.4[/td][td]5.16[/td][td]5.39[/td][td]5.6[/td][td]5.63[/td][td]5.89[/td][td]5.43[/td][td]6.53[/td][td]6.02[/td][td]6.44[/td][td]6.68[/td][td]6.16[/td][td]7.17[/td][td]7.23[/td][td]7.03[/td][td]7.26[/td][td]5.77[/td][td]6.27[/td][td]5.42[/td][td]0[/td][td]IMo[/td][td]7.26[/td][/tr]\n",
      "[tr][td]13[/td][td]Hanguk[/td][td]Sung-Kook Han [playerid=427619245][/td][td]공 마술사\n",
      "더 많은 정보를 보려면 클릭[/td][td][/td][td]26.30[/td][td]5 시즌   8 주   0 일[/td][td]1580[/td][td]2[/td][td]4[/td][td]7[/td][td]7[/td][td]20[/td][td]✔[/td][td]1[/td][td]5[/td][td]6[/td][td]6[/td][td]5[/td][td]2[/td][td]10[/td][td]644[/td][td]2019-01-09[/td][td]4.5[/td][td]W[/td][td]330000[/td][td]27[/td][td]4.21[/td][td]7.2[/td][td]7.29[/td][td]7.27[/td][td]7.39[/td][td]7.25[/td][td]7.2[/td][td]7.43[/td][td]7.45[/td][td]7.58[/td][td]7.61[/td][td]7.58[/td][td]7.53[/td][td]7.49[/td][td]7.64[/td][td]7.44[/td][td]6.12[/td][td]0[/td][td]6.17[/td][td]6.74[/td][td]IMtw[/td][td]7.64[/td][/tr]\n",
      "[tr][td]15[/td][td]Hanguk[/td][td]Man-Ok Lee [playerid=427619247][/td][td]예측할 수 없음\n",
      "더 많은 정보를 보려면 클릭[/td][td][/td][td]27.83[/td][td]5 시즌   8 주   0 일[/td][td]2200[/td][td]5[/td][td]5[/td][td]7[/td][td]7[/td][td]20[/td][td]✔[/td][td]1[/td][td]5[/td][td]5[/td][td]7[/td][td]6[/td][td]2[/td][td]10[/td][td]752[/td][td]2019-01-09[/td][td]5[/td][td]W[/td][td]350000[/td][td]16[/td][td]4.3[/td][td]7.26[/td][td]7.32[/td][td]7.17[/td][td]7.38[/td][td]6.96[/td][td]7.13[/td][td]6.96[/td][td]7.4[/td][td]7.44[/td][td]7.35[/td][td]7.65[/td][td]6.95[/td][td]6.95[/td][td]7.23[/td][td]6.94[/td][td]6.18[/td][td]6.75[/td][td]6.42[/td][td]0[/td][td]Wo[/td][td]7.65[/td][/tr]\n",
      "[tr][td]16[/td][td]Hanguk[/td][td]Dong-Shik Kim [playerid=427619248][/td][td][/td][td]Y×1[/td][td]23.77[/td][td]5 시즌   8 주   0 일[/td][td]1440[/td][td]6[/td][td]4[/td][td]5[/td][td]8[/td][td]20[/td][td]✔[/td][td]1[/td][td]3[/td][td]3[/td][td]6[/td][td]4[/td][td]7[/td][td]12[/td][td]761[/td][td]2019-01-13[/td][td]4.5[/td][td]FW[/td][td]410000[/td][td]60[/td][td]3.15[/td][td]4.68[/td][td]4.77[/td][td]4.57[/td][td]4.84[/td][td]4.3[/td][td]4.52[/td][td]4.3[/td][td]4.84[/td][td]4.89[/td][td]4.77[/td][td]5.14[/td][td]4.42[/td][td]4.5[/td][td]4.61[/td][td]4.6[/td][td]6.08[/td][td]5.41[/td][td]6.33[/td][td]0[/td][td]FWtw[/td][td]6.33[/td][/tr]\n",
      "[tr][td]25[/td][td]Polska[/td][td]Pylyp Nagorniak [playerid=406205227][/td][td][/td][td][/td][td]31.77[/td][td]5 시즌   2 주   6 일[/td][td]850[/td][td]5[/td][td]4[/td][td]7[/td][td]6[/td][td]20[/td][td][/td][td]1[/td][td]6[/td][td]6[/td][td]3[/td][td]6[/td][td]3[/td][td]11[/td][td]601[/td][td]2018-12-26[/td][td]4.5[/td][td]IM[/td][td]396000[/td][td]13[/td][td]3.84[/td][td]6.62[/td][td]6.53[/td][td]6.75[/td][td]6.45[/td][td]7.05[/td][td]6.81[/td][td]7.05[/td][td]6.52[/td][td]6.48[/td][td]6.59[/td][td]6.23[/td][td]6.98[/td][td]6.94[/td][td]6.79[/td][td]6.9[/td][td]5.59[/td][td]6.28[/td][td]5.29[/td][td]0[/td][td]CD[/td][td]7.05[/td][/tr]\n",
      "[tr][td]31[/td][td]Hanguk[/td][td]Se-Hee Park [playerid=430626797][/td][td][/td][td][/td][td]23.12[/td][td]4 시즌   7 주   0 일[/td][td]1410[/td][td]4[/td][td]3[/td][td]8[/td][td]8[/td][td]20[/td][td]✔[/td][td]1[/td][td]2[/td][td]5[/td][td]5[/td][td]3[/td][td]7[/td][td]9[/td][td]709[/td][td]2019-01-13[/td][td]5[/td][td]FW[/td][td]390000[/td][td]31[/td][td]3.39[/td][td]5.05[/td][td]5.35[/td][td]5.29[/td][td]5.65[/td][td]5.22[/td][td]5.07[/td][td]5.77[/td][td]5.93[/td][td]6.34[/td][td]6.43[/td][td]6.38[/td][td]6.46[/td][td]6.6[/td][td]6.52[/td][td]6.73[/td][td]7.56[/td][td]6.9[/td][td]7.57[/td][td]0[/td][td]FWtw[/td][td]7.57[/td][/tr]\n",
      "[tr][td]34[/td][td]Sverige[/td][td]Axel Hermansson [playerid=422526443][/td][td][/td][td][/td][td]32.99[/td][td]4 시즌   4 주   6 일[/td][td]690[/td][td]5[/td][td]6[/td][td]8[/td][td]5[/td][td]20[/td][td][/td][td]2[/td][td]6[/td][td]6[/td][td]2[/td][td]6[/td][td]2[/td][td]9[/td][td]606[/td][td]2019-01-13[/td][td]4.5[/td][td]IM[/td][td]420000[/td][td]19[/td][td]4.67[/td][td]6.66[/td][td]6.53[/td][td]6.83[/td][td]6.43[/td][td]7.22[/td][td]6.9[/td][td]7.22[/td][td]6.52[/td][td]6.47[/td][td]6.61[/td][td]6.14[/td][td]7.14[/td][td]7.09[/td][td]6.88[/td][td]7.02[/td][td]5.3[/td][td]6.2[/td][td]4.89[/td][td]0[/td][td]CD[/td][td]7.22[/td][/tr]\n",
      "[tr][td]40[/td][td]Perú[/td][td]Matías Pichis [playerid=416567166][/td][td][/td][td][/td][td]26.55[/td][td]4 시즌   0 주   5 일[/td][td]9870[/td][td]6[/td][td]3[/td][td]7[/td][td]7[/td][td]20[/td][td][/td][td]1[/td][td]10[/td][td]8[/td][td]2[/td][td]4[/td][td]4[/td][td]9[/td][td]1003[/td][td]2019-01-09[/td][td]5.5[/td][td]CD[/td][td]1764000[/td][td]6[/td][td]4.94[/td][td]9.48[/td][td]9.09[/td][td]9.59[/td][td]8.73[/td][td]10.26[/td][td]9.85[/td][td]9.9[/td][td]8.33[/td][td]7.89[/td][td]8.16[/td][td]7.16[/td][td]9.13[/td][td]8.8[/td][td]8.42[/td][td]8.41[/td][td]6.22[/td][td]6.76[/td][td]5.62[/td][td]0[/td][td]CD[/td][td]10.26[/td][/tr]\n",
      "[tr][td]48[/td][td]Hanguk[/td][td]Dong-Suk Lee [playerid=432205385][/td][td]공 마술사\n",
      "더 많은 정보를 보려면 클릭[/td][td][/td][td]22.26[/td][td]3 시즌   10 주   6 일[/td][td]1350[/td][td]6[/td][td]2[/td][td]8[/td][td]7[/td][td]20[/td][td]✔[/td][td]1[/td][td]5[/td][td]4[/td][td]5[/td][td]6[/td][td]5[/td][td]6[/td][td]615[/td][td]2019-01-09[/td][td]4.5[/td][td]FW[/td][td]290000[/td][td]16[/td][td]3.88[/td][td]6.43[/td][td]6.37[/td][td]6.31[/td][td]6.3[/td][td]6.23[/td][td]6.36[/td][td]6.05[/td][td]6.28[/td][td]6.18[/td][td]6.09[/td][td]6.31[/td][td]5.94[/td][td]5.97[/td][td]6.02[/td][td]6.02[/td][td]6.46[/td][td]0[/td][td]6.54[/td][td]6.53[/td][td]FWtw[/td][td]6.54[/td][/tr]\n",
      "[tr][td]52[/td][td]Hanguk[/td][td]Seong-Gong Choi [playerid=433454317][/td][td]예측할 수 없음\n",
      "더 많은 정보를 보려면 클릭[/td][td][/td][td]20.106[/td][td]3 시즌   7 주   1 일[/td][td]5850[/td][td]4[/td][td]3[/td][td]7[/td][td]8[/td][td]20[/td][td]✔[/td][td]1[/td][td]7[/td][td]7[/td][td]7[/td][td]4[/td][td]5[/td][td]7[/td][td]778[/td][td]2019-01-09[/td][td]4.5[/td][td]CD[/td][td]550000[/td][td]21[/td][td]4.64[/td][td]8.7[/td][td]8.7[/td][td]8.7[/td][td]8.7[/td][td]8.7[/td][td]8.7[/td][td]8.7[/td][td]8.49[/td][td]8.43[/td][td]8.49[/td][td]8.33[/td][td]8.5[/td][td]8.35[/td][td]8.44[/td][td]8.17[/td][td]7.45[/td][td]7.43[/td][td]7.5[/td][td]0[/td][td]CD[/td][td]8.7[/td][/tr]\n",
      "[tr][td]55[/td][td]Hanguk[/td][td]Geun-Ho Han [playerid=433728993][/td][td][/td][td][/td][td]21.108[/td][td]3 시즌   4 주   1 일[/td][td]2510[/td][td]3[/td][td]2[/td][td]8[/td][td]8[/td][td]20[/td][td]✔[/td][td]1[/td][td]5[/td][td]6[/td][td]4[/td][td]3[/td][td]7[/td][td]6[/td][td]711[/td][td]2019-01-09[/td][td]5.5[/td][td]FW[/td][td]410000[/td][td]18[/td][td]4.02[/td][td]6.84[/td][td]6.87[/td][td]7.01[/td][td]6.91[/td][td]7.2[/td][td]6.98[/td][td]7.39[/td][td]6.88[/td][td]6.95[/td][td]7.1[/td][td]6.69[/td][td]7.5[/td][td]7.45[/td][td]7.24[/td][td]7.38[/td][td]7.5[/td][td]7.01[/td][td]7.29[/td][td]0[/td][td]IMd[/td][td]7.5[/td][/tr]\n",
      "[tr][td]61[/td][td]Oceania[/td][td]Cedrick Williamson [playerid=430364099][/td][td]힘 있음\n",
      "더 많은 정보를 보려면 클릭[/td][td][/td][td]21.59[/td][td]2 시즌   14 주   6 일[/td][td]7020[/td][td]3[/td][td]3[/td][td]7[/td][td]8[/td][td]19[/td][td][/td][td]1[/td][td]8[/td][td]5[/td][td]7[/td][td]7[/td][td]2[/td][td]7[/td][td]879[/td][td]2019-01-09[/td][td]4.5[/td][td]WB[/td][td]708000[/td][td]3[/td][td]4.41[/td][td]8.55[/td][td]8.32[/td][td]8.22[/td][td]8.09[/td][td]8.08[/td][td]8.39[/td][td]7.54[/td][td]7.76[/td][td]7.39[/td][td]7.23[/td][td]7.53[/td][td]6.85[/td][td]6.71[/td][td]7[/td][td]6.57[/td][td]5.66[/td][td]6.37[/td][td]5.89[/td][td]0[/td][td]WBd[/td][td]8.55[/td][/tr]\n",
      "[tr][td]65[/td][td]Hanguk[/td][td]Sang-Hyun Yun [playerid=434942107][/td][td][/td][td][/td][td]20.22[/td][td]2 시즌   10 주   1 일[/td][td]3220[/td][td]3[/td][td]1[/td][td]8[/td][td]7[/td][td]20[/td][td]✔[/td][td]1[/td][td]6[/td][td]5[/td][td]4[/td][td]7[/td][td]4[/td][td]5[/td][td]775[/td][td]2019-01-13[/td][td]4.5[/td][td]W[/td][td]390000[/td][td]4[/td][td]3.77[/td][td]6.71[/td][td]6.58[/td][td]6.67[/td][td]6.45[/td][td]6.8[/td][td]6.76[/td][td]6.62[/td][td]6.48[/td][td]6.36[/td][td]6.34[/td][td]6.3[/td][td]6.46[/td][td]6.47[/td][td]6.4[/td][td]6.49[/td][td]6.01[/td][td]6.51[/td][td]5.87[/td][td]0[/td][td]CD[/td][td]6.8[/td][/tr]\n",
      "[tr][td]70[/td][td]Hanguk[/td][td]Min-Gyu Jung [playerid=429263814][/td][td][/td][td][/td][td]25.100[/td][td]2 시즌   5 주   5 일[/td][td]4250[/td][td]1[/td][td]4[/td][td]4[/td][td]7[/td][td]17[/td][td][/td][td]1[/td][td]9[/td][td]6[/td][td]4[/td][td]4[/td][td]2[/td][td]7[/td][td]936[/td][td]2019-01-13[/td][td]4[/td][td]CD[/td][td]1030000[/td][td]2[/td][td]3.57[/td][td]6.74[/td][td]6.47[/td][td]6.63[/td][td]6.21[/td][td]6.84[/td][td]6.82[/td][td]6.44[/td][td]5.83[/td][td]5.46[/td][td]5.5[/td][td]5.19[/td][td]5.74[/td][td]5.5[/td][td]5.49[/td][td]5.24[/td][td]3.9[/td][td]4.35[/td][td]3.77[/td][td]0[/td][td]CD[/td][td]6.84[/td][/tr]\n",
      "[tr][td]78[/td][td]Hanguk[/td][td]Jung-Oh Han [playerid=433730490][/td][td]공 마술사\n",
      "더 많은 정보를 보려면 클릭[/td][td][/td][td]22.17[/td][td]1 시즌   3 주   5 일[/td][td]4960[/td][td]4[/td][td]2[/td][td]7[/td][td]8[/td][td]13[/td][td][/td][td]1[/td][td]9[/td][td]3[/td][td]5[/td][td]1[/td][td]3[/td][td]6[/td][td]961[/td][td]2019-01-09[/td][td]4.5[/td][td]WB[/td][td]1270000[/td][td]5[/td][td]4.16[/td][td]8.06[/td][td]7.54[/td][td]7.49[/td][td]7.01[/td][td]7.43[/td][td]7.87[/td][td]6.35[/td][td]5.99[/td][td]5.12[/td][td]4.98[/td][td]5[/td][td]4.79[/td][td]4.34[/td][td]4.56[/td][td]3.87[/td][td]3.78[/td][td]0[/td][td]4.04[/td][td]3.34[/td][td]WBd[/td][td]8.06[/td][/tr]\n",
      "[tr][td]79[/td][td]España[/td][td]Jimeno Eguiruren [playerid=415605434][/td][td][/td][td][/td][td]26.73[/td][td]1 시즌   1 주   0 일[/td][td]24940[/td][td]5[/td][td]6[/td][td]6[/td][td]7[/td][td]12[/td][td][/td][td]1[/td][td]8[/td][td]11[/td][td]3[/td][td]9[/td][td]2[/td][td]6[/td][td]1096[/td][td]2019-01-13[/td][td]6[/td][td]IM[/td][td]4116000[/td][td]25[/td][td]4.07[/td][td]8.18[/td][td]8.19[/td][td]8.73[/td][td]8.26[/td][td]9.43[/td][td]8.68[/td][td]9.92[/td][td]8.69[/td][td]8.95[/td][td]9.31[/td][td]8.34[/td][td]10.31[/td][td]10.29[/td][td]9.91[/td][td]10.23[/td][td]6.65[/td][td]8.36[/td][td]5.9[/td][td]0[/td][td]IMd[/td][td]10.31[/td][/tr]\n",
      "[tr][td]80[/td][td]Andorra[/td][td]Joaquim Muntaner [playerid=427020395][/td][td]공 마술사\n",
      "더 많은 정보를 보려면 클릭[/td][td][/td][td]28.19[/td][td]15 주   3 일[/td][td]14210[/td][td]6[/td][td]6[/td][td]8[/td][td]7[/td][td]11[/td][td][/td][td]1[/td][td]9[/td][td]6[/td][td]8[/td][td]7[/td][td]4[/td][td]10[/td][td]959[/td][td]2019-01-13[/td][td]5.5[/td][td]WB[/td][td]1404000[/td][td]30[/td][td]4.71[/td][td]9.58[/td][td]9.36[/td][td]9.25[/td][td]9.12[/td][td]9.11[/td][td]9.42[/td][td]8.57[/td][td]8.72[/td][td]8.33[/td][td]8.18[/td][td]8.43[/td][td]7.84[/td][td]7.67[/td][td]7.93[/td][td]7.49[/td][td]6.9[/td][td]0[/td][td]7.14[/td][td]7.35[/td][td]WBd[/td][td]9.58[/td][/tr]\n",
      "[tr][td]81[/td][td]Hanguk[/td][td]Sang-Yong Jang [playerid=433566477][/td][td][/td][td][/td][td]22.11[/td][td]15 주   0 일[/td][td]8000[/td][td]2[/td][td]2[/td][td]6[/td][td]8[/td][td]11[/td][td][/td][td]1[/td][td]9[/td][td]6[/td][td]6[/td][td]5[/td][td]4[/td][td]5[/td][td]947[/td][td]2019-01-13[/td][td]4.5[/td][td]WB[/td][td]1170000[/td][td]8[/td][td]3.76[/td][td]7.94[/td][td]7.67[/td][td]7.72[/td][td]7.4[/td][td]7.79[/td][td]7.92[/td][td]7.29[/td][td]6.95[/td][td]6.54[/td][td]6.51[/td][td]6.4[/td][td]6.53[/td][td]6.3[/td][td]6.38[/td][td]6.04[/td][td]5.26[/td][td]5.49[/td][td]5.29[/td][td]0[/td][td]WBd[/td][td]7.94[/td][/tr]\n",
      "[tr][td]83[/td][td]Hanguk[/td][td]Kwang-Hyun Seo [playerid=434869614][/td][td]예측할 수 없음\n",
      "더 많은 정보를 보려면 클릭[/td][td]R[/td][td]21.8[/td][td]12 주   1 일[/td][td]2740[/td][td]2[/td][td]2[/td][td]6[/td][td]8[/td][td]10[/td][td][/td][td]1[/td][td]8[/td][td]5[/td][td]4[/td][td]5[/td][td]4[/td][td]2[/td][td]803[/td][td]2019-01-13[/td][td]4[/td][td]CD[/td][td]530000[/td][td]12[/td][td]3.45[/td][td]6.86[/td][td]6.56[/td][td]6.68[/td][td]6.26[/td][td]6.85[/td][td]6.89[/td][td]6.35[/td][td]5.9[/td][td]5.49[/td][td]5.48[/td][td]5.31[/td][td]5.65[/td][td]5.47[/td][td]5.43[/td][td]5.28[/td][td]4.72[/td][td]4.95[/td][td]4.62[/td][td]0[/td][td]CDtw[/td][td]6.89[/td][/tr]\n",
      "[tr][td]84[/td][td]Hanguk[/td][td]Kang Jung [playerid=440669717][/td][td][/td][td][/td][td]17.15[/td][td]2 주   1 일[/td][td]1740[/td][td]5[/td][td]1[/td][td]6[/td][td]5[/td][td]20[/td][td]✔[/td][td]6[/td][td]4[/td][td]1[/td][td]1[/td][td]1[/td][td]1[/td][td]4[/td][td]617[/td][td]2019-01-09[/td][td]2.5[/td][td]KP[/td][td]710000[/td][td]0[/td][td]5.49[/td][td]3.6[/td][td]3.36[/td][td]3.4[/td][td]3.11[/td][td]3.46[/td][td]3.58[/td][td]3.01[/td][td]2.77[/td][td]2.41[/td][td]2.37[/td][td]2.32[/td][td]2.41[/td][td]2.26[/td][td]2.27[/td][td]2.1[/td][td]1.98[/td][td]1.98[/td][td]1.98[/td][td]0[/td][td]KP[/td][td]5.49[/td][/tr]\n",
      "[tr][td]98[/td][td]Hanguk[/td][td]Sang-Uk Kim [playerid=440758581][/td][td][/td][td][/td][td]18.51[/td][td]1 주   1 일[/td][td]180[/td][td]4[/td][td]1[/td][td]6[/td][td]5[/td][td]20[/td][td]✔[/td][td]1[/td][td]3[/td][td]3[/td][td]2[/td][td]3[/td][td]6[/td][td]3[/td][td]609[/td][td][/td][td][/td][td][/td][td]270000[/td][td]0[/td][td]2.36[/td][td]3.33[/td][td]3.3[/td][td]3.36[/td][td]3.28[/td][td]3.45[/td][td]3.38[/td][td]3.45[/td][td]3.3[/td][td]3.28[/td][td]3.32[/td][td]3.21[/td][td]3.5[/td][td]3.53[/td][td]3.37[/td][td]3.57[/td][td]4.3[/td][td]3.9[/td][td]4.19[/td][td]0[/td][td]FW[/td][td]4.3[/td][/tr]\n",
      "[tr][td]99[/td][td]Danmark[/td][td]Torben Boesen [playerid=321795066] 코치[/td][td]헤딩\n",
      "더 많은 정보를 보려면 클릭[/td][td][/td][td]42.10[/td][td]1 시즌   2 주   0 일[/td][td]20[/td][td]4[/td][td]13[/td][td]6[/td][td]1[/td][td]12[/td][td][/td][td]0[/td][td]7[/td][td]0[/td][td]1[/td][td]0[/td][td]0[/td][td]0[/td][td]680[/td][td]2018-06-06[/td][td]4[/td][td]WB[/td][td]312000[/td][td]79[/td][td]2.23[/td][td]3.79[/td][td]3.43[/td][td]3.45[/td][td]3.05[/td][td]3.49[/td][td]3.72[/td][td]2.77[/td][td]2.49[/td][td]1.93[/td][td]1.84[/td][td]1.83[/td][td]1.81[/td][td]1.57[/td][td]1.63[/td][td]1.32[/td][td]1.19[/td][td]1.16[/td][td]1.26[/td][td]0[/td][td]WBd[/td][td]3.79[/td][/tr]\n",
      "[/table]\n"
     ]
    }
   ],
   "source": [
    "import pyperclip\n",
    "\n",
    "tmpClip = pyperclip.paste()\n",
    "print(tmpClip)"
   ]
  },
  {
   "cell_type": "code",
   "execution_count": 11,
   "metadata": {},
   "outputs": [],
   "source": [
    "from ht_file import *"
   ]
  },
  {
   "cell_type": "code",
   "execution_count": 12,
   "metadata": {},
   "outputs": [],
   "source": [
    "HattrickFile = HattrickFile()"
   ]
  },
  {
   "cell_type": "code",
   "execution_count": 13,
   "metadata": {},
   "outputs": [
    {
     "name": "stdout",
     "output_type": "stream",
     "text": [
      "2019/01/13\t\t : will be created\n",
      "2019/01/13\t\t : is existed\n"
     ]
    }
   ],
   "source": [
    "HattrickFile.check_and_create_folder(folder)"
   ]
  },
  {
   "cell_type": "code",
   "execution_count": 14,
   "metadata": {},
   "outputs": [
    {
     "name": "stdout",
     "output_type": "stream",
     "text": [
      "2019/01/13/player.html\t : is not existed\n"
     ]
    }
   ],
   "source": [
    "HattrickFile.check_and_delete_file(folder + '/player.html')"
   ]
  },
  {
   "cell_type": "code",
   "execution_count": 15,
   "metadata": {},
   "outputs": [],
   "source": [
    "with open(folder + '/player.html', 'w') as f:\n",
    "    f.write(tmpClip)"
   ]
  },
  {
   "cell_type": "code",
   "execution_count": 16,
   "metadata": {},
   "outputs": [],
   "source": [
    "p = Parse()"
   ]
  },
  {
   "cell_type": "code",
   "execution_count": 17,
   "metadata": {
    "scrolled": true
   },
   "outputs": [
    {
     "name": "stdout",
     "output_type": "stream",
     "text": [
      "<table>\n",
      "<tr><th>#</th><th>Nat</th><th>Player</th><th>Sp</th><th>Stat</th><th>Age</th><th>Since</th><th>TSI</th><th>LS</th><th>XP</th><th>Fo</th><th>Stm</th><th>Lo</th><th>MB</th><th>KP</th><th>DF</th><th>PM</th><th>WI</th><th>PS</th><th>SC</th><th>SP</th><th>Psico</th><th>Last</th><th>Rt</th><th>Pos</th><th>Wage</th><th>G</th><th>KP</th><th>WBd</th><th>WB</th><th>WBtm</th><th>WBo</th><th>CD</th><th>CDtw</th><th>Cdo</th><th>Wd</th><th>W</th><th>Wtm</th><th>Wo</th><th>IMd</th><th>IM</th><th>IMtw</th><th>IMo</th><th>FW</th><th>FWd</th><th>FWtw</th><th>TDF</th><th>BPo</th><th>BPoV</th></tr>\n",
      "<tr><td>2</td><td>Hanguk</td><td>Jee-Hoon Kim [playerid=428709461]</td><td></td><td></td><td>23.90</td><td>5 시즌   0 주   0 일</td><td>65820</td><td>3</td><td>3</td><td>6</td><td>8</td><td>20</td><td>✔</td><td>16</td><td>5</td><td>1</td><td>1</td><td>1</td><td>2</td><td>10</td><td>1606</td><td>2019-01-13</td><td>7.5</td><td>KP</td><td>19050000</td><td>0</td><td>13.28</td><td>5.2</td><td>4.84</td><td>4.9</td><td>4.47</td><td>4.99</td><td>5.16</td><td>4.32</td><td>3.96</td><td>3.43</td><td>3.36</td><td>3.29</td><td>3.45</td><td>3.23</td><td>3.21</td><td>3.01</td><td>3.15</td><td>2.98</td><td>3.14</td><td>0</td><td>KP</td><td>13.28</td></tr>\n",
      "<tr><td>4</td><td>Hanguk</td><td>Ji-Woon Lee [playerid=427619236]</td><td></td><td>Y×1</td><td>24.19</td><td>5 시즌   8 주   0 일</td><td>1100</td><td>5</td><td>4</td><td>5</td><td>8</td><td>20</td><td>✔</td><td>1</td><td>7</td><td>4</td><td>3</td><td>5</td><td>2</td><td>9</td><td>719</td><td>2019-01-13</td><td>4</td><td>CD</td><td>390000</td><td>26</td><td>4.08</td><td>6.63</td><td>6.36</td><td>6.47</td><td>6.08</td><td>6.62</td><td>6.66</td><td>6.16</td><td>5.82</td><td>5.45</td><td>5.43</td><td>5.31</td><td>5.55</td><td>5.41</td><td>5.4</td><td>5.26</td><td>4.47</td><td>4.95</td><td>4.37</td><td>0</td><td>CDtw</td><td>6.66</td></tr>\n",
      "<tr><td>6</td><td>Hanguk</td><td>Jae-Shin Cha [playerid=427619238]</td><td></td><td></td><td>32.0</td><td>5 시즌   8 주   0 일</td><td>420</td><td>5</td><td>6</td><td>5</td><td>6</td><td>20</td><td>✔</td><td>1</td><td>7</td><td>3</td><td>6</td><td>3</td><td>1</td><td>11</td><td>701</td><td>2019-01-13</td><td>4</td><td>WB</td><td>320000</td><td>26</td><td>3.93</td><td>6.5</td><td>6.28</td><td>6.15</td><td>6.04</td><td>5.98</td><td>6.32</td><td>5.42</td><td>5.55</td><td>5.14</td><td>4.99</td><td>5.23</td><td>4.63</td><td>4.42</td><td>4.7</td><td>4.2</td><td>3.79</td><td>3.95</td><td>4.07</td><td>0</td><td>WBd</td><td>6.5</td></tr>\n",
      "<tr><td>8</td><td>Hanguk</td><td>Hong-Chan Son [playerid=427619240]</td><td></td><td>R</td><td>26.60</td><td>5 시즌   8 주   0 일</td><td>1000</td><td>5</td><td>4</td><td>5</td><td>7</td><td>20</td><td>✔</td><td>1</td><td>5</td><td>6</td><td>5</td><td>5</td><td>1</td><td>10</td><td>633</td><td>2019-01-13</td><td>3.5</td><td>W</td><td>310000</td><td>9</td><td>3.49</td><td>5.85</td><td>5.9</td><td>5.95</td><td>5.96</td><td>6.01</td><td>5.91</td><td>6.16</td><td>6.03</td><td>6.12</td><td>6.18</td><td>6.05</td><td>6.23</td><td>6.19</td><td>6.26</td><td>6.13</td><td>4.66</td><td>5.36</td><td>4.61</td><td>0</td><td>IMtw</td><td>6.26</td></tr>\n",
      "<tr><td>10</td><td>Hanguk</td><td>Kwang-Eul Jeon [playerid=427619242]</td><td></td><td></td><td>28.66</td><td>5 시즌   8 주   0 일</td><td>1330</td><td>4</td><td>5</td><td>7</td><td>7</td><td>20</td><td>✔</td><td>1</td><td>6</td><td>7</td><td>3</td><td>3</td><td>2</td><td>11</td><td>730</td><td>2019-01-09</td><td>4.5</td><td>IM</td><td>430000</td><td>19</td><td>4.5</td><td>7.49</td><td>7.45</td><td>7.74</td><td>7.44</td><td>8.12</td><td>7.75</td><td>8.3</td><td>7.4</td><td>7.41</td><td>7.65</td><td>6.97</td><td>8.22</td><td>8.05</td><td>7.89</td><td>7.85</td><td>5.74</td><td>6.34</td><td>5.38</td><td>0</td><td>Cdo</td><td>8.3</td></tr>\n",
      "<tr><td>11</td><td>Hanguk</td><td>Kwang-Hwan Yun [playerid=427619243]</td><td></td><td></td><td>31.33</td><td>5 시즌   8 주   0 일</td><td>380</td><td>6</td><td>5</td><td>7</td><td>6</td><td>20</td><td>✔</td><td>2</td><td>5</td><td>6</td><td>2</td><td>5</td><td>2</td><td>10</td><td>604</td><td>2019-01-13</td><td>4</td><td>W</td><td>310000</td><td>19</td><td>4.8</td><td>6.45</td><td>6.41</td><td>6.69</td><td>6.4</td><td>7.07</td><td>6.7</td><td>7.24</td><td>6.56</td><td>6.62</td><td>6.8</td><td>6.29</td><td>7.33</td><td>7.3</td><td>7.09</td><td>7.25</td><td>5.54</td><td>6.33</td><td>5.15</td><td>0</td><td>IMd</td><td>7.33</td></tr>\n",
      "<tr><td>12</td><td>Hanguk</td><td>Chan-Myung Lee [playerid=427619244]</td><td></td><td>Y×1</td><td>30.42</td><td>5 시즌   8 주   0 일</td><td>540</td><td>3</td><td>5</td><td>6</td><td>6</td><td>20</td><td>✔</td><td>1</td><td>3</td><td>7</td><td>3</td><td>4</td><td>3</td><td>10</td><td>702</td><td>2019-01-09</td><td>4</td><td>IM</td><td>380000</td><td>10</td><td>3.4</td><td>5.16</td><td>5.39</td><td>5.6</td><td>5.63</td><td>5.89</td><td>5.43</td><td>6.53</td><td>6.02</td><td>6.44</td><td>6.68</td><td>6.16</td><td>7.17</td><td>7.23</td><td>7.03</td><td>7.26</td><td>5.77</td><td>6.27</td><td>5.42</td><td>0</td><td>IMo</td><td>7.26</td></tr>\n",
      "<tr><td>13</td><td>Hanguk</td><td>Sung-Kook Han [playerid=427619245]</td><td>공 마술사\n",
      "더 많은 정보를 보려면 클릭</td><td></td><td>26.30</td><td>5 시즌   8 주   0 일</td><td>1580</td><td>2</td><td>4</td><td>7</td><td>7</td><td>20</td><td>✔</td><td>1</td><td>5</td><td>6</td><td>6</td><td>5</td><td>2</td><td>10</td><td>644</td><td>2019-01-09</td><td>4.5</td><td>W</td><td>330000</td><td>27</td><td>4.21</td><td>7.2</td><td>7.29</td><td>7.27</td><td>7.39</td><td>7.25</td><td>7.2</td><td>7.43</td><td>7.45</td><td>7.58</td><td>7.61</td><td>7.58</td><td>7.53</td><td>7.49</td><td>7.64</td><td>7.44</td><td>6.12</td><td>0</td><td>6.17</td><td>6.74</td><td>IMtw</td><td>7.64</td></tr>\n",
      "<tr><td>15</td><td>Hanguk</td><td>Man-Ok Lee [playerid=427619247]</td><td>예측할 수 없음\n",
      "더 많은 정보를 보려면 클릭</td><td></td><td>27.83</td><td>5 시즌   8 주   0 일</td><td>2200</td><td>5</td><td>5</td><td>7</td><td>7</td><td>20</td><td>✔</td><td>1</td><td>5</td><td>5</td><td>7</td><td>6</td><td>2</td><td>10</td><td>752</td><td>2019-01-09</td><td>5</td><td>W</td><td>350000</td><td>16</td><td>4.3</td><td>7.26</td><td>7.32</td><td>7.17</td><td>7.38</td><td>6.96</td><td>7.13</td><td>6.96</td><td>7.4</td><td>7.44</td><td>7.35</td><td>7.65</td><td>6.95</td><td>6.95</td><td>7.23</td><td>6.94</td><td>6.18</td><td>6.75</td><td>6.42</td><td>0</td><td>Wo</td><td>7.65</td></tr>\n",
      "<tr><td>16</td><td>Hanguk</td><td>Dong-Shik Kim [playerid=427619248]</td><td></td><td>Y×1</td><td>23.77</td><td>5 시즌   8 주   0 일</td><td>1440</td><td>6</td><td>4</td><td>5</td><td>8</td><td>20</td><td>✔</td><td>1</td><td>3</td><td>3</td><td>6</td><td>4</td><td>7</td><td>12</td><td>761</td><td>2019-01-13</td><td>4.5</td><td>FW</td><td>410000</td><td>60</td><td>3.15</td><td>4.68</td><td>4.77</td><td>4.57</td><td>4.84</td><td>4.3</td><td>4.52</td><td>4.3</td><td>4.84</td><td>4.89</td><td>4.77</td><td>5.14</td><td>4.42</td><td>4.5</td><td>4.61</td><td>4.6</td><td>6.08</td><td>5.41</td><td>6.33</td><td>0</td><td>FWtw</td><td>6.33</td></tr>\n",
      "<tr><td>25</td><td>Polska</td><td>Pylyp Nagorniak [playerid=406205227]</td><td></td><td></td><td>31.77</td><td>5 시즌   2 주   6 일</td><td>850</td><td>5</td><td>4</td><td>7</td><td>6</td><td>20</td><td></td><td>1</td><td>6</td><td>6</td><td>3</td><td>6</td><td>3</td><td>11</td><td>601</td><td>2018-12-26</td><td>4.5</td><td>IM</td><td>396000</td><td>13</td><td>3.84</td><td>6.62</td><td>6.53</td><td>6.75</td><td>6.45</td><td>7.05</td><td>6.81</td><td>7.05</td><td>6.52</td><td>6.48</td><td>6.59</td><td>6.23</td><td>6.98</td><td>6.94</td><td>6.79</td><td>6.9</td><td>5.59</td><td>6.28</td><td>5.29</td><td>0</td><td>CD</td><td>7.05</td></tr>\n",
      "<tr><td>31</td><td>Hanguk</td><td>Se-Hee Park [playerid=430626797]</td><td></td><td></td><td>23.12</td><td>4 시즌   7 주   0 일</td><td>1410</td><td>4</td><td>3</td><td>8</td><td>8</td><td>20</td><td>✔</td><td>1</td><td>2</td><td>5</td><td>5</td><td>3</td><td>7</td><td>9</td><td>709</td><td>2019-01-13</td><td>5</td><td>FW</td><td>390000</td><td>31</td><td>3.39</td><td>5.05</td><td>5.35</td><td>5.29</td><td>5.65</td><td>5.22</td><td>5.07</td><td>5.77</td><td>5.93</td><td>6.34</td><td>6.43</td><td>6.38</td><td>6.46</td><td>6.6</td><td>6.52</td><td>6.73</td><td>7.56</td><td>6.9</td><td>7.57</td><td>0</td><td>FWtw</td><td>7.57</td></tr>\n",
      "<tr><td>34</td><td>Sverige</td><td>Axel Hermansson [playerid=422526443]</td><td></td><td></td><td>32.99</td><td>4 시즌   4 주   6 일</td><td>690</td><td>5</td><td>6</td><td>8</td><td>5</td><td>20</td><td></td><td>2</td><td>6</td><td>6</td><td>2</td><td>6</td><td>2</td><td>9</td><td>606</td><td>2019-01-13</td><td>4.5</td><td>IM</td><td>420000</td><td>19</td><td>4.67</td><td>6.66</td><td>6.53</td><td>6.83</td><td>6.43</td><td>7.22</td><td>6.9</td><td>7.22</td><td>6.52</td><td>6.47</td><td>6.61</td><td>6.14</td><td>7.14</td><td>7.09</td><td>6.88</td><td>7.02</td><td>5.3</td><td>6.2</td><td>4.89</td><td>0</td><td>CD</td><td>7.22</td></tr>\n",
      "<tr><td>40</td><td>Perú</td><td>Matías Pichis [playerid=416567166]</td><td></td><td></td><td>26.55</td><td>4 시즌   0 주   5 일</td><td>9870</td><td>6</td><td>3</td><td>7</td><td>7</td><td>20</td><td></td><td>1</td><td>10</td><td>8</td><td>2</td><td>4</td><td>4</td><td>9</td><td>1003</td><td>2019-01-09</td><td>5.5</td><td>CD</td><td>1764000</td><td>6</td><td>4.94</td><td>9.48</td><td>9.09</td><td>9.59</td><td>8.73</td><td>10.26</td><td>9.85</td><td>9.9</td><td>8.33</td><td>7.89</td><td>8.16</td><td>7.16</td><td>9.13</td><td>8.8</td><td>8.42</td><td>8.41</td><td>6.22</td><td>6.76</td><td>5.62</td><td>0</td><td>CD</td><td>10.26</td></tr>\n",
      "<tr><td>48</td><td>Hanguk</td><td>Dong-Suk Lee [playerid=432205385]</td><td>공 마술사\n",
      "더 많은 정보를 보려면 클릭</td><td></td><td>22.26</td><td>3 시즌   10 주   6 일</td><td>1350</td><td>6</td><td>2</td><td>8</td><td>7</td><td>20</td><td>✔</td><td>1</td><td>5</td><td>4</td><td>5</td><td>6</td><td>5</td><td>6</td><td>615</td><td>2019-01-09</td><td>4.5</td><td>FW</td><td>290000</td><td>16</td><td>3.88</td><td>6.43</td><td>6.37</td><td>6.31</td><td>6.3</td><td>6.23</td><td>6.36</td><td>6.05</td><td>6.28</td><td>6.18</td><td>6.09</td><td>6.31</td><td>5.94</td><td>5.97</td><td>6.02</td><td>6.02</td><td>6.46</td><td>0</td><td>6.54</td><td>6.53</td><td>FWtw</td><td>6.54</td></tr>\n",
      "<tr><td>52</td><td>Hanguk</td><td>Seong-Gong Choi [playerid=433454317]</td><td>예측할 수 없음\n",
      "더 많은 정보를 보려면 클릭</td><td></td><td>20.106</td><td>3 시즌   7 주   1 일</td><td>5850</td><td>4</td><td>3</td><td>7</td><td>8</td><td>20</td><td>✔</td><td>1</td><td>7</td><td>7</td><td>7</td><td>4</td><td>5</td><td>7</td><td>778</td><td>2019-01-09</td><td>4.5</td><td>CD</td><td>550000</td><td>21</td><td>4.64</td><td>8.7</td><td>8.7</td><td>8.7</td><td>8.7</td><td>8.7</td><td>8.7</td><td>8.7</td><td>8.49</td><td>8.43</td><td>8.49</td><td>8.33</td><td>8.5</td><td>8.35</td><td>8.44</td><td>8.17</td><td>7.45</td><td>7.43</td><td>7.5</td><td>0</td><td>CD</td><td>8.7</td></tr>\n",
      "<tr><td>55</td><td>Hanguk</td><td>Geun-Ho Han [playerid=433728993]</td><td></td><td></td><td>21.108</td><td>3 시즌   4 주   1 일</td><td>2510</td><td>3</td><td>2</td><td>8</td><td>8</td><td>20</td><td>✔</td><td>1</td><td>5</td><td>6</td><td>4</td><td>3</td><td>7</td><td>6</td><td>711</td><td>2019-01-09</td><td>5.5</td><td>FW</td><td>410000</td><td>18</td><td>4.02</td><td>6.84</td><td>6.87</td><td>7.01</td><td>6.91</td><td>7.2</td><td>6.98</td><td>7.39</td><td>6.88</td><td>6.95</td><td>7.1</td><td>6.69</td><td>7.5</td><td>7.45</td><td>7.24</td><td>7.38</td><td>7.5</td><td>7.01</td><td>7.29</td><td>0</td><td>IMd</td><td>7.5</td></tr>\n",
      "<tr><td>61</td><td>Oceania</td><td>Cedrick Williamson [playerid=430364099]</td><td>힘 있음\n",
      "더 많은 정보를 보려면 클릭</td><td></td><td>21.59</td><td>2 시즌   14 주   6 일</td><td>7020</td><td>3</td><td>3</td><td>7</td><td>8</td><td>19</td><td></td><td>1</td><td>8</td><td>5</td><td>7</td><td>7</td><td>2</td><td>7</td><td>879</td><td>2019-01-09</td><td>4.5</td><td>WB</td><td>708000</td><td>3</td><td>4.41</td><td>8.55</td><td>8.32</td><td>8.22</td><td>8.09</td><td>8.08</td><td>8.39</td><td>7.54</td><td>7.76</td><td>7.39</td><td>7.23</td><td>7.53</td><td>6.85</td><td>6.71</td><td>7</td><td>6.57</td><td>5.66</td><td>6.37</td><td>5.89</td><td>0</td><td>WBd</td><td>8.55</td></tr>\n",
      "<tr><td>65</td><td>Hanguk</td><td>Sang-Hyun Yun [playerid=434942107]</td><td></td><td></td><td>20.22</td><td>2 시즌   10 주   1 일</td><td>3220</td><td>3</td><td>1</td><td>8</td><td>7</td><td>20</td><td>✔</td><td>1</td><td>6</td><td>5</td><td>4</td><td>7</td><td>4</td><td>5</td><td>775</td><td>2019-01-13</td><td>4.5</td><td>W</td><td>390000</td><td>4</td><td>3.77</td><td>6.71</td><td>6.58</td><td>6.67</td><td>6.45</td><td>6.8</td><td>6.76</td><td>6.62</td><td>6.48</td><td>6.36</td><td>6.34</td><td>6.3</td><td>6.46</td><td>6.47</td><td>6.4</td><td>6.49</td><td>6.01</td><td>6.51</td><td>5.87</td><td>0</td><td>CD</td><td>6.8</td></tr>\n",
      "<tr><td>70</td><td>Hanguk</td><td>Min-Gyu Jung [playerid=429263814]</td><td></td><td></td><td>25.100</td><td>2 시즌   5 주   5 일</td><td>4250</td><td>1</td><td>4</td><td>4</td><td>7</td><td>17</td><td></td><td>1</td><td>9</td><td>6</td><td>4</td><td>4</td><td>2</td><td>7</td><td>936</td><td>2019-01-13</td><td>4</td><td>CD</td><td>1030000</td><td>2</td><td>3.57</td><td>6.74</td><td>6.47</td><td>6.63</td><td>6.21</td><td>6.84</td><td>6.82</td><td>6.44</td><td>5.83</td><td>5.46</td><td>5.5</td><td>5.19</td><td>5.74</td><td>5.5</td><td>5.49</td><td>5.24</td><td>3.9</td><td>4.35</td><td>3.77</td><td>0</td><td>CD</td><td>6.84</td></tr>\n",
      "<tr><td>78</td><td>Hanguk</td><td>Jung-Oh Han [playerid=433730490]</td><td>공 마술사\n",
      "더 많은 정보를 보려면 클릭</td><td></td><td>22.17</td><td>1 시즌   3 주   5 일</td><td>4960</td><td>4</td><td>2</td><td>7</td><td>8</td><td>13</td><td></td><td>1</td><td>9</td><td>3</td><td>5</td><td>1</td><td>3</td><td>6</td><td>961</td><td>2019-01-09</td><td>4.5</td><td>WB</td><td>1270000</td><td>5</td><td>4.16</td><td>8.06</td><td>7.54</td><td>7.49</td><td>7.01</td><td>7.43</td><td>7.87</td><td>6.35</td><td>5.99</td><td>5.12</td><td>4.98</td><td>5</td><td>4.79</td><td>4.34</td><td>4.56</td><td>3.87</td><td>3.78</td><td>0</td><td>4.04</td><td>3.34</td><td>WBd</td><td>8.06</td></tr>\n",
      "<tr><td>79</td><td>España</td><td>Jimeno Eguiruren [playerid=415605434]</td><td></td><td></td><td>26.73</td><td>1 시즌   1 주   0 일</td><td>24940</td><td>5</td><td>6</td><td>6</td><td>7</td><td>12</td><td></td><td>1</td><td>8</td><td>11</td><td>3</td><td>9</td><td>2</td><td>6</td><td>1096</td><td>2019-01-13</td><td>6</td><td>IM</td><td>4116000</td><td>25</td><td>4.07</td><td>8.18</td><td>8.19</td><td>8.73</td><td>8.26</td><td>9.43</td><td>8.68</td><td>9.92</td><td>8.69</td><td>8.95</td><td>9.31</td><td>8.34</td><td>10.31</td><td>10.29</td><td>9.91</td><td>10.23</td><td>6.65</td><td>8.36</td><td>5.9</td><td>0</td><td>IMd</td><td>10.31</td></tr>\n",
      "<tr><td>80</td><td>Andorra</td><td>Joaquim Muntaner [playerid=427020395]</td><td>공 마술사\n",
      "더 많은 정보를 보려면 클릭</td><td></td><td>28.19</td><td>15 주   3 일</td><td>14210</td><td>6</td><td>6</td><td>8</td><td>7</td><td>11</td><td></td><td>1</td><td>9</td><td>6</td><td>8</td><td>7</td><td>4</td><td>10</td><td>959</td><td>2019-01-13</td><td>5.5</td><td>WB</td><td>1404000</td><td>30</td><td>4.71</td><td>9.58</td><td>9.36</td><td>9.25</td><td>9.12</td><td>9.11</td><td>9.42</td><td>8.57</td><td>8.72</td><td>8.33</td><td>8.18</td><td>8.43</td><td>7.84</td><td>7.67</td><td>7.93</td><td>7.49</td><td>6.9</td><td>0</td><td>7.14</td><td>7.35</td><td>WBd</td><td>9.58</td></tr>\n",
      "<tr><td>81</td><td>Hanguk</td><td>Sang-Yong Jang [playerid=433566477]</td><td></td><td></td><td>22.11</td><td>15 주   0 일</td><td>8000</td><td>2</td><td>2</td><td>6</td><td>8</td><td>11</td><td></td><td>1</td><td>9</td><td>6</td><td>6</td><td>5</td><td>4</td><td>5</td><td>947</td><td>2019-01-13</td><td>4.5</td><td>WB</td><td>1170000</td><td>8</td><td>3.76</td><td>7.94</td><td>7.67</td><td>7.72</td><td>7.4</td><td>7.79</td><td>7.92</td><td>7.29</td><td>6.95</td><td>6.54</td><td>6.51</td><td>6.4</td><td>6.53</td><td>6.3</td><td>6.38</td><td>6.04</td><td>5.26</td><td>5.49</td><td>5.29</td><td>0</td><td>WBd</td><td>7.94</td></tr>\n",
      "<tr><td>83</td><td>Hanguk</td><td>Kwang-Hyun Seo [playerid=434869614]</td><td>예측할 수 없음\n",
      "더 많은 정보를 보려면 클릭</td><td>R</td><td>21.8</td><td>12 주   1 일</td><td>2740</td><td>2</td><td>2</td><td>6</td><td>8</td><td>10</td><td></td><td>1</td><td>8</td><td>5</td><td>4</td><td>5</td><td>4</td><td>2</td><td>803</td><td>2019-01-13</td><td>4</td><td>CD</td><td>530000</td><td>12</td><td>3.45</td><td>6.86</td><td>6.56</td><td>6.68</td><td>6.26</td><td>6.85</td><td>6.89</td><td>6.35</td><td>5.9</td><td>5.49</td><td>5.48</td><td>5.31</td><td>5.65</td><td>5.47</td><td>5.43</td><td>5.28</td><td>4.72</td><td>4.95</td><td>4.62</td><td>0</td><td>CDtw</td><td>6.89</td></tr>\n",
      "<tr><td>84</td><td>Hanguk</td><td>Kang Jung [playerid=440669717]</td><td></td><td></td><td>17.15</td><td>2 주   1 일</td><td>1740</td><td>5</td><td>1</td><td>6</td><td>5</td><td>20</td><td>✔</td><td>6</td><td>4</td><td>1</td><td>1</td><td>1</td><td>1</td><td>4</td><td>617</td><td>2019-01-09</td><td>2.5</td><td>KP</td><td>710000</td><td>0</td><td>5.49</td><td>3.6</td><td>3.36</td><td>3.4</td><td>3.11</td><td>3.46</td><td>3.58</td><td>3.01</td><td>2.77</td><td>2.41</td><td>2.37</td><td>2.32</td><td>2.41</td><td>2.26</td><td>2.27</td><td>2.1</td><td>1.98</td><td>1.98</td><td>1.98</td><td>0</td><td>KP</td><td>5.49</td></tr>\n",
      "<tr><td>98</td><td>Hanguk</td><td>Sang-Uk Kim [playerid=440758581]</td><td></td><td></td><td>18.51</td><td>1 주   1 일</td><td>180</td><td>4</td><td>1</td><td>6</td><td>5</td><td>20</td><td>✔</td><td>1</td><td>3</td><td>3</td><td>2</td><td>3</td><td>6</td><td>3</td><td>609</td><td></td><td></td><td></td><td>270000</td><td>0</td><td>2.36</td><td>3.33</td><td>3.3</td><td>3.36</td><td>3.28</td><td>3.45</td><td>3.38</td><td>3.45</td><td>3.3</td><td>3.28</td><td>3.32</td><td>3.21</td><td>3.5</td><td>3.53</td><td>3.37</td><td>3.57</td><td>4.3</td><td>3.9</td><td>4.19</td><td>0</td><td>FW</td><td>4.3</td></tr>\n",
      "<tr><td>99</td><td>Danmark</td><td>Torben Boesen [playerid=321795066] 코치</td><td>헤딩\n",
      "더 많은 정보를 보려면 클릭</td><td></td><td>42.10</td><td>1 시즌   2 주   0 일</td><td>20</td><td>4</td><td>13</td><td>6</td><td>1</td><td>12</td><td></td><td>0</td><td>7</td><td>0</td><td>1</td><td>0</td><td>0</td><td>0</td><td>680</td><td>2018-06-06</td><td>4</td><td>WB</td><td>312000</td><td>79</td><td>2.23</td><td>3.79</td><td>3.43</td><td>3.45</td><td>3.05</td><td>3.49</td><td>3.72</td><td>2.77</td><td>2.49</td><td>1.93</td><td>1.84</td><td>1.83</td><td>1.81</td><td>1.57</td><td>1.63</td><td>1.32</td><td>1.19</td><td>1.16</td><td>1.26</td><td>0</td><td>WBd</td><td>3.79</td></tr>\n",
      "</table>\n"
     ]
    }
   ],
   "source": [
    "p.read_line_list(folder + '/player.html')\n",
    "p.print_line_list()"
   ]
  },
  {
   "cell_type": "code",
   "execution_count": 18,
   "metadata": {
    "scrolled": true
   },
   "outputs": [
    {
     "name": "stdout",
     "output_type": "stream",
     "text": [
      "['Number', 'Nat', 'Player', 'PlayerID', 'Special', 'Stat', 'Age', 'Since', 'TSI', 'LS', 'XP', 'Fo', 'Stm', 'Lo', 'MB', 'KP', 'DF', 'PM', 'WI', 'PS', 'SC', 'SP', 'Psico', 'Last', 'Rt', 'Pos', 'Wage', 'G', 'KPPos', 'WBdPos', 'WBPos', 'WBtmPos', 'WBoPos', 'CDPos', 'CDtwPos', 'CDoPos', 'WdPos', 'WPos', 'WtmPos', 'WoPos', 'IMdPos', 'IMPos', 'IMtwPos', 'IMoPos', 'FWPos', 'FWdPos', 'FWtwPos', 'TDFPos', 'BPo', 'BPoV']\n",
      "['Number', 'Nat', 'Player', 'PlayerID', 'Special', 'Stat', 'Age', 'Since', 'TSI', 'LS', 'XP', 'Fo', 'Stm', 'Lo', 'MB', 'KP', 'DF', 'PM', 'WI', 'PS', 'SC', 'SP', 'Psico', 'Last', 'Rt', 'Pos', 'Wage', 'G', 'KPPos', 'WBdPos', 'WBPos', 'WBtmPos', 'WBoPos', 'CDPos', 'CDtwPos', 'CDoPos', 'WdPos', 'WPos', 'WtmPos', 'WoPos', 'IMdPos', 'IMPos', 'IMtwPos', 'IMoPos', 'FWPos', 'FWdPos', 'FWtwPos', 'TDFPos', 'BPo', 'BPoV']\n",
      "['2', 'Hanguk', 'Jee-Hoon Kim', '428709461', '', '', '23.90', '5 시즌 0 주 0 일', '65820', '3', '3', '6', '8', '20', 'TRUE', '16', '5', '1', '1', '1', '2', '10', '1606', '2019-01-13', '7.5', 'KP', '19050000', '0', '13.28', '5.2', '4.84', '4.9', '4.47', '4.99', '5.16', '4.32', '3.96', '3.43', '3.36', '3.29', '3.45', '3.23', '3.21', '3.01', '3.15', '2.98', '3.14', '0', 'KP', '13.28']\n",
      "['4', 'Hanguk', 'Ji-Woon Lee', '427619236', '', 'Y×1', '24.19', '5 시즌 8 주 0 일', '1100', '5', '4', '5', '8', '20', 'TRUE', '1', '7', '4', '3', '5', '2', '9', '719', '2019-01-13', '4', 'CD', '390000', '26', '4.08', '6.63', '6.36', '6.47', '6.08', '6.62', '6.66', '6.16', '5.82', '5.45', '5.43', '5.31', '5.55', '5.41', '5.4', '5.26', '4.47', '4.95', '4.37', '0', 'CDtw', '6.66']\n",
      "['6', 'Hanguk', 'Jae-Shin Cha', '427619238', '', '', '32.0', '5 시즌 8 주 0 일', '420', '5', '6', '5', '6', '20', 'TRUE', '1', '7', '3', '6', '3', '1', '11', '701', '2019-01-13', '4', 'WB', '320000', '26', '3.93', '6.5', '6.28', '6.15', '6.04', '5.98', '6.32', '5.42', '5.55', '5.14', '4.99', '5.23', '4.63', '4.42', '4.7', '4.2', '3.79', '3.95', '4.07', '0', 'WBd', '6.5']\n",
      "['8', 'Hanguk', 'Hong-Chan Son', '427619240', '', 'R', '26.60', '5 시즌 8 주 0 일', '1000', '5', '4', '5', '7', '20', 'TRUE', '1', '5', '6', '5', '5', '1', '10', '633', '2019-01-13', '3.5', 'W', '310000', '9', '3.49', '5.85', '5.9', '5.95', '5.96', '6.01', '5.91', '6.16', '6.03', '6.12', '6.18', '6.05', '6.23', '6.19', '6.26', '6.13', '4.66', '5.36', '4.61', '0', 'IMtw', '6.26']\n",
      "['10', 'Hanguk', 'Kwang-Eul Jeon', '427619242', '', '', '28.66', '5 시즌 8 주 0 일', '1330', '4', '5', '7', '7', '20', 'TRUE', '1', '6', '7', '3', '3', '2', '11', '730', '2019-01-09', '4.5', 'IM', '430000', '19', '4.5', '7.49', '7.45', '7.74', '7.44', '8.12', '7.75', '8.3', '7.4', '7.41', '7.65', '6.97', '8.22', '8.05', '7.89', '7.85', '5.74', '6.34', '5.38', '0', 'Cdo', '8.3']\n",
      "['11', 'Hanguk', 'Kwang-Hwan Yun', '427619243', '', '', '31.33', '5 시즌 8 주 0 일', '380', '6', '5', '7', '6', '20', 'TRUE', '2', '5', '6', '2', '5', '2', '10', '604', '2019-01-13', '4', 'W', '310000', '19', '4.8', '6.45', '6.41', '6.69', '6.4', '7.07', '6.7', '7.24', '6.56', '6.62', '6.8', '6.29', '7.33', '7.3', '7.09', '7.25', '5.54', '6.33', '5.15', '0', 'IMd', '7.33']\n",
      "['12', 'Hanguk', 'Chan-Myung Lee', '427619244', '', 'Y×1', '30.42', '5 시즌 8 주 0 일', '540', '3', '5', '6', '6', '20', 'TRUE', '1', '3', '7', '3', '4', '3', '10', '702', '2019-01-09', '4', 'IM', '380000', '10', '3.4', '5.16', '5.39', '5.6', '5.63', '5.89', '5.43', '6.53', '6.02', '6.44', '6.68', '6.16', '7.17', '7.23', '7.03', '7.26', '5.77', '6.27', '5.42', '0', 'IMo', '7.26']\n",
      "['13', 'Hanguk', 'Sung-Kook Han', '427619245', 'Technical', '', '26.30', '5 시즌 8 주 0 일', '1580', '2', '4', '7', '7', '20', 'TRUE', '1', '5', '6', '6', '5', '2', '10', '644', '2019-01-09', '4.5', 'W', '330000', '27', '4.21', '7.2', '7.29', '7.27', '7.39', '7.25', '7.2', '7.43', '7.45', '7.58', '7.61', '7.58', '7.53', '7.49', '7.64', '7.44', '6.12', '0', '6.17', '6.74', 'IMtw', '7.64']\n",
      "['15', 'Hanguk', 'Man-Ok Lee', '427619247', 'Unpredictable', '', '27.83', '5 시즌 8 주 0 일', '2200', '5', '5', '7', '7', '20', 'TRUE', '1', '5', '5', '7', '6', '2', '10', '752', '2019-01-09', '5', 'W', '350000', '16', '4.3', '7.26', '7.32', '7.17', '7.38', '6.96', '7.13', '6.96', '7.4', '7.44', '7.35', '7.65', '6.95', '6.95', '7.23', '6.94', '6.18', '6.75', '6.42', '0', 'Wo', '7.65']\n",
      "['16', 'Hanguk', 'Dong-Shik Kim', '427619248', '', 'Y×1', '23.77', '5 시즌 8 주 0 일', '1440', '6', '4', '5', '8', '20', 'TRUE', '1', '3', '3', '6', '4', '7', '12', '761', '2019-01-13', '4.5', 'FW', '410000', '60', '3.15', '4.68', '4.77', '4.57', '4.84', '4.3', '4.52', '4.3', '4.84', '4.89', '4.77', '5.14', '4.42', '4.5', '4.61', '4.6', '6.08', '5.41', '6.33', '0', 'FWtw', '6.33']\n",
      "['25', 'Polska', 'Pylyp Nagorniak', '406205227', '', '', '31.77', '5 시즌 2 주 6 일', '850', '5', '4', '7', '6', '20', 'FALSE', '1', '6', '6', '3', '6', '3', '11', '601', '2018-12-26', '4.5', 'IM', '396000', '13', '3.84', '6.62', '6.53', '6.75', '6.45', '7.05', '6.81', '7.05', '6.52', '6.48', '6.59', '6.23', '6.98', '6.94', '6.79', '6.9', '5.59', '6.28', '5.29', '0', 'CD', '7.05']\n",
      "['31', 'Hanguk', 'Se-Hee Park', '430626797', '', '', '23.12', '4 시즌 7 주 0 일', '1410', '4', '3', '8', '8', '20', 'TRUE', '1', '2', '5', '5', '3', '7', '9', '709', '2019-01-13', '5', 'FW', '390000', '31', '3.39', '5.05', '5.35', '5.29', '5.65', '5.22', '5.07', '5.77', '5.93', '6.34', '6.43', '6.38', '6.46', '6.6', '6.52', '6.73', '7.56', '6.9', '7.57', '0', 'FWtw', '7.57']\n",
      "['34', 'Sverige', 'Axel Hermansson', '422526443', '', '', '32.99', '4 시즌 4 주 6 일', '690', '5', '6', '8', '5', '20', 'FALSE', '2', '6', '6', '2', '6', '2', '9', '606', '2019-01-13', '4.5', 'IM', '420000', '19', '4.67', '6.66', '6.53', '6.83', '6.43', '7.22', '6.9', '7.22', '6.52', '6.47', '6.61', '6.14', '7.14', '7.09', '6.88', '7.02', '5.3', '6.2', '4.89', '0', 'CD', '7.22']\n",
      "['40', 'Perú', 'Matías Pichis', '416567166', '', '', '26.55', '4 시즌 0 주 5 일', '9870', '6', '3', '7', '7', '20', 'FALSE', '1', '10', '8', '2', '4', '4', '9', '1003', '2019-01-09', '5.5', 'CD', '1764000', '6', '4.94', '9.48', '9.09', '9.59', '8.73', '10.26', '9.85', '9.9', '8.33', '7.89', '8.16', '7.16', '9.13', '8.8', '8.42', '8.41', '6.22', '6.76', '5.62', '0', 'CD', '10.26']\n",
      "['48', 'Hanguk', 'Dong-Suk Lee', '432205385', 'Technical', '', '22.26', '3 시즌 10 주 6 일', '1350', '6', '2', '8', '7', '20', 'TRUE', '1', '5', '4', '5', '6', '5', '6', '615', '2019-01-09', '4.5', 'FW', '290000', '16', '3.88', '6.43', '6.37', '6.31', '6.3', '6.23', '6.36', '6.05', '6.28', '6.18', '6.09', '6.31', '5.94', '5.97', '6.02', '6.02', '6.46', '0', '6.54', '6.53', 'FWtw', '6.54']\n",
      "['52', 'Hanguk', 'Seong-Gong Choi', '433454317', 'Unpredictable', '', '20.106', '3 시즌 7 주 1 일', '5850', '4', '3', '7', '8', '20', 'TRUE', '1', '7', '7', '7', '4', '5', '7', '778', '2019-01-09', '4.5', 'CD', '550000', '21', '4.64', '8.7', '8.7', '8.7', '8.7', '8.7', '8.7', '8.7', '8.49', '8.43', '8.49', '8.33', '8.5', '8.35', '8.44', '8.17', '7.45', '7.43', '7.5', '0', 'CD', '8.7']\n",
      "['55', 'Hanguk', 'Geun-Ho Han', '433728993', '', '', '21.108', '3 시즌 4 주 1 일', '2510', '3', '2', '8', '8', '20', 'TRUE', '1', '5', '6', '4', '3', '7', '6', '711', '2019-01-09', '5.5', 'FW', '410000', '18', '4.02', '6.84', '6.87', '7.01', '6.91', '7.2', '6.98', '7.39', '6.88', '6.95', '7.1', '6.69', '7.5', '7.45', '7.24', '7.38', '7.5', '7.01', '7.29', '0', 'IMd', '7.5']\n",
      "['61', 'Oceania', 'Cedrick Williamson', '430364099', 'Powerful', '', '21.59', '2 시즌 14 주 6 일', '7020', '3', '3', '7', '8', '19', 'FALSE', '1', '8', '5', '7', '7', '2', '7', '879', '2019-01-09', '4.5', 'WB', '708000', '3', '4.41', '8.55', '8.32', '8.22', '8.09', '8.08', '8.39', '7.54', '7.76', '7.39', '7.23', '7.53', '6.85', '6.71', '7', '6.57', '5.66', '6.37', '5.89', '0', 'WBd', '8.55']\n",
      "['65', 'Hanguk', 'Sang-Hyun Yun', '434942107', '', '', '20.22', '2 시즌 10 주 1 일', '3220', '3', '1', '8', '7', '20', 'TRUE', '1', '6', '5', '4', '7', '4', '5', '775', '2019-01-13', '4.5', 'W', '390000', '4', '3.77', '6.71', '6.58', '6.67', '6.45', '6.8', '6.76', '6.62', '6.48', '6.36', '6.34', '6.3', '6.46', '6.47', '6.4', '6.49', '6.01', '6.51', '5.87', '0', 'CD', '6.8']\n",
      "['70', 'Hanguk', 'Min-Gyu Jung', '429263814', '', '', '25.100', '2 시즌 5 주 5 일', '4250', '1', '4', '4', '7', '17', 'FALSE', '1', '9', '6', '4', '4', '2', '7', '936', '2019-01-13', '4', 'CD', '1030000', '2', '3.57', '6.74', '6.47', '6.63', '6.21', '6.84', '6.82', '6.44', '5.83', '5.46', '5.5', '5.19', '5.74', '5.5', '5.49', '5.24', '3.9', '4.35', '3.77', '0', 'CD', '6.84']\n",
      "['78', 'Hanguk', 'Jung-Oh Han', '433730490', 'Technical', '', '22.17', '1 시즌 3 주 5 일', '4960', '4', '2', '7', '8', '13', 'FALSE', '1', '9', '3', '5', '1', '3', '6', '961', '2019-01-09', '4.5', 'WB', '1270000', '5', '4.16', '8.06', '7.54', '7.49', '7.01', '7.43', '7.87', '6.35', '5.99', '5.12', '4.98', '5', '4.79', '4.34', '4.56', '3.87', '3.78', '0', '4.04', '3.34', 'WBd', '8.06']\n",
      "['79', 'España', 'Jimeno Eguiruren', '415605434', '', '', '26.73', '1 시즌 1 주 0 일', '24940', '5', '6', '6', '7', '12', 'FALSE', '1', '8', '11', '3', '9', '2', '6', '1096', '2019-01-13', '6', 'IM', '4116000', '25', '4.07', '8.18', '8.19', '8.73', '8.26', '9.43', '8.68', '9.92', '8.69', '8.95', '9.31', '8.34', '10.31', '10.29', '9.91', '10.23', '6.65', '8.36', '5.9', '0', 'IMd', '10.31']\n",
      "['80', 'Andorra', 'Joaquim Muntaner', '427020395', 'Technical', '', '28.19', '15 주 3 일', '14210', '6', '6', '8', '7', '11', 'FALSE', '1', '9', '6', '8', '7', '4', '10', '959', '2019-01-13', '5.5', 'WB', '1404000', '30', '4.71', '9.58', '9.36', '9.25', '9.12', '9.11', '9.42', '8.57', '8.72', '8.33', '8.18', '8.43', '7.84', '7.67', '7.93', '7.49', '6.9', '0', '7.14', '7.35', 'WBd', '9.58']\n",
      "['81', 'Hanguk', 'Sang-Yong Jang', '433566477', '', '', '22.11', '15 주 0 일', '8000', '2', '2', '6', '8', '11', 'FALSE', '1', '9', '6', '6', '5', '4', '5', '947', '2019-01-13', '4.5', 'WB', '1170000', '8', '3.76', '7.94', '7.67', '7.72', '7.4', '7.79', '7.92', '7.29', '6.95', '6.54', '6.51', '6.4', '6.53', '6.3', '6.38', '6.04', '5.26', '5.49', '5.29', '0', 'WBd', '7.94']\n",
      "['83', 'Hanguk', 'Kwang-Hyun Seo', '434869614', 'Unpredictable', 'R', '21.8', '12 주 1 일', '2740', '2', '2', '6', '8', '10', 'FALSE', '1', '8', '5', '4', '5', '4', '2', '803', '2019-01-13', '4', 'CD', '530000', '12', '3.45', '6.86', '6.56', '6.68', '6.26', '6.85', '6.89', '6.35', '5.9', '5.49', '5.48', '5.31', '5.65', '5.47', '5.43', '5.28', '4.72', '4.95', '4.62', '0', 'CDtw', '6.89']\n",
      "['84', 'Hanguk', 'Kang Jung', '440669717', '', '', '17.15', '2 주 1 일', '1740', '5', '1', '6', '5', '20', 'TRUE', '6', '4', '1', '1', '1', '1', '4', '617', '2019-01-09', '2.5', 'KP', '710000', '0', '5.49', '3.6', '3.36', '3.4', '3.11', '3.46', '3.58', '3.01', '2.77', '2.41', '2.37', '2.32', '2.41', '2.26', '2.27', '2.1', '1.98', '1.98', '1.98', '0', 'KP', '5.49']\n",
      "['98', 'Hanguk', 'Sang-Uk Kim', '440758581', '', '', '18.51', '1 주 1 일', '180', '4', '1', '6', '5', '20', 'TRUE', '1', '3', '3', '2', '3', '6', '3', '609', '', '', '', '270000', '0', '2.36', '3.33', '3.3', '3.36', '3.28', '3.45', '3.38', '3.45', '3.3', '3.28', '3.32', '3.21', '3.5', '3.53', '3.37', '3.57', '4.3', '3.9', '4.19', '0', 'FW', '4.3']\n",
      "['99', 'Danmark', 'Torben Boesen', '321795066', 'Head', '', '42.10', '1 시즌 2 주 0 일', '20', '4', '13', '6', '1', '12', 'FALSE', '0', '7', '0', '1', '0', '0', '0', '680', '2018-06-06', '4', 'WB', '312000', '79', '2.23', '3.79', '3.43', '3.45', '3.05', '3.49', '3.72', '2.77', '2.49', '1.93', '1.84', '1.83', '1.81', '1.57', '1.63', '1.32', '1.19', '1.16', '1.26', '0', 'WBd', '3.79']\n"
     ]
    }
   ],
   "source": [
    "p.write_line_list(folder + '/player.html')\n",
    "p.modify_line_list(folder + '/player.html')\n",
    "p.print_df_cols()\n",
    "p.print_df()"
   ]
  },
  {
   "cell_type": "code",
   "execution_count": 19,
   "metadata": {},
   "outputs": [],
   "source": [
    "p.save_df(folder + '/player.csv')"
   ]
  },
  {
   "cell_type": "code",
   "execution_count": 20,
   "metadata": {},
   "outputs": [
    {
     "name": "stdout",
     "output_type": "stream",
     "text": [
      "50\tNumber\n",
      "50\t2\n",
      "50\t4\n",
      "50\t6\n",
      "50\t8\n",
      "50\t10\n",
      "50\t11\n",
      "50\t12\n",
      "50\t13\n",
      "50\t15\n",
      "50\t16\n",
      "50\t25\n",
      "50\t31\n",
      "50\t34\n",
      "50\t40\n",
      "50\t48\n",
      "50\t52\n",
      "50\t55\n",
      "50\t61\n",
      "50\t65\n",
      "50\t70\n",
      "50\t78\n",
      "50\t79\n",
      "50\t80\n",
      "50\t81\n",
      "50\t83\n",
      "50\t84\n",
      "50\t98\n",
      "50\t99\n"
     ]
    }
   ],
   "source": [
    "with open(folder + '/player.csv', 'r', encoding='utf-8') as f:\n",
    "    for line in f:\n",
    "        col = line.split(\",\")\n",
    "        print(len(col), col[0], sep=\"\\t\" ) # len = 47 -> 50"
   ]
  },
  {
   "cell_type": "code",
   "execution_count": 21,
   "metadata": {},
   "outputs": [
    {
     "name": "stdout",
     "output_type": "stream",
     "text": [
      "2019/01/13/player.html\t : will be removed\n",
      "2019/01/13/player.html\t : is not existed\n"
     ]
    }
   ],
   "source": [
    "HattrickFile.check_and_delete_file(folder + '/player.html')"
   ]
  },
  {
   "cell_type": "code",
   "execution_count": 22,
   "metadata": {},
   "outputs": [],
   "source": [
    "import psycopg2"
   ]
  },
  {
   "cell_type": "code",
   "execution_count": 34,
   "metadata": {},
   "outputs": [
    {
     "name": "stdout",
     "output_type": "stream",
     "text": [
      "<connection object at 0x7fb16545a048; dsn: 'user=myuser password=xxx dbname=mydatabase host=localhost port=65432', closed: 0>\n"
     ]
    }
   ],
   "source": [
    "conn = psycopg2.connect(\"dbname='mydatabase' user='myuser' host='localhost' port='65432' password='123qwe'\")\n",
    "print(conn)"
   ]
  },
  {
   "cell_type": "code",
   "execution_count": 24,
   "metadata": {},
   "outputs": [],
   "source": [
    "ht_player_pg = HattrickPlayerPostgreSQL()\n",
    "# ht_player_table_name = 'player'\n",
    "ht_player_table_name = 'player_tmp'"
   ]
  },
  {
   "cell_type": "code",
   "execution_count": 25,
   "metadata": {},
   "outputs": [
    {
     "data": {
      "text/plain": [
       "3825"
      ]
     },
     "execution_count": 25,
     "metadata": {},
     "output_type": "execute_result"
    }
   ],
   "source": [
    "ht_player_pg.select_count_player(conn, ht_player_table_name)"
   ]
  },
  {
   "cell_type": "code",
   "execution_count": null,
   "metadata": {},
   "outputs": [],
   "source": [
    "# import csv\n",
    "# with open(folder + '/player.csv', 'r', encoding='utf-8') as f:\n",
    "#     reader = csv.reader(f, delimiter=',')\n",
    "#     for row in reader:\n",
    "#         if row[0] != \"Number\" :\n",
    "#             ht_player_pg.insert_player(conn, ht_player_table_name, folder.replace('/', '-'), row)"
   ]
  },
  {
   "cell_type": "code",
   "execution_count": 26,
   "metadata": {},
   "outputs": [],
   "source": [
    "import csv\n",
    "with open(folder + '/player.csv', 'r', encoding='utf-8') as f:\n",
    "    reader = csv.reader(f, delimiter=',')\n",
    "    for row in reader:\n",
    "        if row[0] != \"Number\" :\n",
    "            ht_player_pg.insert_player_tmp(conn, ht_player_table_name, folder.replace('/', '-'), row)"
   ]
  },
  {
   "cell_type": "code",
   "execution_count": 27,
   "metadata": {},
   "outputs": [
    {
     "data": {
      "text/plain": [
       "3853"
      ]
     },
     "execution_count": 27,
     "metadata": {},
     "output_type": "execute_result"
    }
   ],
   "source": [
    "ht_player_pg.select_count_player(conn, ht_player_table_name)"
   ]
  },
  {
   "cell_type": "code",
   "execution_count": 28,
   "metadata": {},
   "outputs": [],
   "source": [
    "# tuple_list = ht_player_pg.select_player(conn, ht_player_table_name, folder)\n",
    "# ht_player_pg.print(tuple_list)"
   ]
  },
  {
   "cell_type": "code",
   "execution_count": 29,
   "metadata": {},
   "outputs": [
    {
     "data": {
      "text/html": [
       "<style>.container { width:90% !important;}</style>"
      ],
      "text/plain": [
       "<IPython.core.display.HTML object>"
      ]
     },
     "metadata": {},
     "output_type": "display_data"
    }
   ],
   "source": [
    "from IPython.core.display import display, HTML\n",
    "display(HTML(\"<style>.container { width:90% !important;}</style>\"))"
   ]
  },
  {
   "cell_type": "code",
   "execution_count": 36,
   "metadata": {},
   "outputs": [
    {
     "data": {
      "text/plain": [
       "[(datetime.date(2019, 1, 13),), (datetime.date(2019, 1, 9),)]"
      ]
     },
     "execution_count": 36,
     "metadata": {},
     "output_type": "execute_result"
    }
   ],
   "source": [
    "last_2dates = ht_player_pg.select_last_2dates(conn, 'player_tmp')\n",
    "last_2dates"
   ]
  },
  {
   "cell_type": "code",
   "execution_count": 30,
   "metadata": {},
   "outputs": [
    {
     "name": "stderr",
     "output_type": "stream",
     "text": [
      "../03_Remake_with_TDD/postgresql/ht_player_postgresql.py:652: SettingWithCopyWarning: \n",
      "A value is trying to be set on a copy of a slice from a DataFrame\n",
      "\n",
      "See the caveats in the documentation: http://pandas.pydata.org/pandas-docs/stable/indexing.html#indexing-view-versus-copy\n",
      "  df[col][1] = ''\n",
      "/home/rwoo/02_WorkSpace/04_Hattrick/Hattrick-Study/99_Utility/ht-venv/lib/python3.6/site-packages/pandas/core/indexing.py:189: SettingWithCopyWarning: \n",
      "A value is trying to be set on a copy of a slice from a DataFrame\n",
      "\n",
      "See the caveats in the documentation: http://pandas.pydata.org/pandas-docs/stable/indexing.html#indexing-view-versus-copy\n",
      "  self._setitem_with_indexer(indexer, value)\n"
     ]
    },
    {
     "name": "stdout",
     "output_type": "stream",
     "text": [
      "+----+------------+-------+------------+-------+-------+-------+------------+------+------+--------+\n",
      "|    | date       | num   | playerid   | age   |   tsi |   con | last       |   rt | po   | kp_p   |\n",
      "|----+------------+-------+------------+-------+-------+-------+------------+------+------+--------|\n",
      "|  0 | 2019-01-09 | 2     | 428709461  | 23.86 | 68110 |  1621 | 2019-01-06 |  8   | KP   | 13.28  |\n",
      "|  1 | 2019-01-13 |       |            | 23.90 | 65820 |  1606 | 2019-01-13 |  7.5 |      |        |\n",
      "|  2 | 4          |       |            |       | -2290 |   -15 |            | -0.5 |      |        |\n",
      "+----+------------+-------+------------+-------+-------+-------+------------+------+------+--------+\n",
      "+----+------------+-------+------------+-------+-------+-------+------------+------+--------+----------+---------+-------+---------+\n",
      "|    | date       | num   | playerid   | age   |   tsi |   con | last       | po   | cd_p   | cdtw_p   | cdo_p   | b_p   | b_p_v   |\n",
      "|----+------------+-------+------------+-------+-------+-------+------------+------+--------+----------+---------+-------+---------|\n",
      "|  0 | 2019-01-09 | 4     | 427619236  | 24.15 |  1130 |   713 | 2019-01-06 | CD   | 7.24   | 7.29     | 6.74    | CDtw  | 7.29    |\n",
      "|  1 | 2019-01-13 |       |            | 24.19 |  1100 |   719 | 2019-01-13 |      | 6.62   | 6.66     | 6.16    |       | 6.66    |\n",
      "|  2 | 4          |       |            |       |   -30 |     6 |            |      |        |          |         |       |         |\n",
      "+----+------------+-------+------------+-------+-------+-------+------------+------+--------+----------+---------+-------+---------+\n",
      "+----+------------+-------+------------+--------+-------+-------+------------+------+---------+--------+----------+---------+-------+---------+\n",
      "|    | date       | num   | playerid   | age    |   tsi |   con | last       | po   | wbd_p   | wb_p   | wbtm_p   | wbo_p   | b_p   | b_p_v   |\n",
      "|----+------------+-------+------------+--------+-------+-------+------------+------+---------+--------+----------+---------+-------+---------|\n",
      "|  0 | 2019-01-09 | 6     | 427619238  | 31.108 |   460 |   700 | 2019-01-06 | WB   | 7.11    | 6.87   | 6.73     | 6.61    | WBd   | 7.11    |\n",
      "|  1 | 2019-01-13 |       |            | 32.0   |   420 |   701 | 2019-01-13 |      | 6.5     | 6.28   | 6.15     | 6.04    |       | 6.5     |\n",
      "|  2 | 4          |       |            |        |   -40 |     1 |            |      |         |        |          |         |       |         |\n",
      "+----+------------+-------+------------+--------+-------+-------+------------+------+---------+--------+----------+---------+-------+---------+\n",
      "+----+------------+-------+------------+-------+-------+-------+------------+------+------+--------+-------+---------+--------+-------+---------+\n",
      "|    | date       | num   | playerid   | age   |   tsi |   con | last       |   rt | po   | wd_p   | w_p   | wtm_p   | wo_p   | b_p   | b_p_v   |\n",
      "|----+------------+-------+------------+-------+-------+-------+------------+------+------+--------+-------+---------+--------+-------+---------|\n",
      "|  0 | 2019-01-09 | 8     | 427619240  | 26.56 |  1090 |   628 | 2019-01-06 |  4   | W    | 6.6    | 6.7   | 6.76    | 6.62   | IMtw  | 6.85    |\n",
      "|  1 | 2019-01-13 |       |            | 26.60 |  1000 |   633 | 2019-01-13 |  3.5 |      | 6.03   | 6.12  | 6.18    | 6.05   |       | 6.26    |\n",
      "|  2 | 4          |       |            |       |   -90 |     5 |            | -0.5 |      |        |       |         |        |       |         |\n",
      "+----+------------+-------+------------+-------+-------+-------+------------+------+------+--------+-------+---------+--------+-------+---------+\n",
      "+----+------------+-------+------------+-------+-------+-------+-------+------------+------+---------+--------+----------+---------+-------+---------+\n",
      "|    | date       | num   | playerid   | age   |   tsi |   stm |   con | last       | po   |   imd_p |   im_p |   imtw_p |   imo_p | b_p   |   b_p_v |\n",
      "|----+------------+-------+------------+-------+-------+-------+-------+------------+------+---------+--------+----------+---------+-------+---------|\n",
      "|  0 | 2019-01-09 | 10    | 427619242  | 28.62 |  1300 |     6 |   744 | 2019-01-09 | IM   |    8.2  |   8.04 |     7.88 |    7.83 | Cdo   |    8.28 |\n",
      "|  1 | 2019-01-13 |       |            | 28.66 |  1330 |     7 |   730 |            |      |    8.22 |   8.05 |     7.89 |    7.85 |       |    8.3  |\n",
      "|  2 | 4          |       |            |       |    30 |     1 |   -14 |            |      |    0.02 |   0.01 |     0.01 |    0.02 |       |    0.02 |\n",
      "+----+------------+-------+------------+-------+-------+-------+-------+------------+------+---------+--------+----------+---------+-------+---------+\n",
      "+----+------------+-------+------------+-------+-------+-------+------------+------+------+--------+-------+---------+--------+-------+---------+\n",
      "|    | date       | num   | playerid   | age   |   tsi |   con | last       |   rt | po   |   wd_p |   w_p |   wtm_p |   wo_p | b_p   |   b_p_v |\n",
      "|----+------------+-------+------------+-------+-------+-------+------------+------+------+--------+-------+---------+--------+-------+---------|\n",
      "|  0 | 2019-01-09 | 11    | 427619243  | 31.29 |   370 |   605 | 2019-01-06 |  3.5 | W    |   6.08 |  6.14 |    6.31 |   5.84 | IMd   |    6.8  |\n",
      "|  1 | 2019-01-13 |       |            | 31.33 |   380 |   604 | 2019-01-13 |  4   |      |   6.56 |  6.62 |    6.8  |   6.29 |       |    7.33 |\n",
      "|  2 | 4          |       |            |       |    10 |    -1 |            |  0.5 |      |   0.48 |  0.48 |    0.49 |   0.45 |       |    0.53 |\n",
      "+----+------------+-------+------------+-------+-------+-------+------------+------+------+--------+-------+---------+--------+-------+---------+\n",
      "+----+------------+-------+------------+-------+-------+------------+------+---------+--------+----------+---------+\n",
      "|    | date       | num   | playerid   | age   |   tsi | last       | po   | imd_p   | im_p   | imtw_p   | imo_p   |\n",
      "|----+------------+-------+------------+-------+-------+------------+------+---------+--------+----------+---------|\n",
      "|  0 | 2019-01-09 | 12    | 427619244  | 30.38 |   550 | 2019-01-09 | IM   | 7.17    | 7.23   | 7.03     | 7.26    |\n",
      "|  1 | 2019-01-13 |       |            | 30.42 |   540 |            |      |         |        |          |         |\n",
      "|  2 | 4          |       |            |       |   -10 |            |      |         |        |          |         |\n",
      "+----+------------+-------+------------+-------+-------+------------+------+---------+--------+----------+---------+\n",
      "+----+------------+-------+------------+-------+-------+-------+------------+------+--------+-------+---------+--------+\n",
      "|    | date       | num   | playerid   | age   |   tsi |   con | last       | po   | wd_p   | w_p   | wtm_p   | wo_p   |\n",
      "|----+------------+-------+------------+-------+-------+-------+------------+------+--------+-------+---------+--------|\n",
      "|  0 | 2019-01-09 | 13    | 427619245  | 26.26 |  1560 |   642 | 2019-01-09 | W    | 7.45   | 7.58  | 7.61    | 7.58   |\n",
      "|  1 | 2019-01-13 |       |            | 26.30 |  1580 |   644 |            |      |        |       |         |        |\n",
      "|  2 | 4          |       |            |       |    20 |     2 |            |      |        |       |         |        |\n",
      "+----+------------+-------+------------+-------+-------+-------+------------+------+--------+-------+---------+--------+\n",
      "+----+------------+-------+------------+-------+-------+-------+------------+------+--------+-------+---------+--------+-------+---------+\n",
      "|    | date       | num   | playerid   | age   |   tsi |   con | last       | po   | wd_p   | w_p   | wtm_p   | wo_p   | b_p   | b_p_v   |\n",
      "|----+------------+-------+------------+-------+-------+-------+------------+------+--------+-------+---------+--------+-------+---------|\n",
      "|  0 | 2019-01-09 | 15    | 427619247  | 27.79 |  2130 |   743 | 2019-01-09 | W    | 7.41   | 7.46  | 7.36    | 7.66   | Wo    | 7.66    |\n",
      "|  1 | 2019-01-13 |       |            | 27.83 |  2200 |   752 |            |      | 7.4    | 7.44  | 7.35    | 7.65   |       | 7.65    |\n",
      "|  2 | 4          |       |            |       |    70 |     9 |            |      |        |       |         |        |       |         |\n",
      "+----+------------+-------+------------+-------+-------+-------+------------+------+--------+-------+---------+--------+-------+---------+\n"
     ]
    },
    {
     "name": "stdout",
     "output_type": "stream",
     "text": [
      "+----+------------+-------+------------+-------+-------+-------+------------+------+------+--------+---------+----------+---------+-------+---------+\n",
      "|    | date       | num   | playerid   | age   |   tsi |   con | last       |   rt | po   | fw_p   | fwd_p   | fwtw_p   | tdf_p   | b_p   | b_p_v   |\n",
      "|----+------------+-------+------------+-------+-------+-------+------------+------+------+--------+---------+----------+---------+-------+---------|\n",
      "|  0 | 2019-01-09 | 16    | 427619248  | 23.73 |  1510 |   753 | 2019-01-09 |  5   | FW   | 6.65   | 5.92    | 6.92     | 0.0     | FWtw  | 6.92    |\n",
      "|  1 | 2019-01-13 |       |            | 23.77 |  1440 |   761 | 2019-01-13 |  4.5 |      | 6.08   | 5.41    | 6.33     |         |       | 6.33    |\n",
      "|  2 | 4          |       |            |       |   -70 |     8 |            | -0.5 |      |        |         |          |         |       |         |\n",
      "+----+------------+-------+------------+-------+-------+-------+------------+------+------+--------+---------+----------+---------+-------+---------+\n",
      "+----+------------+-------+------------+-------+-------+------------+------+---------+--------+----------+---------+\n",
      "|    | date       | num   | playerid   | age   |   tsi | last       | po   | imd_p   | im_p   | imtw_p   | imo_p   |\n",
      "|----+------------+-------+------------+-------+-------+------------+------+---------+--------+----------+---------|\n",
      "|  0 | 2019-01-09 | 25    | 406205227  | 31.73 |   870 | 2018-12-26 | IM   | 6.98    | 6.94   | 6.79     | 6.9     |\n",
      "|  1 | 2019-01-13 |       |            | 31.77 |   850 |            |      |         |        |          |         |\n",
      "|  2 | 4          |       |            |       |   -20 |            |      |         |        |          |         |\n",
      "+----+------------+-------+------------+-------+-------+------------+------+---------+--------+----------+---------+\n",
      "+----+------------+-------+------------+-------+------------+------+--------+---------+----------+---------+\n",
      "|    | date       | num   | playerid   | age   | last       | po   | fw_p   | fwd_p   | fwtw_p   | tdf_p   |\n",
      "|----+------------+-------+------------+-------+------------+------+--------+---------+----------+---------|\n",
      "|  0 | 2019-01-09 | 31    | 430626797  | 23.8  | 2019-01-06 | FW   | 7.56   | 6.9     | 7.57     | 0.0     |\n",
      "|  1 | 2019-01-13 |       |            | 23.12 | 2019-01-13 |      |        |         |          |         |\n",
      "|  2 | 4          |       |            |       |            |      |        |         |          |         |\n",
      "+----+------------+-------+------------+-------+------------+------+--------+---------+----------+---------+\n",
      "+----+------------+-------+------------+-------+-------+------------+------+---------+--------+----------+---------+-------+---------+\n",
      "|    | date       | num   | playerid   | age   |   tsi | last       | po   |   imd_p |   im_p |   imtw_p |   imo_p | b_p   |   b_p_v |\n",
      "|----+------------+-------+------------+-------+-------+------------+------+---------+--------+----------+---------+-------+---------|\n",
      "|  0 | 2019-01-09 | 34    | 422526443  | 32.95 |   680 | 2019-01-06 | IM   |    6.9  |   6.85 |     6.65 |    6.79 | CD    |    6.99 |\n",
      "|  1 | 2019-01-13 |       |            | 32.99 |   690 | 2019-01-13 |      |    7.14 |   7.09 |     6.88 |    7.02 |       |    7.22 |\n",
      "|  2 | 4          |       |            |       |    10 |            |      |    0.24 |   0.24 |     0.23 |    0.23 |       |    0.23 |\n",
      "+----+------------+-------+------------+-------+-------+------------+------+---------+--------+----------+---------+-------+---------+\n",
      "+----+------------+-------+------------+-------+-------+------------+------+--------+----------+---------+-------+---------+\n",
      "|    | date       | num   | playerid   | age   |   tsi | last       | po   | cd_p   | cdtw_p   | cdo_p   | b_p   | b_p_v   |\n",
      "|----+------------+-------+------------+-------+-------+------------+------+--------+----------+---------+-------+---------|\n",
      "|  0 | 2019-01-09 | 40    | 416567166  | 26.51 |  9970 | 2019-01-09 | CD   | 10.6   | 10.18    | 10.24   | CD    | 10.6    |\n",
      "|  1 | 2019-01-13 |       |            | 26.55 |  9870 |            |      | 10.26  | 9.85     | 9.9     |       | 10.26   |\n",
      "|  2 | 4          |       |            |       |  -100 |            |      |        |          |         |       |         |\n",
      "+----+------------+-------+------------+-------+-------+------------+------+--------+----------+---------+-------+---------+\n",
      "+----+------------+-------+------------+-------+------------+------+--------+---------+----------+---------+\n",
      "|    | date       | num   | playerid   | age   | last       | po   | fw_p   | fwd_p   | fwtw_p   | tdf_p   |\n",
      "|----+------------+-------+------------+-------+------------+------+--------+---------+----------+---------|\n",
      "|  0 | 2019-01-09 | 48    | 432205385  | 22.22 | 2019-01-09 | FW   | 6.46   | 0.0     | 6.54     | 6.53    |\n",
      "|  1 | 2019-01-13 |       |            | 22.26 |            |      |        |         |          |         |\n",
      "|  2 | 4          |       |            |       |            |      |        |         |          |         |\n",
      "+----+------------+-------+------------+-------+------------+------+--------+---------+----------+---------+\n",
      "+----+------------+-------+------------+--------+-------+-------+-------+------------+------+--------+----------+---------+-------+---------+\n",
      "|    | date       | num   | playerid   | age    |   tsi |   stm |   con | last       | po   |   cd_p |   cdtw_p |   cdo_p | b_p   |   b_p_v |\n",
      "|----+------------+-------+------------+--------+-------+-------+-------+------------+------+--------+----------+---------+-------+---------|\n",
      "|  0 | 2019-01-09 | 52    | 433454317  | 20.102 |  5800 |     7 |   805 | 2019-01-09 | CD   |    8   |      8   |     8   | CD    |     8   |\n",
      "|  1 | 2019-01-13 |       |            | 20.106 |  5850 |     8 |   778 |            |      |    8.7 |      8.7 |     8.7 |       |     8.7 |\n",
      "|  2 | 4          |       |            |        |    50 |     1 |   -27 |            |      |    0.7 |      0.7 |     0.7 |       |     0.7 |\n",
      "+----+------------+-------+------------+--------+-------+-------+-------+------------+------+--------+----------+---------+-------+---------+\n",
      "+----+------------+-------+------------+--------+------------+------+--------+---------+----------+---------+\n",
      "|    | date       | num   | playerid   | age    | last       | po   | fw_p   | fwd_p   | fwtw_p   | tdf_p   |\n",
      "|----+------------+-------+------------+--------+------------+------+--------+---------+----------+---------|\n",
      "|  0 | 2019-01-09 | 55    | 433728993  | 21.104 | 2019-01-09 | FW   | 7.5    | 7.01    | 7.29     | 0.0     |\n",
      "|  1 | 2019-01-13 |       |            | 21.108 |            |      |        |         |          |         |\n",
      "|  2 | 4          |       |            |        |            |      |        |         |          |         |\n",
      "+----+------------+-------+------------+--------+------------+------+--------+---------+----------+---------+\n",
      "+----+------------+-------+------------+-------+-------+-------+------------+------+---------+--------+----------+---------+-------+---------+\n",
      "|    | date       | num   | playerid   | age   |   tsi |   con | last       | po   |   wbd_p | wb_p   |   wbtm_p |   wbo_p | b_p   |   b_p_v |\n",
      "|----+------------+-------+------------+-------+-------+-------+------------+------+---------+--------+----------+---------+-------+---------|\n",
      "|  0 | 2019-01-09 | 61    | 430364099  | 21.55 |  7040 |   880 | 2019-01-09 | WB   |    8.54 | 8.32   |     8.21 |    8.08 | WBd   |    8.54 |\n",
      "|  1 | 2019-01-13 |       |            | 21.59 |  7020 |   879 |            |      |    8.55 |        |     8.22 |    8.09 |       |    8.55 |\n",
      "|  2 | 4          |       |            |       |   -20 |    -1 |            |      |    0.01 |        |     0.01 |    0.01 |       |    0.01 |\n",
      "+----+------------+-------+------------+-------+-------+-------+------------+------+---------+--------+----------+---------+-------+---------+\n",
      "+----+------------+-------+------------+-------+-------+------------+------+------+--------+-------+---------+--------+\n",
      "|    | date       | num   | playerid   | age   |   tsi | last       |   rt | po   | wd_p   | w_p   | wtm_p   | wo_p   |\n",
      "|----+------------+-------+------------+-------+-------+------------+------+------+--------+-------+---------+--------|\n",
      "|  0 | 2019-01-09 | 65    | 434942107  | 20.18 |  3210 | 2019-01-09 |  5   | W    | 6.48   | 6.36  | 6.34    | 6.3    |\n",
      "|  1 | 2019-01-13 |       |            | 20.22 |  3220 | 2019-01-13 |  4.5 |      |        |       |         |        |\n",
      "|  2 | 4          |       |            |       |    10 |            | -0.5 |      |        |       |         |        |\n",
      "+----+------------+-------+------------+-------+-------+------------+------+------+--------+-------+---------+--------+\n"
     ]
    },
    {
     "name": "stdout",
     "output_type": "stream",
     "text": [
      "+----+------------+-------+------------+--------+-------+-------+------------+------+------+--------+----------+---------+-------+---------+\n",
      "|    | date       | num   | playerid   | age    |   tsi |   con | last       |   rt | po   |   cd_p |   cdtw_p |   cdo_p | b_p   |   b_p_v |\n",
      "|----+------------+-------+------------+--------+-------+-------+------------+------+------+--------+----------+---------+-------+---------|\n",
      "|  0 | 2019-01-09 | 70    | 429263814  | 25.96  |  3130 |   907 | 2018-12-23 |    3 | CD   |   5.88 |     5.86 |    5.53 | CD    |    5.88 |\n",
      "|  1 | 2019-01-13 |       |            | 25.100 |  4250 |   936 | 2019-01-13 |    4 |      |   6.84 |     6.82 |    6.44 |       |    6.84 |\n",
      "|  2 | 4          |       |            |        |  1120 |    29 |            |    1 |      |   0.96 |     0.96 |    0.91 |       |    0.96 |\n",
      "+----+------------+-------+------------+--------+-------+-------+------------+------+------+--------+----------+---------+-------+---------+\n",
      "+----+------------+-------+------------+-------+-------+-------+------------+------+---------+--------+----------+---------+\n",
      "|    | date       | num   | playerid   | age   |   tsi |   con | last       | po   | wbd_p   | wb_p   | wbtm_p   | wbo_p   |\n",
      "|----+------------+-------+------------+-------+-------+-------+------------+------+---------+--------+----------+---------|\n",
      "|  0 | 2019-01-09 | 78    | 433730490  | 22.13 |  4780 |   954 | 2019-01-09 | WB   | 8.06    | 7.54   | 7.49     | 7.01    |\n",
      "|  1 | 2019-01-13 |       |            | 22.17 |  4960 |   961 |            |      |         |        |          |         |\n",
      "|  2 | 4          |       |            |       |   180 |     7 |            |      |         |        |          |         |\n",
      "+----+------------+-------+------------+-------+-------+-------+------------+------+---------+--------+----------+---------+\n",
      "+----+------------+-------+------------+-------+-------+-------+------------+------+---------+--------+----------+---------+\n",
      "|    | date       | num   | playerid   | age   |   tsi |   con | last       | po   | imd_p   | im_p   | imtw_p   | imo_p   |\n",
      "|----+------------+-------+------------+-------+-------+-------+------------+------+---------+--------+----------+---------|\n",
      "|  0 | 2019-01-09 | 79    | 415605434  | 26.69 | 25160 |  1097 | 2019-01-06 | IM   | 10.31   | 10.29  | 9.91     | 10.23   |\n",
      "|  1 | 2019-01-13 |       |            | 26.73 | 24940 |  1096 | 2019-01-13 |      |         |        |          |         |\n",
      "|  2 | 4          |       |            |       |  -220 |    -1 |            |      |         |        |          |         |\n",
      "+----+------------+-------+------------+-------+-------+-------+------------+------+---------+--------+----------+---------+\n",
      "+----+------------+-------+------------+-------+-------+-------+------------+------+------+---------+--------+----------+---------+\n",
      "|    | date       | num   | playerid   | age   |   tsi |   con | last       |   rt | po   | wbd_p   | wb_p   | wbtm_p   | wbo_p   |\n",
      "|----+------------+-------+------------+-------+-------+-------+------------+------+------+---------+--------+----------+---------|\n",
      "|  0 | 2019-01-09 | 80    | 427020395  | 28.15 | 14250 |   960 | 2019-01-06 |  5   | WB   | 9.58    | 9.36   | 9.25     | 9.12    |\n",
      "|  1 | 2019-01-13 |       |            | 28.19 | 14210 |   959 | 2019-01-13 |  5.5 |      |         |        |          |         |\n",
      "|  2 | 4          |       |            |       |   -40 |    -1 |            |  0.5 |      |         |        |          |         |\n",
      "+----+------------+-------+------------+-------+-------+-------+------------+------+------+---------+--------+----------+---------+\n",
      "+----+------------+-------+------------+-------+-------+-------+------------+------+------+---------+--------+----------+---------+-------+---------+\n",
      "|    | date       | num   | playerid   | age   |   tsi |   con | last       |   rt | po   | wbd_p   | wb_p   | wbtm_p   | wbo_p   | b_p   | b_p_v   |\n",
      "|----+------------+-------+------------+-------+-------+-------+------------+------+------+---------+--------+----------+---------+-------+---------|\n",
      "|  0 | 2019-01-09 | 81    | 433566477  | 22.7  |  8490 |   950 | 2019-01-06 |  5   | WB   | 8.56    | 8.27   | 8.33     | 7.98    | WBd   | 8.56    |\n",
      "|  1 | 2019-01-13 |       |            | 22.11 |  8000 |   947 | 2019-01-13 |  4.5 |      | 7.94    | 7.67   | 7.72     | 7.4     |       | 7.94    |\n",
      "|  2 | 4          |       |            |       |  -490 |    -3 |            | -0.5 |      |         |        |          |         |       |         |\n",
      "+----+------------+-------+------------+-------+-------+-------+------------+------+------+---------+--------+----------+---------+-------+---------+\n",
      "+----+------------+-------+------------+-------+------------+------+--------+----------+---------+\n",
      "|    | date       | num   | playerid   | age   | last       | po   | cd_p   | cdtw_p   | cdo_p   |\n",
      "|----+------------+-------+------------+-------+------------+------+--------+----------+---------|\n",
      "|  0 | 2019-01-09 | 83    | 434869614  | 21.4  | 2019-01-06 | CD   | 6.85   | 6.89     | 6.35    |\n",
      "|  1 | 2019-01-13 |       |            | 21.8  | 2019-01-13 |      |        |          |         |\n",
      "|  2 | 4          |       |            |       |            |      |        |          |         |\n",
      "+----+------------+-------+------------+-------+------------+------+--------+----------+---------+\n",
      "+----+------------+-------+------------+-------+-------+------+-------+------------+------+--------+-------+---------+\n",
      "|    | date       | num   | playerid   | age   |   tsi |   df |   con | last       | po   |   kp_p | b_p   |   b_p_v |\n",
      "|----+------------+-------+------------+-------+-------+------+-------+------------+------+--------+-------+---------|\n",
      "|  0 | 2019-01-09 | 84    | 440669717  | 17.11 |  1220 |    5 |   566 | 2019-01-09 | KP   |   4.52 | KP    |    4.52 |\n",
      "|  1 | 2019-01-13 |       |            | 17.15 |  1740 |    6 |   617 |            |      |   5.49 |       |    5.49 |\n",
      "|  2 | 4          |       |            |       |   520 |    1 |    51 |            |      |   0.97 |       |    0.97 |\n",
      "+----+------------+-------+------------+-------+-------+------+-------+------------+------+--------+-------+---------+\n"
     ]
    }
   ],
   "source": [
    "last_2dates = ht_player_pg.select_last_2dates(conn, 'player_tmp')\n",
    "nums = ht_player_pg.select_num(conn, 'player_tmp', last_2dates)\n",
    "ht_player_pg.diff_player_last_2states(conn, \"player_tmp\", nums, last_2dates)"
   ]
  },
  {
   "cell_type": "code",
   "execution_count": 31,
   "metadata": {
    "scrolled": true
   },
   "outputs": [
    {
     "data": {
      "text/plain": [
       "<connection object at 0x7fb16717ee88; dsn: 'user=myuser password=xxx dbname=mydatabase host=localhost port=65432', closed: 1>"
      ]
     },
     "execution_count": 31,
     "metadata": {},
     "output_type": "execute_result"
    }
   ],
   "source": [
    "conn.close()\n",
    "conn"
   ]
  },
  {
   "cell_type": "code",
   "execution_count": 32,
   "metadata": {},
   "outputs": [],
   "source": [
    "conn = None\n",
    "conn"
   ]
  },
  {
   "cell_type": "code",
   "execution_count": null,
   "metadata": {},
   "outputs": [],
   "source": []
  }
 ],
 "metadata": {
  "celltoolbar": "Raw Cell Format",
  "kernelspec": {
   "display_name": "Python 3",
   "language": "python",
   "name": "python3"
  },
  "language_info": {
   "codemirror_mode": {
    "name": "ipython",
    "version": 3
   },
   "file_extension": ".py",
   "mimetype": "text/x-python",
   "name": "python",
   "nbconvert_exporter": "python",
   "pygments_lexer": "ipython3",
   "version": "3.6.7"
  }
 },
 "nbformat": 4,
 "nbformat_minor": 2
}
