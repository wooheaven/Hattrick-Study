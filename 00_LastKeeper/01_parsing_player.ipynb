{
 "cells": [
  {
   "cell_type": "code",
   "execution_count": 1,
   "metadata": {},
   "outputs": [],
   "source": [
    "import sys\n",
    "import pandas\n",
    "\n",
    "sys.path.insert(0, '../03_Remake_with_TDD/algorithms')\n",
    "from ht_time import *"
   ]
  },
  {
   "cell_type": "code",
   "execution_count": 2,
   "metadata": {},
   "outputs": [],
   "source": [
    "sys.path.insert(0, '../03_Remake_with_TDD/player')\n",
    "from parse_tmp import Parse"
   ]
  },
  {
   "cell_type": "code",
   "execution_count": 3,
   "metadata": {},
   "outputs": [
    {
     "name": "stderr",
     "output_type": "stream",
     "text": [
      "/home/rwoo/02_WorkSpace/04_Hattrick/Hattrick-Study/99_Utility/ht-venv/lib/python3.6/site-packages/psycopg2/__init__.py:144: UserWarning: The psycopg2 wheel package will be renamed from release 2.8; in order to keep installing from binary please use \"pip install psycopg2-binary\" instead. For details see: <http://initd.org/psycopg/docs/install.html#binary-install-from-pypi>.\n",
      "  \"\"\")\n"
     ]
    }
   ],
   "source": [
    "sys.path.insert(0, '../03_Remake_with_TDD/postgresql')\n",
    "from ht_player_postgresql import *"
   ]
  },
  {
   "cell_type": "code",
   "execution_count": 4,
   "metadata": {},
   "outputs": [
    {
     "name": "stdout",
     "output_type": "stream",
     "text": [
      "folder = 2019/05/12\n"
     ]
    }
   ],
   "source": [
    "HattrickTime = HattrickTime()\n",
    "folder = HattrickTime.findLastSunOrWed()\n",
    "# folder = ht_time.findLastSunOrWed('2018/04/04')\n",
    "# folder = '2019/04/14'\n",
    "print(\"folder =\", folder)"
   ]
  },
  {
   "cell_type": "code",
   "execution_count": 5,
   "metadata": {},
   "outputs": [
    {
     "data": {
      "text/plain": [
       "'2019/05/12'"
      ]
     },
     "execution_count": 5,
     "metadata": {},
     "output_type": "execute_result"
    }
   ],
   "source": [
    "from datetime import date\n",
    "\n",
    "nowDate = date.today().strftime('%Y/%m/%d')\n",
    "nowDate"
   ]
  },
  {
   "cell_type": "code",
   "execution_count": 6,
   "metadata": {},
   "outputs": [],
   "source": [
    "import sys\n",
    "\n",
    "# sys.path.insert(0, '../97_Parse/')\n",
    "# from parseSkillTable import *\n",
    "\n",
    "sys.path.insert(0, '../98_Crawler/01_DualMonitor/')\n",
    "from DualMonitor import getIsDualMonitor\n",
    "\n",
    "sys.path.insert(0, '../98_Crawler/02_WebBrowser/')\n",
    "from FirefoxTab import clickTabOfFireFox\n",
    "\n",
    "sys.path.insert(0, '../98_Crawler/03_OnScreen/')\n",
    "from Empty import clickEmpty\n",
    "from MoveScroll import moveScroll\n",
    "from MoveFindMoveClick import moveByImage\n",
    "\n",
    "sys.path.insert(0, '../98_Crawler/04_Login/')\n",
    "from HattrickLogInOut import clickHattrickLogin2, clickHattrickLogout"
   ]
  },
  {
   "cell_type": "code",
   "execution_count": 7,
   "metadata": {},
   "outputs": [
    {
     "name": "stdout",
     "output_type": "stream",
     "text": [
      "use 1 monitor = 1920 x 1080 isDualMonitor= False\n"
     ]
    },
    {
     "data": {
      "text/plain": [
       "False"
      ]
     },
     "execution_count": 7,
     "metadata": {},
     "output_type": "execute_result"
    }
   ],
   "source": [
    "isDualMonitor = getIsDualMonitor()\n",
    "isDualMonitor"
   ]
  },
  {
   "cell_type": "code",
   "execution_count": null,
   "metadata": {
    "scrolled": true
   },
   "outputs": [],
   "source": [
    "# Hattrick LastKeeper Tab\n",
    "clickTabOfFireFox(4, isDualMonitor)\n",
    "\n",
    "# Hattrick Login\n",
    "clickEmpty(305, isDualMonitor)\n",
    "moveScroll(20)\n",
    "clickHattrickLogin2(496, 576, isDualMonitor)"
   ]
  },
  {
   "cell_type": "code",
   "execution_count": 8,
   "metadata": {},
   "outputs": [
    {
     "name": "stdout",
     "output_type": "stream",
     "text": [
      "screen-MyClub.png location on Screen (517, 336, 79, 44)\n",
      "screen-Player.png location on Screen (392, 645, 63, 67)\n",
      "screen-SkillTable.png location on Screen (567, 555, 94, 25)\n",
      "screen-Since.png location on Screen (573, 722, 133, 27)\n",
      "screen-Copy.png location on Screen (1085, 582, 43, 30)\n"
     ]
    }
   ],
   "source": [
    "# Hattrick LastKeeper Tab\n",
    "clickTabOfFireFox(4, isDualMonitor)\n",
    "\n",
    "# Hattrick Login by Facebook\n",
    "clickEmpty(305, isDualMonitor)\n",
    "moveScroll(20)\n",
    "clickHattrickLogin2(496, 576, isDualMonitor)\n",
    "\n",
    "# Hattrick MyClub\n",
    "moveScroll(20)\n",
    "moveByImage(517, 336, 79, 44, isDualMonitor, 'screen-MyClub.png')\n",
    "\n",
    "# Hattrick Player\n",
    "clickEmpty(645, isDualMonitor)\n",
    "moveScroll(20)\n",
    "moveByImage(392, 645, 63, 67, isDualMonitor, 'screen-Player.png')\n",
    "\n",
    "# Hattrick SkillTable\n",
    "clickEmpty(593, isDualMonitor)\n",
    "moveScroll(20)\n",
    "moveByImage(567, 555, 94, 25, isDualMonitor, 'screen-SkillTable.png')\n",
    "\n",
    "# Hattrick Since\n",
    "moveScroll(-7)\n",
    "moveByImage(573, 722, 133, 27, isDualMonitor, 'screen-Since.png')\n",
    "\n",
    "# Hattrick Copy\n",
    "moveScroll(10)\n",
    "moveByImage(1085, 582, 43, 30, isDualMonitor, 'screen-Copy.png')\n",
    "\n",
    "# Hattrick Logout\n",
    "moveScroll(20)\n",
    "clickHattrickLogout(1270, 370, isDualMonitor)\n",
    "\n",
    "# Jupyter Notebook Tab\n",
    "clickTabOfFireFox(6, isDualMonitor)"
   ]
  },
  {
   "cell_type": "code",
   "execution_count": 9,
   "metadata": {},
   "outputs": [
    {
     "name": "stdout",
     "output_type": "stream",
     "text": [
      "[table]\n",
      "[tr][th]#[/th][th]Nat[/th][th]Player[/th][th]Sp[/th][th]Stat[/th][th]Age[/th][th]Since[/th][th]TSI[/th][th]LS[/th][th]XP[/th][th]Fo[/th][th]Stm[/th][th]Lo[/th][th]MB[/th][th]KP[/th][th]DF[/th][th]PM[/th][th]WI[/th][th]PS[/th][th]SC[/th][th]SP[/th][th]Psico[/th][th]Last[/th][th]Rt[/th][th]Pos[/th][th]Wage[/th][th]G[/th][th]KP[/th][th]WBd[/th][th]WB[/th][th]WBtm[/th][th]WBo[/th][th]CD[/th][th]CDtw[/th][th]Cdo[/th][th]Wd[/th][th]W[/th][th]Wtm[/th][th]Wo[/th][th]IMd[/th][th]IM[/th][th]IMtw[/th][th]IMo[/th][th]FW[/th][th]FWd[/th][th]FWtw[/th][th]TDF[/th][th]BPo[/th][th]BPoV[/th][/tr]\n",
      "[tr][td]2[/td][td]Hanguk[/td][td]Jee-Hoon Kim [playerid=428709461][/td][td][/td][td][/td][td]24.97[/td][td]6 s   1 wk   0 d[/td][td]98670[/td][td]3[/td][td]3[/td][td]7[/td][td]8[/td][td]20[/td][td]✔[/td][td]17[/td][td]5[/td][td]1[/td][td]1[/td][td]1[/td][td]2[/td][td]10[/td][td]1751[/td][td]2019-05-08[/td][td]8.5[/td][td]KP[/td][td]28890000[/td][td]0[/td][td]14.99[/td][td]5.6[/td][td]5.21[/td][td]5.28[/td][td]4.82[/td][td]5.38[/td][td]5.57[/td][td]4.66[/td][td]4.27[/td][td]3.69[/td][td]3.63[/td][td]3.55[/td][td]3.71[/td][td]3.48[/td][td]3.46[/td][td]3.25[/td][td]3.4[/td][td]3.21[/td][td]3.39[/td][td]0[/td][td]KP[/td][td]14.99[/td][/tr]\n",
      "[tr][td]4[/td][td]Hanguk[/td][td]Ji-Woon Lee [playerid=427619236][/td][td][/td][td][/td][td]25.26[/td][td]6 s   9 wk   0 d[/td][td]1060[/td][td]5[/td][td]4[/td][td]5[/td][td]7[/td][td]20[/td][td]✔[/td][td]1[/td][td]7[/td][td]4[/td][td]3[/td][td]5[/td][td]2[/td][td]9[/td][td]728[/td][td]2019-05-12[/td][td]4[/td][td]CD[/td][td]390000[/td][td]26[/td][td]4.05[/td][td]6.59[/td][td]6.31[/td][td]6.42[/td][td]6.04[/td][td]6.57[/td][td]6.62[/td][td]6.12[/td][td]5.78[/td][td]5.41[/td][td]5.39[/td][td]5.28[/td][td]5.52[/td][td]5.37[/td][td]5.36[/td][td]5.22[/td][td]4.44[/td][td]4.91[/td][td]4.34[/td][td]0[/td][td]CDtw[/td][td]6.62[/td][/tr]\n",
      "[tr][td]8[/td][td]Hanguk[/td][td]Hong-Chan Son [playerid=427619240][/td][td][/td][td]Y×1[/td][td]27.67[/td][td]6 s   9 wk   0 d[/td][td]1130[/td][td]5[/td][td]4[/td][td]7[/td][td]7[/td][td]20[/td][td]✔[/td][td]1[/td][td]5[/td][td]6[/td][td]5[/td][td]5[/td][td]1[/td][td]10[/td][td]626[/td][td]2019-05-12[/td][td]4[/td][td]W[/td][td]310000[/td][td]15[/td][td]4.18[/td][td]7[/td][td]7.06[/td][td]7.12[/td][td]7.13[/td][td]7.2[/td][td]7.07[/td][td]7.37[/td][td]7.22[/td][td]7.33[/td][td]7.4[/td][td]7.24[/td][td]7.45[/td][td]7.4[/td][td]7.49[/td][td]7.33[/td][td]5.58[/td][td]6.42[/td][td]5.52[/td][td]0[/td][td]IMtw[/td][td]7.49[/td][/tr]\n",
      "[tr][td]10[/td][td]Hanguk[/td][td]Kwang-Eul Jeon [playerid=427619242][/td][td][/td][td]Y×1[/td][td]29.73[/td][td]6 s   9 wk   0 d[/td][td]1180[/td][td]4[/td][td]6[/td][td]8[/td][td]6[/td][td]20[/td][td]✔[/td][td]1[/td][td]6[/td][td]7[/td][td]3[/td][td]3[/td][td]2[/td][td]11[/td][td]726[/td][td]2019-05-12[/td][td]5[/td][td]IM[/td][td]410000[/td][td]28[/td][td]4.75[/td][td]7.85[/td][td]7.81[/td][td]8.11[/td][td]7.79[/td][td]8.5[/td][td]8.12[/td][td]8.68[/td][td]7.75[/td][td]7.77[/td][td]8.01[/td][td]7.31[/td][td]8.6[/td][td]8.43[/td][td]8.26[/td][td]8.22[/td][td]6.03[/td][td]6.66[/td][td]5.67[/td][td]0[/td][td]Cdo[/td][td]8.68[/td][/tr]\n",
      "[tr][td]11[/td][td]Hanguk[/td][td]Kwang-Hwan Yun [playerid=427619243][/td][td][/td][td][/td][td]32.40[/td][td]6 s   9 wk   0 d[/td][td]230[/td][td]6[/td][td]6[/td][td]7[/td][td]6[/td][td]20[/td][td]✔[/td][td]2[/td][td]5[/td][td]6[/td][td]2[/td][td]5[/td][td]2[/td][td]10[/td][td]591[/td][td]2019-05-12[/td][td]4[/td][td]W[/td][td]300000[/td][td]24[/td][td]4.83[/td][td]6.46[/td][td]6.42[/td][td]6.7[/td][td]6.41[/td][td]7.07[/td][td]6.71[/td][td]7.24[/td][td]6.57[/td][td]6.63[/td][td]6.81[/td][td]6.31[/td][td]7.33[/td][td]7.3[/td][td]7.09[/td][td]7.25[/td][td]5.56[/td][td]6.35[/td][td]5.18[/td][td]0[/td][td]IMd[/td][td]7.33[/td][/tr]\n",
      "[tr][td]12[/td][td]Hanguk[/td][td]Chan-Myung Lee [playerid=427619244][/td][td][/td][td]Y×1[/td][td]31.49[/td][td]6 s   9 wk   0 d[/td][td]390[/td][td]3[/td][td]5[/td][td]6[/td][td]6[/td][td]20[/td][td]✔[/td][td]1[/td][td]3[/td][td]7[/td][td]3[/td][td]4[/td][td]3[/td][td]10[/td][td]695[/td][td]2019-05-08[/td][td]4[/td][td]IM[/td][td]360000[/td][td]11[/td][td]3.4[/td][td]5.16[/td][td]5.38[/td][td]5.6[/td][td]5.63[/td][td]5.89[/td][td]5.42[/td][td]6.53[/td][td]6.02[/td][td]6.44[/td][td]6.68[/td][td]6.16[/td][td]7.16[/td][td]7.22[/td][td]7.03[/td][td]7.26[/td][td]5.76[/td][td]6.27[/td][td]5.42[/td][td]0[/td][td]IMo[/td][td]7.26[/td][/tr]\n",
      "[tr][td]13[/td][td]Hanguk[/td][td]Sung-Kook Han [playerid=427619245][/td][td]공 마술사\n",
      "Click to toggle more information[/td][td]Inj 1[/td][td]27.37[/td][td]6 s   9 wk   0 d[/td][td]1270[/td][td]2[/td][td]5[/td][td]8[/td][td]7[/td][td]20[/td][td]✔[/td][td]1[/td][td]5[/td][td]6[/td][td]6[/td][td]5[/td][td]2[/td][td]10[/td][td]612[/td][td]2019-05-01[/td][td]4.5[/td][td]W[/td][td]330000[/td][td]31[/td][td]4.46[/td][td]7.53[/td][td]7.63[/td][td]7.61[/td][td]7.73[/td][td]7.58[/td][td]7.54[/td][td]7.77[/td][td]7.79[/td][td]7.92[/td][td]7.96[/td][td]7.92[/td][td]7.87[/td][td]7.83[/td][td]7.98[/td][td]7.78[/td][td]6.42[/td][td]0[/td][td]6.47[/td][td]7.06[/td][td]IMtw[/td][td]7.98[/td][/tr]\n",
      "[tr][td]15[/td][td]Hanguk[/td][td]Man-Ok Lee [playerid=427619247][/td][td]예측할 수 없음\n",
      "Click to toggle more information[/td][td]Y×1[/td][td]28.90[/td][td]6 s   9 wk   0 d[/td][td]1640[/td][td]5[/td][td]5[/td][td]5[/td][td]7[/td][td]20[/td][td]✔[/td][td]1[/td][td]5[/td][td]5[/td][td]7[/td][td]6[/td][td]2[/td][td]10[/td][td]729[/td][td]2019-05-08[/td][td]5[/td][td]W[/td][td]350000[/td][td]22[/td][td]3.61[/td][td]6.1[/td][td]6.15[/td][td]6.02[/td][td]6.2[/td][td]5.85[/td][td]5.99[/td][td]5.85[/td][td]6.22[/td][td]6.25[/td][td]6.18[/td][td]6.43[/td][td]5.84[/td][td]5.84[/td][td]6.07[/td][td]5.84[/td][td]5.2[/td][td]5.68[/td][td]5.4[/td][td]0[/td][td]Wo[/td][td]6.43[/td][/tr]\n",
      "[tr][td]16[/td][td]Hanguk[/td][td]Dong-Shik Kim [playerid=427619248][/td][td][/td][td][/td][td]24.84[/td][td]6 s   9 wk   0 d[/td][td]1600[/td][td]6[/td][td]4[/td][td]6[/td][td]8[/td][td]20[/td][td]✔[/td][td]1[/td][td]3[/td][td]3[/td][td]6[/td][td]4[/td][td]7[/td][td]12[/td][td]763[/td][td]2019-05-08[/td][td]5.5[/td][td]FW[/td][td]410000[/td][td]71[/td][td]3.44[/td][td]5.12[/td][td]5.22[/td][td]5[/td][td]5.3[/td][td]4.7[/td][td]4.94[/td][td]4.7[/td][td]5.29[/td][td]5.35[/td][td]5.22[/td][td]5.62[/td][td]4.84[/td][td]4.93[/td][td]5.04[/td][td]5.03[/td][td]6.64[/td][td]5.92[/td][td]6.92[/td][td]0[/td][td]FWtw[/td][td]6.92[/td][/tr]\n",
      "[tr][td]25[/td][td]Polska[/td][td]Pylyp Nagorniak [playerid=406205227][/td][td][/td][td]Bru[/td][td]32.84[/td][td]6 s   4 wk   0 d[/td][td]460[/td][td]5[/td][td]4[/td][td]6[/td][td]6[/td][td]20[/td][td][/td][td]1[/td][td]6[/td][td]6[/td][td]3[/td][td]6[/td][td]3[/td][td]11[/td][td]590[/td][td]2019-05-12[/td][td]4[/td][td]IM[/td][td]372000[/td][td]14[/td][td]3.33[/td][td]5.74[/td][td]5.66[/td][td]5.86[/td][td]5.59[/td][td]6.11[/td][td]5.9[/td][td]6.11[/td][td]5.65[/td][td]5.62[/td][td]5.71[/td][td]5.4[/td][td]6.06[/td][td]6.02[/td][td]5.89[/td][td]5.98[/td][td]4.85[/td][td]5.45[/td][td]4.59[/td][td]0[/td][td]CD[/td][td]6.11[/td][/tr]\n",
      "[tr][td]31[/td][td]Hanguk[/td][td]Se-Hee Park [playerid=430626797][/td][td][/td][td][/td][td]24.19[/td][td]5 s   8 wk   0 d[/td][td]1300[/td][td]4[/td][td]3[/td][td]7[/td][td]8[/td][td]20[/td][td]✔[/td][td]1[/td][td]2[/td][td]5[/td][td]5[/td][td]3[/td][td]7[/td][td]9[/td][td]704[/td][td]2019-05-12[/td][td]5[/td][td]FW[/td][td]390000[/td][td]46[/td][td]3.28[/td][td]4.88[/td][td]5.17[/td][td]5.12[/td][td]5.46[/td][td]5.04[/td][td]4.91[/td][td]5.58[/td][td]5.73[/td][td]6.13[/td][td]6.22[/td][td]6.17[/td][td]6.25[/td][td]6.38[/td][td]6.31[/td][td]6.51[/td][td]7.31[/td][td]6.67[/td][td]7.32[/td][td]0[/td][td]FWtw[/td][td]7.32[/td][/tr]\n",
      "[tr][td]34[/td][td]Sverige[/td][td]Axel Hermansson [playerid=422526443][/td][td][/td][td]Y×1[/td][td]33.106[/td][td]5 s   5 wk   6 d[/td][td]320[/td][td]5[/td][td]6[/td][td]7[/td][td]6[/td][td]20[/td][td][/td][td]2[/td][td]6[/td][td]6[/td][td]1[/td][td]5[/td][td]1[/td][td]9[/td][td]597[/td][td]2019-05-12[/td][td]4.5[/td][td]IM[/td][td]384000[/td][td]24[/td][td]4.56[/td][td]6.37[/td][td]6.22[/td][td]6.58[/td][td]6.09[/td][td]7.06[/td][td]6.67[/td][td]7.06[/td][td]6.14[/td][td]6.06[/td][td]6.25[/td][td]5.62[/td][td]6.91[/td][td]6.81[/td][td]6.56[/td][td]6.69[/td][td]4.56[/td][td]5.55[/td][td]4.08[/td][td]0[/td][td]CD[/td][td]7.06[/td][/tr]\n",
      "[tr][td]40[/td][td]Perú[/td][td]Matías Pichis [playerid=416567166][/td][td][/td][td][/td][td]27.62[/td][td]5 s   1 wk   6 d[/td][td]9620[/td][td]6[/td][td]3[/td][td]7[/td][td]7[/td][td]20[/td][td][/td][td]1[/td][td]10[/td][td]8[/td][td]2[/td][td]4[/td][td]4[/td][td]9[/td][td]1002[/td][td]2019-05-12[/td][td]6[/td][td]CD[/td][td]1764000[/td][td]7[/td][td]4.92[/td][td]9.44[/td][td]9.05[/td][td]9.55[/td][td]8.69[/td][td]10.21[/td][td]9.8[/td][td]9.86[/td][td]8.29[/td][td]7.86[/td][td]8.12[/td][td]7.12[/td][td]9.09[/td][td]8.76[/td][td]8.39[/td][td]8.38[/td][td]6.19[/td][td]6.73[/td][td]5.59[/td][td]0[/td][td]CD[/td][td]10.21[/td][/tr]\n",
      "[tr][td]48[/td][td]Hanguk[/td][td]Dong-Suk Lee [playerid=432205385][/td][td]공 마술사\n",
      "Click to toggle more information[/td][td][/td][td]23.33[/td][td]4 s   11 wk   6 d[/td][td]1300[/td][td]6[/td][td]2[/td][td]7[/td][td]8[/td][td]20[/td][td]✔[/td][td]1[/td][td]5[/td][td]4[/td][td]5[/td][td]6[/td][td]5[/td][td]6[/td][td]613[/td][td]2019-05-12[/td][td]4.5[/td][td]FW[/td][td]290000[/td][td]23[/td][td]3.88[/td][td]6.45[/td][td]6.38[/td][td]6.32[/td][td]6.31[/td][td]6.24[/td][td]6.37[/td][td]6.06[/td][td]6.29[/td][td]6.2[/td][td]6.11[/td][td]6.32[/td][td]5.95[/td][td]5.98[/td][td]6.03[/td][td]6.03[/td][td]6.47[/td][td]0[/td][td]6.55[/td][td]6.54[/td][td]FWtw[/td][td]6.55[/td][/tr]\n",
      "[tr][td]52[/td][td]Hanguk[/td][td]Seong-Gong Choi [playerid=433454317][/td][td]예측할 수 없음\n",
      "Click to toggle more information[/td][td]Y×1[/td][td]22.1[/td][td]4 s   8 wk   1 d[/td][td]5340[/td][td]4[/td][td]3[/td][td]5[/td][td]8[/td][td]20[/td][td]✔[/td][td]1[/td][td]7[/td][td]7[/td][td]7[/td][td]4[/td][td]5[/td][td]7[/td][td]774[/td][td]2019-05-08[/td][td]5[/td][td]CD[/td][td]550000[/td][td]25[/td][td]3.95[/td][td]7.41[/td][td]7.41[/td][td]7.41[/td][td]7.41[/td][td]7.41[/td][td]7.41[/td][td]7.41[/td][td]7.23[/td][td]7.19[/td][td]7.23[/td][td]7.1[/td][td]7.24[/td][td]7.12[/td][td]7.19[/td][td]6.96[/td][td]6.35[/td][td]6.33[/td][td]6.4[/td][td]0[/td][td]CD[/td][td]7.41[/td][/tr]\n",
      "[tr][td]55[/td][td]Hanguk[/td][td]Geun-Ho Han [playerid=433728993][/td][td][/td][td][/td][td]23.3[/td][td]4 s   5 wk   1 d[/td][td]2340[/td][td]3[/td][td]2[/td][td]7[/td][td]8[/td][td]20[/td][td]✔[/td][td]1[/td][td]5[/td][td]6[/td][td]4[/td][td]3[/td][td]7[/td][td]6[/td][td]705[/td][td]2019-05-08[/td][td]5.5[/td][td]FW[/td][td]410000[/td][td]26[/td][td]3.88[/td][td]6.61[/td][td]6.64[/td][td]6.78[/td][td]6.68[/td][td]6.97[/td][td]6.75[/td][td]7.15[/td][td]6.66[/td][td]6.72[/td][td]6.87[/td][td]6.47[/td][td]7.25[/td][td]7.2[/td][td]7[/td][td]7.14[/td][td]7.25[/td][td]6.78[/td][td]7.05[/td][td]0[/td][td]IMd[/td][td]7.25[/td][/tr]\n",
      "[tr][td]61[/td][td]Oceania[/td][td]Cedrick Williamson [playerid=430364099][/td][td]힘 있음\n",
      "Click to toggle more information[/td][td][/td][td]22.66[/td][td]3 s   15 wk   6 d[/td][td]7070[/td][td]3[/td][td]3[/td][td]8[/td][td]8[/td][td]20[/td][td][/td][td]1[/td][td]8[/td][td]5[/td][td]7[/td][td]7[/td][td]2[/td][td]7[/td][td]879[/td][td]2019-05-12[/td][td]4.5[/td][td]WB[/td][td]708000[/td][td]6[/td][td]4.61[/td][td]8.89[/td][td]8.66[/td][td]8.55[/td][td]8.42[/td][td]8.41[/td][td]8.73[/td][td]7.85[/td][td]8.08[/td][td]7.7[/td][td]7.53[/td][td]7.84[/td][td]7.14[/td][td]6.99[/td][td]7.29[/td][td]6.84[/td][td]5.9[/td][td]6.64[/td][td]6.14[/td][td]0[/td][td]WBd[/td][td]8.89[/td][/tr]\n",
      "[tr][td]65[/td][td]Hanguk[/td][td]Sang-Hyun Yun [playerid=434942107][/td][td][/td][td]Y×1[/td][td]21.29[/td][td]3 s   11 wk   1 d[/td][td]3030[/td][td]3[/td][td]1[/td][td]6[/td][td]8[/td][td]20[/td][td]✔[/td][td]1[/td][td]6[/td][td]5[/td][td]4[/td][td]7[/td][td]4[/td][td]5[/td][td]773[/td][td]2019-05-12[/td][td]4[/td][td]W[/td][td]390000[/td][td]12[/td][td]3.46[/td][td]6.16[/td][td]6.04[/td][td]6.13[/td][td]5.93[/td][td]6.25[/td][td]6.21[/td][td]6.08[/td][td]5.95[/td][td]5.84[/td][td]5.83[/td][td]5.79[/td][td]5.94[/td][td]5.94[/td][td]5.88[/td][td]5.96[/td][td]5.52[/td][td]5.98[/td][td]5.39[/td][td]0[/td][td]CD[/td][td]6.25[/td][/tr]\n",
      "[tr][td]70[/td][td]Hanguk[/td][td]Min-Gyu Jung [playerid=429263814][/td][td][/td][td][/td][td]26.107[/td][td]3 s   6 wk   5 d[/td][td]5200[/td][td]1[/td][td]4[/td][td]6[/td][td]7[/td][td]20[/td][td][/td][td]1[/td][td]9[/td][td]6[/td][td]4[/td][td]4[/td][td]2[/td][td]7[/td][td]944[/td][td]2019-05-08[/td][td]5[/td][td]CD[/td][td]1050000[/td][td]5[/td][td]4.49[/td][td]8.35[/td][td]8.02[/td][td]8.22[/td][td]7.7[/td][td]8.48[/td][td]8.45[/td][td]7.98[/td][td]7.24[/td][td]6.79[/td][td]6.84[/td][td]6.46[/td][td]7.14[/td][td]6.84[/td][td]6.83[/td][td]6.52[/td][td]4.89[/td][td]5.44[/td][td]4.73[/td][td]0[/td][td]CD[/td][td]8.48[/td][/tr]\n",
      "[tr][td]78[/td][td]Hanguk[/td][td]Jung-Oh Han [playerid=433730490][/td][td]공 마술사\n",
      "Click to toggle more information[/td][td][/td][td]23.24[/td][td]2 s   4 wk   5 d[/td][td]4330[/td][td]4[/td][td]2[/td][td]6[/td][td]8[/td][td]17[/td][td][/td][td]1[/td][td]9[/td][td]3[/td][td]5[/td][td]1[/td][td]3[/td][td]6[/td][td]952[/td][td]2019-05-08[/td][td]4.5[/td][td]WB[/td][td]1270000[/td][td]6[/td][td]4.04[/td][td]7.65[/td][td]7.17[/td][td]7.12[/td][td]6.68[/td][td]7.06[/td][td]7.48[/td][td]6.06[/td][td]5.73[/td][td]4.93[/td][td]4.8[/td][td]4.82[/td][td]4.62[/td][td]4.2[/td][td]4.41[/td][td]3.77[/td][td]3.69[/td][td]0[/td][td]3.93[/td][td]3.28[/td][td]WBd[/td][td]7.65[/td][/tr]\n",
      "[tr][td]79[/td][td]España[/td][td]Jimeno Eguiruren [playerid=415605434][/td][td][/td][td][/td][td]27.80[/td][td]2 s   2 wk   1 d[/td][td]26710[/td][td]5[/td][td]6[/td][td]7[/td][td]7[/td][td]17[/td][td][/td][td]1[/td][td]8[/td][td]11[/td][td]3[/td][td]9[/td][td]2[/td][td]6[/td][td]1098[/td][td]2019-05-08[/td][td]7[/td][td]IM[/td][td]4116000[/td][td]33[/td][td]4.6[/td][td]9[/td][td]9.02[/td][td]9.59[/td][td]9.08[/td][td]10.34[/td][td]9.53[/td][td]10.87[/td][td]9.55[/td][td]9.83[/td][td]10.21[/td][td]9.18[/td][td]11.28[/td][td]11.26[/td][td]10.85[/td][td]11.2[/td][td]7.37[/td][td]9.19[/td][td]6.56[/td][td]0[/td][td]IMd[/td][td]11.28[/td][/tr]\n",
      "[tr][td]80[/td][td]Andorra[/td][td]Joaquim Muntaner [playerid=427020395][/td][td]공 마술사\n",
      "Click to toggle more information[/td][td]Bru[/td][td]29.26[/td][td]2 s   0 wk   3 d[/td][td]11760[/td][td]6[/td][td]7[/td][td]7[/td][td]7[/td][td]16[/td][td][/td][td]1[/td][td]9[/td][td]6[/td][td]8[/td][td]7[/td][td]4[/td][td]10[/td][td]906[/td][td]2019-05-12[/td][td]5.5[/td][td]WB[/td][td]1296000[/td][td]38[/td][td]4.6[/td][td]9.02[/td][td]8.82[/td][td]8.72[/td][td]8.6[/td][td]8.59[/td][td]8.88[/td][td]8.1[/td][td]8.24[/td][td]7.88[/td][td]7.75[/td][td]7.97[/td][td]7.44[/td][td]7.28[/td][td]7.52[/td][td]7.12[/td][td]6.59[/td][td]0[/td][td]6.8[/td][td]6.99[/td][td]WBd[/td][td]9.02[/td][/tr]\n",
      "[tr][td]81[/td][td]Hanguk[/td][td]Sang-Yong Jang [playerid=433566477][/td][td][/td][td][/td][td]23.18[/td][td]2 s   0 wk   0 d[/td][td]8190[/td][td]2[/td][td]3[/td][td]7[/td][td]8[/td][td]16[/td][td][/td][td]1[/td][td]9[/td][td]6[/td][td]6[/td][td]5[/td][td]4[/td][td]5[/td][td]941[/td][td]2019-05-08[/td][td]4.5[/td][td]WB[/td][td]1170000[/td][td]15[/td][td]4.54[/td][td]9.05[/td][td]8.76[/td][td]8.82[/td][td]8.47[/td][td]8.89[/td][td]9.03[/td][td]8.35[/td][td]7.98[/td][td]7.53[/td][td]7.5[/td][td]7.39[/td][td]7.53[/td][td]7.27[/td][td]7.36[/td][td]7[/td][td]6.16[/td][td]6.4[/td][td]6.19[/td][td]0[/td][td]WBd[/td][td]9.05[/td][/tr]\n",
      "[tr][td]83[/td][td]Hanguk[/td][td]Kwang-Hyun Seo [playerid=434869614][/td][td]예측할 수 없음\n",
      "Click to toggle more information[/td][td]Y×1[/td][td]22.15[/td][td]1 s   13 wk   1 d[/td][td]2720[/td][td]2[/td][td]2[/td][td]6[/td][td]8[/td][td]15[/td][td][/td][td]1[/td][td]8[/td][td]5[/td][td]4[/td][td]5[/td][td]4[/td][td]2[/td][td]803[/td][td]2019-05-12[/td][td]4[/td][td]CD[/td][td]530000[/td][td]14[/td][td]3.69[/td][td]7.11[/td][td]6.81[/td][td]6.93[/td][td]6.51[/td][td]7.1[/td][td]7.15[/td][td]6.6[/td][td]6.15[/td][td]5.74[/td][td]5.73[/td][td]5.55[/td][td]5.9[/td][td]5.72[/td][td]5.68[/td][td]5.53[/td][td]4.97[/td][td]5.19[/td][td]4.87[/td][td]0[/td][td]CDtw[/td][td]7.15[/td][/tr]\n",
      "[tr][td]84[/td][td]Hanguk[/td][td]Kang Jung [playerid=440669717][/td][td][/td][td][/td][td]18.22[/td][td]1 s   3 wk   1 d[/td][td]16920[/td][td]5[/td][td]1[/td][td]8[/td][td]7[/td][td]20[/td][td]✔[/td][td]10[/td][td]4[/td][td]1[/td][td]1[/td][td]1[/td][td]1[/td][td]4[/td][td]1059[/td][td]2019-05-12[/td][td]5.5[/td][td]KP[/td][td]3330000[/td][td]0[/td][td]9.31[/td][td]4.33[/td][td]4.04[/td][td]4.09[/td][td]3.75[/td][td]4.16[/td][td]4.3[/td][td]3.62[/td][td]3.33[/td][td]2.9[/td][td]2.85[/td][td]2.79[/td][td]2.9[/td][td]2.72[/td][td]2.73[/td][td]2.53[/td][td]2.38[/td][td]2.38[/td][td]2.38[/td][td]0[/td][td]KP[/td][td]9.31[/td][/tr]\n",
      "[tr][td]85[/td][td]Hanguk[/td][td]Yoo-Gul Hwangbo [playerid=443388515][/td][td]힘 있음\n",
      "Click to toggle more information[/td][td][/td][td]17.8[/td][td]5 d[/td][td]310[/td][td]5[/td][td]1[/td][td]6[/td][td]5[/td][td]20[/td][td]✔[/td][td]1[/td][td]3[/td][td]6[/td][td]2[/td][td]4[/td][td]3[/td][td]2[/td][td]628[/td][td]2019-05-08[/td][td]3.5[/td][td]IM[/td][td]290000[/td][td]0[/td][td]2.36[/td][td]3.7[/td][td]3.83[/td][td]4.04[/td][td]3.97[/td][td]4.31[/td][td]3.93[/td][td]4.75[/td][td]4.27[/td][td]4.54[/td][td]4.73[/td][td]4.29[/td][td]5.19[/td][td]5.24[/td][td]5.03[/td][td]5.27[/td][td]4.17[/td][td]4.58[/td][td]3.84[/td][td]0[/td][td]IMo[/td][td]5.27[/td][/tr]\n",
      "[tr][td]99[/td][td]Danmark[/td][td]Torben Boesen [playerid=321795066] Coach[/td][td]헤딩\n",
      "Click to toggle more information[/td][td][/td][td]43.17[/td][td]2 s   3 wk   0 d[/td][td]0[/td][td]4[/td][td]13[/td][td]5[/td][td]1[/td][td]17[/td][td][/td][td]0[/td][td]4[/td][td]0[/td][td]0[/td][td]0[/td][td]0[/td][td]0[/td][td]390[/td][td]2018-06-06[/td][td]4[/td][td]WB[/td][td]300000[/td][td]79[/td][td]1.73[/td][td]2.51[/td][td]2.31[/td][td]2.34[/td][td]2.1[/td][td]2.39[/td][td]2.49[/td][td]2.02[/td][td]1.82[/td][td]1.52[/td][td]1.48[/td][td]1.44[/td][td]1.52[/td][td]1.39[/td][td]1.4[/td][td]1.26[/td][td]1.16[/td][td]1.16[/td][td]1.16[/td][td]0[/td][td]WBd[/td][td]2.51[/td][/tr]\n",
      "[/table]\n"
     ]
    }
   ],
   "source": [
    "import pyperclip\n",
    "\n",
    "tmpClip = pyperclip.paste()\n",
    "print(tmpClip)"
   ]
  },
  {
   "cell_type": "code",
   "execution_count": 10,
   "metadata": {},
   "outputs": [],
   "source": [
    "from ht_file import *"
   ]
  },
  {
   "cell_type": "code",
   "execution_count": 11,
   "metadata": {},
   "outputs": [],
   "source": [
    "HattrickFile = HattrickFile()"
   ]
  },
  {
   "cell_type": "code",
   "execution_count": 12,
   "metadata": {},
   "outputs": [
    {
     "name": "stdout",
     "output_type": "stream",
     "text": [
      "2019/05/12\t\t : will be created\n",
      "2019/05/12\t\t : is existed\n"
     ]
    }
   ],
   "source": [
    "HattrickFile.check_and_create_folder(folder)"
   ]
  },
  {
   "cell_type": "code",
   "execution_count": 13,
   "metadata": {},
   "outputs": [
    {
     "name": "stdout",
     "output_type": "stream",
     "text": [
      "2019/05/12/player.html\t : is not existed\n"
     ]
    }
   ],
   "source": [
    "HattrickFile.check_and_delete_file(folder + '/player.html')"
   ]
  },
  {
   "cell_type": "code",
   "execution_count": 14,
   "metadata": {},
   "outputs": [],
   "source": [
    "with open(folder + '/player.html', 'w') as f:\n",
    "    f.write(tmpClip)"
   ]
  },
  {
   "cell_type": "code",
   "execution_count": 15,
   "metadata": {},
   "outputs": [],
   "source": [
    "p = Parse()"
   ]
  },
  {
   "cell_type": "code",
   "execution_count": null,
   "metadata": {
    "scrolled": true
   },
   "outputs": [],
   "source": [
    "p.read_line_list(folder + '/player.html')\n",
    "p.print_line_list()"
   ]
  },
  {
   "cell_type": "code",
   "execution_count": null,
   "metadata": {
    "scrolled": true
   },
   "outputs": [],
   "source": [
    "p.write_line_list(folder + '/player.html')\n",
    "p.modify_line_list(folder + '/player.html')\n",
    "p.print_df_cols()\n",
    "p.print_df()"
   ]
  },
  {
   "cell_type": "code",
   "execution_count": null,
   "metadata": {},
   "outputs": [],
   "source": [
    "p.save_df(folder + '/player.csv')"
   ]
  },
  {
   "cell_type": "code",
   "execution_count": null,
   "metadata": {},
   "outputs": [],
   "source": [
    "with open(folder + '/player.csv', 'r', encoding='utf-8') as f:\n",
    "    for line in f:\n",
    "        col = line.split(\",\")\n",
    "        print(len(col), col[0], sep=\"\\t\" ) # len = 47 -> 50"
   ]
  },
  {
   "cell_type": "code",
   "execution_count": null,
   "metadata": {},
   "outputs": [],
   "source": [
    "HattrickFile.check_and_delete_file(folder + '/player.html')"
   ]
  },
  {
   "cell_type": "code",
   "execution_count": null,
   "metadata": {},
   "outputs": [],
   "source": [
    "import psycopg2"
   ]
  },
  {
   "cell_type": "code",
   "execution_count": null,
   "metadata": {},
   "outputs": [],
   "source": [
    "conn = psycopg2.connect(\"dbname='mydatabase' user='myuser' host='localhost' port='65432' password='123qwe'\")\n",
    "print(conn)"
   ]
  },
  {
   "cell_type": "code",
   "execution_count": null,
   "metadata": {},
   "outputs": [],
   "source": [
    "ht_player_pg = HattrickPlayerPostgreSQL()\n",
    "# ht_player_table_name = 'player'\n",
    "ht_player_table_name = 'player_tmp'"
   ]
  },
  {
   "cell_type": "code",
   "execution_count": null,
   "metadata": {},
   "outputs": [],
   "source": [
    "ht_player_pg.select_count_player(conn, ht_player_table_name)"
   ]
  },
  {
   "cell_type": "code",
   "execution_count": null,
   "metadata": {},
   "outputs": [],
   "source": [
    "# import csv\n",
    "# with open(folder + '/player.csv', 'r', encoding='utf-8') as f:\n",
    "#     reader = csv.reader(f, delimiter=',')\n",
    "#     for row in reader:\n",
    "#         if row[0] != \"Number\" :\n",
    "#             ht_player_pg.insert_player(conn, ht_player_table_name, folder.replace('/', '-'), row)"
   ]
  },
  {
   "cell_type": "code",
   "execution_count": null,
   "metadata": {},
   "outputs": [],
   "source": [
    "import csv\n",
    "with open(folder + '/player.csv', 'r', encoding='utf-8') as f:\n",
    "    reader = csv.reader(f, delimiter=',')\n",
    "    for row in reader:\n",
    "        if row[0] != \"Number\" :\n",
    "            ht_player_pg.insert_player_tmp(conn, ht_player_table_name, folder.replace('/', '-'), row)"
   ]
  },
  {
   "cell_type": "code",
   "execution_count": null,
   "metadata": {},
   "outputs": [],
   "source": [
    "ht_player_pg.select_count_player(conn, ht_player_table_name)"
   ]
  },
  {
   "cell_type": "code",
   "execution_count": null,
   "metadata": {},
   "outputs": [],
   "source": [
    "# tuple_list = ht_player_pg.select_player(conn, ht_player_table_name, folder)\n",
    "# ht_player_pg.print(tuple_list)"
   ]
  },
  {
   "cell_type": "code",
   "execution_count": null,
   "metadata": {},
   "outputs": [],
   "source": [
    "from IPython.core.display import display, HTML\n",
    "display(HTML(\"<style>.container { width:90% !important;}</style>\"))"
   ]
  },
  {
   "cell_type": "code",
   "execution_count": null,
   "metadata": {},
   "outputs": [],
   "source": [
    "last_2dates = ht_player_pg.select_last_2dates(conn, 'player_tmp')\n",
    "last_2dates"
   ]
  },
  {
   "cell_type": "code",
   "execution_count": null,
   "metadata": {
    "scrolled": true
   },
   "outputs": [],
   "source": [
    "last_2dates = ht_player_pg.select_last_2dates(conn, 'player_tmp')\n",
    "nums = ht_player_pg.select_num(conn, 'player_tmp', last_2dates)\n",
    "ht_player_pg.diff_player_last_2states(conn, \"player_tmp\", nums, last_2dates)"
   ]
  },
  {
   "cell_type": "code",
   "execution_count": null,
   "metadata": {
    "scrolled": true
   },
   "outputs": [],
   "source": [
    "conn.close()\n",
    "conn"
   ]
  },
  {
   "cell_type": "code",
   "execution_count": null,
   "metadata": {},
   "outputs": [],
   "source": [
    "conn = None\n",
    "conn"
   ]
  },
  {
   "cell_type": "code",
   "execution_count": null,
   "metadata": {},
   "outputs": [],
   "source": []
  }
 ],
 "metadata": {
  "celltoolbar": "Raw Cell Format",
  "kernelspec": {
   "display_name": "Python 3",
   "language": "python",
   "name": "python3"
  },
  "language_info": {
   "codemirror_mode": {
    "name": "ipython",
    "version": 3
   },
   "file_extension": ".py",
   "mimetype": "text/x-python",
   "name": "python",
   "nbconvert_exporter": "python",
   "pygments_lexer": "ipython3",
   "version": "3.6.7"
  }
 },
 "nbformat": 4,
 "nbformat_minor": 2
}
