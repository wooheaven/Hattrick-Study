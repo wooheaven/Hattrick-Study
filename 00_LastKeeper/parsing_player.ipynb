{
 "cells": [
  {
   "cell_type": "code",
   "execution_count": 1,
   "metadata": {
    "collapsed": true
   },
   "outputs": [],
   "source": [
    "import sys\n",
    "\n",
    "import pandas\n",
    "\n",
    "sys.path.insert(0, '../03_Remake_with_TDD/algorithms')\n",
    "from ht_time import *"
   ]
  },
  {
   "cell_type": "code",
   "execution_count": null,
   "metadata": {
    "collapsed": true
   },
   "outputs": [],
   "source": [
    "sys.path.insert(0, '../03_Remake_with_TDD/player')\n",
    "from parse import Parse"
   ]
  },
  {
   "cell_type": "code",
   "execution_count": 2,
   "metadata": {
    "collapsed": true
   },
   "outputs": [],
   "source": [
    "sys.path.insert(0, '../03_Remake_with_TDD/player')\n",
    "from parse_tmp import Parse"
   ]
  },
  {
   "cell_type": "code",
   "execution_count": 3,
   "metadata": {
    "collapsed": true
   },
   "outputs": [],
   "source": [
    "sys.path.insert(0, '../03_Remake_with_TDD/postgresql')\n",
    "from ht_player_postgresql import *"
   ]
  },
  {
   "cell_type": "code",
   "execution_count": 4,
   "metadata": {},
   "outputs": [
    {
     "name": "stdout",
     "output_type": "stream",
     "text": [
      "folder = 2018/10/21\n"
     ]
    }
   ],
   "source": [
    "HattrickTime = HattrickTime()\n",
    "folder = HattrickTime.findLastSunOrWed()\n",
    "# folder = ht_time.findLastSunOrWed('2018/04/04')\n",
    "# folder = '2017/10/04'\n",
    "print(\"folder =\", folder)"
   ]
  },
  {
   "cell_type": "code",
   "execution_count": null,
   "metadata": {
    "collapsed": true
   },
   "outputs": [],
   "source": [
    "folder = '2018/09/25'\n",
    "print(\"folder =\", folder)"
   ]
  },
  {
   "cell_type": "code",
   "execution_count": 5,
   "metadata": {},
   "outputs": [
    {
     "data": {
      "text/plain": [
       "'2018/10/22'"
      ]
     },
     "execution_count": 5,
     "metadata": {},
     "output_type": "execute_result"
    }
   ],
   "source": [
    "from datetime import date\n",
    "\n",
    "nowDate = date.today().strftime('%Y/%m/%d')\n",
    "nowDate"
   ]
  },
  {
   "cell_type": "code",
   "execution_count": 6,
   "metadata": {
    "collapsed": true
   },
   "outputs": [],
   "source": [
    "import sys\n",
    "\n",
    "# sys.path.insert(0, '../97_Parse/')\n",
    "# from parseSkillTable import *\n",
    "\n",
    "sys.path.insert(0, '../98_Crawler/01_DualMonitor/')\n",
    "from DualMonitor import getIsDualMonitor\n",
    "\n",
    "sys.path.insert(0, '../98_Crawler/02_WebBrowser/')\n",
    "from FirefoxTab import clickTabOfFireFox\n",
    "\n",
    "sys.path.insert(0, '../98_Crawler/03_OnScreen/')\n",
    "from Empty import clickEmpty\n",
    "from MoveScroll import moveScroll\n",
    "from MoveFindMoveClick import moveByImage\n",
    "\n",
    "sys.path.insert(0, '../98_Crawler/04_Login/')\n",
    "# from HattrickLogInOut import clickFacebookLogin, clickFacebookLogout\n",
    "from HattrickLogInOut import clickHattrickLogin2, clickHattrickLogout"
   ]
  },
  {
   "cell_type": "code",
   "execution_count": null,
   "metadata": {
    "collapsed": true
   },
   "outputs": [],
   "source": [
    "# isDualMonitor\n",
    "isDualMonitor = getIsDualMonitor()\n",
    "\n",
    "# Hattrick LastKeeper Tab\n",
    "clickTabOfFireFox(5, isDualMonitor)\n",
    "\n",
    "# Hattrick Login by Facebook\n",
    "# clickEmpty(410, isDualMonitor)\n",
    "clickEmpty(305, isDualMonitor)\n",
    "moveScroll(20)\n",
    "# clickFacebookLogin(484, 393, isDualMonitor)\n",
    "clickHattrickLogin2(500, 305, isDualMonitor)"
   ]
  },
  {
   "cell_type": "code",
   "execution_count": 21,
   "metadata": {},
   "outputs": [
    {
     "name": "stdout",
     "output_type": "stream",
     "text": [
      "use 2 monitor = 3840 x 1080 isDualMonitor= True\n",
      "screen-SkillTable.png location on Screen ( 570 605 87 29 )\n",
      "screen-Since.png location on Screen ( 584 964 168 25 )\n",
      "screen-Copy.png location on Screen ( 1075 635 32 25 )\n"
     ]
    }
   ],
   "source": [
    "# isDualMonitor\n",
    "isDualMonitor = getIsDualMonitor()\n",
    "\n",
    "# Hattrick LastKeeper Tab\n",
    "clickTabOfFireFox(5, isDualMonitor)\n",
    "\n",
    "# Hattrick Login by Facebook\n",
    "# clickEmpty(410, isDualMonitor)\n",
    "clickEmpty(305, isDualMonitor)\n",
    "moveScroll(20)\n",
    "# clickFacebookLogin(484, 393, isDualMonitor)\n",
    "clickHattrickLogin2(500, 305, isDualMonitor)\n",
    "\n",
    "# Hattrick MyClub\n",
    "moveScroll(20)\n",
    "moveByImage(529, 339, 77, 42, isDualMonitor, 'screen-MyClub.png')\n",
    "\n",
    "# Hattrick Player\n",
    "clickEmpty(700, isDualMonitor)\n",
    "moveScroll(20)\n",
    "moveByImage(394, 701, 72, 59, isDualMonitor, 'screen-Player.png')\n",
    "\n",
    "# Hattrick SkillTable\n",
    "clickEmpty(593, isDualMonitor)\n",
    "moveScroll(20)\n",
    "moveByImage(570, 605, 137, 52, isDualMonitor, 'screen-SkillTable.png')\n",
    "\n",
    "# Hattrick Since\n",
    "moveScroll(-7)\n",
    "moveByImage(584, 964, 168, 25, isDualMonitor, 'screen-Since.png')\n",
    "\n",
    "# Hattrick Copy\n",
    "moveScroll(10)\n",
    "moveByImage(1075, 635, 32, 25, isDualMonitor, 'screen-Copy.png')\n",
    "\n",
    "# Hattrick Logout\n",
    "moveScroll(20)\n",
    "# clickFacebookLogout(1258, 337, isDualMonitor)\n",
    "clickHattrickLogout(1270, 370, isDualMonitor)\n",
    "\n",
    "# Jupyter Notebook Tab\n",
    "clickTabOfFireFox(7, isDualMonitor)"
   ]
  },
  {
   "cell_type": "code",
   "execution_count": 22,
   "metadata": {},
   "outputs": [
    {
     "name": "stdout",
     "output_type": "stream",
     "text": [
      "[table]\n",
      "[tr][th]#[/th][th]Nat[/th][th]Player[/th][th]Sp[/th][th]Stat[/th][th]Age[/th][th]Since[/th][th]TSI[/th][th]LS[/th][th]XP[/th][th]Fo[/th][th]Stm[/th][th]Lo[/th][th]MB[/th][th]KP[/th][th]DF[/th][th]PM[/th][th]WI[/th][th]PS[/th][th]SC[/th][th]SP[/th][th]Psico[/th][th]Last[/th][th]Rt[/th][th]Pos[/th][th]Wage[/th][th]G[/th][th]KP[/th][th]WBd[/th][th]WB[/th][th]WBtm[/th][th]WBo[/th][th]CD[/th][th]CDtw[/th][th]Cdo[/th][th]W[/th][th]IM[/th][th]FW[/th][th]FWd[/th][th]FWtw[/th][th]TDF[/th][th]BPo[/th][th]BPoV[/th][/tr]\n",
      "[tr][td]2[/td][td]Hanguk[/td][td]Jee-Hoon Kim [playerid=428709461][/td][td][/td][td][/td][td]23.7[/td][td]4 시즌   4 주   1 일[/td][td]55750[/td][td]3[/td][td]2[/td][td]7[/td][td]8[/td][td]20[/td][td]✔[/td][td]15[/td][td]5[/td][td]1[/td][td]1[/td][td]1[/td][td]2[/td][td]10[/td][td]1496[/td][td]2018-10-21 [playerid=428709461][/td][td]8[/td][td]KP[/td][td]19050000[/td][td]0[/td][td]13.4[/td][td]5.37[/td][td]4.99[/td][td]5.06[/td][td]4.59[/td][td]5.15[/td][td]5.34[/td][td]4.43[/td][td]3.47[/td][td]3.26[/td][td]3.17[/td][td]2.98[/td][td]3.16[/td][td]0[/td][td]KP[/td][td]13.4[/td][/tr]\n",
      "[tr][td]4[/td][td]Hanguk[/td][td]Ji-Woon Lee [playerid=427619236][/td][td][/td][td][/td][td]23.48[/td][td]4 시즌   12 주   1 일[/td][td]1300[/td][td]5[/td][td]3[/td][td]8[/td][td]8[/td][td]20[/td][td]✔[/td][td]1[/td][td]7[/td][td]4[/td][td]3[/td][td]5[/td][td]2[/td][td]9[/td][td]728[/td][td]2018-10-17 [playerid=427619236][/td][td]4.5[/td][td]CD[/td][td]390000[/td][td]26[/td][td]4.81[/td][td]7.92[/td][td]7.59[/td][td]7.72[/td][td]7.26[/td][td]7.91[/td][td]7.96[/td][td]7.35[/td][td]6.48[/td][td]6.43[/td][td]5.29[/td][td]5.87[/td][td]5.17[/td][td]0[/td][td]CDtw[/td][td]7.96[/td][/tr]\n",
      "[tr][td]6[/td][td]Hanguk[/td][td]Jae-Shin Cha [playerid=427619238][/td][td][/td][td]Y×2[/td][td]31.29[/td][td]4 시즌   12 주   1 일[/td][td]430[/td][td]5[/td][td]6[/td][td]4[/td][td]6[/td][td]20[/td][td]✔[/td][td]1[/td][td]7[/td][td]3[/td][td]6[/td][td]3[/td][td]1[/td][td]11[/td][td]704[/td][td]2018-10-21 [playerid=427619238][/td][td]3.5[/td][td]WB[/td][td]350000[/td][td]24[/td][td]3.64[/td][td]6.02[/td][td]5.82[/td][td]5.7[/td][td]5.6[/td][td]5.54[/td][td]5.86[/td][td]5.02[/td][td]4.76[/td][td]4.09[/td][td]3.51[/td][td]3.66[/td][td]3.77[/td][td]0[/td][td]WBd[/td][td]6.02[/td][/tr]\n",
      "[tr][td]8[/td][td]Hanguk[/td][td]Hong-Chan Son [playerid=427619240][/td][td][/td][td]Y×1[/td][td]25.89[/td][td]4 시즌   12 주   1 일[/td][td]1140[/td][td]5[/td][td]4[/td][td]6[/td][td]7[/td][td]20[/td][td]✔[/td][td]1[/td][td]5[/td][td]6[/td][td]5[/td][td]5[/td][td]1[/td][td]10[/td][td]637[/td][td]2018-10-21 [playerid=427619240][/td][td]4.5[/td][td]W[/td][td]310000[/td][td]8[/td][td]3.92[/td][td]6.56[/td][td]6.62[/td][td]6.68[/td][td]6.69[/td][td]6.75[/td][td]6.63[/td][td]6.92[/td][td]6.88[/td][td]6.95[/td][td]5.23[/td][td]6.02[/td][td]5.17[/td][td]0[/td][td]IMtw[/td][td]7.03[/td][/tr]\n",
      "[tr][td]10[/td][td]Hanguk[/td][td]Kwang-Eul Jeon [playerid=427619242][/td][td][/td][td]Y×1[/td][td]27.95[/td][td]4 시즌   12 주   1 일[/td][td]1460[/td][td]4[/td][td]5[/td][td]6[/td][td]7[/td][td]20[/td][td]✔[/td][td]1[/td][td]6[/td][td]7[/td][td]3[/td][td]3[/td][td]2[/td][td]11[/td][td]752[/td][td]2018-10-21 [playerid=427619242][/td][td]4.5[/td][td]IM[/td][td]430000[/td][td]18[/td][td]4.24[/td][td]7.06[/td][td]7.03[/td][td]7.3[/td][td]7.01[/td][td]7.66[/td][td]7.31[/td][td]7.82[/td][td]6.99[/td][td]7.59[/td][td]5.41[/td][td]5.98[/td][td]5.07[/td][td]0[/td][td]Cdo[/td][td]7.82[/td][/tr]\n",
      "[tr][td]11[/td][td]Hanguk[/td][td]Kwang-Hwan Yun [playerid=427619243][/td][td][/td][td]Y×1[/td][td]30.62[/td][td]4 시즌   12 주   1 일[/td][td]500[/td][td]6[/td][td]5[/td][td]6[/td][td]6[/td][td]20[/td][td]✔[/td][td]2[/td][td]5[/td][td]6[/td][td]2[/td][td]5[/td][td]2[/td][td]10[/td][td]612[/td][td]2018-10-21 [playerid=427619243][/td][td]4[/td][td]W[/td][td]310000[/td][td]14[/td][td]4.47[/td][td]6.01[/td][td]5.98[/td][td]6.24[/td][td]5.96[/td][td]6.59[/td][td]6.25[/td][td]6.75[/td][td]6.17[/td][td]6.81[/td][td]5.17[/td][td]5.9[/td][td]4.8[/td][td]0[/td][td]IMd[/td][td]6.84[/td][/tr]\n",
      "[tr][td]12[/td][td]Hanguk[/td][td]Chan-Myung Lee [playerid=427619244][/td][td][/td][td]Y×2[/td][td]29.71[/td][td]4 시즌   12 주   1 일[/td][td]780[/td][td]3[/td][td]5[/td][td]8[/td][td]6[/td][td]20[/td][td]✔[/td][td]1[/td][td]3[/td][td]7[/td][td]3[/td][td]4[/td][td]3[/td][td]10[/td][td]724[/td][td]2018-10-17 [playerid=427619244][/td][td]5[/td][td]IM[/td][td]390000[/td][td]9[/td][td]3.83[/td][td]5.81[/td][td]6.06[/td][td]6.3[/td][td]6.34[/td][td]6.63[/td][td]6.1[/td][td]7.34[/td][td]7.24[/td][td]8.13[/td][td]6.48[/td][td]7.05[/td][td]6.1[/td][td]0[/td][td]IMo[/td][td]8.17[/td][/tr]\n",
      "[tr][td]13[/td][td]Hanguk[/td][td]Sung-Kook Han [playerid=427619245][/td][td]공 마술사\n",
      "더 많은 정보를 보려면 클릭[/td][td][/td][td]25.59[/td][td]4 시즌   12 주   1 일[/td][td]970[/td][td]2[/td][td]4[/td][td]3[/td][td]7[/td][td]20[/td][td]✔[/td][td]1[/td][td]5[/td][td]6[/td][td]6[/td][td]5[/td][td]2[/td][td]10[/td][td]639[/td][td]2018-10-21 [playerid=427619245][/td][td]3[/td][td]W[/td][td]330000[/td][td]25[/td][td]2.76[/td][td]4.72[/td][td]4.78[/td][td]4.77[/td][td]4.84[/td][td]4.75[/td][td]4.72[/td][td]4.87[/td][td]4.97[/td][td]4.91[/td][td]4.01[/td][td]0[/td][td]4.04[/td][td]4.42[/td][td]IMtw[/td][td]5.01[/td][/tr]\n",
      "[tr][td]15[/td][td]Hanguk[/td][td]Man-Ok Lee [playerid=427619247][/td][td]예측할 수 없음\n",
      "더 많은 정보를 보려면 클릭[/td][td]Y×1[/td][td]27.0[/td][td]4 시즌   12 주   1 일[/td][td]2160[/td][td]5[/td][td]4[/td][td]7[/td][td]7[/td][td]20[/td][td]✔[/td][td]1[/td][td]5[/td][td]5[/td][td]7[/td][td]6[/td][td]2[/td][td]10[/td][td]747[/td][td]2018-10-17 [playerid=427619247][/td][td]5[/td][td]W[/td][td]350000[/td][td]13[/td][td]4.2[/td][td]7.18[/td][td]7.24[/td][td]7.09[/td][td]7.3[/td][td]6.88[/td][td]7.05[/td][td]6.88[/td][td]7.37[/td][td]6.87[/td][td]6.1[/td][td]6.67[/td][td]6.34[/td][td]0[/td][td]Wo[/td][td]7.57[/td][/tr]\n",
      "[tr][td]16[/td][td]Hanguk[/td][td]Dong-Shik Kim [playerid=427619248][/td][td][/td][td]Y×2[/td][td]22.106[/td][td]4 시즌   12 주   1 일[/td][td]1650[/td][td]6[/td][td]3[/td][td]7[/td][td]8[/td][td]20[/td][td]✔[/td][td]1[/td][td]3[/td][td]3[/td][td]6[/td][td]4[/td][td]7[/td][td]12[/td][td]756[/td][td]2018-10-21 [playerid=427619248][/td][td]5.5[/td][td]FW[/td][td]410000[/td][td]42[/td][td]3.54[/td][td]5.35[/td][td]5.45[/td][td]5.21[/td][td]5.53[/td][td]4.9[/td][td]5.15[/td][td]4.9[/td][td]5.59[/td][td]5.14[/td][td]6.98[/td][td]6.21[/td][td]7.28[/td][td]0[/td][td]FWtw[/td][td]7.28[/td][/tr]\n",
      "[tr][td]25[/td][td]Polska[/td][td]Pylyp Nagorniak [playerid=406205227][/td][td][/td][td][/td][td]30.106[/td][td]4 시즌   7 주   1 일[/td][td]1100[/td][td]5[/td][td]3[/td][td]6[/td][td]6[/td][td]20[/td][td][/td][td]1[/td][td]6[/td][td]6[/td][td]3[/td][td]6[/td][td]3[/td][td]11[/td][td]611[/td][td]2018-10-17 [playerid=406205227][/td][td]4[/td][td]IM[/td][td]420000[/td][td]12[/td][td]3.45[/td][td]6.06[/td][td]5.97[/td][td]6.18[/td][td]5.89[/td][td]6.45[/td][td]6.23[/td][td]6.45[/td][td]5.92[/td][td]6.36[/td][td]5.09[/td][td]5.74[/td][td]4.81[/td][td]0[/td][td]CD[/td][td]6.45[/td][/tr]\n",
      "[tr][td]31[/td][td]Hanguk[/td][td]Se-Hee Park [playerid=430626797][/td][td][/td][td][/td][td]22.41[/td][td]3 시즌   11 주   1 일[/td][td]940[/td][td]4[/td][td]2[/td][td]4[/td][td]7[/td][td]20[/td][td]✔[/td][td]1[/td][td]2[/td][td]5[/td][td]5[/td][td]3[/td][td]7[/td][td]9[/td][td]718[/td][td]2018-10-21 [playerid=430626797][/td][td]3.5[/td][td]FW[/td][td]390000[/td][td]28[/td][td]2.3[/td][td]3.5[/td][td]3.72[/td][td]3.68[/td][td]3.94[/td][td]3.63[/td][td]3.52[/td][td]4.03[/td][td]4.44[/td][td]4.63[/td][td]5.33[/td][td]4.85[/td][td]5.34[/td][td]0[/td][td]FWtw[/td][td]5.34[/td][/tr]\n",
      "[tr][td]34[/td][td]Sverige[/td][td]Axel Hermansson [playerid=422526443][/td][td][/td][td][/td][td]32.16[/td][td]3 시즌   9 주   0 일[/td][td]690[/td][td]5[/td][td]5[/td][td]6[/td][td]6[/td][td]20[/td][td][/td][td]2[/td][td]6[/td][td]6[/td][td]2[/td][td]6[/td][td]2[/td][td]9[/td][td]604[/td][td]2018-09-23 [playerid=422526443][/td][td]4[/td][td]IM[/td][td]420000[/td][td]18[/td][td]4.23[/td][td]6.07[/td][td]5.95[/td][td]6.22[/td][td]5.85[/td][td]6.59[/td][td]6.29[/td][td]6.59[/td][td]5.89[/td][td]6.46[/td][td]4.8[/td][td]5.64[/td][td]4.43[/td][td]0[/td][td]CD[/td][td]6.59[/td][/tr]\n",
      "[tr][td]38[/td][td]Latvija[/td][td]Artem Skurlatov [playerid=409641598][/td][td][/td][td][/td][td]30.22[/td][td]3 시즌   5 주   4 일[/td][td]1530[/td][td]5[/td][td]5[/td][td]5[/td][td]6[/td][td]20[/td][td][/td][td]1[/td][td]8[/td][td]6[/td][td]3[/td][td]4[/td][td]3[/td][td]7[/td][td]799[/td][td]2018-10-14 [playerid=409641598][/td][td]3.5[/td][td]CD[/td][td]648000[/td][td]11[/td][td]3.87[/td][td]6.88[/td][td]6.64[/td][td]6.87[/td][td]6.41[/td][td]7.16[/td][td]7.03[/td][td]6.87[/td][td]5.84[/td][td]6.13[/td][td]4.68[/td][td]5.06[/td][td]4.44[/td][td]0[/td][td]CD[/td][td]7.16[/td][/tr]\n",
      "[tr][td]40[/td][td]Perú[/td][td]Matías Pichis [playerid=416567166][/td][td][/td][td][/td][td]25.84[/td][td]3 시즌   5 주   0 일[/td][td]10170[/td][td]6[/td][td]2[/td][td]8[/td][td]7[/td][td]20[/td][td][/td][td]1[/td][td]10[/td][td]8[/td][td]2[/td][td]4[/td][td]4[/td][td]9[/td][td]1003[/td][td]2018-10-21 [playerid=416567166][/td][td]5.5[/td][td]CD[/td][td]1764000[/td][td]5[/td][td]4.92[/td][td]9.65[/td][td]9.24[/td][td]9.77[/td][td]8.86[/td][td]10.46[/td][td]10.03[/td][td]10.09[/td][td]7.99[/td][td]8.93[/td][td]6.25[/td][td]6.81[/td][td]5.62[/td][td]0[/td][td]CD[/td][td]10.46[/td][/tr]\n",
      "[tr][td]48[/td][td]Hanguk[/td][td]Dong-Suk Lee [playerid=432205385][/td][td]공 마술사\n",
      "더 많은 정보를 보려면 클릭[/td][td][/td][td]21.55[/td][td]2 시즌   15 주   0 일[/td][td]1020[/td][td]6[/td][td]2[/td][td]5[/td][td]7[/td][td]20[/td][td]✔[/td][td]1[/td][td]5[/td][td]4[/td][td]5[/td][td]6[/td][td]5[/td][td]6[/td][td]615[/td][td]2018-10-17 [playerid=432205385][/td][td]4[/td][td]FW[/td][td]290000[/td][td]14[/td][td]3.24[/td][td]5.39[/td][td]5.33[/td][td]5.28[/td][td]5.28[/td][td]5.21[/td][td]5.32[/td][td]5.06[/td][td]5.18[/td][td]5[/td][td]5.41[/td][td]0[/td][td]5.47[/td][td]5.47[/td][td]TDF[/td][td]5.47[/td][/tr]\n",
      "[tr][td]52[/td][td]Hanguk[/td][td]Seong-Gong Choi [playerid=433454317][/td][td]예측할 수 없음\n",
      "더 많은 정보를 보려면 클릭[/td][td][/td][td]20.23[/td][td]2 시즌   11 주   2 일[/td][td]5300[/td][td]4[/td][td]2[/td][td]6[/td][td]7[/td][td]20[/td][td]✔[/td][td]1[/td][td]7[/td][td]7[/td][td]7[/td][td]4[/td][td]5[/td][td]7[/td][td]778[/td][td]2018-10-21 [playerid=433454317][/td][td]4[/td][td]CD[/td][td]550000[/td][td]16[/td][td]4.02[/td][td]7.72[/td][td]7.72[/td][td]7.72[/td][td]7.72[/td][td]7.72[/td][td]7.72[/td][td]7.72[/td][td]7.48[/td][td]7.4[/td][td]6.58[/td][td]6.56[/td][td]6.63[/td][td]0[/td][td]CD[/td][td]7.72[/td][/tr]\n",
      "[tr][td]55[/td][td]Hanguk[/td][td]Geun-Ho Han [playerid=433728993][/td][td][/td][td][/td][td]21.25[/td][td]2 시즌   8 주   2 일[/td][td]1970[/td][td]3[/td][td]2[/td][td]5[/td][td]7[/td][td]20[/td][td]✔[/td][td]1[/td][td]5[/td][td]6[/td][td]4[/td][td]3[/td][td]7[/td][td]6[/td][td]733[/td][td]2018-10-17 [playerid=433728993][/td][td]4[/td][td]FW[/td][td]410000[/td][td]13[/td][td]3.26[/td][td]5.55[/td][td]5.58[/td][td]5.69[/td][td]5.61[/td][td]5.85[/td][td]5.67[/td][td]6[/td][td]5.64[/td][td]6.05[/td][td]6.09[/td][td]5.69[/td][td]5.92[/td][td]0[/td][td]IMd[/td][td]6.09[/td][/tr]\n",
      "[tr][td]61[/td][td]Oceania[/td][td]Cedrick Williamson [playerid=430364099][/td][td]힘 있음\n",
      "더 많은 정보를 보려면 클릭[/td][td][/td][td]20.88[/td][td]2 시즌   3 주   0 일[/td][td]6750[/td][td]3[/td][td]3[/td][td]7[/td][td]7[/td][td]17[/td][td][/td][td]1[/td][td]8[/td][td]5[/td][td]7[/td][td]7[/td][td]2[/td][td]7[/td][td]883[/td][td]2018-10-17 [playerid=430364099][/td][td]4.5[/td][td]WB[/td][td]708000[/td][td]2[/td][td]4.26[/td][td]8.35[/td][td]8.13[/td][td]8.03[/td][td]7.9[/td][td]7.89[/td][td]8.2[/td][td]7.36[/td][td]7.21[/td][td]6.54[/td][td]5.5[/td][td]6.2[/td][td]5.72[/td][td]0[/td][td]WBd[/td][td]8.35[/td][/tr]\n",
      "[tr][td]65[/td][td]Hanguk[/td][td]Sang-Hyun Yun [playerid=434942107][/td][td][/td][td][/td][td]19.51[/td][td]1 시즌   14 주   2 일[/td][td]3050[/td][td]3[/td][td]1[/td][td]7[/td][td]6[/td][td]20[/td][td]✔[/td][td]1[/td][td]6[/td][td]5[/td][td]4[/td][td]7[/td][td]4[/td][td]5[/td][td]794[/td][td]2018-10-17 [playerid=434942107][/td][td]4.5[/td][td]W[/td][td]390000[/td][td]4[/td][td]3.47[/td][td]6.17[/td][td]6.05[/td][td]6.14[/td][td]5.94[/td][td]6.26[/td][td]6.22[/td][td]6.09[/td][td]5.85[/td][td]5.95[/td][td]5.53[/td][td]5.99[/td][td]5.4[/td][td]0[/td][td]CD[/td][td]6.26[/td][/tr]\n",
      "[tr][td]70[/td][td]Hanguk[/td][td]Min-Gyu Jung [playerid=429263814][/td][td][/td][td][/td][td]25.17[/td][td]1 시즌   9 주   6 일[/td][td]5850[/td][td]1[/td][td]4[/td][td]7[/td][td]7[/td][td]14[/td][td][/td][td]1[/td][td]9[/td][td]6[/td][td]4[/td][td]4[/td][td]2[/td][td]7[/td][td]958[/td][td]2018-10-17 [playerid=429263814][/td][td]5[/td][td]CD[/td][td]1030000[/td][td]2[/td][td]4.56[/td][td]8.74[/td][td]8.39[/td][td]8.6[/td][td]8.04[/td][td]8.88[/td][td]8.85[/td][td]8.34[/td][td]7.05[/td][td]7.11[/td][td]4.99[/td][td]5.58[/td][td]4.82[/td][td]0[/td][td]CD[/td][td]8.88[/td][/tr]\n",
      "[tr][td]72[/td][td]Hanguk[/td][td]Gyeong-Ryeol Kim [playerid=435840503][/td][td][/td][td][/td][td]19.65[/td][td]1 시즌   8 주   2 일[/td][td]1310[/td][td]3[/td][td]1[/td][td]4[/td][td]6[/td][td]20[/td][td]✔[/td][td]1[/td][td]7[/td][td]6[/td][td]4[/td][td]4[/td][td]3[/td][td]7[/td][td]731[/td][td]2018-10-10 [playerid=435840503][/td][td]4[/td][td]CD[/td][td]390000[/td][td]0[/td][td]2.86[/td][td]5.31[/td][td]5.19[/td][td]5.32[/td][td]5.08[/td][td]5.48[/td][td]5.4[/td][td]5.36[/td][td]4.78[/td][td]4.93[/td][td]3.84[/td][td]4.13[/td][td]3.71[/td][td]0[/td][td]CD[/td][td]5.48[/td][/tr]\n",
      "[tr][td]78[/td][td]Hanguk[/td][td]Jung-Oh Han [playerid=433730490][/td][td]공 마술사\n",
      "더 많은 정보를 보려면 클릭[/td][td][/td][td]21.46[/td][td]7 주   6 일[/td][td]4510[/td][td]4[/td][td]2[/td][td]6[/td][td]7[/td][td]8[/td][td][/td][td]1[/td][td]9[/td][td]3[/td][td]5[/td][td]1[/td][td]3[/td][td]6[/td][td]974[/td][td]2018-10-17 [playerid=433730490][/td][td]4[/td][td]WB[/td][td]1270000[/td][td]4[/td][td]3.6[/td][td]7.19[/td][td]6.72[/td][td]6.67[/td][td]6.23[/td][td]6.61[/td][td]7.02[/td][td]5.61[/td][td]4.48[/td][td]3.77[/td][td]3.25[/td][td]0[/td][td]3.49[/td][td]2.84[/td][td]WBd[/td][td]7.19[/td][/tr]\n",
      "[tr][td]79[/td][td]España[/td][td]Jimeno Eguiruren [playerid=415605434][/td][td][/td][td]Y×2[/td][td]25.102[/td][td]5 주   2 일[/td][td]24320[/td][td]5[/td][td]5[/td][td]6[/td][td]7[/td][td]7[/td][td][/td][td]1[/td][td]8[/td][td]11[/td][td]3[/td][td]9[/td][td]2[/td][td]6[/td][td]1095[/td][td]2018-10-21 [playerid=415605434][/td][td]6[/td][td]IM[/td][td]4068000[/td][td]22[/td][td]3.73[/td][td]7.82[/td][td]7.84[/td][td]8.37[/td][td]7.9[/td][td]9.07[/td][td]8.32[/td][td]9.56[/td][td]8.6[/td][td]9.93[/td][td]6.31[/td][td]8[/td][td]5.55[/td][td]0[/td][td]IMd[/td][td]9.95[/td][/tr]\n",
      "[tr][td]80[/td][td]Andorra[/td][td]Joaquim Muntaner [playerid=427020395][/td][td]공 마술사\n",
      "더 많은 정보를 보려면 클릭[/td][td][/td][td]27.48[/td][td]3 주   4 일[/td][td]16230[/td][td]6[/td][td]6[/td][td]7[/td][td]7[/td][td]6[/td][td][/td][td]1[/td][td]9[/td][td]6[/td][td]8[/td][td]7[/td][td]4[/td][td]10[/td][td]1000[/td][td]2018-10-21 [playerid=427020395][/td][td]5[/td][td]WB[/td][td]1260000[/td][td]29[/td][td]4.35[/td][td]9.09[/td][td]8.87[/td][td]8.76[/td][td]8.63[/td][td]8.63[/td][td]8.93[/td][td]8.1[/td][td]7.87[/td][td]7.22[/td][td]6.48[/td][td]0[/td][td]6.71[/td][td]6.92[/td][td]WBd[/td][td]9.09[/td][/tr]\n",
      "[tr][td]81[/td][td]Hanguk[/td][td]Sang-Yong Jang [playerid=433566477][/td][td][/td][td][/td][td]21.40[/td][td]3 주   1 일[/td][td]7430[/td][td]2[/td][td]2[/td][td]6[/td][td]8[/td][td]5[/td][td][/td][td]1[/td][td]9[/td][td]6[/td][td]6[/td][td]5[/td][td]4[/td][td]5[/td][td]928[/td][td]2018-10-21 [playerid=433566477][/td][td]4[/td][td]WB[/td][td]970000[/td][td]5[/td][td]3.47[/td][td]7.64[/td][td]7.37[/td][td]7.42[/td][td]7.1[/td][td]7.49[/td][td]7.62[/td][td]6.99[/td][td]6.24[/td][td]6[/td][td]4.97[/td][td]5.19[/td][td]5[/td][td]0[/td][td]WBd[/td][td]7.64[/td][/tr]\n",
      "[tr][td]82[/td][td]Hanguk[/td][td]Si-Yul SaGong [playerid=438852209][/td][td][/td][td]Inj 1[/td][td]17.55[/td][td]5 일[/td][td]920[/td][td]4[/td][td]1[/td][td]6[/td][td]5[/td][td]20[/td][td]✔[/td][td]5[/td][td]3[/td][td]1[/td][td]2[/td][td]1[/td][td]1[/td][td]2[/td][td]529[/td][td]2018-10-21 [playerid=438852209][/td][td]3[/td][td]KP[/td][td]750000[/td][td]0[/td][td]4.53[/td][td]3.07[/td][td]2.95[/td][td]2.91[/td][td]2.81[/td][td]2.87[/td][td]3.01[/td][td]2.58[/td][td]2.35[/td][td]2.09[/td][td]2.01[/td][td]1.96[/td][td]2.1[/td][td]0[/td][td]KP[/td][td]4.53[/td][/tr]\n",
      "[tr][td]83[/td][td]Hanguk[/td][td]Kwang-Hyun Seo [playerid=434869614][/td][td]예측할 수 없음\n",
      "더 많은 정보를 보려면 클릭[/td][td][/td][td]20.37[/td][td]2 일[/td][td]2580[/td][td]2[/td][td]1[/td][td]6[/td][td]7[/td][td]2[/td][td][/td][td]1[/td][td]8[/td][td]5[/td][td]4[/td][td]5[/td][td]4[/td][td]2[/td][td]803[/td][td]2018-10-14 [playerid=434869614][/td][td]4[/td][td]CD[/td][td]390000[/td][td]9[/td][td]2.64[/td][td]5.94[/td][td]5.65[/td][td]5.77[/td][td]5.36[/td][td]5.93[/td][td]5.97[/td][td]5.44[/td][td]4.61[/td][td]4.6[/td][td]3.87[/td][td]4.09[/td][td]3.77[/td][td]0[/td][td]CDtw[/td][td]5.97[/td][/tr]\n",
      "[tr][td]98[/td][td]Hanguk[/td][td]Ji-Ho Yun [playerid=438901894][/td][td][/td][td][/td][td]18.64[/td][td]2 일[/td][td]630[/td][td]2[/td][td]1[/td][td]6[/td][td]5[/td][td]20[/td][td]✔[/td][td]4[/td][td]2[/td][td]1[/td][td]1[/td][td]1[/td][td]1[/td][td]4[/td][td]484[/td][td][/td][td][/td][td][/td][td]570000[/td][td]0[/td][td]3.77[/td][td]2.43[/td][td]2.36[/td][td]2.37[/td][td]2.28[/td][td]2.39[/td][td]2.43[/td][td]2.25[/td][td]2.05[/td][td]2[/td][td]1.91[/td][td]1.91[/td][td]1.91[/td][td]0[/td][td]KP[/td][td]3.77[/td][/tr]\n",
      "[tr][td]99[/td][td]Danmark[/td][td]Torben Boesen [playerid=321795066] 코치[/td][td]헤딩\n",
      "더 많은 정보를 보려면 클릭[/td][td][/td][td]41.39[/td][td]6 주   1 일[/td][td]70[/td][td]5[/td][td]13[/td][td]5[/td][td]2[/td][td]7[/td][td][/td][td]0[/td][td]8[/td][td]0[/td][td]3[/td][td]0[/td][td]0[/td][td]0[/td][td]780[/td][td]2018-06-06 [playerid=321795066][/td][td]4[/td][td]WB[/td][td]396000[/td][td]79[/td][td]2.26[/td][td]4.24[/td][td]3.85[/td][td]3.8[/td][td]3.45[/td][td]3.73[/td][td]4.09[/td][td]2.9[/td][td]2.13[/td][td]1.5[/td][td]1.19[/td][td]1.1[/td][td]1.39[/td][td]0[/td][td]WBd[/td][td]4.24[/td][/tr]\n",
      "[/table]\n"
     ]
    }
   ],
   "source": [
    "import pyperclip\n",
    "\n",
    "tmpClip = pyperclip.paste()\n",
    "print(tmpClip)"
   ]
  },
  {
   "cell_type": "code",
   "execution_count": 23,
   "metadata": {
    "collapsed": true
   },
   "outputs": [],
   "source": [
    "from ht_file import *"
   ]
  },
  {
   "cell_type": "code",
   "execution_count": 24,
   "metadata": {
    "collapsed": true
   },
   "outputs": [],
   "source": [
    "HattrickFile = HattrickFile()"
   ]
  },
  {
   "cell_type": "code",
   "execution_count": 25,
   "metadata": {},
   "outputs": [
    {
     "name": "stdout",
     "output_type": "stream",
     "text": [
      "2018/10/21\t\t : will be created\n",
      "2018/10/21\t\t : is existed\n"
     ]
    }
   ],
   "source": [
    "HattrickFile.check_and_create_folder(folder)"
   ]
  },
  {
   "cell_type": "code",
   "execution_count": 26,
   "metadata": {},
   "outputs": [
    {
     "name": "stdout",
     "output_type": "stream",
     "text": [
      "2018/10/21/player.html\t : is not existed\n"
     ]
    }
   ],
   "source": [
    "HattrickFile.check_and_delete_file(folder + '/player.html')"
   ]
  },
  {
   "cell_type": "code",
   "execution_count": 27,
   "metadata": {
    "collapsed": true
   },
   "outputs": [],
   "source": [
    "with open(folder + '/player.html', 'w') as f:\n",
    "    f.write(tmpClip)"
   ]
  },
  {
   "cell_type": "code",
   "execution_count": 28,
   "metadata": {
    "collapsed": true
   },
   "outputs": [],
   "source": [
    "p = Parse()"
   ]
  },
  {
   "cell_type": "code",
   "execution_count": 29,
   "metadata": {},
   "outputs": [
    {
     "name": "stdout",
     "output_type": "stream",
     "text": [
      "<table>\n",
      "<tr><th>#</th><th>Nat</th><th>Player</th><th>Sp</th><th>Stat</th><th>Age</th><th>Since</th><th>TSI</th><th>LS</th><th>XP</th><th>Fo</th><th>Stm</th><th>Lo</th><th>MB</th><th>KP</th><th>DF</th><th>PM</th><th>WI</th><th>PS</th><th>SC</th><th>SP</th><th>Psico</th><th>Last</th><th>Rt</th><th>Pos</th><th>Wage</th><th>G</th><th>KP</th><th>WBd</th><th>WB</th><th>WBtm</th><th>WBo</th><th>CD</th><th>CDtw</th><th>Cdo</th><th>W</th><th>IM</th><th>FW</th><th>FWd</th><th>FWtw</th><th>TDF</th><th>BPo</th><th>BPoV</th></tr>\n",
      "<tr><td>2</td><td>Hanguk</td><td>Jee-Hoon Kim [playerid=428709461]</td><td></td><td></td><td>23.7</td><td>4 시즌   4 주   1 일</td><td>55750</td><td>3</td><td>2</td><td>7</td><td>8</td><td>20</td><td>✔</td><td>15</td><td>5</td><td>1</td><td>1</td><td>1</td><td>2</td><td>10</td><td>1496</td><td>2018-10-21 [playerid=428709461]</td><td>8</td><td>KP</td><td>19050000</td><td>0</td><td>13.4</td><td>5.37</td><td>4.99</td><td>5.06</td><td>4.59</td><td>5.15</td><td>5.34</td><td>4.43</td><td>3.47</td><td>3.26</td><td>3.17</td><td>2.98</td><td>3.16</td><td>0</td><td>KP</td><td>13.4</td></tr>\n",
      "<tr><td>4</td><td>Hanguk</td><td>Ji-Woon Lee [playerid=427619236]</td><td></td><td></td><td>23.48</td><td>4 시즌   12 주   1 일</td><td>1300</td><td>5</td><td>3</td><td>8</td><td>8</td><td>20</td><td>✔</td><td>1</td><td>7</td><td>4</td><td>3</td><td>5</td><td>2</td><td>9</td><td>728</td><td>2018-10-17 [playerid=427619236]</td><td>4.5</td><td>CD</td><td>390000</td><td>26</td><td>4.81</td><td>7.92</td><td>7.59</td><td>7.72</td><td>7.26</td><td>7.91</td><td>7.96</td><td>7.35</td><td>6.48</td><td>6.43</td><td>5.29</td><td>5.87</td><td>5.17</td><td>0</td><td>CDtw</td><td>7.96</td></tr>\n",
      "<tr><td>6</td><td>Hanguk</td><td>Jae-Shin Cha [playerid=427619238]</td><td></td><td>Y×2</td><td>31.29</td><td>4 시즌   12 주   1 일</td><td>430</td><td>5</td><td>6</td><td>4</td><td>6</td><td>20</td><td>✔</td><td>1</td><td>7</td><td>3</td><td>6</td><td>3</td><td>1</td><td>11</td><td>704</td><td>2018-10-21 [playerid=427619238]</td><td>3.5</td><td>WB</td><td>350000</td><td>24</td><td>3.64</td><td>6.02</td><td>5.82</td><td>5.7</td><td>5.6</td><td>5.54</td><td>5.86</td><td>5.02</td><td>4.76</td><td>4.09</td><td>3.51</td><td>3.66</td><td>3.77</td><td>0</td><td>WBd</td><td>6.02</td></tr>\n",
      "<tr><td>8</td><td>Hanguk</td><td>Hong-Chan Son [playerid=427619240]</td><td></td><td>Y×1</td><td>25.89</td><td>4 시즌   12 주   1 일</td><td>1140</td><td>5</td><td>4</td><td>6</td><td>7</td><td>20</td><td>✔</td><td>1</td><td>5</td><td>6</td><td>5</td><td>5</td><td>1</td><td>10</td><td>637</td><td>2018-10-21 [playerid=427619240]</td><td>4.5</td><td>W</td><td>310000</td><td>8</td><td>3.92</td><td>6.56</td><td>6.62</td><td>6.68</td><td>6.69</td><td>6.75</td><td>6.63</td><td>6.92</td><td>6.88</td><td>6.95</td><td>5.23</td><td>6.02</td><td>5.17</td><td>0</td><td>IMtw</td><td>7.03</td></tr>\n",
      "<tr><td>10</td><td>Hanguk</td><td>Kwang-Eul Jeon [playerid=427619242]</td><td></td><td>Y×1</td><td>27.95</td><td>4 시즌   12 주   1 일</td><td>1460</td><td>4</td><td>5</td><td>6</td><td>7</td><td>20</td><td>✔</td><td>1</td><td>6</td><td>7</td><td>3</td><td>3</td><td>2</td><td>11</td><td>752</td><td>2018-10-21 [playerid=427619242]</td><td>4.5</td><td>IM</td><td>430000</td><td>18</td><td>4.24</td><td>7.06</td><td>7.03</td><td>7.3</td><td>7.01</td><td>7.66</td><td>7.31</td><td>7.82</td><td>6.99</td><td>7.59</td><td>5.41</td><td>5.98</td><td>5.07</td><td>0</td><td>Cdo</td><td>7.82</td></tr>\n",
      "<tr><td>11</td><td>Hanguk</td><td>Kwang-Hwan Yun [playerid=427619243]</td><td></td><td>Y×1</td><td>30.62</td><td>4 시즌   12 주   1 일</td><td>500</td><td>6</td><td>5</td><td>6</td><td>6</td><td>20</td><td>✔</td><td>2</td><td>5</td><td>6</td><td>2</td><td>5</td><td>2</td><td>10</td><td>612</td><td>2018-10-21 [playerid=427619243]</td><td>4</td><td>W</td><td>310000</td><td>14</td><td>4.47</td><td>6.01</td><td>5.98</td><td>6.24</td><td>5.96</td><td>6.59</td><td>6.25</td><td>6.75</td><td>6.17</td><td>6.81</td><td>5.17</td><td>5.9</td><td>4.8</td><td>0</td><td>IMd</td><td>6.84</td></tr>\n",
      "<tr><td>12</td><td>Hanguk</td><td>Chan-Myung Lee [playerid=427619244]</td><td></td><td>Y×2</td><td>29.71</td><td>4 시즌   12 주   1 일</td><td>780</td><td>3</td><td>5</td><td>8</td><td>6</td><td>20</td><td>✔</td><td>1</td><td>3</td><td>7</td><td>3</td><td>4</td><td>3</td><td>10</td><td>724</td><td>2018-10-17 [playerid=427619244]</td><td>5</td><td>IM</td><td>390000</td><td>9</td><td>3.83</td><td>5.81</td><td>6.06</td><td>6.3</td><td>6.34</td><td>6.63</td><td>6.1</td><td>7.34</td><td>7.24</td><td>8.13</td><td>6.48</td><td>7.05</td><td>6.1</td><td>0</td><td>IMo</td><td>8.17</td></tr>\n",
      "<tr><td>13</td><td>Hanguk</td><td>Sung-Kook Han [playerid=427619245]</td><td>공 마술사\n",
      "더 많은 정보를 보려면 클릭</td><td></td><td>25.59</td><td>4 시즌   12 주   1 일</td><td>970</td><td>2</td><td>4</td><td>3</td><td>7</td><td>20</td><td>✔</td><td>1</td><td>5</td><td>6</td><td>6</td><td>5</td><td>2</td><td>10</td><td>639</td><td>2018-10-21 [playerid=427619245]</td><td>3</td><td>W</td><td>330000</td><td>25</td><td>2.76</td><td>4.72</td><td>4.78</td><td>4.77</td><td>4.84</td><td>4.75</td><td>4.72</td><td>4.87</td><td>4.97</td><td>4.91</td><td>4.01</td><td>0</td><td>4.04</td><td>4.42</td><td>IMtw</td><td>5.01</td></tr>\n",
      "<tr><td>15</td><td>Hanguk</td><td>Man-Ok Lee [playerid=427619247]</td><td>예측할 수 없음\n",
      "더 많은 정보를 보려면 클릭</td><td>Y×1</td><td>27.0</td><td>4 시즌   12 주   1 일</td><td>2160</td><td>5</td><td>4</td><td>7</td><td>7</td><td>20</td><td>✔</td><td>1</td><td>5</td><td>5</td><td>7</td><td>6</td><td>2</td><td>10</td><td>747</td><td>2018-10-17 [playerid=427619247]</td><td>5</td><td>W</td><td>350000</td><td>13</td><td>4.2</td><td>7.18</td><td>7.24</td><td>7.09</td><td>7.3</td><td>6.88</td><td>7.05</td><td>6.88</td><td>7.37</td><td>6.87</td><td>6.1</td><td>6.67</td><td>6.34</td><td>0</td><td>Wo</td><td>7.57</td></tr>\n",
      "<tr><td>16</td><td>Hanguk</td><td>Dong-Shik Kim [playerid=427619248]</td><td></td><td>Y×2</td><td>22.106</td><td>4 시즌   12 주   1 일</td><td>1650</td><td>6</td><td>3</td><td>7</td><td>8</td><td>20</td><td>✔</td><td>1</td><td>3</td><td>3</td><td>6</td><td>4</td><td>7</td><td>12</td><td>756</td><td>2018-10-21 [playerid=427619248]</td><td>5.5</td><td>FW</td><td>410000</td><td>42</td><td>3.54</td><td>5.35</td><td>5.45</td><td>5.21</td><td>5.53</td><td>4.9</td><td>5.15</td><td>4.9</td><td>5.59</td><td>5.14</td><td>6.98</td><td>6.21</td><td>7.28</td><td>0</td><td>FWtw</td><td>7.28</td></tr>\n",
      "<tr><td>25</td><td>Polska</td><td>Pylyp Nagorniak [playerid=406205227]</td><td></td><td></td><td>30.106</td><td>4 시즌   7 주   1 일</td><td>1100</td><td>5</td><td>3</td><td>6</td><td>6</td><td>20</td><td></td><td>1</td><td>6</td><td>6</td><td>3</td><td>6</td><td>3</td><td>11</td><td>611</td><td>2018-10-17 [playerid=406205227]</td><td>4</td><td>IM</td><td>420000</td><td>12</td><td>3.45</td><td>6.06</td><td>5.97</td><td>6.18</td><td>5.89</td><td>6.45</td><td>6.23</td><td>6.45</td><td>5.92</td><td>6.36</td><td>5.09</td><td>5.74</td><td>4.81</td><td>0</td><td>CD</td><td>6.45</td></tr>\n",
      "<tr><td>31</td><td>Hanguk</td><td>Se-Hee Park [playerid=430626797]</td><td></td><td></td><td>22.41</td><td>3 시즌   11 주   1 일</td><td>940</td><td>4</td><td>2</td><td>4</td><td>7</td><td>20</td><td>✔</td><td>1</td><td>2</td><td>5</td><td>5</td><td>3</td><td>7</td><td>9</td><td>718</td><td>2018-10-21 [playerid=430626797]</td><td>3.5</td><td>FW</td><td>390000</td><td>28</td><td>2.3</td><td>3.5</td><td>3.72</td><td>3.68</td><td>3.94</td><td>3.63</td><td>3.52</td><td>4.03</td><td>4.44</td><td>4.63</td><td>5.33</td><td>4.85</td><td>5.34</td><td>0</td><td>FWtw</td><td>5.34</td></tr>\n",
      "<tr><td>34</td><td>Sverige</td><td>Axel Hermansson [playerid=422526443]</td><td></td><td></td><td>32.16</td><td>3 시즌   9 주   0 일</td><td>690</td><td>5</td><td>5</td><td>6</td><td>6</td><td>20</td><td></td><td>2</td><td>6</td><td>6</td><td>2</td><td>6</td><td>2</td><td>9</td><td>604</td><td>2018-09-23 [playerid=422526443]</td><td>4</td><td>IM</td><td>420000</td><td>18</td><td>4.23</td><td>6.07</td><td>5.95</td><td>6.22</td><td>5.85</td><td>6.59</td><td>6.29</td><td>6.59</td><td>5.89</td><td>6.46</td><td>4.8</td><td>5.64</td><td>4.43</td><td>0</td><td>CD</td><td>6.59</td></tr>\n",
      "<tr><td>38</td><td>Latvija</td><td>Artem Skurlatov [playerid=409641598]</td><td></td><td></td><td>30.22</td><td>3 시즌   5 주   4 일</td><td>1530</td><td>5</td><td>5</td><td>5</td><td>6</td><td>20</td><td></td><td>1</td><td>8</td><td>6</td><td>3</td><td>4</td><td>3</td><td>7</td><td>799</td><td>2018-10-14 [playerid=409641598]</td><td>3.5</td><td>CD</td><td>648000</td><td>11</td><td>3.87</td><td>6.88</td><td>6.64</td><td>6.87</td><td>6.41</td><td>7.16</td><td>7.03</td><td>6.87</td><td>5.84</td><td>6.13</td><td>4.68</td><td>5.06</td><td>4.44</td><td>0</td><td>CD</td><td>7.16</td></tr>\n",
      "<tr><td>40</td><td>Perú</td><td>Matías Pichis [playerid=416567166]</td><td></td><td></td><td>25.84</td><td>3 시즌   5 주   0 일</td><td>10170</td><td>6</td><td>2</td><td>8</td><td>7</td><td>20</td><td></td><td>1</td><td>10</td><td>8</td><td>2</td><td>4</td><td>4</td><td>9</td><td>1003</td><td>2018-10-21 [playerid=416567166]</td><td>5.5</td><td>CD</td><td>1764000</td><td>5</td><td>4.92</td><td>9.65</td><td>9.24</td><td>9.77</td><td>8.86</td><td>10.46</td><td>10.03</td><td>10.09</td><td>7.99</td><td>8.93</td><td>6.25</td><td>6.81</td><td>5.62</td><td>0</td><td>CD</td><td>10.46</td></tr>\n",
      "<tr><td>48</td><td>Hanguk</td><td>Dong-Suk Lee [playerid=432205385]</td><td>공 마술사\n",
      "더 많은 정보를 보려면 클릭</td><td></td><td>21.55</td><td>2 시즌   15 주   0 일</td><td>1020</td><td>6</td><td>2</td><td>5</td><td>7</td><td>20</td><td>✔</td><td>1</td><td>5</td><td>4</td><td>5</td><td>6</td><td>5</td><td>6</td><td>615</td><td>2018-10-17 [playerid=432205385]</td><td>4</td><td>FW</td><td>290000</td><td>14</td><td>3.24</td><td>5.39</td><td>5.33</td><td>5.28</td><td>5.28</td><td>5.21</td><td>5.32</td><td>5.06</td><td>5.18</td><td>5</td><td>5.41</td><td>0</td><td>5.47</td><td>5.47</td><td>TDF</td><td>5.47</td></tr>\n",
      "<tr><td>52</td><td>Hanguk</td><td>Seong-Gong Choi [playerid=433454317]</td><td>예측할 수 없음\n",
      "더 많은 정보를 보려면 클릭</td><td></td><td>20.23</td><td>2 시즌   11 주   2 일</td><td>5300</td><td>4</td><td>2</td><td>6</td><td>7</td><td>20</td><td>✔</td><td>1</td><td>7</td><td>7</td><td>7</td><td>4</td><td>5</td><td>7</td><td>778</td><td>2018-10-21 [playerid=433454317]</td><td>4</td><td>CD</td><td>550000</td><td>16</td><td>4.02</td><td>7.72</td><td>7.72</td><td>7.72</td><td>7.72</td><td>7.72</td><td>7.72</td><td>7.72</td><td>7.48</td><td>7.4</td><td>6.58</td><td>6.56</td><td>6.63</td><td>0</td><td>CD</td><td>7.72</td></tr>\n",
      "<tr><td>55</td><td>Hanguk</td><td>Geun-Ho Han [playerid=433728993]</td><td></td><td></td><td>21.25</td><td>2 시즌   8 주   2 일</td><td>1970</td><td>3</td><td>2</td><td>5</td><td>7</td><td>20</td><td>✔</td><td>1</td><td>5</td><td>6</td><td>4</td><td>3</td><td>7</td><td>6</td><td>733</td><td>2018-10-17 [playerid=433728993]</td><td>4</td><td>FW</td><td>410000</td><td>13</td><td>3.26</td><td>5.55</td><td>5.58</td><td>5.69</td><td>5.61</td><td>5.85</td><td>5.67</td><td>6</td><td>5.64</td><td>6.05</td><td>6.09</td><td>5.69</td><td>5.92</td><td>0</td><td>IMd</td><td>6.09</td></tr>\n",
      "<tr><td>61</td><td>Oceania</td><td>Cedrick Williamson [playerid=430364099]</td><td>힘 있음\n",
      "더 많은 정보를 보려면 클릭</td><td></td><td>20.88</td><td>2 시즌   3 주   0 일</td><td>6750</td><td>3</td><td>3</td><td>7</td><td>7</td><td>17</td><td></td><td>1</td><td>8</td><td>5</td><td>7</td><td>7</td><td>2</td><td>7</td><td>883</td><td>2018-10-17 [playerid=430364099]</td><td>4.5</td><td>WB</td><td>708000</td><td>2</td><td>4.26</td><td>8.35</td><td>8.13</td><td>8.03</td><td>7.9</td><td>7.89</td><td>8.2</td><td>7.36</td><td>7.21</td><td>6.54</td><td>5.5</td><td>6.2</td><td>5.72</td><td>0</td><td>WBd</td><td>8.35</td></tr>\n",
      "<tr><td>65</td><td>Hanguk</td><td>Sang-Hyun Yun [playerid=434942107]</td><td></td><td></td><td>19.51</td><td>1 시즌   14 주   2 일</td><td>3050</td><td>3</td><td>1</td><td>7</td><td>6</td><td>20</td><td>✔</td><td>1</td><td>6</td><td>5</td><td>4</td><td>7</td><td>4</td><td>5</td><td>794</td><td>2018-10-17 [playerid=434942107]</td><td>4.5</td><td>W</td><td>390000</td><td>4</td><td>3.47</td><td>6.17</td><td>6.05</td><td>6.14</td><td>5.94</td><td>6.26</td><td>6.22</td><td>6.09</td><td>5.85</td><td>5.95</td><td>5.53</td><td>5.99</td><td>5.4</td><td>0</td><td>CD</td><td>6.26</td></tr>\n",
      "<tr><td>70</td><td>Hanguk</td><td>Min-Gyu Jung [playerid=429263814]</td><td></td><td></td><td>25.17</td><td>1 시즌   9 주   6 일</td><td>5850</td><td>1</td><td>4</td><td>7</td><td>7</td><td>14</td><td></td><td>1</td><td>9</td><td>6</td><td>4</td><td>4</td><td>2</td><td>7</td><td>958</td><td>2018-10-17 [playerid=429263814]</td><td>5</td><td>CD</td><td>1030000</td><td>2</td><td>4.56</td><td>8.74</td><td>8.39</td><td>8.6</td><td>8.04</td><td>8.88</td><td>8.85</td><td>8.34</td><td>7.05</td><td>7.11</td><td>4.99</td><td>5.58</td><td>4.82</td><td>0</td><td>CD</td><td>8.88</td></tr>\n",
      "<tr><td>72</td><td>Hanguk</td><td>Gyeong-Ryeol Kim [playerid=435840503]</td><td></td><td></td><td>19.65</td><td>1 시즌   8 주   2 일</td><td>1310</td><td>3</td><td>1</td><td>4</td><td>6</td><td>20</td><td>✔</td><td>1</td><td>7</td><td>6</td><td>4</td><td>4</td><td>3</td><td>7</td><td>731</td><td>2018-10-10 [playerid=435840503]</td><td>4</td><td>CD</td><td>390000</td><td>0</td><td>2.86</td><td>5.31</td><td>5.19</td><td>5.32</td><td>5.08</td><td>5.48</td><td>5.4</td><td>5.36</td><td>4.78</td><td>4.93</td><td>3.84</td><td>4.13</td><td>3.71</td><td>0</td><td>CD</td><td>5.48</td></tr>\n",
      "<tr><td>78</td><td>Hanguk</td><td>Jung-Oh Han [playerid=433730490]</td><td>공 마술사\n",
      "더 많은 정보를 보려면 클릭</td><td></td><td>21.46</td><td>7 주   6 일</td><td>4510</td><td>4</td><td>2</td><td>6</td><td>7</td><td>8</td><td></td><td>1</td><td>9</td><td>3</td><td>5</td><td>1</td><td>3</td><td>6</td><td>974</td><td>2018-10-17 [playerid=433730490]</td><td>4</td><td>WB</td><td>1270000</td><td>4</td><td>3.6</td><td>7.19</td><td>6.72</td><td>6.67</td><td>6.23</td><td>6.61</td><td>7.02</td><td>5.61</td><td>4.48</td><td>3.77</td><td>3.25</td><td>0</td><td>3.49</td><td>2.84</td><td>WBd</td><td>7.19</td></tr>\n",
      "<tr><td>79</td><td>España</td><td>Jimeno Eguiruren [playerid=415605434]</td><td></td><td>Y×2</td><td>25.102</td><td>5 주   2 일</td><td>24320</td><td>5</td><td>5</td><td>6</td><td>7</td><td>7</td><td></td><td>1</td><td>8</td><td>11</td><td>3</td><td>9</td><td>2</td><td>6</td><td>1095</td><td>2018-10-21 [playerid=415605434]</td><td>6</td><td>IM</td><td>4068000</td><td>22</td><td>3.73</td><td>7.82</td><td>7.84</td><td>8.37</td><td>7.9</td><td>9.07</td><td>8.32</td><td>9.56</td><td>8.6</td><td>9.93</td><td>6.31</td><td>8</td><td>5.55</td><td>0</td><td>IMd</td><td>9.95</td></tr>\n",
      "<tr><td>80</td><td>Andorra</td><td>Joaquim Muntaner [playerid=427020395]</td><td>공 마술사\n",
      "더 많은 정보를 보려면 클릭</td><td></td><td>27.48</td><td>3 주   4 일</td><td>16230</td><td>6</td><td>6</td><td>7</td><td>7</td><td>6</td><td></td><td>1</td><td>9</td><td>6</td><td>8</td><td>7</td><td>4</td><td>10</td><td>1000</td><td>2018-10-21 [playerid=427020395]</td><td>5</td><td>WB</td><td>1260000</td><td>29</td><td>4.35</td><td>9.09</td><td>8.87</td><td>8.76</td><td>8.63</td><td>8.63</td><td>8.93</td><td>8.1</td><td>7.87</td><td>7.22</td><td>6.48</td><td>0</td><td>6.71</td><td>6.92</td><td>WBd</td><td>9.09</td></tr>\n",
      "<tr><td>81</td><td>Hanguk</td><td>Sang-Yong Jang [playerid=433566477]</td><td></td><td></td><td>21.40</td><td>3 주   1 일</td><td>7430</td><td>2</td><td>2</td><td>6</td><td>8</td><td>5</td><td></td><td>1</td><td>9</td><td>6</td><td>6</td><td>5</td><td>4</td><td>5</td><td>928</td><td>2018-10-21 [playerid=433566477]</td><td>4</td><td>WB</td><td>970000</td><td>5</td><td>3.47</td><td>7.64</td><td>7.37</td><td>7.42</td><td>7.1</td><td>7.49</td><td>7.62</td><td>6.99</td><td>6.24</td><td>6</td><td>4.97</td><td>5.19</td><td>5</td><td>0</td><td>WBd</td><td>7.64</td></tr>\n",
      "<tr><td>82</td><td>Hanguk</td><td>Si-Yul SaGong [playerid=438852209]</td><td></td><td>Inj 1</td><td>17.55</td><td>5 일</td><td>920</td><td>4</td><td>1</td><td>6</td><td>5</td><td>20</td><td>✔</td><td>5</td><td>3</td><td>1</td><td>2</td><td>1</td><td>1</td><td>2</td><td>529</td><td>2018-10-21 [playerid=438852209]</td><td>3</td><td>KP</td><td>750000</td><td>0</td><td>4.53</td><td>3.07</td><td>2.95</td><td>2.91</td><td>2.81</td><td>2.87</td><td>3.01</td><td>2.58</td><td>2.35</td><td>2.09</td><td>2.01</td><td>1.96</td><td>2.1</td><td>0</td><td>KP</td><td>4.53</td></tr>\n",
      "<tr><td>83</td><td>Hanguk</td><td>Kwang-Hyun Seo [playerid=434869614]</td><td>예측할 수 없음\n",
      "더 많은 정보를 보려면 클릭</td><td></td><td>20.37</td><td>2 일</td><td>2580</td><td>2</td><td>1</td><td>6</td><td>7</td><td>2</td><td></td><td>1</td><td>8</td><td>5</td><td>4</td><td>5</td><td>4</td><td>2</td><td>803</td><td>2018-10-14 [playerid=434869614]</td><td>4</td><td>CD</td><td>390000</td><td>9</td><td>2.64</td><td>5.94</td><td>5.65</td><td>5.77</td><td>5.36</td><td>5.93</td><td>5.97</td><td>5.44</td><td>4.61</td><td>4.6</td><td>3.87</td><td>4.09</td><td>3.77</td><td>0</td><td>CDtw</td><td>5.97</td></tr>\n",
      "<tr><td>98</td><td>Hanguk</td><td>Ji-Ho Yun [playerid=438901894]</td><td></td><td></td><td>18.64</td><td>2 일</td><td>630</td><td>2</td><td>1</td><td>6</td><td>5</td><td>20</td><td>✔</td><td>4</td><td>2</td><td>1</td><td>1</td><td>1</td><td>1</td><td>4</td><td>484</td><td></td><td></td><td></td><td>570000</td><td>0</td><td>3.77</td><td>2.43</td><td>2.36</td><td>2.37</td><td>2.28</td><td>2.39</td><td>2.43</td><td>2.25</td><td>2.05</td><td>2</td><td>1.91</td><td>1.91</td><td>1.91</td><td>0</td><td>KP</td><td>3.77</td></tr>\n",
      "<tr><td>99</td><td>Danmark</td><td>Torben Boesen [playerid=321795066] 코치</td><td>헤딩\n",
      "더 많은 정보를 보려면 클릭</td><td></td><td>41.39</td><td>6 주   1 일</td><td>70</td><td>5</td><td>13</td><td>5</td><td>2</td><td>7</td><td></td><td>0</td><td>8</td><td>0</td><td>3</td><td>0</td><td>0</td><td>0</td><td>780</td><td>2018-06-06 [playerid=321795066]</td><td>4</td><td>WB</td><td>396000</td><td>79</td><td>2.26</td><td>4.24</td><td>3.85</td><td>3.8</td><td>3.45</td><td>3.73</td><td>4.09</td><td>2.9</td><td>2.13</td><td>1.5</td><td>1.19</td><td>1.1</td><td>1.39</td><td>0</td><td>WBd</td><td>4.24</td></tr>\n",
      "</table>\n"
     ]
    }
   ],
   "source": [
    "p.read_line_list(folder + '/player.html')\n",
    "p.print_line_list()"
   ]
  },
  {
   "cell_type": "code",
   "execution_count": 30,
   "metadata": {},
   "outputs": [
    {
     "name": "stdout",
     "output_type": "stream",
     "text": [
      "['Number', 'Nat', 'Player', 'PlayerID', 'Special', 'Stat', 'Age', 'Since', 'TSI', 'LS', 'XP', 'Fo', 'Stm', 'Lo', 'MB', 'KP', 'DF', 'PM', 'WI', 'PS', 'SC', 'SP', 'Psico', 'Last', 'Rt', 'Pos', 'Wage', 'G', 'KPPos', 'WBdPos', 'WBPos', 'WBtmPos', 'WBoPos', 'CDPos', 'CDtwPos', 'CDoPos', 'WPos', 'IMPos', 'FWPos', 'FWdPos', 'FWtwPos', 'TDFPos', 'BPo', 'BPoV']\n",
      "['Number', 'Nat', 'Player', 'PlayerID', 'Special', 'Stat', 'Age', 'Since', 'TSI', 'LS', 'XP', 'Fo', 'Stm', 'Lo', 'FALSE', 'KP', 'DF', 'PM', 'WI', 'PS', 'SC', 'SP', 'Psico', 'Last', 'Rt', 'Pos', 'Wage', 'G', 'KPPos', 'WBdPos', 'WBPos', 'WBtmPos', 'WBoPos', 'CDPos', 'CDtwPos', 'CDoPos', 'WPos', 'IMPos', 'FWPos', 'FWdPos', 'FWtwPos', 'TDFPos', 'BPo', 'BPoV']\n",
      "['2', 'Hanguk', 'Jee-Hoon Kim', '428709461', '', '', '23.7', '4 시즌 4 주 1 일', '55750', '3', '2', '7', '8', '20', 'TRUE', '15', '5', '1', '1', '1', '2', '10', '1496', '2018-10-21', '8', 'KP', '19050000', '0', '13.4', '5.37', '4.99', '5.06', '4.59', '5.15', '5.34', '4.43', '3.47', '3.26', '3.17', '2.98', '3.16', '0', 'KP', '13.4']\n",
      "['4', 'Hanguk', 'Ji-Woon Lee', '427619236', '', '', '23.48', '4 시즌 12 주 1 일', '1300', '5', '3', '8', '8', '20', 'TRUE', '1', '7', '4', '3', '5', '2', '9', '728', '2018-10-17', '4.5', 'CD', '390000', '26', '4.81', '7.92', '7.59', '7.72', '7.26', '7.91', '7.96', '7.35', '6.48', '6.43', '5.29', '5.87', '5.17', '0', 'CDtw', '7.96']\n",
      "['6', 'Hanguk', 'Jae-Shin Cha', '427619238', '', 'Y×2', '31.29', '4 시즌 12 주 1 일', '430', '5', '6', '4', '6', '20', 'TRUE', '1', '7', '3', '6', '3', '1', '11', '704', '2018-10-21', '3.5', 'WB', '350000', '24', '3.64', '6.02', '5.82', '5.7', '5.6', '5.54', '5.86', '5.02', '4.76', '4.09', '3.51', '3.66', '3.77', '0', 'WBd', '6.02']\n",
      "['8', 'Hanguk', 'Hong-Chan Son', '427619240', '', 'Y×1', '25.89', '4 시즌 12 주 1 일', '1140', '5', '4', '6', '7', '20', 'TRUE', '1', '5', '6', '5', '5', '1', '10', '637', '2018-10-21', '4.5', 'W', '310000', '8', '3.92', '6.56', '6.62', '6.68', '6.69', '6.75', '6.63', '6.92', '6.88', '6.95', '5.23', '6.02', '5.17', '0', 'IMtw', '7.03']\n",
      "['10', 'Hanguk', 'Kwang-Eul Jeon', '427619242', '', 'Y×1', '27.95', '4 시즌 12 주 1 일', '1460', '4', '5', '6', '7', '20', 'TRUE', '1', '6', '7', '3', '3', '2', '11', '752', '2018-10-21', '4.5', 'IM', '430000', '18', '4.24', '7.06', '7.03', '7.3', '7.01', '7.66', '7.31', '7.82', '6.99', '7.59', '5.41', '5.98', '5.07', '0', 'Cdo', '7.82']\n",
      "['11', 'Hanguk', 'Kwang-Hwan Yun', '427619243', '', 'Y×1', '30.62', '4 시즌 12 주 1 일', '500', '6', '5', '6', '6', '20', 'TRUE', '2', '5', '6', '2', '5', '2', '10', '612', '2018-10-21', '4', 'W', '310000', '14', '4.47', '6.01', '5.98', '6.24', '5.96', '6.59', '6.25', '6.75', '6.17', '6.81', '5.17', '5.9', '4.8', '0', 'IMd', '6.84']\n",
      "['12', 'Hanguk', 'Chan-Myung Lee', '427619244', '', 'Y×2', '29.71', '4 시즌 12 주 1 일', '780', '3', '5', '8', '6', '20', 'TRUE', '1', '3', '7', '3', '4', '3', '10', '724', '2018-10-17', '5', 'IM', '390000', '9', '3.83', '5.81', '6.06', '6.3', '6.34', '6.63', '6.1', '7.34', '7.24', '8.13', '6.48', '7.05', '6.1', '0', 'IMo', '8.17']\n",
      "['13', 'Hanguk', 'Sung-Kook Han', '427619245', 'Technical', '', '25.59', '4 시즌 12 주 1 일', '970', '2', '4', '3', '7', '20', 'TRUE', '1', '5', '6', '6', '5', '2', '10', '639', '2018-10-21', '3', 'W', '330000', '25', '2.76', '4.72', '4.78', '4.77', '4.84', '4.75', '4.72', '4.87', '4.97', '4.91', '4.01', '0', '4.04', '4.42', 'IMtw', '5.01']\n",
      "['15', 'Hanguk', 'Man-Ok Lee', '427619247', 'Unpredictable', 'Y×1', '27.0', '4 시즌 12 주 1 일', '2160', '5', '4', '7', '7', '20', 'TRUE', '1', '5', '5', '7', '6', '2', '10', '747', '2018-10-17', '5', 'W', '350000', '13', '4.2', '7.18', '7.24', '7.09', '7.3', '6.88', '7.05', '6.88', '7.37', '6.87', '6.1', '6.67', '6.34', '0', 'Wo', '7.57']\n",
      "['16', 'Hanguk', 'Dong-Shik Kim', '427619248', '', 'Y×2', '22.106', '4 시즌 12 주 1 일', '1650', '6', '3', '7', '8', '20', 'TRUE', '1', '3', '3', '6', '4', '7', '12', '756', '2018-10-21', '5.5', 'FW', '410000', '42', '3.54', '5.35', '5.45', '5.21', '5.53', '4.9', '5.15', '4.9', '5.59', '5.14', '6.98', '6.21', '7.28', '0', 'FWtw', '7.28']\n",
      "['25', 'Polska', 'Pylyp Nagorniak', '406205227', '', '', '30.106', '4 시즌 7 주 1 일', '1100', '5', '3', '6', '6', '20', 'FALSE', '1', '6', '6', '3', '6', '3', '11', '611', '2018-10-17', '4', 'IM', '420000', '12', '3.45', '6.06', '5.97', '6.18', '5.89', '6.45', '6.23', '6.45', '5.92', '6.36', '5.09', '5.74', '4.81', '0', 'CD', '6.45']\n",
      "['31', 'Hanguk', 'Se-Hee Park', '430626797', '', '', '22.41', '3 시즌 11 주 1 일', '940', '4', '2', '4', '7', '20', 'TRUE', '1', '2', '5', '5', '3', '7', '9', '718', '2018-10-21', '3.5', 'FW', '390000', '28', '2.3', '3.5', '3.72', '3.68', '3.94', '3.63', '3.52', '4.03', '4.44', '4.63', '5.33', '4.85', '5.34', '0', 'FWtw', '5.34']\n",
      "['34', 'Sverige', 'Axel Hermansson', '422526443', '', '', '32.16', '3 시즌 9 주 0 일', '690', '5', '5', '6', '6', '20', 'FALSE', '2', '6', '6', '2', '6', '2', '9', '604', '2018-09-23', '4', 'IM', '420000', '18', '4.23', '6.07', '5.95', '6.22', '5.85', '6.59', '6.29', '6.59', '5.89', '6.46', '4.8', '5.64', '4.43', '0', 'CD', '6.59']\n",
      "['38', 'Latvija', 'Artem Skurlatov', '409641598', '', '', '30.22', '3 시즌 5 주 4 일', '1530', '5', '5', '5', '6', '20', 'FALSE', '1', '8', '6', '3', '4', '3', '7', '799', '2018-10-14', '3.5', 'CD', '648000', '11', '3.87', '6.88', '6.64', '6.87', '6.41', '7.16', '7.03', '6.87', '5.84', '6.13', '4.68', '5.06', '4.44', '0', 'CD', '7.16']\n",
      "['40', 'Perú', 'Matías Pichis', '416567166', '', '', '25.84', '3 시즌 5 주 0 일', '10170', '6', '2', '8', '7', '20', 'FALSE', '1', '10', '8', '2', '4', '4', '9', '1003', '2018-10-21', '5.5', 'CD', '1764000', '5', '4.92', '9.65', '9.24', '9.77', '8.86', '10.46', '10.03', '10.09', '7.99', '8.93', '6.25', '6.81', '5.62', '0', 'CD', '10.46']\n",
      "['48', 'Hanguk', 'Dong-Suk Lee', '432205385', 'Technical', '', '21.55', '2 시즌 15 주 0 일', '1020', '6', '2', '5', '7', '20', 'TRUE', '1', '5', '4', '5', '6', '5', '6', '615', '2018-10-17', '4', 'FW', '290000', '14', '3.24', '5.39', '5.33', '5.28', '5.28', '5.21', '5.32', '5.06', '5.18', '5', '5.41', '0', '5.47', '5.47', 'TDF', '5.47']\n",
      "['52', 'Hanguk', 'Seong-Gong Choi', '433454317', 'Unpredictable', '', '20.23', '2 시즌 11 주 2 일', '5300', '4', '2', '6', '7', '20', 'TRUE', '1', '7', '7', '7', '4', '5', '7', '778', '2018-10-21', '4', 'CD', '550000', '16', '4.02', '7.72', '7.72', '7.72', '7.72', '7.72', '7.72', '7.72', '7.48', '7.4', '6.58', '6.56', '6.63', '0', 'CD', '7.72']\n",
      "['55', 'Hanguk', 'Geun-Ho Han', '433728993', '', '', '21.25', '2 시즌 8 주 2 일', '1970', '3', '2', '5', '7', '20', 'TRUE', '1', '5', '6', '4', '3', '7', '6', '733', '2018-10-17', '4', 'FW', '410000', '13', '3.26', '5.55', '5.58', '5.69', '5.61', '5.85', '5.67', '6', '5.64', '6.05', '6.09', '5.69', '5.92', '0', 'IMd', '6.09']\n",
      "['61', 'Oceania', 'Cedrick Williamson', '430364099', 'Powerful', '', '20.88', '2 시즌 3 주 0 일', '6750', '3', '3', '7', '7', '17', 'FALSE', '1', '8', '5', '7', '7', '2', '7', '883', '2018-10-17', '4.5', 'WB', '708000', '2', '4.26', '8.35', '8.13', '8.03', '7.9', '7.89', '8.2', '7.36', '7.21', '6.54', '5.5', '6.2', '5.72', '0', 'WBd', '8.35']\n",
      "['65', 'Hanguk', 'Sang-Hyun Yun', '434942107', '', '', '19.51', '1 시즌 14 주 2 일', '3050', '3', '1', '7', '6', '20', 'TRUE', '1', '6', '5', '4', '7', '4', '5', '794', '2018-10-17', '4.5', 'W', '390000', '4', '3.47', '6.17', '6.05', '6.14', '5.94', '6.26', '6.22', '6.09', '5.85', '5.95', '5.53', '5.99', '5.4', '0', 'CD', '6.26']\n",
      "['70', 'Hanguk', 'Min-Gyu Jung', '429263814', '', '', '25.17', '1 시즌 9 주 6 일', '5850', '1', '4', '7', '7', '14', 'FALSE', '1', '9', '6', '4', '4', '2', '7', '958', '2018-10-17', '5', 'CD', '1030000', '2', '4.56', '8.74', '8.39', '8.6', '8.04', '8.88', '8.85', '8.34', '7.05', '7.11', '4.99', '5.58', '4.82', '0', 'CD', '8.88']\n",
      "['72', 'Hanguk', 'Gyeong-Ryeol Kim', '435840503', '', '', '19.65', '1 시즌 8 주 2 일', '1310', '3', '1', '4', '6', '20', 'TRUE', '1', '7', '6', '4', '4', '3', '7', '731', '2018-10-10', '4', 'CD', '390000', '0', '2.86', '5.31', '5.19', '5.32', '5.08', '5.48', '5.4', '5.36', '4.78', '4.93', '3.84', '4.13', '3.71', '0', 'CD', '5.48']\n",
      "['78', 'Hanguk', 'Jung-Oh Han', '433730490', 'Technical', '', '21.46', '7 주 6 일', '4510', '4', '2', '6', '7', '8', 'FALSE', '1', '9', '3', '5', '1', '3', '6', '974', '2018-10-17', '4', 'WB', '1270000', '4', '3.6', '7.19', '6.72', '6.67', '6.23', '6.61', '7.02', '5.61', '4.48', '3.77', '3.25', '0', '3.49', '2.84', 'WBd', '7.19']\n",
      "['79', 'España', 'Jimeno Eguiruren', '415605434', '', 'Y×2', '25.102', '5 주 2 일', '24320', '5', '5', '6', '7', '7', 'FALSE', '1', '8', '11', '3', '9', '2', '6', '1095', '2018-10-21', '6', 'IM', '4068000', '22', '3.73', '7.82', '7.84', '8.37', '7.9', '9.07', '8.32', '9.56', '8.6', '9.93', '6.31', '8', '5.55', '0', 'IMd', '9.95']\n",
      "['80', 'Andorra', 'Joaquim Muntaner', '427020395', 'Technical', '', '27.48', '3 주 4 일', '16230', '6', '6', '7', '7', '6', 'FALSE', '1', '9', '6', '8', '7', '4', '10', '1000', '2018-10-21', '5', 'WB', '1260000', '29', '4.35', '9.09', '8.87', '8.76', '8.63', '8.63', '8.93', '8.1', '7.87', '7.22', '6.48', '0', '6.71', '6.92', 'WBd', '9.09']\n",
      "['81', 'Hanguk', 'Sang-Yong Jang', '433566477', '', '', '21.40', '3 주 1 일', '7430', '2', '2', '6', '8', '5', 'FALSE', '1', '9', '6', '6', '5', '4', '5', '928', '2018-10-21', '4', 'WB', '970000', '5', '3.47', '7.64', '7.37', '7.42', '7.1', '7.49', '7.62', '6.99', '6.24', '6', '4.97', '5.19', '5', '0', 'WBd', '7.64']\n",
      "['82', 'Hanguk', 'Si-Yul Sa', '438852209', '', 'Inj 1', '17.55', '5 일', '920', '4', '1', '6', '5', '20', 'TRUE', '5', '3', '1', '2', '1', '1', '2', '529', '2018-10-21', '3', 'KP', '750000', '0', '4.53', '3.07', '2.95', '2.91', '2.81', '2.87', '3.01', '2.58', '2.35', '2.09', '2.01', '1.96', '2.1', '0', 'KP', '4.53']\n",
      "['83', 'Hanguk', 'Kwang-Hyun Seo', '434869614', 'Unpredictable', '', '20.37', '2 일', '2580', '2', '1', '6', '7', '2', 'FALSE', '1', '8', '5', '4', '5', '4', '2', '803', '2018-10-14', '4', 'CD', '390000', '9', '2.64', '5.94', '5.65', '5.77', '5.36', '5.93', '5.97', '5.44', '4.61', '4.6', '3.87', '4.09', '3.77', '0', 'CDtw', '5.97']\n",
      "['98', 'Hanguk', 'Ji-Ho Yun', '438901894', '', '', '18.64', '2 일', '630', '2', '1', '6', '5', '20', 'TRUE', '4', '2', '1', '1', '1', '1', '4', '484', '', '', '', '570000', '0', '3.77', '2.43', '2.36', '2.37', '2.28', '2.39', '2.43', '2.25', '2.05', '2', '1.91', '1.91', '1.91', '0', 'KP', '3.77']\n",
      "['99', 'Danmark', 'Torben Boesen', '321795066', 'Head', '', '41.39', '6 주 1 일', '70', '5', '13', '5', '2', '7', 'FALSE', '0', '8', '0', '3', '0', '0', '0', '780', '2018-06-06', '4', 'WB', '396000', '79', '2.26', '4.24', '3.85', '3.8', '3.45', '3.73', '4.09', '2.9', '2.13', '1.5', '1.19', '1.1', '1.39', '0', 'WBd', '4.24']\n"
     ]
    }
   ],
   "source": [
    "p.write_line_list(folder + '/player.html')\n",
    "p.modify_line_list(folder + '/player.html')\n",
    "p.print_df_cols()\n",
    "p.print_df()"
   ]
  },
  {
   "cell_type": "code",
   "execution_count": 31,
   "metadata": {
    "collapsed": true
   },
   "outputs": [],
   "source": [
    "p.save_df(folder + '/player.csv')"
   ]
  },
  {
   "cell_type": "code",
   "execution_count": 32,
   "metadata": {},
   "outputs": [
    {
     "name": "stdout",
     "output_type": "stream",
     "text": [
      "44\tNumber\n",
      "44\t2\n",
      "44\t4\n",
      "44\t6\n",
      "44\t8\n",
      "44\t10\n",
      "44\t11\n",
      "44\t12\n",
      "44\t13\n",
      "44\t15\n",
      "44\t16\n",
      "44\t25\n",
      "44\t31\n",
      "44\t34\n",
      "44\t38\n",
      "44\t40\n",
      "44\t48\n",
      "44\t52\n",
      "44\t55\n",
      "44\t61\n",
      "44\t65\n",
      "44\t70\n",
      "44\t72\n",
      "44\t78\n",
      "44\t79\n",
      "44\t80\n",
      "44\t81\n",
      "44\t82\n",
      "44\t83\n",
      "44\t98\n",
      "44\t99\n"
     ]
    }
   ],
   "source": [
    "with open(folder + '/player.csv', 'r', encoding='utf-8') as f:\n",
    "    for line in f:\n",
    "        col = line.split(\",\")\n",
    "        print(len(col), col[0], sep=\"\\t\" ) # len = 42 -> 44"
   ]
  },
  {
   "cell_type": "code",
   "execution_count": 33,
   "metadata": {},
   "outputs": [
    {
     "name": "stdout",
     "output_type": "stream",
     "text": [
      "2018/10/21/player.html\t : will be removed\n",
      "2018/10/21/player.html\t : is not existed\n"
     ]
    }
   ],
   "source": [
    "HattrickFile.check_and_delete_file(folder + '/player.html')"
   ]
  },
  {
   "cell_type": "code",
   "execution_count": 34,
   "metadata": {
    "collapsed": true
   },
   "outputs": [],
   "source": [
    "import psycopg2"
   ]
  },
  {
   "cell_type": "code",
   "execution_count": 35,
   "metadata": {},
   "outputs": [
    {
     "name": "stdout",
     "output_type": "stream",
     "text": [
      "<connection object at 0x7f1e5eb149c8; dsn: 'user=myuser password=xxx dbname=mydatabase host=localhost port=65432', closed: 0>\n"
     ]
    }
   ],
   "source": [
    "conn = psycopg2.connect(\"dbname='mydatabase' user='myuser' host='localhost' port='65432' password='123qwe'\")\n",
    "print(conn)"
   ]
  },
  {
   "cell_type": "code",
   "execution_count": 36,
   "metadata": {
    "collapsed": true
   },
   "outputs": [],
   "source": [
    "ht_player_pg = HattrickPlayerPostgreSQL()\n",
    "ht_player_table_name = 'player_tmp'"
   ]
  },
  {
   "cell_type": "code",
   "execution_count": 37,
   "metadata": {},
   "outputs": [
    {
     "data": {
      "text/plain": [
       "3173"
      ]
     },
     "execution_count": 37,
     "metadata": {},
     "output_type": "execute_result"
    }
   ],
   "source": [
    "ht_player_pg.select_count_player(conn, ht_player_table_name)"
   ]
  },
  {
   "cell_type": "code",
   "execution_count": null,
   "metadata": {
    "collapsed": true
   },
   "outputs": [],
   "source": [
    "import csv\n",
    "with open(folder + '/player.csv', 'r', encoding='utf-8') as f:\n",
    "    reader = csv.reader(f, delimiter=',')\n",
    "    for row in reader:\n",
    "        if row[0] != \"Number\" :\n",
    "            ht_player_pg.insert_player(conn, ht_player_table_name, folder.replace('/', '-'), row)"
   ]
  },
  {
   "cell_type": "code",
   "execution_count": 38,
   "metadata": {
    "collapsed": true
   },
   "outputs": [],
   "source": [
    "import csv\n",
    "with open(folder + '/player.csv', 'r', encoding='utf-8') as f:\n",
    "    reader = csv.reader(f, delimiter=',')\n",
    "    for row in reader:\n",
    "        if row[0] != \"Number\" :\n",
    "            ht_player_pg.insert_player_tmp(conn, ht_player_table_name, folder.replace('/', '-'), row)"
   ]
  },
  {
   "cell_type": "code",
   "execution_count": 39,
   "metadata": {},
   "outputs": [
    {
     "data": {
      "text/plain": [
       "3203"
      ]
     },
     "execution_count": 39,
     "metadata": {},
     "output_type": "execute_result"
    }
   ],
   "source": [
    "ht_player_pg.select_count_player(conn, ht_player_table_name)"
   ]
  },
  {
   "cell_type": "code",
   "execution_count": 40,
   "metadata": {},
   "outputs": [
    {
     "name": "stdout",
     "output_type": "stream",
     "text": [
      "2018-10-21,2,Jee-Hoon Kim,,,23.7,4 시즌 4 주 1 일,55750,3,2,7,8,20,True,15,5,1,1,1,2,10,1496,2018-10-21,8.0,KP,19050000,0,13.40,5.37,4.99,5.06,5.15,5.34,4.43,3.47,3.26,3.17,2.98,3.16,0.00,KP,13.4\n",
      "2018-10-21,4,Ji-Woon Lee,,,23.48,4 시즌 12 주 1 일,1300,5,3,8,8,20,True,1,7,4,3,5,2,9,728,2018-10-17,4.5,CD,390000,26,4.81,7.92,7.59,7.72,7.91,7.96,7.35,6.48,6.43,5.29,5.87,5.17,0.00,CDtw,7.96\n",
      "2018-10-21,6,Jae-Shin Cha,,Y×2,31.29,4 시즌 12 주 1 일,430,5,6,4,6,20,True,1,7,3,6,3,1,11,704,2018-10-21,3.5,WB,350000,24,3.64,6.02,5.82,5.70,5.54,5.86,5.02,4.76,4.09,3.51,3.66,3.77,0.00,WBd,6.02\n",
      "2018-10-21,8,Hong-Chan Son,,Y×1,25.89,4 시즌 12 주 1 일,1140,5,4,6,7,20,True,1,5,6,5,5,1,10,637,2018-10-21,4.5,W,310000,8,3.92,6.56,6.62,6.68,6.75,6.63,6.92,6.88,6.95,5.23,6.02,5.17,0.00,IMtw,7.03\n",
      "2018-10-21,10,Kwang-Eul Jeon,,Y×1,27.95,4 시즌 12 주 1 일,1460,4,5,6,7,20,True,1,6,7,3,3,2,11,752,2018-10-21,4.5,IM,430000,18,4.24,7.06,7.03,7.30,7.66,7.31,7.82,6.99,7.59,5.41,5.98,5.07,0.00,Cdo,7.82\n",
      "2018-10-21,11,Kwang-Hwan Yun,,Y×1,30.62,4 시즌 12 주 1 일,500,6,5,6,6,20,True,2,5,6,2,5,2,10,612,2018-10-21,4.0,W,310000,14,4.47,6.01,5.98,6.24,6.59,6.25,6.75,6.17,6.81,5.17,5.90,4.80,0.00,IMd,6.84\n",
      "2018-10-21,12,Chan-Myung Lee,,Y×2,29.71,4 시즌 12 주 1 일,780,3,5,8,6,20,True,1,3,7,3,4,3,10,724,2018-10-17,5.0,IM,390000,9,3.83,5.81,6.06,6.30,6.63,6.10,7.34,7.24,8.13,6.48,7.05,6.10,0.00,IMo,8.17\n",
      "2018-10-21,13,Sung-Kook Han,Technical,,25.59,4 시즌 12 주 1 일,970,2,4,3,7,20,True,1,5,6,6,5,2,10,639,2018-10-21,3.0,W,330000,25,2.76,4.72,4.78,4.77,4.75,4.72,4.87,4.97,4.91,4.01,0.00,4.04,4.42,IMtw,5.01\n",
      "2018-10-21,15,Man-Ok Lee,Unpredictable,Y×1,27.0,4 시즌 12 주 1 일,2160,5,4,7,7,20,True,1,5,5,7,6,2,10,747,2018-10-17,5.0,W,350000,13,4.20,7.18,7.24,7.09,6.88,7.05,6.88,7.37,6.87,6.10,6.67,6.34,0.00,Wo,7.57\n",
      "2018-10-21,16,Dong-Shik Kim,,Y×2,22.106,4 시즌 12 주 1 일,1650,6,3,7,8,20,True,1,3,3,6,4,7,12,756,2018-10-21,5.5,FW,410000,42,3.54,5.35,5.45,5.21,4.90,5.15,4.90,5.59,5.14,6.98,6.21,7.28,0.00,FWtw,7.28\n",
      "2018-10-21,25,Pylyp Nagorniak,,,30.106,4 시즌 7 주 1 일,1100,5,3,6,6,20,False,1,6,6,3,6,3,11,611,2018-10-17,4.0,IM,420000,12,3.45,6.06,5.97,6.18,6.45,6.23,6.45,5.92,6.36,5.09,5.74,4.81,0.00,CD,6.45\n",
      "2018-10-21,31,Se-Hee Park,,,22.41,3 시즌 11 주 1 일,940,4,2,4,7,20,True,1,2,5,5,3,7,9,718,2018-10-21,3.5,FW,390000,28,2.30,3.50,3.72,3.68,3.63,3.52,4.03,4.44,4.63,5.33,4.85,5.34,0.00,FWtw,5.34\n",
      "2018-10-21,34,Axel Hermansson,,,32.16,3 시즌 9 주 0 일,690,5,5,6,6,20,False,2,6,6,2,6,2,9,604,2018-09-23,4.0,IM,420000,18,4.23,6.07,5.95,6.22,6.59,6.29,6.59,5.89,6.46,4.80,5.64,4.43,0.00,CD,6.59\n",
      "2018-10-21,38,Artem Skurlatov,,,30.22,3 시즌 5 주 4 일,1530,5,5,5,6,20,False,1,8,6,3,4,3,7,799,2018-10-14,3.5,CD,648000,11,3.87,6.88,6.64,6.87,7.16,7.03,6.87,5.84,6.13,4.68,5.06,4.44,0.00,CD,7.16\n",
      "2018-10-21,40,Matías Pichis,,,25.84,3 시즌 5 주 0 일,10170,6,2,8,7,20,False,1,10,8,2,4,4,9,1003,2018-10-21,5.5,CD,1764000,5,4.92,9.65,9.24,9.77,10.46,10.03,10.09,7.99,8.93,6.25,6.81,5.62,0.00,CD,10.46\n",
      "2018-10-21,48,Dong-Suk Lee,Technical,,21.55,2 시즌 15 주 0 일,1020,6,2,5,7,20,True,1,5,4,5,6,5,6,615,2018-10-17,4.0,FW,290000,14,3.24,5.39,5.33,5.28,5.21,5.32,5.06,5.18,5.00,5.41,0.00,5.47,5.47,TDF,5.47\n",
      "2018-10-21,52,Seong-Gong Choi,Unpredictable,,20.23,2 시즌 11 주 2 일,5300,4,2,6,7,20,True,1,7,7,7,4,5,7,778,2018-10-21,4.0,CD,550000,16,4.02,7.72,7.72,7.72,7.72,7.72,7.72,7.48,7.40,6.58,6.56,6.63,0.00,CD,7.72\n",
      "2018-10-21,55,Geun-Ho Han,,,21.25,2 시즌 8 주 2 일,1970,3,2,5,7,20,True,1,5,6,4,3,7,6,733,2018-10-17,4.0,FW,410000,13,3.26,5.55,5.58,5.69,5.85,5.67,6.00,5.64,6.05,6.09,5.69,5.92,0.00,IMd,6.09\n",
      "2018-10-21,61,Cedrick Williamson,Powerful,,20.88,2 시즌 3 주 0 일,6750,3,3,7,7,17,False,1,8,5,7,7,2,7,883,2018-10-17,4.5,WB,708000,2,4.26,8.35,8.13,8.03,7.89,8.20,7.36,7.21,6.54,5.50,6.20,5.72,0.00,WBd,8.35\n",
      "2018-10-21,65,Sang-Hyun Yun,,,19.51,1 시즌 14 주 2 일,3050,3,1,7,6,20,True,1,6,5,4,7,4,5,794,2018-10-17,4.5,W,390000,4,3.47,6.17,6.05,6.14,6.26,6.22,6.09,5.85,5.95,5.53,5.99,5.40,0.00,CD,6.26\n",
      "2018-10-21,70,Min-Gyu Jung,,,25.17,1 시즌 9 주 6 일,5850,1,4,7,7,14,False,1,9,6,4,4,2,7,958,2018-10-17,5.0,CD,1030000,2,4.56,8.74,8.39,8.60,8.88,8.85,8.34,7.05,7.11,4.99,5.58,4.82,0.00,CD,8.88\n",
      "2018-10-21,72,Gyeong-Ryeol Kim,,,19.65,1 시즌 8 주 2 일,1310,3,1,4,6,20,True,1,7,6,4,4,3,7,731,2018-10-10,4.0,CD,390000,0,2.86,5.31,5.19,5.32,5.48,5.40,5.36,4.78,4.93,3.84,4.13,3.71,0.00,CD,5.48\n",
      "2018-10-21,78,Jung-Oh Han,Technical,,21.46,7 주 6 일,4510,4,2,6,7,8,False,1,9,3,5,1,3,6,974,2018-10-17,4.0,WB,1270000,4,3.60,7.19,6.72,6.67,6.61,7.02,5.61,4.48,3.77,3.25,0.00,3.49,2.84,WBd,7.19\n",
      "2018-10-21,79,Jimeno Eguiruren,,Y×2,25.102,5 주 2 일,24320,5,5,6,7,7,False,1,8,11,3,9,2,6,1095,2018-10-21,6.0,IM,4068000,22,3.73,7.82,7.84,8.37,9.07,8.32,9.56,8.60,9.93,6.31,8.00,5.55,0.00,IMd,9.95\n",
      "2018-10-21,80,Joaquim Muntaner,Technical,,27.48,3 주 4 일,16230,6,6,7,7,6,False,1,9,6,8,7,4,10,1000,2018-10-21,5.0,WB,1260000,29,4.35,9.09,8.87,8.76,8.63,8.93,8.10,7.87,7.22,6.48,0.00,6.71,6.92,WBd,9.09\n",
      "2018-10-21,81,Sang-Yong Jang,,,21.40,3 주 1 일,7430,2,2,6,8,5,False,1,9,6,6,5,4,5,928,2018-10-21,4.0,WB,970000,5,3.47,7.64,7.37,7.42,7.49,7.62,6.99,6.24,6.00,4.97,5.19,5.00,0.00,WBd,7.64\n",
      "2018-10-21,82,Si-Yul Sa,,Inj 1,17.55,5 일,920,4,1,6,5,20,True,5,3,1,2,1,1,2,529,2018-10-21,3.0,KP,750000,0,4.53,3.07,2.95,2.91,2.87,3.01,2.58,2.35,2.09,2.01,1.96,2.10,0.00,KP,4.53\n",
      "2018-10-21,83,Kwang-Hyun Seo,Unpredictable,,20.37,2 일,2580,2,1,6,7,2,False,1,8,5,4,5,4,2,803,2018-10-14,4.0,CD,390000,9,2.64,5.94,5.65,5.77,5.93,5.97,5.44,4.61,4.60,3.87,4.09,3.77,0.00,CDtw,5.97\n",
      "2018-10-21,98,Ji-Ho Yun,,,18.64,2 일,630,2,1,6,5,20,True,4,2,1,1,1,1,4,484,0001-01-01,0.0,,570000,0,3.77,2.43,2.36,2.37,2.39,2.43,2.25,2.05,2.00,1.91,1.91,1.91,0.00,KP,3.77\n",
      "2018-10-21,99,Torben Boesen,Head,,41.39,6 주 1 일,70,5,13,5,2,7,False,0,8,0,3,0,0,0,780,2018-06-06,4.0,WB,396000,79,2.26,4.24,3.85,3.80,3.73,4.09,2.90,2.13,1.50,1.19,1.10,1.39,0.00,WBd,4.24\n"
     ]
    }
   ],
   "source": [
    "tuple_list = ht_player_pg.select_player(conn, ht_player_table_name, folder)\n",
    "ht_player_pg.print(tuple_list)"
   ]
  },
  {
   "cell_type": "code",
   "execution_count": 41,
   "metadata": {},
   "outputs": [
    {
     "data": {
      "text/plain": [
       "<connection object at 0x7f1e5eb149c8; dsn: 'user=myuser password=xxx dbname=mydatabase host=localhost port=65432', closed: 1>"
      ]
     },
     "execution_count": 41,
     "metadata": {},
     "output_type": "execute_result"
    }
   ],
   "source": [
    "conn.close()\n",
    "conn"
   ]
  },
  {
   "cell_type": "code",
   "execution_count": 42,
   "metadata": {
    "collapsed": true
   },
   "outputs": [],
   "source": [
    "conn = None\n",
    "conn"
   ]
  },
  {
   "cell_type": "code",
   "execution_count": null,
   "metadata": {
    "collapsed": true
   },
   "outputs": [],
   "source": []
  }
 ],
 "metadata": {
  "kernelspec": {
   "display_name": "Python 3",
   "language": "python",
   "name": "python3"
  },
  "language_info": {
   "codemirror_mode": {
    "name": "ipython",
    "version": 3
   },
   "file_extension": ".py",
   "mimetype": "text/x-python",
   "name": "python",
   "nbconvert_exporter": "python",
   "pygments_lexer": "ipython3",
   "version": "3.6.3"
  }
 },
 "nbformat": 4,
 "nbformat_minor": 2
}
