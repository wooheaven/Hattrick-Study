{
 "cells": [
  {
   "cell_type": "code",
   "execution_count": 1,
   "metadata": {},
   "outputs": [
    {
     "name": "stdout",
     "output_type": "stream",
     "text": [
      "2017-12-21 23:09:17.779533\n",
      "today =  2017/12/21\n"
     ]
    }
   ],
   "source": [
    "import datetime\n",
    "now = datetime.datetime.now()\n",
    "print(now)\n",
    "nowDate = now.strftime('%Y/%m/%d')\n",
    "print(\"today = \", nowDate)"
   ]
  },
  {
   "cell_type": "code",
   "execution_count": 2,
   "metadata": {
    "collapsed": true
   },
   "outputs": [],
   "source": [
    "from datetime import date,timedelta\n",
    "\n",
    "def findLastSunOrWed():\n",
    "    targetDay = date.today()\n",
    "    \n",
    "    # weekday 2 = Wed \n",
    "    # weekday 6 = Sun\n",
    "    offsetWed = (targetDay.weekday() - 2) % 7\n",
    "    offsetSun = (targetDay.weekday() - 6) % 7\n",
    "    offset = min(offsetWed, offsetSun)\n",
    "    \n",
    "    targetDay = targetDay - timedelta(days=offset)\n",
    "    #print(\"Target Day : \", targetDay, targetDay.weekday())\n",
    "    \n",
    "    return targetDay.strftime('%Y/%m/%d')"
   ]
  },
  {
   "cell_type": "code",
   "execution_count": 3,
   "metadata": {},
   "outputs": [
    {
     "name": "stdout",
     "output_type": "stream",
     "text": [
      "folder = 2017/12/20\n"
     ]
    }
   ],
   "source": [
    "folder = findLastSunOrWed()\n",
    "print(\"folder =\", folder)"
   ]
  },
  {
   "cell_type": "code",
   "execution_count": 4,
   "metadata": {
    "collapsed": true
   },
   "outputs": [],
   "source": [
    "# debugging\n",
    "# folder = \"2017/12/06\"\n",
    "# print(\"folder =\", folder)"
   ]
  },
  {
   "cell_type": "code",
   "execution_count": 5,
   "metadata": {},
   "outputs": [
    {
     "name": "stdout",
     "output_type": "stream",
     "text": [
      "use 2 monitor = 3840 x 1080 isDualMonitor= True\n"
     ]
    }
   ],
   "source": [
    "from crawSkillTable import *"
   ]
  },
  {
   "cell_type": "code",
   "execution_count": 6,
   "metadata": {
    "collapsed": true
   },
   "outputs": [],
   "source": [
    "# clickTabOfFireFox(5)\n",
    "\n",
    "# clickEmpty(38/100)\n",
    "# moveScroll(20)\n",
    "# clickFacebookLogin()"
   ]
  },
  {
   "cell_type": "code",
   "execution_count": 8,
   "metadata": {},
   "outputs": [
    {
     "name": "stdout",
     "output_type": "stream",
     "text": [
      "1st faceBookLogin location with region = (2404, 405, 77, 33)\n",
      "find myClub = (2450, 340, 77, 42)\n",
      "2nd faceBookLogout location = (3178, 336, 69, 51)\n"
     ]
    }
   ],
   "source": [
    "clickTabOfFireFox(5)\n",
    "\n",
    "clickEmpty(38/100)\n",
    "moveScroll(20)\n",
    "clickFacebookLogin()\n",
    "\n",
    "moveScroll(20)\n",
    "clickMyClub(530, 340)\n",
    "\n",
    "clickEmpty(68/100)\n",
    "moveScroll(20)\n",
    "clickPlayer(68/100)\n",
    "\n",
    "clickEmpty(57/100)\n",
    "moveScroll(20)\n",
    "clickSkillTable(57/100)\n",
    "\n",
    "moveScroll(-7)\n",
    "clickSince(93/100)\n",
    "\n",
    "moveScroll(1)\n",
    "clickCopy(28/100)\n",
    "\n",
    "moveScroll(20)\n",
    "clickFacebookLogout(98/300)\n",
    "\n",
    "clickTabOfFireFox(7)"
   ]
  },
  {
   "cell_type": "code",
   "execution_count": 9,
   "metadata": {},
   "outputs": [
    {
     "name": "stdout",
     "output_type": "stream",
     "text": [
      "[table]\n",
      "[tr][th]-[/th][th]#[/th][th]Nat[/th][th]Player[/th][th]Sp[/th][th]Stat[/th][th]Age[/th][th]Since[/th][th]TSI[/th][th]LS[/th][th]XP[/th][th]Fo[/th][th]Stm[/th][th]Lo[/th][th]MB[/th][th]KP[/th][th]DF[/th][th]PM[/th][th]WI[/th][th]PS[/th][th]SC[/th][th]SP[/th][th]Psico[/th][th]Last[/th][th]Rt[/th][th]Pos[/th][th]Wage[/th][th]G[/th][th]TC[/th][th]PH[/th][th]KP[/th][th]WB[/th][th]CD[/th][th]W[/th][th]IM[/th][th]FW[/th][/tr]\n",
      "[tr][td]–[/td][td]2[/td][td]Hanguk[/td][td]Jee-Hoon Kim [playerid=428709461][/td][td][/td][td][/td][td]20.38[/td][td]1 시즌   8 주   4 일[/td][td]10590[/td][td]3[/td][td]2[/td][td]8[/td][td]7[/td][td]20[/td][td]✔[/td][td]9[/td][td]5[/td][td]1[/td][td]1[/td][td]1[/td][td]2[/td][td]8[/td][td]936[/td][td]2017-12-20 [playerid=428709461][/td][td]5.5[/td][td]KP[/td][td]1850000[/td][td]0[/td][td][playerid=428709461][/td][td][playerid=428709461][/td][td]9.41[/td][td]5.03[/td][td]5.2[/td][td]3.5[/td][td]3.29[/td][td]3.2[/td][/tr]\n",
      "[tr][td]–[/td][td]3[/td][td]Hanguk[/td][td]Eun-Seok Hong [playerid=427619235][/td][td][/td][td][/td][td]30.63[/td][td]2 시즌   0 주   4 일[/td][td]380[/td][td]5[/td][td]5[/td][td]6[/td][td]6[/td][td]20[/td][td]✔[/td][td]1[/td][td]6[/td][td]6[/td][td]3[/td][td]2[/td][td]2[/td][td]7[/td][td]611[/td][td]2017-12-20 [playerid=427619235][/td][td]4[/td][td]CD[/td][td]300000[/td][td]6[/td][td][playerid=427619235][/td][td][playerid=427619235][/td][td]4.09[/td][td]6.59[/td][td]7.07[/td][td]6.24[/td][td]6.62[/td][td]4.83[/td][/tr]\n",
      "[tr][td]–[/td][td]4[/td][td]Hanguk[/td][td]Ji-Woon Lee [playerid=427619236][/td][td][/td][td][/td][td]20.79[/td][td]2 시즌   0 주   4 일[/td][td]1160[/td][td]5[/td][td]2[/td][td]7[/td][td]7[/td][td]20[/td][td]✔[/td][td]1[/td][td]7[/td][td]4[/td][td]3[/td][td]5[/td][td]2[/td][td]7[/td][td]726[/td][td]2017-12-17 [playerid=427619236][/td][td]4[/td][td]CD[/td][td]390000[/td][td]6[/td][td][playerid=427619236][/td][td][playerid=427619236][/td][td]4.32[/td][td]6.93[/td][td]7.23[/td][td]5.89[/td][td]5.84[/td][td]4.76[/td][/tr]\n",
      "[tr][td]–[/td][td]5[/td][td]Hanguk[/td][td]Jang-Soo Choi [playerid=427619237][/td][td]빠름\n",
      "더 많은 정보를 보려면 클릭[/td][td][/td][td]32.13[/td][td]2 시즌   0 주   4 일[/td][td]130[/td][td]5[/td][td]5[/td][td]8[/td][td]6[/td][td]20[/td][td]✔[/td][td]1[/td][td]6[/td][td]4[/td][td]4[/td][td]2[/td][td]1[/td][td]10[/td][td]590[/td][td]2017-12-17 [playerid=427619237][/td][td]4[/td][td]CD[/td][td]270000[/td][td]3[/td][td][playerid=427619237][/td][td][playerid=427619237][/td][td]4.48[/td][td]6.97[/td][td]7.06[/td][td]6.07[/td][td]5.84[/td][td]4.47[/td][/tr]\n",
      "[tr][td]–[/td][td]6[/td][td]Hanguk[/td][td]Jae-Shin Cha [playerid=427619238][/td][td][/td][td][/td][td]28.60[/td][td]2 시즌   0 주   4 일[/td][td]820[/td][td]5[/td][td]5[/td][td]4[/td][td]7[/td][td]20[/td][td]✔[/td][td]1[/td][td]7[/td][td]3[/td][td]6[/td][td]3[/td][td]2[/td][td]10[/td][td]756[/td][td]2017-12-17 [playerid=427619238][/td][td]3.5[/td][td]WB[/td][td]390000[/td][td]7[/td][td][playerid=427619238][/td][td][playerid=427619238][/td][td]3.63[/td][td]5.85[/td][td]5.56[/td][td]4.77[/td][td]4.12[/td][td]3.79[/td][/tr]\n",
      "[tr][td]–[/td][td]7[/td][td]Hanguk[/td][td]In-Moo Byon [playerid=427619239][/td][td][/td][td][/td][td]33.48[/td][td]2 시즌   0 주   4 일[/td][td]170[/td][td]1[/td][td]6[/td][td]5[/td][td]5[/td][td]20[/td][td]✔[/td][td]2[/td][td]6[/td][td]5[/td][td]5[/td][td]5[/td][td]2[/td][td]6[/td][td]590[/td][td]2017-12-17 [playerid=427619239][/td][td]3[/td][td]WB[/td][td]290000[/td][td]4[/td][td][playerid=427619239][/td][td][playerid=427619239][/td][td]4.09[/td][td]5.83[/td][td]5.86[/td][td]5.55[/td][td]5.42[/td][td]4.53[/td][/tr]\n",
      "[tr][td]–[/td][td]8[/td][td]Hanguk[/td][td]Hong-Chan Son [playerid=427619240][/td][td][/td][td][/td][td]23.8[/td][td]2 시즌   0 주   4 일[/td][td]1130[/td][td]5[/td][td]3[/td][td]6[/td][td]8[/td][td]20[/td][td]✔[/td][td]1[/td][td]5[/td][td]6[/td][td]5[/td][td]5[/td][td]1[/td][td]8[/td][td]615[/td][td]2017-12-20 [playerid=427619240][/td][td]3.5[/td][td]WB[/td][td]310000[/td][td]1[/td][td][playerid=427619240][/td][td][playerid=427619240][/td][td]3.81[/td][td]6.53[/td][td]6.66[/td][td]6.79[/td][td]6.86[/td][td]5.13[/td][/tr]\n",
      "[tr][td]–[/td][td]9[/td][td]Hanguk[/td][td]Hoi-Taek Park [playerid=427619241][/td][td]예측할 수 없음\n",
      "더 많은 정보를 보려면 클릭[/td][td][/td][td]21.15[/td][td]2 시즌   0 주   4 일[/td][td]1130[/td][td]2[/td][td]3[/td][td]5[/td][td]7[/td][td]20[/td][td]✔[/td][td]1[/td][td]5[/td][td]6[/td][td]3[/td][td]6[/td][td]3[/td][td]10[/td][td]643[/td][td]2017-12-17 [playerid=427619241][/td][td]4[/td][td]IM[/td][td]330000[/td][td]8[/td][td][playerid=427619241][/td][td][playerid=427619241][/td][td]3.43[/td][td]5.57[/td][td]6[/td][td]5.85[/td][td]6.31[/td][td]5.21[/td][/tr]\n",
      "[tr][td]–[/td][td]10[/td][td]Hanguk[/td][td]Kwang-Eul Jeon [playerid=427619242][/td][td][/td][td][/td][td]25.14[/td][td]2 시즌   0 주   4 일[/td][td]1730[/td][td]4[/td][td]4[/td][td]8[/td][td]8[/td][td]20[/td][td]✔[/td][td]1[/td][td]6[/td][td]7[/td][td]3[/td][td]3[/td][td]2[/td][td]9[/td][td]751[/td][td]2017-12-20 [playerid=427619242][/td][td]5[/td][td]IM[/td][td]430000[/td][td]6[/td][td][playerid=427619242][/td][td][playerid=427619242][/td][td]4.68[/td][td]7.84[/td][td]8.56[/td][td]7.8[/td][td]8.49[/td][td]6.01[/td][/tr]\n",
      "[tr][td]–[/td][td]11[/td][td]Hanguk[/td][td]Kwang-Hwan Yun [playerid=427619243][/td][td][/td][td][/td][td]27.93[/td][td]2 시즌   0 주   4 일[/td][td]790[/td][td]6[/td][td]4[/td][td]5[/td][td]7[/td][td]20[/td][td]✔[/td][td]2[/td][td]5[/td][td]6[/td][td]3[/td][td]5[/td][td]2[/td][td]9[/td][td]649[/td][td]2017-12-17 [playerid=427619243][/td][td]4[/td][td]IM[/td][td]330000[/td][td]10[/td][td][playerid=427619243][/td][td][playerid=427619243][/td][td]4.1[/td][td]5.66[/td][td]6.08[/td][td]5.86[/td][td]6.29[/td][td]4.85[/td][/tr]\n",
      "[tr][td]–[/td][td]12[/td][td]Hanguk[/td][td]Chan-Myung Lee [playerid=427619244][/td][td][/td][td][/td][td]26.102[/td][td]2 시즌   0 주   4 일[/td][td]910[/td][td]3[/td][td]4[/td][td]5[/td][td]7[/td][td]20[/td][td]✔[/td][td]1[/td][td]3[/td][td]7[/td][td]3[/td][td]4[/td][td]3[/td][td]8[/td][td]757[/td][td]2017-12-20 [playerid=427619244][/td][td]4[/td][td]IM[/td][td]410000[/td][td]8[/td][td][playerid=427619244][/td][td][playerid=427619244][/td][td]3.11[/td][td]4.98[/td][td]5.45[/td][td]5.97[/td][td]6.72[/td][td]5.34[/td][/tr]\n",
      "[tr][td]–[/td][td]13[/td][td]Hanguk[/td][td]Sung-Kook Han [playerid=427619245][/td][td]공 마술사\n",
      "더 많은 정보를 보려면 클릭[/td][td][/td][td]22.90[/td][td]2 시즌   0 주   4 일[/td][td]1440[/td][td]2[/td][td]3[/td][td]6[/td][td]8[/td][td]20[/td][td]✔[/td][td]1[/td][td]5[/td][td]6[/td][td]6[/td][td]5[/td][td]2[/td][td]9[/td][td]614[/td][td]2017-12-17 [playerid=427619245][/td][td]4.5[/td][td]W[/td][td]330000[/td][td]10[/td][td][playerid=427619245][/td][td][playerid=427619245][/td][td]3.79[/td][td]6.68[/td][td]6.64[/td][td]6.95[/td][td]6.87[/td][td]5.58[/td][/tr]\n",
      "[tr][td]–[/td][td]14[/td][td]Hanguk[/td][td]Se-Jong Cho [playerid=427619246][/td][td][/td][td][/td][td]29.90[/td][td]2 시즌   0 주   4 일[/td][td]730[/td][td]4[/td][td]5[/td][td]6[/td][td]6[/td][td]20[/td][td]✔[/td][td]1[/td][td]5[/td][td]5[/td][td]6[/td][td]3[/td][td]4[/td][td]8[/td][td]610[/td][td]2017-12-20 [playerid=427619246][/td][td]4[/td][td]WB[/td][td]290000[/td][td]18[/td][td][playerid=427619246][/td][td][playerid=427619246][/td][td]3.92[/td][td]6.52[/td][td]6.36[/td][td]6.38[/td][td]6.16[/td][td]5.83[/td][/tr]\n",
      "[tr][td]–[/td][td]15[/td][td]Hanguk[/td][td]Man-Ok Lee [playerid=427619247][/td][td]예측할 수 없음\n",
      "더 많은 정보를 보려면 클릭[/td][td][/td][td]24.31[/td][td]2 시즌   0 주   4 일[/td][td]2110[/td][td]5[/td][td]3[/td][td]6[/td][td]8[/td][td]20[/td][td]✔[/td][td]1[/td][td]5[/td][td]5[/td][td]7[/td][td]6[/td][td]2[/td][td]9[/td][td]751[/td][td]2017-12-17 [playerid=427619247][/td][td]4.5[/td][td]W[/td][td]350000[/td][td]11[/td][td][playerid=427619247][/td][td][playerid=427619247][/td][td]3.81[/td][td]6.67[/td][td]6.33[/td][td]6.79[/td][td]6.32[/td][td]5.59[/td][/tr]\n",
      "[tr][td]–[/td][td]16[/td][td]Hanguk[/td][td]Dong-Shik Kim [playerid=427619248][/td][td][/td][td][/td][td]20.25[/td][td]2 시즌   0 주   4 일[/td][td]1640[/td][td]6[/td][td]2[/td][td]7[/td][td]7[/td][td]20[/td][td]✔[/td][td]1[/td][td]3[/td][td]3[/td][td]6[/td][td]4[/td][td]7[/td][td]10[/td][td]773[/td][td]2017-12-20 [playerid=427619248][/td][td]5.5[/td][td]FW[/td][td]410000[/td][td]20[/td][td][playerid=427619248][/td][td][playerid=427619248][/td][td]3.28[/td][td]5.16[/td][td]4.62[/td][td]5.3[/td][td]4.85[/td][td]6.67[/td][/tr]\n",
      "[tr][td]–[/td][td]17[/td][td]Hanguk[/td][td]Seung-Mee Kim [playerid=427619249][/td][td]예측할 수 없음\n",
      "더 많은 정보를 보려면 클릭[/td][td][/td][td]35.76[/td][td]2 시즌   0 주   4 일[/td][td]20[/td][td]2[/td][td]6[/td][td]6[/td][td]4[/td][td]20[/td][td]✔[/td][td]1[/td][td]2[/td][td]3[/td][td]3[/td][td]3[/td][td]6[/td][td]7[/td][td]590[/td][td]2017-12-17 [playerid=427619249][/td][td]4[/td][td]FW[/td][td]270000[/td][td]18[/td][td][playerid=427619249][/td][td][playerid=427619249][/td][td]2.95[/td][td]3.82[/td][td]3.78[/td][td]4.12[/td][td]4.26[/td][td]5.22[/td][/tr]\n",
      "[tr][td]–[/td][td]18[/td][td]Hanguk[/td][td]Kwang-Rae Kim [playerid=427619250][/td][td]헤딩\n",
      "더 많은 정보를 보려면 클릭[/td][td][/td][td]27.97[/td][td]2 시즌   0 주   4 일[/td][td]1300[/td][td]3[/td][td]4[/td][td]8[/td][td]7[/td][td]20[/td][td]✔[/td][td]1[/td][td]2[/td][td]5[/td][td]3[/td][td]6[/td][td]6[/td][td]7[/td][td]644[/td][td]2017-12-17 [playerid=427619250][/td][td]5.5[/td][td]FW[/td][td]310000[/td][td]20[/td][td][playerid=427619250][/td][td][playerid=427619250][/td][td]3.48[/td][td]5.03[/td][td]5.27[/td][td]6.24[/td][td]6.87[/td][td]7.4[/td][/tr]\n",
      "[tr][td]–[/td][td]21[/td][td]Belgium[/td][td]Jitse Haes [playerid=428112207][/td][td][/td][td][/td][td]32.95[/td][td]1 시즌   11 주   4 일[/td][td]570[/td][td]4[/td][td]5[/td][td]7[/td][td]5[/td][td]15[/td][td][/td][td]2[/td][td]6[/td][td]6[/td][td]5[/td][td]6[/td][td]2[/td][td]7[/td][td]590[/td][td]2017-12-20 [playerid=428112207][/td][td]4.5[/td][td]W[/td][td]372000[/td][td]2[/td][td][playerid=428112207][/td][td][playerid=428112207][/td][td]4.33[/td][td]6.7[/td][td]6.88[/td][td]6.69[/td][td]6.74[/td][td]5.28[/td][/tr]\n",
      "[tr][td]–[/td][td]22[/td][td]Nederland[/td][td]Keith Esser [playerid=428060480][/td][td]빠름\n",
      "더 많은 정보를 보려면 클릭[/td][td][/td][td]33.0[/td][td]1 시즌   11 주   3 일[/td][td]640[/td][td]5[/td][td]6[/td][td]8[/td][td]6[/td][td]15[/td][td][/td][td]2[/td][td]6[/td][td]5[/td][td]6[/td][td]6[/td][td]2[/td][td]9[/td][td]590[/td][td]2017-12-20 [playerid=428060480][/td][td]4.5[/td][td]W[/td][td]348000[/td][td]5[/td][td][playerid=428060480][/td][td][playerid=428060480][/td][td]4.55[/td][td]6.96[/td][td]6.82[/td][td]6.69[/td][td]6.34[/td][td]5.37[/td][/tr]\n",
      "[tr][td]–[/td][td]23[/td][td]Belgium[/td][td]Mathias Piron [playerid=428125893][/td][td]공 마술사\n",
      "더 많은 정보를 보려면 클릭[/td][td][/td][td]33.64[/td][td]1 시즌   11 주   4 일[/td][td]310[/td][td]6[/td][td]5[/td][td]6[/td][td]5[/td][td]15[/td][td][/td][td]2[/td][td]6[/td][td]5[/td][td]5[/td][td]5[/td][td]2[/td][td]9[/td][td]590[/td][td]2017-12-20 [playerid=428125893][/td][td]4.5[/td][td]W[/td][td]360000[/td][td]3[/td][td][playerid=428125893][/td][td][playerid=428125893][/td][td]3.96[/td][td]5.95[/td][td]5.98[/td][td]5.62[/td][td]5.48[/td][td]4.46[/td][/tr]\n",
      "[tr][td]–[/td][td]25[/td][td]Polska[/td][td]Pylyp Nagorniak [playerid=406205227][/td][td][/td][td][/td][td]28.25[/td][td]1 시즌   11 주   4 일[/td][td]2000[/td][td]5[/td][td]3[/td][td]7[/td][td]7[/td][td]15[/td][td][/td][td]1[/td][td]6[/td][td]7[/td][td]3[/td][td]6[/td][td]3[/td][td]9[/td][td]702[/td][td]2017-12-20 [playerid=406205227][/td][td]5[/td][td]IM[/td][td]444000[/td][td]2[/td][td][playerid=406205227][/td][td][playerid=406205227][/td][td]3.5[/td][td]6.45[/td][td]7.11[/td][td]6.66[/td][td]7.35[/td][td]5.57[/td][/tr]\n",
      "[tr][td]–[/td][td]31[/td][td]Hanguk[/td][td]Se-Hee Park [playerid=430626797][/td][td][/td][td][/td][td]19.72[/td][td]15 주   4 일[/td][td]1170[/td][td]4[/td][td]1[/td][td]6[/td][td]6[/td][td]20[/td][td]✔[/td][td]1[/td][td]2[/td][td]5[/td][td]5[/td][td]3[/td][td]7[/td][td]8[/td][td]737[/td][td]2017-12-20 [playerid=430626797][/td][td]4.5[/td][td]FW[/td][td]390000[/td][td]9[/td][td][playerid=430626797][/td][td][playerid=430626797][/td][td]2.37[/td][td]4.06[/td][td]3.94[/td][td]4.91[/td][td]5.13[/td][td]5.96[/td][/tr]\n",
      "[tr][td]–[/td][td]34[/td][td]Sverige[/td][td]Axel Hermansson [playerid=422526443][/td][td][/td][td][/td][td]29.47[/td][td]13 주   3 일[/td][td]1770[/td][td]5[/td][td]4[/td][td]5[/td][td]6[/td][td]11[/td][td][/td][td]2[/td][td]7[/td][td]7[/td][td]2[/td][td]6[/td][td]2[/td][td]9[/td][td]702[/td][td]2017-12-17 [playerid=422526443][/td][td]4[/td][td]IM[/td][td]516000[/td][td]6[/td][td][playerid=422526443][/td][td][playerid=422526443][/td][td]3.71[/td][td]5.73[/td][td]6.47[/td][td]5.59[/td][td]6.25[/td][td]4.26[/td][/tr]\n",
      "[tr][td]–[/td][td]38[/td][td]Latvija[/td][td]Artem Skurlatov [playerid=409641598][/td][td][/td][td][/td][td]27.53[/td][td]10 주   0 일[/td][td]2260[/td][td]5[/td][td]4[/td][td]5[/td][td]6[/td][td]9[/td][td][/td][td]1[/td][td]8[/td][td]6[/td][td]3[/td][td]4[/td][td]3[/td][td]4[/td][td]826[/td][td]2017-12-17 [playerid=409641598][/td][td]3.5[/td][td]CD[/td][td]732000[/td][td]8[/td][td][playerid=409641598][/td][td][playerid=409641598][/td][td]3.23[/td][td]5.94[/td][td]6.44[/td][td]5.15[/td][td]5.44[/td][td]4.02[/td][/tr]\n",
      "[tr][td]–[/td][td]40[/td][td]Perú[/td][td]Matías Pichis [playerid=416567166][/td][td][/td][td][/td][td]23.3[/td][td]9 주   3 일[/td][td]9650[/td][td]6[/td][td]1[/td][td]7[/td][td]7[/td][td]9[/td][td][/td][td]1[/td][td]10[/td][td]8[/td][td]2[/td][td]4[/td][td]4[/td][td]6[/td][td]1002[/td][td]2017-12-20 [playerid=416567166][/td][td]5[/td][td]CD[/td][td]1764000[/td][td]4[/td][td][playerid=416567166][/td][td][playerid=416567166][/td][td]3.78[/td][td]7.91[/td][td]9.07[/td][td]6.72[/td][td]7.62[/td][td]5.05[/td][/tr]\n",
      "[tr][td]–[/td][td]41[/td][td]Deutschland[/td][td]Reinold Kisch [playerid=413993877][/td][td][/td][td][/td][td]24.7[/td][td]9 주   3 일[/td][td]2100[/td][td]5[/td][td]2[/td][td]5[/td][td]7[/td][td]9[/td][td][/td][td]1[/td][td]8[/td][td]6[/td][td]2[/td][td]4[/td][td]5[/td][td]3[/td][td]800[/td][td]2017-12-20 [playerid=413993877][/td][td]3.5[/td][td]CD[/td][td]588000[/td][td]10[/td][td][playerid=413993877][/td][td][playerid=413993877][/td][td]3.01[/td][td]5.65[/td][td]6.32[/td][td]4.82[/td][td]5.34[/td][td]4.38[/td][/tr]\n",
      "[tr][td]–[/td][td]45[/td][td]Bulgaria[/td][td]Ivan Petkov [playerid=430624598][/td][td][/td][td]Inj 1[/td][td]18.83[/td][td]6 주   3 일[/td][td]11410[/td][td]7[/td][td]2[/td][td]6[/td][td]6[/td][td]8[/td][td][/td][td]10[/td][td]3[/td][td]1[/td][td]1[/td][td]1[/td][td]1[/td][td]7[/td][td]999[/td][td]2017-12-17 [playerid=430624598][/td][td]4.5[/td][td]KP[/td][td]2148000[/td][td]0[/td][td][playerid=430624598][/td][td][playerid=430624598][/td][td]7.42[/td][td]2.48[/td][td]2.56[/td][td]1.81[/td][td]1.7[/td][td]1.5[/td][/tr]\n",
      "[tr][td]–[/td][td]48[/td][td]Hanguk[/td][td]Dong-Suk Lee [playerid=432205385][/td][td]공 마술사\n",
      "더 많은 정보를 보려면 클릭[/td][td][/td][td]18.86[/td][td]3 주   3 일[/td][td]990[/td][td]6[/td][td]1[/td][td]6[/td][td]5[/td][td]20[/td][td]✔[/td][td]1[/td][td]5[/td][td]4[/td][td]5[/td][td]6[/td][td]5[/td][td]4[/td][td]629[/td][td][/td][td][/td][td][/td][td]290000[/td][td]0[/td][td][playerid=432205385][/td][td][playerid=432205385][/td][td]2.8[/td][td]4.8[/td][td]4.69[/td][td]4.65[/td][td]4.48[/td][td]4.87[/td][/tr]\n",
      "[tr][td]–[/td][td]50[/td][td]Hanguk[/td][td]Kyoo-Chul Choi [playerid=433150974][/td][td][/td][td][/td][td]17.34[/td][td]1 주   4 일[/td][td]320[/td][td]6[/td][td]1[/td][td]6[/td][td]5[/td][td]20[/td][td]✔[/td][td]1[/td][td]4[/td][td]3[/td][td]6[/td][td]4[/td][td]4[/td][td]2[/td][td]606[/td][td][/td][td][/td][td][/td][td]250000[/td][td]0[/td][td][playerid=433150974][/td][td][playerid=433150974][/td][td]2.58[/td][td]4.33[/td][td]3.92[/td][td]4.14[/td][td]3.64[/td][td]4.17[/td][/tr]\n",
      "[tr][td]–[/td][td]51[/td][td]Hanguk[/td][td]Soon-Jae Kim [playerid=433319591][/td][td][/td][td][/td][td]18.87[/td][td]5 일[/td][td]470[/td][td]4[/td][td]1[/td][td]6[/td][td]5[/td][td]20[/td][td]✔[/td][td]1[/td][td]6[/td][td]1[/td][td]5[/td][td]3[/td][td]5[/td][td]3[/td][td]610[/td][td][/td][td][/td][td][/td][td]270000[/td][td]0[/td][td][playerid=433319591][/td][td][playerid=433319591][/td][td]3.02[/td][td]4.71[/td][td]4.29[/td][td]3.39[/td][td]2.62[/td][td]3.81[/td][/tr]\n",
      "[tr][td]–[/td][td]99[/td][td]Hanguk[/td][td]Je-Min Jung [playerid=427619232] 코치[/td][td][/td][td][/td][td]42.41[/td][td]2 시즌   0 주   4 일[/td][td]0[/td][td]3[/td][td]8[/td][td]2[/td][td]1[/td][td]20[/td][td]✔[/td][td]0[/td][td]0[/td][td]0[/td][td]0[/td][td]0[/td][td]0[/td][td]0[/td][td]240[/td][td][/td][td][/td][td][/td][td]250000[/td][td]0[/td][td][playerid=427619232][/td][td][playerid=427619232][/td][td]0.82[/td][td]0.82[/td][td]0.82[/td][td]0.82[/td][td]0.82[/td][td]0.82[/td][/tr]\n",
      "[/table]\n"
     ]
    }
   ],
   "source": [
    "import pyperclip # The name you have the file\n",
    "tmpClip = pyperclip.paste()\n",
    "print(tmpClip)"
   ]
  },
  {
   "cell_type": "code",
   "execution_count": 10,
   "metadata": {},
   "outputs": [
    {
     "name": "stdout",
     "output_type": "stream",
     "text": [
      "2017/12/20\t\t : is existed\n",
      "2017/12/20/player.html\t : will be removed\n",
      "2017/12/20/player.html\t : is not exists\n"
     ]
    }
   ],
   "source": [
    "import os.path\n",
    "filePath = folder + '/player.html'\n",
    "\n",
    "if not os.path.exists(folder):\n",
    "    print(folder + \"\\t\\t : will be created\")\n",
    "    os.makedirs(folder)\n",
    "else :\n",
    "    print(folder + \"\\t\\t : is existed\")\n",
    "\n",
    "if ( os.path.exists(filePath) ):\n",
    "    print(filePath + \"\\t : will be removed\")\n",
    "    os.remove(filePath)\n",
    "    \n",
    "if not os.path.exists(filePath):\n",
    "    print(filePath + \"\\t : is not exists\")"
   ]
  },
  {
   "cell_type": "code",
   "execution_count": 11,
   "metadata": {
    "collapsed": true
   },
   "outputs": [],
   "source": [
    "with open(folder + '/player.html', 'w') as f:\n",
    "    f.write(tmpClip)"
   ]
  },
  {
   "cell_type": "code",
   "execution_count": 12,
   "metadata": {
    "collapsed": true
   },
   "outputs": [],
   "source": [
    "from parseSkillTable import *"
   ]
  },
  {
   "cell_type": "code",
   "execution_count": 13,
   "metadata": {},
   "outputs": [
    {
     "data": {
      "text/plain": [
       "['[table]',\n",
       " '[tr][th]-[/th][th]#[/th][th]Nat[/th][th]Player[/th][th]Sp[/th][th]Stat[/th][th]Age[/th][th]Since[/th][th]TSI[/th][th]LS[/th][th]XP[/th][th]Fo[/th][th]Stm[/th][th]Lo[/th][th]MB[/th][th]KP[/th][th]DF[/th][th]PM[/th][th]WI[/th][th]PS[/th][th]SC[/th][th]SP[/th][th]Psico[/th][th]Last[/th][th]Rt[/th][th]Pos[/th][th]Wage[/th][th]G[/th][th]TC[/th][th]PH[/th][th]KP[/th][th]WB[/th][th]CD[/th][th]W[/th][th]IM[/th][th]FW[/th][/tr]',\n",
       " '[tr][td]–[/td][td]2[/td][td]Hanguk[/td][td]Jee-Hoon Kim [playerid=428709461][/td][td][/td][td][/td][td]20.38[/td][td]1 시즌   8 주   4 일[/td][td]10590[/td][td]3[/td][td]2[/td][td]8[/td][td]7[/td][td]20[/td][td]✔[/td][td]9[/td][td]5[/td][td]1[/td][td]1[/td][td]1[/td][td]2[/td][td]8[/td][td]936[/td][td]2017-12-20 [playerid=428709461][/td][td]5.5[/td][td]KP[/td][td]1850000[/td][td]0[/td][td][playerid=428709461][/td][td][playerid=428709461][/td][td]9.41[/td][td]5.03[/td][td]5.2[/td][td]3.5[/td][td]3.29[/td][td]3.2[/td][/tr]',\n",
       " '[tr][td]–[/td][td]3[/td][td]Hanguk[/td][td]Eun-Seok Hong [playerid=427619235][/td][td][/td][td][/td][td]30.63[/td][td]2 시즌   0 주   4 일[/td][td]380[/td][td]5[/td][td]5[/td][td]6[/td][td]6[/td][td]20[/td][td]✔[/td][td]1[/td][td]6[/td][td]6[/td][td]3[/td][td]2[/td][td]2[/td][td]7[/td][td]611[/td][td]2017-12-20 [playerid=427619235][/td][td]4[/td][td]CD[/td][td]300000[/td][td]6[/td][td][playerid=427619235][/td][td][playerid=427619235][/td][td]4.09[/td][td]6.59[/td][td]7.07[/td][td]6.24[/td][td]6.62[/td][td]4.83[/td][/tr]',\n",
       " '[tr][td]–[/td][td]4[/td][td]Hanguk[/td][td]Ji-Woon Lee [playerid=427619236][/td][td][/td][td][/td][td]20.79[/td][td]2 시즌   0 주   4 일[/td][td]1160[/td][td]5[/td][td]2[/td][td]7[/td][td]7[/td][td]20[/td][td]✔[/td][td]1[/td][td]7[/td][td]4[/td][td]3[/td][td]5[/td][td]2[/td][td]7[/td][td]726[/td][td]2017-12-17 [playerid=427619236][/td][td]4[/td][td]CD[/td][td]390000[/td][td]6[/td][td][playerid=427619236][/td][td][playerid=427619236][/td][td]4.32[/td][td]6.93[/td][td]7.23[/td][td]5.89[/td][td]5.84[/td][td]4.76[/td][/tr]',\n",
       " '[tr][td]–[/td][td]5[/td][td]Hanguk[/td][td]Jang-Soo Choi [playerid=427619237][/td][td]빠름',\n",
       " '더 많은 정보를 보려면 클릭[/td][td][/td][td]32.13[/td][td]2 시즌   0 주   4 일[/td][td]130[/td][td]5[/td][td]5[/td][td]8[/td][td]6[/td][td]20[/td][td]✔[/td][td]1[/td][td]6[/td][td]4[/td][td]4[/td][td]2[/td][td]1[/td][td]10[/td][td]590[/td][td]2017-12-17 [playerid=427619237][/td][td]4[/td][td]CD[/td][td]270000[/td][td]3[/td][td][playerid=427619237][/td][td][playerid=427619237][/td][td]4.48[/td][td]6.97[/td][td]7.06[/td][td]6.07[/td][td]5.84[/td][td]4.47[/td][/tr]',\n",
       " '[tr][td]–[/td][td]6[/td][td]Hanguk[/td][td]Jae-Shin Cha [playerid=427619238][/td][td][/td][td][/td][td]28.60[/td][td]2 시즌   0 주   4 일[/td][td]820[/td][td]5[/td][td]5[/td][td]4[/td][td]7[/td][td]20[/td][td]✔[/td][td]1[/td][td]7[/td][td]3[/td][td]6[/td][td]3[/td][td]2[/td][td]10[/td][td]756[/td][td]2017-12-17 [playerid=427619238][/td][td]3.5[/td][td]WB[/td][td]390000[/td][td]7[/td][td][playerid=427619238][/td][td][playerid=427619238][/td][td]3.63[/td][td]5.85[/td][td]5.56[/td][td]4.77[/td][td]4.12[/td][td]3.79[/td][/tr]',\n",
       " '[tr][td]–[/td][td]7[/td][td]Hanguk[/td][td]In-Moo Byon [playerid=427619239][/td][td][/td][td][/td][td]33.48[/td][td]2 시즌   0 주   4 일[/td][td]170[/td][td]1[/td][td]6[/td][td]5[/td][td]5[/td][td]20[/td][td]✔[/td][td]2[/td][td]6[/td][td]5[/td][td]5[/td][td]5[/td][td]2[/td][td]6[/td][td]590[/td][td]2017-12-17 [playerid=427619239][/td][td]3[/td][td]WB[/td][td]290000[/td][td]4[/td][td][playerid=427619239][/td][td][playerid=427619239][/td][td]4.09[/td][td]5.83[/td][td]5.86[/td][td]5.55[/td][td]5.42[/td][td]4.53[/td][/tr]',\n",
       " '[tr][td]–[/td][td]8[/td][td]Hanguk[/td][td]Hong-Chan Son [playerid=427619240][/td][td][/td][td][/td][td]23.8[/td][td]2 시즌   0 주   4 일[/td][td]1130[/td][td]5[/td][td]3[/td][td]6[/td][td]8[/td][td]20[/td][td]✔[/td][td]1[/td][td]5[/td][td]6[/td][td]5[/td][td]5[/td][td]1[/td][td]8[/td][td]615[/td][td]2017-12-20 [playerid=427619240][/td][td]3.5[/td][td]WB[/td][td]310000[/td][td]1[/td][td][playerid=427619240][/td][td][playerid=427619240][/td][td]3.81[/td][td]6.53[/td][td]6.66[/td][td]6.79[/td][td]6.86[/td][td]5.13[/td][/tr]',\n",
       " '[tr][td]–[/td][td]9[/td][td]Hanguk[/td][td]Hoi-Taek Park [playerid=427619241][/td][td]예측할 수 없음',\n",
       " '더 많은 정보를 보려면 클릭[/td][td][/td][td]21.15[/td][td]2 시즌   0 주   4 일[/td][td]1130[/td][td]2[/td][td]3[/td][td]5[/td][td]7[/td][td]20[/td][td]✔[/td][td]1[/td][td]5[/td][td]6[/td][td]3[/td][td]6[/td][td]3[/td][td]10[/td][td]643[/td][td]2017-12-17 [playerid=427619241][/td][td]4[/td][td]IM[/td][td]330000[/td][td]8[/td][td][playerid=427619241][/td][td][playerid=427619241][/td][td]3.43[/td][td]5.57[/td][td]6[/td][td]5.85[/td][td]6.31[/td][td]5.21[/td][/tr]',\n",
       " '[tr][td]–[/td][td]10[/td][td]Hanguk[/td][td]Kwang-Eul Jeon [playerid=427619242][/td][td][/td][td][/td][td]25.14[/td][td]2 시즌   0 주   4 일[/td][td]1730[/td][td]4[/td][td]4[/td][td]8[/td][td]8[/td][td]20[/td][td]✔[/td][td]1[/td][td]6[/td][td]7[/td][td]3[/td][td]3[/td][td]2[/td][td]9[/td][td]751[/td][td]2017-12-20 [playerid=427619242][/td][td]5[/td][td]IM[/td][td]430000[/td][td]6[/td][td][playerid=427619242][/td][td][playerid=427619242][/td][td]4.68[/td][td]7.84[/td][td]8.56[/td][td]7.8[/td][td]8.49[/td][td]6.01[/td][/tr]',\n",
       " '[tr][td]–[/td][td]11[/td][td]Hanguk[/td][td]Kwang-Hwan Yun [playerid=427619243][/td][td][/td][td][/td][td]27.93[/td][td]2 시즌   0 주   4 일[/td][td]790[/td][td]6[/td][td]4[/td][td]5[/td][td]7[/td][td]20[/td][td]✔[/td][td]2[/td][td]5[/td][td]6[/td][td]3[/td][td]5[/td][td]2[/td][td]9[/td][td]649[/td][td]2017-12-17 [playerid=427619243][/td][td]4[/td][td]IM[/td][td]330000[/td][td]10[/td][td][playerid=427619243][/td][td][playerid=427619243][/td][td]4.1[/td][td]5.66[/td][td]6.08[/td][td]5.86[/td][td]6.29[/td][td]4.85[/td][/tr]',\n",
       " '[tr][td]–[/td][td]12[/td][td]Hanguk[/td][td]Chan-Myung Lee [playerid=427619244][/td][td][/td][td][/td][td]26.102[/td][td]2 시즌   0 주   4 일[/td][td]910[/td][td]3[/td][td]4[/td][td]5[/td][td]7[/td][td]20[/td][td]✔[/td][td]1[/td][td]3[/td][td]7[/td][td]3[/td][td]4[/td][td]3[/td][td]8[/td][td]757[/td][td]2017-12-20 [playerid=427619244][/td][td]4[/td][td]IM[/td][td]410000[/td][td]8[/td][td][playerid=427619244][/td][td][playerid=427619244][/td][td]3.11[/td][td]4.98[/td][td]5.45[/td][td]5.97[/td][td]6.72[/td][td]5.34[/td][/tr]',\n",
       " '[tr][td]–[/td][td]13[/td][td]Hanguk[/td][td]Sung-Kook Han [playerid=427619245][/td][td]공 마술사',\n",
       " '더 많은 정보를 보려면 클릭[/td][td][/td][td]22.90[/td][td]2 시즌   0 주   4 일[/td][td]1440[/td][td]2[/td][td]3[/td][td]6[/td][td]8[/td][td]20[/td][td]✔[/td][td]1[/td][td]5[/td][td]6[/td][td]6[/td][td]5[/td][td]2[/td][td]9[/td][td]614[/td][td]2017-12-17 [playerid=427619245][/td][td]4.5[/td][td]W[/td][td]330000[/td][td]10[/td][td][playerid=427619245][/td][td][playerid=427619245][/td][td]3.79[/td][td]6.68[/td][td]6.64[/td][td]6.95[/td][td]6.87[/td][td]5.58[/td][/tr]',\n",
       " '[tr][td]–[/td][td]14[/td][td]Hanguk[/td][td]Se-Jong Cho [playerid=427619246][/td][td][/td][td][/td][td]29.90[/td][td]2 시즌   0 주   4 일[/td][td]730[/td][td]4[/td][td]5[/td][td]6[/td][td]6[/td][td]20[/td][td]✔[/td][td]1[/td][td]5[/td][td]5[/td][td]6[/td][td]3[/td][td]4[/td][td]8[/td][td]610[/td][td]2017-12-20 [playerid=427619246][/td][td]4[/td][td]WB[/td][td]290000[/td][td]18[/td][td][playerid=427619246][/td][td][playerid=427619246][/td][td]3.92[/td][td]6.52[/td][td]6.36[/td][td]6.38[/td][td]6.16[/td][td]5.83[/td][/tr]',\n",
       " '[tr][td]–[/td][td]15[/td][td]Hanguk[/td][td]Man-Ok Lee [playerid=427619247][/td][td]예측할 수 없음',\n",
       " '더 많은 정보를 보려면 클릭[/td][td][/td][td]24.31[/td][td]2 시즌   0 주   4 일[/td][td]2110[/td][td]5[/td][td]3[/td][td]6[/td][td]8[/td][td]20[/td][td]✔[/td][td]1[/td][td]5[/td][td]5[/td][td]7[/td][td]6[/td][td]2[/td][td]9[/td][td]751[/td][td]2017-12-17 [playerid=427619247][/td][td]4.5[/td][td]W[/td][td]350000[/td][td]11[/td][td][playerid=427619247][/td][td][playerid=427619247][/td][td]3.81[/td][td]6.67[/td][td]6.33[/td][td]6.79[/td][td]6.32[/td][td]5.59[/td][/tr]',\n",
       " '[tr][td]–[/td][td]16[/td][td]Hanguk[/td][td]Dong-Shik Kim [playerid=427619248][/td][td][/td][td][/td][td]20.25[/td][td]2 시즌   0 주   4 일[/td][td]1640[/td][td]6[/td][td]2[/td][td]7[/td][td]7[/td][td]20[/td][td]✔[/td][td]1[/td][td]3[/td][td]3[/td][td]6[/td][td]4[/td][td]7[/td][td]10[/td][td]773[/td][td]2017-12-20 [playerid=427619248][/td][td]5.5[/td][td]FW[/td][td]410000[/td][td]20[/td][td][playerid=427619248][/td][td][playerid=427619248][/td][td]3.28[/td][td]5.16[/td][td]4.62[/td][td]5.3[/td][td]4.85[/td][td]6.67[/td][/tr]',\n",
       " '[tr][td]–[/td][td]17[/td][td]Hanguk[/td][td]Seung-Mee Kim [playerid=427619249][/td][td]예측할 수 없음',\n",
       " '더 많은 정보를 보려면 클릭[/td][td][/td][td]35.76[/td][td]2 시즌   0 주   4 일[/td][td]20[/td][td]2[/td][td]6[/td][td]6[/td][td]4[/td][td]20[/td][td]✔[/td][td]1[/td][td]2[/td][td]3[/td][td]3[/td][td]3[/td][td]6[/td][td]7[/td][td]590[/td][td]2017-12-17 [playerid=427619249][/td][td]4[/td][td]FW[/td][td]270000[/td][td]18[/td][td][playerid=427619249][/td][td][playerid=427619249][/td][td]2.95[/td][td]3.82[/td][td]3.78[/td][td]4.12[/td][td]4.26[/td][td]5.22[/td][/tr]',\n",
       " '[tr][td]–[/td][td]18[/td][td]Hanguk[/td][td]Kwang-Rae Kim [playerid=427619250][/td][td]헤딩',\n",
       " '더 많은 정보를 보려면 클릭[/td][td][/td][td]27.97[/td][td]2 시즌   0 주   4 일[/td][td]1300[/td][td]3[/td][td]4[/td][td]8[/td][td]7[/td][td]20[/td][td]✔[/td][td]1[/td][td]2[/td][td]5[/td][td]3[/td][td]6[/td][td]6[/td][td]7[/td][td]644[/td][td]2017-12-17 [playerid=427619250][/td][td]5.5[/td][td]FW[/td][td]310000[/td][td]20[/td][td][playerid=427619250][/td][td][playerid=427619250][/td][td]3.48[/td][td]5.03[/td][td]5.27[/td][td]6.24[/td][td]6.87[/td][td]7.4[/td][/tr]',\n",
       " '[tr][td]–[/td][td]21[/td][td]Belgium[/td][td]Jitse Haes [playerid=428112207][/td][td][/td][td][/td][td]32.95[/td][td]1 시즌   11 주   4 일[/td][td]570[/td][td]4[/td][td]5[/td][td]7[/td][td]5[/td][td]15[/td][td][/td][td]2[/td][td]6[/td][td]6[/td][td]5[/td][td]6[/td][td]2[/td][td]7[/td][td]590[/td][td]2017-12-20 [playerid=428112207][/td][td]4.5[/td][td]W[/td][td]372000[/td][td]2[/td][td][playerid=428112207][/td][td][playerid=428112207][/td][td]4.33[/td][td]6.7[/td][td]6.88[/td][td]6.69[/td][td]6.74[/td][td]5.28[/td][/tr]',\n",
       " '[tr][td]–[/td][td]22[/td][td]Nederland[/td][td]Keith Esser [playerid=428060480][/td][td]빠름',\n",
       " '더 많은 정보를 보려면 클릭[/td][td][/td][td]33.0[/td][td]1 시즌   11 주   3 일[/td][td]640[/td][td]5[/td][td]6[/td][td]8[/td][td]6[/td][td]15[/td][td][/td][td]2[/td][td]6[/td][td]5[/td][td]6[/td][td]6[/td][td]2[/td][td]9[/td][td]590[/td][td]2017-12-20 [playerid=428060480][/td][td]4.5[/td][td]W[/td][td]348000[/td][td]5[/td][td][playerid=428060480][/td][td][playerid=428060480][/td][td]4.55[/td][td]6.96[/td][td]6.82[/td][td]6.69[/td][td]6.34[/td][td]5.37[/td][/tr]',\n",
       " '[tr][td]–[/td][td]23[/td][td]Belgium[/td][td]Mathias Piron [playerid=428125893][/td][td]공 마술사',\n",
       " '더 많은 정보를 보려면 클릭[/td][td][/td][td]33.64[/td][td]1 시즌   11 주   4 일[/td][td]310[/td][td]6[/td][td]5[/td][td]6[/td][td]5[/td][td]15[/td][td][/td][td]2[/td][td]6[/td][td]5[/td][td]5[/td][td]5[/td][td]2[/td][td]9[/td][td]590[/td][td]2017-12-20 [playerid=428125893][/td][td]4.5[/td][td]W[/td][td]360000[/td][td]3[/td][td][playerid=428125893][/td][td][playerid=428125893][/td][td]3.96[/td][td]5.95[/td][td]5.98[/td][td]5.62[/td][td]5.48[/td][td]4.46[/td][/tr]',\n",
       " '[tr][td]–[/td][td]25[/td][td]Polska[/td][td]Pylyp Nagorniak [playerid=406205227][/td][td][/td][td][/td][td]28.25[/td][td]1 시즌   11 주   4 일[/td][td]2000[/td][td]5[/td][td]3[/td][td]7[/td][td]7[/td][td]15[/td][td][/td][td]1[/td][td]6[/td][td]7[/td][td]3[/td][td]6[/td][td]3[/td][td]9[/td][td]702[/td][td]2017-12-20 [playerid=406205227][/td][td]5[/td][td]IM[/td][td]444000[/td][td]2[/td][td][playerid=406205227][/td][td][playerid=406205227][/td][td]3.5[/td][td]6.45[/td][td]7.11[/td][td]6.66[/td][td]7.35[/td][td]5.57[/td][/tr]',\n",
       " '[tr][td]–[/td][td]31[/td][td]Hanguk[/td][td]Se-Hee Park [playerid=430626797][/td][td][/td][td][/td][td]19.72[/td][td]15 주   4 일[/td][td]1170[/td][td]4[/td][td]1[/td][td]6[/td][td]6[/td][td]20[/td][td]✔[/td][td]1[/td][td]2[/td][td]5[/td][td]5[/td][td]3[/td][td]7[/td][td]8[/td][td]737[/td][td]2017-12-20 [playerid=430626797][/td][td]4.5[/td][td]FW[/td][td]390000[/td][td]9[/td][td][playerid=430626797][/td][td][playerid=430626797][/td][td]2.37[/td][td]4.06[/td][td]3.94[/td][td]4.91[/td][td]5.13[/td][td]5.96[/td][/tr]',\n",
       " '[tr][td]–[/td][td]34[/td][td]Sverige[/td][td]Axel Hermansson [playerid=422526443][/td][td][/td][td][/td][td]29.47[/td][td]13 주   3 일[/td][td]1770[/td][td]5[/td][td]4[/td][td]5[/td][td]6[/td][td]11[/td][td][/td][td]2[/td][td]7[/td][td]7[/td][td]2[/td][td]6[/td][td]2[/td][td]9[/td][td]702[/td][td]2017-12-17 [playerid=422526443][/td][td]4[/td][td]IM[/td][td]516000[/td][td]6[/td][td][playerid=422526443][/td][td][playerid=422526443][/td][td]3.71[/td][td]5.73[/td][td]6.47[/td][td]5.59[/td][td]6.25[/td][td]4.26[/td][/tr]',\n",
       " '[tr][td]–[/td][td]38[/td][td]Latvija[/td][td]Artem Skurlatov [playerid=409641598][/td][td][/td][td][/td][td]27.53[/td][td]10 주   0 일[/td][td]2260[/td][td]5[/td][td]4[/td][td]5[/td][td]6[/td][td]9[/td][td][/td][td]1[/td][td]8[/td][td]6[/td][td]3[/td][td]4[/td][td]3[/td][td]4[/td][td]826[/td][td]2017-12-17 [playerid=409641598][/td][td]3.5[/td][td]CD[/td][td]732000[/td][td]8[/td][td][playerid=409641598][/td][td][playerid=409641598][/td][td]3.23[/td][td]5.94[/td][td]6.44[/td][td]5.15[/td][td]5.44[/td][td]4.02[/td][/tr]',\n",
       " '[tr][td]–[/td][td]40[/td][td]Perú[/td][td]Matías Pichis [playerid=416567166][/td][td][/td][td][/td][td]23.3[/td][td]9 주   3 일[/td][td]9650[/td][td]6[/td][td]1[/td][td]7[/td][td]7[/td][td]9[/td][td][/td][td]1[/td][td]10[/td][td]8[/td][td]2[/td][td]4[/td][td]4[/td][td]6[/td][td]1002[/td][td]2017-12-20 [playerid=416567166][/td][td]5[/td][td]CD[/td][td]1764000[/td][td]4[/td][td][playerid=416567166][/td][td][playerid=416567166][/td][td]3.78[/td][td]7.91[/td][td]9.07[/td][td]6.72[/td][td]7.62[/td][td]5.05[/td][/tr]',\n",
       " '[tr][td]–[/td][td]41[/td][td]Deutschland[/td][td]Reinold Kisch [playerid=413993877][/td][td][/td][td][/td][td]24.7[/td][td]9 주   3 일[/td][td]2100[/td][td]5[/td][td]2[/td][td]5[/td][td]7[/td][td]9[/td][td][/td][td]1[/td][td]8[/td][td]6[/td][td]2[/td][td]4[/td][td]5[/td][td]3[/td][td]800[/td][td]2017-12-20 [playerid=413993877][/td][td]3.5[/td][td]CD[/td][td]588000[/td][td]10[/td][td][playerid=413993877][/td][td][playerid=413993877][/td][td]3.01[/td][td]5.65[/td][td]6.32[/td][td]4.82[/td][td]5.34[/td][td]4.38[/td][/tr]',\n",
       " '[tr][td]–[/td][td]45[/td][td]Bulgaria[/td][td]Ivan Petkov [playerid=430624598][/td][td][/td][td]Inj 1[/td][td]18.83[/td][td]6 주   3 일[/td][td]11410[/td][td]7[/td][td]2[/td][td]6[/td][td]6[/td][td]8[/td][td][/td][td]10[/td][td]3[/td][td]1[/td][td]1[/td][td]1[/td][td]1[/td][td]7[/td][td]999[/td][td]2017-12-17 [playerid=430624598][/td][td]4.5[/td][td]KP[/td][td]2148000[/td][td]0[/td][td][playerid=430624598][/td][td][playerid=430624598][/td][td]7.42[/td][td]2.48[/td][td]2.56[/td][td]1.81[/td][td]1.7[/td][td]1.5[/td][/tr]',\n",
       " '[tr][td]–[/td][td]48[/td][td]Hanguk[/td][td]Dong-Suk Lee [playerid=432205385][/td][td]공 마술사',\n",
       " '더 많은 정보를 보려면 클릭[/td][td][/td][td]18.86[/td][td]3 주   3 일[/td][td]990[/td][td]6[/td][td]1[/td][td]6[/td][td]5[/td][td]20[/td][td]✔[/td][td]1[/td][td]5[/td][td]4[/td][td]5[/td][td]6[/td][td]5[/td][td]4[/td][td]629[/td][td][/td][td][/td][td][/td][td]290000[/td][td]0[/td][td][playerid=432205385][/td][td][playerid=432205385][/td][td]2.8[/td][td]4.8[/td][td]4.69[/td][td]4.65[/td][td]4.48[/td][td]4.87[/td][/tr]',\n",
       " '[tr][td]–[/td][td]50[/td][td]Hanguk[/td][td]Kyoo-Chul Choi [playerid=433150974][/td][td][/td][td][/td][td]17.34[/td][td]1 주   4 일[/td][td]320[/td][td]6[/td][td]1[/td][td]6[/td][td]5[/td][td]20[/td][td]✔[/td][td]1[/td][td]4[/td][td]3[/td][td]6[/td][td]4[/td][td]4[/td][td]2[/td][td]606[/td][td][/td][td][/td][td][/td][td]250000[/td][td]0[/td][td][playerid=433150974][/td][td][playerid=433150974][/td][td]2.58[/td][td]4.33[/td][td]3.92[/td][td]4.14[/td][td]3.64[/td][td]4.17[/td][/tr]',\n",
       " '[tr][td]–[/td][td]51[/td][td]Hanguk[/td][td]Soon-Jae Kim [playerid=433319591][/td][td][/td][td][/td][td]18.87[/td][td]5 일[/td][td]470[/td][td]4[/td][td]1[/td][td]6[/td][td]5[/td][td]20[/td][td]✔[/td][td]1[/td][td]6[/td][td]1[/td][td]5[/td][td]3[/td][td]5[/td][td]3[/td][td]610[/td][td][/td][td][/td][td][/td][td]270000[/td][td]0[/td][td][playerid=433319591][/td][td][playerid=433319591][/td][td]3.02[/td][td]4.71[/td][td]4.29[/td][td]3.39[/td][td]2.62[/td][td]3.81[/td][/tr]',\n",
       " '[tr][td]–[/td][td]99[/td][td]Hanguk[/td][td]Je-Min Jung [playerid=427619232] 코치[/td][td][/td][td][/td][td]42.41[/td][td]2 시즌   0 주   4 일[/td][td]0[/td][td]3[/td][td]8[/td][td]2[/td][td]1[/td][td]20[/td][td]✔[/td][td]0[/td][td]0[/td][td]0[/td][td]0[/td][td]0[/td][td]0[/td][td]0[/td][td]240[/td][td][/td][td][/td][td][/td][td]250000[/td][td]0[/td][td][playerid=427619232][/td][td][playerid=427619232][/td][td]0.82[/td][td]0.82[/td][td]0.82[/td][td]0.82[/td][td]0.82[/td][td]0.82[/td][/tr]',\n",
       " '[/table]']"
      ]
     },
     "execution_count": 13,
     "metadata": {},
     "output_type": "execute_result"
    }
   ],
   "source": [
    "import csv\n",
    "lineList = [] # emptyList\n",
    "\n",
    "with open(folder + '/player.html', 'r', encoding='utf-8') as f:\n",
    "    reader = csv.reader(f, delimiter='\\n')\n",
    "    for row in reader:\n",
    "        #print(row[0])\n",
    "        lineList.append(row[0])\n",
    "lineList"
   ]
  },
  {
   "cell_type": "code",
   "execution_count": 14,
   "metadata": {
    "collapsed": true
   },
   "outputs": [],
   "source": [
    "#lineList = tmpClip.split(\"\\n\");\n",
    "\n",
    "lineList = removeHattrickTag(lineList)\n",
    "lineList = combineTwoLine(lineList)\n",
    "lineList = modifySharpToNumber(lineList)\n",
    "lineList = modifySpToSpecial(lineList)\n",
    "lineList = removeFirstColumn(lineList)\n",
    "lineList = dividePlayerAndPlayerID(lineList)\n",
    "lineList = modifySince(lineList, folder, nowDate)\n",
    "lineList = modifyMB(lineList)\n",
    "lineList = modifyLast(lineList)\n",
    "lineList = assignEmptyForTC(lineList)\n",
    "lineList = assignEmptyForPH(lineList)\n",
    "lineList = modifyKPPos(lineList)\n",
    "lineList = modifyWBPos(lineList)\n",
    "lineList = modifyCDPos(lineList)\n",
    "lineList = modifyWPos(lineList)\n",
    "lineList = modifyIMPos(lineList)\n",
    "lineList = modifyFWPos(lineList)\n",
    "lineList = removeLastString(lineList)"
   ]
  },
  {
   "cell_type": "code",
   "execution_count": 15,
   "metadata": {},
   "outputs": [
    {
     "name": "stdout",
     "output_type": "stream",
     "text": [
      "36\tNumber\n",
      "36\t2\n",
      "36\t3\n",
      "36\t4\n",
      "36\t5\n",
      "36\t6\n",
      "36\t7\n",
      "36\t8\n",
      "36\t9\n",
      "36\t10\n",
      "36\t11\n",
      "36\t12\n",
      "36\t13\n",
      "36\t14\n",
      "36\t15\n",
      "36\t16\n",
      "36\t17\n",
      "36\t18\n",
      "36\t21\n",
      "36\t22\n",
      "36\t23\n",
      "36\t25\n",
      "36\t31\n",
      "36\t34\n",
      "36\t38\n",
      "36\t40\n",
      "36\t41\n",
      "36\t45\n",
      "36\t48\n",
      "36\t50\n",
      "36\t51\n",
      "36\t99\n"
     ]
    }
   ],
   "source": [
    "for line in lineList:\n",
    "    col = line.split(\",\")\n",
    "    print(len(col), col[0], sep=\"\\t\" ) # len = 36\n",
    "    #print(col)"
   ]
  },
  {
   "cell_type": "code",
   "execution_count": 16,
   "metadata": {},
   "outputs": [
    {
     "name": "stdout",
     "output_type": "stream",
     "text": [
      "2017/12/20/player.html\t : will be removed\n",
      "2017/12/20/player.txt\t : is not exists\n"
     ]
    }
   ],
   "source": [
    "import os.path\n",
    "\n",
    "filePath = folder + '/player.html'\n",
    "if ( os.path.exists(filePath) ):\n",
    "    print(filePath + \"\\t : will be removed\")\n",
    "    os.remove(filePath)\n",
    "\n",
    "filePath = folder + '/player.txt'\n",
    "if not os.path.exists(folder):\n",
    "    print(folder + \"\\t : will be created\")\n",
    "    os.makedirs(folder)\n",
    "\n",
    "if ( os.path.exists(filePath) ):\n",
    "    print(filePath + \"\\t : will be removed\")\n",
    "    os.remove(filePath)\n",
    "    \n",
    "if not os.path.exists(filePath):\n",
    "    print(filePath + \"\\t : is not exists\")"
   ]
  },
  {
   "cell_type": "code",
   "execution_count": 17,
   "metadata": {
    "collapsed": true
   },
   "outputs": [],
   "source": [
    "with open(folder+'/player.txt', 'w') as f:\n",
    "    for line in lineList:\n",
    "        f.write(line + \"\\n\")"
   ]
  },
  {
   "cell_type": "code",
   "execution_count": 18,
   "metadata": {
    "collapsed": true
   },
   "outputs": [],
   "source": [
    "# player_skill_table from file to table"
   ]
  },
  {
   "cell_type": "code",
   "execution_count": 19,
   "metadata": {
    "collapsed": true
   },
   "outputs": [],
   "source": [
    "# pyautogui.displayMousePosition()"
   ]
  },
  {
   "cell_type": "code",
   "execution_count": 20,
   "metadata": {
    "collapsed": true
   },
   "outputs": [],
   "source": [
    "# import pymsgbox"
   ]
  },
  {
   "cell_type": "code",
   "execution_count": 21,
   "metadata": {
    "collapsed": true
   },
   "outputs": [],
   "source": [
    "# pymsgbox.alert(text='', title='', button='OK')"
   ]
  },
  {
   "cell_type": "code",
   "execution_count": 22,
   "metadata": {
    "collapsed": true
   },
   "outputs": [],
   "source": [
    "# getText = pymsgbox.confirm(text='Choose OK or Cancel', title='', buttons=['OK', 'Cancel'])"
   ]
  },
  {
   "cell_type": "code",
   "execution_count": 23,
   "metadata": {
    "collapsed": true
   },
   "outputs": [],
   "source": [
    "# print(getText)"
   ]
  },
  {
   "cell_type": "code",
   "execution_count": 24,
   "metadata": {
    "collapsed": true
   },
   "outputs": [],
   "source": [
    "# insert data to database"
   ]
  },
  {
   "cell_type": "code",
   "execution_count": 25,
   "metadata": {
    "collapsed": true
   },
   "outputs": [],
   "source": [
    "import psycopg2"
   ]
  },
  {
   "cell_type": "code",
   "execution_count": 26,
   "metadata": {
    "collapsed": true
   },
   "outputs": [],
   "source": [
    "def dropPlayerTable():\n",
    "    conn = None\n",
    "    try:\n",
    "        conn = psycopg2.connect(\"dbname='mydatabase' user='myuser' host='localhost' port='65432' password='123qwe'\")\n",
    "        cur = conn.cursor()\n",
    "        sql = \"\"\"DROP TABLE IF EXISTS player ; \"\"\"\n",
    "        cur.execute(sql)\n",
    "        conn.commit()\n",
    "    except(Exception, psycopg2.DatabaseError) as error:\n",
    "        print(error)\n",
    "    finally:\n",
    "        if conn is not None:\n",
    "            conn.close()"
   ]
  },
  {
   "cell_type": "code",
   "execution_count": 27,
   "metadata": {
    "collapsed": true
   },
   "outputs": [],
   "source": [
    "#dropPlayerTable()"
   ]
  },
  {
   "cell_type": "code",
   "execution_count": 28,
   "metadata": {
    "collapsed": true
   },
   "outputs": [],
   "source": [
    "def createPlayerTable():\n",
    "    conn = None\n",
    "    try:\n",
    "        conn = psycopg2.connect(\"dbname='mydatabase' user='myuser' host='localhost' port='65432' password='123qwe'\")\n",
    "        cur = conn.cursor()\n",
    "        sql = \"\"\"\n",
    "CREATE TABLE player (\n",
    "    Date DATE,           --01\n",
    "    Num int,             --02\n",
    "    Nat VARCHAR(30),     --03\n",
    "    Player VARCHAR(30),  --04\n",
    "    PlayerID BIGINT,     --05\n",
    "    Spacial VARCHAR(30), --06\n",
    "    st VARCHAR(10),      --07  Status Yellow, Red\n",
    "    Age VARCHAR(10),     --08\n",
    "    Since VARCHAR(30),   --09\n",
    "    TSI BIGINT,          --10\n",
    "    LS INT,              --11\n",
    "    XP INT,              --12\n",
    "    Fo INT,              --13\n",
    "    Stm INT,             --14\n",
    "    Lo INT,              --15\n",
    "    MB boolean,          --16\n",
    "    KP INT,              --17\n",
    "    DF INT,              --18\n",
    "    PM INT,              --19\n",
    "    WI INT,              --20\n",
    "    PS INT,              --21\n",
    "    SC INT,              --22\n",
    "    SP INT,              --23\n",
    "    con BIGINT,          --24 Psico\n",
    "    Last DATE,           --25\n",
    "    RT NUMERIC(2, 1),    --26 Rating\n",
    "    Po VARCHAR(5),       --27 Position\n",
    "    Wage BIGINT,         --28\n",
    "    G INT,               --29\n",
    "    --TC VARCHAR(1),     --\n",
    "    --PH VARCHAR(1),     --\n",
    "    KP_P NUMERIC(4, 2),  --30 KP Position\n",
    "    WB_P NUMERIC(4, 2),  --31 WB Position\n",
    "    CD_P NUMERIC(4, 2),  --32 CD Position\n",
    "    W_P NUMERIC(4, 2),   --33 W  Position\n",
    "    IM_P NUMERIC(4, 2),  --34 IM Position\n",
    "    FW_P NUMERIC(4, 2)   --35 FW Position\n",
    ") ; \"\"\"\n",
    "        cur.execute(sql)\n",
    "        conn.commit()\n",
    "    except(Exception, psycopg2.DatabaseError) as error:\n",
    "        print(error)\n",
    "    finally:\n",
    "        if conn is not None:\n",
    "            conn.close()"
   ]
  },
  {
   "cell_type": "code",
   "execution_count": 29,
   "metadata": {
    "collapsed": true
   },
   "outputs": [],
   "source": [
    "#createPlayerTable()"
   ]
  },
  {
   "cell_type": "code",
   "execution_count": 30,
   "metadata": {
    "collapsed": true
   },
   "outputs": [],
   "source": [
    "def selectCountPlayer():\n",
    "    conn = None\n",
    "    try:\n",
    "        conn = psycopg2.connect(\"dbname='mydatabase' user='myuser' host='localhost' port='65432' password='123qwe'\")\n",
    "        cur = conn.cursor()\n",
    "        sql = \"SELECT COUNT(*) FROM player\" \n",
    "        \n",
    "        cur.execute(sql)\n",
    "        row = cur.fetchone()\n",
    "    except (Exception, psycopg2.DatabaseError) as error:\n",
    "        print(error)\n",
    "        print(sql)\n",
    "    finally:\n",
    "        if conn is not None:\n",
    "            conn.close()\n",
    "    return row[0]"
   ]
  },
  {
   "cell_type": "code",
   "execution_count": 31,
   "metadata": {},
   "outputs": [
    {
     "data": {
      "text/plain": [
       "1291"
      ]
     },
     "execution_count": 31,
     "metadata": {},
     "output_type": "execute_result"
    }
   ],
   "source": [
    "selectCountPlayer()"
   ]
  },
  {
   "cell_type": "code",
   "execution_count": 32,
   "metadata": {
    "collapsed": true
   },
   "outputs": [],
   "source": [
    "def insertPlayerTable(time, row):\n",
    "    conn = None\n",
    "    try:\n",
    "        conn = psycopg2.connect(\"dbname='mydatabase' user='myuser' host='localhost' port='65432' password='123qwe'\")\n",
    "        cur = conn.cursor()\n",
    "        sql =  \"\"\"\n",
    "INSERT INTO player ( \n",
    "    SELECT \n",
    "        to_date(%s, 'YYYY-MM-DD'),                                    -- 1\n",
    "        %s, %s, %s, %s, %s,                                           -- 2, 3, 4, 5, 6\n",
    "        %s, %s, %s, %s, %s,                                           -- 7, 8, 9,10,11\n",
    "        %s, %s, %s, %s, %s,                                           --12,13,14,15,16\n",
    "        %s, %s, %s, %s, %s,                                           --17,18,19,20,21\n",
    "        %s, %s, %s,                                                   --22,23,24\n",
    "        to_date(coalesce(nullif(%s,''), '0001-01-01'), 'YYYY-MM-DD'), --25\n",
    "        cast(coalesce(nullif(%s,''),'0.0') as float),                 --26\n",
    "        %s, %s, %s,                                                   --27,28,29\n",
    "        %s, %s, %s, %s, %s,                                           --30,31,32,33,34\n",
    "        %s                                                            --35\n",
    ") ; \"\"\"\n",
    "        #print(sql + \"\\t\")\n",
    "        cur.execute(sql, ( time, \n",
    "                           row[0], row[1], row[2], row[3], row[4],\n",
    "                           row[5], row[6], row[7], row[8], row[9],\n",
    "                           row[10],row[11],row[12],row[13],row[14], \n",
    "                           row[15],row[16],row[17],row[18],row[19],\n",
    "                           row[20],row[21],row[22],\n",
    "                           row[23],\n",
    "                           row[24],\n",
    "                           row[25],row[26],row[27],\n",
    "                           row[30],row[31],row[32],row[33],row[34],\n",
    "                           row[35]\n",
    "                         )\n",
    "                   )\n",
    "        conn.commit()\n",
    "    except (Exception, psycopg2.DatabaseError) as error:\n",
    "        print(\"Error Happend\")\n",
    "        print(error)\n",
    "        print(sql)\n",
    "        print(row)\n",
    "    finally:\n",
    "        if conn is not None:\n",
    "            conn.close()"
   ]
  },
  {
   "cell_type": "code",
   "execution_count": 33,
   "metadata": {
    "collapsed": true
   },
   "outputs": [],
   "source": [
    "import csv\n",
    "with open(folder + '/player.txt', 'r', encoding='utf-8') as f:\n",
    "    reader = csv.reader(f, delimiter=',')\n",
    "    for row in reader:\n",
    "        if row[0] != \"Number\" :\n",
    "            insertPlayerTable( folder.replace('/','-'), row)"
   ]
  },
  {
   "cell_type": "code",
   "execution_count": 34,
   "metadata": {},
   "outputs": [
    {
     "data": {
      "text/plain": [
       "1322"
      ]
     },
     "execution_count": 34,
     "metadata": {},
     "output_type": "execute_result"
    }
   ],
   "source": [
    "selectCountPlayer()"
   ]
  },
  {
   "cell_type": "code",
   "execution_count": 35,
   "metadata": {
    "collapsed": true
   },
   "outputs": [],
   "source": [
    "def selectPlayer(SelectString, WhereString):\n",
    "    outputList = list();\n",
    "    sql = \"\"\n",
    "    conn = None\n",
    "    try:\n",
    "        conn = psycopg2.connect(\"dbname='mydatabase' user='myuser' host='localhost' port='65432' password='123qwe'\")\n",
    "        cur = conn.cursor()\n",
    "        sql = SelectString + \"\\nFROM player\" + WhereString + \"\\n\"\n",
    "        print(sql)\n",
    "        \n",
    "        cur.execute(sql)\n",
    "        row = cur.fetchone()\n",
    "        while row is not None:\n",
    "            #print(row)\n",
    "            outputList.append(row)\n",
    "            row = cur.fetchone()\n",
    "    except (Exception, psycopg2.DatabaseError) as error:\n",
    "            print(error)\n",
    "            print(sql)\n",
    "    finally:\n",
    "        if conn is not None:\n",
    "            conn.close()\n",
    "    return outputList"
   ]
  },
  {
   "cell_type": "code",
   "execution_count": 36,
   "metadata": {},
   "outputs": [
    {
     "name": "stdout",
     "output_type": "stream",
     "text": [
      "\n",
      "SELECT \n",
      "    date :: VARCHAR(10), num, player, spacial, st,                       --01 05 \n",
      "    age, since, tsi, ls, xp,                                             --06 10 \n",
      "    fo, stm, lo, mb, kp,                                                 --11 15 \n",
      "    df, pm, wi, ps, sc,                                                  --16 20 \n",
      "    sp, con, last :: VARCHAR(10), rt :: VARCHAR(3), po,                  --21 25 \n",
      "    wage, g, kp_p :: VARCHAR(5), wb_p :: VARCHAR(5), cd_p :: VARCHAR(5), --26 30 \n",
      "    w_p :: VARCHAR(5), im_p :: VARCHAR(5), fw_p :: VARCHAR(5)            --31 35 \n",
      "FROM player\n",
      "WHERE \n",
      "    date = last \n",
      "    and date = '2017-12-20' \n",
      "    order by num,date \n",
      "\n",
      "2017-12-20,2,Jee-Hoon Kim,,,20.38,1시즌 8주 3일,10590,3,2,8,7,20,True,9,5,1,1,1,2,8,936,2017-12-20,5.5,KP,1850000,0,9.41,5.03,5.20,3.50,3.29,3.20\n",
      "2017-12-20,3,Eun-Seok Hong,,,30.63,2시즌 3일,380,5,5,6,6,20,True,1,6,6,3,2,2,7,611,2017-12-20,4.0,CD,300000,6,4.09,6.59,7.07,6.24,6.62,4.83\n",
      "2017-12-20,8,Hong-Chan Son,,,23.8,2시즌 3일,1130,5,3,6,8,20,True,1,5,6,5,5,1,8,615,2017-12-20,3.5,WB,310000,1,3.81,6.53,6.66,6.79,6.86,5.13\n",
      "2017-12-20,10,Kwang-Eul Jeon,,,25.14,2시즌 3일,1730,4,4,8,8,20,True,1,6,7,3,3,2,9,751,2017-12-20,5.0,IM,430000,6,4.68,7.84,8.56,7.80,8.49,6.01\n",
      "2017-12-20,12,Chan-Myung Lee,,,26.102,2시즌 3일,910,3,4,5,7,20,True,1,3,7,3,4,3,8,757,2017-12-20,4.0,IM,410000,8,3.11,4.98,5.45,5.97,6.72,5.34\n",
      "2017-12-20,14,Se-Jong Cho,,,29.90,2시즌 3일,730,4,5,6,6,20,True,1,5,5,6,3,4,8,610,2017-12-20,4.0,WB,290000,18,3.92,6.52,6.36,6.38,6.16,5.83\n",
      "2017-12-20,16,Dong-Shik Kim,,,20.25,2시즌 3일,1640,6,2,7,7,20,True,1,3,3,6,4,7,10,773,2017-12-20,5.5,FW,410000,20,3.28,5.16,4.62,5.30,4.85,6.67\n",
      "2017-12-20,21,Jitse Haes,,,32.95,1시즌 11주 3일,570,4,5,7,5,15,False,2,6,6,5,6,2,7,590,2017-12-20,4.5,W,372000,2,4.33,6.70,6.88,6.69,6.74,5.28\n",
      "2017-12-20,22,Keith Esser,Quick,,33.0,1시즌 11주 2일,640,5,6,8,6,15,False,2,6,5,6,6,2,9,590,2017-12-20,4.5,W,348000,5,4.55,6.96,6.82,6.69,6.34,5.37\n",
      "2017-12-20,23,Mathias Piron,Technical,,33.64,1시즌 11주 3일,310,6,5,6,5,15,False,2,6,5,5,5,2,9,590,2017-12-20,4.5,W,360000,3,3.96,5.95,5.98,5.62,5.48,4.46\n",
      "2017-12-20,25,Pylyp Nagorniak,,,28.25,1시즌 11주 3일,2000,5,3,7,7,15,False,1,6,7,3,6,3,9,702,2017-12-20,5.0,IM,444000,2,3.50,6.45,7.11,6.66,7.35,5.57\n",
      "2017-12-20,31,Se-Hee Park,,,19.72,15주 3일,1170,4,1,6,6,20,True,1,2,5,5,3,7,8,737,2017-12-20,4.5,FW,390000,9,2.37,4.06,3.94,4.91,5.13,5.96\n",
      "2017-12-20,40,Matías Pichis,,,23.3,9주 2일,9650,6,1,7,7,9,False,1,10,8,2,4,4,6,1002,2017-12-20,5.0,CD,1764000,4,3.78,7.91,9.07,6.72,7.62,5.05\n",
      "2017-12-20,41,Reinold Kisch,,,24.7,9주 2일,2100,5,2,5,7,9,False,1,8,6,2,4,5,3,800,2017-12-20,3.5,CD,588000,10,3.01,5.65,6.32,4.82,5.34,4.38\n"
     ]
    }
   ],
   "source": [
    "SelectString = \"\"\n",
    "SelectString += \"\\n\" + \"SELECT \"\n",
    "SelectString += \"\\n\" + \"    date :: VARCHAR(10), num, player, spacial, st,                       --01 05 \"\n",
    "SelectString += \"\\n\" + \"    age, since, tsi, ls, xp,                                             --06 10 \"\n",
    "SelectString += \"\\n\" + \"    fo, stm, lo, mb, kp,                                                 --11 15 \"\n",
    "SelectString += \"\\n\" + \"    df, pm, wi, ps, sc,                                                  --16 20 \"\n",
    "SelectString += \"\\n\" + \"    sp, con, last :: VARCHAR(10), rt :: VARCHAR(3), po,                  --21 25 \"\n",
    "SelectString += \"\\n\" + \"    wage, g, kp_p :: VARCHAR(5), wb_p :: VARCHAR(5), cd_p :: VARCHAR(5), --26 30 \"\n",
    "SelectString += \"\\n\" + \"    w_p :: VARCHAR(5), im_p :: VARCHAR(5), fw_p :: VARCHAR(5)            --31 35 \"\n",
    "\n",
    "WhereString = \"\"\n",
    "WhereString += \"\\n\" + \"WHERE \"\n",
    "WhereString += \"\\n\" + \"    date = last \"\n",
    "WhereString += \"\\n\" + \"    and date = '\" + folder.replace('/','-') + \"' \"\n",
    "WhereString += \"\\n\" + \"    order by num,date \"\n",
    "\n",
    "tupleList = selectPlayer(SelectString, WhereString)\n",
    "for tuple in tupleList:\n",
    "    print(tuple[0], tuple[1], tuple[2], tuple[3], tuple[4],\n",
    "          tuple[5], tuple[6], tuple[7], tuple[8], tuple[9],\n",
    "          tuple[10], tuple[11], tuple[12], tuple[13], tuple[14],\n",
    "          tuple[15], tuple[16], tuple[17], tuple[18], tuple[19],\n",
    "          tuple[20], tuple[21], tuple[22], tuple[23], tuple[24],\n",
    "          tuple[25], tuple[26], tuple[27], tuple[28], tuple[29],\n",
    "          tuple[30], tuple[31], tuple[32],\n",
    "          sep=',')"
   ]
  }
 ],
 "metadata": {
  "kernelspec": {
   "display_name": "Python 3",
   "language": "python",
   "name": "python3"
  },
  "language_info": {
   "codemirror_mode": {
    "name": "ipython",
    "version": 3
   },
   "file_extension": ".py",
   "mimetype": "text/x-python",
   "name": "python",
   "nbconvert_exporter": "python",
   "pygments_lexer": "ipython3",
   "version": "3.6.3"
  }
 },
 "nbformat": 4,
 "nbformat_minor": 2
}
