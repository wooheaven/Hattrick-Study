{
 "cells": [
  {
   "cell_type": "code",
   "execution_count": 1,
   "metadata": {},
   "outputs": [],
   "source": [
    "import sys\n",
    "\n",
    "import pandas\n",
    "\n",
    "sys.path.insert(0, '../03_Remake_with_TDD/algorithms')\n",
    "from ht_time import *"
   ]
  },
  {
   "cell_type": "code",
   "execution_count": null,
   "metadata": {},
   "outputs": [],
   "source": [
    "sys.path.insert(0, '../03_Remake_with_TDD/player')\n",
    "from parse import Parse"
   ]
  },
  {
   "cell_type": "code",
   "execution_count": 2,
   "metadata": {},
   "outputs": [],
   "source": [
    "sys.path.insert(0, '../03_Remake_with_TDD/player')\n",
    "from parse_tmp import Parse"
   ]
  },
  {
   "cell_type": "code",
   "execution_count": 3,
   "metadata": {},
   "outputs": [
    {
     "name": "stderr",
     "output_type": "stream",
     "text": [
      "/home/rwoo/02_WorkSpace/04_Hattrick/Hattrick-Study/99_Utility/ht-venv/lib/python3.6/site-packages/psycopg2/__init__.py:144: UserWarning: The psycopg2 wheel package will be renamed from release 2.8; in order to keep installing from binary please use \"pip install psycopg2-binary\" instead. For details see: <http://initd.org/psycopg/docs/install.html#binary-install-from-pypi>.\n",
      "  \"\"\")\n"
     ]
    }
   ],
   "source": [
    "sys.path.insert(0, '../03_Remake_with_TDD/postgresql')\n",
    "from ht_player_postgresql import *"
   ]
  },
  {
   "cell_type": "code",
   "execution_count": 4,
   "metadata": {},
   "outputs": [
    {
     "name": "stdout",
     "output_type": "stream",
     "text": [
      "folder = 2018/11/21\n"
     ]
    }
   ],
   "source": [
    "HattrickTime = HattrickTime()\n",
    "folder = HattrickTime.findLastSunOrWed()\n",
    "# folder = ht_time.findLastSunOrWed('2018/04/04')\n",
    "# folder = '2017/10/04'\n",
    "print(\"folder =\", folder)"
   ]
  },
  {
   "cell_type": "code",
   "execution_count": 5,
   "metadata": {},
   "outputs": [
    {
     "data": {
      "text/plain": [
       "'2018/11/21'"
      ]
     },
     "execution_count": 5,
     "metadata": {},
     "output_type": "execute_result"
    }
   ],
   "source": [
    "from datetime import date\n",
    "\n",
    "nowDate = date.today().strftime('%Y/%m/%d')\n",
    "nowDate"
   ]
  },
  {
   "cell_type": "code",
   "execution_count": 6,
   "metadata": {},
   "outputs": [],
   "source": [
    "import sys\n",
    "\n",
    "# sys.path.insert(0, '../97_Parse/')\n",
    "# from parseSkillTable import *\n",
    "\n",
    "sys.path.insert(0, '../98_Crawler/01_DualMonitor/')\n",
    "from DualMonitor import getIsDualMonitor\n",
    "\n",
    "sys.path.insert(0, '../98_Crawler/02_WebBrowser/')\n",
    "from FirefoxTab import clickTabOfFireFox\n",
    "\n",
    "sys.path.insert(0, '../98_Crawler/03_OnScreen/')\n",
    "from Empty import clickEmpty\n",
    "from MoveScroll import moveScroll\n",
    "from MoveFindMoveClick import moveByImage\n",
    "\n",
    "sys.path.insert(0, '../98_Crawler/04_Login/')\n",
    "# from HattrickLogInOut import clickFacebookLogin, clickFacebookLogout\n",
    "from HattrickLogInOut import clickHattrickLogin2, clickHattrickLogout"
   ]
  },
  {
   "cell_type": "code",
   "execution_count": 7,
   "metadata": {},
   "outputs": [
    {
     "name": "stdout",
     "output_type": "stream",
     "text": [
      "use 2 monitor = 3840 x 1080 isDualMonitor= True\n"
     ]
    }
   ],
   "source": [
    "# isDualMonitor\n",
    "isDualMonitor = getIsDualMonitor()\n",
    "\n",
    "# Hattrick LastKeeper Tab\n",
    "clickTabOfFireFox(5, isDualMonitor)\n",
    "\n",
    "# Hattrick Login by Facebook\n",
    "# clickEmpty(410, isDualMonitor)\n",
    "clickEmpty(305, isDualMonitor)\n",
    "moveScroll(20)\n",
    "clickHattrickLogin2(505, 300, isDualMonitor)"
   ]
  },
  {
   "cell_type": "code",
   "execution_count": 19,
   "metadata": {},
   "outputs": [
    {
     "name": "stdout",
     "output_type": "stream",
     "text": [
      "use 2 monitor = 3840 x 1080 isDualMonitor= True\n",
      "screen-MyClub.png location on Screen ( 517 336 79 44 )\n",
      "screen-Player.png location on Screen ( 392 697 61 68 )\n",
      "screen-SkillTable.png location on Screen ( 566 605 101 28 )\n",
      "screen-Since.png location on Screen ( 585 796 170 21 )\n"
     ]
    }
   ],
   "source": [
    "# isDualMonitor\n",
    "isDualMonitor = getIsDualMonitor()\n",
    "\n",
    "# Hattrick LastKeeper Tab\n",
    "clickTabOfFireFox(5, isDualMonitor)\n",
    "\n",
    "# Hattrick Login by Facebook\n",
    "clickEmpty(305, isDualMonitor)\n",
    "moveScroll(20)\n",
    "clickHattrickLogin2(505, 300, isDualMonitor)\n",
    "\n",
    "# Hattrick MyClub\n",
    "moveScroll(20)\n",
    "moveByImage(517, 336, 79, 44, isDualMonitor, 'screen-MyClub.png')\n",
    "\n",
    "# Hattrick Player\n",
    "clickEmpty(700, isDualMonitor)\n",
    "moveScroll(20)\n",
    "moveByImage(392, 697, 61, 68, isDualMonitor, 'screen-Player.png')\n",
    "\n",
    "# Hattrick SkillTable\n",
    "clickEmpty(593, isDualMonitor)\n",
    "moveScroll(20)\n",
    "moveByImage(566, 605, 137, 52, isDualMonitor, 'screen-SkillTable.png')\n",
    "\n",
    "# Hattrick Since\n",
    "moveScroll(-7)\n",
    "moveByImage(585, 796, 170, 21, isDualMonitor, 'screen-Since.png')\n",
    "\n",
    "# # Hattrick Copy\n",
    "# moveScroll(10)\n",
    "# moveByImage(1085, 635, 32, 25, isDualMonitor, 'screen-Copy.png')\n",
    "\n",
    "# # Hattrick Logout\n",
    "# moveScroll(20)\n",
    "# # clickFacebookLogout(1258, 337, isDualMonitor)\n",
    "# clickHattrickLogout(1270, 370, isDualMonitor)\n",
    "\n",
    "# # Jupyter Notebook Tab\n",
    "# clickTabOfFireFox(7, isDualMonitor)"
   ]
  },
  {
   "cell_type": "code",
   "execution_count": 20,
   "metadata": {},
   "outputs": [
    {
     "name": "stdout",
     "output_type": "stream",
     "text": [
      "[table]\n",
      "[tr][th]#[/th][th]Nat[/th][th]Player[/th][th]Sp[/th][th]Stat[/th][th]Age[/th][th]Since[/th][th]TSI[/th][th]LS[/th][th]XP[/th][th]Fo[/th][th]Stm[/th][th]Lo[/th][th]MB[/th][th]KP[/th][th]DF[/th][th]PM[/th][th]WI[/th][th]PS[/th][th]SC[/th][th]SP[/th][th]Psico[/th][th]Last[/th][th]Rt[/th][th]Pos[/th][th]Wage[/th][th]G[/th][th]KP[/th][th]WBd[/th][th]WB[/th][th]WBtm[/th][th]WBo[/th][th]CD[/th][th]CDtw[/th][th]Cdo[/th][th]Wd[/th][th]W[/th][th]Wtm[/th][th]Wo[/th][th]IMd[/th][th]IM[/th][th]IMtw[/th][th]IMo[/th][th]FW[/th][th]FWd[/th][th]FWtw[/th][th]TDF[/th][th]BPo[/th][th]BPoV[/th][/tr]\n",
      "[tr][td]2[/td][td]Hanguk[/td][td]Jee-Hoon Kim [playerid=428709461][/td][td][/td][td][/td][td]23.37[/td][td]4 시즌   8 주   3 일[/td][td]55360[/td][td]3[/td][td]3[/td][td]6[/td][td]8[/td][td]20[/td][td]✔[/td][td]15[/td][td]5[/td][td]1[/td][td]1[/td][td]1[/td][td]2[/td][td]10[/td][td]1531[/td][td]2018-11-21[/td][td]7.5[/td][td]KP[/td][td]19050000[/td][td]0[/td][td]12.64[/td][td]5.19[/td][td]4.83[/td][td]4.9[/td][td]4.47[/td][td]4.99[/td][td]5.16[/td][td]4.32[/td][td]3.96[/td][td]3.42[/td][td]3.36[/td][td]3.29[/td][td]3.44[/td][td]3.23[/td][td]3.21[/td][td]3.01[/td][td]3.15[/td][td]2.98[/td][td]3.14[/td][td]0[/td][td]KP[/td][td]12.64[/td][/tr]\n",
      "[tr][td]4[/td][td]Hanguk[/td][td]Ji-Woon Lee [playerid=427619236][/td][td][/td][td]Y×1[/td][td]23.78[/td][td]5 시즌   0 주   3 일[/td][td]1210[/td][td]5[/td][td]3[/td][td]7[/td][td]8[/td][td]20[/td][td]✔[/td][td]1[/td][td]7[/td][td]4[/td][td]3[/td][td]5[/td][td]2[/td][td]9[/td][td]718[/td][td]2018-11-21[/td][td]4[/td][td]CD[/td][td]390000[/td][td]26[/td][td]4.66[/td][td]7.67[/td][td]7.35[/td][td]7.48[/td][td]7.02[/td][td]7.65[/td][td]7.71[/td][td]7.11[/td][td]6.71[/td][td]6.28[/td][td]6.25[/td][td]6.11[/td][td]6.4[/td][td]6.23[/td][td]6.21[/td][td]6.05[/td][td]5.12[/td][td]5.68[/td][td]5[/td][td]0[/td][td]CDtw[/td][td]7.71[/td][/tr]\n",
      "[tr][td]6[/td][td]Hanguk[/td][td]Jae-Shin Cha [playerid=427619238][/td][td][/td][td][/td][td]31.59[/td][td]5 시즌   0 주   3 일[/td][td]500[/td][td]5[/td][td]6[/td][td]6[/td][td]6[/td][td]20[/td][td]✔[/td][td]1[/td][td]7[/td][td]3[/td][td]6[/td][td]3[/td][td]1[/td][td]11[/td][td]702[/td][td]2018-11-18[/td][td]4.5[/td][td]WB[/td][td]350000[/td][td]24[/td][td]4.3[/td][td]7.11[/td][td]6.87[/td][td]6.73[/td][td]6.61[/td][td]6.54[/td][td]6.92[/td][td]5.93[/td][td]6.07[/td][td]5.62[/td][td]5.46[/td][td]5.72[/td][td]5.07[/td][td]4.83[/td][td]5.14[/td][td]4.59[/td][td]4.14[/td][td]4.32[/td][td]4.45[/td][td]0[/td][td]WBd[/td][td]7.11[/td][/tr]\n",
      "[tr][td]8[/td][td]Hanguk[/td][td]Hong-Chan Son [playerid=427619240][/td][td][/td][td][/td][td]26.7[/td][td]5 시즌   0 주   3 일[/td][td]1250[/td][td]5[/td][td]4[/td][td]8[/td][td]7[/td][td]20[/td][td]✔[/td][td]1[/td][td]5[/td][td]6[/td][td]5[/td][td]5[/td][td]1[/td][td]10[/td][td]642[/td][td]2018-11-21[/td][td]4.5[/td][td]W[/td][td]310000[/td][td]8[/td][td]4.26[/td][td]7.13[/td][td]7.19[/td][td]7.25[/td][td]7.26[/td][td]7.34[/td][td]7.2[/td][td]7.51[/td][td]7.35[/td][td]7.47[/td][td]7.54[/td][td]7.38[/td][td]7.59[/td][td]7.54[/td][td]7.63[/td][td]7.47[/td][td]5.68[/td][td]6.54[/td][td]5.62[/td][td]0[/td][td]IMtw[/td][td]7.63[/td][/tr]\n",
      "[tr][td]10[/td][td]Hanguk[/td][td]Kwang-Eul Jeon [playerid=427619242][/td][td][/td][td][/td][td]28.13[/td][td]5 시즌   0 주   3 일[/td][td]1200[/td][td]4[/td][td]5[/td][td]5[/td][td]7[/td][td]20[/td][td]✔[/td][td]1[/td][td]6[/td][td]7[/td][td]3[/td][td]3[/td][td]2[/td][td]11[/td][td]737[/td][td]2018-11-18[/td][td]4.5[/td][td]IM[/td][td]430000[/td][td]18[/td][td]3.86[/td][td]6.44[/td][td]6.4[/td][td]6.65[/td][td]6.39[/td][td]6.98[/td][td]6.66[/td][td]7.13[/td][td]6.35[/td][td]6.37[/td][td]6.57[/td][td]5.99[/td][td]7.06[/td][td]6.92[/td][td]6.78[/td][td]6.74[/td][td]4.93[/td][td]5.45[/td][td]4.62[/td][td]0[/td][td]Cdo[/td][td]7.13[/td][/tr]\n",
      "[tr][td]11[/td][td]Hanguk[/td][td]Kwang-Hwan Yun [playerid=427619243][/td][td][/td][td][/td][td]30.92[/td][td]5 시즌   0 주   3 일[/td][td]510[/td][td]6[/td][td]5[/td][td]7[/td][td]6[/td][td]20[/td][td]✔[/td][td]2[/td][td]5[/td][td]6[/td][td]2[/td][td]5[/td][td]2[/td][td]10[/td][td]611[/td][td]2018-11-18[/td][td]4[/td][td]W[/td][td]310000[/td][td]14[/td][td]4.83[/td][td]6.5[/td][td]6.46[/td][td]6.75[/td][td]6.45[/td][td]7.12[/td][td]6.76[/td][td]7.3[/td][td]6.61[/td][td]6.68[/td][td]6.86[/td][td]6.34[/td][td]7.39[/td][td]7.36[/td][td]7.15[/td][td]7.31[/td][td]5.59[/td][td]6.38[/td][td]5.19[/td][td]0[/td][td]IMd[/td][td]7.39[/td][/tr]\n",
      "[tr][td]12[/td][td]Hanguk[/td][td]Chan-Myung Lee [playerid=427619244][/td][td][/td][td][/td][td]29.101[/td][td]5 시즌   0 주   3 일[/td][td]690[/td][td]3[/td][td]5[/td][td]6[/td][td]6[/td][td]20[/td][td]✔[/td][td]1[/td][td]3[/td][td]7[/td][td]3[/td][td]4[/td][td]3[/td][td]10[/td][td]717[/td][td]2018-11-21[/td][td]4.5[/td][td]IM[/td][td]390000[/td][td]10[/td][td]3.43[/td][td]5.21[/td][td]5.43[/td][td]5.65[/td][td]5.68[/td][td]5.94[/td][td]5.47[/td][td]6.58[/td][td]6.07[/td][td]6.49[/td][td]6.74[/td][td]6.22[/td][td]7.23[/td][td]7.29[/td][td]7.09[/td][td]7.32[/td][td]5.81[/td][td]6.33[/td][td]5.47[/td][td]0[/td][td]IMo[/td][td]7.32[/td][/tr]\n",
      "[tr][td]13[/td][td]Hanguk[/td][td]Sung-Kook Han [playerid=427619245][/td][td]공 마술사\n",
      "더 많은 정보를 보려면 클릭[/td][td][/td][td]25.89[/td][td]5 시즌   0 주   3 일[/td][td]1410[/td][td]2[/td][td]4[/td][td]6[/td][td]7[/td][td]20[/td][td]✔[/td][td]1[/td][td]5[/td][td]6[/td][td]6[/td][td]5[/td][td]2[/td][td]10[/td][td]628[/td][td]2018-11-18[/td][td]4[/td][td]W[/td][td]330000[/td][td]25[/td][td]3.82[/td][td]6.53[/td][td]6.62[/td][td]6.6[/td][td]6.7[/td][td]6.58[/td][td]6.54[/td][td]6.74[/td][td]6.76[/td][td]6.88[/td][td]6.91[/td][td]6.88[/td][td]6.83[/td][td]6.8[/td][td]6.93[/td][td]6.75[/td][td]5.56[/td][td]0[/td][td]5.6[/td][td]6.12[/td][td]IMtw[/td][td]6.93[/td][/tr]\n",
      "[tr][td]15[/td][td]Hanguk[/td][td]Man-Ok Lee [playerid=427619247][/td][td]예측할 수 없음\n",
      "더 많은 정보를 보려면 클릭[/td][td][/td][td]27.30[/td][td]5 시즌   0 주   3 일[/td][td]2080[/td][td]5[/td][td]4[/td][td]6[/td][td]7[/td][td]20[/td][td]✔[/td][td]1[/td][td]5[/td][td]5[/td][td]7[/td][td]6[/td][td]2[/td][td]10[/td][td]765[/td][td]2018-11-21[/td][td]5[/td][td]W[/td][td]350000[/td][td]14[/td][td]3.89[/td][td]6.64[/td][td]6.7[/td][td]6.56[/td][td]6.75[/td][td]6.37[/td][td]6.52[/td][td]6.37[/td][td]6.77[/td][td]6.81[/td][td]6.73[/td][td]7.01[/td][td]6.35[/td][td]6.35[/td][td]6.61[/td][td]6.35[/td][td]5.64[/td][td]6.17[/td][td]5.86[/td][td]0[/td][td]Wo[/td][td]7.01[/td][/tr]\n",
      "[tr][td]16[/td][td]Hanguk[/td][td]Dong-Shik Kim [playerid=427619248][/td][td][/td][td][/td][td]23.24[/td][td]5 시즌   0 주   3 일[/td][td]1670[/td][td]6[/td][td]3[/td][td]7[/td][td]8[/td][td]20[/td][td]✔[/td][td]1[/td][td]3[/td][td]3[/td][td]6[/td][td]4[/td][td]7[/td][td]12[/td][td]758[/td][td]2018-11-21[/td][td]5.5[/td][td]FW[/td][td]410000[/td][td]47[/td][td]3.55[/td][td]5.36[/td][td]5.46[/td][td]5.23[/td][td]5.55[/td][td]4.91[/td][td]5.17[/td][td]4.91[/td][td]5.54[/td][td]5.6[/td][td]5.47[/td][td]5.9[/td][td]5.05[/td][td]5.15[/td][td]5.28[/td][td]5.27[/td][td]7[/td][td]6.22[/td][td]7.3[/td][td]0[/td][td]FWtw[/td][td]7.3[/td][/tr]\n",
      "[tr][td]25[/td][td]Polska[/td][td]Pylyp Nagorniak [playerid=406205227][/td][td][/td][td][/td][td]31.24[/td][td]4 시즌   11 주   2 일[/td][td]930[/td][td]5[/td][td]3[/td][td]7[/td][td]6[/td][td]20[/td][td][/td][td]1[/td][td]6[/td][td]6[/td][td]3[/td][td]6[/td][td]3[/td][td]11[/td][td]604[/td][td]2018-11-21[/td][td]4.5[/td][td]IM[/td][td]396000[/td][td]12[/td][td]3.7[/td][td]6.5[/td][td]6.4[/td][td]6.63[/td][td]6.32[/td][td]6.93[/td][td]6.68[/td][td]6.93[/td][td]6.39[/td][td]6.35[/td][td]6.46[/td][td]6.1[/td][td]6.86[/td][td]6.82[/td][td]6.66[/td][td]6.77[/td][td]5.47[/td][td]6.15[/td][td]5.16[/td][td]0[/td][td]CD[/td][td]6.93[/td][/tr]\n",
      "[tr][td]31[/td][td]Hanguk[/td][td]Se-Hee Park [playerid=430626797][/td][td][/td][td][/td][td]22.71[/td][td]3 시즌   15 주   3 일[/td][td]1330[/td][td]4[/td][td]3[/td][td]7[/td][td]8[/td][td]20[/td][td]✔[/td][td]1[/td][td]2[/td][td]5[/td][td]5[/td][td]3[/td][td]7[/td][td]9[/td][td]705[/td][td]2018-11-18[/td][td]5[/td][td]FW[/td][td]390000[/td][td]28[/td][td]3.27[/td][td]4.87[/td][td]5.16[/td][td]5.11[/td][td]5.45[/td][td]5.04[/td][td]4.9[/td][td]5.58[/td][td]5.72[/td][td]6.12[/td][td]6.21[/td][td]6.16[/td][td]6.24[/td][td]6.37[/td][td]6.3[/td][td]6.5[/td][td]7.3[/td][td]6.66[/td][td]7.31[/td][td]0[/td][td]FWtw[/td][td]7.31[/td][/tr]\n",
      "[tr][td]34[/td][td]Sverige[/td][td]Axel Hermansson [playerid=422526443][/td][td][/td][td][/td][td]32.46[/td][td]3 시즌   13 주   2 일[/td][td]720[/td][td]5[/td][td]5[/td][td]7[/td][td]5[/td][td]20[/td][td][/td][td]2[/td][td]6[/td][td]6[/td][td]2[/td][td]6[/td][td]2[/td][td]9[/td][td]607[/td][td]2018-09-23[/td][td]4[/td][td]IM[/td][td]420000[/td][td]18[/td][td]4.2[/td][td]6.03[/td][td]5.91[/td][td]6.19[/td][td]5.81[/td][td]6.55[/td][td]6.25[/td][td]6.55[/td][td]5.9[/td][td]5.85[/td][td]5.99[/td][td]5.55[/td][td]6.47[/td][td]6.42[/td][td]6.23[/td][td]6.36[/td][td]4.78[/td][td]5.61[/td][td]4.4[/td][td]0[/td][td]CD[/td][td]6.55[/td][/tr]\n",
      "[tr][td]40[/td][td]Perú[/td][td]Matías Pichis [playerid=416567166][/td][td][/td][td][/td][td]26.2[/td][td]3 시즌   9 주   2 일[/td][td]8140[/td][td]6[/td][td]2[/td][td]5[/td][td]7[/td][td]20[/td][td][/td][td]1[/td][td]10[/td][td]8[/td][td]2[/td][td]4[/td][td]4[/td][td]9[/td][td]1000[/td][td]2018-11-18[/td][td]4.5[/td][td]CD[/td][td]1764000[/td][td]5[/td][td]3.92[/td][td]7.69[/td][td]7.36[/td][td]7.78[/td][td]7.06[/td][td]8.34[/td][td]7.99[/td][td]8.04[/td][td]6.73[/td][td]6.37[/td][td]6.59[/td][td]5.76[/td][td]7.4[/td][td]7.12[/td][td]6.81[/td][td]6.8[/td][td]4.98[/td][td]5.43[/td][td]4.48[/td][td]0[/td][td]CD[/td][td]8.34[/td][/tr]\n",
      "[tr][td]48[/td][td]Hanguk[/td][td]Dong-Suk Lee [playerid=432205385][/td][td]공 마술사\n",
      "더 많은 정보를 보려면 클릭[/td][td][/td][td]21.85[/td][td]3 시즌   3 주   2 일[/td][td]1290[/td][td]6[/td][td]2[/td][td]7[/td][td]7[/td][td]20[/td][td]✔[/td][td]1[/td][td]5[/td][td]4[/td][td]5[/td][td]6[/td][td]5[/td][td]6[/td][td]615[/td][td]2018-11-21[/td][td]4.5[/td][td]FW[/td][td]290000[/td][td]15[/td][td]3.75[/td][td]6.22[/td][td]6.16[/td][td]6.1[/td][td]6.09[/td][td]6.02[/td][td]6.15[/td][td]5.85[/td][td]6.07[/td][td]5.98[/td][td]5.89[/td][td]6.1[/td][td]5.74[/td][td]5.77[/td][td]5.82[/td][td]5.82[/td][td]6.25[/td][td]0[/td][td]6.32[/td][td]6.32[/td][td]TDF[/td][td]6.32[/td][/tr]\n",
      "[tr][td]52[/td][td]Hanguk[/td][td]Seong-Gong Choi [playerid=433454317][/td][td]예측할 수 없음\n",
      "더 많은 정보를 보려면 클릭[/td][td][/td][td]20.53[/td][td]2 시즌   15 주   4 일[/td][td]5840[/td][td]4[/td][td]2[/td][td]7[/td][td]7[/td][td]20[/td][td]✔[/td][td]1[/td][td]7[/td][td]7[/td][td]7[/td][td]4[/td][td]5[/td][td]7[/td][td]802[/td][td]2018-11-18[/td][td]5[/td][td]CD[/td][td]550000[/td][td]17[/td][td]4.38[/td][td]8.4[/td][td]8.4[/td][td]8.4[/td][td]8.4[/td][td]8.4[/td][td]8.4[/td][td]8.4[/td][td]8.19[/td][td]8.14[/td][td]8.2[/td][td]8.04[/td][td]8.2[/td][td]8.06[/td][td]8.15[/td][td]7.88[/td][td]7.16[/td][td]7.14[/td][td]7.22[/td][td]0[/td][td]CD[/td][td]8.4[/td][/tr]\n",
      "[tr][td]55[/td][td]Hanguk[/td][td]Geun-Ho Han [playerid=433728993][/td][td][/td][td][/td][td]21.55[/td][td]2 시즌   12 주   4 일[/td][td]2130[/td][td]3[/td][td]2[/td][td]6[/td][td]8[/td][td]20[/td][td]✔[/td][td]1[/td][td]5[/td][td]6[/td][td]4[/td][td]3[/td][td]7[/td][td]6[/td][td]704[/td][td]2018-11-21[/td][td]4.5[/td][td]FW[/td][td]410000[/td][td]14[/td][td]3.58[/td][td]6.1[/td][td]6.13[/td][td]6.26[/td][td]6.17[/td][td]6.43[/td][td]6.23[/td][td]6.6[/td][td]6.14[/td][td]6.2[/td][td]6.34[/td][td]5.98[/td][td]6.69[/td][td]6.65[/td][td]6.46[/td][td]6.59[/td][td]6.7[/td][td]6.26[/td][td]6.51[/td][td]0[/td][td]FW[/td][td]6.7[/td][/tr]\n",
      "[tr][td]61[/td][td]Oceania[/td][td]Cedrick Williamson [playerid=430364099][/td][td]힘 있음\n",
      "더 많은 정보를 보려면 클릭[/td][td][/td][td]21.6[/td][td]2 시즌   7 주   2 일[/td][td]6760[/td][td]3[/td][td]3[/td][td]7[/td][td]7[/td][td]18[/td][td][/td][td]1[/td][td]8[/td][td]5[/td][td]7[/td][td]7[/td][td]2[/td][td]7[/td][td]883[/td][td]2018-11-21[/td][td]4.5[/td][td]WB[/td][td]708000[/td][td]3[/td][td]4.33[/td][td]8.45[/td][td]8.23[/td][td]8.12[/td][td]7.99[/td][td]7.99[/td][td]8.29[/td][td]7.45[/td][td]7.67[/td][td]7.3[/td][td]7.14[/td][td]7.44[/td][td]6.77[/td][td]6.62[/td][td]6.91[/td][td]6.48[/td][td]5.57[/td][td]6.29[/td][td]5.8[/td][td]0[/td][td]WBd[/td][td]8.45[/td][/tr]\n",
      "[tr][td]65[/td][td]Hanguk[/td][td]Sang-Hyun Yun [playerid=434942107][/td][td][/td][td][/td][td]19.81[/td][td]2 시즌   2 주   4 일[/td][td]3150[/td][td]3[/td][td]1[/td][td]8[/td][td]6[/td][td]20[/td][td]✔[/td][td]1[/td][td]6[/td][td]5[/td][td]4[/td][td]7[/td][td]4[/td][td]5[/td][td]790[/td][td]2018-11-21[/td][td]4.5[/td][td]W[/td][td]390000[/td][td]4[/td][td]3.59[/td][td]6.38[/td][td]6.26[/td][td]6.35[/td][td]6.14[/td][td]6.47[/td][td]6.44[/td][td]6.3[/td][td]6.17[/td][td]6.05[/td][td]6.04[/td][td]6[/td][td]6.15[/td][td]6.16[/td][td]6.1[/td][td]6.17[/td][td]5.72[/td][td]6.2[/td][td]5.59[/td][td]0[/td][td]CD[/td][td]6.47[/td][/tr]\n",
      "[tr][td]70[/td][td]Hanguk[/td][td]Min-Gyu Jung [playerid=429263814][/td][td][/td][td]Inj 2[/td][td]25.47[/td][td]1 시즌   14 주   1 일[/td][td]5950[/td][td]1[/td][td]4[/td][td]8[/td][td]7[/td][td]16[/td][td][/td][td]1[/td][td]9[/td][td]6[/td][td]4[/td][td]4[/td][td]2[/td][td]7[/td][td]959[/td][td]2018-11-21[/td][td]5.5[/td][td]CD[/td][td]1030000[/td][td]2[/td][td]4.82[/td][td]9.16[/td][td]8.79[/td][td]9.01[/td][td]8.43[/td][td]9.3[/td][td]9.26[/td][td]8.74[/td][td]7.91[/td][td]7.4[/td][td]7.47[/td][td]7.03[/td][td]7.8[/td][td]7.47[/td][td]7.45[/td][td]7.1[/td][td]5.28[/td][td]5.89[/td][td]5.1[/td][td]0[/td][td]CD[/td][td]9.3[/td][/tr]\n",
      "[tr][td]78[/td][td]Hanguk[/td][td]Jung-Oh Han [playerid=433730490][/td][td]공 마술사\n",
      "더 많은 정보를 보려면 클릭[/td][td][/td][td]21.76[/td][td]12 주   1 일[/td][td]4560[/td][td]4[/td][td]2[/td][td]6[/td][td]8[/td][td]10[/td][td][/td][td]1[/td][td]9[/td][td]3[/td][td]5[/td][td]1[/td][td]3[/td][td]6[/td][td]961[/td][td]2018-11-21[/td][td]4.5[/td][td]WB[/td][td]1270000[/td][td]5[/td][td]3.7[/td][td]7.3[/td][td]6.83[/td][td]6.78[/td][td]6.34[/td][td]6.72[/td][td]7.13[/td][td]5.72[/td][td]5.39[/td][td]4.59[/td][td]4.46[/td][td]4.48[/td][td]4.28[/td][td]3.87[/td][td]4.07[/td][td]3.43[/td][td]3.35[/td][td]0[/td][td]3.59[/td][td]2.94[/td][td]WBd[/td][td]7.3[/td][/tr]\n",
      "[tr][td]79[/td][td]España[/td][td]Jimeno Eguiruren [playerid=415605434][/td][td][/td][td][/td][td]26.20[/td][td]9 주   3 일[/td][td]26280[/td][td]5[/td][td]5[/td][td]7[/td][td]7[/td][td]9[/td][td][/td][td]1[/td][td]8[/td][td]11[/td][td]3[/td][td]9[/td][td]2[/td][td]6[/td][td]1097[/td][td]2018-11-18[/td][td]6.5[/td][td]IM[/td][td]4116000[/td][td]23[/td][td]4.14[/td][td]8.56[/td][td]8.58[/td][td]9.16[/td][td]8.65[/td][td]9.91[/td][td]9.1[/td][td]10.45[/td][td]9.12[/td][td]9.4[/td][td]9.79[/td][td]8.74[/td][td]10.86[/td][td]10.84[/td][td]10.43[/td][td]10.78[/td][td]6.92[/td][td]8.76[/td][td]6.11[/td][td]0[/td][td]IMd[/td][td]10.86[/td][/tr]\n",
      "[tr][td]80[/td][td]Andorra[/td][td]Joaquim Muntaner [playerid=427020395][/td][td]공 마술사\n",
      "더 많은 정보를 보려면 클릭[/td][td][/td][td]27.78[/td][td]7 주   6 일[/td][td]14520[/td][td]6[/td][td]6[/td][td]6[/td][td]7[/td][td]8[/td][td][/td][td]1[/td][td]9[/td][td]6[/td][td]8[/td][td]7[/td][td]4[/td][td]10[/td][td]977[/td][td]2018-11-18[/td][td]4.5[/td][td]WB[/td][td]1260000[/td][td]29[/td][td]4.11[/td][td]8.5[/td][td]8.29[/td][td]8.2[/td][td]8.08[/td][td]8.07[/td][td]8.35[/td][td]7.58[/td][td]7.72[/td][td]7.37[/td][td]7.24[/td][td]7.46[/td][td]6.93[/td][td]6.77[/td][td]7.01[/td][td]6.61[/td][td]6.08[/td][td]0[/td][td]6.3[/td][td]6.49[/td][td]WBd[/td][td]8.5[/td][/tr]\n",
      "[tr][td]81[/td][td]Hanguk[/td][td]Sang-Yong Jang [playerid=433566477][/td][td][/td][td][/td][td]21.70[/td][td]7 주   3 일[/td][td]8120[/td][td]2[/td][td]2[/td][td]7[/td][td]8[/td][td]8[/td][td][/td][td]1[/td][td]9[/td][td]6[/td][td]6[/td][td]5[/td][td]4[/td][td]5[/td][td]939[/td][td]2018-11-18[/td][td]4.5[/td][td]WB[/td][td]970000[/td][td]5[/td][td]3.89[/td][td]8.39[/td][td]8.1[/td][td]8.15[/td][td]7.81[/td][td]8.22[/td][td]8.36[/td][td]7.69[/td][td]7.32[/td][td]6.88[/td][td]6.85[/td][td]6.73[/td][td]6.87[/td][td]6.62[/td][td]6.71[/td][td]6.35[/td][td]5.51[/td][td]5.75[/td][td]5.54[/td][td]0[/td][td]WBd[/td][td]8.39[/td][/tr]\n",
      "[tr][td]82[/td][td]Hanguk[/td][td]Si-Yul SaGong [playerid=438852209][/td][td][/td][td][/td][td]17.85[/td][td]5 주   0 일[/td][td]1710[/td][td]4[/td][td]1[/td][td]2[/td][td]5[/td][td]20[/td][td]✔[/td][td]7[/td][td]3[/td][td]1[/td][td]2[/td][td]1[/td][td]1[/td][td]2[/td][td]693[/td][td]2018-11-18[/td][td]1.5[/td][td]KP[/td][td]750000[/td][td]0[/td][td]3.28[/td][td]1.8[/td][td]1.72[/td][td]1.7[/td][td]1.64[/td][td]1.67[/td][td]1.76[/td][td]1.51[/td][td]1.5[/td][td]1.37[/td][td]1.34[/td][td]1.38[/td][td]1.28[/td][td]1.22[/td][td]1.27[/td][td]1.16[/td][td]1.17[/td][td]1.15[/td][td]1.23[/td][td]0[/td][td]KP[/td][td]3.28[/td][/tr]\n",
      "[tr][td]83[/td][td]Hanguk[/td][td]Kwang-Hyun Seo [playerid=434869614][/td][td]예측할 수 없음\n",
      "더 많은 정보를 보려면 클릭[/td][td][/td][td]20.67[/td][td]4 주   4 일[/td][td]2910[/td][td]2[/td][td]2[/td][td]8[/td][td]7[/td][td]6[/td][td][/td][td]1[/td][td]8[/td][td]5[/td][td]4[/td][td]5[/td][td]4[/td][td]2[/td][td]805[/td][td]2018-11-21[/td][td]4[/td][td]CD[/td][td]390000[/td][td]10[/td][td]3.62[/td][td]7.39[/td][td]7.06[/td][td]7.2[/td][td]6.73[/td][td]7.38[/td][td]7.43[/td][td]6.82[/td][td]6.33[/td][td]5.88[/td][td]5.86[/td][td]5.67[/td][td]6.06[/td][td]5.86[/td][td]5.81[/td][td]5.65[/td][td]5.02[/td][td]5.27[/td][td]4.91[/td][td]0[/td][td]CDtw[/td][td]7.43[/td][/tr]\n",
      "[tr][td]98[/td][td]Hanguk[/td][td]Young-Joo Je [playerid=439401420][/td][td][/td][td][/td][td]18.92[/td][td]1 주   2 일[/td][td]2120[/td][td]6[/td][td]1[/td][td]6[/td][td]5[/td][td]20[/td][td]✔[/td][td]6[/td][td]4[/td][td]2[/td][td]1[/td][td]1[/td][td]2[/td][td]2[/td][td]648[/td][td][/td][td][/td][td][/td][td]970000[/td][td]0[/td][td]5.3[/td][td]3.6[/td][td]3.42[/td][td]3.51[/td][td]3.24[/td][td]3.63[/td][td]3.64[/td][td]3.34[/td][td]2.98[/td][td]2.72[/td][td]2.74[/td][td]2.57[/td][td]2.91[/td][td]2.78[/td][td]2.72[/td][td]2.64[/td][td]2.46[/td][td]2.4[/td][td]2.38[/td][td]0[/td][td]KP[/td][td]5.3[/td][/tr]\n",
      "[tr][td]99[/td][td]Danmark[/td][td]Torben Boesen [playerid=321795066] 코치[/td][td]헤딩\n",
      "더 많은 정보를 보려면 클릭[/td][td][/td][td]41.69[/td][td]10 주   3 일[/td][td]50[/td][td]5[/td][td]13[/td][td]6[/td][td]1[/td][td]9[/td][td][/td][td]0[/td][td]8[/td][td]0[/td][td]2[/td][td]0[/td][td]0[/td][td]0[/td][td]780[/td][td]2018-06-06[/td][td]4[/td][td]WB[/td][td]396000[/td][td]79[/td][td]2.3[/td][td]4.16[/td][td]3.76[/td][td]3.75[/td][td]3.35[/td][td]3.74[/td][td]4.05[/td][td]2.92[/td][td]2.69[/td][td]2.05[/td][td]1.93[/td][td]1.98[/td][td]1.82[/td][td]1.54[/td][td]1.67[/td][td]1.26[/td][td]1.17[/td][td]1.11[/td][td]1.3[/td][td]0[/td][td]WBd[/td][td]4.16[/td][/tr]\n",
      "[/table]\n"
     ]
    }
   ],
   "source": [
    "import pyperclip\n",
    "\n",
    "tmpClip = pyperclip.paste()\n",
    "print(tmpClip)"
   ]
  },
  {
   "cell_type": "code",
   "execution_count": 21,
   "metadata": {},
   "outputs": [],
   "source": [
    "from ht_file import *"
   ]
  },
  {
   "cell_type": "code",
   "execution_count": 22,
   "metadata": {},
   "outputs": [],
   "source": [
    "HattrickFile = HattrickFile()"
   ]
  },
  {
   "cell_type": "code",
   "execution_count": 23,
   "metadata": {},
   "outputs": [
    {
     "name": "stdout",
     "output_type": "stream",
     "text": [
      "2018/11/21\t\t : will be created\n",
      "2018/11/21\t\t : is existed\n"
     ]
    }
   ],
   "source": [
    "HattrickFile.check_and_create_folder(folder)"
   ]
  },
  {
   "cell_type": "code",
   "execution_count": 24,
   "metadata": {},
   "outputs": [
    {
     "name": "stdout",
     "output_type": "stream",
     "text": [
      "2018/11/21/player.html\t : is not existed\n"
     ]
    }
   ],
   "source": [
    "HattrickFile.check_and_delete_file(folder + '/player.html')"
   ]
  },
  {
   "cell_type": "code",
   "execution_count": 25,
   "metadata": {},
   "outputs": [],
   "source": [
    "with open(folder + '/player.html', 'w') as f:\n",
    "    f.write(tmpClip)"
   ]
  },
  {
   "cell_type": "code",
   "execution_count": 26,
   "metadata": {},
   "outputs": [],
   "source": [
    "p = Parse()"
   ]
  },
  {
   "cell_type": "code",
   "execution_count": 27,
   "metadata": {},
   "outputs": [
    {
     "name": "stdout",
     "output_type": "stream",
     "text": [
      "<table>\n",
      "<tr><th>#</th><th>Nat</th><th>Player</th><th>Sp</th><th>Stat</th><th>Age</th><th>Since</th><th>TSI</th><th>LS</th><th>XP</th><th>Fo</th><th>Stm</th><th>Lo</th><th>MB</th><th>KP</th><th>DF</th><th>PM</th><th>WI</th><th>PS</th><th>SC</th><th>SP</th><th>Psico</th><th>Last</th><th>Rt</th><th>Pos</th><th>Wage</th><th>G</th><th>KP</th><th>WBd</th><th>WB</th><th>WBtm</th><th>WBo</th><th>CD</th><th>CDtw</th><th>Cdo</th><th>Wd</th><th>W</th><th>Wtm</th><th>Wo</th><th>IMd</th><th>IM</th><th>IMtw</th><th>IMo</th><th>FW</th><th>FWd</th><th>FWtw</th><th>TDF</th><th>BPo</th><th>BPoV</th></tr>\n",
      "<tr><td>2</td><td>Hanguk</td><td>Jee-Hoon Kim [playerid=428709461]</td><td></td><td></td><td>23.37</td><td>4 시즌   8 주   3 일</td><td>55360</td><td>3</td><td>3</td><td>6</td><td>8</td><td>20</td><td>✔</td><td>15</td><td>5</td><td>1</td><td>1</td><td>1</td><td>2</td><td>10</td><td>1531</td><td>2018-11-21</td><td>7.5</td><td>KP</td><td>19050000</td><td>0</td><td>12.64</td><td>5.19</td><td>4.83</td><td>4.9</td><td>4.47</td><td>4.99</td><td>5.16</td><td>4.32</td><td>3.96</td><td>3.42</td><td>3.36</td><td>3.29</td><td>3.44</td><td>3.23</td><td>3.21</td><td>3.01</td><td>3.15</td><td>2.98</td><td>3.14</td><td>0</td><td>KP</td><td>12.64</td></tr>\n",
      "<tr><td>4</td><td>Hanguk</td><td>Ji-Woon Lee [playerid=427619236]</td><td></td><td>Y×1</td><td>23.78</td><td>5 시즌   0 주   3 일</td><td>1210</td><td>5</td><td>3</td><td>7</td><td>8</td><td>20</td><td>✔</td><td>1</td><td>7</td><td>4</td><td>3</td><td>5</td><td>2</td><td>9</td><td>718</td><td>2018-11-21</td><td>4</td><td>CD</td><td>390000</td><td>26</td><td>4.66</td><td>7.67</td><td>7.35</td><td>7.48</td><td>7.02</td><td>7.65</td><td>7.71</td><td>7.11</td><td>6.71</td><td>6.28</td><td>6.25</td><td>6.11</td><td>6.4</td><td>6.23</td><td>6.21</td><td>6.05</td><td>5.12</td><td>5.68</td><td>5</td><td>0</td><td>CDtw</td><td>7.71</td></tr>\n",
      "<tr><td>6</td><td>Hanguk</td><td>Jae-Shin Cha [playerid=427619238]</td><td></td><td></td><td>31.59</td><td>5 시즌   0 주   3 일</td><td>500</td><td>5</td><td>6</td><td>6</td><td>6</td><td>20</td><td>✔</td><td>1</td><td>7</td><td>3</td><td>6</td><td>3</td><td>1</td><td>11</td><td>702</td><td>2018-11-18</td><td>4.5</td><td>WB</td><td>350000</td><td>24</td><td>4.3</td><td>7.11</td><td>6.87</td><td>6.73</td><td>6.61</td><td>6.54</td><td>6.92</td><td>5.93</td><td>6.07</td><td>5.62</td><td>5.46</td><td>5.72</td><td>5.07</td><td>4.83</td><td>5.14</td><td>4.59</td><td>4.14</td><td>4.32</td><td>4.45</td><td>0</td><td>WBd</td><td>7.11</td></tr>\n",
      "<tr><td>8</td><td>Hanguk</td><td>Hong-Chan Son [playerid=427619240]</td><td></td><td></td><td>26.7</td><td>5 시즌   0 주   3 일</td><td>1250</td><td>5</td><td>4</td><td>8</td><td>7</td><td>20</td><td>✔</td><td>1</td><td>5</td><td>6</td><td>5</td><td>5</td><td>1</td><td>10</td><td>642</td><td>2018-11-21</td><td>4.5</td><td>W</td><td>310000</td><td>8</td><td>4.26</td><td>7.13</td><td>7.19</td><td>7.25</td><td>7.26</td><td>7.34</td><td>7.2</td><td>7.51</td><td>7.35</td><td>7.47</td><td>7.54</td><td>7.38</td><td>7.59</td><td>7.54</td><td>7.63</td><td>7.47</td><td>5.68</td><td>6.54</td><td>5.62</td><td>0</td><td>IMtw</td><td>7.63</td></tr>\n",
      "<tr><td>10</td><td>Hanguk</td><td>Kwang-Eul Jeon [playerid=427619242]</td><td></td><td></td><td>28.13</td><td>5 시즌   0 주   3 일</td><td>1200</td><td>4</td><td>5</td><td>5</td><td>7</td><td>20</td><td>✔</td><td>1</td><td>6</td><td>7</td><td>3</td><td>3</td><td>2</td><td>11</td><td>737</td><td>2018-11-18</td><td>4.5</td><td>IM</td><td>430000</td><td>18</td><td>3.86</td><td>6.44</td><td>6.4</td><td>6.65</td><td>6.39</td><td>6.98</td><td>6.66</td><td>7.13</td><td>6.35</td><td>6.37</td><td>6.57</td><td>5.99</td><td>7.06</td><td>6.92</td><td>6.78</td><td>6.74</td><td>4.93</td><td>5.45</td><td>4.62</td><td>0</td><td>Cdo</td><td>7.13</td></tr>\n",
      "<tr><td>11</td><td>Hanguk</td><td>Kwang-Hwan Yun [playerid=427619243]</td><td></td><td></td><td>30.92</td><td>5 시즌   0 주   3 일</td><td>510</td><td>6</td><td>5</td><td>7</td><td>6</td><td>20</td><td>✔</td><td>2</td><td>5</td><td>6</td><td>2</td><td>5</td><td>2</td><td>10</td><td>611</td><td>2018-11-18</td><td>4</td><td>W</td><td>310000</td><td>14</td><td>4.83</td><td>6.5</td><td>6.46</td><td>6.75</td><td>6.45</td><td>7.12</td><td>6.76</td><td>7.3</td><td>6.61</td><td>6.68</td><td>6.86</td><td>6.34</td><td>7.39</td><td>7.36</td><td>7.15</td><td>7.31</td><td>5.59</td><td>6.38</td><td>5.19</td><td>0</td><td>IMd</td><td>7.39</td></tr>\n",
      "<tr><td>12</td><td>Hanguk</td><td>Chan-Myung Lee [playerid=427619244]</td><td></td><td></td><td>29.101</td><td>5 시즌   0 주   3 일</td><td>690</td><td>3</td><td>5</td><td>6</td><td>6</td><td>20</td><td>✔</td><td>1</td><td>3</td><td>7</td><td>3</td><td>4</td><td>3</td><td>10</td><td>717</td><td>2018-11-21</td><td>4.5</td><td>IM</td><td>390000</td><td>10</td><td>3.43</td><td>5.21</td><td>5.43</td><td>5.65</td><td>5.68</td><td>5.94</td><td>5.47</td><td>6.58</td><td>6.07</td><td>6.49</td><td>6.74</td><td>6.22</td><td>7.23</td><td>7.29</td><td>7.09</td><td>7.32</td><td>5.81</td><td>6.33</td><td>5.47</td><td>0</td><td>IMo</td><td>7.32</td></tr>\n",
      "<tr><td>13</td><td>Hanguk</td><td>Sung-Kook Han [playerid=427619245]</td><td>공 마술사\n",
      "더 많은 정보를 보려면 클릭</td><td></td><td>25.89</td><td>5 시즌   0 주   3 일</td><td>1410</td><td>2</td><td>4</td><td>6</td><td>7</td><td>20</td><td>✔</td><td>1</td><td>5</td><td>6</td><td>6</td><td>5</td><td>2</td><td>10</td><td>628</td><td>2018-11-18</td><td>4</td><td>W</td><td>330000</td><td>25</td><td>3.82</td><td>6.53</td><td>6.62</td><td>6.6</td><td>6.7</td><td>6.58</td><td>6.54</td><td>6.74</td><td>6.76</td><td>6.88</td><td>6.91</td><td>6.88</td><td>6.83</td><td>6.8</td><td>6.93</td><td>6.75</td><td>5.56</td><td>0</td><td>5.6</td><td>6.12</td><td>IMtw</td><td>6.93</td></tr>\n",
      "<tr><td>15</td><td>Hanguk</td><td>Man-Ok Lee [playerid=427619247]</td><td>예측할 수 없음\n",
      "더 많은 정보를 보려면 클릭</td><td></td><td>27.30</td><td>5 시즌   0 주   3 일</td><td>2080</td><td>5</td><td>4</td><td>6</td><td>7</td><td>20</td><td>✔</td><td>1</td><td>5</td><td>5</td><td>7</td><td>6</td><td>2</td><td>10</td><td>765</td><td>2018-11-21</td><td>5</td><td>W</td><td>350000</td><td>14</td><td>3.89</td><td>6.64</td><td>6.7</td><td>6.56</td><td>6.75</td><td>6.37</td><td>6.52</td><td>6.37</td><td>6.77</td><td>6.81</td><td>6.73</td><td>7.01</td><td>6.35</td><td>6.35</td><td>6.61</td><td>6.35</td><td>5.64</td><td>6.17</td><td>5.86</td><td>0</td><td>Wo</td><td>7.01</td></tr>\n",
      "<tr><td>16</td><td>Hanguk</td><td>Dong-Shik Kim [playerid=427619248]</td><td></td><td></td><td>23.24</td><td>5 시즌   0 주   3 일</td><td>1670</td><td>6</td><td>3</td><td>7</td><td>8</td><td>20</td><td>✔</td><td>1</td><td>3</td><td>3</td><td>6</td><td>4</td><td>7</td><td>12</td><td>758</td><td>2018-11-21</td><td>5.5</td><td>FW</td><td>410000</td><td>47</td><td>3.55</td><td>5.36</td><td>5.46</td><td>5.23</td><td>5.55</td><td>4.91</td><td>5.17</td><td>4.91</td><td>5.54</td><td>5.6</td><td>5.47</td><td>5.9</td><td>5.05</td><td>5.15</td><td>5.28</td><td>5.27</td><td>7</td><td>6.22</td><td>7.3</td><td>0</td><td>FWtw</td><td>7.3</td></tr>\n",
      "<tr><td>25</td><td>Polska</td><td>Pylyp Nagorniak [playerid=406205227]</td><td></td><td></td><td>31.24</td><td>4 시즌   11 주   2 일</td><td>930</td><td>5</td><td>3</td><td>7</td><td>6</td><td>20</td><td></td><td>1</td><td>6</td><td>6</td><td>3</td><td>6</td><td>3</td><td>11</td><td>604</td><td>2018-11-21</td><td>4.5</td><td>IM</td><td>396000</td><td>12</td><td>3.7</td><td>6.5</td><td>6.4</td><td>6.63</td><td>6.32</td><td>6.93</td><td>6.68</td><td>6.93</td><td>6.39</td><td>6.35</td><td>6.46</td><td>6.1</td><td>6.86</td><td>6.82</td><td>6.66</td><td>6.77</td><td>5.47</td><td>6.15</td><td>5.16</td><td>0</td><td>CD</td><td>6.93</td></tr>\n",
      "<tr><td>31</td><td>Hanguk</td><td>Se-Hee Park [playerid=430626797]</td><td></td><td></td><td>22.71</td><td>3 시즌   15 주   3 일</td><td>1330</td><td>4</td><td>3</td><td>7</td><td>8</td><td>20</td><td>✔</td><td>1</td><td>2</td><td>5</td><td>5</td><td>3</td><td>7</td><td>9</td><td>705</td><td>2018-11-18</td><td>5</td><td>FW</td><td>390000</td><td>28</td><td>3.27</td><td>4.87</td><td>5.16</td><td>5.11</td><td>5.45</td><td>5.04</td><td>4.9</td><td>5.58</td><td>5.72</td><td>6.12</td><td>6.21</td><td>6.16</td><td>6.24</td><td>6.37</td><td>6.3</td><td>6.5</td><td>7.3</td><td>6.66</td><td>7.31</td><td>0</td><td>FWtw</td><td>7.31</td></tr>\n",
      "<tr><td>34</td><td>Sverige</td><td>Axel Hermansson [playerid=422526443]</td><td></td><td></td><td>32.46</td><td>3 시즌   13 주   2 일</td><td>720</td><td>5</td><td>5</td><td>7</td><td>5</td><td>20</td><td></td><td>2</td><td>6</td><td>6</td><td>2</td><td>6</td><td>2</td><td>9</td><td>607</td><td>2018-09-23</td><td>4</td><td>IM</td><td>420000</td><td>18</td><td>4.2</td><td>6.03</td><td>5.91</td><td>6.19</td><td>5.81</td><td>6.55</td><td>6.25</td><td>6.55</td><td>5.9</td><td>5.85</td><td>5.99</td><td>5.55</td><td>6.47</td><td>6.42</td><td>6.23</td><td>6.36</td><td>4.78</td><td>5.61</td><td>4.4</td><td>0</td><td>CD</td><td>6.55</td></tr>\n",
      "<tr><td>40</td><td>Perú</td><td>Matías Pichis [playerid=416567166]</td><td></td><td></td><td>26.2</td><td>3 시즌   9 주   2 일</td><td>8140</td><td>6</td><td>2</td><td>5</td><td>7</td><td>20</td><td></td><td>1</td><td>10</td><td>8</td><td>2</td><td>4</td><td>4</td><td>9</td><td>1000</td><td>2018-11-18</td><td>4.5</td><td>CD</td><td>1764000</td><td>5</td><td>3.92</td><td>7.69</td><td>7.36</td><td>7.78</td><td>7.06</td><td>8.34</td><td>7.99</td><td>8.04</td><td>6.73</td><td>6.37</td><td>6.59</td><td>5.76</td><td>7.4</td><td>7.12</td><td>6.81</td><td>6.8</td><td>4.98</td><td>5.43</td><td>4.48</td><td>0</td><td>CD</td><td>8.34</td></tr>\n",
      "<tr><td>48</td><td>Hanguk</td><td>Dong-Suk Lee [playerid=432205385]</td><td>공 마술사\n",
      "더 많은 정보를 보려면 클릭</td><td></td><td>21.85</td><td>3 시즌   3 주   2 일</td><td>1290</td><td>6</td><td>2</td><td>7</td><td>7</td><td>20</td><td>✔</td><td>1</td><td>5</td><td>4</td><td>5</td><td>6</td><td>5</td><td>6</td><td>615</td><td>2018-11-21</td><td>4.5</td><td>FW</td><td>290000</td><td>15</td><td>3.75</td><td>6.22</td><td>6.16</td><td>6.1</td><td>6.09</td><td>6.02</td><td>6.15</td><td>5.85</td><td>6.07</td><td>5.98</td><td>5.89</td><td>6.1</td><td>5.74</td><td>5.77</td><td>5.82</td><td>5.82</td><td>6.25</td><td>0</td><td>6.32</td><td>6.32</td><td>TDF</td><td>6.32</td></tr>\n",
      "<tr><td>52</td><td>Hanguk</td><td>Seong-Gong Choi [playerid=433454317]</td><td>예측할 수 없음\n",
      "더 많은 정보를 보려면 클릭</td><td></td><td>20.53</td><td>2 시즌   15 주   4 일</td><td>5840</td><td>4</td><td>2</td><td>7</td><td>7</td><td>20</td><td>✔</td><td>1</td><td>7</td><td>7</td><td>7</td><td>4</td><td>5</td><td>7</td><td>802</td><td>2018-11-18</td><td>5</td><td>CD</td><td>550000</td><td>17</td><td>4.38</td><td>8.4</td><td>8.4</td><td>8.4</td><td>8.4</td><td>8.4</td><td>8.4</td><td>8.4</td><td>8.19</td><td>8.14</td><td>8.2</td><td>8.04</td><td>8.2</td><td>8.06</td><td>8.15</td><td>7.88</td><td>7.16</td><td>7.14</td><td>7.22</td><td>0</td><td>CD</td><td>8.4</td></tr>\n",
      "<tr><td>55</td><td>Hanguk</td><td>Geun-Ho Han [playerid=433728993]</td><td></td><td></td><td>21.55</td><td>2 시즌   12 주   4 일</td><td>2130</td><td>3</td><td>2</td><td>6</td><td>8</td><td>20</td><td>✔</td><td>1</td><td>5</td><td>6</td><td>4</td><td>3</td><td>7</td><td>6</td><td>704</td><td>2018-11-21</td><td>4.5</td><td>FW</td><td>410000</td><td>14</td><td>3.58</td><td>6.1</td><td>6.13</td><td>6.26</td><td>6.17</td><td>6.43</td><td>6.23</td><td>6.6</td><td>6.14</td><td>6.2</td><td>6.34</td><td>5.98</td><td>6.69</td><td>6.65</td><td>6.46</td><td>6.59</td><td>6.7</td><td>6.26</td><td>6.51</td><td>0</td><td>FW</td><td>6.7</td></tr>\n",
      "<tr><td>61</td><td>Oceania</td><td>Cedrick Williamson [playerid=430364099]</td><td>힘 있음\n",
      "더 많은 정보를 보려면 클릭</td><td></td><td>21.6</td><td>2 시즌   7 주   2 일</td><td>6760</td><td>3</td><td>3</td><td>7</td><td>7</td><td>18</td><td></td><td>1</td><td>8</td><td>5</td><td>7</td><td>7</td><td>2</td><td>7</td><td>883</td><td>2018-11-21</td><td>4.5</td><td>WB</td><td>708000</td><td>3</td><td>4.33</td><td>8.45</td><td>8.23</td><td>8.12</td><td>7.99</td><td>7.99</td><td>8.29</td><td>7.45</td><td>7.67</td><td>7.3</td><td>7.14</td><td>7.44</td><td>6.77</td><td>6.62</td><td>6.91</td><td>6.48</td><td>5.57</td><td>6.29</td><td>5.8</td><td>0</td><td>WBd</td><td>8.45</td></tr>\n",
      "<tr><td>65</td><td>Hanguk</td><td>Sang-Hyun Yun [playerid=434942107]</td><td></td><td></td><td>19.81</td><td>2 시즌   2 주   4 일</td><td>3150</td><td>3</td><td>1</td><td>8</td><td>6</td><td>20</td><td>✔</td><td>1</td><td>6</td><td>5</td><td>4</td><td>7</td><td>4</td><td>5</td><td>790</td><td>2018-11-21</td><td>4.5</td><td>W</td><td>390000</td><td>4</td><td>3.59</td><td>6.38</td><td>6.26</td><td>6.35</td><td>6.14</td><td>6.47</td><td>6.44</td><td>6.3</td><td>6.17</td><td>6.05</td><td>6.04</td><td>6</td><td>6.15</td><td>6.16</td><td>6.1</td><td>6.17</td><td>5.72</td><td>6.2</td><td>5.59</td><td>0</td><td>CD</td><td>6.47</td></tr>\n",
      "<tr><td>70</td><td>Hanguk</td><td>Min-Gyu Jung [playerid=429263814]</td><td></td><td>Inj 2</td><td>25.47</td><td>1 시즌   14 주   1 일</td><td>5950</td><td>1</td><td>4</td><td>8</td><td>7</td><td>16</td><td></td><td>1</td><td>9</td><td>6</td><td>4</td><td>4</td><td>2</td><td>7</td><td>959</td><td>2018-11-21</td><td>5.5</td><td>CD</td><td>1030000</td><td>2</td><td>4.82</td><td>9.16</td><td>8.79</td><td>9.01</td><td>8.43</td><td>9.3</td><td>9.26</td><td>8.74</td><td>7.91</td><td>7.4</td><td>7.47</td><td>7.03</td><td>7.8</td><td>7.47</td><td>7.45</td><td>7.1</td><td>5.28</td><td>5.89</td><td>5.1</td><td>0</td><td>CD</td><td>9.3</td></tr>\n",
      "<tr><td>78</td><td>Hanguk</td><td>Jung-Oh Han [playerid=433730490]</td><td>공 마술사\n",
      "더 많은 정보를 보려면 클릭</td><td></td><td>21.76</td><td>12 주   1 일</td><td>4560</td><td>4</td><td>2</td><td>6</td><td>8</td><td>10</td><td></td><td>1</td><td>9</td><td>3</td><td>5</td><td>1</td><td>3</td><td>6</td><td>961</td><td>2018-11-21</td><td>4.5</td><td>WB</td><td>1270000</td><td>5</td><td>3.7</td><td>7.3</td><td>6.83</td><td>6.78</td><td>6.34</td><td>6.72</td><td>7.13</td><td>5.72</td><td>5.39</td><td>4.59</td><td>4.46</td><td>4.48</td><td>4.28</td><td>3.87</td><td>4.07</td><td>3.43</td><td>3.35</td><td>0</td><td>3.59</td><td>2.94</td><td>WBd</td><td>7.3</td></tr>\n",
      "<tr><td>79</td><td>España</td><td>Jimeno Eguiruren [playerid=415605434]</td><td></td><td></td><td>26.20</td><td>9 주   3 일</td><td>26280</td><td>5</td><td>5</td><td>7</td><td>7</td><td>9</td><td></td><td>1</td><td>8</td><td>11</td><td>3</td><td>9</td><td>2</td><td>6</td><td>1097</td><td>2018-11-18</td><td>6.5</td><td>IM</td><td>4116000</td><td>23</td><td>4.14</td><td>8.56</td><td>8.58</td><td>9.16</td><td>8.65</td><td>9.91</td><td>9.1</td><td>10.45</td><td>9.12</td><td>9.4</td><td>9.79</td><td>8.74</td><td>10.86</td><td>10.84</td><td>10.43</td><td>10.78</td><td>6.92</td><td>8.76</td><td>6.11</td><td>0</td><td>IMd</td><td>10.86</td></tr>\n",
      "<tr><td>80</td><td>Andorra</td><td>Joaquim Muntaner [playerid=427020395]</td><td>공 마술사\n",
      "더 많은 정보를 보려면 클릭</td><td></td><td>27.78</td><td>7 주   6 일</td><td>14520</td><td>6</td><td>6</td><td>6</td><td>7</td><td>8</td><td></td><td>1</td><td>9</td><td>6</td><td>8</td><td>7</td><td>4</td><td>10</td><td>977</td><td>2018-11-18</td><td>4.5</td><td>WB</td><td>1260000</td><td>29</td><td>4.11</td><td>8.5</td><td>8.29</td><td>8.2</td><td>8.08</td><td>8.07</td><td>8.35</td><td>7.58</td><td>7.72</td><td>7.37</td><td>7.24</td><td>7.46</td><td>6.93</td><td>6.77</td><td>7.01</td><td>6.61</td><td>6.08</td><td>0</td><td>6.3</td><td>6.49</td><td>WBd</td><td>8.5</td></tr>\n",
      "<tr><td>81</td><td>Hanguk</td><td>Sang-Yong Jang [playerid=433566477]</td><td></td><td></td><td>21.70</td><td>7 주   3 일</td><td>8120</td><td>2</td><td>2</td><td>7</td><td>8</td><td>8</td><td></td><td>1</td><td>9</td><td>6</td><td>6</td><td>5</td><td>4</td><td>5</td><td>939</td><td>2018-11-18</td><td>4.5</td><td>WB</td><td>970000</td><td>5</td><td>3.89</td><td>8.39</td><td>8.1</td><td>8.15</td><td>7.81</td><td>8.22</td><td>8.36</td><td>7.69</td><td>7.32</td><td>6.88</td><td>6.85</td><td>6.73</td><td>6.87</td><td>6.62</td><td>6.71</td><td>6.35</td><td>5.51</td><td>5.75</td><td>5.54</td><td>0</td><td>WBd</td><td>8.39</td></tr>\n",
      "<tr><td>82</td><td>Hanguk</td><td>Si-Yul SaGong [playerid=438852209]</td><td></td><td></td><td>17.85</td><td>5 주   0 일</td><td>1710</td><td>4</td><td>1</td><td>2</td><td>5</td><td>20</td><td>✔</td><td>7</td><td>3</td><td>1</td><td>2</td><td>1</td><td>1</td><td>2</td><td>693</td><td>2018-11-18</td><td>1.5</td><td>KP</td><td>750000</td><td>0</td><td>3.28</td><td>1.8</td><td>1.72</td><td>1.7</td><td>1.64</td><td>1.67</td><td>1.76</td><td>1.51</td><td>1.5</td><td>1.37</td><td>1.34</td><td>1.38</td><td>1.28</td><td>1.22</td><td>1.27</td><td>1.16</td><td>1.17</td><td>1.15</td><td>1.23</td><td>0</td><td>KP</td><td>3.28</td></tr>\n",
      "<tr><td>83</td><td>Hanguk</td><td>Kwang-Hyun Seo [playerid=434869614]</td><td>예측할 수 없음\n",
      "더 많은 정보를 보려면 클릭</td><td></td><td>20.67</td><td>4 주   4 일</td><td>2910</td><td>2</td><td>2</td><td>8</td><td>7</td><td>6</td><td></td><td>1</td><td>8</td><td>5</td><td>4</td><td>5</td><td>4</td><td>2</td><td>805</td><td>2018-11-21</td><td>4</td><td>CD</td><td>390000</td><td>10</td><td>3.62</td><td>7.39</td><td>7.06</td><td>7.2</td><td>6.73</td><td>7.38</td><td>7.43</td><td>6.82</td><td>6.33</td><td>5.88</td><td>5.86</td><td>5.67</td><td>6.06</td><td>5.86</td><td>5.81</td><td>5.65</td><td>5.02</td><td>5.27</td><td>4.91</td><td>0</td><td>CDtw</td><td>7.43</td></tr>\n",
      "<tr><td>98</td><td>Hanguk</td><td>Young-Joo Je [playerid=439401420]</td><td></td><td></td><td>18.92</td><td>1 주   2 일</td><td>2120</td><td>6</td><td>1</td><td>6</td><td>5</td><td>20</td><td>✔</td><td>6</td><td>4</td><td>2</td><td>1</td><td>1</td><td>2</td><td>2</td><td>648</td><td></td><td></td><td></td><td>970000</td><td>0</td><td>5.3</td><td>3.6</td><td>3.42</td><td>3.51</td><td>3.24</td><td>3.63</td><td>3.64</td><td>3.34</td><td>2.98</td><td>2.72</td><td>2.74</td><td>2.57</td><td>2.91</td><td>2.78</td><td>2.72</td><td>2.64</td><td>2.46</td><td>2.4</td><td>2.38</td><td>0</td><td>KP</td><td>5.3</td></tr>\n",
      "<tr><td>99</td><td>Danmark</td><td>Torben Boesen [playerid=321795066] 코치</td><td>헤딩\n",
      "더 많은 정보를 보려면 클릭</td><td></td><td>41.69</td><td>10 주   3 일</td><td>50</td><td>5</td><td>13</td><td>6</td><td>1</td><td>9</td><td></td><td>0</td><td>8</td><td>0</td><td>2</td><td>0</td><td>0</td><td>0</td><td>780</td><td>2018-06-06</td><td>4</td><td>WB</td><td>396000</td><td>79</td><td>2.3</td><td>4.16</td><td>3.76</td><td>3.75</td><td>3.35</td><td>3.74</td><td>4.05</td><td>2.92</td><td>2.69</td><td>2.05</td><td>1.93</td><td>1.98</td><td>1.82</td><td>1.54</td><td>1.67</td><td>1.26</td><td>1.17</td><td>1.11</td><td>1.3</td><td>0</td><td>WBd</td><td>4.16</td></tr>\n",
      "</table>\n"
     ]
    }
   ],
   "source": [
    "p.read_line_list(folder + '/player.html')\n",
    "p.print_line_list()"
   ]
  },
  {
   "cell_type": "code",
   "execution_count": 28,
   "metadata": {},
   "outputs": [
    {
     "name": "stdout",
     "output_type": "stream",
     "text": [
      "['Number', 'Nat', 'Player', 'PlayerID', 'Special', 'Stat', 'Age', 'Since', 'TSI', 'LS', 'XP', 'Fo', 'Stm', 'Lo', 'MB', 'KP', 'DF', 'PM', 'WI', 'PS', 'SC', 'SP', 'Psico', 'Last', 'Rt', 'Pos', 'Wage', 'G', 'KPPos', 'WBdPos', 'WBPos', 'WBtmPos', 'WBoPos', 'CDPos', 'CDtwPos', 'CDoPos', 'WdPos', 'WPos', 'WtmPos', 'WoPos', 'IMdPos', 'IMPos', 'IMtwPos', 'IMoPos', 'FWPos', 'FWdPos', 'FWtwPos', 'TDFPos', 'BPo', 'BPoV']\n",
      "['Number', 'Nat', 'Player', 'PlayerID', 'Special', 'Stat', 'Age', 'Since', 'TSI', 'LS', 'XP', 'Fo', 'Stm', 'Lo', 'MB', 'KP', 'DF', 'PM', 'WI', 'PS', 'SC', 'SP', 'Psico', 'Last', 'Rt', 'Pos', 'Wage', 'G', 'KPPos', 'WBdPos', 'WBPos', 'WBtmPos', 'WBoPos', 'CDPos', 'CDtwPos', 'CDoPos', 'WdPos', 'WPos', 'WtmPos', 'WoPos', 'IMdPos', 'IMPos', 'IMtwPos', 'IMoPos', 'FWPos', 'FWdPos', 'FWtwPos', 'TDFPos', 'BPo', 'BPoV']\n",
      "['2', 'Hanguk', 'Jee-Hoon Kim', '428709461', '', '', '23.37', '4 시즌 8 주 3 일', '55360', '3', '3', '6', '8', '20', 'TRUE', '15', '5', '1', '1', '1', '2', '10', '1531', '2018-11-21', '7.5', 'KP', '19050000', '0', '12.64', '5.19', '4.83', '4.9', '4.47', '4.99', '5.16', '4.32', '3.96', '3.42', '3.36', '3.29', '3.44', '3.23', '3.21', '3.01', '3.15', '2.98', '3.14', '0', 'KP', '12.64']\n",
      "['4', 'Hanguk', 'Ji-Woon Lee', '427619236', '', 'Y×1', '23.78', '5 시즌 0 주 3 일', '1210', '5', '3', '7', '8', '20', 'TRUE', '1', '7', '4', '3', '5', '2', '9', '718', '2018-11-21', '4', 'CD', '390000', '26', '4.66', '7.67', '7.35', '7.48', '7.02', '7.65', '7.71', '7.11', '6.71', '6.28', '6.25', '6.11', '6.4', '6.23', '6.21', '6.05', '5.12', '5.68', '5', '0', 'CDtw', '7.71']\n",
      "['6', 'Hanguk', 'Jae-Shin Cha', '427619238', '', '', '31.59', '5 시즌 0 주 3 일', '500', '5', '6', '6', '6', '20', 'TRUE', '1', '7', '3', '6', '3', '1', '11', '702', '2018-11-18', '4.5', 'WB', '350000', '24', '4.3', '7.11', '6.87', '6.73', '6.61', '6.54', '6.92', '5.93', '6.07', '5.62', '5.46', '5.72', '5.07', '4.83', '5.14', '4.59', '4.14', '4.32', '4.45', '0', 'WBd', '7.11']\n",
      "['8', 'Hanguk', 'Hong-Chan Son', '427619240', '', '', '26.7', '5 시즌 0 주 3 일', '1250', '5', '4', '8', '7', '20', 'TRUE', '1', '5', '6', '5', '5', '1', '10', '642', '2018-11-21', '4.5', 'W', '310000', '8', '4.26', '7.13', '7.19', '7.25', '7.26', '7.34', '7.2', '7.51', '7.35', '7.47', '7.54', '7.38', '7.59', '7.54', '7.63', '7.47', '5.68', '6.54', '5.62', '0', 'IMtw', '7.63']\n",
      "['10', 'Hanguk', 'Kwang-Eul Jeon', '427619242', '', '', '28.13', '5 시즌 0 주 3 일', '1200', '4', '5', '5', '7', '20', 'TRUE', '1', '6', '7', '3', '3', '2', '11', '737', '2018-11-18', '4.5', 'IM', '430000', '18', '3.86', '6.44', '6.4', '6.65', '6.39', '6.98', '6.66', '7.13', '6.35', '6.37', '6.57', '5.99', '7.06', '6.92', '6.78', '6.74', '4.93', '5.45', '4.62', '0', 'Cdo', '7.13']\n",
      "['11', 'Hanguk', 'Kwang-Hwan Yun', '427619243', '', '', '30.92', '5 시즌 0 주 3 일', '510', '6', '5', '7', '6', '20', 'TRUE', '2', '5', '6', '2', '5', '2', '10', '611', '2018-11-18', '4', 'W', '310000', '14', '4.83', '6.5', '6.46', '6.75', '6.45', '7.12', '6.76', '7.3', '6.61', '6.68', '6.86', '6.34', '7.39', '7.36', '7.15', '7.31', '5.59', '6.38', '5.19', '0', 'IMd', '7.39']\n",
      "['12', 'Hanguk', 'Chan-Myung Lee', '427619244', '', '', '29.101', '5 시즌 0 주 3 일', '690', '3', '5', '6', '6', '20', 'TRUE', '1', '3', '7', '3', '4', '3', '10', '717', '2018-11-21', '4.5', 'IM', '390000', '10', '3.43', '5.21', '5.43', '5.65', '5.68', '5.94', '5.47', '6.58', '6.07', '6.49', '6.74', '6.22', '7.23', '7.29', '7.09', '7.32', '5.81', '6.33', '5.47', '0', 'IMo', '7.32']\n",
      "['13', 'Hanguk', 'Sung-Kook Han', '427619245', 'Technical', '', '25.89', '5 시즌 0 주 3 일', '1410', '2', '4', '6', '7', '20', 'TRUE', '1', '5', '6', '6', '5', '2', '10', '628', '2018-11-18', '4', 'W', '330000', '25', '3.82', '6.53', '6.62', '6.6', '6.7', '6.58', '6.54', '6.74', '6.76', '6.88', '6.91', '6.88', '6.83', '6.8', '6.93', '6.75', '5.56', '0', '5.6', '6.12', 'IMtw', '6.93']\n",
      "['15', 'Hanguk', 'Man-Ok Lee', '427619247', 'Unpredictable', '', '27.30', '5 시즌 0 주 3 일', '2080', '5', '4', '6', '7', '20', 'TRUE', '1', '5', '5', '7', '6', '2', '10', '765', '2018-11-21', '5', 'W', '350000', '14', '3.89', '6.64', '6.7', '6.56', '6.75', '6.37', '6.52', '6.37', '6.77', '6.81', '6.73', '7.01', '6.35', '6.35', '6.61', '6.35', '5.64', '6.17', '5.86', '0', 'Wo', '7.01']\n",
      "['16', 'Hanguk', 'Dong-Shik Kim', '427619248', '', '', '23.24', '5 시즌 0 주 3 일', '1670', '6', '3', '7', '8', '20', 'TRUE', '1', '3', '3', '6', '4', '7', '12', '758', '2018-11-21', '5.5', 'FW', '410000', '47', '3.55', '5.36', '5.46', '5.23', '5.55', '4.91', '5.17', '4.91', '5.54', '5.6', '5.47', '5.9', '5.05', '5.15', '5.28', '5.27', '7', '6.22', '7.3', '0', 'FWtw', '7.3']\n",
      "['25', 'Polska', 'Pylyp Nagorniak', '406205227', '', '', '31.24', '4 시즌 11 주 2 일', '930', '5', '3', '7', '6', '20', 'FALSE', '1', '6', '6', '3', '6', '3', '11', '604', '2018-11-21', '4.5', 'IM', '396000', '12', '3.7', '6.5', '6.4', '6.63', '6.32', '6.93', '6.68', '6.93', '6.39', '6.35', '6.46', '6.1', '6.86', '6.82', '6.66', '6.77', '5.47', '6.15', '5.16', '0', 'CD', '6.93']\n",
      "['31', 'Hanguk', 'Se-Hee Park', '430626797', '', '', '22.71', '3 시즌 15 주 3 일', '1330', '4', '3', '7', '8', '20', 'TRUE', '1', '2', '5', '5', '3', '7', '9', '705', '2018-11-18', '5', 'FW', '390000', '28', '3.27', '4.87', '5.16', '5.11', '5.45', '5.04', '4.9', '5.58', '5.72', '6.12', '6.21', '6.16', '6.24', '6.37', '6.3', '6.5', '7.3', '6.66', '7.31', '0', 'FWtw', '7.31']\n",
      "['34', 'Sverige', 'Axel Hermansson', '422526443', '', '', '32.46', '3 시즌 13 주 2 일', '720', '5', '5', '7', '5', '20', 'FALSE', '2', '6', '6', '2', '6', '2', '9', '607', '2018-09-23', '4', 'IM', '420000', '18', '4.2', '6.03', '5.91', '6.19', '5.81', '6.55', '6.25', '6.55', '5.9', '5.85', '5.99', '5.55', '6.47', '6.42', '6.23', '6.36', '4.78', '5.61', '4.4', '0', 'CD', '6.55']\n",
      "['40', 'Perú', 'Matías Pichis', '416567166', '', '', '26.2', '3 시즌 9 주 2 일', '8140', '6', '2', '5', '7', '20', 'FALSE', '1', '10', '8', '2', '4', '4', '9', '1000', '2018-11-18', '4.5', 'CD', '1764000', '5', '3.92', '7.69', '7.36', '7.78', '7.06', '8.34', '7.99', '8.04', '6.73', '6.37', '6.59', '5.76', '7.4', '7.12', '6.81', '6.8', '4.98', '5.43', '4.48', '0', 'CD', '8.34']\n",
      "['48', 'Hanguk', 'Dong-Suk Lee', '432205385', 'Technical', '', '21.85', '3 시즌 3 주 2 일', '1290', '6', '2', '7', '7', '20', 'TRUE', '1', '5', '4', '5', '6', '5', '6', '615', '2018-11-21', '4.5', 'FW', '290000', '15', '3.75', '6.22', '6.16', '6.1', '6.09', '6.02', '6.15', '5.85', '6.07', '5.98', '5.89', '6.1', '5.74', '5.77', '5.82', '5.82', '6.25', '0', '6.32', '6.32', 'TDF', '6.32']\n",
      "['52', 'Hanguk', 'Seong-Gong Choi', '433454317', 'Unpredictable', '', '20.53', '2 시즌 15 주 4 일', '5840', '4', '2', '7', '7', '20', 'TRUE', '1', '7', '7', '7', '4', '5', '7', '802', '2018-11-18', '5', 'CD', '550000', '17', '4.38', '8.4', '8.4', '8.4', '8.4', '8.4', '8.4', '8.4', '8.19', '8.14', '8.2', '8.04', '8.2', '8.06', '8.15', '7.88', '7.16', '7.14', '7.22', '0', 'CD', '8.4']\n",
      "['55', 'Hanguk', 'Geun-Ho Han', '433728993', '', '', '21.55', '2 시즌 12 주 4 일', '2130', '3', '2', '6', '8', '20', 'TRUE', '1', '5', '6', '4', '3', '7', '6', '704', '2018-11-21', '4.5', 'FW', '410000', '14', '3.58', '6.1', '6.13', '6.26', '6.17', '6.43', '6.23', '6.6', '6.14', '6.2', '6.34', '5.98', '6.69', '6.65', '6.46', '6.59', '6.7', '6.26', '6.51', '0', 'FW', '6.7']\n",
      "['61', 'Oceania', 'Cedrick Williamson', '430364099', 'Powerful', '', '21.6', '2 시즌 7 주 2 일', '6760', '3', '3', '7', '7', '18', 'FALSE', '1', '8', '5', '7', '7', '2', '7', '883', '2018-11-21', '4.5', 'WB', '708000', '3', '4.33', '8.45', '8.23', '8.12', '7.99', '7.99', '8.29', '7.45', '7.67', '7.3', '7.14', '7.44', '6.77', '6.62', '6.91', '6.48', '5.57', '6.29', '5.8', '0', 'WBd', '8.45']\n",
      "['65', 'Hanguk', 'Sang-Hyun Yun', '434942107', '', '', '19.81', '2 시즌 2 주 4 일', '3150', '3', '1', '8', '6', '20', 'TRUE', '1', '6', '5', '4', '7', '4', '5', '790', '2018-11-21', '4.5', 'W', '390000', '4', '3.59', '6.38', '6.26', '6.35', '6.14', '6.47', '6.44', '6.3', '6.17', '6.05', '6.04', '6', '6.15', '6.16', '6.1', '6.17', '5.72', '6.2', '5.59', '0', 'CD', '6.47']\n",
      "['70', 'Hanguk', 'Min-Gyu Jung', '429263814', '', 'Inj 2', '25.47', '1 시즌 14 주 1 일', '5950', '1', '4', '8', '7', '16', 'FALSE', '1', '9', '6', '4', '4', '2', '7', '959', '2018-11-21', '5.5', 'CD', '1030000', '2', '4.82', '9.16', '8.79', '9.01', '8.43', '9.3', '9.26', '8.74', '7.91', '7.4', '7.47', '7.03', '7.8', '7.47', '7.45', '7.1', '5.28', '5.89', '5.1', '0', 'CD', '9.3']\n",
      "['78', 'Hanguk', 'Jung-Oh Han', '433730490', 'Technical', '', '21.76', '12 주 1 일', '4560', '4', '2', '6', '8', '10', 'FALSE', '1', '9', '3', '5', '1', '3', '6', '961', '2018-11-21', '4.5', 'WB', '1270000', '5', '3.7', '7.3', '6.83', '6.78', '6.34', '6.72', '7.13', '5.72', '5.39', '4.59', '4.46', '4.48', '4.28', '3.87', '4.07', '3.43', '3.35', '0', '3.59', '2.94', 'WBd', '7.3']\n",
      "['79', 'España', 'Jimeno Eguiruren', '415605434', '', '', '26.20', '9 주 3 일', '26280', '5', '5', '7', '7', '9', 'FALSE', '1', '8', '11', '3', '9', '2', '6', '1097', '2018-11-18', '6.5', 'IM', '4116000', '23', '4.14', '8.56', '8.58', '9.16', '8.65', '9.91', '9.1', '10.45', '9.12', '9.4', '9.79', '8.74', '10.86', '10.84', '10.43', '10.78', '6.92', '8.76', '6.11', '0', 'IMd', '10.86']\n",
      "['80', 'Andorra', 'Joaquim Muntaner', '427020395', 'Technical', '', '27.78', '7 주 6 일', '14520', '6', '6', '6', '7', '8', 'FALSE', '1', '9', '6', '8', '7', '4', '10', '977', '2018-11-18', '4.5', 'WB', '1260000', '29', '4.11', '8.5', '8.29', '8.2', '8.08', '8.07', '8.35', '7.58', '7.72', '7.37', '7.24', '7.46', '6.93', '6.77', '7.01', '6.61', '6.08', '0', '6.3', '6.49', 'WBd', '8.5']\n",
      "['81', 'Hanguk', 'Sang-Yong Jang', '433566477', '', '', '21.70', '7 주 3 일', '8120', '2', '2', '7', '8', '8', 'FALSE', '1', '9', '6', '6', '5', '4', '5', '939', '2018-11-18', '4.5', 'WB', '970000', '5', '3.89', '8.39', '8.1', '8.15', '7.81', '8.22', '8.36', '7.69', '7.32', '6.88', '6.85', '6.73', '6.87', '6.62', '6.71', '6.35', '5.51', '5.75', '5.54', '0', 'WBd', '8.39']\n",
      "['82', 'Hanguk', 'Si-Yul Sa', '438852209', '', '', '17.85', '5 주 0 일', '1710', '4', '1', '2', '5', '20', 'TRUE', '7', '3', '1', '2', '1', '1', '2', '693', '2018-11-18', '1.5', 'KP', '750000', '0', '3.28', '1.8', '1.72', '1.7', '1.64', '1.67', '1.76', '1.51', '1.5', '1.37', '1.34', '1.38', '1.28', '1.22', '1.27', '1.16', '1.17', '1.15', '1.23', '0', 'KP', '3.28']\n",
      "['83', 'Hanguk', 'Kwang-Hyun Seo', '434869614', 'Unpredictable', '', '20.67', '4 주 4 일', '2910', '2', '2', '8', '7', '6', 'FALSE', '1', '8', '5', '4', '5', '4', '2', '805', '2018-11-21', '4', 'CD', '390000', '10', '3.62', '7.39', '7.06', '7.2', '6.73', '7.38', '7.43', '6.82', '6.33', '5.88', '5.86', '5.67', '6.06', '5.86', '5.81', '5.65', '5.02', '5.27', '4.91', '0', 'CDtw', '7.43']\n",
      "['98', 'Hanguk', 'Young-Joo Je', '439401420', '', '', '18.92', '1 주 2 일', '2120', '6', '1', '6', '5', '20', 'TRUE', '6', '4', '2', '1', '1', '2', '2', '648', '', '', '', '970000', '0', '5.3', '3.6', '3.42', '3.51', '3.24', '3.63', '3.64', '3.34', '2.98', '2.72', '2.74', '2.57', '2.91', '2.78', '2.72', '2.64', '2.46', '2.4', '2.38', '0', 'KP', '5.3']\n",
      "['99', 'Danmark', 'Torben Boesen', '321795066', 'Head', '', '41.69', '10 주 3 일', '50', '5', '13', '6', '1', '9', 'FALSE', '0', '8', '0', '2', '0', '0', '0', '780', '2018-06-06', '4', 'WB', '396000', '79', '2.3', '4.16', '3.76', '3.75', '3.35', '3.74', '4.05', '2.92', '2.69', '2.05', '1.93', '1.98', '1.82', '1.54', '1.67', '1.26', '1.17', '1.11', '1.3', '0', 'WBd', '4.16']\n"
     ]
    }
   ],
   "source": [
    "p.write_line_list(folder + '/player.html')\n",
    "p.modify_line_list(folder + '/player.html')\n",
    "p.print_df_cols()\n",
    "p.print_df()"
   ]
  },
  {
   "cell_type": "code",
   "execution_count": 29,
   "metadata": {},
   "outputs": [],
   "source": [
    "p.save_df(folder + '/player.csv')"
   ]
  },
  {
   "cell_type": "code",
   "execution_count": 30,
   "metadata": {},
   "outputs": [
    {
     "name": "stdout",
     "output_type": "stream",
     "text": [
      "50\tNumber\n",
      "50\t2\n",
      "50\t4\n",
      "50\t6\n",
      "50\t8\n",
      "50\t10\n",
      "50\t11\n",
      "50\t12\n",
      "50\t13\n",
      "50\t15\n",
      "50\t16\n",
      "50\t25\n",
      "50\t31\n",
      "50\t34\n",
      "50\t40\n",
      "50\t48\n",
      "50\t52\n",
      "50\t55\n",
      "50\t61\n",
      "50\t65\n",
      "50\t70\n",
      "50\t78\n",
      "50\t79\n",
      "50\t80\n",
      "50\t81\n",
      "50\t82\n",
      "50\t83\n",
      "50\t98\n",
      "50\t99\n"
     ]
    }
   ],
   "source": [
    "with open(folder + '/player.csv', 'r', encoding='utf-8') as f:\n",
    "    for line in f:\n",
    "        col = line.split(\",\")\n",
    "        print(len(col), col[0], sep=\"\\t\" ) # len = 47 -> 50"
   ]
  },
  {
   "cell_type": "code",
   "execution_count": 31,
   "metadata": {},
   "outputs": [
    {
     "name": "stdout",
     "output_type": "stream",
     "text": [
      "2018/11/21/player.html\t : will be removed\n",
      "2018/11/21/player.html\t : is not existed\n"
     ]
    }
   ],
   "source": [
    "HattrickFile.check_and_delete_file(folder + '/player.html')"
   ]
  },
  {
   "cell_type": "code",
   "execution_count": 32,
   "metadata": {},
   "outputs": [],
   "source": [
    "import psycopg2"
   ]
  },
  {
   "cell_type": "code",
   "execution_count": 33,
   "metadata": {},
   "outputs": [
    {
     "name": "stdout",
     "output_type": "stream",
     "text": [
      "<connection object at 0x7fa35a4eed58; dsn: 'user=myuser password=xxx dbname=mydatabase host=localhost port=65432', closed: 0>\n"
     ]
    }
   ],
   "source": [
    "conn = psycopg2.connect(\"dbname='mydatabase' user='myuser' host='localhost' port='65432' password='123qwe'\")\n",
    "print(conn)"
   ]
  },
  {
   "cell_type": "code",
   "execution_count": 34,
   "metadata": {},
   "outputs": [],
   "source": [
    "ht_player_pg = HattrickPlayerPostgreSQL()\n",
    "# ht_player_table_name = 'player'\n",
    "ht_player_table_name = 'player_tmp'"
   ]
  },
  {
   "cell_type": "code",
   "execution_count": 35,
   "metadata": {},
   "outputs": [
    {
     "data": {
      "text/plain": [
       "3434"
      ]
     },
     "execution_count": 35,
     "metadata": {},
     "output_type": "execute_result"
    }
   ],
   "source": [
    "ht_player_pg.select_count_player(conn, ht_player_table_name)"
   ]
  },
  {
   "cell_type": "code",
   "execution_count": null,
   "metadata": {},
   "outputs": [],
   "source": [
    "import csv\n",
    "with open(folder + '/player.csv', 'r', encoding='utf-8') as f:\n",
    "    reader = csv.reader(f, delimiter=',')\n",
    "    for row in reader:\n",
    "        if row[0] != \"Number\" :\n",
    "            ht_player_pg.insert_player(conn, ht_player_table_name, folder.replace('/', '-'), row)"
   ]
  },
  {
   "cell_type": "code",
   "execution_count": 36,
   "metadata": {},
   "outputs": [],
   "source": [
    "import csv\n",
    "with open(folder + '/player.csv', 'r', encoding='utf-8') as f:\n",
    "    reader = csv.reader(f, delimiter=',')\n",
    "    for row in reader:\n",
    "        if row[0] != \"Number\" :\n",
    "            ht_player_pg.insert_player_tmp(conn, ht_player_table_name, folder.replace('/', '-'), row)"
   ]
  },
  {
   "cell_type": "code",
   "execution_count": 37,
   "metadata": {},
   "outputs": [
    {
     "data": {
      "text/plain": [
       "3462"
      ]
     },
     "execution_count": 37,
     "metadata": {},
     "output_type": "execute_result"
    }
   ],
   "source": [
    "ht_player_pg.select_count_player(conn, ht_player_table_name)"
   ]
  },
  {
   "cell_type": "code",
   "execution_count": 38,
   "metadata": {},
   "outputs": [
    {
     "name": "stdout",
     "output_type": "stream",
     "text": [
      "2018-11-21,2,Jee-Hoon Kim,,,23.37,4 시즌 8 주 3 일,55360,3,3,6,8,20,True,15,5,1,1,1,2,10,1531,2018-11-21,7.5,KP,19050000,0,12.64,5.19,4.83,4.90,4.99,5.16,4.32,3.42,3.23,3.15,2.98,3.14,0.00,KP,12.64\n",
      "2018-11-21,4,Ji-Woon Lee,,Y×1,23.78,5 시즌 0 주 3 일,1210,5,3,7,8,20,True,1,7,4,3,5,2,9,718,2018-11-21,4.0,CD,390000,26,4.66,7.67,7.35,7.48,7.65,7.71,7.11,6.28,6.23,5.12,5.68,5.00,0.00,CDtw,7.71\n",
      "2018-11-21,6,Jae-Shin Cha,,,31.59,5 시즌 0 주 3 일,500,5,6,6,6,20,True,1,7,3,6,3,1,11,702,2018-11-18,4.5,WB,350000,24,4.30,7.11,6.87,6.73,6.54,6.92,5.93,5.62,4.83,4.14,4.32,4.45,0.00,WBd,7.11\n",
      "2018-11-21,8,Hong-Chan Son,,,26.7,5 시즌 0 주 3 일,1250,5,4,8,7,20,True,1,5,6,5,5,1,10,642,2018-11-21,4.5,W,310000,8,4.26,7.13,7.19,7.25,7.34,7.20,7.51,7.47,7.54,5.68,6.54,5.62,0.00,IMtw,7.63\n",
      "2018-11-21,10,Kwang-Eul Jeon,,,28.13,5 시즌 0 주 3 일,1200,4,5,5,7,20,True,1,6,7,3,3,2,11,737,2018-11-18,4.5,IM,430000,18,3.86,6.44,6.40,6.65,6.98,6.66,7.13,6.37,6.92,4.93,5.45,4.62,0.00,Cdo,7.13\n",
      "2018-11-21,11,Kwang-Hwan Yun,,,30.92,5 시즌 0 주 3 일,510,6,5,7,6,20,True,2,5,6,2,5,2,10,611,2018-11-18,4.0,W,310000,14,4.83,6.50,6.46,6.75,7.12,6.76,7.30,6.68,7.36,5.59,6.38,5.19,0.00,IMd,7.39\n",
      "2018-11-21,12,Chan-Myung Lee,,,29.101,5 시즌 0 주 3 일,690,3,5,6,6,20,True,1,3,7,3,4,3,10,717,2018-11-21,4.5,IM,390000,10,3.43,5.21,5.43,5.65,5.94,5.47,6.58,6.49,7.29,5.81,6.33,5.47,0.00,IMo,7.32\n",
      "2018-11-21,13,Sung-Kook Han,Technical,,25.89,5 시즌 0 주 3 일,1410,2,4,6,7,20,True,1,5,6,6,5,2,10,628,2018-11-18,4.0,W,330000,25,3.82,6.53,6.62,6.60,6.58,6.54,6.74,6.88,6.80,5.56,0.00,5.60,6.12,IMtw,6.93\n",
      "2018-11-21,15,Man-Ok Lee,Unpredictable,,27.30,5 시즌 0 주 3 일,2080,5,4,6,7,20,True,1,5,5,7,6,2,10,765,2018-11-21,5.0,W,350000,14,3.89,6.64,6.70,6.56,6.37,6.52,6.37,6.81,6.35,5.64,6.17,5.86,0.00,Wo,7.01\n",
      "2018-11-21,16,Dong-Shik Kim,,,23.24,5 시즌 0 주 3 일,1670,6,3,7,8,20,True,1,3,3,6,4,7,12,758,2018-11-21,5.5,FW,410000,47,3.55,5.36,5.46,5.23,4.91,5.17,4.91,5.60,5.15,7.00,6.22,7.30,0.00,FWtw,7.3\n",
      "2018-11-21,25,Pylyp Nagorniak,,,31.24,4 시즌 11 주 2 일,930,5,3,7,6,20,False,1,6,6,3,6,3,11,604,2018-11-21,4.5,IM,396000,12,3.70,6.50,6.40,6.63,6.93,6.68,6.93,6.35,6.82,5.47,6.15,5.16,0.00,CD,6.93\n",
      "2018-11-21,31,Se-Hee Park,,,22.71,3 시즌 15 주 3 일,1330,4,3,7,8,20,True,1,2,5,5,3,7,9,705,2018-11-18,5.0,FW,390000,28,3.27,4.87,5.16,5.11,5.04,4.90,5.58,6.12,6.37,7.30,6.66,7.31,0.00,FWtw,7.31\n",
      "2018-11-21,34,Axel Hermansson,,,32.46,3 시즌 13 주 2 일,720,5,5,7,5,20,False,2,6,6,2,6,2,9,607,2018-09-23,4.0,IM,420000,18,4.20,6.03,5.91,6.19,6.55,6.25,6.55,5.85,6.42,4.78,5.61,4.40,0.00,CD,6.55\n",
      "2018-11-21,40,Matías Pichis,,,26.2,3 시즌 9 주 2 일,8140,6,2,5,7,20,False,1,10,8,2,4,4,9,1000,2018-11-18,4.5,CD,1764000,5,3.92,7.69,7.36,7.78,8.34,7.99,8.04,6.37,7.12,4.98,5.43,4.48,0.00,CD,8.34\n",
      "2018-11-21,48,Dong-Suk Lee,Technical,,21.85,3 시즌 3 주 2 일,1290,6,2,7,7,20,True,1,5,4,5,6,5,6,615,2018-11-21,4.5,FW,290000,15,3.75,6.22,6.16,6.10,6.02,6.15,5.85,5.98,5.77,6.25,0.00,6.32,6.32,TDF,6.32\n",
      "2018-11-21,52,Seong-Gong Choi,Unpredictable,,20.53,2 시즌 15 주 4 일,5840,4,2,7,7,20,True,1,7,7,7,4,5,7,802,2018-11-18,5.0,CD,550000,17,4.38,8.40,8.40,8.40,8.40,8.40,8.40,8.14,8.06,7.16,7.14,7.22,0.00,CD,8.4\n",
      "2018-11-21,55,Geun-Ho Han,,,21.55,2 시즌 12 주 4 일,2130,3,2,6,8,20,True,1,5,6,4,3,7,6,704,2018-11-21,4.5,FW,410000,14,3.58,6.10,6.13,6.26,6.43,6.23,6.60,6.20,6.65,6.70,6.26,6.51,0.00,FW,6.7\n",
      "2018-11-21,61,Cedrick Williamson,Powerful,,21.6,2 시즌 7 주 2 일,6760,3,3,7,7,18,False,1,8,5,7,7,2,7,883,2018-11-21,4.5,WB,708000,3,4.33,8.45,8.23,8.12,7.99,8.29,7.45,7.30,6.62,5.57,6.29,5.80,0.00,WBd,8.45\n",
      "2018-11-21,65,Sang-Hyun Yun,,,19.81,2 시즌 2 주 4 일,3150,3,1,8,6,20,True,1,6,5,4,7,4,5,790,2018-11-21,4.5,W,390000,4,3.59,6.38,6.26,6.35,6.47,6.44,6.30,6.05,6.16,5.72,6.20,5.59,0.00,CD,6.47\n",
      "2018-11-21,70,Min-Gyu Jung,,Inj 2,25.47,1 시즌 14 주 1 일,5950,1,4,8,7,16,False,1,9,6,4,4,2,7,959,2018-11-21,5.5,CD,1030000,2,4.82,9.16,8.79,9.01,9.30,9.26,8.74,7.40,7.47,5.28,5.89,5.10,0.00,CD,9.3\n",
      "2018-11-21,78,Jung-Oh Han,Technical,,21.76,12 주 1 일,4560,4,2,6,8,10,False,1,9,3,5,1,3,6,961,2018-11-21,4.5,WB,1270000,5,3.70,7.30,6.83,6.78,6.72,7.13,5.72,4.59,3.87,3.35,0.00,3.59,2.94,WBd,7.3\n",
      "2018-11-21,79,Jimeno Eguiruren,,,26.20,9 주 3 일,26280,5,5,7,7,9,False,1,8,11,3,9,2,6,1097,2018-11-18,6.5,IM,4116000,23,4.14,8.56,8.58,9.16,9.91,9.10,10.45,9.40,10.84,6.92,8.76,6.11,0.00,IMd,10.86\n",
      "2018-11-21,80,Joaquim Muntaner,Technical,,27.78,7 주 6 일,14520,6,6,6,7,8,False,1,9,6,8,7,4,10,977,2018-11-18,4.5,WB,1260000,29,4.11,8.50,8.29,8.20,8.07,8.35,7.58,7.37,6.77,6.08,0.00,6.30,6.49,WBd,8.5\n",
      "2018-11-21,81,Sang-Yong Jang,,,21.70,7 주 3 일,8120,2,2,7,8,8,False,1,9,6,6,5,4,5,939,2018-11-18,4.5,WB,970000,5,3.89,8.39,8.10,8.15,8.22,8.36,7.69,6.88,6.62,5.51,5.75,5.54,0.00,WBd,8.39\n",
      "2018-11-21,82,Si-Yul Sa,,,17.85,5 주 0 일,1710,4,1,2,5,20,True,7,3,1,2,1,1,2,693,2018-11-18,1.5,KP,750000,0,3.28,1.80,1.72,1.70,1.67,1.76,1.51,1.37,1.22,1.17,1.15,1.23,0.00,KP,3.28\n",
      "2018-11-21,83,Kwang-Hyun Seo,Unpredictable,,20.67,4 주 4 일,2910,2,2,8,7,6,False,1,8,5,4,5,4,2,805,2018-11-21,4.0,CD,390000,10,3.62,7.39,7.06,7.20,7.38,7.43,6.82,5.88,5.86,5.02,5.27,4.91,0.00,CDtw,7.43\n",
      "2018-11-21,98,Young-Joo Je,,,18.92,1 주 2 일,2120,6,1,6,5,20,True,6,4,2,1,1,2,2,648,0001-01-01,0.0,,970000,0,5.30,3.60,3.42,3.51,3.63,3.64,3.34,2.72,2.78,2.46,2.40,2.38,0.00,KP,5.3\n",
      "2018-11-21,99,Torben Boesen,Head,,41.69,10 주 3 일,50,5,13,6,1,9,False,0,8,0,2,0,0,0,780,2018-06-06,4.0,WB,396000,79,2.30,4.16,3.76,3.75,3.74,4.05,2.92,2.05,1.54,1.17,1.11,1.30,0.00,WBd,4.16\n"
     ]
    }
   ],
   "source": [
    "tuple_list = ht_player_pg.select_player(conn, ht_player_table_name, folder)\n",
    "ht_player_pg.print(tuple_list)"
   ]
  },
  {
   "cell_type": "code",
   "execution_count": 39,
   "metadata": {},
   "outputs": [
    {
     "data": {
      "text/plain": [
       "<connection object at 0x7fa35a4eed58; dsn: 'user=myuser password=xxx dbname=mydatabase host=localhost port=65432', closed: 1>"
      ]
     },
     "execution_count": 39,
     "metadata": {},
     "output_type": "execute_result"
    }
   ],
   "source": [
    "conn.close()\n",
    "conn"
   ]
  },
  {
   "cell_type": "code",
   "execution_count": 40,
   "metadata": {},
   "outputs": [],
   "source": [
    "conn = None\n",
    "conn"
   ]
  },
  {
   "cell_type": "code",
   "execution_count": null,
   "metadata": {},
   "outputs": [],
   "source": []
  }
 ],
 "metadata": {
  "kernelspec": {
   "display_name": "Python 3",
   "language": "python",
   "name": "python3"
  },
  "language_info": {
   "codemirror_mode": {
    "name": "ipython",
    "version": 3
   },
   "file_extension": ".py",
   "mimetype": "text/x-python",
   "name": "python",
   "nbconvert_exporter": "python",
   "pygments_lexer": "ipython3",
   "version": "3.6.7"
  }
 },
 "nbformat": 4,
 "nbformat_minor": 2
}
