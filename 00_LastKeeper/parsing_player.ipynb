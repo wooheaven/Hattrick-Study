{
 "cells": [
  {
   "cell_type": "code",
   "execution_count": 1,
   "metadata": {
    "collapsed": true
   },
   "outputs": [],
   "source": [
    "import sys\n",
    "\n",
    "sys.path.insert(0, '../03_Remake_with_TDD/algorithms')\n",
    "from ht_time import *"
   ]
  },
  {
   "cell_type": "code",
   "execution_count": 2,
   "metadata": {},
   "outputs": [
    {
     "name": "stdout",
     "output_type": "stream",
     "text": [
      "folder = 2018/06/17\n"
     ]
    }
   ],
   "source": [
    "HattrickTime = HattrickTime()\n",
    "folder = HattrickTime.findLastSunOrWed()\n",
    "# folder = ht_time.findLastSunOrWed('2018/04/04')\n",
    "print(\"folder =\", folder)"
   ]
  },
  {
   "cell_type": "code",
   "execution_count": null,
   "metadata": {
    "collapsed": true
   },
   "outputs": [],
   "source": [
    "# folder = '2017/10/04'\n",
    "folder = '2018/06/13'\n",
    "print(\"folder =\", folder)"
   ]
  },
  {
   "cell_type": "code",
   "execution_count": 3,
   "metadata": {},
   "outputs": [
    {
     "data": {
      "text/plain": [
       "'2018/06/17'"
      ]
     },
     "execution_count": 3,
     "metadata": {},
     "output_type": "execute_result"
    }
   ],
   "source": [
    "from datetime import date\n",
    "\n",
    "nowDate = date.today().strftime('%Y/%m/%d')\n",
    "nowDate"
   ]
  },
  {
   "cell_type": "code",
   "execution_count": 4,
   "metadata": {
    "collapsed": true
   },
   "outputs": [],
   "source": [
    "import sys\n",
    "\n",
    "sys.path.insert(0, '../97_Parse/')\n",
    "from parseSkillTable import *\n",
    "\n",
    "sys.path.insert(0, '../98_Crawler/01_DualMonitor/')\n",
    "from DualMonitor import getIsDualMonitor\n",
    "\n",
    "sys.path.insert(0, '../98_Crawler/02_WebBrowser/')\n",
    "from FirefoxTab import clickTabOfFireFox\n",
    "\n",
    "sys.path.insert(0, '../98_Crawler/03_OnScreen/')\n",
    "from Empty import clickEmpty\n",
    "from MoveScroll import moveScroll\n",
    "from MoveFindMoveClick import moveByImage\n",
    "\n",
    "sys.path.insert(0, '../98_Crawler/04_Login/')\n",
    "from HattrickLogInOut import clickFacebookLogin, clickFacebookLogout"
   ]
  },
  {
   "cell_type": "code",
   "execution_count": 5,
   "metadata": {},
   "outputs": [
    {
     "name": "stdout",
     "output_type": "stream",
     "text": [
      "use 2 monitor = 3840 x 1080 isDualMonitor= True\n",
      "1st faceBookLogin location with region = (2404, 393, 73, 32)\n",
      "screen-MyClub.png location on Screen ( 530 340 77 42 )\n",
      "screen-Player.png location on Screen ( 387 700 72 59 )\n",
      "screen-SkillTable.png location on Screen ( 546 593 137 52 )\n",
      "re find\n",
      "screen-Since.png location on Screen ( 584 985 168 25 )\n",
      "screen-Copy.png location on Screen ( 1075 635 32 25 )\n",
      "2nd faceBookLogout location = (3178, 336, 69, 51)\n"
     ]
    }
   ],
   "source": [
    "# isDualMonitor\n",
    "isDualMonitor = getIsDualMonitor()\n",
    "\n",
    "# Hattrick LastKeeper Tab\n",
    "clickTabOfFireFox(5, isDualMonitor)\n",
    "\n",
    "# Hattrick Login by Facebook\n",
    "clickEmpty(410, isDualMonitor)\n",
    "moveScroll(20)\n",
    "clickFacebookLogin(484, 393, isDualMonitor)\n",
    "\n",
    "# Hattrick MyClub\n",
    "moveScroll(20)\n",
    "moveByImage(530, 340, 77, 42, isDualMonitor, 'screen-MyClub.png')\n",
    "\n",
    "# Hattrick Player\n",
    "clickEmpty(700, isDualMonitor)\n",
    "moveScroll(20)\n",
    "moveByImage(387, 700, 72, 59, isDualMonitor, 'screen-Player.png')\n",
    "\n",
    "# Hattrick SkillTable\n",
    "clickEmpty(593, isDualMonitor)\n",
    "moveScroll(20)\n",
    "moveByImage(546, 593, 137, 52, isDualMonitor, 'screen-SkillTable.png')\n",
    "\n",
    "# Hattrick Since\n",
    "moveScroll(-7)\n",
    "moveByImage(584, 964, 168, 25, isDualMonitor, 'screen-Since.png')\n",
    "\n",
    "# Hattrick Copy\n",
    "moveScroll(10)\n",
    "moveByImage(1075, 635, 32, 25, isDualMonitor, 'screen-Copy.png')\n",
    "\n",
    "# Hattrick Logout\n",
    "moveScroll(20)\n",
    "clickFacebookLogout(1258, 337, isDualMonitor)\n",
    "\n",
    "# Jupyter Notebook Tab\n",
    "clickTabOfFireFox(7, isDualMonitor)"
   ]
  },
  {
   "cell_type": "code",
   "execution_count": 6,
   "metadata": {},
   "outputs": [
    {
     "name": "stdout",
     "output_type": "stream",
     "text": [
      "[table]\n",
      "[tr][th]-[/th][th]#[/th][th]Nat[/th][th]Player[/th][th]Sp[/th][th]Stat[/th][th]Age[/th][th]Since[/th][th]TSI[/th][th]LS[/th][th]XP[/th][th]Fo[/th][th]Stm[/th][th]Lo[/th][th]MB[/th][th]KP[/th][th]DF[/th][th]PM[/th][th]WI[/th][th]PS[/th][th]SC[/th][th]SP[/th][th]Psico[/th][th]Last[/th][th]Rt[/th][th]Pos[/th][th]Wage[/th][th]G[/th][th]TC[/th][th]PH[/th][th]KP[/th][th]WB[/th][th]CD[/th][th]W[/th][th]IM[/th][th]FW[/th][/tr]\n",
      "[tr][td]–[/td][td]2[/td][td]Hanguk[/td][td]Jee-Hoon Kim [playerid=428709461][/td][td][/td][td][/td][td]21.104[/td][td]3 시즌   2 주   1 일[/td][td]37650[/td][td]3[/td][td]2[/td][td]7[/td][td]8[/td][td]20[/td][td]✔[/td][td]13[/td][td]5[/td][td]1[/td][td]1[/td][td]1[/td][td]2[/td][td]8[/td][td]1344[/td][td]2018-06-13 [playerid=428709461][/td][td]7[/td][td]KP[/td][td]5450000[/td][td]0[/td][td][playerid=428709461][/td][td][playerid=428709461][/td][td]12.04[/td][td]4.99[/td][td]5.15[/td][td]3.47[/td][td]3.26[/td][td]3.17[/td][/tr]\n",
      "[tr][td]–[/td][td]3[/td][td]Hanguk[/td][td]Eun-Seok Hong [playerid=427619235][/td][td][/td][td][/td][td]32.17[/td][td]3 시즌   10 주   0 일[/td][td]190[/td][td]5[/td][td]5[/td][td]6[/td][td]6[/td][td]20[/td][td]✔[/td][td]1[/td][td]6[/td][td]5[/td][td]3[/td][td]2[/td][td]1[/td][td]7[/td][td]590[/td][td]2018-06-17 [playerid=427619235][/td][td]4[/td][td]CD[/td][td]290000[/td][td]9[/td][td][playerid=427619235][/td][td][playerid=427619235][/td][td]4.1[/td][td]6.41[/td][td]6.78[/td][td]5.82[/td][td]5.98[/td][td]4.24[/td][/tr]\n",
      "[tr][td]–[/td][td]4[/td][td]Hanguk[/td][td]Ji-Woon Lee [playerid=427619236][/td][td][/td][td]Y×2[/td][td]22.33[/td][td]3 시즌   10 주   0 일[/td][td]1250[/td][td]5[/td][td]3[/td][td]7[/td][td]8[/td][td]20[/td][td]✔[/td][td]1[/td][td]7[/td][td]4[/td][td]3[/td][td]5[/td][td]2[/td][td]7[/td][td]724[/td][td]2018-06-17 [playerid=427619236][/td][td]4.5[/td][td]CD[/td][td]390000[/td][td]25[/td][td][playerid=427619236][/td][td][playerid=427619236][/td][td]4.66[/td][td]7.35[/td][td]7.65[/td][td]6.28[/td][td]6.23[/td][td]5.12[/td][/tr]\n",
      "[tr][td]–[/td][td]6[/td][td]Hanguk[/td][td]Jae-Shin Cha [playerid=427619238][/td][td][/td][td][/td][td]30.14[/td][td]3 시즌   10 주   0 일[/td][td]790[/td][td]5[/td][td]5[/td][td]7[/td][td]6[/td][td]20[/td][td]✔[/td][td]1[/td][td]7[/td][td]3[/td][td]6[/td][td]3[/td][td]2[/td][td]10[/td][td]714[/td][td]2018-06-17 [playerid=427619238][/td][td]5[/td][td]WB[/td][td]360000[/td][td]13[/td][td][playerid=427619238][/td][td][playerid=427619238][/td][td]4.76[/td][td]7.67[/td][td]7.3[/td][td]6.26[/td][td]5.4[/td][td]4.97[/td][/tr]\n",
      "[tr][td]–[/td][td]8[/td][td]Hanguk[/td][td]Hong-Chan Son [playerid=427619240][/td][td][/td][td][/td][td]24.74[/td][td]3 시즌   10 주   0 일[/td][td]1130[/td][td]5[/td][td]3[/td][td]6[/td][td]7[/td][td]20[/td][td]✔[/td][td]1[/td][td]5[/td][td]6[/td][td]5[/td][td]5[/td][td]1[/td][td]8[/td][td]635[/td][td]2018-06-13 [playerid=427619240][/td][td]3[/td][td]WB[/td][td]310000[/td][td]1[/td][td][playerid=427619240][/td][td][playerid=427619240][/td][td]3.78[/td][td]6.48[/td][td]6.61[/td][td]6.74[/td][td]6.81[/td][td]5.09[/td][/tr]\n",
      "[tr][td]–[/td][td]9[/td][td]Hanguk[/td][td]Hoi-Taek Park [playerid=427619241][/td][td]예측할 수 없음\n",
      "더 많은 정보를 보려면 클릭[/td][td]Y×1[/td][td]22.81[/td][td]3 시즌   10 주   0 일[/td][td]1300[/td][td]2[/td][td]3[/td][td]6[/td][td]8[/td][td]20[/td][td]✔[/td][td]1[/td][td]5[/td][td]6[/td][td]3[/td][td]6[/td][td]3[/td][td]10[/td][td]618[/td][td]2018-06-13 [playerid=427619241][/td][td]4.5[/td][td]IM[/td][td]330000[/td][td]10[/td][td][playerid=427619241][/td][td][playerid=427619241][/td][td]3.81[/td][td]6.19[/td][td]6.67[/td][td]6.5[/td][td]7.02[/td][td]5.79[/td][/tr]\n",
      "[tr][td]–[/td][td]10[/td][td]Hanguk[/td][td]Kwang-Eul Jeon [playerid=427619242][/td][td][/td][td]Y×2[/td][td]26.80[/td][td]3 시즌   10 주   0 일[/td][td]1690[/td][td]4[/td][td]4[/td][td]8[/td][td]7[/td][td]20[/td][td]✔[/td][td]1[/td][td]6[/td][td]7[/td][td]3[/td][td]3[/td][td]2[/td][td]9[/td][td]764[/td][td]2018-06-17 [playerid=427619242][/td][td]5[/td][td]IM[/td][td]430000[/td][td]13[/td][td][playerid=427619242][/td][td][playerid=427619242][/td][td]4.64[/td][td]7.78[/td][td]8.49[/td][td]7.74[/td][td]8.41[/td][td]5.96[/td][/tr]\n",
      "[tr][td]–[/td][td]11[/td][td]Hanguk[/td][td]Kwang-Hwan Yun [playerid=427619243][/td][td][/td][td]Y×1[/td][td]29.47[/td][td]3 시즌   10 주   0 일[/td][td]680[/td][td]6[/td][td]5[/td][td]7[/td][td]6[/td][td]20[/td][td]✔[/td][td]2[/td][td]5[/td][td]6[/td][td]2[/td][td]5[/td][td]2[/td][td]9[/td][td]634[/td][td]2018-06-13 [playerid=427619243][/td][td]4[/td][td]W[/td][td]320000[/td][td]12[/td][td][playerid=427619243][/td][td][playerid=427619243][/td][td]4.89[/td][td]6.54[/td][td]7.21[/td][td]6.76[/td][td]7.45[/td][td]5.65[/td][/tr]\n",
      "[tr][td]–[/td][td]12[/td][td]Hanguk[/td][td]Chan-Myung Lee [playerid=427619244][/td][td][/td][td]Y×1[/td][td]28.56[/td][td]3 시즌   10 주   0 일[/td][td]860[/td][td]3[/td][td]4[/td][td]6[/td][td]7[/td][td]20[/td][td]✔[/td][td]1[/td][td]3[/td][td]7[/td][td]3[/td][td]4[/td][td]3[/td][td]8[/td][td]731[/td][td]2018-06-13 [playerid=427619244][/td][td]4.5[/td][td]IM[/td][td]410000[/td][td]8[/td][td][playerid=427619244][/td][td][playerid=427619244][/td][td]3.36[/td][td]5.39[/td][td]5.9[/td][td]6.46[/td][td]7.26[/td][td]5.77[/td][/tr]\n",
      "[tr][td]–[/td][td]13[/td][td]Hanguk[/td][td]Sung-Kook Han [playerid=427619245][/td][td]공 마술사\n",
      "더 많은 정보를 보려면 클릭[/td][td][/td][td]24.44[/td][td]3 시즌   10 주   0 일[/td][td]1510[/td][td]2[/td][td]4[/td][td]6[/td][td]8[/td][td]20[/td][td]✔[/td][td]1[/td][td]5[/td][td]6[/td][td]6[/td][td]5[/td][td]2[/td][td]9[/td][td]618[/td][td]2018-06-17 [playerid=427619245][/td][td]4.5[/td][td]W[/td][td]330000[/td][td]18[/td][td][playerid=427619245][/td][td][playerid=427619245][/td][td]3.96[/td][td]6.86[/td][td]6.82[/td][td]7.13[/td][td]7.04[/td][td]5.76[/td][/tr]\n",
      "[tr][td]–[/td][td]14[/td][td]Hanguk[/td][td]Se-Jong Cho [playerid=427619246][/td][td][/td][td][/td][td]31.44[/td][td]3 시즌   10 주   0 일[/td][td]430[/td][td]4[/td][td]6[/td][td]7[/td][td]6[/td][td]20[/td][td]✔[/td][td]1[/td][td]5[/td][td]5[/td][td]6[/td][td]3[/td][td]3[/td][td]8[/td][td]596[/td][td]2018-06-13 [playerid=427619246][/td][td]4[/td][td]WB[/td][td]280000[/td][td]18[/td][td][playerid=427619246][/td][td][playerid=427619246][/td][td]4.24[/td][td]6.98[/td][td]6.81[/td][td]6.83[/td][td]6.56[/td][td]5.88[/td][/tr]\n",
      "[tr][td]–[/td][td]15[/td][td]Hanguk[/td][td]Man-Ok Lee [playerid=427619247][/td][td]예측할 수 없음\n",
      "더 많은 정보를 보려면 클릭[/td][td][/td][td]25.97[/td][td]3 시즌   10 주   0 일[/td][td]2080[/td][td]5[/td][td]4[/td][td]6[/td][td]7[/td][td]20[/td][td]✔[/td][td]1[/td][td]5[/td][td]5[/td][td]7[/td][td]6[/td][td]2[/td][td]9[/td][td]765[/td][td]2018-06-13 [playerid=427619247][/td][td]4[/td][td]W[/td][td]350000[/td][td]13[/td][td][playerid=427619247][/td][td][playerid=427619247][/td][td]3.93[/td][td]6.78[/td][td]6.44[/td][td]6.89[/td][td]6.43[/td][td]5.71[/td][/tr]\n",
      "[tr][td]–[/td][td]16[/td][td]Hanguk[/td][td]Dong-Shik Kim [playerid=427619248][/td][td][/td][td]Y×1 Bru[/td][td]21.91[/td][td]3 시즌   10 주   0 일[/td][td]1570[/td][td]6[/td][td]3[/td][td]6[/td][td]8[/td][td]20[/td][td]✔[/td][td]1[/td][td]3[/td][td]3[/td][td]6[/td][td]4[/td][td]7[/td][td]10[/td][td]760[/td][td]2018-06-13 [playerid=427619248][/td][td]5.5[/td][td]FW[/td][td]410000[/td][td]24[/td][td][playerid=427619248][/td][td][playerid=427619248][/td][td]3.13[/td][td]4.81[/td][td]4.32[/td][td]4.93[/td][td]4.53[/td][td]6.16[/td][/tr]\n",
      "[tr][td]–[/td][td]18[/td][td]Hanguk[/td][td]Kwang-Rae Kim [playerid=427619250][/td][td]헤딩\n",
      "더 많은 정보를 보려면 클릭[/td][td][/td][td]29.51[/td][td]3 시즌   10 주   0 일[/td][td]650[/td][td]3[/td][td]5[/td][td]4[/td][td]6[/td][td]20[/td][td]✔[/td][td]1[/td][td]2[/td][td]5[/td][td]3[/td][td]6[/td][td]6[/td][td]7[/td][td]613[/td][td]2018-06-13 [playerid=427619250][/td][td]4[/td][td]FW[/td][td]300000[/td][td]32[/td][td][playerid=427619250][/td][td][playerid=427619250][/td][td]2.59[/td][td]3.69[/td][td]3.87[/td][td]4.56[/td][td]5.02[/td][td]5.39[/td][/tr]\n",
      "[tr][td]–[/td][td]23[/td][td]Belgium[/td][td]Mathias Piron [playerid=428125893][/td][td]공 마술사\n",
      "더 많은 정보를 보려면 클릭[/td][td][/td][td]35.18[/td][td]3 시즌   5 주   0 일[/td][td]70[/td][td]6[/td][td]6[/td][td]7[/td][td]5[/td][td]20[/td][td][/td][td]2[/td][td]5[/td][td]5[/td][td]5[/td][td]5[/td][td]1[/td][td]8[/td][td]490[/td][td]2018-06-17 [playerid=428125893][/td][td]3.5[/td][td]W[/td][td]312000[/td][td]13[/td][td][playerid=428125893][/td][td][playerid=428125893][/td][td]4.2[/td][td]6.03[/td][td]6.03[/td][td]6.03[/td][td]5.9[/td][td]4.61[/td][/tr]\n",
      "[tr][td]–[/td][td]25[/td][td]Polska[/td][td]Pylyp Nagorniak [playerid=406205227][/td][td][/td][td]Y×1[/td][td]29.91[/td][td]3 시즌   5 주   0 일[/td][td]1620[/td][td]5[/td][td]3[/td][td]7[/td][td]6[/td][td]20[/td][td][/td][td]1[/td][td]6[/td][td]6[/td][td]3[/td][td]6[/td][td]3[/td][td]9[/td][td]658[/td][td]2018-06-13 [playerid=406205227][/td][td]4.5[/td][td]IM[/td][td]432000[/td][td]8[/td][td][playerid=406205227][/td][td][playerid=406205227][/td][td]3.79[/td][td]6.56[/td][td]7.1[/td][td]6.51[/td][td]6.99[/td][td]5.6[/td][/tr]\n",
      "[tr][td]–[/td][td]31[/td][td]Hanguk[/td][td]Se-Hee Park [playerid=430626797][/td][td][/td][td][/td][td]21.26[/td][td]2 시즌   9 주   0 일[/td][td]1130[/td][td]4[/td][td]2[/td][td]5[/td][td]7[/td][td]20[/td][td]✔[/td][td]1[/td][td]2[/td][td]5[/td][td]5[/td][td]3[/td][td]7[/td][td]8[/td][td]728[/td][td]2018-06-17 [playerid=430626797][/td][td]4.5[/td][td]FW[/td][td]390000[/td][td]23[/td][td][playerid=430626797][/td][td][playerid=430626797][/td][td]2.58[/td][td]4.17[/td][td]4.07[/td][td]4.98[/td][td]5.19[/td][td]5.98[/td][/tr]\n",
      "[tr][td]–[/td][td]34[/td][td]Sverige[/td][td]Axel Hermansson [playerid=422526443][/td][td][/td][td]Y×1[/td][td]31.1[/td][td]2 시즌   6 주   6 일[/td][td]1640[/td][td]5[/td][td]5[/td][td]8[/td][td]6[/td][td]18[/td][td][/td][td]2[/td][td]6[/td][td]7[/td][td]2[/td][td]6[/td][td]2[/td][td]9[/td][td]703[/td][td]2018-06-17 [playerid=422526443][/td][td]5[/td][td]IM[/td][td]456000[/td][td]16[/td][td][playerid=422526443][/td][td][playerid=422526443][/td][td]4.7[/td][td]6.88[/td][td]7.74[/td][td]7.08[/td][td]7.95[/td][td]5.64[/td][/tr]\n",
      "[tr][td]–[/td][td]38[/td][td]Latvija[/td][td]Artem Skurlatov [playerid=409641598][/td][td][/td][td][/td][td]29.7[/td][td]2 시즌   3 주   3 일[/td][td]2100[/td][td]5[/td][td]5[/td][td]6[/td][td]7[/td][td]17[/td][td][/td][td]1[/td][td]8[/td][td]6[/td][td]3[/td][td]4[/td][td]3[/td][td]4[/td][td]802[/td][td]2018-06-17 [playerid=409641598][/td][td]4.5[/td][td]CD[/td][td]684000[/td][td]8[/td][td][playerid=409641598][/td][td][playerid=409641598][/td][td]3.99[/td][td]6.95[/td][td]7.5[/td][td]6.09[/td][td]6.41[/td][td]4.86[/td][/tr]\n",
      "[tr][td]–[/td][td]40[/td][td]Perú[/td][td]Matías Pichis [playerid=416567166][/td][td][/td][td][/td][td]24.69[/td][td]2 시즌   2 주   6 일[/td][td]8320[/td][td]6[/td][td]2[/td][td]5[/td][td]8[/td][td]17[/td][td][/td][td]1[/td][td]10[/td][td]8[/td][td]2[/td][td]4[/td][td]4[/td][td]6[/td][td]999[/td][td]2018-06-13 [playerid=416567166][/td][td]4.5[/td][td]CD[/td][td]1764000[/td][td]4[/td][td][playerid=416567166][/td][td][playerid=416567166][/td][td]3.93[/td][td]7.5[/td][td]8.51[/td][td]6.47[/td][td]7.25[/td][td]5.03[/td][/tr]\n",
      "[tr][td]–[/td][td]41[/td][td]Deutschland[/td][td]Reinold Kisch [playerid=413993877][/td][td][/td][td][/td][td]25.73[/td][td]2 시즌   2 주   6 일[/td][td]2330[/td][td]5[/td][td]2[/td][td]5[/td][td]7[/td][td]17[/td][td][/td][td]1[/td][td]8[/td][td]6[/td][td]2[/td][td]4[/td][td]5[/td][td]3[/td][td]803[/td][td]2018-06-13 [playerid=413993877][/td][td]4[/td][td]CD[/td][td]588000[/td][td]11[/td][td][playerid=413993877][/td][td][playerid=413993877][/td][td]3.43[/td][td]6.13[/td][td]6.82[/td][td]5.29[/td][td]5.82[/td][td]4.83[/td][/tr]\n",
      "[tr][td]–[/td][td]48[/td][td]Hanguk[/td][td]Dong-Suk Lee [playerid=432205385][/td][td]공 마술사\n",
      "더 많은 정보를 보려면 클릭[/td][td][/td][td]20.40[/td][td]1 시즌   12 주   6 일[/td][td]1280[/td][td]6[/td][td]1[/td][td]8[/td][td]7[/td][td]20[/td][td]✔[/td][td]1[/td][td]5[/td][td]4[/td][td]5[/td][td]6[/td][td]5[/td][td]4[/td][td]613[/td][td]2018-06-17 [playerid=432205385][/td][td]4.5[/td][td]FW[/td][td]290000[/td][td]7[/td][td][playerid=432205385][/td][td][playerid=432205385][/td][td]3.49[/td][td]5.98[/td][td]5.84[/td][td]5.8[/td][td]5.58[/td][td]6.07[/td][/tr]\n",
      "[tr][td]–[/td][td]52[/td][td]Hanguk[/td][td]Seong-Gong Choi [playerid=433454317][/td][td]예측할 수 없음\n",
      "더 많은 정보를 보려면 클릭[/td][td]Y×2[/td][td]19.8[/td][td]1 시즌   9 주   1 일[/td][td]5670[/td][td]4[/td][td]2[/td][td]7[/td][td]7[/td][td]20[/td][td]✔[/td][td]1[/td][td]7[/td][td]7[/td][td]7[/td][td]4[/td][td]5[/td][td]4[/td][td]793[/td][td]2018-06-17 [playerid=433454317][/td][td]5[/td][td]WB[/td][td]550000[/td][td]13[/td][td][playerid=433454317][/td][td][playerid=433454317][/td][td]4.34[/td][td]8.32[/td][td]8.32[/td][td]8.07[/td][td]7.98[/td][td]7.09[/td][/tr]\n",
      "[tr][td]–[/td][td]55[/td][td]Hanguk[/td][td]Geun-Ho Han [playerid=433728993][/td][td][/td][td]Y×1[/td][td]20.10[/td][td]1 시즌   6 주   1 일[/td][td]2320[/td][td]3[/td][td]1[/td][td]8[/td][td]7[/td][td]20[/td][td]✔[/td][td]1[/td][td]5[/td][td]6[/td][td]4[/td][td]3[/td][td]7[/td][td]3[/td][td]719[/td][td]2018-06-13 [playerid=433728993][/td][td]5[/td][td]FW[/td][td]410000[/td][td]5[/td][td][playerid=433728993][/td][td][playerid=433728993][/td][td]3.49[/td][td]6.24[/td][td]6.57[/td][td]6.32[/td][td]6.81[/td][td]6.86[/td][/tr]\n",
      "[tr][td]–[/td][td]61[/td][td]Oceania[/td][td]Cedrick Williamson [playerid=430364099][/td][td]힘 있음\n",
      "더 많은 정보를 보려면 클릭[/td][td][/td][td]19.73[/td][td]1 시즌   0 주   6 일[/td][td]5910[/td][td]3[/td][td]3[/td][td]6[/td][td]7[/td][td]12[/td][td][/td][td]1[/td][td]8[/td][td]5[/td][td]7[/td][td]7[/td][td]2[/td][td]4[/td][td]857[/td][td]2018-06-17 [playerid=430364099][/td][td]4.5[/td][td]WB[/td][td]708000[/td][td]2[/td][td][playerid=430364099][/td][td][playerid=430364099][/td][td]3.64[/td][td]7.16[/td][td]6.94[/td][td]6.33[/td][td]5.71[/td][td]4.77[/td][/tr]\n",
      "[tr][td]–[/td][td]65[/td][td]Hanguk[/td][td]Sang-Hyun Yun [playerid=434942107][/td][td][/td][td]Y×1 Bru[/td][td]18.36[/td][td]12 주   1 일[/td][td]2590[/td][td]3[/td][td]1[/td][td]6[/td][td]6[/td][td]20[/td][td]✔[/td][td]1[/td][td]6[/td][td]5[/td][td]4[/td][td]7[/td][td]4[/td][td]2[/td][td]782[/td][td]2018-06-10 [playerid=434942107][/td][td]4[/td][td]W[/td][td]390000[/td][td]2[/td][td][playerid=434942107][/td][td][playerid=434942107][/td][td]3.06[/td][td]5.33[/td][td]5.52[/td][td]5.16[/td][td]5.25[/td][td]4.87[/td][/tr]\n",
      "[tr][td]–[/td][td]70[/td][td]Hanguk[/td][td]Min-Gyu Jung [playerid=429263814][/td][td][/td][td][/td][td]24.2[/td][td]7 주   5 일[/td][td]5710[/td][td]1[/td][td]3[/td][td]7[/td][td]8[/td][td]8[/td][td][/td][td]1[/td][td]9[/td][td]6[/td][td]4[/td][td]4[/td][td]2[/td][td]5[/td][td]938[/td][td]2018-06-13 [playerid=429263814][/td][td]4.5[/td][td]CD[/td][td]1030000[/td][td]2[/td][td][playerid=429263814][/td][td][playerid=429263814][/td][td]4.12[/td][td]7.96[/td][td]8.46[/td][td]6.62[/td][td]6.68[/td][td]4.56[/td][/tr]\n",
      "[tr][td]–[/td][td]72[/td][td]Hanguk[/td][td]Gyeong-Ryeol Kim [playerid=435840503][/td][td][/td][td][/td][td]18.50[/td][td]6 주   1 일[/td][td]1530[/td][td]3[/td][td]1[/td][td]6[/td][td]5[/td][td]20[/td][td]✔[/td][td]1[/td][td]7[/td][td]6[/td][td]4[/td][td]4[/td][td]3[/td][td]5[/td][td]744[/td][td]2018-06-06 [playerid=435840503][/td][td]4[/td][td]WB[/td][td]390000[/td][td]0[/td][td][playerid=435840503][/td][td][playerid=435840503][/td][td]3.24[/td][td]5.89[/td][td]6.22[/td][td]5.42[/td][td]5.6[/td][td]4.36[/td][/tr]\n",
      "[tr][td]–[/td][td]76[/td][td]Hanguk[/td][td]Nam-Han Kim [playerid=436538053][/td][td][/td][td][/td][td]17.56[/td][td]1 주   1 일[/td][td]770[/td][td]5[/td][td]1[/td][td]6[/td][td]5[/td][td]20[/td][td]✔[/td][td]5[/td][td]4[/td][td]1[/td][td]1[/td][td]1[/td][td]1[/td][td]5[/td][td]507[/td][td]2018-06-17 [playerid=436538053][/td][td]2.5[/td][td]KP[/td][td]530000[/td][td]0[/td][td][playerid=436538053][/td][td][playerid=436538053][/td][td]4.8[/td][td]3.27[/td][td]3.37[/td][td]2.35[/td][td]2.2[/td][td]1.93[/td][/tr]\n",
      "[tr][td]–[/td][td]98[/td][td]Hanguk[/td][td]Chang-Oh Lee [playerid=436624123][/td][td][/td][td]TL[/td][td]17.47[/td][td]0 일[/td][td]720[/td][td]5[/td][td]1[/td][td]6[/td][td]5[/td][td]20[/td][td]✔[/td][td]1[/td][td]3[/td][td]3[/td][td]5[/td][td]6[/td][td]4[/td][td]4[/td][td]677[/td][td][/td][td][/td][td][/td][td]290000[/td][td]0[/td][td][playerid=436624123][/td][td][playerid=436624123][/td][td]1.21[/td][td]2.59[/td][td]2.3[/td][td]2.83[/td][td]2.55[/td][td]3.17[/td][/tr]\n",
      "[tr][td]–[/td][td]99[/td][td]Hanguk[/td][td]Je-Min Jung [playerid=427619232] 코치[/td][td][/td][td][/td][td]43.107[/td][td]3 시즌   10 주   0 일[/td][td]0[/td][td]3[/td][td]8[/td][td]4[/td][td]1[/td][td]20[/td][td]✔[/td][td]0[/td][td]0[/td][td]0[/td][td]0[/td][td]0[/td][td]0[/td][td]0[/td][td]440[/td][td][/td][td][/td][td][/td][td]250000[/td][td]0[/td][td][playerid=427619232][/td][td][playerid=427619232][/td][td]1.2[/td][td]1.2[/td][td]1.2[/td][td]1.2[/td][td]1.2[/td][td]1.2[/td][/tr]\n",
      "[/table]\n"
     ]
    }
   ],
   "source": [
    "import pyperclip # The name you have the file\n",
    "tmpClip = pyperclip.paste()\n",
    "print(tmpClip)"
   ]
  },
  {
   "cell_type": "code",
   "execution_count": 7,
   "metadata": {
    "collapsed": true
   },
   "outputs": [],
   "source": [
    "from ht_file import *"
   ]
  },
  {
   "cell_type": "code",
   "execution_count": 8,
   "metadata": {},
   "outputs": [
    {
     "name": "stdout",
     "output_type": "stream",
     "text": [
      "2018/06/17\t\t : will be created\n",
      "2018/06/17\t\t : is existed\n"
     ]
    }
   ],
   "source": [
    "HattrickFile = HattrickFile()\n",
    "HattrickFile.check_and_create_folder(folder)"
   ]
  },
  {
   "cell_type": "code",
   "execution_count": 9,
   "metadata": {},
   "outputs": [
    {
     "name": "stdout",
     "output_type": "stream",
     "text": [
      "2018/06/17/player.html\t : is not existed\n"
     ]
    }
   ],
   "source": [
    "HattrickFile.check_and_delete_file(folder + '/player.html')"
   ]
  },
  {
   "cell_type": "code",
   "execution_count": 10,
   "metadata": {
    "collapsed": true
   },
   "outputs": [],
   "source": [
    "with open(folder + '/player.html', 'w') as f:\n",
    "    f.write(tmpClip)"
   ]
  },
  {
   "cell_type": "code",
   "execution_count": 11,
   "metadata": {},
   "outputs": [
    {
     "data": {
      "text/plain": [
       "['[table]',\n",
       " '[tr][th]-[/th][th]#[/th][th]Nat[/th][th]Player[/th][th]Sp[/th][th]Stat[/th][th]Age[/th][th]Since[/th][th]TSI[/th][th]LS[/th][th]XP[/th][th]Fo[/th][th]Stm[/th][th]Lo[/th][th]MB[/th][th]KP[/th][th]DF[/th][th]PM[/th][th]WI[/th][th]PS[/th][th]SC[/th][th]SP[/th][th]Psico[/th][th]Last[/th][th]Rt[/th][th]Pos[/th][th]Wage[/th][th]G[/th][th]TC[/th][th]PH[/th][th]KP[/th][th]WB[/th][th]CD[/th][th]W[/th][th]IM[/th][th]FW[/th][/tr]',\n",
       " '[tr][td]–[/td][td]2[/td][td]Hanguk[/td][td]Jee-Hoon Kim [playerid=428709461][/td][td][/td][td][/td][td]21.104[/td][td]3 시즌   2 주   1 일[/td][td]37650[/td][td]3[/td][td]2[/td][td]7[/td][td]8[/td][td]20[/td][td]✔[/td][td]13[/td][td]5[/td][td]1[/td][td]1[/td][td]1[/td][td]2[/td][td]8[/td][td]1344[/td][td]2018-06-13 [playerid=428709461][/td][td]7[/td][td]KP[/td][td]5450000[/td][td]0[/td][td][playerid=428709461][/td][td][playerid=428709461][/td][td]12.04[/td][td]4.99[/td][td]5.15[/td][td]3.47[/td][td]3.26[/td][td]3.17[/td][/tr]',\n",
       " '[tr][td]–[/td][td]3[/td][td]Hanguk[/td][td]Eun-Seok Hong [playerid=427619235][/td][td][/td][td][/td][td]32.17[/td][td]3 시즌   10 주   0 일[/td][td]190[/td][td]5[/td][td]5[/td][td]6[/td][td]6[/td][td]20[/td][td]✔[/td][td]1[/td][td]6[/td][td]5[/td][td]3[/td][td]2[/td][td]1[/td][td]7[/td][td]590[/td][td]2018-06-17 [playerid=427619235][/td][td]4[/td][td]CD[/td][td]290000[/td][td]9[/td][td][playerid=427619235][/td][td][playerid=427619235][/td][td]4.1[/td][td]6.41[/td][td]6.78[/td][td]5.82[/td][td]5.98[/td][td]4.24[/td][/tr]',\n",
       " '[tr][td]–[/td][td]4[/td][td]Hanguk[/td][td]Ji-Woon Lee [playerid=427619236][/td][td][/td][td]Y×2[/td][td]22.33[/td][td]3 시즌   10 주   0 일[/td][td]1250[/td][td]5[/td][td]3[/td][td]7[/td][td]8[/td][td]20[/td][td]✔[/td][td]1[/td][td]7[/td][td]4[/td][td]3[/td][td]5[/td][td]2[/td][td]7[/td][td]724[/td][td]2018-06-17 [playerid=427619236][/td][td]4.5[/td][td]CD[/td][td]390000[/td][td]25[/td][td][playerid=427619236][/td][td][playerid=427619236][/td][td]4.66[/td][td]7.35[/td][td]7.65[/td][td]6.28[/td][td]6.23[/td][td]5.12[/td][/tr]',\n",
       " '[tr][td]–[/td][td]6[/td][td]Hanguk[/td][td]Jae-Shin Cha [playerid=427619238][/td][td][/td][td][/td][td]30.14[/td][td]3 시즌   10 주   0 일[/td][td]790[/td][td]5[/td][td]5[/td][td]7[/td][td]6[/td][td]20[/td][td]✔[/td][td]1[/td][td]7[/td][td]3[/td][td]6[/td][td]3[/td][td]2[/td][td]10[/td][td]714[/td][td]2018-06-17 [playerid=427619238][/td][td]5[/td][td]WB[/td][td]360000[/td][td]13[/td][td][playerid=427619238][/td][td][playerid=427619238][/td][td]4.76[/td][td]7.67[/td][td]7.3[/td][td]6.26[/td][td]5.4[/td][td]4.97[/td][/tr]',\n",
       " '[tr][td]–[/td][td]8[/td][td]Hanguk[/td][td]Hong-Chan Son [playerid=427619240][/td][td][/td][td][/td][td]24.74[/td][td]3 시즌   10 주   0 일[/td][td]1130[/td][td]5[/td][td]3[/td][td]6[/td][td]7[/td][td]20[/td][td]✔[/td][td]1[/td][td]5[/td][td]6[/td][td]5[/td][td]5[/td][td]1[/td][td]8[/td][td]635[/td][td]2018-06-13 [playerid=427619240][/td][td]3[/td][td]WB[/td][td]310000[/td][td]1[/td][td][playerid=427619240][/td][td][playerid=427619240][/td][td]3.78[/td][td]6.48[/td][td]6.61[/td][td]6.74[/td][td]6.81[/td][td]5.09[/td][/tr]',\n",
       " '[tr][td]–[/td][td]9[/td][td]Hanguk[/td][td]Hoi-Taek Park [playerid=427619241][/td][td]예측할 수 없음',\n",
       " '더 많은 정보를 보려면 클릭[/td][td]Y×1[/td][td]22.81[/td][td]3 시즌   10 주   0 일[/td][td]1300[/td][td]2[/td][td]3[/td][td]6[/td][td]8[/td][td]20[/td][td]✔[/td][td]1[/td][td]5[/td][td]6[/td][td]3[/td][td]6[/td][td]3[/td][td]10[/td][td]618[/td][td]2018-06-13 [playerid=427619241][/td][td]4.5[/td][td]IM[/td][td]330000[/td][td]10[/td][td][playerid=427619241][/td][td][playerid=427619241][/td][td]3.81[/td][td]6.19[/td][td]6.67[/td][td]6.5[/td][td]7.02[/td][td]5.79[/td][/tr]',\n",
       " '[tr][td]–[/td][td]10[/td][td]Hanguk[/td][td]Kwang-Eul Jeon [playerid=427619242][/td][td][/td][td]Y×2[/td][td]26.80[/td][td]3 시즌   10 주   0 일[/td][td]1690[/td][td]4[/td][td]4[/td][td]8[/td][td]7[/td][td]20[/td][td]✔[/td][td]1[/td][td]6[/td][td]7[/td][td]3[/td][td]3[/td][td]2[/td][td]9[/td][td]764[/td][td]2018-06-17 [playerid=427619242][/td][td]5[/td][td]IM[/td][td]430000[/td][td]13[/td][td][playerid=427619242][/td][td][playerid=427619242][/td][td]4.64[/td][td]7.78[/td][td]8.49[/td][td]7.74[/td][td]8.41[/td][td]5.96[/td][/tr]',\n",
       " '[tr][td]–[/td][td]11[/td][td]Hanguk[/td][td]Kwang-Hwan Yun [playerid=427619243][/td][td][/td][td]Y×1[/td][td]29.47[/td][td]3 시즌   10 주   0 일[/td][td]680[/td][td]6[/td][td]5[/td][td]7[/td][td]6[/td][td]20[/td][td]✔[/td][td]2[/td][td]5[/td][td]6[/td][td]2[/td][td]5[/td][td]2[/td][td]9[/td][td]634[/td][td]2018-06-13 [playerid=427619243][/td][td]4[/td][td]W[/td][td]320000[/td][td]12[/td][td][playerid=427619243][/td][td][playerid=427619243][/td][td]4.89[/td][td]6.54[/td][td]7.21[/td][td]6.76[/td][td]7.45[/td][td]5.65[/td][/tr]',\n",
       " '[tr][td]–[/td][td]12[/td][td]Hanguk[/td][td]Chan-Myung Lee [playerid=427619244][/td][td][/td][td]Y×1[/td][td]28.56[/td][td]3 시즌   10 주   0 일[/td][td]860[/td][td]3[/td][td]4[/td][td]6[/td][td]7[/td][td]20[/td][td]✔[/td][td]1[/td][td]3[/td][td]7[/td][td]3[/td][td]4[/td][td]3[/td][td]8[/td][td]731[/td][td]2018-06-13 [playerid=427619244][/td][td]4.5[/td][td]IM[/td][td]410000[/td][td]8[/td][td][playerid=427619244][/td][td][playerid=427619244][/td][td]3.36[/td][td]5.39[/td][td]5.9[/td][td]6.46[/td][td]7.26[/td][td]5.77[/td][/tr]',\n",
       " '[tr][td]–[/td][td]13[/td][td]Hanguk[/td][td]Sung-Kook Han [playerid=427619245][/td][td]공 마술사',\n",
       " '더 많은 정보를 보려면 클릭[/td][td][/td][td]24.44[/td][td]3 시즌   10 주   0 일[/td][td]1510[/td][td]2[/td][td]4[/td][td]6[/td][td]8[/td][td]20[/td][td]✔[/td][td]1[/td][td]5[/td][td]6[/td][td]6[/td][td]5[/td][td]2[/td][td]9[/td][td]618[/td][td]2018-06-17 [playerid=427619245][/td][td]4.5[/td][td]W[/td][td]330000[/td][td]18[/td][td][playerid=427619245][/td][td][playerid=427619245][/td][td]3.96[/td][td]6.86[/td][td]6.82[/td][td]7.13[/td][td]7.04[/td][td]5.76[/td][/tr]',\n",
       " '[tr][td]–[/td][td]14[/td][td]Hanguk[/td][td]Se-Jong Cho [playerid=427619246][/td][td][/td][td][/td][td]31.44[/td][td]3 시즌   10 주   0 일[/td][td]430[/td][td]4[/td][td]6[/td][td]7[/td][td]6[/td][td]20[/td][td]✔[/td][td]1[/td][td]5[/td][td]5[/td][td]6[/td][td]3[/td][td]3[/td][td]8[/td][td]596[/td][td]2018-06-13 [playerid=427619246][/td][td]4[/td][td]WB[/td][td]280000[/td][td]18[/td][td][playerid=427619246][/td][td][playerid=427619246][/td][td]4.24[/td][td]6.98[/td][td]6.81[/td][td]6.83[/td][td]6.56[/td][td]5.88[/td][/tr]',\n",
       " '[tr][td]–[/td][td]15[/td][td]Hanguk[/td][td]Man-Ok Lee [playerid=427619247][/td][td]예측할 수 없음',\n",
       " '더 많은 정보를 보려면 클릭[/td][td][/td][td]25.97[/td][td]3 시즌   10 주   0 일[/td][td]2080[/td][td]5[/td][td]4[/td][td]6[/td][td]7[/td][td]20[/td][td]✔[/td][td]1[/td][td]5[/td][td]5[/td][td]7[/td][td]6[/td][td]2[/td][td]9[/td][td]765[/td][td]2018-06-13 [playerid=427619247][/td][td]4[/td][td]W[/td][td]350000[/td][td]13[/td][td][playerid=427619247][/td][td][playerid=427619247][/td][td]3.93[/td][td]6.78[/td][td]6.44[/td][td]6.89[/td][td]6.43[/td][td]5.71[/td][/tr]',\n",
       " '[tr][td]–[/td][td]16[/td][td]Hanguk[/td][td]Dong-Shik Kim [playerid=427619248][/td][td][/td][td]Y×1 Bru[/td][td]21.91[/td][td]3 시즌   10 주   0 일[/td][td]1570[/td][td]6[/td][td]3[/td][td]6[/td][td]8[/td][td]20[/td][td]✔[/td][td]1[/td][td]3[/td][td]3[/td][td]6[/td][td]4[/td][td]7[/td][td]10[/td][td]760[/td][td]2018-06-13 [playerid=427619248][/td][td]5.5[/td][td]FW[/td][td]410000[/td][td]24[/td][td][playerid=427619248][/td][td][playerid=427619248][/td][td]3.13[/td][td]4.81[/td][td]4.32[/td][td]4.93[/td][td]4.53[/td][td]6.16[/td][/tr]',\n",
       " '[tr][td]–[/td][td]18[/td][td]Hanguk[/td][td]Kwang-Rae Kim [playerid=427619250][/td][td]헤딩',\n",
       " '더 많은 정보를 보려면 클릭[/td][td][/td][td]29.51[/td][td]3 시즌   10 주   0 일[/td][td]650[/td][td]3[/td][td]5[/td][td]4[/td][td]6[/td][td]20[/td][td]✔[/td][td]1[/td][td]2[/td][td]5[/td][td]3[/td][td]6[/td][td]6[/td][td]7[/td][td]613[/td][td]2018-06-13 [playerid=427619250][/td][td]4[/td][td]FW[/td][td]300000[/td][td]32[/td][td][playerid=427619250][/td][td][playerid=427619250][/td][td]2.59[/td][td]3.69[/td][td]3.87[/td][td]4.56[/td][td]5.02[/td][td]5.39[/td][/tr]',\n",
       " '[tr][td]–[/td][td]23[/td][td]Belgium[/td][td]Mathias Piron [playerid=428125893][/td][td]공 마술사',\n",
       " '더 많은 정보를 보려면 클릭[/td][td][/td][td]35.18[/td][td]3 시즌   5 주   0 일[/td][td]70[/td][td]6[/td][td]6[/td][td]7[/td][td]5[/td][td]20[/td][td][/td][td]2[/td][td]5[/td][td]5[/td][td]5[/td][td]5[/td][td]1[/td][td]8[/td][td]490[/td][td]2018-06-17 [playerid=428125893][/td][td]3.5[/td][td]W[/td][td]312000[/td][td]13[/td][td][playerid=428125893][/td][td][playerid=428125893][/td][td]4.2[/td][td]6.03[/td][td]6.03[/td][td]6.03[/td][td]5.9[/td][td]4.61[/td][/tr]',\n",
       " '[tr][td]–[/td][td]25[/td][td]Polska[/td][td]Pylyp Nagorniak [playerid=406205227][/td][td][/td][td]Y×1[/td][td]29.91[/td][td]3 시즌   5 주   0 일[/td][td]1620[/td][td]5[/td][td]3[/td][td]7[/td][td]6[/td][td]20[/td][td][/td][td]1[/td][td]6[/td][td]6[/td][td]3[/td][td]6[/td][td]3[/td][td]9[/td][td]658[/td][td]2018-06-13 [playerid=406205227][/td][td]4.5[/td][td]IM[/td][td]432000[/td][td]8[/td][td][playerid=406205227][/td][td][playerid=406205227][/td][td]3.79[/td][td]6.56[/td][td]7.1[/td][td]6.51[/td][td]6.99[/td][td]5.6[/td][/tr]',\n",
       " '[tr][td]–[/td][td]31[/td][td]Hanguk[/td][td]Se-Hee Park [playerid=430626797][/td][td][/td][td][/td][td]21.26[/td][td]2 시즌   9 주   0 일[/td][td]1130[/td][td]4[/td][td]2[/td][td]5[/td][td]7[/td][td]20[/td][td]✔[/td][td]1[/td][td]2[/td][td]5[/td][td]5[/td][td]3[/td][td]7[/td][td]8[/td][td]728[/td][td]2018-06-17 [playerid=430626797][/td][td]4.5[/td][td]FW[/td][td]390000[/td][td]23[/td][td][playerid=430626797][/td][td][playerid=430626797][/td][td]2.58[/td][td]4.17[/td][td]4.07[/td][td]4.98[/td][td]5.19[/td][td]5.98[/td][/tr]',\n",
       " '[tr][td]–[/td][td]34[/td][td]Sverige[/td][td]Axel Hermansson [playerid=422526443][/td][td][/td][td]Y×1[/td][td]31.1[/td][td]2 시즌   6 주   6 일[/td][td]1640[/td][td]5[/td][td]5[/td][td]8[/td][td]6[/td][td]18[/td][td][/td][td]2[/td][td]6[/td][td]7[/td][td]2[/td][td]6[/td][td]2[/td][td]9[/td][td]703[/td][td]2018-06-17 [playerid=422526443][/td][td]5[/td][td]IM[/td][td]456000[/td][td]16[/td][td][playerid=422526443][/td][td][playerid=422526443][/td][td]4.7[/td][td]6.88[/td][td]7.74[/td][td]7.08[/td][td]7.95[/td][td]5.64[/td][/tr]',\n",
       " '[tr][td]–[/td][td]38[/td][td]Latvija[/td][td]Artem Skurlatov [playerid=409641598][/td][td][/td][td][/td][td]29.7[/td][td]2 시즌   3 주   3 일[/td][td]2100[/td][td]5[/td][td]5[/td][td]6[/td][td]7[/td][td]17[/td][td][/td][td]1[/td][td]8[/td][td]6[/td][td]3[/td][td]4[/td][td]3[/td][td]4[/td][td]802[/td][td]2018-06-17 [playerid=409641598][/td][td]4.5[/td][td]CD[/td][td]684000[/td][td]8[/td][td][playerid=409641598][/td][td][playerid=409641598][/td][td]3.99[/td][td]6.95[/td][td]7.5[/td][td]6.09[/td][td]6.41[/td][td]4.86[/td][/tr]',\n",
       " '[tr][td]–[/td][td]40[/td][td]Perú[/td][td]Matías Pichis [playerid=416567166][/td][td][/td][td][/td][td]24.69[/td][td]2 시즌   2 주   6 일[/td][td]8320[/td][td]6[/td][td]2[/td][td]5[/td][td]8[/td][td]17[/td][td][/td][td]1[/td][td]10[/td][td]8[/td][td]2[/td][td]4[/td][td]4[/td][td]6[/td][td]999[/td][td]2018-06-13 [playerid=416567166][/td][td]4.5[/td][td]CD[/td][td]1764000[/td][td]4[/td][td][playerid=416567166][/td][td][playerid=416567166][/td][td]3.93[/td][td]7.5[/td][td]8.51[/td][td]6.47[/td][td]7.25[/td][td]5.03[/td][/tr]',\n",
       " '[tr][td]–[/td][td]41[/td][td]Deutschland[/td][td]Reinold Kisch [playerid=413993877][/td][td][/td][td][/td][td]25.73[/td][td]2 시즌   2 주   6 일[/td][td]2330[/td][td]5[/td][td]2[/td][td]5[/td][td]7[/td][td]17[/td][td][/td][td]1[/td][td]8[/td][td]6[/td][td]2[/td][td]4[/td][td]5[/td][td]3[/td][td]803[/td][td]2018-06-13 [playerid=413993877][/td][td]4[/td][td]CD[/td][td]588000[/td][td]11[/td][td][playerid=413993877][/td][td][playerid=413993877][/td][td]3.43[/td][td]6.13[/td][td]6.82[/td][td]5.29[/td][td]5.82[/td][td]4.83[/td][/tr]',\n",
       " '[tr][td]–[/td][td]48[/td][td]Hanguk[/td][td]Dong-Suk Lee [playerid=432205385][/td][td]공 마술사',\n",
       " '더 많은 정보를 보려면 클릭[/td][td][/td][td]20.40[/td][td]1 시즌   12 주   6 일[/td][td]1280[/td][td]6[/td][td]1[/td][td]8[/td][td]7[/td][td]20[/td][td]✔[/td][td]1[/td][td]5[/td][td]4[/td][td]5[/td][td]6[/td][td]5[/td][td]4[/td][td]613[/td][td]2018-06-17 [playerid=432205385][/td][td]4.5[/td][td]FW[/td][td]290000[/td][td]7[/td][td][playerid=432205385][/td][td][playerid=432205385][/td][td]3.49[/td][td]5.98[/td][td]5.84[/td][td]5.8[/td][td]5.58[/td][td]6.07[/td][/tr]',\n",
       " '[tr][td]–[/td][td]52[/td][td]Hanguk[/td][td]Seong-Gong Choi [playerid=433454317][/td][td]예측할 수 없음',\n",
       " '더 많은 정보를 보려면 클릭[/td][td]Y×2[/td][td]19.8[/td][td]1 시즌   9 주   1 일[/td][td]5670[/td][td]4[/td][td]2[/td][td]7[/td][td]7[/td][td]20[/td][td]✔[/td][td]1[/td][td]7[/td][td]7[/td][td]7[/td][td]4[/td][td]5[/td][td]4[/td][td]793[/td][td]2018-06-17 [playerid=433454317][/td][td]5[/td][td]WB[/td][td]550000[/td][td]13[/td][td][playerid=433454317][/td][td][playerid=433454317][/td][td]4.34[/td][td]8.32[/td][td]8.32[/td][td]8.07[/td][td]7.98[/td][td]7.09[/td][/tr]',\n",
       " '[tr][td]–[/td][td]55[/td][td]Hanguk[/td][td]Geun-Ho Han [playerid=433728993][/td][td][/td][td]Y×1[/td][td]20.10[/td][td]1 시즌   6 주   1 일[/td][td]2320[/td][td]3[/td][td]1[/td][td]8[/td][td]7[/td][td]20[/td][td]✔[/td][td]1[/td][td]5[/td][td]6[/td][td]4[/td][td]3[/td][td]7[/td][td]3[/td][td]719[/td][td]2018-06-13 [playerid=433728993][/td][td]5[/td][td]FW[/td][td]410000[/td][td]5[/td][td][playerid=433728993][/td][td][playerid=433728993][/td][td]3.49[/td][td]6.24[/td][td]6.57[/td][td]6.32[/td][td]6.81[/td][td]6.86[/td][/tr]',\n",
       " '[tr][td]–[/td][td]61[/td][td]Oceania[/td][td]Cedrick Williamson [playerid=430364099][/td][td]힘 있음',\n",
       " '더 많은 정보를 보려면 클릭[/td][td][/td][td]19.73[/td][td]1 시즌   0 주   6 일[/td][td]5910[/td][td]3[/td][td]3[/td][td]6[/td][td]7[/td][td]12[/td][td][/td][td]1[/td][td]8[/td][td]5[/td][td]7[/td][td]7[/td][td]2[/td][td]4[/td][td]857[/td][td]2018-06-17 [playerid=430364099][/td][td]4.5[/td][td]WB[/td][td]708000[/td][td]2[/td][td][playerid=430364099][/td][td][playerid=430364099][/td][td]3.64[/td][td]7.16[/td][td]6.94[/td][td]6.33[/td][td]5.71[/td][td]4.77[/td][/tr]',\n",
       " '[tr][td]–[/td][td]65[/td][td]Hanguk[/td][td]Sang-Hyun Yun [playerid=434942107][/td][td][/td][td]Y×1 Bru[/td][td]18.36[/td][td]12 주   1 일[/td][td]2590[/td][td]3[/td][td]1[/td][td]6[/td][td]6[/td][td]20[/td][td]✔[/td][td]1[/td][td]6[/td][td]5[/td][td]4[/td][td]7[/td][td]4[/td][td]2[/td][td]782[/td][td]2018-06-10 [playerid=434942107][/td][td]4[/td][td]W[/td][td]390000[/td][td]2[/td][td][playerid=434942107][/td][td][playerid=434942107][/td][td]3.06[/td][td]5.33[/td][td]5.52[/td][td]5.16[/td][td]5.25[/td][td]4.87[/td][/tr]',\n",
       " '[tr][td]–[/td][td]70[/td][td]Hanguk[/td][td]Min-Gyu Jung [playerid=429263814][/td][td][/td][td][/td][td]24.2[/td][td]7 주   5 일[/td][td]5710[/td][td]1[/td][td]3[/td][td]7[/td][td]8[/td][td]8[/td][td][/td][td]1[/td][td]9[/td][td]6[/td][td]4[/td][td]4[/td][td]2[/td][td]5[/td][td]938[/td][td]2018-06-13 [playerid=429263814][/td][td]4.5[/td][td]CD[/td][td]1030000[/td][td]2[/td][td][playerid=429263814][/td][td][playerid=429263814][/td][td]4.12[/td][td]7.96[/td][td]8.46[/td][td]6.62[/td][td]6.68[/td][td]4.56[/td][/tr]',\n",
       " '[tr][td]–[/td][td]72[/td][td]Hanguk[/td][td]Gyeong-Ryeol Kim [playerid=435840503][/td][td][/td][td][/td][td]18.50[/td][td]6 주   1 일[/td][td]1530[/td][td]3[/td][td]1[/td][td]6[/td][td]5[/td][td]20[/td][td]✔[/td][td]1[/td][td]7[/td][td]6[/td][td]4[/td][td]4[/td][td]3[/td][td]5[/td][td]744[/td][td]2018-06-06 [playerid=435840503][/td][td]4[/td][td]WB[/td][td]390000[/td][td]0[/td][td][playerid=435840503][/td][td][playerid=435840503][/td][td]3.24[/td][td]5.89[/td][td]6.22[/td][td]5.42[/td][td]5.6[/td][td]4.36[/td][/tr]',\n",
       " '[tr][td]–[/td][td]76[/td][td]Hanguk[/td][td]Nam-Han Kim [playerid=436538053][/td][td][/td][td][/td][td]17.56[/td][td]1 주   1 일[/td][td]770[/td][td]5[/td][td]1[/td][td]6[/td][td]5[/td][td]20[/td][td]✔[/td][td]5[/td][td]4[/td][td]1[/td][td]1[/td][td]1[/td][td]1[/td][td]5[/td][td]507[/td][td]2018-06-17 [playerid=436538053][/td][td]2.5[/td][td]KP[/td][td]530000[/td][td]0[/td][td][playerid=436538053][/td][td][playerid=436538053][/td][td]4.8[/td][td]3.27[/td][td]3.37[/td][td]2.35[/td][td]2.2[/td][td]1.93[/td][/tr]',\n",
       " '[tr][td]–[/td][td]98[/td][td]Hanguk[/td][td]Chang-Oh Lee [playerid=436624123][/td][td][/td][td]TL[/td][td]17.47[/td][td]0 일[/td][td]720[/td][td]5[/td][td]1[/td][td]6[/td][td]5[/td][td]20[/td][td]✔[/td][td]1[/td][td]3[/td][td]3[/td][td]5[/td][td]6[/td][td]4[/td][td]4[/td][td]677[/td][td][/td][td][/td][td][/td][td]290000[/td][td]0[/td][td][playerid=436624123][/td][td][playerid=436624123][/td][td]1.21[/td][td]2.59[/td][td]2.3[/td][td]2.83[/td][td]2.55[/td][td]3.17[/td][/tr]',\n",
       " '[tr][td]–[/td][td]99[/td][td]Hanguk[/td][td]Je-Min Jung [playerid=427619232] 코치[/td][td][/td][td][/td][td]43.107[/td][td]3 시즌   10 주   0 일[/td][td]0[/td][td]3[/td][td]8[/td][td]4[/td][td]1[/td][td]20[/td][td]✔[/td][td]0[/td][td]0[/td][td]0[/td][td]0[/td][td]0[/td][td]0[/td][td]0[/td][td]440[/td][td][/td][td][/td][td][/td][td]250000[/td][td]0[/td][td][playerid=427619232][/td][td][playerid=427619232][/td][td]1.2[/td][td]1.2[/td][td]1.2[/td][td]1.2[/td][td]1.2[/td][td]1.2[/td][/tr]',\n",
       " '[/table]']"
      ]
     },
     "execution_count": 11,
     "metadata": {},
     "output_type": "execute_result"
    }
   ],
   "source": [
    "import csv\n",
    "lineList = [] # emptyList\n",
    "\n",
    "with open(folder + '/player.html', 'r', encoding='utf-8') as f:\n",
    "    reader = csv.reader(f, delimiter='\\n')\n",
    "    for row in reader:\n",
    "        #print(row[0])\n",
    "        lineList.append(row[0])\n",
    "lineList"
   ]
  },
  {
   "cell_type": "code",
   "execution_count": 12,
   "metadata": {
    "collapsed": true
   },
   "outputs": [],
   "source": [
    "#lineList = tmpClip.split(\"\\n\");\n",
    "\n",
    "lineList = removeHattrickTag(lineList)\n",
    "lineList = combineTwoLine(lineList)\n",
    "lineList = modifySharpToNumber(lineList)\n",
    "lineList = modifySpToSpecial(lineList)\n",
    "lineList = removeFirstColumn(lineList)\n",
    "lineList = dividePlayerAndPlayerID(lineList)\n",
    "lineList = modifySince(lineList, folder, nowDate)\n",
    "lineList = modifyMB(lineList)\n",
    "lineList = modifyLast(lineList)\n",
    "lineList = assignEmptyForTC(lineList)\n",
    "lineList = assignEmptyForPH(lineList)\n",
    "lineList = modifyKPPos(lineList)\n",
    "lineList = modifyWBPos(lineList)\n",
    "lineList = modifyCDPos(lineList)\n",
    "lineList = modifyWPos(lineList)\n",
    "lineList = modifyIMPos(lineList)\n",
    "lineList = modifyFWPos(lineList)\n",
    "lineList = removeLastString(lineList)"
   ]
  },
  {
   "cell_type": "code",
   "execution_count": 13,
   "metadata": {},
   "outputs": [
    {
     "name": "stdout",
     "output_type": "stream",
     "text": [
      "Player Total Count = 31\n",
      "36\tNumber\n",
      "36\t2\n",
      "36\t3\n",
      "36\t4\n",
      "36\t6\n",
      "36\t8\n",
      "36\t9\n",
      "36\t10\n",
      "36\t11\n",
      "36\t12\n",
      "36\t13\n",
      "36\t14\n",
      "36\t15\n",
      "36\t16\n",
      "36\t18\n",
      "36\t23\n",
      "36\t25\n",
      "36\t31\n",
      "36\t34\n",
      "36\t38\n",
      "36\t40\n",
      "36\t41\n",
      "36\t48\n",
      "36\t52\n",
      "36\t55\n",
      "36\t61\n",
      "36\t65\n",
      "36\t70\n",
      "36\t72\n",
      "36\t76\n",
      "36\t98\n",
      "36\t99\n"
     ]
    }
   ],
   "source": [
    "print('Player Total Count =', len(lineList)-1)\n",
    "for line in lineList:\n",
    "    col = line.split(\",\")\n",
    "    print(len(col), col[0], sep=\"\\t\" ) # len = 36\n",
    "#     print(col)"
   ]
  },
  {
   "cell_type": "code",
   "execution_count": 14,
   "metadata": {},
   "outputs": [
    {
     "name": "stdout",
     "output_type": "stream",
     "text": [
      "2018/06/17/player.html\t : will be removed\n",
      "2018/06/17/player.html\t : is not existed\n",
      "2018/06/17\t\t : is existed\n",
      "2018/06/17/player.txt\t : is not existed\n"
     ]
    }
   ],
   "source": [
    "HattrickFile.check_and_delete_file(folder + '/player.html')\n",
    "HattrickFile.check_and_create_folder(folder)\n",
    "HattrickFile.check_and_delete_file(folder + '/player.txt')"
   ]
  },
  {
   "cell_type": "code",
   "execution_count": 15,
   "metadata": {
    "collapsed": true
   },
   "outputs": [],
   "source": [
    "with open(folder+'/player.txt', 'w') as f:\n",
    "    for line in lineList:\n",
    "        f.write(line + \"\\n\")"
   ]
  },
  {
   "cell_type": "code",
   "execution_count": null,
   "metadata": {
    "collapsed": true
   },
   "outputs": [],
   "source": [
    "# player_skill_table from file to table"
   ]
  },
  {
   "cell_type": "code",
   "execution_count": null,
   "metadata": {
    "collapsed": true
   },
   "outputs": [],
   "source": [
    "# pyautogui.displayMousePosition()"
   ]
  },
  {
   "cell_type": "code",
   "execution_count": null,
   "metadata": {
    "collapsed": true
   },
   "outputs": [],
   "source": [
    "# import pymsgbox"
   ]
  },
  {
   "cell_type": "code",
   "execution_count": null,
   "metadata": {
    "collapsed": true
   },
   "outputs": [],
   "source": [
    "# pymsgbox.alert(text='', title='', button='OK')"
   ]
  },
  {
   "cell_type": "code",
   "execution_count": null,
   "metadata": {
    "collapsed": true
   },
   "outputs": [],
   "source": [
    "# getText = pymsgbox.confirm(text='Choose OK or Cancel', title='', buttons=['OK', 'Cancel'])"
   ]
  },
  {
   "cell_type": "code",
   "execution_count": null,
   "metadata": {
    "collapsed": true
   },
   "outputs": [],
   "source": [
    "# print(getText)"
   ]
  },
  {
   "cell_type": "code",
   "execution_count": null,
   "metadata": {
    "collapsed": true
   },
   "outputs": [],
   "source": [
    "# insert data to database"
   ]
  },
  {
   "cell_type": "code",
   "execution_count": 16,
   "metadata": {
    "collapsed": true
   },
   "outputs": [],
   "source": [
    "import psycopg2"
   ]
  },
  {
   "cell_type": "code",
   "execution_count": null,
   "metadata": {
    "collapsed": true
   },
   "outputs": [],
   "source": [
    "# def dropPlayerTable():\n",
    "#     conn = None\n",
    "#     try:\n",
    "#         conn = psycopg2.connect(\"dbname='mydatabase' user='myuser' host='localhost' port='65432' password='123qwe'\")\n",
    "#         cur = conn.cursor()\n",
    "#         sql = \"\"\"DROP TABLE IF EXISTS player ; \"\"\"\n",
    "#         cur.execute(sql)\n",
    "#         conn.commit()\n",
    "#     except(Exception, psycopg2.DatabaseError) as error:\n",
    "#         print(error)\n",
    "#     finally:\n",
    "#         if conn is not None:\n",
    "#             conn.close()"
   ]
  },
  {
   "cell_type": "code",
   "execution_count": null,
   "metadata": {
    "collapsed": true
   },
   "outputs": [],
   "source": [
    "#dropPlayerTable()"
   ]
  },
  {
   "cell_type": "code",
   "execution_count": null,
   "metadata": {
    "collapsed": true
   },
   "outputs": [],
   "source": [
    "# def createPlayerTable():\n",
    "#     conn = None\n",
    "#     try:\n",
    "#         conn = psycopg2.connect(\"dbname='mydatabase' user='myuser' host='localhost' port='65432' password='123qwe'\")\n",
    "#         cur = conn.cursor()\n",
    "#         sql = \"\"\"\n",
    "# CREATE TABLE player (\n",
    "#     Date DATE,           --01\n",
    "#     Num int,             --02\n",
    "#     Nat VARCHAR(30),     --03\n",
    "#     Player VARCHAR(30),  --04\n",
    "#     PlayerID BIGINT,     --05\n",
    "#     Spacial VARCHAR(30), --06\n",
    "#     st VARCHAR(10),      --07  Status Yellow, Red\n",
    "#     Age VARCHAR(10),     --08\n",
    "#     Since VARCHAR(30),   --09\n",
    "#     TSI BIGINT,          --10\n",
    "#     LS INT,              --11\n",
    "#     XP INT,              --12\n",
    "#     Fo INT,              --13\n",
    "#     Stm INT,             --14\n",
    "#     Lo INT,              --15\n",
    "#     MB boolean,          --16\n",
    "#     KP INT,              --17\n",
    "#     DF INT,              --18\n",
    "#     PM INT,              --19\n",
    "#     WI INT,              --20\n",
    "#     PS INT,              --21\n",
    "#     SC INT,              --22\n",
    "#     SP INT,              --23\n",
    "#     con BIGINT,          --24 Psico\n",
    "#     Last DATE,           --25\n",
    "#     RT NUMERIC(2, 1),    --26 Rating\n",
    "#     Po VARCHAR(5),       --27 Position\n",
    "#     Wage BIGINT,         --28\n",
    "#     G INT,               --29\n",
    "#     --TC VARCHAR(1),     --\n",
    "#     --PH VARCHAR(1),     --\n",
    "#     KP_P NUMERIC(4, 2),  --30 KP Position\n",
    "#     WB_P NUMERIC(4, 2),  --31 WB Position\n",
    "#     CD_P NUMERIC(4, 2),  --32 CD Position\n",
    "#     W_P NUMERIC(4, 2),   --33 W  Position\n",
    "#     IM_P NUMERIC(4, 2),  --34 IM Position\n",
    "#     FW_P NUMERIC(4, 2)   --35 FW Position\n",
    "# ) ; \"\"\"\n",
    "#         cur.execute(sql)\n",
    "#         conn.commit()\n",
    "#     except(Exception, psycopg2.DatabaseError) as error:\n",
    "#         print(error)\n",
    "#     finally:\n",
    "#         if conn is not None:\n",
    "#             conn.close()"
   ]
  },
  {
   "cell_type": "code",
   "execution_count": null,
   "metadata": {
    "collapsed": true
   },
   "outputs": [],
   "source": [
    "# createPlayerTable()"
   ]
  },
  {
   "cell_type": "code",
   "execution_count": 17,
   "metadata": {
    "collapsed": true
   },
   "outputs": [],
   "source": [
    "def selectCountPlayer():\n",
    "    conn = None\n",
    "    try:\n",
    "        conn = psycopg2.connect(\"dbname='mydatabase' user='myuser' host='localhost' port='65432' password='123qwe'\")\n",
    "        cur = conn.cursor()\n",
    "        sql = \"SELECT COUNT(*) FROM player\" \n",
    "        \n",
    "        cur.execute(sql)\n",
    "        row = cur.fetchone()\n",
    "    except (Exception, psycopg2.DatabaseError) as error:\n",
    "        print(error)\n",
    "        print(sql)\n",
    "    finally:\n",
    "        if conn is not None:\n",
    "            conn.close()\n",
    "    return row[0]"
   ]
  },
  {
   "cell_type": "code",
   "execution_count": 18,
   "metadata": {},
   "outputs": [
    {
     "data": {
      "text/plain": [
       "2109"
      ]
     },
     "execution_count": 18,
     "metadata": {},
     "output_type": "execute_result"
    }
   ],
   "source": [
    "selectCountPlayer()"
   ]
  },
  {
   "cell_type": "code",
   "execution_count": null,
   "metadata": {
    "collapsed": true
   },
   "outputs": [],
   "source": [
    "# \"INSERT INTO player VALUES ('2018-02-28',2,'Hanguk','Jee-Hoon Kim',428709461,'','', 20.107, '2시즌 2주 3일' , 18560,  3, 2, 6, 7, 20, 't', 11, 5, 1, 1, 1, 2, 8, 1138, '2018-02-28', 6.0, 'KP', 1850000, 0, 9.85, 4.60, 4.75, 3.20, 3.00, 2.93) ;\""
   ]
  },
  {
   "cell_type": "code",
   "execution_count": 19,
   "metadata": {
    "collapsed": true
   },
   "outputs": [],
   "source": [
    "def insertPlayerTable(time, row):\n",
    "    conn = None\n",
    "    try:\n",
    "        conn = psycopg2.connect(\"dbname='mydatabase' user='myuser' host='localhost' port='65432' password='123qwe'\")\n",
    "        cur = conn.cursor()\n",
    "        sql =  \"\"\"\n",
    "INSERT INTO player ( \n",
    "    SELECT \n",
    "        to_date(%s, 'YYYY-MM-DD'),                                    -- 1\n",
    "        %s, %s, %s, %s, %s,                                           -- 2, 3, 4, 5, 6\n",
    "        %s, %s, %s, %s, %s,                                           -- 7, 8, 9,10,11\n",
    "        %s, %s, %s, %s, %s,                                           --12,13,14,15,16\n",
    "        %s, %s, %s, %s, %s,                                           --17,18,19,20,21\n",
    "        %s, %s, %s,                                                   --22,23,24\n",
    "        to_date(coalesce(nullif(%s,''), '0001-01-01'), 'YYYY-MM-DD'), --25\n",
    "        cast(coalesce(nullif(%s,''),'0.0') as float),                 --26\n",
    "        %s, %s, %s,                                                   --27,28,29\n",
    "        %s, %s, %s, %s, %s,                                           --30,31,32,33,34\n",
    "        %s                                                            --35\n",
    ") ; \"\"\"\n",
    "        #print(sql + \"\\t\")\n",
    "        cur.execute(sql, ( time, \n",
    "                           row[0], row[1], row[2], row[3], row[4],\n",
    "                           row[5], row[6], row[7], row[8], row[9],\n",
    "                           row[10],row[11],row[12],row[13],row[14], \n",
    "                           row[15],row[16],row[17],row[18],row[19],\n",
    "                           row[20],row[21],row[22],\n",
    "                           row[23],\n",
    "                           row[24],\n",
    "                           row[25],row[26],row[27],\n",
    "                           row[30],row[31],row[32],row[33],row[34],\n",
    "                           row[35]\n",
    "                         )\n",
    "                   )\n",
    "        conn.commit()\n",
    "    except (Exception, psycopg2.DatabaseError) as error:\n",
    "        print(\"Error Happend\")\n",
    "        print(error)\n",
    "        print(sql)\n",
    "        print(row)\n",
    "    finally:\n",
    "        if conn is not None:\n",
    "            conn.close()"
   ]
  },
  {
   "cell_type": "code",
   "execution_count": 20,
   "metadata": {
    "collapsed": true
   },
   "outputs": [],
   "source": [
    "import csv\n",
    "with open(folder + '/player.txt', 'r', encoding='utf-8') as f:\n",
    "    reader = csv.reader(f, delimiter=',')\n",
    "    for row in reader:\n",
    "        if row[0] != \"Number\" :\n",
    "            insertPlayerTable( folder.replace('/','-'), row)"
   ]
  },
  {
   "cell_type": "code",
   "execution_count": 21,
   "metadata": {},
   "outputs": [
    {
     "data": {
      "text/plain": [
       "2140"
      ]
     },
     "execution_count": 21,
     "metadata": {},
     "output_type": "execute_result"
    }
   ],
   "source": [
    "selectCountPlayer()"
   ]
  },
  {
   "cell_type": "code",
   "execution_count": 22,
   "metadata": {
    "collapsed": true
   },
   "outputs": [],
   "source": [
    "def selectPlayer(SelectString, WhereString):\n",
    "    outputList = list();\n",
    "    sql = \"\"\n",
    "    conn = None\n",
    "    try:\n",
    "        conn = psycopg2.connect(\"dbname='mydatabase' user='myuser' host='localhost' port='65432' password='123qwe'\")\n",
    "        cur = conn.cursor()\n",
    "        sql = SelectString + \"\\nFROM player\" + WhereString + \"\\n\"\n",
    "        print(sql)\n",
    "        \n",
    "        cur.execute(sql)\n",
    "        row = cur.fetchone()\n",
    "        while row is not None:\n",
    "            #print(row)\n",
    "            outputList.append(row)\n",
    "            row = cur.fetchone()\n",
    "    except (Exception, psycopg2.DatabaseError) as error:\n",
    "            print(error)\n",
    "            print(sql)\n",
    "    finally:\n",
    "        if conn is not None:\n",
    "            conn.close()\n",
    "    return outputList"
   ]
  },
  {
   "cell_type": "code",
   "execution_count": 23,
   "metadata": {},
   "outputs": [
    {
     "name": "stdout",
     "output_type": "stream",
     "text": [
      "\n",
      "SELECT \n",
      "    date :: VARCHAR(10), num, player, spacial, st,                       --01 05 \n",
      "    age, since, tsi, ls, xp,                                             --06 10 \n",
      "    fo, stm, lo, mb, kp,                                                 --11 15 \n",
      "    df, pm, wi, ps, sc,                                                  --16 20 \n",
      "    sp, con, last :: VARCHAR(10), rt :: VARCHAR(3), po,                  --21 25 \n",
      "    wage, g, kp_p :: VARCHAR(5), wb_p :: VARCHAR(5), cd_p :: VARCHAR(5), --26 30 \n",
      "    w_p :: VARCHAR(5), im_p :: VARCHAR(5), fw_p :: VARCHAR(5)            --31 35 \n",
      "FROM player\n",
      "WHERE \n",
      "    date = '2018-06-17' \n",
      "    order by num,date \n",
      "\n",
      "2018-06-17,2,Jee-Hoon Kim,,,21.104,3시즌 2주 1일,37650,3,2,7,8,20,True,13,5,1,1,1,2,8,1344,2018-06-13,7.0,KP,5450000,0,12.04,4.99,5.15,3.47,3.26,3.17\n",
      "2018-06-17,3,Eun-Seok Hong,,,32.17,3시즌 10주 0일,190,5,5,6,6,20,True,1,6,5,3,2,1,7,590,2018-06-17,4.0,CD,290000,9,4.10,6.41,6.78,5.82,5.98,4.24\n",
      "2018-06-17,4,Ji-Woon Lee,,Y×2,22.33,3시즌 10주 0일,1250,5,3,7,8,20,True,1,7,4,3,5,2,7,724,2018-06-17,4.5,CD,390000,25,4.66,7.35,7.65,6.28,6.23,5.12\n",
      "2018-06-17,6,Jae-Shin Cha,,,30.14,3시즌 10주 0일,790,5,5,7,6,20,True,1,7,3,6,3,2,10,714,2018-06-17,5.0,WB,360000,13,4.76,7.67,7.30,6.26,5.40,4.97\n",
      "2018-06-17,8,Hong-Chan Son,,,24.74,3시즌 10주 0일,1130,5,3,6,7,20,True,1,5,6,5,5,1,8,635,2018-06-13,3.0,WB,310000,1,3.78,6.48,6.61,6.74,6.81,5.09\n",
      "2018-06-17,9,Hoi-Taek Park,Unpredictable,Y×1,22.81,3시즌 10주 0일,1300,2,3,6,8,20,True,1,5,6,3,6,3,10,618,2018-06-13,4.5,IM,330000,10,3.81,6.19,6.67,6.50,7.02,5.79\n",
      "2018-06-17,10,Kwang-Eul Jeon,,Y×2,26.80,3시즌 10주 0일,1690,4,4,8,7,20,True,1,6,7,3,3,2,9,764,2018-06-17,5.0,IM,430000,13,4.64,7.78,8.49,7.74,8.41,5.96\n",
      "2018-06-17,11,Kwang-Hwan Yun,,Y×1,29.47,3시즌 10주 0일,680,6,5,7,6,20,True,2,5,6,2,5,2,9,634,2018-06-13,4.0,W,320000,12,4.89,6.54,7.21,6.76,7.45,5.65\n",
      "2018-06-17,12,Chan-Myung Lee,,Y×1,28.56,3시즌 10주 0일,860,3,4,6,7,20,True,1,3,7,3,4,3,8,731,2018-06-13,4.5,IM,410000,8,3.36,5.39,5.90,6.46,7.26,5.77\n",
      "2018-06-17,13,Sung-Kook Han,Technical,,24.44,3시즌 10주 0일,1510,2,4,6,8,20,True,1,5,6,6,5,2,9,618,2018-06-17,4.5,W,330000,18,3.96,6.86,6.82,7.13,7.04,5.76\n",
      "2018-06-17,14,Se-Jong Cho,,,31.44,3시즌 10주 0일,430,4,6,7,6,20,True,1,5,5,6,3,3,8,596,2018-06-13,4.0,WB,280000,18,4.24,6.98,6.81,6.83,6.56,5.88\n",
      "2018-06-17,15,Man-Ok Lee,Unpredictable,,25.97,3시즌 10주 0일,2080,5,4,6,7,20,True,1,5,5,7,6,2,9,765,2018-06-13,4.0,W,350000,13,3.93,6.78,6.44,6.89,6.43,5.71\n",
      "2018-06-17,16,Dong-Shik Kim,,Y×1 Bru,21.91,3시즌 10주 0일,1570,6,3,6,8,20,True,1,3,3,6,4,7,10,760,2018-06-13,5.5,FW,410000,24,3.13,4.81,4.32,4.93,4.53,6.16\n",
      "2018-06-17,18,Kwang-Rae Kim,Head,,29.51,3시즌 10주 0일,650,3,5,4,6,20,True,1,2,5,3,6,6,7,613,2018-06-13,4.0,FW,300000,32,2.59,3.69,3.87,4.56,5.02,5.39\n",
      "2018-06-17,23,Mathias Piron,Technical,,35.18,3시즌 5주 0일,70,6,6,7,5,20,False,2,5,5,5,5,1,8,490,2018-06-17,3.5,W,312000,13,4.20,6.03,6.03,6.03,5.90,4.61\n",
      "2018-06-17,25,Pylyp Nagorniak,,Y×1,29.91,3시즌 5주 0일,1620,5,3,7,6,20,False,1,6,6,3,6,3,9,658,2018-06-13,4.5,IM,432000,8,3.79,6.56,7.10,6.51,6.99,5.60\n",
      "2018-06-17,31,Se-Hee Park,,,21.26,2시즌 9주 0일,1130,4,2,5,7,20,True,1,2,5,5,3,7,8,728,2018-06-17,4.5,FW,390000,23,2.58,4.17,4.07,4.98,5.19,5.98\n",
      "2018-06-17,34,Axel Hermansson,,Y×1,31.1,2시즌 6주 6일,1640,5,5,8,6,18,False,2,6,7,2,6,2,9,703,2018-06-17,5.0,IM,456000,16,4.70,6.88,7.74,7.08,7.95,5.64\n",
      "2018-06-17,38,Artem Skurlatov,,,29.7,2시즌 3주 3일,2100,5,5,6,7,17,False,1,8,6,3,4,3,4,802,2018-06-17,4.5,CD,684000,8,3.99,6.95,7.50,6.09,6.41,4.86\n",
      "2018-06-17,40,Matías Pichis,,,24.69,2시즌 2주 6일,8320,6,2,5,8,17,False,1,10,8,2,4,4,6,999,2018-06-13,4.5,CD,1764000,4,3.93,7.50,8.51,6.47,7.25,5.03\n",
      "2018-06-17,41,Reinold Kisch,,,25.73,2시즌 2주 6일,2330,5,2,5,7,17,False,1,8,6,2,4,5,3,803,2018-06-13,4.0,CD,588000,11,3.43,6.13,6.82,5.29,5.82,4.83\n",
      "2018-06-17,48,Dong-Suk Lee,Technical,,20.40,1시즌 12주 6일,1280,6,1,8,7,20,True,1,5,4,5,6,5,4,613,2018-06-17,4.5,FW,290000,7,3.49,5.98,5.84,5.80,5.58,6.07\n",
      "2018-06-17,52,Seong-Gong Choi,Unpredictable,Y×2,19.8,1시즌 9주 1일,5670,4,2,7,7,20,True,1,7,7,7,4,5,4,793,2018-06-17,5.0,WB,550000,13,4.34,8.32,8.32,8.07,7.98,7.09\n",
      "2018-06-17,55,Geun-Ho Han,,Y×1,20.10,1시즌 6주 1일,2320,3,1,8,7,20,True,1,5,6,4,3,7,3,719,2018-06-13,5.0,FW,410000,5,3.49,6.24,6.57,6.32,6.81,6.86\n",
      "2018-06-17,61,Cedrick Williamson,Powerful 있음,,19.73,1시즌 6일,5910,3,3,6,7,12,False,1,8,5,7,7,2,4,857,2018-06-17,4.5,WB,708000,2,3.64,7.16,6.94,6.33,5.71,4.77\n",
      "2018-06-17,65,Sang-Hyun Yun,,Y×1 Bru,18.36,12주 1일,2590,3,1,6,6,20,True,1,6,5,4,7,4,2,782,2018-06-10,4.0,W,390000,2,3.06,5.33,5.52,5.16,5.25,4.87\n",
      "2018-06-17,70,Min-Gyu Jung,,,24.2,7주 5일,5710,1,3,7,8,8,False,1,9,6,4,4,2,5,938,2018-06-13,4.5,CD,1030000,2,4.12,7.96,8.46,6.62,6.68,4.56\n",
      "2018-06-17,72,Gyeong-Ryeol Kim,,,18.50,6주 1일,1530,3,1,6,5,20,True,1,7,6,4,4,3,5,744,2018-06-06,4.0,WB,390000,0,3.24,5.89,6.22,5.42,5.60,4.36\n",
      "2018-06-17,76,Nam-Han Kim,,,17.56,1주 1일,770,5,1,6,5,20,True,5,4,1,1,1,1,5,507,2018-06-17,2.5,KP,530000,0,4.80,3.27,3.37,2.35,2.20,1.93\n",
      "2018-06-17,98,Chang-Oh Lee,,TL,17.47,0일,720,5,1,6,5,20,True,1,3,3,5,6,4,4,677,0001-01-01,0.0,,290000,0,1.21,2.59,2.30,2.83,2.55,3.17\n",
      "2018-06-17,99,Je-Min Jung,,,43.107,3시즌 10주 0일,0,3,8,4,1,20,True,0,0,0,0,0,0,0,440,0001-01-01,0.0,,250000,0,1.20,1.20,1.20,1.20,1.20,1.20\n"
     ]
    }
   ],
   "source": [
    "SelectString = \"\"\n",
    "SelectString += \"\\n\" + \"SELECT \"\n",
    "SelectString += \"\\n\" + \"    date :: VARCHAR(10), num, player, spacial, st,                       --01 05 \"\n",
    "SelectString += \"\\n\" + \"    age, since, tsi, ls, xp,                                             --06 10 \"\n",
    "SelectString += \"\\n\" + \"    fo, stm, lo, mb, kp,                                                 --11 15 \"\n",
    "SelectString += \"\\n\" + \"    df, pm, wi, ps, sc,                                                  --16 20 \"\n",
    "SelectString += \"\\n\" + \"    sp, con, last :: VARCHAR(10), rt :: VARCHAR(3), po,                  --21 25 \"\n",
    "SelectString += \"\\n\" + \"    wage, g, kp_p :: VARCHAR(5), wb_p :: VARCHAR(5), cd_p :: VARCHAR(5), --26 30 \"\n",
    "SelectString += \"\\n\" + \"    w_p :: VARCHAR(5), im_p :: VARCHAR(5), fw_p :: VARCHAR(5)            --31 35 \"\n",
    "\n",
    "WhereString = \"\"\n",
    "WhereString += \"\\n\" + \"WHERE \"\n",
    "# WhereString += \"\\n\" + \"    date = last and \"\n",
    "WhereString += \"\\n\" + \"    date = '\" + folder.replace('/','-') + \"' \"\n",
    "WhereString += \"\\n\" + \"    order by num,date \"\n",
    "\n",
    "tupleList = selectPlayer(SelectString, WhereString)\n",
    "for tuple in tupleList:\n",
    "    print(tuple[0], tuple[1], tuple[2], tuple[3], tuple[4],\n",
    "          tuple[5], tuple[6], tuple[7], tuple[8], tuple[9],\n",
    "          tuple[10], tuple[11], tuple[12], tuple[13], tuple[14],\n",
    "          tuple[15], tuple[16], tuple[17], tuple[18], tuple[19],\n",
    "          tuple[20], tuple[21], tuple[22], tuple[23], tuple[24],\n",
    "          tuple[25], tuple[26], tuple[27], tuple[28], tuple[29],\n",
    "          tuple[30], tuple[31], tuple[32],\n",
    "          sep=',')"
   ]
  },
  {
   "cell_type": "code",
   "execution_count": null,
   "metadata": {
    "collapsed": true
   },
   "outputs": [],
   "source": []
  }
 ],
 "metadata": {
  "kernelspec": {
   "display_name": "Python 3",
   "language": "python",
   "name": "python3"
  },
  "language_info": {
   "codemirror_mode": {
    "name": "ipython",
    "version": 3
   },
   "file_extension": ".py",
   "mimetype": "text/x-python",
   "name": "python",
   "nbconvert_exporter": "python",
   "pygments_lexer": "ipython3",
   "version": "3.6.3"
  }
 },
 "nbformat": 4,
 "nbformat_minor": 2
}
