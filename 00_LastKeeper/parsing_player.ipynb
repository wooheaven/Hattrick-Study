{
 "cells": [
  {
   "cell_type": "code",
   "execution_count": null,
   "metadata": {
    "collapsed": true
   },
   "outputs": [],
   "source": [
    "import datetime\n",
    "now = datetime.datetime.now()\n",
    "print(now)\n",
    "nowDate = now.strftime('%Y/%m/%d')\n",
    "print(\"today = \", nowDate)"
   ]
  },
  {
   "cell_type": "code",
   "execution_count": null,
   "metadata": {
    "collapsed": true
   },
   "outputs": [],
   "source": [
    "from datetime import date,timedelta\n",
    "\n",
    "def findLastSunOrWed():\n",
    "    targetDay = date.today()\n",
    "    \n",
    "    # weekday 2 = Wed \n",
    "    # weekday 6 = Sun\n",
    "    offsetWed = (targetDay.weekday() - 2) % 7\n",
    "    offsetSun = (targetDay.weekday() - 6) % 7\n",
    "    offset = min(offsetWed, offsetSun)\n",
    "    \n",
    "    targetDay = targetDay - timedelta(days=offset)\n",
    "    #print(\"Target Day : \", targetDay, targetDay.weekday())\n",
    "    \n",
    "    return targetDay.strftime('%Y/%m/%d')"
   ]
  },
  {
   "cell_type": "code",
   "execution_count": null,
   "metadata": {
    "collapsed": true
   },
   "outputs": [],
   "source": [
    "folder = findLastSunOrWed()\n",
    "print(\"folder =\", folder)"
   ]
  },
  {
   "cell_type": "code",
   "execution_count": null,
   "metadata": {
    "collapsed": true
   },
   "outputs": [],
   "source": [
    "# debugging\n",
    "# folder = \"2018/02/04\"\n",
    "# print(\"folder =\", folder)"
   ]
  },
  {
   "cell_type": "code",
   "execution_count": null,
   "metadata": {
    "collapsed": true
   },
   "outputs": [],
   "source": [
    "import sys\n",
    "\n",
    "sys.path.insert(0, '../98_Crawler/01_DualMonitor/')\n",
    "from DualMonitor import getIsDualMonitor\n",
    "\n",
    "sys.path.insert(0, '../98_Crawler/02_WebBrowser/')\n",
    "from FirefoxTab import clickTabOfFireFox\n",
    "\n",
    "sys.path.insert(0, '../98_Crawler/03_OnScreen/')\n",
    "from Empty import clickEmpty\n",
    "from MoveScroll import moveScroll\n",
    "from MoveFindMoveClick import moveByImage\n",
    "\n",
    "sys.path.insert(0, '../98_Crawler/04_Login/')\n",
    "from HattrickLogInOut import clickFacebookLogin, clickFacebookLogout"
   ]
  },
  {
   "cell_type": "code",
   "execution_count": null,
   "metadata": {
    "collapsed": true
   },
   "outputs": [],
   "source": [
    "# isDualMonitor\n",
    "isDualMonitor = getIsDualMonitor()\n",
    "\n",
    "# Hattrick LastKeeper Tab\n",
    "clickTabOfFireFox(5, isDualMonitor)\n",
    "\n",
    "# Hattrick Login by Facebook\n",
    "clickEmpty(410, isDualMonitor)\n",
    "moveScroll(20)\n",
    "clickFacebookLogin(484, 405, isDualMonitor)\n",
    "\n",
    "# Hattrick MyClub\n",
    "moveScroll(20)\n",
    "moveByImage(530, 340, 77, 42, isDualMonitor, 'screen-MyClub.png')\n",
    "\n",
    "# Hattrick Player\n",
    "clickEmpty(700, isDualMonitor)\n",
    "moveScroll(20)\n",
    "moveByImage(387, 700, 72, 59, isDualMonitor, 'screen-Player.png')\n",
    "\n",
    "# Hattrick SkillTable\n",
    "clickEmpty(593, isDualMonitor)\n",
    "moveScroll(20)\n",
    "moveByImage(546, 593, 137, 52, isDualMonitor, 'screen-SkillTable.png')\n",
    "\n",
    "# Hattrick Since\n",
    "moveScroll(-7)\n",
    "moveByImage(584, 964, 168, 25, isDualMonitor, 'screen-Since.png')\n",
    "\n",
    "# Hattrick Copy\n",
    "moveScroll(10)\n",
    "moveByImage(1075, 635, 32, 25, isDualMonitor, 'screen-Copy.png')\n",
    "\n",
    "# Hattrick Logout\n",
    "moveScroll(20)\n",
    "clickFacebookLogout(1258, 337, isDualMonitor)\n",
    "\n",
    "# Jupyter Notebook Tab\n",
    "clickTabOfFireFox(7, isDualMonitor)"
   ]
  },
  {
   "cell_type": "code",
   "execution_count": null,
   "metadata": {
    "collapsed": true
   },
   "outputs": [],
   "source": [
    "import pyperclip # The name you have the file\n",
    "tmpClip = pyperclip.paste()\n",
    "print(tmpClip)"
   ]
  },
  {
   "cell_type": "code",
   "execution_count": null,
   "metadata": {
    "collapsed": true
   },
   "outputs": [],
   "source": [
    "import os.path\n",
    "filePath = folder + '/player.html'\n",
    "\n",
    "if not os.path.exists(folder):\n",
    "    print(folder + \"\\t\\t : will be created\")\n",
    "    os.makedirs(folder)\n",
    "else :\n",
    "    print(folder + \"\\t\\t : is existed\")\n",
    "\n",
    "if ( os.path.exists(filePath) ):\n",
    "    print(filePath + \"\\t : will be removed\")\n",
    "    os.remove(filePath)\n",
    "    \n",
    "if not os.path.exists(filePath):\n",
    "    print(filePath + \"\\t : is not exists\")"
   ]
  },
  {
   "cell_type": "code",
   "execution_count": null,
   "metadata": {
    "collapsed": true
   },
   "outputs": [],
   "source": [
    "with open(folder + '/player.html', 'w') as f:\n",
    "    f.write(tmpClip)"
   ]
  },
  {
   "cell_type": "code",
   "execution_count": null,
   "metadata": {
    "collapsed": true
   },
   "outputs": [],
   "source": [
    "from parseSkillTable import *"
   ]
  },
  {
   "cell_type": "code",
   "execution_count": null,
   "metadata": {
    "collapsed": true
   },
   "outputs": [],
   "source": [
    "import csv\n",
    "lineList = [] # emptyList\n",
    "\n",
    "with open(folder + '/player.html', 'r', encoding='utf-8') as f:\n",
    "    reader = csv.reader(f, delimiter='\\n')\n",
    "    for row in reader:\n",
    "        #print(row[0])\n",
    "        lineList.append(row[0])\n",
    "lineList"
   ]
  },
  {
   "cell_type": "code",
   "execution_count": null,
   "metadata": {
    "collapsed": true
   },
   "outputs": [],
   "source": [
    "#lineList = tmpClip.split(\"\\n\");\n",
    "\n",
    "lineList = removeHattrickTag(lineList)\n",
    "lineList = combineTwoLine(lineList)\n",
    "lineList = modifySharpToNumber(lineList)\n",
    "lineList = modifySpToSpecial(lineList)\n",
    "lineList = removeFirstColumn(lineList)\n",
    "lineList = dividePlayerAndPlayerID(lineList)\n",
    "lineList = modifySince(lineList, folder, nowDate)\n",
    "lineList = modifyMB(lineList)\n",
    "lineList = modifyLast(lineList)\n",
    "lineList = assignEmptyForTC(lineList)\n",
    "lineList = assignEmptyForPH(lineList)\n",
    "lineList = modifyKPPos(lineList)\n",
    "lineList = modifyWBPos(lineList)\n",
    "lineList = modifyCDPos(lineList)\n",
    "lineList = modifyWPos(lineList)\n",
    "lineList = modifyIMPos(lineList)\n",
    "lineList = modifyFWPos(lineList)\n",
    "lineList = removeLastString(lineList)"
   ]
  },
  {
   "cell_type": "code",
   "execution_count": null,
   "metadata": {
    "collapsed": true
   },
   "outputs": [],
   "source": [
    "print('Player Total Count =', len(lineList)-1)\n",
    "for line in lineList:\n",
    "    col = line.split(\",\")\n",
    "    print(len(col), col[0], sep=\"\\t\" ) # len = 36\n",
    "#     print(col)"
   ]
  },
  {
   "cell_type": "code",
   "execution_count": null,
   "metadata": {
    "collapsed": true
   },
   "outputs": [],
   "source": [
    "import os.path\n",
    "\n",
    "filePath = folder + '/player.html'\n",
    "if ( os.path.exists(filePath) ):\n",
    "    print(filePath + \"\\t : will be removed\")\n",
    "    os.remove(filePath)\n",
    "\n",
    "filePath = folder + '/player.txt'\n",
    "if not os.path.exists(folder):\n",
    "    print(folder + \"\\t : will be created\")\n",
    "    os.makedirs(folder)\n",
    "\n",
    "if ( os.path.exists(filePath) ):\n",
    "    print(filePath + \"\\t : will be removed\")\n",
    "    os.remove(filePath)\n",
    "    \n",
    "if not os.path.exists(filePath):\n",
    "    print(filePath + \"\\t : is not exists\")"
   ]
  },
  {
   "cell_type": "code",
   "execution_count": null,
   "metadata": {
    "collapsed": true
   },
   "outputs": [],
   "source": [
    "with open(folder+'/player.txt', 'w') as f:\n",
    "    for line in lineList:\n",
    "        f.write(line + \"\\n\")"
   ]
  },
  {
   "cell_type": "code",
   "execution_count": null,
   "metadata": {
    "collapsed": true
   },
   "outputs": [],
   "source": [
    "# player_skill_table from file to table"
   ]
  },
  {
   "cell_type": "code",
   "execution_count": null,
   "metadata": {
    "collapsed": true
   },
   "outputs": [],
   "source": [
    "# pyautogui.displayMousePosition()"
   ]
  },
  {
   "cell_type": "code",
   "execution_count": null,
   "metadata": {
    "collapsed": true
   },
   "outputs": [],
   "source": [
    "# import pymsgbox"
   ]
  },
  {
   "cell_type": "code",
   "execution_count": null,
   "metadata": {
    "collapsed": true
   },
   "outputs": [],
   "source": [
    "# pymsgbox.alert(text='', title='', button='OK')"
   ]
  },
  {
   "cell_type": "code",
   "execution_count": null,
   "metadata": {
    "collapsed": true
   },
   "outputs": [],
   "source": [
    "# getText = pymsgbox.confirm(text='Choose OK or Cancel', title='', buttons=['OK', 'Cancel'])"
   ]
  },
  {
   "cell_type": "code",
   "execution_count": null,
   "metadata": {
    "collapsed": true
   },
   "outputs": [],
   "source": [
    "# print(getText)"
   ]
  },
  {
   "cell_type": "code",
   "execution_count": null,
   "metadata": {
    "collapsed": true
   },
   "outputs": [],
   "source": [
    "# insert data to database"
   ]
  },
  {
   "cell_type": "code",
   "execution_count": null,
   "metadata": {
    "collapsed": true
   },
   "outputs": [],
   "source": [
    "import psycopg2"
   ]
  },
  {
   "cell_type": "code",
   "execution_count": null,
   "metadata": {
    "collapsed": true
   },
   "outputs": [],
   "source": [
    "# def dropPlayerTable():\n",
    "#     conn = None\n",
    "#     try:\n",
    "#         conn = psycopg2.connect(\"dbname='mydatabase' user='myuser' host='localhost' port='65432' password='123qwe'\")\n",
    "#         cur = conn.cursor()\n",
    "#         sql = \"\"\"DROP TABLE IF EXISTS player ; \"\"\"\n",
    "#         cur.execute(sql)\n",
    "#         conn.commit()\n",
    "#     except(Exception, psycopg2.DatabaseError) as error:\n",
    "#         print(error)\n",
    "#     finally:\n",
    "#         if conn is not None:\n",
    "#             conn.close()"
   ]
  },
  {
   "cell_type": "code",
   "execution_count": null,
   "metadata": {
    "collapsed": true
   },
   "outputs": [],
   "source": [
    "#dropPlayerTable()"
   ]
  },
  {
   "cell_type": "code",
   "execution_count": null,
   "metadata": {
    "collapsed": true
   },
   "outputs": [],
   "source": [
    "# def createPlayerTable():\n",
    "#     conn = None\n",
    "#     try:\n",
    "#         conn = psycopg2.connect(\"dbname='mydatabase' user='myuser' host='localhost' port='65432' password='123qwe'\")\n",
    "#         cur = conn.cursor()\n",
    "#         sql = \"\"\"\n",
    "# CREATE TABLE player (\n",
    "#     Date DATE,           --01\n",
    "#     Num int,             --02\n",
    "#     Nat VARCHAR(30),     --03\n",
    "#     Player VARCHAR(30),  --04\n",
    "#     PlayerID BIGINT,     --05\n",
    "#     Spacial VARCHAR(30), --06\n",
    "#     st VARCHAR(10),      --07  Status Yellow, Red\n",
    "#     Age VARCHAR(10),     --08\n",
    "#     Since VARCHAR(30),   --09\n",
    "#     TSI BIGINT,          --10\n",
    "#     LS INT,              --11\n",
    "#     XP INT,              --12\n",
    "#     Fo INT,              --13\n",
    "#     Stm INT,             --14\n",
    "#     Lo INT,              --15\n",
    "#     MB boolean,          --16\n",
    "#     KP INT,              --17\n",
    "#     DF INT,              --18\n",
    "#     PM INT,              --19\n",
    "#     WI INT,              --20\n",
    "#     PS INT,              --21\n",
    "#     SC INT,              --22\n",
    "#     SP INT,              --23\n",
    "#     con BIGINT,          --24 Psico\n",
    "#     Last DATE,           --25\n",
    "#     RT NUMERIC(2, 1),    --26 Rating\n",
    "#     Po VARCHAR(5),       --27 Position\n",
    "#     Wage BIGINT,         --28\n",
    "#     G INT,               --29\n",
    "#     --TC VARCHAR(1),     --\n",
    "#     --PH VARCHAR(1),     --\n",
    "#     KP_P NUMERIC(4, 2),  --30 KP Position\n",
    "#     WB_P NUMERIC(4, 2),  --31 WB Position\n",
    "#     CD_P NUMERIC(4, 2),  --32 CD Position\n",
    "#     W_P NUMERIC(4, 2),   --33 W  Position\n",
    "#     IM_P NUMERIC(4, 2),  --34 IM Position\n",
    "#     FW_P NUMERIC(4, 2)   --35 FW Position\n",
    "# ) ; \"\"\"\n",
    "#         cur.execute(sql)\n",
    "#         conn.commit()\n",
    "#     except(Exception, psycopg2.DatabaseError) as error:\n",
    "#         print(error)\n",
    "#     finally:\n",
    "#         if conn is not None:\n",
    "#             conn.close()"
   ]
  },
  {
   "cell_type": "code",
   "execution_count": null,
   "metadata": {
    "collapsed": true
   },
   "outputs": [],
   "source": [
    "# createPlayerTable()"
   ]
  },
  {
   "cell_type": "code",
   "execution_count": null,
   "metadata": {
    "collapsed": true
   },
   "outputs": [],
   "source": [
    "def selectCountPlayer():\n",
    "    conn = None\n",
    "    try:\n",
    "        conn = psycopg2.connect(\"dbname='mydatabase' user='myuser' host='localhost' port='65432' password='123qwe'\")\n",
    "        cur = conn.cursor()\n",
    "        sql = \"SELECT COUNT(*) FROM player\" \n",
    "        \n",
    "        cur.execute(sql)\n",
    "        row = cur.fetchone()\n",
    "    except (Exception, psycopg2.DatabaseError) as error:\n",
    "        print(error)\n",
    "        print(sql)\n",
    "    finally:\n",
    "        if conn is not None:\n",
    "            conn.close()\n",
    "    return row[0]"
   ]
  },
  {
   "cell_type": "code",
   "execution_count": null,
   "metadata": {
    "collapsed": true
   },
   "outputs": [],
   "source": [
    "selectCountPlayer()"
   ]
  },
  {
   "cell_type": "code",
   "execution_count": null,
   "metadata": {
    "collapsed": true
   },
   "outputs": [],
   "source": [
    "def insertPlayerTable(time, row):\n",
    "    conn = None\n",
    "    try:\n",
    "        conn = psycopg2.connect(\"dbname='mydatabase' user='myuser' host='localhost' port='65432' password='123qwe'\")\n",
    "        cur = conn.cursor()\n",
    "        sql =  \"\"\"\n",
    "INSERT INTO player ( \n",
    "    SELECT \n",
    "        to_date(%s, 'YYYY-MM-DD'),                                    -- 1\n",
    "        %s, %s, %s, %s, %s,                                           -- 2, 3, 4, 5, 6\n",
    "        %s, %s, %s, %s, %s,                                           -- 7, 8, 9,10,11\n",
    "        %s, %s, %s, %s, %s,                                           --12,13,14,15,16\n",
    "        %s, %s, %s, %s, %s,                                           --17,18,19,20,21\n",
    "        %s, %s, %s,                                                   --22,23,24\n",
    "        to_date(coalesce(nullif(%s,''), '0001-01-01'), 'YYYY-MM-DD'), --25\n",
    "        cast(coalesce(nullif(%s,''),'0.0') as float),                 --26\n",
    "        %s, %s, %s,                                                   --27,28,29\n",
    "        %s, %s, %s, %s, %s,                                           --30,31,32,33,34\n",
    "        %s                                                            --35\n",
    ") ; \"\"\"\n",
    "        #print(sql + \"\\t\")\n",
    "        cur.execute(sql, ( time, \n",
    "                           row[0], row[1], row[2], row[3], row[4],\n",
    "                           row[5], row[6], row[7], row[8], row[9],\n",
    "                           row[10],row[11],row[12],row[13],row[14], \n",
    "                           row[15],row[16],row[17],row[18],row[19],\n",
    "                           row[20],row[21],row[22],\n",
    "                           row[23],\n",
    "                           row[24],\n",
    "                           row[25],row[26],row[27],\n",
    "                           row[30],row[31],row[32],row[33],row[34],\n",
    "                           row[35]\n",
    "                         )\n",
    "                   )\n",
    "        conn.commit()\n",
    "    except (Exception, psycopg2.DatabaseError) as error:\n",
    "        print(\"Error Happend\")\n",
    "        print(error)\n",
    "        print(sql)\n",
    "        print(row)\n",
    "    finally:\n",
    "        if conn is not None:\n",
    "            conn.close()"
   ]
  },
  {
   "cell_type": "code",
   "execution_count": null,
   "metadata": {
    "collapsed": true
   },
   "outputs": [],
   "source": [
    "import csv\n",
    "with open(folder + '/player.txt', 'r', encoding='utf-8') as f:\n",
    "    reader = csv.reader(f, delimiter=',')\n",
    "    for row in reader:\n",
    "        if row[0] != \"Number\" :\n",
    "            insertPlayerTable( folder.replace('/','-'), row)"
   ]
  },
  {
   "cell_type": "code",
   "execution_count": null,
   "metadata": {
    "collapsed": true
   },
   "outputs": [],
   "source": [
    "selectCountPlayer()"
   ]
  },
  {
   "cell_type": "code",
   "execution_count": null,
   "metadata": {
    "collapsed": true
   },
   "outputs": [],
   "source": [
    "def selectPlayer(SelectString, WhereString):\n",
    "    outputList = list();\n",
    "    sql = \"\"\n",
    "    conn = None\n",
    "    try:\n",
    "        conn = psycopg2.connect(\"dbname='mydatabase' user='myuser' host='localhost' port='65432' password='123qwe'\")\n",
    "        cur = conn.cursor()\n",
    "        sql = SelectString + \"\\nFROM player\" + WhereString + \"\\n\"\n",
    "        print(sql)\n",
    "        \n",
    "        cur.execute(sql)\n",
    "        row = cur.fetchone()\n",
    "        while row is not None:\n",
    "            #print(row)\n",
    "            outputList.append(row)\n",
    "            row = cur.fetchone()\n",
    "    except (Exception, psycopg2.DatabaseError) as error:\n",
    "            print(error)\n",
    "            print(sql)\n",
    "    finally:\n",
    "        if conn is not None:\n",
    "            conn.close()\n",
    "    return outputList"
   ]
  },
  {
   "cell_type": "code",
   "execution_count": null,
   "metadata": {
    "collapsed": true
   },
   "outputs": [],
   "source": [
    "SelectString = \"\"\n",
    "SelectString += \"\\n\" + \"SELECT \"\n",
    "SelectString += \"\\n\" + \"    date :: VARCHAR(10), num, player, spacial, st,                       --01 05 \"\n",
    "SelectString += \"\\n\" + \"    age, since, tsi, ls, xp,                                             --06 10 \"\n",
    "SelectString += \"\\n\" + \"    fo, stm, lo, mb, kp,                                                 --11 15 \"\n",
    "SelectString += \"\\n\" + \"    df, pm, wi, ps, sc,                                                  --16 20 \"\n",
    "SelectString += \"\\n\" + \"    sp, con, last :: VARCHAR(10), rt :: VARCHAR(3), po,                  --21 25 \"\n",
    "SelectString += \"\\n\" + \"    wage, g, kp_p :: VARCHAR(5), wb_p :: VARCHAR(5), cd_p :: VARCHAR(5), --26 30 \"\n",
    "SelectString += \"\\n\" + \"    w_p :: VARCHAR(5), im_p :: VARCHAR(5), fw_p :: VARCHAR(5)            --31 35 \"\n",
    "\n",
    "WhereString = \"\"\n",
    "WhereString += \"\\n\" + \"WHERE \"\n",
    "WhereString += \"\\n\" + \"    date = last \"\n",
    "WhereString += \"\\n\" + \"    and date = '\" + folder.replace('/','-') + \"' \"\n",
    "WhereString += \"\\n\" + \"    order by num,date \"\n",
    "\n",
    "tupleList = selectPlayer(SelectString, WhereString)\n",
    "for tuple in tupleList:\n",
    "    print(tuple[0], tuple[1], tuple[2], tuple[3], tuple[4],\n",
    "          tuple[5], tuple[6], tuple[7], tuple[8], tuple[9],\n",
    "          tuple[10], tuple[11], tuple[12], tuple[13], tuple[14],\n",
    "          tuple[15], tuple[16], tuple[17], tuple[18], tuple[19],\n",
    "          tuple[20], tuple[21], tuple[22], tuple[23], tuple[24],\n",
    "          tuple[25], tuple[26], tuple[27], tuple[28], tuple[29],\n",
    "          tuple[30], tuple[31], tuple[32],\n",
    "          sep=',')"
   ]
  },
  {
   "cell_type": "code",
   "execution_count": null,
   "metadata": {
    "collapsed": true
   },
   "outputs": [],
   "source": []
  }
 ],
 "metadata": {
  "kernelspec": {
   "display_name": "Python 3",
   "language": "python",
   "name": "python3"
  },
  "language_info": {
   "codemirror_mode": {
    "name": "ipython",
    "version": 3
   },
   "file_extension": ".py",
   "mimetype": "text/x-python",
   "name": "python",
   "nbconvert_exporter": "python",
   "pygments_lexer": "ipython3",
   "version": "3.6.3"
  }
 },
 "nbformat": 4,
 "nbformat_minor": 2
}
