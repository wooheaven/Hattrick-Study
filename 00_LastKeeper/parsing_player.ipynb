{
 "cells": [
  {
   "cell_type": "code",
   "execution_count": 1,
   "metadata": {},
   "outputs": [
    {
     "name": "stdout",
     "output_type": "stream",
     "text": [
      "2018-01-13 06:00:50.737133\n",
      "today =  2018/01/13\n"
     ]
    }
   ],
   "source": [
    "import datetime\n",
    "now = datetime.datetime.now()\n",
    "print(now)\n",
    "nowDate = now.strftime('%Y/%m/%d')\n",
    "print(\"today = \", nowDate)"
   ]
  },
  {
   "cell_type": "code",
   "execution_count": 2,
   "metadata": {
    "collapsed": true
   },
   "outputs": [],
   "source": [
    "from datetime import date,timedelta\n",
    "\n",
    "def findLastSunOrWed():\n",
    "    targetDay = date.today()\n",
    "    \n",
    "    # weekday 2 = Wed \n",
    "    # weekday 6 = Sun\n",
    "    offsetWed = (targetDay.weekday() - 2) % 7\n",
    "    offsetSun = (targetDay.weekday() - 6) % 7\n",
    "    offset = min(offsetWed, offsetSun)\n",
    "    \n",
    "    targetDay = targetDay - timedelta(days=offset)\n",
    "    #print(\"Target Day : \", targetDay, targetDay.weekday())\n",
    "    \n",
    "    return targetDay.strftime('%Y/%m/%d')"
   ]
  },
  {
   "cell_type": "code",
   "execution_count": 3,
   "metadata": {},
   "outputs": [
    {
     "name": "stdout",
     "output_type": "stream",
     "text": [
      "folder = 2018/01/10\n"
     ]
    }
   ],
   "source": [
    "folder = findLastSunOrWed()\n",
    "print(\"folder =\", folder)"
   ]
  },
  {
   "cell_type": "code",
   "execution_count": 4,
   "metadata": {
    "collapsed": true
   },
   "outputs": [],
   "source": [
    "# debugging\n",
    "# folder = \"2018/01/07\"\n",
    "# print(\"folder =\", folder)"
   ]
  },
  {
   "cell_type": "code",
   "execution_count": 5,
   "metadata": {
    "collapsed": true
   },
   "outputs": [],
   "source": [
    "import sys\n",
    "\n",
    "sys.path.insert(0, '../98_Crawler/01_DualMonitor/')\n",
    "from DualMonitor import getIsDualMonitor\n",
    "\n",
    "sys.path.insert(0, '../98_Crawler/02_FirefoxTab/')\n",
    "from FirefoxTab import clickTabOfFireFox\n",
    "\n",
    "sys.path.insert(0, '../98_Crawler/03_OnScreen/')\n",
    "from Empty import clickEmpty\n",
    "from MoveScroll import moveScroll\n",
    "from MoveFindMoveClick import moveByImage\n",
    "\n",
    "sys.path.insert(0, '../98_Crawler/04_Login/')\n",
    "from HattrickLogInOut import clickFacebookLogin, clickFacebookLogout"
   ]
  },
  {
   "cell_type": "code",
   "execution_count": 6,
   "metadata": {},
   "outputs": [
    {
     "name": "stdout",
     "output_type": "stream",
     "text": [
      "use 2 monitor = 3840 x 1080 isDualMonitor= True\n",
      "1st faceBookLogin location with region = (2404, 405, 77, 33)\n",
      "re find\n",
      "re find\n",
      "re find\n",
      "re find\n",
      "re find\n",
      "re find\n",
      "re find\n",
      "re find\n",
      "re find\n",
      "re find\n",
      "re find\n",
      "re find\n",
      "re find\n",
      "re find\n",
      "screen-MyClub.png location on Screen ( 530 340 77 42 )\n",
      "screen-Player.png location on Screen ( 387 700 72 59 )\n",
      "screen-SkillTable.png location on Screen ( 546 593 137 52 )\n",
      "screen-Since.png location on Screen ( 584 964 168 25 )\n",
      "screen-Copy.png location on Screen ( 1075 635 32 25 )\n",
      "1st faceBookLogout location with region = (3178, 336, 69, 51)\n"
     ]
    }
   ],
   "source": [
    "# isDualMonitor\n",
    "isDualMonitor = getIsDualMonitor()\n",
    "\n",
    "# Hattrick LastKeeper Tab\n",
    "clickTabOfFireFox(5, isDualMonitor)\n",
    "\n",
    "# Hattrick Login by Facebook\n",
    "clickEmpty(410, isDualMonitor)\n",
    "moveScroll(20)\n",
    "clickFacebookLogin(484, 405, isDualMonitor)\n",
    "\n",
    "# Hattrick MyClub\n",
    "moveScroll(20)\n",
    "moveByImage(530, 340, 77, 42, isDualMonitor, 'screen-MyClub.png')\n",
    "\n",
    "# Hattrick Player\n",
    "clickEmpty(700, isDualMonitor)\n",
    "moveScroll(20)\n",
    "moveByImage(387, 700, 72, 59, isDualMonitor, 'screen-Player.png')\n",
    "\n",
    "# Hattrick SkillTable\n",
    "clickEmpty(593, isDualMonitor)\n",
    "moveScroll(20)\n",
    "moveByImage(546, 593, 137, 52, isDualMonitor, 'screen-SkillTable.png')\n",
    "\n",
    "# Hattrick Since\n",
    "moveScroll(-7)\n",
    "moveByImage(584, 964, 168, 25, isDualMonitor, 'screen-Since.png')\n",
    "\n",
    "# Hattrick Copy\n",
    "moveScroll(10)\n",
    "moveByImage(1075, 635, 32, 25, isDualMonitor, 'screen-Copy.png')\n",
    "\n",
    "# Hattrick Logout\n",
    "moveScroll(20)\n",
    "clickFacebookLogout(1258, 336, isDualMonitor)\n",
    "\n",
    "# Jupyter Notebook Tab\n",
    "clickTabOfFireFox(7, isDualMonitor)"
   ]
  },
  {
   "cell_type": "code",
   "execution_count": 7,
   "metadata": {},
   "outputs": [
    {
     "name": "stdout",
     "output_type": "stream",
     "text": [
      "[table]\n",
      "[tr][th]-[/th][th]#[/th][th]Nat[/th][th]Player[/th][th]Sp[/th][th]Stat[/th][th]Age[/th][th]Since[/th][th]TSI[/th][th]LS[/th][th]XP[/th][th]Fo[/th][th]Stm[/th][th]Lo[/th][th]MB[/th][th]KP[/th][th]DF[/th][th]PM[/th][th]WI[/th][th]PS[/th][th]SC[/th][th]SP[/th][th]Psico[/th][th]Last[/th][th]Rt[/th][th]Pos[/th][th]Wage[/th][th]G[/th][th]TC[/th][th]PH[/th][th]KP[/th][th]WB[/th][th]CD[/th][th]W[/th][th]IM[/th][th]FW[/th][/tr]\n",
      "[tr][td]–[/td][td]2[/td][td]Hanguk[/td][td]Jee-Hoon Kim [playerid=428709461][/td][td][/td][td][/td][td]20.60[/td][td]1 시즌   11 주   6 일[/td][td]13570[/td][td]3[/td][td]2[/td][td]7[/td][td]7[/td][td]20[/td][td]✔[/td][td]10[/td][td]5[/td][td]1[/td][td]1[/td][td]1[/td][td]2[/td][td]8[/td][td]1021[/td][td]2018-01-07 [playerid=428709461][/td][td]5.5[/td][td]KP[/td][td]1850000[/td][td]0[/td][td][playerid=428709461][/td][td][playerid=428709461][/td][td]9.86[/td][td]4.91[/td][td]5.08[/td][td]3.42[/td][td]3.21[/td][td]3.13[/td][/tr]\n",
      "[tr][td]–[/td][td]3[/td][td]Hanguk[/td][td]Eun-Seok Hong [playerid=427619235][/td][td][/td][td][/td][td]30.85[/td][td]2 시즌   3 주   6 일[/td][td]350[/td][td]5[/td][td]5[/td][td]5[/td][td]6[/td][td]20[/td][td]✔[/td][td]1[/td][td]6[/td][td]6[/td][td]3[/td][td]2[/td][td]2[/td][td]7[/td][td]611[/td][td]2018-01-07 [playerid=427619235][/td][td]3.5[/td][td]CD[/td][td]300000[/td][td]8[/td][td][playerid=427619235][/td][td][playerid=427619235][/td][td]3.74[/td][td]6.02[/td][td]6.47[/td][td]5.7[/td][td]6.05[/td][td]4.42[/td][/tr]\n",
      "[tr][td]–[/td][td]4[/td][td]Hanguk[/td][td]Ji-Woon Lee [playerid=427619236][/td][td][/td][td][/td][td]20.101[/td][td]2 시즌   3 주   6 일[/td][td]1130[/td][td]5[/td][td]2[/td][td]6[/td][td]7[/td][td]20[/td][td]✔[/td][td]1[/td][td]7[/td][td]4[/td][td]3[/td][td]5[/td][td]2[/td][td]7[/td][td]728[/td][td]2018-01-10 [playerid=427619236][/td][td]4.5[/td][td]CD[/td][td]390000[/td][td]9[/td][td][playerid=427619236][/td][td][playerid=427619236][/td][td]4[/td][td]6.42[/td][td]6.7[/td][td]5.46[/td][td]5.42[/td][td]4.41[/td][/tr]\n",
      "[tr][td]–[/td][td]5[/td][td]Hanguk[/td][td]Jang-Soo Choi [playerid=427619237][/td][td]빠름\n",
      "더 많은 정보를 보려면 클릭[/td][td][/td][td]32.35[/td][td]2 시즌   3 주   6 일[/td][td]110[/td][td]5[/td][td]5[/td][td]6[/td][td]6[/td][td]20[/td][td]✔[/td][td]1[/td][td]6[/td][td]4[/td][td]4[/td][td]2[/td][td]1[/td][td]10[/td][td]590[/td][td]2018-01-10 [playerid=427619237][/td][td]3.5[/td][td]CD[/td][td]270000[/td][td]3[/td][td][playerid=427619237][/td][td][playerid=427619237][/td][td]4.03[/td][td]6.27[/td][td]6.34[/td][td]5.46[/td][td]5.25[/td][td]4.02[/td][/tr]\n",
      "[tr][td]–[/td][td]6[/td][td]Hanguk[/td][td]Jae-Shin Cha [playerid=427619238][/td][td][/td][td][/td][td]28.82[/td][td]2 시즌   3 주   6 일[/td][td]1060[/td][td]5[/td][td]5[/td][td]6[/td][td]7[/td][td]20[/td][td]✔[/td][td]1[/td][td]7[/td][td]3[/td][td]6[/td][td]3[/td][td]2[/td][td]10[/td][td]755[/td][td]2018-01-10 [playerid=427619238][/td][td]4[/td][td]WB[/td][td]390000[/td][td]8[/td][td][playerid=427619238][/td][td][playerid=427619238][/td][td]4.45[/td][td]7.16[/td][td]6.82[/td][td]5.84[/td][td]5.05[/td][td]4.64[/td][/tr]\n",
      "[tr][td]–[/td][td]7[/td][td]Hanguk[/td][td]In-Moo Byon [playerid=427619239][/td][td][/td][td][/td][td]33.70[/td][td]2 시즌   3 주   6 일[/td][td]200[/td][td]1[/td][td]6[/td][td]7[/td][td]5[/td][td]20[/td][td]✔[/td][td]2[/td][td]6[/td][td]5[/td][td]5[/td][td]5[/td][td]2[/td][td]6[/td][td]590[/td][td]2018-01-07 [playerid=427619239][/td][td]4[/td][td]WB[/td][td]290000[/td][td]5[/td][td][playerid=427619239][/td][td][playerid=427619239][/td][td]4.89[/td][td]6.96[/td][td]7[/td][td]6.62[/td][td]6.47[/td][td]5.4[/td][/tr]\n",
      "[tr][td]–[/td][td]8[/td][td]Hanguk[/td][td]Hong-Chan Son [playerid=427619240][/td][td][/td][td]Y×1[/td][td]23.30[/td][td]2 시즌   3 주   6 일[/td][td]1030[/td][td]5[/td][td]3[/td][td]5[/td][td]8[/td][td]20[/td][td]✔[/td][td]1[/td][td]5[/td][td]6[/td][td]5[/td][td]5[/td][td]1[/td][td]8[/td][td]615[/td][td]2018-01-10 [playerid=427619240][/td][td]3.5[/td][td]WB[/td][td]310000[/td][td]1[/td][td][playerid=427619240][/td][td][playerid=427619240][/td][td]3.48[/td][td]5.98[/td][td]6.1[/td][td]6.21[/td][td]6.27[/td][td]4.69[/td][/tr]\n",
      "[tr][td]–[/td][td]9[/td][td]Hanguk[/td][td]Hoi-Taek Park [playerid=427619241][/td][td]예측할 수 없음\n",
      "더 많은 정보를 보려면 클릭[/td][td][/td][td]21.37[/td][td]2 시즌   3 주   6 일[/td][td]1320[/td][td]2[/td][td]3[/td][td]7[/td][td]7[/td][td]20[/td][td]✔[/td][td]1[/td][td]5[/td][td]6[/td][td]3[/td][td]6[/td][td]3[/td][td]10[/td][td]639[/td][td]2018-01-10 [playerid=427619241][/td][td]4.5[/td][td]IM[/td][td]330000[/td][td]10[/td][td][playerid=427619241][/td][td][playerid=427619241][/td][td]4.05[/td][td]6.59[/td][td]7.09[/td][td]6.91[/td][td]7.46[/td][td]6.16[/td][/tr]\n",
      "[tr][td]–[/td][td]10[/td][td]Hanguk[/td][td]Kwang-Eul Jeon [playerid=427619242][/td][td][/td][td][/td][td]25.36[/td][td]2 시즌   3 주   6 일[/td][td]1530[/td][td]4[/td][td]4[/td][td]6[/td][td]7[/td][td]20[/td][td]✔[/td][td]1[/td][td]6[/td][td]7[/td][td]3[/td][td]3[/td][td]2[/td][td]9[/td][td]759[/td][td]2018-01-07 [playerid=427619242][/td][td]4.5[/td][td]IM[/td][td]430000[/td][td]6[/td][td][playerid=427619242][/td][td][playerid=427619242][/td][td]4.18[/td][td]7.01[/td][td]7.65[/td][td]6.97[/td][td]7.58[/td][td]5.37[/td][/tr]\n",
      "[tr][td]–[/td][td]11[/td][td]Hanguk[/td][td]Kwang-Hwan Yun [playerid=427619243][/td][td][/td][td][/td][td]28.3[/td][td]2 시즌   3 주   6 일[/td][td]730[/td][td]6[/td][td]4[/td][td]6[/td][td]7[/td][td]20[/td][td]✔[/td][td]2[/td][td]5[/td][td]6[/td][td]3[/td][td]5[/td][td]2[/td][td]9[/td][td]615[/td][td]2018-01-07 [playerid=427619243][/td][td]4[/td][td]W[/td][td]330000[/td][td]10[/td][td][playerid=427619243][/td][td][playerid=427619243][/td][td]4.45[/td][td]6.16[/td][td]6.62[/td][td]6.37[/td][td]6.84[/td][td]5.27[/td][/tr]\n",
      "[tr][td]–[/td][td]12[/td][td]Hanguk[/td][td]Chan-Myung Lee [playerid=427619244][/td][td][/td][td][/td][td]27.12[/td][td]2 시즌   3 주   6 일[/td][td]1040[/td][td]3[/td][td]4[/td][td]7[/td][td]7[/td][td]20[/td][td]✔[/td][td]1[/td][td]3[/td][td]7[/td][td]3[/td][td]4[/td][td]3[/td][td]8[/td][td]751[/td][td]2018-01-10 [playerid=427619244][/td][td]4.5[/td][td]IM[/td][td]410000[/td][td]8[/td][td][playerid=427619244][/td][td][playerid=427619244][/td][td]3.64[/td][td]5.84[/td][td]6.4[/td][td]7[/td][td]7.88[/td][td]6.26[/td][/tr]\n",
      "[tr][td]–[/td][td]13[/td][td]Hanguk[/td][td]Sung-Kook Han [playerid=427619245][/td][td]공 마술사\n",
      "더 많은 정보를 보려면 클릭[/td][td][/td][td]23.0[/td][td]2 시즌   3 주   6 일[/td][td]1290[/td][td]2[/td][td]3[/td][td]5[/td][td]8[/td][td]20[/td][td]✔[/td][td]1[/td][td]5[/td][td]6[/td][td]6[/td][td]5[/td][td]2[/td][td]9[/td][td]614[/td][td]2018-01-10 [playerid=427619245][/td][td]4[/td][td]W[/td][td]330000[/td][td]10[/td][td][playerid=427619245][/td][td][playerid=427619245][/td][td]3.48[/td][td]6.13[/td][td]6.09[/td][td]6.37[/td][td]6.3[/td][td]5.12[/td][/tr]\n",
      "[tr][td]–[/td][td]14[/td][td]Hanguk[/td][td]Se-Jong Cho [playerid=427619246][/td][td][/td][td][/td][td]30.0[/td][td]2 시즌   3 주   6 일[/td][td]590[/td][td]4[/td][td]5[/td][td]6[/td][td]6[/td][td]20[/td][td]✔[/td][td]1[/td][td]5[/td][td]5[/td][td]6[/td][td]3[/td][td]4[/td][td]8[/td][td]604[/td][td]2018-01-10 [playerid=427619246][/td][td]4[/td][td]WB[/td][td]280000[/td][td]18[/td][td][playerid=427619246][/td][td][playerid=427619246][/td][td]3.92[/td][td]6.52[/td][td]6.36[/td][td]6.38[/td][td]6.16[/td][td]5.83[/td][/tr]\n",
      "[tr][td]–[/td][td]15[/td][td]Hanguk[/td][td]Man-Ok Lee [playerid=427619247][/td][td]예측할 수 없음\n",
      "더 많은 정보를 보려면 클릭[/td][td]Y×1[/td][td]24.53[/td][td]2 시즌   3 주   6 일[/td][td]2000[/td][td]5[/td][td]4[/td][td]5[/td][td]8[/td][td]20[/td][td]✔[/td][td]1[/td][td]5[/td][td]5[/td][td]7[/td][td]6[/td][td]2[/td][td]9[/td][td]764[/td][td]2018-01-10 [playerid=427619247][/td][td]4.5[/td][td]W[/td][td]350000[/td][td]13[/td][td][playerid=427619247][/td][td][playerid=427619247][/td][td]3.62[/td][td]6.24[/td][td]5.92[/td][td]6.34[/td][td]5.91[/td][td]5.25[/td][/tr]\n",
      "[tr][td]–[/td][td]16[/td][td]Hanguk[/td][td]Dong-Shik Kim [playerid=427619248][/td][td][/td][td]Y×1[/td][td]20.47[/td][td]2 시즌   3 주   6 일[/td][td]1650[/td][td]6[/td][td]2[/td][td]7[/td][td]7[/td][td]20[/td][td]✔[/td][td]1[/td][td]3[/td][td]3[/td][td]6[/td][td]4[/td][td]7[/td][td]10[/td][td]774[/td][td]2018-01-10 [playerid=427619248][/td][td]6[/td][td]FW[/td][td]410000[/td][td]21[/td][td][playerid=427619248][/td][td][playerid=427619248][/td][td]3.29[/td][td]5.18[/td][td]4.63[/td][td]5.31[/td][td]4.87[/td][td]6.7[/td][/tr]\n",
      "[tr][td]–[/td][td]17[/td][td]Hanguk[/td][td]Seung-Mee Kim [playerid=427619249][/td][td]예측할 수 없음\n",
      "더 많은 정보를 보려면 클릭[/td][td][/td][td]35.98[/td][td]2 시즌   3 주   6 일[/td][td]20[/td][td]2[/td][td]6[/td][td]7[/td][td]5[/td][td]20[/td][td]✔[/td][td]1[/td][td]2[/td][td]3[/td][td]3[/td][td]3[/td][td]5[/td][td]7[/td][td]490[/td][td]2018-01-07 [playerid=427619249][/td][td]4[/td][td]FW[/td][td]270000[/td][td]22[/td][td][playerid=427619249][/td][td][playerid=427619249][/td][td]3.16[/td][td]4.09[/td][td]4.06[/td][td]4.42[/td][td]4.54[/td][td]5.25[/td][/tr]\n",
      "[tr][td]–[/td][td]18[/td][td]Hanguk[/td][td]Kwang-Rae Kim [playerid=427619250][/td][td]헤딩\n",
      "더 많은 정보를 보려면 클릭[/td][td][/td][td]28.7[/td][td]2 시즌   3 주   6 일[/td][td]890[/td][td]3[/td][td]4[/td][td]5[/td][td]7[/td][td]20[/td][td]✔[/td][td]1[/td][td]2[/td][td]5[/td][td]3[/td][td]6[/td][td]6[/td][td]7[/td][td]614[/td][td]2018-01-07 [playerid=427619250][/td][td]4.5[/td][td]FW[/td][td]310000[/td][td]23[/td][td][playerid=427619250][/td][td][playerid=427619250][/td][td]2.84[/td][td]4.09[/td][td]4.29[/td][td]5.08[/td][td]5.6[/td][td]6.03[/td][/tr]\n",
      "[tr][td]–[/td][td]21[/td][td]Belgium[/td][td]Jitse Haes [playerid=428112207][/td][td][/td][td][/td][td]33.5[/td][td]1 시즌   14 주   5 일[/td][td]280[/td][td]4[/td][td]5[/td][td]4[/td][td]5[/td][td]16[/td][td][/td][td]2[/td][td]6[/td][td]6[/td][td]5[/td][td]5[/td][td]2[/td][td]7[/td][td]590[/td][td]2018-01-07 [playerid=428112207][/td][td]4[/td][td]W[/td][td]348000[/td][td]2[/td][td][playerid=428112207][/td][td][playerid=428112207][/td][td]3.31[/td][td]5.11[/td][td]5.24[/td][td]5.04[/td][td]5.07[/td][td]3.92[/td][/tr]\n",
      "[tr][td]–[/td][td]23[/td][td]Belgium[/td][td]Mathias Piron [playerid=428125893][/td][td]공 마술사\n",
      "더 많은 정보를 보려면 클릭[/td][td][/td][td]33.86[/td][td]1 시즌   14 주   5 일[/td][td]280[/td][td]6[/td][td]6[/td][td]6[/td][td]5[/td][td]16[/td][td][/td][td]2[/td][td]6[/td][td]5[/td][td]5[/td][td]5[/td][td]2[/td][td]9[/td][td]590[/td][td]2018-01-07 [playerid=428125893][/td][td]4.5[/td][td]W[/td][td]360000[/td][td]5[/td][td][playerid=428125893][/td][td][playerid=428125893][/td][td]4.09[/td][td]6.08[/td][td]6.11[/td][td]5.75[/td][td]5.61[/td][td]4.59[/td][/tr]\n",
      "[tr][td]–[/td][td]25[/td][td]Polska[/td][td]Pylyp Nagorniak [playerid=406205227][/td][td][/td][td][/td][td]28.47[/td][td]1 시즌   14 주   5 일[/td][td]1940[/td][td]5[/td][td]3[/td][td]7[/td][td]7[/td][td]16[/td][td][/td][td]1[/td][td]6[/td][td]7[/td][td]3[/td][td]6[/td][td]3[/td][td]9[/td][td]701[/td][td]2018-01-07 [playerid=406205227][/td][td]4.5[/td][td]IM[/td][td]444000[/td][td]4[/td][td][playerid=406205227][/td][td][playerid=406205227][/td][td]3.57[/td][td]6.53[/td][td]7.2[/td][td]6.75[/td][td]7.44[/td][td]5.64[/td][/tr]\n",
      "[tr][td]–[/td][td]31[/td][td]Hanguk[/td][td]Se-Hee Park [playerid=430626797][/td][td][/td][td][/td][td]19.94[/td][td]1 시즌   2 주   6 일[/td][td]1300[/td][td]4[/td][td]2[/td][td]8[/td][td]7[/td][td]20[/td][td]✔[/td][td]1[/td][td]2[/td][td]5[/td][td]5[/td][td]3[/td][td]7[/td][td]8[/td][td]717[/td][td]2018-01-10 [playerid=430626797][/td][td]5[/td][td]FW[/td][td]390000[/td][td]11[/td][td][playerid=430626797][/td][td][playerid=430626797][/td][td]3.06[/td][td]4.95[/td][td]4.82[/td][td]5.91[/td][td]6.16[/td][td]7.09[/td][/tr]\n",
      "[tr][td]–[/td][td]34[/td][td]Sverige[/td][td]Axel Hermansson [playerid=422526443][/td][td][/td][td]Y×1[/td][td]29.69[/td][td]1 시즌   0 주   4 일[/td][td]2030[/td][td]5[/td][td]5[/td][td]7[/td][td]6[/td][td]12[/td][td][/td][td]2[/td][td]7[/td][td]7[/td][td]2[/td][td]6[/td][td]2[/td][td]9[/td][td]702[/td][td]2018-01-10 [playerid=422526443][/td][td]4.5[/td][td]IM[/td][td]516000[/td][td]8[/td][td][playerid=422526443][/td][td][playerid=422526443][/td][td]4.56[/td][td]6.94[/td][td]7.82[/td][td]6.77[/td][td]7.56[/td][td]5.21[/td][/tr]\n",
      "[tr][td]–[/td][td]38[/td][td]Latvija[/td][td]Artem Skurlatov [playerid=409641598][/td][td][/td][td][/td][td]27.75[/td][td]13 주   1 일[/td][td]2490[/td][td]5[/td][td]4[/td][td]5[/td][td]6[/td][td]10[/td][td][/td][td]1[/td][td]8[/td][td]6[/td][td]3[/td][td]4[/td][td]3[/td][td]4[/td][td]843[/td][td]2018-01-10 [playerid=409641598][/td][td]4[/td][td]CD[/td][td]732000[/td][td]8[/td][td][playerid=409641598][/td][td][playerid=409641598][/td][td]3.27[/td][td]5.98[/td][td]6.48[/td][td]5.19[/td][td]5.48[/td][td]4.06[/td][/tr]\n",
      "[tr][td]–[/td][td]40[/td][td]Perú[/td][td]Matías Pichis [playerid=416567166][/td][td][/td][td][/td][td]23.25[/td][td]12 주   4 일[/td][td]8640[/td][td]6[/td][td]1[/td][td]6[/td][td]7[/td][td]10[/td][td][/td][td]1[/td][td]10[/td][td]8[/td][td]2[/td][td]4[/td][td]4[/td][td]6[/td][td]1000[/td][td]2018-01-07 [playerid=416567166][/td][td]4.5[/td][td]CD[/td][td]1764000[/td][td]4[/td][td][playerid=416567166][/td][td][playerid=416567166][/td][td]3.57[/td][td]7.41[/td][td]8.5[/td][td]6.3[/td][td]7.14[/td][td]4.75[/td][/tr]\n",
      "[tr][td]–[/td][td]41[/td][td]Deutschland[/td][td]Reinold Kisch [playerid=413993877][/td][td][/td][td][/td][td]24.29[/td][td]12 주   4 일[/td][td]1500[/td][td]5[/td][td]2[/td][td]3[/td][td]7[/td][td]10[/td][td][/td][td]1[/td][td]8[/td][td]6[/td][td]2[/td][td]4[/td][td]5[/td][td]3[/td][td]798[/td][td]2018-01-07 [playerid=413993877][/td][td]2.5[/td][td]CD[/td][td]588000[/td][td]10[/td][td][playerid=413993877][/td][td][playerid=413993877][/td][td]2.34[/td][td]4.36[/td][td]4.88[/td][td]3.73[/td][td]4.13[/td][td]3.39[/td][/tr]\n",
      "[tr][td]–[/td][td]45[/td][td]Bulgaria[/td][td]Ivan Petkov [playerid=430624598][/td][td][/td][td][/td][td]18.105[/td][td]9 주   5 일[/td][td]17870[/td][td]7[/td][td]2[/td][td]7[/td][td]7[/td][td]9[/td][td][/td][td]10[/td][td]3[/td][td]1[/td][td]1[/td][td]1[/td][td]1[/td][td]7[/td][td]1099[/td][td]2018-01-10 [playerid=430624598][/td][td]4.5[/td][td]KP[/td][td]2148000[/td][td]0[/td][td][playerid=430624598][/td][td][playerid=430624598][/td][td]8.13[/td][td]2.75[/td][td]2.83[/td][td]2.02[/td][td]1.9[/td][td]1.68[/td][/tr]\n",
      "[tr][td]–[/td][td]48[/td][td]Hanguk[/td][td]Dong-Suk Lee [playerid=432205385][/td][td]공 마술사\n",
      "더 많은 정보를 보려면 클릭[/td][td][/td][td]18.108[/td][td]6 주   5 일[/td][td]910[/td][td]6[/td][td]1[/td][td]5[/td][td]5[/td][td]20[/td][td]✔[/td][td]1[/td][td]5[/td][td]4[/td][td]5[/td][td]6[/td][td]5[/td][td]4[/td][td]636[/td][td]2017-12-24 [playerid=432205385][/td][td]4.5[/td][td]FW[/td][td]290000[/td][td]0[/td][td][playerid=432205385][/td][td][playerid=432205385][/td][td]2.56[/td][td]4.39[/td][td]4.28[/td][td]4.25[/td][td]4.09[/td][td]4.45[/td][/tr]\n",
      "[tr][td]–[/td][td]52[/td][td]Hanguk[/td][td]Seong-Gong Choi [playerid=433454317][/td][td]예측할 수 없음\n",
      "더 많은 정보를 보려면 클릭[/td][td]Y×1[/td][td]17.76[/td][td]2 주   6 일[/td][td]4610[/td][td]4[/td][td]1[/td][td]6[/td][td]5[/td][td]20[/td][td]✔[/td][td]1[/td][td]7[/td][td]7[/td][td]7[/td][td]4[/td][td]5[/td][td]4[/td][td]788[/td][td]2018-01-07 [playerid=433454317][/td][td]4[/td][td]WB[/td][td]550000[/td][td]0[/td][td][playerid=433454317][/td][td][playerid=433454317][/td][td]3.38[/td][td]6.78[/td][td]6.78[/td][td]6.56[/td][td]6.49[/td][td]5.73[/td][/tr]\n",
      "[tr][td]–[/td][td]53[/td][td]Hanguk[/td][td]Dae-Seon Seok [playerid=433566459][/td][td][/td][td][/td][td]17.85[/td][td]1 주   5 일[/td][td]300[/td][td]3[/td][td]1[/td][td]5[/td][td]5[/td][td]20[/td][td]✔[/td][td]1[/td][td]4[/td][td]2[/td][td]5[/td][td]2[/td][td]6[/td][td]3[/td][td]617[/td][td]2018-01-07 [playerid=433566459][/td][td]4[/td][td]FW[/td][td]290000[/td][td]1[/td][td][playerid=433566459][/td][td][playerid=433566459][/td][td]2.36[/td][td]3.66[/td][td]3.32[/td][td]3.14[/td][td]2.72[/td][td]3.87[/td][/tr]\n",
      "[tr][td]–[/td][td]99[/td][td]Hanguk[/td][td]Je-Min Jung [playerid=427619232] 코치[/td][td][/td][td][/td][td]42.63[/td][td]2 시즌   3 주   6 일[/td][td]0[/td][td]3[/td][td]8[/td][td]4[/td][td]1[/td][td]20[/td][td]✔[/td][td]0[/td][td]0[/td][td]0[/td][td]0[/td][td]0[/td][td]0[/td][td]0[/td][td]440[/td][td][/td][td][/td][td][/td][td]250000[/td][td]0[/td][td][playerid=427619232][/td][td][playerid=427619232][/td][td]1.2[/td][td]1.2[/td][td]1.2[/td][td]1.2[/td][td]1.2[/td][td]1.2[/td][/tr]\n",
      "[/table]\n"
     ]
    }
   ],
   "source": [
    "import pyperclip # The name you have the file\n",
    "tmpClip = pyperclip.paste()\n",
    "print(tmpClip)"
   ]
  },
  {
   "cell_type": "code",
   "execution_count": null,
   "metadata": {
    "collapsed": true
   },
   "outputs": [],
   "source": [
    "import os.path\n",
    "filePath = folder + '/player.html'\n",
    "\n",
    "if not os.path.exists(folder):\n",
    "    print(folder + \"\\t\\t : will be created\")\n",
    "    os.makedirs(folder)\n",
    "else :\n",
    "    print(folder + \"\\t\\t : is existed\")\n",
    "\n",
    "if ( os.path.exists(filePath) ):\n",
    "    print(filePath + \"\\t : will be removed\")\n",
    "    os.remove(filePath)\n",
    "    \n",
    "if not os.path.exists(filePath):\n",
    "    print(filePath + \"\\t : is not exists\")"
   ]
  },
  {
   "cell_type": "code",
   "execution_count": null,
   "metadata": {
    "collapsed": true
   },
   "outputs": [],
   "source": [
    "with open(folder + '/player.html', 'w') as f:\n",
    "    f.write(tmpClip)"
   ]
  },
  {
   "cell_type": "code",
   "execution_count": null,
   "metadata": {
    "collapsed": true
   },
   "outputs": [],
   "source": [
    "from parseSkillTable import *"
   ]
  },
  {
   "cell_type": "code",
   "execution_count": null,
   "metadata": {
    "collapsed": true
   },
   "outputs": [],
   "source": [
    "import csv\n",
    "lineList = [] # emptyList\n",
    "\n",
    "with open(folder + '/player.html', 'r', encoding='utf-8') as f:\n",
    "    reader = csv.reader(f, delimiter='\\n')\n",
    "    for row in reader:\n",
    "        #print(row[0])\n",
    "        lineList.append(row[0])\n",
    "lineList"
   ]
  },
  {
   "cell_type": "code",
   "execution_count": null,
   "metadata": {
    "collapsed": true
   },
   "outputs": [],
   "source": [
    "#lineList = tmpClip.split(\"\\n\");\n",
    "\n",
    "lineList = removeHattrickTag(lineList)\n",
    "lineList = combineTwoLine(lineList)\n",
    "lineList = modifySharpToNumber(lineList)\n",
    "lineList = modifySpToSpecial(lineList)\n",
    "lineList = removeFirstColumn(lineList)\n",
    "lineList = dividePlayerAndPlayerID(lineList)\n",
    "lineList = modifySince(lineList, folder, nowDate)\n",
    "lineList = modifyMB(lineList)\n",
    "lineList = modifyLast(lineList)\n",
    "lineList = assignEmptyForTC(lineList)\n",
    "lineList = assignEmptyForPH(lineList)\n",
    "lineList = modifyKPPos(lineList)\n",
    "lineList = modifyWBPos(lineList)\n",
    "lineList = modifyCDPos(lineList)\n",
    "lineList = modifyWPos(lineList)\n",
    "lineList = modifyIMPos(lineList)\n",
    "lineList = modifyFWPos(lineList)\n",
    "lineList = removeLastString(lineList)"
   ]
  },
  {
   "cell_type": "code",
   "execution_count": null,
   "metadata": {
    "collapsed": true
   },
   "outputs": [],
   "source": [
    "for line in lineList:\n",
    "    col = line.split(\",\")\n",
    "    print(len(col), col[0], sep=\"\\t\" ) # len = 36\n",
    "    #print(col)"
   ]
  },
  {
   "cell_type": "code",
   "execution_count": null,
   "metadata": {
    "collapsed": true
   },
   "outputs": [],
   "source": [
    "import os.path\n",
    "\n",
    "filePath = folder + '/player.html'\n",
    "if ( os.path.exists(filePath) ):\n",
    "    print(filePath + \"\\t : will be removed\")\n",
    "    os.remove(filePath)\n",
    "\n",
    "filePath = folder + '/player.txt'\n",
    "if not os.path.exists(folder):\n",
    "    print(folder + \"\\t : will be created\")\n",
    "    os.makedirs(folder)\n",
    "\n",
    "if ( os.path.exists(filePath) ):\n",
    "    print(filePath + \"\\t : will be removed\")\n",
    "    os.remove(filePath)\n",
    "    \n",
    "if not os.path.exists(filePath):\n",
    "    print(filePath + \"\\t : is not exists\")"
   ]
  },
  {
   "cell_type": "code",
   "execution_count": null,
   "metadata": {
    "collapsed": true
   },
   "outputs": [],
   "source": [
    "with open(folder+'/player.txt', 'w') as f:\n",
    "    for line in lineList:\n",
    "        f.write(line + \"\\n\")"
   ]
  },
  {
   "cell_type": "code",
   "execution_count": null,
   "metadata": {
    "collapsed": true
   },
   "outputs": [],
   "source": [
    "# player_skill_table from file to table"
   ]
  },
  {
   "cell_type": "code",
   "execution_count": null,
   "metadata": {
    "collapsed": true
   },
   "outputs": [],
   "source": [
    "# pyautogui.displayMousePosition()"
   ]
  },
  {
   "cell_type": "code",
   "execution_count": null,
   "metadata": {
    "collapsed": true
   },
   "outputs": [],
   "source": [
    "# import pymsgbox"
   ]
  },
  {
   "cell_type": "code",
   "execution_count": null,
   "metadata": {
    "collapsed": true
   },
   "outputs": [],
   "source": [
    "# pymsgbox.alert(text='', title='', button='OK')"
   ]
  },
  {
   "cell_type": "code",
   "execution_count": null,
   "metadata": {
    "collapsed": true
   },
   "outputs": [],
   "source": [
    "# getText = pymsgbox.confirm(text='Choose OK or Cancel', title='', buttons=['OK', 'Cancel'])"
   ]
  },
  {
   "cell_type": "code",
   "execution_count": null,
   "metadata": {
    "collapsed": true
   },
   "outputs": [],
   "source": [
    "# print(getText)"
   ]
  },
  {
   "cell_type": "code",
   "execution_count": null,
   "metadata": {
    "collapsed": true
   },
   "outputs": [],
   "source": [
    "# insert data to database"
   ]
  },
  {
   "cell_type": "code",
   "execution_count": null,
   "metadata": {
    "collapsed": true
   },
   "outputs": [],
   "source": [
    "import psycopg2"
   ]
  },
  {
   "cell_type": "code",
   "execution_count": null,
   "metadata": {
    "collapsed": true
   },
   "outputs": [],
   "source": [
    "# def dropPlayerTable():\n",
    "#     conn = None\n",
    "#     try:\n",
    "#         conn = psycopg2.connect(\"dbname='mydatabase' user='myuser' host='localhost' port='65432' password='123qwe'\")\n",
    "#         cur = conn.cursor()\n",
    "#         sql = \"\"\"DROP TABLE IF EXISTS player ; \"\"\"\n",
    "#         cur.execute(sql)\n",
    "#         conn.commit()\n",
    "#     except(Exception, psycopg2.DatabaseError) as error:\n",
    "#         print(error)\n",
    "#     finally:\n",
    "#         if conn is not None:\n",
    "#             conn.close()"
   ]
  },
  {
   "cell_type": "code",
   "execution_count": null,
   "metadata": {
    "collapsed": true
   },
   "outputs": [],
   "source": [
    "#dropPlayerTable()"
   ]
  },
  {
   "cell_type": "code",
   "execution_count": null,
   "metadata": {
    "collapsed": true
   },
   "outputs": [],
   "source": [
    "# def createPlayerTable():\n",
    "#     conn = None\n",
    "#     try:\n",
    "#         conn = psycopg2.connect(\"dbname='mydatabase' user='myuser' host='localhost' port='65432' password='123qwe'\")\n",
    "#         cur = conn.cursor()\n",
    "#         sql = \"\"\"\n",
    "# CREATE TABLE player (\n",
    "#     Date DATE,           --01\n",
    "#     Num int,             --02\n",
    "#     Nat VARCHAR(30),     --03\n",
    "#     Player VARCHAR(30),  --04\n",
    "#     PlayerID BIGINT,     --05\n",
    "#     Spacial VARCHAR(30), --06\n",
    "#     st VARCHAR(10),      --07  Status Yellow, Red\n",
    "#     Age VARCHAR(10),     --08\n",
    "#     Since VARCHAR(30),   --09\n",
    "#     TSI BIGINT,          --10\n",
    "#     LS INT,              --11\n",
    "#     XP INT,              --12\n",
    "#     Fo INT,              --13\n",
    "#     Stm INT,             --14\n",
    "#     Lo INT,              --15\n",
    "#     MB boolean,          --16\n",
    "#     KP INT,              --17\n",
    "#     DF INT,              --18\n",
    "#     PM INT,              --19\n",
    "#     WI INT,              --20\n",
    "#     PS INT,              --21\n",
    "#     SC INT,              --22\n",
    "#     SP INT,              --23\n",
    "#     con BIGINT,          --24 Psico\n",
    "#     Last DATE,           --25\n",
    "#     RT NUMERIC(2, 1),    --26 Rating\n",
    "#     Po VARCHAR(5),       --27 Position\n",
    "#     Wage BIGINT,         --28\n",
    "#     G INT,               --29\n",
    "#     --TC VARCHAR(1),     --\n",
    "#     --PH VARCHAR(1),     --\n",
    "#     KP_P NUMERIC(4, 2),  --30 KP Position\n",
    "#     WB_P NUMERIC(4, 2),  --31 WB Position\n",
    "#     CD_P NUMERIC(4, 2),  --32 CD Position\n",
    "#     W_P NUMERIC(4, 2),   --33 W  Position\n",
    "#     IM_P NUMERIC(4, 2),  --34 IM Position\n",
    "#     FW_P NUMERIC(4, 2)   --35 FW Position\n",
    "# ) ; \"\"\"\n",
    "#         cur.execute(sql)\n",
    "#         conn.commit()\n",
    "#     except(Exception, psycopg2.DatabaseError) as error:\n",
    "#         print(error)\n",
    "#     finally:\n",
    "#         if conn is not None:\n",
    "#             conn.close()"
   ]
  },
  {
   "cell_type": "code",
   "execution_count": null,
   "metadata": {
    "collapsed": true
   },
   "outputs": [],
   "source": [
    "#createPlayerTable()"
   ]
  },
  {
   "cell_type": "code",
   "execution_count": null,
   "metadata": {
    "collapsed": true
   },
   "outputs": [],
   "source": [
    "def selectCountPlayer():\n",
    "    conn = None\n",
    "    try:\n",
    "        conn = psycopg2.connect(\"dbname='mydatabase' user='myuser' host='localhost' port='65432' password='123qwe'\")\n",
    "        cur = conn.cursor()\n",
    "        sql = \"SELECT COUNT(*) FROM player\" \n",
    "        \n",
    "        cur.execute(sql)\n",
    "        row = cur.fetchone()\n",
    "    except (Exception, psycopg2.DatabaseError) as error:\n",
    "        print(error)\n",
    "        print(sql)\n",
    "    finally:\n",
    "        if conn is not None:\n",
    "            conn.close()\n",
    "    return row[0]"
   ]
  },
  {
   "cell_type": "code",
   "execution_count": null,
   "metadata": {
    "collapsed": true
   },
   "outputs": [],
   "source": [
    "selectCountPlayer()"
   ]
  },
  {
   "cell_type": "code",
   "execution_count": null,
   "metadata": {
    "collapsed": true
   },
   "outputs": [],
   "source": [
    "def insertPlayerTable(time, row):\n",
    "    conn = None\n",
    "    try:\n",
    "        conn = psycopg2.connect(\"dbname='mydatabase' user='myuser' host='localhost' port='65432' password='123qwe'\")\n",
    "        cur = conn.cursor()\n",
    "        sql =  \"\"\"\n",
    "INSERT INTO player ( \n",
    "    SELECT \n",
    "        to_date(%s, 'YYYY-MM-DD'),                                    -- 1\n",
    "        %s, %s, %s, %s, %s,                                           -- 2, 3, 4, 5, 6\n",
    "        %s, %s, %s, %s, %s,                                           -- 7, 8, 9,10,11\n",
    "        %s, %s, %s, %s, %s,                                           --12,13,14,15,16\n",
    "        %s, %s, %s, %s, %s,                                           --17,18,19,20,21\n",
    "        %s, %s, %s,                                                   --22,23,24\n",
    "        to_date(coalesce(nullif(%s,''), '0001-01-01'), 'YYYY-MM-DD'), --25\n",
    "        cast(coalesce(nullif(%s,''),'0.0') as float),                 --26\n",
    "        %s, %s, %s,                                                   --27,28,29\n",
    "        %s, %s, %s, %s, %s,                                           --30,31,32,33,34\n",
    "        %s                                                            --35\n",
    ") ; \"\"\"\n",
    "        #print(sql + \"\\t\")\n",
    "        cur.execute(sql, ( time, \n",
    "                           row[0], row[1], row[2], row[3], row[4],\n",
    "                           row[5], row[6], row[7], row[8], row[9],\n",
    "                           row[10],row[11],row[12],row[13],row[14], \n",
    "                           row[15],row[16],row[17],row[18],row[19],\n",
    "                           row[20],row[21],row[22],\n",
    "                           row[23],\n",
    "                           row[24],\n",
    "                           row[25],row[26],row[27],\n",
    "                           row[30],row[31],row[32],row[33],row[34],\n",
    "                           row[35]\n",
    "                         )\n",
    "                   )\n",
    "        conn.commit()\n",
    "    except (Exception, psycopg2.DatabaseError) as error:\n",
    "        print(\"Error Happend\")\n",
    "        print(error)\n",
    "        print(sql)\n",
    "        print(row)\n",
    "    finally:\n",
    "        if conn is not None:\n",
    "            conn.close()"
   ]
  },
  {
   "cell_type": "code",
   "execution_count": null,
   "metadata": {
    "collapsed": true
   },
   "outputs": [],
   "source": [
    "import csv\n",
    "with open(folder + '/player.txt', 'r', encoding='utf-8') as f:\n",
    "    reader = csv.reader(f, delimiter=',')\n",
    "    for row in reader:\n",
    "        if row[0] != \"Number\" :\n",
    "            insertPlayerTable( folder.replace('/','-'), row)"
   ]
  },
  {
   "cell_type": "code",
   "execution_count": null,
   "metadata": {
    "collapsed": true
   },
   "outputs": [],
   "source": [
    "selectCountPlayer()"
   ]
  },
  {
   "cell_type": "code",
   "execution_count": null,
   "metadata": {
    "collapsed": true
   },
   "outputs": [],
   "source": [
    "def selectPlayer(SelectString, WhereString):\n",
    "    outputList = list();\n",
    "    sql = \"\"\n",
    "    conn = None\n",
    "    try:\n",
    "        conn = psycopg2.connect(\"dbname='mydatabase' user='myuser' host='localhost' port='65432' password='123qwe'\")\n",
    "        cur = conn.cursor()\n",
    "        sql = SelectString + \"\\nFROM player\" + WhereString + \"\\n\"\n",
    "        print(sql)\n",
    "        \n",
    "        cur.execute(sql)\n",
    "        row = cur.fetchone()\n",
    "        while row is not None:\n",
    "            #print(row)\n",
    "            outputList.append(row)\n",
    "            row = cur.fetchone()\n",
    "    except (Exception, psycopg2.DatabaseError) as error:\n",
    "            print(error)\n",
    "            print(sql)\n",
    "    finally:\n",
    "        if conn is not None:\n",
    "            conn.close()\n",
    "    return outputList"
   ]
  },
  {
   "cell_type": "code",
   "execution_count": null,
   "metadata": {
    "collapsed": true
   },
   "outputs": [],
   "source": [
    "SelectString = \"\"\n",
    "SelectString += \"\\n\" + \"SELECT \"\n",
    "SelectString += \"\\n\" + \"    date :: VARCHAR(10), num, player, spacial, st,                       --01 05 \"\n",
    "SelectString += \"\\n\" + \"    age, since, tsi, ls, xp,                                             --06 10 \"\n",
    "SelectString += \"\\n\" + \"    fo, stm, lo, mb, kp,                                                 --11 15 \"\n",
    "SelectString += \"\\n\" + \"    df, pm, wi, ps, sc,                                                  --16 20 \"\n",
    "SelectString += \"\\n\" + \"    sp, con, last :: VARCHAR(10), rt :: VARCHAR(3), po,                  --21 25 \"\n",
    "SelectString += \"\\n\" + \"    wage, g, kp_p :: VARCHAR(5), wb_p :: VARCHAR(5), cd_p :: VARCHAR(5), --26 30 \"\n",
    "SelectString += \"\\n\" + \"    w_p :: VARCHAR(5), im_p :: VARCHAR(5), fw_p :: VARCHAR(5)            --31 35 \"\n",
    "\n",
    "WhereString = \"\"\n",
    "WhereString += \"\\n\" + \"WHERE \"\n",
    "WhereString += \"\\n\" + \"    date = last \"\n",
    "WhereString += \"\\n\" + \"    and date = '\" + folder.replace('/','-') + \"' \"\n",
    "WhereString += \"\\n\" + \"    order by num,date \"\n",
    "\n",
    "tupleList = selectPlayer(SelectString, WhereString)\n",
    "for tuple in tupleList:\n",
    "    print(tuple[0], tuple[1], tuple[2], tuple[3], tuple[4],\n",
    "          tuple[5], tuple[6], tuple[7], tuple[8], tuple[9],\n",
    "          tuple[10], tuple[11], tuple[12], tuple[13], tuple[14],\n",
    "          tuple[15], tuple[16], tuple[17], tuple[18], tuple[19],\n",
    "          tuple[20], tuple[21], tuple[22], tuple[23], tuple[24],\n",
    "          tuple[25], tuple[26], tuple[27], tuple[28], tuple[29],\n",
    "          tuple[30], tuple[31], tuple[32],\n",
    "          sep=',')"
   ]
  }
 ],
 "metadata": {
  "kernelspec": {
   "display_name": "Python 3",
   "language": "python",
   "name": "python3"
  },
  "language_info": {
   "codemirror_mode": {
    "name": "ipython",
    "version": 3
   },
   "file_extension": ".py",
   "mimetype": "text/x-python",
   "name": "python",
   "nbconvert_exporter": "python",
   "pygments_lexer": "ipython3",
   "version": "3.6.3"
  }
 },
 "nbformat": 4,
 "nbformat_minor": 2
}
