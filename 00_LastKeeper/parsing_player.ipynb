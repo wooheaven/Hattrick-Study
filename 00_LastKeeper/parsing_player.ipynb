{
 "cells": [
  {
   "cell_type": "code",
   "execution_count": 1,
   "metadata": {},
   "outputs": [
    {
     "name": "stdout",
     "output_type": "stream",
     "text": [
      "2017-09-10 03:00:12.158821\n",
      "2017-09-10\n"
     ]
    }
   ],
   "source": [
    "import datetime\n",
    "now = datetime.datetime.now()\n",
    "print(now)\n",
    "nowDate = now.strftime('%Y-%m-%d')\n",
    "print(nowDate)"
   ]
  },
  {
   "cell_type": "code",
   "execution_count": 2,
   "metadata": {},
   "outputs": [
    {
     "name": "stdout",
     "output_type": "stream",
     "text": [
      "2017/09/10\n",
      "2017/09/09\n"
     ]
    }
   ],
   "source": [
    "folder = nowDate.replace('-', '/')\n",
    "print(folder)\n",
    "folder = \"2017/09/09\"\n",
    "print(folder)"
   ]
  },
  {
   "cell_type": "code",
   "execution_count": 3,
   "metadata": {
    "collapsed": true
   },
   "outputs": [],
   "source": [
    "# player_skill_table from Hattrick to file"
   ]
  },
  {
   "cell_type": "code",
   "execution_count": 4,
   "metadata": {
    "collapsed": true
   },
   "outputs": [],
   "source": [
    "import pyautogui\n",
    "screenWidth, screenHeight = pyautogui.size()\n",
    "currentMouseX, currentMouseY = pyautogui.position()"
   ]
  },
  {
   "cell_type": "code",
   "execution_count": 5,
   "metadata": {
    "collapsed": true
   },
   "outputs": [],
   "source": [
    "# firefox 5번째 tab 클릭하기\n",
    "pyautogui.moveTo(screenWidth/100*75, screenHeight/30*1, duration=0.3)\n",
    "pyautogui.click()\n",
    "# hattrick 배경 클릭하기\n",
    "pyautogui.moveTo(screenWidth/110*65, screenHeight/300*93, duration=0.2)\n",
    "pyautogui.click()\n",
    "# 스크롤 올리기\n",
    "pyautogui.scroll(20)\n",
    "# 나의 클럽 클릭하기\n",
    "pyautogui.moveTo(screenWidth/14*9, screenHeight/300*93, duration=0.5)\n",
    "pyautogui.click()\n",
    "# hattrick 배경 클릭하기\n",
    "pyautogui.moveTo(screenWidth/110*65, screenHeight/31*19, duration=0.2)\n",
    "pyautogui.click()\n",
    "# 스크롤 올리기\n",
    "pyautogui.scroll(20)\n",
    "# 선수 클릭하기\n",
    "pyautogui.moveTo(screenWidth/18*11, screenHeight/31*19, duration=0.6)\n",
    "pyautogui.click()\n",
    "# hattrick 배경 클릭하기\n",
    "pyautogui.moveTo(screenWidth/110*65, screenHeight/31*19, duration=0.5)\n",
    "pyautogui.click()\n",
    "# 스크롤 올리기\n",
    "pyautogui.scroll(20)\n",
    "# 스킬 테이블 클릭하기\n",
    "pyautogui.moveTo(screenWidth/1400*1099, screenHeight/310*160, duration=3.4)\n",
    "pyautogui.click()\n",
    "# 스크롤 내리기\n",
    "#pyautogui.scroll(-5)  # 선수 29명\n",
    "pyautogui.scroll(-6) # 선수 30명\n",
    "# 클럽에 소속된 시간 나타내기 클릭하기\n",
    "#pyautogui.moveTo(screenWidth/12*8, screenHeight/380*339, duration=4.2) # 선수 29명\n",
    "pyautogui.moveTo(screenWidth/12*8, screenHeight/380*327, duration=4.2) # 선수 30명\n",
    "pyautogui.click()\n",
    "# 복사 클릭하기\n",
    "pyautogui.moveTo(screenWidth/14*11, screenHeight/310*80, duration=7.6)\n",
    "pyautogui.click()\n",
    "# 닫기 클릭하기\n",
    "pyautogui.moveTo(screenWidth/2100*2015, screenHeight/3100*1074, duration=0.5)\n",
    "pyautogui.click()\n",
    "# 스킬 테이블 클릭하기\n",
    "pyautogui.moveTo(screenWidth/2800*2206, screenHeight/3400*815, duration=0.5)\n",
    "pyautogui.click()\n",
    "# 스크롤 올리기\n",
    "pyautogui.scroll(20)\n",
    "# firefox 7번째 tab 클릭하기\n",
    "pyautogui.moveTo(screenWidth/120*103, screenHeight/30*1, duration=0.3)\n",
    "pyautogui.click()"
   ]
  },
  {
   "cell_type": "code",
   "execution_count": 6,
   "metadata": {},
   "outputs": [
    {
     "name": "stdout",
     "output_type": "stream",
     "text": [
      "[table]\n",
      "[tr][th]-[/th][th]#[/th][th]Nat[/th][th]Player[/th][th]Sp[/th][th]Stat[/th][th]Age[/th][th]Since[/th][th]TSI[/th][th]LS[/th][th]XP[/th][th]Fo[/th][th]Stm[/th][th]Lo[/th][th]MB[/th][th]KP[/th][th]DF[/th][th]PM[/th][th]WI[/th][th]PS[/th][th]SC[/th][th]SP[/th][th]Psico[/th][th]Last[/th][th]Rt[/th][th]Pos[/th][th]Wage[/th][th]G[/th][th]TC[/th][th]PH[/th][th]KP[/th][th]WB[/th][th]CD[/th][th]W[/th][th]IM[/th][th]FW[/th][/tr]\n",
      "[tr][td]–[/td][td]1[/td][td]Hanguk[/td][td]Jee-Seung Oh [playerid=427619233][/td][td][/td][td][/td][td]22.38[/td][td]1 시즌   2 주   0 일[/td][td]9270[/td][td]4[/td][td]3[/td][td]7[/td][td]7[/td][td]20[/td][td]✔[/td][td]9[/td][td]3[/td][td]1[/td][td]1[/td][td]1[/td][td]1[/td][td]6[/td][td]924[/td][td]2017-09-03 [playerid=427619233][/td][td]5[/td][td]KP[/td][td]1970000[/td][td]0[/td][td][playerid=427619233][/td][td][playerid=427619233][/td][td]8.68[/td][td]3.96[/td][td]4.04[/td][td]3.23[/td][td]3.11[/td][td]2.9[/td][/tr]\n",
      "[tr][td]–[/td][td]2[/td][td]Hanguk[/td][td]Jee-Hoon Kim [playerid=428709461][/td][td][/td][td][/td][td]19.47[/td][td]10 주   0 일[/td][td]4260[/td][td]3[/td][td]1[/td][td]6[/td][td]6[/td][td]20[/td][td]✔[/td][td]7[/td][td]5[/td][td]1[/td][td]1[/td][td]1[/td][td]2[/td][td]2[/td][td]773[/td][td]2017-09-06 [playerid=428709461][/td][td]4.5[/td][td]KP[/td][td]930000[/td][td]0[/td][td][playerid=428709461][/td][td][playerid=428709461][/td][td]6.46[/td][td]3.92[/td][td]4.07[/td][td]2.63[/td][td]2.45[/td][td]2.38[/td][/tr]\n",
      "[tr][td]–[/td][td]3[/td][td]Hanguk[/td][td]Eun-Seok Hong [playerid=427619235][/td][td][/td][td]Bru[/td][td]29.72[/td][td]1 시즌   2 주   0 일[/td][td]280[/td][td]5[/td][td]4[/td][td]3[/td][td]6[/td][td]20[/td][td]✔[/td][td]1[/td][td]6[/td][td]6[/td][td]3[/td][td]2[/td][td]2[/td][td]4[/td][td]613[/td][td]2017-08-13 [playerid=427619235][/td][td]3.5[/td][td]CD[/td][td]300000[/td][td]1[/td][td][playerid=427619235][/td][td][playerid=427619235][/td][td]2.58[/td][td]4.2[/td][td]4.51[/td][td]3.97[/td][td]4.22[/td][td]3.06[/td][/tr]\n",
      "[tr][td]–[/td][td]4[/td][td]Hanguk[/td][td]Ji-Woon Lee [playerid=427619236][/td][td][/td][td][/td][td]19.88[/td][td]1 시즌   2 주   0 일[/td][td]930[/td][td]5[/td][td]2[/td][td]5[/td][td]7[/td][td]20[/td][td]✔[/td][td]1[/td][td]7[/td][td]4[/td][td]3[/td][td]5[/td][td]2[/td][td]5[/td][td]706[/td][td]2017-09-06 [playerid=427619236][/td][td]3.5[/td][td]CD[/td][td]390000[/td][td]3[/td][td][playerid=427619236][/td][td][playerid=427619236][/td][td]3.65[/td][td]5.85[/td][td]6.1[/td][td]4.97[/td][td]4.93[/td][td]4.02[/td][/tr]\n",
      "[tr][td]–[/td][td]5[/td][td]Hanguk[/td][td]Jang-Soo Choi [playerid=427619237][/td][td]빠름\n",
      "더 많은 정보를 보려면 클릭[/td][td][/td][td]31.22[/td][td]1 시즌   2 주   0 일[/td][td]130[/td][td]5[/td][td]5[/td][td]4[/td][td]5[/td][td]20[/td][td]✔[/td][td]1[/td][td]6[/td][td]4[/td][td]4[/td][td]2[/td][td]1[/td][td]7[/td][td]594[/td][td]2017-09-06 [playerid=427619237][/td][td]2.5[/td][td]WB[/td][td]280000[/td][td]0[/td][td][playerid=427619237][/td][td][playerid=427619237][/td][td]3.2[/td][td]4.97[/td][td]5.03[/td][td]4.33[/td][td]4.16[/td][td]3.19[/td][/tr]\n",
      "[tr][td]–[/td][td]6[/td][td]Hanguk[/td][td]Jae-Shin Cha [playerid=427619238][/td][td][/td][td][/td][td]27.69[/td][td]1 시즌   2 주   0 일[/td][td]1030[/td][td]5[/td][td]5[/td][td]4[/td][td]7[/td][td]20[/td][td]✔[/td][td]1[/td][td]7[/td][td]3[/td][td]6[/td][td]3[/td][td]2[/td][td]6[/td][td]791[/td][td]2017-09-03 [playerid=427619238][/td][td]4[/td][td]WB[/td][td]390000[/td][td]6[/td][td][playerid=427619238][/td][td][playerid=427619238][/td][td]3.64[/td][td]5.86[/td][td]5.58[/td][td]4.78[/td][td]4.13[/td][td]3.79[/td][/tr]\n",
      "[tr][td]–[/td][td]7[/td][td]Hanguk[/td][td]In-Moo Byon [playerid=427619239][/td][td][/td][td][/td][td]32.57[/td][td]1 시즌   2 주   0 일[/td][td]400[/td][td]1[/td][td]6[/td][td]6[/td][td]6[/td][td]20[/td][td]✔[/td][td]2[/td][td]6[/td][td]5[/td][td]5[/td][td]5[/td][td]3[/td][td]6[/td][td]592[/td][td]2017-09-06 [playerid=427619239][/td][td]4[/td][td]CD[/td][td]300000[/td][td]4[/td][td][playerid=427619239][/td][td][playerid=427619239][/td][td]4.71[/td][td]6.71[/td][td]6.75[/td][td]6.39[/td][td]6.27[/td][td]5.55[/td][/tr]\n",
      "[tr][td]–[/td][td]8[/td][td]Hanguk[/td][td]Hong-Chan Son [playerid=427619240][/td][td][/td][td][/td][td]22.17[/td][td]1 시즌   2 주   0 일[/td][td]1100[/td][td]5[/td][td]3[/td][td]6[/td][td]7[/td][td]20[/td][td]✔[/td][td]1[/td][td]5[/td][td]6[/td][td]5[/td][td]5[/td][td]1[/td][td]4[/td][td]630[/td][td]2017-09-03 [playerid=427619240][/td][td]3.5[/td][td]WB[/td][td]310000[/td][td]0[/td][td][playerid=427619240][/td][td][playerid=427619240][/td][td]3.76[/td][td]6.46[/td][td]6.59[/td][td]6.71[/td][td]6.78[/td][td]5.07[/td][/tr]\n",
      "[tr][td]–[/td][td]9[/td][td]Hanguk[/td][td]Hoi-Taek Park [playerid=427619241][/td][td]예측할 수 없음\n",
      "더 많은 정보를 보려면 클릭[/td][td]Y×1[/td][td]20.24[/td][td]1 시즌   2 주   0 일[/td][td]1050[/td][td]2[/td][td]3[/td][td]5[/td][td]6[/td][td]20[/td][td]✔[/td][td]1[/td][td]5[/td][td]6[/td][td]3[/td][td]6[/td][td]3[/td][td]6[/td][td]656[/td][td]2017-09-06 [playerid=427619241][/td][td]3.5[/td][td]IM[/td][td]330000[/td][td]4[/td][td][playerid=427619241][/td][td][playerid=427619241][/td][td]3.3[/td][td]5.37[/td][td]5.78[/td][td]5.63[/td][td]6.08[/td][td]5.02[/td][/tr]\n",
      "[tr][td]–[/td][td]10[/td][td]Hanguk[/td][td]Kwang-Eul Jeon [playerid=427619242][/td][td][/td][td][/td][td]24.23[/td][td]1 시즌   2 주   0 일[/td][td]1610[/td][td]4[/td][td]3[/td][td]7[/td][td]7[/td][td]20[/td][td]✔[/td][td]1[/td][td]6[/td][td]7[/td][td]3[/td][td]3[/td][td]2[/td][td]5[/td][td]760[/td][td]2017-09-03 [playerid=427619242][/td][td]4.5[/td][td]IM[/td][td]430000[/td][td]4[/td][td][playerid=427619242][/td][td][playerid=427619242][/td][td]4.32[/td][td]7.34[/td][td]8.02[/td][td]7.3[/td][td]7.95[/td][td]5.58[/td][/tr]\n",
      "[tr][td]–[/td][td]11[/td][td]Hanguk[/td][td]Kwang-Hwan Yun [playerid=427619243][/td][td][/td][td][/td][td]26.102[/td][td]1 시즌   2 주   0 일[/td][td]930[/td][td]6[/td][td]4[/td][td]7[/td][td]7[/td][td]20[/td][td]✔[/td][td]2[/td][td]5[/td][td]6[/td][td]3[/td][td]5[/td][td]2[/td][td]6[/td][td]648[/td][td]2017-09-06 [playerid=427619243][/td][td]4.5[/td][td]IM[/td][td]330000[/td][td]3[/td][td][playerid=427619243][/td][td][playerid=427619243][/td][td]4.8[/td][td]6.63[/td][td]7.12[/td][td]6.86[/td][td]7.36[/td][td]5.67[/td][/tr]\n",
      "[tr][td]–[/td][td]12[/td][td]Hanguk[/td][td]Chan-Myung Lee [playerid=427619244][/td][td][/td][td][/td][td]25.111[/td][td]1 시즌   2 주   0 일[/td][td]780[/td][td]3[/td][td]4[/td][td]4[/td][td]7[/td][td]20[/td][td]✔[/td][td]1[/td][td]3[/td][td]7[/td][td]3[/td][td]4[/td][td]3[/td][td]4[/td][td]759[/td][td]2017-09-03 [playerid=427619244][/td][td]3[/td][td]W[/td][td]410000[/td][td]2[/td][td][playerid=427619244][/td][td][playerid=427619244][/td][td]2.76[/td][td]4.42[/td][td]4.84[/td][td]5.3[/td][td]5.96[/td][td]4.74[/td][/tr]\n",
      "[tr][td]–[/td][td]13[/td][td]Hanguk[/td][td]Sung-Kook Han [playerid=427619245][/td][td]공 마술사\n",
      "더 많은 정보를 보려면 클릭[/td][td][/td][td]21.99[/td][td]1 시즌   2 주   0 일[/td][td]1310[/td][td]2[/td][td]3[/td][td]5[/td][td]7[/td][td]20[/td][td]✔[/td][td]1[/td][td]5[/td][td]6[/td][td]6[/td][td]5[/td][td]2[/td][td]5[/td][td]635[/td][td]2017-08-23 [playerid=427619245][/td][td]4[/td][td]W[/td][td]330000[/td][td]7[/td][td][playerid=427619245][/td][td][playerid=427619245][/td][td]3.36[/td][td]5.92[/td][td]5.88[/td][td]6.16[/td][td]6.09[/td][td]4.95[/td][/tr]\n",
      "[tr][td]–[/td][td]14[/td][td]Hanguk[/td][td]Se-Jong Cho [playerid=427619246][/td][td][/td][td][/td][td]28.99[/td][td]1 시즌   2 주   0 일[/td][td]830[/td][td]4[/td][td]5[/td][td]6[/td][td]6[/td][td]20[/td][td]✔[/td][td]1[/td][td]5[/td][td]5[/td][td]6[/td][td]3[/td][td]4[/td][td]4[/td][td]614[/td][td]2017-08-30 [playerid=427619246][/td][td]3.5[/td][td]WB[/td][td]290000[/td][td]8[/td][td][playerid=427619246][/td][td][playerid=427619246][/td][td]3.92[/td][td]6.52[/td][td]6.36[/td][td]6.38[/td][td]6.16[/td][td]5.83[/td][/tr]\n",
      "[tr][td]–[/td][td]15[/td][td]Hanguk[/td][td]Man-Ok Lee [playerid=427619247][/td][td]예측할 수 없음\n",
      "더 많은 정보를 보려면 클릭[/td][td][/td][td]23.40[/td][td]1 시즌   2 주   0 일[/td][td]2270[/td][td]5[/td][td]3[/td][td]7[/td][td]7[/td][td]20[/td][td]✔[/td][td]1[/td][td]5[/td][td]5[/td][td]7[/td][td]6[/td][td]2[/td][td]4[/td][td]761[/td][td]2017-09-06 [playerid=427619247][/td][td]5[/td][td]W[/td][td]350000[/td][td]7[/td][td][playerid=427619247][/td][td][playerid=427619247][/td][td]4.06[/td][td]7.11[/td][td]6.74[/td][td]7.23[/td][td]6.73[/td][td]5.96[/td][/tr]\n",
      "[tr][td]–[/td][td]16[/td][td]Hanguk[/td][td]Dong-Shik Kim [playerid=427619248][/td][td][/td][td][/td][td]19.34[/td][td]1 시즌   2 주   0 일[/td][td]1320[/td][td]6[/td][td]2[/td][td]5[/td][td]7[/td][td]20[/td][td]✔[/td][td]1[/td][td]3[/td][td]3[/td][td]6[/td][td]4[/td][td]7[/td][td]6[/td][td]764[/td][td]2017-09-06 [playerid=427619248][/td][td]5[/td][td]FW[/td][td]410000[/td][td]13[/td][td][playerid=427619248][/td][td][playerid=427619248][/td][td]2.72[/td][td]4.28[/td][td]3.83[/td][td]4.39[/td][td]4.02[/td][td]5.54[/td][/tr]\n",
      "[tr][td]–[/td][td]17[/td][td]Hanguk[/td][td]Seung-Mee Kim [playerid=427619249][/td][td]예측할 수 없음\n",
      "더 많은 정보를 보려면 클릭[/td][td][/td][td]34.85[/td][td]1 시즌   2 주   0 일[/td][td]60[/td][td]2[/td][td]6[/td][td]7[/td][td]5[/td][td]20[/td][td]✔[/td][td]1[/td][td]2[/td][td]4[/td][td]3[/td][td]3[/td][td]6[/td][td]5[/td][td]590[/td][td]2017-09-03 [playerid=427619249][/td][td]4.5[/td][td]FW[/td][td]300000[/td][td]16[/td][td][playerid=427619249][/td][td][playerid=427619249][/td][td]3.28[/td][td]4.44[/td][td]4.53[/td][td]5.03[/td][td]5.38[/td][td]6.06[/td][/tr]\n",
      "[tr][td]–[/td][td]18[/td][td]Hanguk[/td][td]Kwang-Rae Kim [playerid=427619250][/td][td]헤딩\n",
      "더 많은 정보를 보려면 클릭[/td][td][/td][td]26.106[/td][td]1 시즌   2 주   0 일[/td][td]800[/td][td]3[/td][td]4[/td][td]3[/td][td]7[/td][td]20[/td][td]✔[/td][td]1[/td][td]2[/td][td]5[/td][td]3[/td][td]6[/td][td]6[/td][td]2[/td][td]648[/td][td]2017-09-06 [playerid=427619250][/td][td]3.5[/td][td]FW[/td][td]310000[/td][td]9[/td][td][playerid=427619250][/td][td][playerid=427619250][/td][td]2.19[/td][td]3.16[/td][td]3.31[/td][td]3.92[/td][td]4.32[/td][td]4.65[/td][/tr]\n",
      "[tr][td]–[/td][td]20[/td][td]Brasil[/td][td]Jader da Matta [playerid=427827635][/td][td][/td][td]Bru[/td][td]32.63[/td][td]12 주   5 일[/td][td]630[/td][td]4[/td][td]6[/td][td]6[/td][td]6[/td][td]10[/td][td][/td][td]2[/td][td]6[/td][td]6[/td][td]5[/td][td]6[/td][td]2[/td][td]5[/td][td]590[/td][td]2017-09-06 [playerid=427827635][/td][td]3.5[/td][td]WB[/td][td]384000[/td][td]1[/td][td][playerid=427827635][/td][td][playerid=427827635][/td][td]3.67[/td][td]5.76[/td][td]5.91[/td][td]5.74[/td][td]5.79[/td][td]4.51[/td][/tr]\n",
      "[tr][td]–[/td][td]21[/td][td]Belgium[/td][td]Jitse Haes [playerid=428112207][/td][td][/td][td]Y×1[/td][td]31.104[/td][td]12 주   6 일[/td][td]860[/td][td]4[/td][td]5[/td][td]6[/td][td]6[/td][td]10[/td][td][/td][td]2[/td][td]6[/td][td]6[/td][td]5[/td][td]6[/td][td]2[/td][td]5[/td][td]595[/td][td]2017-09-03 [playerid=428112207][/td][td]3.5[/td][td]CD[/td][td]384000[/td][td]2[/td][td][playerid=428112207][/td][td][playerid=428112207][/td][td]3.82[/td][td]6.03[/td][td]6.19[/td][td]6.02[/td][td]6.07[/td][td]4.71[/td][/tr]\n",
      "[tr][td]–[/td][td]22[/td][td]Nederland[/td][td]Keith Esser [playerid=428060480][/td][td]빠름\n",
      "더 많은 정보를 보려면 클릭[/td][td][/td][td]32.9[/td][td]12 주   6 일[/td][td]560[/td][td]5[/td][td]6[/td][td]4[/td][td]6[/td][td]10[/td][td][/td][td]2[/td][td]6[/td][td]5[/td][td]6[/td][td]6[/td][td]2[/td][td]6[/td][td]590[/td][td]2017-09-03 [playerid=428060480][/td][td]3[/td][td]W[/td][td]372000[/td][td]1[/td][td][playerid=428060480][/td][td][playerid=428060480][/td][td]3.17[/td][td]4.94[/td][td]4.84[/td][td]4.74[/td][td]4.48[/td][td]3.77[/td][/tr]\n",
      "[tr][td]–[/td][td]23[/td][td]Belgium[/td][td]Mathias Piron [playerid=428125893][/td][td]공 마술사\n",
      "더 많은 정보를 보려면 클릭[/td][td][/td][td]32.73[/td][td]12 주   6 일[/td][td]650[/td][td]6[/td][td]5[/td][td]7[/td][td]6[/td][td]10[/td][td][/td][td]2[/td][td]6[/td][td]6[/td][td]5[/td][td]6[/td][td]3[/td][td]6[/td][td]590[/td][td]2017-09-06 [playerid=428125893][/td][td]3.5[/td][td]W[/td][td]372000[/td][td]2[/td][td][playerid=428125893][/td][td][playerid=428125893][/td][td]4.05[/td][td]6.41[/td][td]6.58[/td][td]6.39[/td][td]6.48[/td][td]5.37[/td][/tr]\n",
      "[tr][td]–[/td][td]24[/td][td]Canada[/td][td]Philippe Morel [playerid=425173438][/td][td]예측할 수 없음\n",
      "더 많은 정보를 보려면 클릭[/td][td]Y×1[/td][td]33.87[/td][td]12 주   5 일[/td][td]310[/td][td]5[/td][td]6[/td][td]7[/td][td]5[/td][td]10[/td][td][/td][td]2[/td][td]6[/td][td]5[/td][td]5[/td][td]5[/td][td]2[/td][td]6[/td][td]590[/td][td]2017-08-30 [playerid=425173438][/td][td]4[/td][td]W[/td][td]360000[/td][td]4[/td][td][playerid=425173438][/td][td][playerid=425173438][/td][td]4.04[/td][td]6.14[/td][td]6.18[/td][td]5.79[/td][td]5.64[/td][td]4.56[/td][/tr]\n",
      "[tr][td]–[/td][td]25[/td][td]Polska[/td][td]Pylyp Nagorniak [playerid=406205227][/td][td][/td][td][/td][td]27.34[/td][td]12 주   6 일[/td][td]1620[/td][td]5[/td][td]3[/td][td]4[/td][td]6[/td][td]10[/td][td][/td][td]1[/td][td]6[/td][td]7[/td][td]3[/td][td]6[/td][td]3[/td][td]6[/td][td]734[/td][td]2017-09-03 [playerid=406205227][/td][td]3[/td][td]IM[/td][td]444000[/td][td]2[/td][td][playerid=406205227][/td][td][playerid=406205227][/td][td]2.38[/td][td]4.53[/td][td]5.02[/td][td]4.69[/td][td]5.19[/td][td]3.89[/td][/tr]\n",
      "[tr][td]–[/td][td]26[/td][td]Türkiye[/td][td]Türker Arkan [playerid=425734621][/td][td][/td][td][/td][td]33.51[/td][td]12 주   5 일[/td][td]530[/td][td]1[/td][td]6[/td][td]5[/td][td]5[/td][td]10[/td][td][/td][td]2[/td][td]6[/td][td]7[/td][td]5[/td][td]6[/td][td]2[/td][td]5[/td][td]680[/td][td]2017-09-03 [playerid=425734621][/td][td]4[/td][td]IM[/td][td]456000[/td][td]11[/td][td][playerid=425734621][/td][td][playerid=425734621][/td][td]3.27[/td][td]5.28[/td][td]5.52[/td][td]5.47[/td][td]5.68[/td][td]4.22[/td][/tr]\n",
      "[tr][td]–[/td][td]29[/td][td]Türkiye[/td][td]Gökhan Menderes [playerid=426926338][/td][td][/td][td][/td][td]19.69[/td][td]4 주   6 일[/td][td]5190[/td][td]4[/td][td]1[/td][td]6[/td][td]5[/td][td]7[/td][td][/td][td]8[/td][td]3[/td][td]2[/td][td]2[/td][td]1[/td][td]1[/td][td]13[/td][td]813[/td][td]2017-09-06 [playerid=426926338][/td][td]3[/td][td]KP[/td][td]1428000[/td][td]0[/td][td][playerid=426926338][/td][td][playerid=426926338][/td][td]5.26[/td][td]2.22[/td][td]2.25[/td][td]1.84[/td][td]1.76[/td][td]1.33[/td][/tr]\n",
      "[tr][td]–[/td][td]30[/td][td]Hanguk[/td][td]Kyoo-Shik Kim [playerid=430373564][/td][td][/td][td][/td][td]18.42[/td][td]2 주   0 일[/td][td]780[/td][td]6[/td][td]1[/td][td]6[/td][td]5[/td][td]20[/td][td]✔[/td][td]1[/td][td]2[/td][td]5[/td][td]4[/td][td]7[/td][td]2[/td][td]3[/td][td]716[/td][td]2017-09-06 [playerid=430373564][/td][td]3[/td][td]IM[/td][td]330000[/td][td]0[/td][td][playerid=430373564][/td][td][playerid=430373564][/td][td]2.2[/td][td]3.61[/td][td]3.65[/td][td]4.68[/td][td]4.91[/td][td]4.31[/td][/tr]\n",
      "[tr][td]–[/td][td]31[/td][td]Hanguk[/td][td]Se-Hee Park [playerid=430626797][/td][td][/td][td][/td][td]18.81[/td][td]1 주   0 일[/td][td]1030[/td][td]4[/td][td]1[/td][td]6[/td][td]5[/td][td]20[/td][td]✔[/td][td]1[/td][td]2[/td][td]5[/td][td]5[/td][td]3[/td][td]7[/td][td]2[/td][td]736[/td][td]2017-09-06 [playerid=430626797][/td][td]4.5[/td][td]FW[/td][td]390000[/td][td]1[/td][td][playerid=430626797][/td][td][playerid=430626797][/td][td]2.23[/td][td]3.81[/td][td]3.71[/td][td]4.62[/td][td]4.82[/td][td]5.6[/td][/tr]\n",
      "[tr][td]–[/td][td]32[/td][td]Hanguk[/td][td]Woo-Jae Kim [playerid=430762543][/td][td]공 마술사\n",
      "더 많은 정보를 보려면 클릭[/td][td][/td][td]18.96[/td][td]0 일[/td][td]90[/td][td]5[/td][td]1[/td][td]6[/td][td]5[/td][td]20[/td][td]✔[/td][td]1[/td][td]4[/td][td]3[/td][td]4[/td][td]3[/td][td]2[/td][td]4[/td][td]413[/td][td][/td][td][/td][td][/td][td]250000[/td][td]0[/td][td][playerid=430762543][/td][td][playerid=430762543][/td][td]2.58[/td][td]4.03[/td][td]3.92[/td][td]3.74[/td][td]3.51[/td][td]3.22[/td][/tr]\n",
      "[tr][td]–[/td][td]99[/td][td]Hanguk[/td][td]Je-Min Jung [playerid=427619232] 코치[/td][td][/td][td][/td][td]41.50[/td][td]1 시즌   2 주   0 일[/td][td]0[/td][td]4[/td][td]8[/td][td]3[/td][td]1[/td][td]20[/td][td]✔[/td][td]0[/td][td]0[/td][td]0[/td][td]0[/td][td]0[/td][td]0[/td][td]1[/td][td]340[/td][td][/td][td][/td][td][/td][td]250000[/td][td]0[/td][td][playerid=427619232][/td][td][playerid=427619232][/td][td]1.03[/td][td]1.03[/td][td]1.03[/td][td]1.03[/td][td]1.03[/td][td]1.03[/td][/tr]\n",
      "[/table]\n"
     ]
    }
   ],
   "source": [
    "import pyperclip # The name you have the file\n",
    "tmpClip = pyperclip.paste()\n",
    "print(tmpClip)"
   ]
  },
  {
   "cell_type": "code",
   "execution_count": 7,
   "metadata": {},
   "outputs": [
    {
     "name": "stdout",
     "output_type": "stream",
     "text": [
      "2017/09/09\t\t : will be created\n",
      "2017/09/09/player.html\t : is not exists\n"
     ]
    }
   ],
   "source": [
    "import os.path\n",
    "filePath = folder + '/player.html'\n",
    "\n",
    "if not os.path.exists(folder):\n",
    "    print(folder + \"\\t\\t : will be created\")\n",
    "    os.makedirs(folder)\n",
    "else :\n",
    "    print(folder + \"\\t\\t : is existed\")\n",
    "\n",
    "if ( os.path.exists(filePath) ):\n",
    "    print(filePath + \"\\t : will be removed\")\n",
    "    os.remove(filePath)\n",
    "    \n",
    "if not os.path.exists(filePath):\n",
    "    print(filePath + \"\\t : is not exists\")"
   ]
  },
  {
   "cell_type": "code",
   "execution_count": 8,
   "metadata": {
    "collapsed": true
   },
   "outputs": [],
   "source": [
    "with open(folder+'/player.html', 'a') as f:\n",
    "    f.write(tmpClip)"
   ]
  },
  {
   "cell_type": "code",
   "execution_count": 9,
   "metadata": {
    "collapsed": true
   },
   "outputs": [],
   "source": [
    "def removeHattrickTag(inputList):\n",
    "    outputList = list();\n",
    "    for line in inputList:\n",
    "        if line.find('table') == -1:\n",
    "            line = line.replace('[tr]', '')\n",
    "            line = line.replace('[/tr]', '')\n",
    "            line = line.replace('[th]', '')\n",
    "            line = line.replace('[/th]', ',')\n",
    "            line = line.replace('[td]', '')\n",
    "            line = line.replace('[/td]', ',')\n",
    "            outputList.append(line)\n",
    "    return outputList"
   ]
  },
  {
   "cell_type": "code",
   "execution_count": 10,
   "metadata": {
    "collapsed": true
   },
   "outputs": [],
   "source": [
    "def combineTwoLine(inputList):\n",
    "    outputStr = \"\";\n",
    "    for line in inputList:\n",
    "        col = line.split(\",\")\n",
    "        #print(len(col), line, sep=\"\\t\")\n",
    "        if len(col) == 37 : \n",
    "            outputStr = outputStr + line + \"\\n\"\n",
    "        if len(col) == 5 : \n",
    "            outputStr = outputStr + line \n",
    "        if len(col) == 33 : \n",
    "            for i in range(1, 33):\n",
    "                outputStr = outputStr + \",\" + col[i]\n",
    "            outputStr = outputStr + \"\\n\"\n",
    "    outputStr = outputStr[:-1]\n",
    "    return outputStr.split(\"\\n\")"
   ]
  },
  {
   "cell_type": "code",
   "execution_count": 11,
   "metadata": {
    "collapsed": true
   },
   "outputs": [],
   "source": [
    "def modifySharpToNumber(inputList):\n",
    "    outputList = list();\n",
    "    for line in inputList:\n",
    "        if line.find(\"#\") > -1 : line = line.replace(\"#\", \"Number\")\n",
    "        outputList.append(line)\n",
    "    return outputList"
   ]
  },
  {
   "cell_type": "code",
   "execution_count": 12,
   "metadata": {
    "collapsed": true
   },
   "outputs": [],
   "source": [
    "def modifySpToSpecial(inputList):\n",
    "    outputList = list();\n",
    "    for line in inputList:\n",
    "        if line.find(\"Sp\") > -1 : \n",
    "            line = line.replace(\"Sp\", \"Special\", 1)\n",
    "        else :\n",
    "            line = line.replace(\"공 마술사\", \"Technical\", 1)\n",
    "            line = line.replace(\"빠름\", \"Quick\", 1)\n",
    "            line = line.replace(\"헤딩\", \"Head\", 1)\n",
    "            line = line.replace(\"힘\", \"Powerful\", 1)\n",
    "            line = line.replace(\"예측할 수 없음\", \"Unpredictable\", 1)\n",
    "        outputList.append(line)\n",
    "    return outputList"
   ]
  },
  {
   "cell_type": "code",
   "execution_count": 13,
   "metadata": {
    "collapsed": true
   },
   "outputs": [],
   "source": [
    "def removeFirstColumn(inputList):\n",
    "    outputList = list();\n",
    "    for line in inputList:\n",
    "        col = line.split(\",\")\n",
    "        tmpStr = \"\"\n",
    "        \n",
    "        for i in range(1,len(col)):\n",
    "            tmpStr += col[i] + \",\"\n",
    "        tmpStr = tmpStr[:-1]\n",
    "        outputList.append(tmpStr)\n",
    "    return outputList"
   ]
  },
  {
   "cell_type": "code",
   "execution_count": 14,
   "metadata": {
    "collapsed": true
   },
   "outputs": [],
   "source": [
    "def dividePlayerAndPlayerID(inputList):\n",
    "    outputList = list();\n",
    "    for line in inputList:\n",
    "        col = line.split(\",\")\n",
    "        tmpStr = \"\"\n",
    "        if col[2] == \"Player\": \n",
    "            col[2] = \"Player,PlayerID\"\n",
    "            tmpStr += col[0]\n",
    "            for i in range(1, len(col)):\n",
    "                tmpStr += \",\" + col[i]\n",
    "            outputList.append(tmpStr)\n",
    "        else : \n",
    "            tmpStr = col[2].replace(\" [playerid=\", \",\", 1)\n",
    "            endIndex = tmpStr.find(\"]\")\n",
    "            col[2] = tmpStr[:endIndex]\n",
    "            \n",
    "            tmpStr = col[0]\n",
    "            for i in range(1, len(col)):\n",
    "                tmpStr += \",\" + col[i]\n",
    "            outputList.append(tmpStr)\n",
    "    return outputList"
   ]
  },
  {
   "cell_type": "code",
   "execution_count": 15,
   "metadata": {
    "collapsed": true
   },
   "outputs": [],
   "source": [
    "from datetime import datetime\n",
    "from dateutil.relativedelta import relativedelta\n",
    "import re"
   ]
  },
  {
   "cell_type": "code",
   "execution_count": 40,
   "metadata": {},
   "outputs": [],
   "source": [
    "class SeasonWeekDay:\n",
    "    \n",
    "    def __init__(self, timeStr):\n",
    "        for myStr in timeStr.split(' '):\n",
    "            if ( re.search('시즌', myStr) ):\n",
    "                self.seasonInt = int(myStr[:-2])\n",
    "            if ( re.search('주', myStr) ):\n",
    "                self.weekInt = int(myStr[:-1])\n",
    "            if ( re.search('일', myStr) ):\n",
    "                self.dayInt = int(myStr[:-1])\n",
    "    \n",
    "    def display(self):\n",
    "        outStr = ''\n",
    "        if (hasattr(self, 'seasonInt')):\n",
    "            if (self.seasonInt > 0):\n",
    "                outStr += str(self.seasonInt) + '시즌 '\n",
    "        if (hasattr(self, 'weekInt')):\n",
    "            outStr += str(self.weekInt) + '주 '\n",
    "        if (hasattr(self, 'dayInt')):\n",
    "            outStr += str(self.dayInt) + '일'\n",
    "        return outStr\n",
    "    \n",
    "    def modify(self, diffDayInt):\n",
    "        if (self.dayInt >= diffDayInt):\n",
    "            self.dayInt = self.dayInt - diffDayInt\n",
    "        else :\n",
    "            if (self.weekInt > 0):\n",
    "                self.weekInt -= 1\n",
    "                self.dayInt = self.dayInt - diffDayInt + 7\n",
    "            else :\n",
    "                if (self.weekInt == 0):\n",
    "                    self.seasonInt -= 1\n",
    "                    self.weekInt = 15\n",
    "                    self.dayInt = self.dayInt - diffDayInt + 7"
   ]
  },
  {
   "cell_type": "code",
   "execution_count": 37,
   "metadata": {
    "collapsed": true
   },
   "outputs": [],
   "source": [
    "def modifySince(inputList, targetStr, nowStr):   \n",
    "    outputList = list();\n",
    "    for line in inputList:\n",
    "        col = line.split(\",\")\n",
    "        if col[7] != \"Since\":            \n",
    "            col[7] = col[7].replace(\" 시즌\", \"시즌\", 1).replace(\"시즌 \", \"시즌\", 1).replace(\"시즌 \", \"시즌\", 1)\n",
    "            col[7] = col[7].replace(\" 주\", \"주\", 1).replace(\"주 \", \"주\", 1).replace(\"주 \", \"주\", 1)\n",
    "            col[7] = col[7].replace(\" 일\", \"일\", 1)\n",
    "            \n",
    "            targetDay = datetime.strptime(targetStr, '%Y/%m/%d').date()\n",
    "            nowDay = datetime.strptime(nowStr, '%Y/%m/%d').date()\n",
    "            diffDay = relativedelta(nowDay, targetDay)\n",
    "            \n",
    "            print(col[7])\n",
    "\n",
    "            modifySinceStr = SeasonWeekDay(col[7])\n",
    "            modifySinceStr.modify(int(diffDay.days))\n",
    "            \n",
    "            #print(int(diffDay.days), col[7], modifySinceStr.display())\n",
    "            col[7] = modifySinceStr.display()\n",
    "            \n",
    "            tmpStr = col[0]\n",
    "            for i in range(1, len(col)):\n",
    "                tmpStr += \",\" + col[i]\n",
    "            \n",
    "            outputList.append(tmpStr)\n",
    "        else:\n",
    "            outputList.append(line)\n",
    "    return outputList"
   ]
  },
  {
   "cell_type": "code",
   "execution_count": 18,
   "metadata": {
    "collapsed": true
   },
   "outputs": [],
   "source": [
    "def modifyMB(inputList):\n",
    "    outputList = list();\n",
    "    for line in inputList:\n",
    "        col = line.split(\",\")\n",
    "        if col[14] == \"MB\":\n",
    "            outputList.append(line)\n",
    "        if len( col[14] ) == 1:\n",
    "            tmpLine = line.replace(\"✔\", \"TRUE\", 1)\n",
    "            outputList.append(tmpLine)\n",
    "        if len( col[14] ) == 0:\n",
    "            col[14] = \"FALSE\"\n",
    "            tmpLine = col[0]\n",
    "            for i in range(1, len(col) ):\n",
    "                tmpLine += \",\" + col[i]\n",
    "            outputList.append(tmpLine)\n",
    "    return outputList"
   ]
  },
  {
   "cell_type": "code",
   "execution_count": 19,
   "metadata": {
    "collapsed": true
   },
   "outputs": [],
   "source": [
    "def modifyLast(inputList):\n",
    "    outputList = list();\n",
    "    for line in inputList:\n",
    "        col = line.split(\",\")\n",
    "        if col[23] == \"Last\":\n",
    "            outputList.append(line)\n",
    "        else :\n",
    "            col[23] = col[23][:10]\n",
    "            tmpLine = col[0]\n",
    "            for i in range(1, len(col)):\n",
    "                tmpLine += \",\" + col[i]\n",
    "            outputList.append(tmpLine)\n",
    "    return outputList"
   ]
  },
  {
   "cell_type": "code",
   "execution_count": 20,
   "metadata": {
    "collapsed": true
   },
   "outputs": [],
   "source": [
    "def assignEmptyForTC(inputList):\n",
    "    outputList = list();\n",
    "    for line in inputList:\n",
    "        col = line.split(\",\")\n",
    "        if col[28] == \"TC\":\n",
    "            outputList.append(line)\n",
    "        else :\n",
    "            col[28] = \"\"\n",
    "            tmpLine = col[0]\n",
    "            for i in range(1, len(col)):\n",
    "                tmpLine += \",\" + col[i]\n",
    "            outputList.append(tmpLine)\n",
    "    return outputList"
   ]
  },
  {
   "cell_type": "code",
   "execution_count": 21,
   "metadata": {
    "collapsed": true
   },
   "outputs": [],
   "source": [
    "def assignEmptyForPH(inputList):\n",
    "    outputList = list();\n",
    "    for line in inputList:\n",
    "        col = line.split(\",\")\n",
    "        if col[29] == \"PH\":\n",
    "            outputList.append(line)\n",
    "        else :\n",
    "            col[29] = \"\"\n",
    "            tmpLine = col[0]\n",
    "            for i in range(1, len(col)):\n",
    "                tmpLine += \",\" + col[i]\n",
    "            outputList.append(tmpLine)\n",
    "    return outputList"
   ]
  },
  {
   "cell_type": "code",
   "execution_count": 22,
   "metadata": {
    "collapsed": true
   },
   "outputs": [],
   "source": [
    "def modifyKPPos(inputList):\n",
    "    outputList = list();\n",
    "    for line in inputList:\n",
    "        col = line.split(\",\")\n",
    "        if col[30] == \"KP\": \n",
    "            col[30] = \"KPPos\"\n",
    "            tmpLine =col[0]\n",
    "            for i in range(1, len(col)):\n",
    "                tmpLine += \",\" + col[i]\n",
    "            outputList.append(tmpLine)\n",
    "        else :\n",
    "            outputList.append(line)\n",
    "    return outputList"
   ]
  },
  {
   "cell_type": "code",
   "execution_count": 23,
   "metadata": {
    "collapsed": true
   },
   "outputs": [],
   "source": [
    "def modifyWBPos(inputList):\n",
    "    outputList = list();\n",
    "    for line in inputList:\n",
    "        col = line.split(\",\")\n",
    "        if col[31] == \"WB\": \n",
    "            col[31] = \"WBPos\"\n",
    "            tmpLine =col[0]\n",
    "            for i in range(1, len(col)):\n",
    "                tmpLine += \",\" + col[i]\n",
    "            outputList.append(tmpLine)\n",
    "        else :\n",
    "            outputList.append(line)\n",
    "    return outputList"
   ]
  },
  {
   "cell_type": "code",
   "execution_count": 24,
   "metadata": {
    "collapsed": true
   },
   "outputs": [],
   "source": [
    "def modifyCDPos(inputList):\n",
    "    outputList = list();\n",
    "    for line in inputList:\n",
    "        col = line.split(\",\")\n",
    "        if col[32] == \"CD\": \n",
    "            col[32] = \"CDPos\"\n",
    "            tmpLine =col[0]\n",
    "            for i in range(1, len(col)):\n",
    "                tmpLine += \",\" + col[i]\n",
    "            outputList.append(tmpLine)\n",
    "        else :\n",
    "            outputList.append(line)\n",
    "    return outputList"
   ]
  },
  {
   "cell_type": "code",
   "execution_count": 25,
   "metadata": {
    "collapsed": true
   },
   "outputs": [],
   "source": [
    "def modifyWPos(inputList):\n",
    "    outputList = list();\n",
    "    for line in inputList:\n",
    "        col = line.split(\",\")\n",
    "        if col[33] == \"W\": \n",
    "            col[33] = \"WPos\"\n",
    "            tmpLine =col[0]\n",
    "            for i in range(1, len(col)):\n",
    "                tmpLine += \",\" + col[i]\n",
    "            outputList.append(tmpLine)\n",
    "        else :\n",
    "            outputList.append(line)\n",
    "    return outputList"
   ]
  },
  {
   "cell_type": "code",
   "execution_count": 26,
   "metadata": {
    "collapsed": true
   },
   "outputs": [],
   "source": [
    "def modifyIMPos(inputList):\n",
    "    outputList = list();\n",
    "    for line in inputList:\n",
    "        col = line.split(\",\")\n",
    "        if col[34] == \"IM\": \n",
    "            col[34] = \"IMPos\"\n",
    "            tmpLine =col[0]\n",
    "            for i in range(1, len(col)):\n",
    "                tmpLine += \",\" + col[i]\n",
    "            outputList.append(tmpLine)\n",
    "        else :\n",
    "            outputList.append(line)\n",
    "    return outputList"
   ]
  },
  {
   "cell_type": "code",
   "execution_count": 27,
   "metadata": {
    "collapsed": true
   },
   "outputs": [],
   "source": [
    "def modifyFWPos(inputList):\n",
    "    outputList = list();\n",
    "    for line in inputList:\n",
    "        col = line.split(\",\")\n",
    "        if col[35] == \"FW\": \n",
    "            col[35] = \"FWPos\"\n",
    "            tmpLine =col[0]\n",
    "            for i in range(1, len(col)):\n",
    "                tmpLine += \",\" + col[i]\n",
    "            outputList.append(tmpLine)\n",
    "        else :\n",
    "            outputList.append(line)\n",
    "    return outputList"
   ]
  },
  {
   "cell_type": "code",
   "execution_count": 28,
   "metadata": {
    "collapsed": true
   },
   "outputs": [],
   "source": [
    "def removeLastString(inputList):\n",
    "    outputList = list();\n",
    "    for line in inputList:\n",
    "        outputList.append( line[0:-1] )\n",
    "    return outputList"
   ]
  },
  {
   "cell_type": "code",
   "execution_count": 41,
   "metadata": {},
   "outputs": [
    {
     "data": {
      "text/plain": [
       "['[table]',\n",
       " '[tr][th]-[/th][th]#[/th][th]Nat[/th][th]Player[/th][th]Sp[/th][th]Stat[/th][th]Age[/th][th]Since[/th][th]TSI[/th][th]LS[/th][th]XP[/th][th]Fo[/th][th]Stm[/th][th]Lo[/th][th]MB[/th][th]KP[/th][th]DF[/th][th]PM[/th][th]WI[/th][th]PS[/th][th]SC[/th][th]SP[/th][th]Psico[/th][th]Last[/th][th]Rt[/th][th]Pos[/th][th]Wage[/th][th]G[/th][th]TC[/th][th]PH[/th][th]KP[/th][th]WB[/th][th]CD[/th][th]W[/th][th]IM[/th][th]FW[/th][/tr]',\n",
       " '[tr][td]–[/td][td]1[/td][td]Hanguk[/td][td]Jee-Seung Oh [playerid=427619233][/td][td][/td][td][/td][td]22.38[/td][td]1 시즌   2 주   0 일[/td][td]9270[/td][td]4[/td][td]3[/td][td]7[/td][td]7[/td][td]20[/td][td]✔[/td][td]9[/td][td]3[/td][td]1[/td][td]1[/td][td]1[/td][td]1[/td][td]6[/td][td]924[/td][td]2017-09-03 [playerid=427619233][/td][td]5[/td][td]KP[/td][td]1970000[/td][td]0[/td][td][playerid=427619233][/td][td][playerid=427619233][/td][td]8.68[/td][td]3.96[/td][td]4.04[/td][td]3.23[/td][td]3.11[/td][td]2.9[/td][/tr]',\n",
       " '[tr][td]–[/td][td]2[/td][td]Hanguk[/td][td]Jee-Hoon Kim [playerid=428709461][/td][td][/td][td][/td][td]19.47[/td][td]10 주   0 일[/td][td]4260[/td][td]3[/td][td]1[/td][td]6[/td][td]6[/td][td]20[/td][td]✔[/td][td]7[/td][td]5[/td][td]1[/td][td]1[/td][td]1[/td][td]2[/td][td]2[/td][td]773[/td][td]2017-09-06 [playerid=428709461][/td][td]4.5[/td][td]KP[/td][td]930000[/td][td]0[/td][td][playerid=428709461][/td][td][playerid=428709461][/td][td]6.46[/td][td]3.92[/td][td]4.07[/td][td]2.63[/td][td]2.45[/td][td]2.38[/td][/tr]',\n",
       " '[tr][td]–[/td][td]3[/td][td]Hanguk[/td][td]Eun-Seok Hong [playerid=427619235][/td][td][/td][td]Bru[/td][td]29.72[/td][td]1 시즌   2 주   0 일[/td][td]280[/td][td]5[/td][td]4[/td][td]3[/td][td]6[/td][td]20[/td][td]✔[/td][td]1[/td][td]6[/td][td]6[/td][td]3[/td][td]2[/td][td]2[/td][td]4[/td][td]613[/td][td]2017-08-13 [playerid=427619235][/td][td]3.5[/td][td]CD[/td][td]300000[/td][td]1[/td][td][playerid=427619235][/td][td][playerid=427619235][/td][td]2.58[/td][td]4.2[/td][td]4.51[/td][td]3.97[/td][td]4.22[/td][td]3.06[/td][/tr]',\n",
       " '[tr][td]–[/td][td]4[/td][td]Hanguk[/td][td]Ji-Woon Lee [playerid=427619236][/td][td][/td][td][/td][td]19.88[/td][td]1 시즌   2 주   0 일[/td][td]930[/td][td]5[/td][td]2[/td][td]5[/td][td]7[/td][td]20[/td][td]✔[/td][td]1[/td][td]7[/td][td]4[/td][td]3[/td][td]5[/td][td]2[/td][td]5[/td][td]706[/td][td]2017-09-06 [playerid=427619236][/td][td]3.5[/td][td]CD[/td][td]390000[/td][td]3[/td][td][playerid=427619236][/td][td][playerid=427619236][/td][td]3.65[/td][td]5.85[/td][td]6.1[/td][td]4.97[/td][td]4.93[/td][td]4.02[/td][/tr]',\n",
       " '[tr][td]–[/td][td]5[/td][td]Hanguk[/td][td]Jang-Soo Choi [playerid=427619237][/td][td]빠름',\n",
       " '더 많은 정보를 보려면 클릭[/td][td][/td][td]31.22[/td][td]1 시즌   2 주   0 일[/td][td]130[/td][td]5[/td][td]5[/td][td]4[/td][td]5[/td][td]20[/td][td]✔[/td][td]1[/td][td]6[/td][td]4[/td][td]4[/td][td]2[/td][td]1[/td][td]7[/td][td]594[/td][td]2017-09-06 [playerid=427619237][/td][td]2.5[/td][td]WB[/td][td]280000[/td][td]0[/td][td][playerid=427619237][/td][td][playerid=427619237][/td][td]3.2[/td][td]4.97[/td][td]5.03[/td][td]4.33[/td][td]4.16[/td][td]3.19[/td][/tr]',\n",
       " '[tr][td]–[/td][td]6[/td][td]Hanguk[/td][td]Jae-Shin Cha [playerid=427619238][/td][td][/td][td][/td][td]27.69[/td][td]1 시즌   2 주   0 일[/td][td]1030[/td][td]5[/td][td]5[/td][td]4[/td][td]7[/td][td]20[/td][td]✔[/td][td]1[/td][td]7[/td][td]3[/td][td]6[/td][td]3[/td][td]2[/td][td]6[/td][td]791[/td][td]2017-09-03 [playerid=427619238][/td][td]4[/td][td]WB[/td][td]390000[/td][td]6[/td][td][playerid=427619238][/td][td][playerid=427619238][/td][td]3.64[/td][td]5.86[/td][td]5.58[/td][td]4.78[/td][td]4.13[/td][td]3.79[/td][/tr]',\n",
       " '[tr][td]–[/td][td]7[/td][td]Hanguk[/td][td]In-Moo Byon [playerid=427619239][/td][td][/td][td][/td][td]32.57[/td][td]1 시즌   2 주   0 일[/td][td]400[/td][td]1[/td][td]6[/td][td]6[/td][td]6[/td][td]20[/td][td]✔[/td][td]2[/td][td]6[/td][td]5[/td][td]5[/td][td]5[/td][td]3[/td][td]6[/td][td]592[/td][td]2017-09-06 [playerid=427619239][/td][td]4[/td][td]CD[/td][td]300000[/td][td]4[/td][td][playerid=427619239][/td][td][playerid=427619239][/td][td]4.71[/td][td]6.71[/td][td]6.75[/td][td]6.39[/td][td]6.27[/td][td]5.55[/td][/tr]',\n",
       " '[tr][td]–[/td][td]8[/td][td]Hanguk[/td][td]Hong-Chan Son [playerid=427619240][/td][td][/td][td][/td][td]22.17[/td][td]1 시즌   2 주   0 일[/td][td]1100[/td][td]5[/td][td]3[/td][td]6[/td][td]7[/td][td]20[/td][td]✔[/td][td]1[/td][td]5[/td][td]6[/td][td]5[/td][td]5[/td][td]1[/td][td]4[/td][td]630[/td][td]2017-09-03 [playerid=427619240][/td][td]3.5[/td][td]WB[/td][td]310000[/td][td]0[/td][td][playerid=427619240][/td][td][playerid=427619240][/td][td]3.76[/td][td]6.46[/td][td]6.59[/td][td]6.71[/td][td]6.78[/td][td]5.07[/td][/tr]',\n",
       " '[tr][td]–[/td][td]9[/td][td]Hanguk[/td][td]Hoi-Taek Park [playerid=427619241][/td][td]예측할 수 없음',\n",
       " '더 많은 정보를 보려면 클릭[/td][td]Y×1[/td][td]20.24[/td][td]1 시즌   2 주   0 일[/td][td]1050[/td][td]2[/td][td]3[/td][td]5[/td][td]6[/td][td]20[/td][td]✔[/td][td]1[/td][td]5[/td][td]6[/td][td]3[/td][td]6[/td][td]3[/td][td]6[/td][td]656[/td][td]2017-09-06 [playerid=427619241][/td][td]3.5[/td][td]IM[/td][td]330000[/td][td]4[/td][td][playerid=427619241][/td][td][playerid=427619241][/td][td]3.3[/td][td]5.37[/td][td]5.78[/td][td]5.63[/td][td]6.08[/td][td]5.02[/td][/tr]',\n",
       " '[tr][td]–[/td][td]10[/td][td]Hanguk[/td][td]Kwang-Eul Jeon [playerid=427619242][/td][td][/td][td][/td][td]24.23[/td][td]1 시즌   2 주   0 일[/td][td]1610[/td][td]4[/td][td]3[/td][td]7[/td][td]7[/td][td]20[/td][td]✔[/td][td]1[/td][td]6[/td][td]7[/td][td]3[/td][td]3[/td][td]2[/td][td]5[/td][td]760[/td][td]2017-09-03 [playerid=427619242][/td][td]4.5[/td][td]IM[/td][td]430000[/td][td]4[/td][td][playerid=427619242][/td][td][playerid=427619242][/td][td]4.32[/td][td]7.34[/td][td]8.02[/td][td]7.3[/td][td]7.95[/td][td]5.58[/td][/tr]',\n",
       " '[tr][td]–[/td][td]11[/td][td]Hanguk[/td][td]Kwang-Hwan Yun [playerid=427619243][/td][td][/td][td][/td][td]26.102[/td][td]1 시즌   2 주   0 일[/td][td]930[/td][td]6[/td][td]4[/td][td]7[/td][td]7[/td][td]20[/td][td]✔[/td][td]2[/td][td]5[/td][td]6[/td][td]3[/td][td]5[/td][td]2[/td][td]6[/td][td]648[/td][td]2017-09-06 [playerid=427619243][/td][td]4.5[/td][td]IM[/td][td]330000[/td][td]3[/td][td][playerid=427619243][/td][td][playerid=427619243][/td][td]4.8[/td][td]6.63[/td][td]7.12[/td][td]6.86[/td][td]7.36[/td][td]5.67[/td][/tr]',\n",
       " '[tr][td]–[/td][td]12[/td][td]Hanguk[/td][td]Chan-Myung Lee [playerid=427619244][/td][td][/td][td][/td][td]25.111[/td][td]1 시즌   2 주   0 일[/td][td]780[/td][td]3[/td][td]4[/td][td]4[/td][td]7[/td][td]20[/td][td]✔[/td][td]1[/td][td]3[/td][td]7[/td][td]3[/td][td]4[/td][td]3[/td][td]4[/td][td]759[/td][td]2017-09-03 [playerid=427619244][/td][td]3[/td][td]W[/td][td]410000[/td][td]2[/td][td][playerid=427619244][/td][td][playerid=427619244][/td][td]2.76[/td][td]4.42[/td][td]4.84[/td][td]5.3[/td][td]5.96[/td][td]4.74[/td][/tr]',\n",
       " '[tr][td]–[/td][td]13[/td][td]Hanguk[/td][td]Sung-Kook Han [playerid=427619245][/td][td]공 마술사',\n",
       " '더 많은 정보를 보려면 클릭[/td][td][/td][td]21.99[/td][td]1 시즌   2 주   0 일[/td][td]1310[/td][td]2[/td][td]3[/td][td]5[/td][td]7[/td][td]20[/td][td]✔[/td][td]1[/td][td]5[/td][td]6[/td][td]6[/td][td]5[/td][td]2[/td][td]5[/td][td]635[/td][td]2017-08-23 [playerid=427619245][/td][td]4[/td][td]W[/td][td]330000[/td][td]7[/td][td][playerid=427619245][/td][td][playerid=427619245][/td][td]3.36[/td][td]5.92[/td][td]5.88[/td][td]6.16[/td][td]6.09[/td][td]4.95[/td][/tr]',\n",
       " '[tr][td]–[/td][td]14[/td][td]Hanguk[/td][td]Se-Jong Cho [playerid=427619246][/td][td][/td][td][/td][td]28.99[/td][td]1 시즌   2 주   0 일[/td][td]830[/td][td]4[/td][td]5[/td][td]6[/td][td]6[/td][td]20[/td][td]✔[/td][td]1[/td][td]5[/td][td]5[/td][td]6[/td][td]3[/td][td]4[/td][td]4[/td][td]614[/td][td]2017-08-30 [playerid=427619246][/td][td]3.5[/td][td]WB[/td][td]290000[/td][td]8[/td][td][playerid=427619246][/td][td][playerid=427619246][/td][td]3.92[/td][td]6.52[/td][td]6.36[/td][td]6.38[/td][td]6.16[/td][td]5.83[/td][/tr]',\n",
       " '[tr][td]–[/td][td]15[/td][td]Hanguk[/td][td]Man-Ok Lee [playerid=427619247][/td][td]예측할 수 없음',\n",
       " '더 많은 정보를 보려면 클릭[/td][td][/td][td]23.40[/td][td]1 시즌   2 주   0 일[/td][td]2270[/td][td]5[/td][td]3[/td][td]7[/td][td]7[/td][td]20[/td][td]✔[/td][td]1[/td][td]5[/td][td]5[/td][td]7[/td][td]6[/td][td]2[/td][td]4[/td][td]761[/td][td]2017-09-06 [playerid=427619247][/td][td]5[/td][td]W[/td][td]350000[/td][td]7[/td][td][playerid=427619247][/td][td][playerid=427619247][/td][td]4.06[/td][td]7.11[/td][td]6.74[/td][td]7.23[/td][td]6.73[/td][td]5.96[/td][/tr]',\n",
       " '[tr][td]–[/td][td]16[/td][td]Hanguk[/td][td]Dong-Shik Kim [playerid=427619248][/td][td][/td][td][/td][td]19.34[/td][td]1 시즌   2 주   0 일[/td][td]1320[/td][td]6[/td][td]2[/td][td]5[/td][td]7[/td][td]20[/td][td]✔[/td][td]1[/td][td]3[/td][td]3[/td][td]6[/td][td]4[/td][td]7[/td][td]6[/td][td]764[/td][td]2017-09-06 [playerid=427619248][/td][td]5[/td][td]FW[/td][td]410000[/td][td]13[/td][td][playerid=427619248][/td][td][playerid=427619248][/td][td]2.72[/td][td]4.28[/td][td]3.83[/td][td]4.39[/td][td]4.02[/td][td]5.54[/td][/tr]',\n",
       " '[tr][td]–[/td][td]17[/td][td]Hanguk[/td][td]Seung-Mee Kim [playerid=427619249][/td][td]예측할 수 없음',\n",
       " '더 많은 정보를 보려면 클릭[/td][td][/td][td]34.85[/td][td]1 시즌   2 주   0 일[/td][td]60[/td][td]2[/td][td]6[/td][td]7[/td][td]5[/td][td]20[/td][td]✔[/td][td]1[/td][td]2[/td][td]4[/td][td]3[/td][td]3[/td][td]6[/td][td]5[/td][td]590[/td][td]2017-09-03 [playerid=427619249][/td][td]4.5[/td][td]FW[/td][td]300000[/td][td]16[/td][td][playerid=427619249][/td][td][playerid=427619249][/td][td]3.28[/td][td]4.44[/td][td]4.53[/td][td]5.03[/td][td]5.38[/td][td]6.06[/td][/tr]',\n",
       " '[tr][td]–[/td][td]18[/td][td]Hanguk[/td][td]Kwang-Rae Kim [playerid=427619250][/td][td]헤딩',\n",
       " '더 많은 정보를 보려면 클릭[/td][td][/td][td]26.106[/td][td]1 시즌   2 주   0 일[/td][td]800[/td][td]3[/td][td]4[/td][td]3[/td][td]7[/td][td]20[/td][td]✔[/td][td]1[/td][td]2[/td][td]5[/td][td]3[/td][td]6[/td][td]6[/td][td]2[/td][td]648[/td][td]2017-09-06 [playerid=427619250][/td][td]3.5[/td][td]FW[/td][td]310000[/td][td]9[/td][td][playerid=427619250][/td][td][playerid=427619250][/td][td]2.19[/td][td]3.16[/td][td]3.31[/td][td]3.92[/td][td]4.32[/td][td]4.65[/td][/tr]',\n",
       " '[tr][td]–[/td][td]20[/td][td]Brasil[/td][td]Jader da Matta [playerid=427827635][/td][td][/td][td]Bru[/td][td]32.63[/td][td]12 주   5 일[/td][td]630[/td][td]4[/td][td]6[/td][td]6[/td][td]6[/td][td]10[/td][td][/td][td]2[/td][td]6[/td][td]6[/td][td]5[/td][td]6[/td][td]2[/td][td]5[/td][td]590[/td][td]2017-09-06 [playerid=427827635][/td][td]3.5[/td][td]WB[/td][td]384000[/td][td]1[/td][td][playerid=427827635][/td][td][playerid=427827635][/td][td]3.67[/td][td]5.76[/td][td]5.91[/td][td]5.74[/td][td]5.79[/td][td]4.51[/td][/tr]',\n",
       " '[tr][td]–[/td][td]21[/td][td]Belgium[/td][td]Jitse Haes [playerid=428112207][/td][td][/td][td]Y×1[/td][td]31.104[/td][td]12 주   6 일[/td][td]860[/td][td]4[/td][td]5[/td][td]6[/td][td]6[/td][td]10[/td][td][/td][td]2[/td][td]6[/td][td]6[/td][td]5[/td][td]6[/td][td]2[/td][td]5[/td][td]595[/td][td]2017-09-03 [playerid=428112207][/td][td]3.5[/td][td]CD[/td][td]384000[/td][td]2[/td][td][playerid=428112207][/td][td][playerid=428112207][/td][td]3.82[/td][td]6.03[/td][td]6.19[/td][td]6.02[/td][td]6.07[/td][td]4.71[/td][/tr]',\n",
       " '[tr][td]–[/td][td]22[/td][td]Nederland[/td][td]Keith Esser [playerid=428060480][/td][td]빠름',\n",
       " '더 많은 정보를 보려면 클릭[/td][td][/td][td]32.9[/td][td]12 주   6 일[/td][td]560[/td][td]5[/td][td]6[/td][td]4[/td][td]6[/td][td]10[/td][td][/td][td]2[/td][td]6[/td][td]5[/td][td]6[/td][td]6[/td][td]2[/td][td]6[/td][td]590[/td][td]2017-09-03 [playerid=428060480][/td][td]3[/td][td]W[/td][td]372000[/td][td]1[/td][td][playerid=428060480][/td][td][playerid=428060480][/td][td]3.17[/td][td]4.94[/td][td]4.84[/td][td]4.74[/td][td]4.48[/td][td]3.77[/td][/tr]',\n",
       " '[tr][td]–[/td][td]23[/td][td]Belgium[/td][td]Mathias Piron [playerid=428125893][/td][td]공 마술사',\n",
       " '더 많은 정보를 보려면 클릭[/td][td][/td][td]32.73[/td][td]12 주   6 일[/td][td]650[/td][td]6[/td][td]5[/td][td]7[/td][td]6[/td][td]10[/td][td][/td][td]2[/td][td]6[/td][td]6[/td][td]5[/td][td]6[/td][td]3[/td][td]6[/td][td]590[/td][td]2017-09-06 [playerid=428125893][/td][td]3.5[/td][td]W[/td][td]372000[/td][td]2[/td][td][playerid=428125893][/td][td][playerid=428125893][/td][td]4.05[/td][td]6.41[/td][td]6.58[/td][td]6.39[/td][td]6.48[/td][td]5.37[/td][/tr]',\n",
       " '[tr][td]–[/td][td]24[/td][td]Canada[/td][td]Philippe Morel [playerid=425173438][/td][td]예측할 수 없음',\n",
       " '더 많은 정보를 보려면 클릭[/td][td]Y×1[/td][td]33.87[/td][td]12 주   5 일[/td][td]310[/td][td]5[/td][td]6[/td][td]7[/td][td]5[/td][td]10[/td][td][/td][td]2[/td][td]6[/td][td]5[/td][td]5[/td][td]5[/td][td]2[/td][td]6[/td][td]590[/td][td]2017-08-30 [playerid=425173438][/td][td]4[/td][td]W[/td][td]360000[/td][td]4[/td][td][playerid=425173438][/td][td][playerid=425173438][/td][td]4.04[/td][td]6.14[/td][td]6.18[/td][td]5.79[/td][td]5.64[/td][td]4.56[/td][/tr]',\n",
       " '[tr][td]–[/td][td]25[/td][td]Polska[/td][td]Pylyp Nagorniak [playerid=406205227][/td][td][/td][td][/td][td]27.34[/td][td]12 주   6 일[/td][td]1620[/td][td]5[/td][td]3[/td][td]4[/td][td]6[/td][td]10[/td][td][/td][td]1[/td][td]6[/td][td]7[/td][td]3[/td][td]6[/td][td]3[/td][td]6[/td][td]734[/td][td]2017-09-03 [playerid=406205227][/td][td]3[/td][td]IM[/td][td]444000[/td][td]2[/td][td][playerid=406205227][/td][td][playerid=406205227][/td][td]2.38[/td][td]4.53[/td][td]5.02[/td][td]4.69[/td][td]5.19[/td][td]3.89[/td][/tr]',\n",
       " '[tr][td]–[/td][td]26[/td][td]Türkiye[/td][td]Türker Arkan [playerid=425734621][/td][td][/td][td][/td][td]33.51[/td][td]12 주   5 일[/td][td]530[/td][td]1[/td][td]6[/td][td]5[/td][td]5[/td][td]10[/td][td][/td][td]2[/td][td]6[/td][td]7[/td][td]5[/td][td]6[/td][td]2[/td][td]5[/td][td]680[/td][td]2017-09-03 [playerid=425734621][/td][td]4[/td][td]IM[/td][td]456000[/td][td]11[/td][td][playerid=425734621][/td][td][playerid=425734621][/td][td]3.27[/td][td]5.28[/td][td]5.52[/td][td]5.47[/td][td]5.68[/td][td]4.22[/td][/tr]',\n",
       " '[tr][td]–[/td][td]29[/td][td]Türkiye[/td][td]Gökhan Menderes [playerid=426926338][/td][td][/td][td][/td][td]19.69[/td][td]4 주   6 일[/td][td]5190[/td][td]4[/td][td]1[/td][td]6[/td][td]5[/td][td]7[/td][td][/td][td]8[/td][td]3[/td][td]2[/td][td]2[/td][td]1[/td][td]1[/td][td]13[/td][td]813[/td][td]2017-09-06 [playerid=426926338][/td][td]3[/td][td]KP[/td][td]1428000[/td][td]0[/td][td][playerid=426926338][/td][td][playerid=426926338][/td][td]5.26[/td][td]2.22[/td][td]2.25[/td][td]1.84[/td][td]1.76[/td][td]1.33[/td][/tr]',\n",
       " '[tr][td]–[/td][td]30[/td][td]Hanguk[/td][td]Kyoo-Shik Kim [playerid=430373564][/td][td][/td][td][/td][td]18.42[/td][td]2 주   0 일[/td][td]780[/td][td]6[/td][td]1[/td][td]6[/td][td]5[/td][td]20[/td][td]✔[/td][td]1[/td][td]2[/td][td]5[/td][td]4[/td][td]7[/td][td]2[/td][td]3[/td][td]716[/td][td]2017-09-06 [playerid=430373564][/td][td]3[/td][td]IM[/td][td]330000[/td][td]0[/td][td][playerid=430373564][/td][td][playerid=430373564][/td][td]2.2[/td][td]3.61[/td][td]3.65[/td][td]4.68[/td][td]4.91[/td][td]4.31[/td][/tr]',\n",
       " '[tr][td]–[/td][td]31[/td][td]Hanguk[/td][td]Se-Hee Park [playerid=430626797][/td][td][/td][td][/td][td]18.81[/td][td]1 주   0 일[/td][td]1030[/td][td]4[/td][td]1[/td][td]6[/td][td]5[/td][td]20[/td][td]✔[/td][td]1[/td][td]2[/td][td]5[/td][td]5[/td][td]3[/td][td]7[/td][td]2[/td][td]736[/td][td]2017-09-06 [playerid=430626797][/td][td]4.5[/td][td]FW[/td][td]390000[/td][td]1[/td][td][playerid=430626797][/td][td][playerid=430626797][/td][td]2.23[/td][td]3.81[/td][td]3.71[/td][td]4.62[/td][td]4.82[/td][td]5.6[/td][/tr]',\n",
       " '[tr][td]–[/td][td]32[/td][td]Hanguk[/td][td]Woo-Jae Kim [playerid=430762543][/td][td]공 마술사',\n",
       " '더 많은 정보를 보려면 클릭[/td][td][/td][td]18.96[/td][td]1 일[/td][td]90[/td][td]5[/td][td]1[/td][td]6[/td][td]5[/td][td]20[/td][td]✔[/td][td]1[/td][td]4[/td][td]3[/td][td]4[/td][td]3[/td][td]2[/td][td]4[/td][td]413[/td][td][/td][td][/td][td][/td][td]250000[/td][td]0[/td][td][playerid=430762543][/td][td][playerid=430762543][/td][td]2.58[/td][td]4.03[/td][td]3.92[/td][td]3.74[/td][td]3.51[/td][td]3.22[/td][/tr]',\n",
       " '[tr][td]–[/td][td]99[/td][td]Hanguk[/td][td]Je-Min Jung [playerid=427619232] 코치[/td][td][/td][td][/td][td]41.50[/td][td]1 시즌   2 주   0 일[/td][td]0[/td][td]4[/td][td]8[/td][td]3[/td][td]1[/td][td]20[/td][td]✔[/td][td]0[/td][td]0[/td][td]0[/td][td]0[/td][td]0[/td][td]0[/td][td]1[/td][td]340[/td][td][/td][td][/td][td][/td][td]250000[/td][td]0[/td][td][playerid=427619232][/td][td][playerid=427619232][/td][td]1.03[/td][td]1.03[/td][td]1.03[/td][td]1.03[/td][td]1.03[/td][td]1.03[/td][/tr]',\n",
       " '[/table]']"
      ]
     },
     "execution_count": 41,
     "metadata": {},
     "output_type": "execute_result"
    }
   ],
   "source": [
    "import csv\n",
    "lineList = [] # emptyList\n",
    "\n",
    "with open(folder + '/player.html', 'r', encoding='utf-8') as f:\n",
    "    reader = csv.reader(f, delimiter='\\n')\n",
    "    for row in reader:\n",
    "        #print(row[0])\n",
    "        lineList.append(row[0])\n",
    "lineList"
   ]
  },
  {
   "cell_type": "code",
   "execution_count": 42,
   "metadata": {},
   "outputs": [
    {
     "name": "stdout",
     "output_type": "stream",
     "text": [
      "1시즌 2주 0일\n",
      "10주 0일\n",
      "1시즌 2주 0일\n",
      "1시즌 2주 0일\n",
      "1시즌 2주 0일\n",
      "1시즌 2주 0일\n",
      "1시즌 2주 0일\n",
      "1시즌 2주 0일\n",
      "1시즌 2주 0일\n",
      "1시즌 2주 0일\n",
      "1시즌 2주 0일\n",
      "1시즌 2주 0일\n",
      "1시즌 2주 0일\n",
      "1시즌 2주 0일\n",
      "1시즌 2주 0일\n",
      "1시즌 2주 0일\n",
      "1시즌 2주 0일\n",
      "1시즌 2주 0일\n",
      "12주 5일\n",
      "12주 6일\n",
      "12주 6일\n",
      "12주 6일\n",
      "12주 5일\n",
      "12주 6일\n",
      "12주 5일\n",
      "4주 6일\n",
      "2주 0일\n",
      "1주 0일\n",
      "1일\n",
      "1시즌 2주 0일\n"
     ]
    }
   ],
   "source": [
    "#lineList = tmpClip.split(\"\\n\");\n",
    "\n",
    "lineList = removeHattrickTag(lineList)\n",
    "lineList = combineTwoLine(lineList)\n",
    "lineList = modifySharpToNumber(lineList)\n",
    "lineList = modifySpToSpecial(lineList)\n",
    "lineList = removeFirstColumn(lineList)\n",
    "lineList = dividePlayerAndPlayerID(lineList)\n",
    "lineList = modifySince(lineList, folder, nowDate.replace('-','/'))\n",
    "lineList = modifyMB(lineList)\n",
    "lineList = modifyLast(lineList)\n",
    "lineList = assignEmptyForTC(lineList)\n",
    "lineList = assignEmptyForPH(lineList)\n",
    "lineList = modifyKPPos(lineList)\n",
    "lineList = modifyWBPos(lineList)\n",
    "lineList = modifyCDPos(lineList)\n",
    "lineList = modifyWPos(lineList)\n",
    "lineList = modifyIMPos(lineList)\n",
    "lineList = modifyFWPos(lineList)\n",
    "lineList = removeLastString(lineList)"
   ]
  },
  {
   "cell_type": "code",
   "execution_count": 43,
   "metadata": {},
   "outputs": [
    {
     "name": "stdout",
     "output_type": "stream",
     "text": [
      "36\tNumber\n",
      "36\t1\n",
      "36\t2\n",
      "36\t3\n",
      "36\t4\n",
      "36\t5\n",
      "36\t6\n",
      "36\t7\n",
      "36\t8\n",
      "36\t9\n",
      "36\t10\n",
      "36\t11\n",
      "36\t12\n",
      "36\t13\n",
      "36\t14\n",
      "36\t15\n",
      "36\t16\n",
      "36\t17\n",
      "36\t18\n",
      "36\t20\n",
      "36\t21\n",
      "36\t22\n",
      "36\t23\n",
      "36\t24\n",
      "36\t25\n",
      "36\t26\n",
      "36\t29\n",
      "36\t30\n",
      "36\t31\n",
      "36\t32\n",
      "36\t99\n"
     ]
    }
   ],
   "source": [
    "for line in lineList:\n",
    "    col = line.split(\",\")\n",
    "    print(len(col), col[0], sep=\"\\t\" ) # len = 36\n",
    "    #print(len( line.split(\",\") ) )"
   ]
  },
  {
   "cell_type": "code",
   "execution_count": 44,
   "metadata": {},
   "outputs": [
    {
     "name": "stdout",
     "output_type": "stream",
     "text": [
      "2017/09/09/player.html\t : will be removed\n",
      "2017/09/09/player.txt\t : is not exists\n"
     ]
    }
   ],
   "source": [
    "import os.path\n",
    "\n",
    "filePath = folder + '/player.html'\n",
    "if ( os.path.exists(filePath) ):\n",
    "    print(filePath + \"\\t : will be removed\")\n",
    "    os.remove(filePath)\n",
    "\n",
    "filePath = folder + '/player.txt'\n",
    "if not os.path.exists(folder):\n",
    "    print(folder + \"\\t : will be created\")\n",
    "    os.makedirs(folder)\n",
    "\n",
    "if ( os.path.exists(filePath) ):\n",
    "    print(filePath + \"\\t : will be removed\")\n",
    "    os.remove(filePath)\n",
    "    \n",
    "if not os.path.exists(filePath):\n",
    "    print(filePath + \"\\t : is not exists\")"
   ]
  },
  {
   "cell_type": "code",
   "execution_count": 45,
   "metadata": {
    "collapsed": true
   },
   "outputs": [],
   "source": [
    "with open(folder+'/player.txt', 'a') as f:\n",
    "    for line in lineList:\n",
    "        f.write(line + \"\\n\")"
   ]
  },
  {
   "cell_type": "code",
   "execution_count": null,
   "metadata": {
    "collapsed": true
   },
   "outputs": [],
   "source": [
    "# player_skill_table from file to table"
   ]
  },
  {
   "cell_type": "code",
   "execution_count": null,
   "metadata": {
    "collapsed": true
   },
   "outputs": [],
   "source": [
    "#import pymsgbox"
   ]
  },
  {
   "cell_type": "code",
   "execution_count": null,
   "metadata": {
    "collapsed": true
   },
   "outputs": [],
   "source": [
    "#pymsgbox.alert(text='', title='', button='OK')"
   ]
  },
  {
   "cell_type": "code",
   "execution_count": null,
   "metadata": {
    "collapsed": true
   },
   "outputs": [],
   "source": [
    "#getText = pymsgbox.confirm(text='Choose OK or Cancel', title='', buttons=['OK', 'Cancel'])"
   ]
  },
  {
   "cell_type": "code",
   "execution_count": null,
   "metadata": {
    "collapsed": true
   },
   "outputs": [],
   "source": [
    "#print(getText)"
   ]
  },
  {
   "cell_type": "code",
   "execution_count": 46,
   "metadata": {
    "collapsed": true
   },
   "outputs": [],
   "source": [
    "import psycopg2"
   ]
  },
  {
   "cell_type": "code",
   "execution_count": null,
   "metadata": {
    "collapsed": true
   },
   "outputs": [],
   "source": [
    "def dropPlayerTable():\n",
    "    conn = None\n",
    "    try:\n",
    "        conn = psycopg2.connect(\"dbname='mydatabase' user='myuser' host='localhost' port='65432' password='123qwe'\")\n",
    "        cur = conn.cursor()\n",
    "        sql = \"\"\"DROP TABLE IF EXISTS player ; \"\"\"\n",
    "        cur.execute(sql)\n",
    "        conn.commit()\n",
    "    except(Exception, psycopg2.DatabaseError) as error:\n",
    "        print(error)\n",
    "    finally:\n",
    "        if conn is not None:\n",
    "            conn.close()"
   ]
  },
  {
   "cell_type": "code",
   "execution_count": null,
   "metadata": {
    "collapsed": true
   },
   "outputs": [],
   "source": [
    "#dropPlayerTable()"
   ]
  },
  {
   "cell_type": "code",
   "execution_count": null,
   "metadata": {
    "collapsed": true
   },
   "outputs": [],
   "source": [
    "def createPlayerTable():\n",
    "    conn = None\n",
    "    try:\n",
    "        conn = psycopg2.connect(\"dbname='mydatabase' user='myuser' host='localhost' port='65432' password='123qwe'\")\n",
    "        cur = conn.cursor()\n",
    "        sql = \"\"\"\n",
    "CREATE TABLE player (\n",
    "    Date DATE,           --01\n",
    "    Num int,             --02\n",
    "    Nat VARCHAR(30),     --03\n",
    "    Player VARCHAR(30),  --04\n",
    "    PlayerID BIGINT,     --05\n",
    "    Spacial VARCHAR(30), --06\n",
    "    st VARCHAR(10),      --07  Status Yellow, Red\n",
    "    Age VARCHAR(10),     --08\n",
    "    Since VARCHAR(30),   --09\n",
    "    TSI BIGINT,          --10\n",
    "    LS INT,              --11\n",
    "    XP INT,              --12\n",
    "    Fo INT,              --13\n",
    "    Stm INT,             --14\n",
    "    Lo INT,              --15\n",
    "    MB boolean,          --16\n",
    "    KP INT,              --17\n",
    "    DF INT,              --18\n",
    "    PM INT,              --19\n",
    "    WI INT,              --20\n",
    "    PS INT,              --21\n",
    "    SC INT,              --22\n",
    "    SP INT,              --23\n",
    "    con BIGINT,          --24 Psico\n",
    "    Last DATE,           --25\n",
    "    RT NUMERIC(2, 1),    --26 Rating\n",
    "    Po VARCHAR(5),       --27 Position\n",
    "    Wage BIGINT,         --28\n",
    "    G INT,               --29\n",
    "    --TC VARCHAR(1),     --\n",
    "    --PH VARCHAR(1),     --\n",
    "    KP_P NUMERIC(4, 2),  --30 KP Position\n",
    "    WB_P NUMERIC(4, 2),  --31 WB Position\n",
    "    CD_P NUMERIC(4, 2),  --32 CD Position\n",
    "    W_P NUMERIC(4, 2),   --33 W  Position\n",
    "    IM_P NUMERIC(4, 2),  --34 IM Position\n",
    "    FW_P NUMERIC(4, 2)   --35 FW Position\n",
    ") ; \"\"\"\n",
    "        cur.execute(sql)\n",
    "        conn.commit()\n",
    "    except(Exception, psycopg2.DatabaseError) as error:\n",
    "        print(error)\n",
    "    finally:\n",
    "        if conn is not None:\n",
    "            conn.close()"
   ]
  },
  {
   "cell_type": "code",
   "execution_count": null,
   "metadata": {
    "collapsed": true
   },
   "outputs": [],
   "source": [
    "#createPlayerTable()"
   ]
  },
  {
   "cell_type": "code",
   "execution_count": 47,
   "metadata": {
    "collapsed": true
   },
   "outputs": [],
   "source": [
    "def insertPlayerTable(time, row):\n",
    "    conn = None\n",
    "    try:\n",
    "        conn = psycopg2.connect(\"dbname='mydatabase' user='myuser' host='localhost' port='65432' password='123qwe'\")\n",
    "        cur = conn.cursor()\n",
    "        sql =  \"\"\"\n",
    "INSERT INTO player ( \n",
    "    SELECT \n",
    "        to_date(%s, 'YYYY-MM-DD'),                                    -- 1\n",
    "        %s, %s, %s, %s, %s,                                           -- 2, 3, 4, 5, 6\n",
    "        %s, %s, %s, %s, %s,                                           -- 7, 8, 9,10,11\n",
    "        %s, %s, %s, %s, %s,                                           --12,13,14,15,16\n",
    "        %s, %s, %s, %s, %s,                                           --17,18,19,20,21\n",
    "        %s, %s, %s,                                                   --22,23,24\n",
    "        to_date(coalesce(nullif(%s,''), '0001-01-01'), 'YYYY-MM-DD'), --25\n",
    "        cast(coalesce(nullif(%s,''),'0.0') as float),                 --26\n",
    "        %s, %s, %s,                                                   --27,28,29\n",
    "        %s, %s, %s, %s, %s,                                           --30,31,32,33,34\n",
    "        %s                                                            --35\n",
    ") ; \"\"\"\n",
    "        #print(sql + \"\\t\")\n",
    "        cur.execute(sql, ( time, \n",
    "                           row[0], row[1], row[2], row[3], row[4],\n",
    "                           row[5], row[6], row[7], row[8], row[9],\n",
    "                           row[10],row[11],row[12],row[13],row[14], \n",
    "                           row[15],row[16],row[17],row[18],row[19],\n",
    "                           row[20],row[21],row[22],\n",
    "                           row[23],\n",
    "                           row[24],\n",
    "                           row[25],row[26],row[27],\n",
    "                           row[30],row[31],row[32],row[33],row[34],\n",
    "                           row[35]\n",
    "                         )\n",
    "                   )\n",
    "        conn.commit()\n",
    "    except (Exception, psycopg2.DatabaseError) as error:\n",
    "        print(\"Error Happend\")\n",
    "        print(error)\n",
    "        print(sql)\n",
    "        print(row)\n",
    "    finally:\n",
    "        if conn is not None:\n",
    "            conn.close()"
   ]
  },
  {
   "cell_type": "code",
   "execution_count": 48,
   "metadata": {
    "collapsed": true
   },
   "outputs": [],
   "source": [
    "import csv\n",
    "with open(folder + '/player.txt', 'r', encoding='utf-8') as f:\n",
    "    reader = csv.reader(f, delimiter=',')\n",
    "    for row in reader:\n",
    "        if row[0] != \"Number\" :\n",
    "            insertPlayerTable( folder.replace('/','-'), row)"
   ]
  },
  {
   "cell_type": "code",
   "execution_count": 49,
   "metadata": {
    "collapsed": true
   },
   "outputs": [],
   "source": [
    "def selectPlayer(SelectString, WhereString):\n",
    "    outputList = list();\n",
    "    sql = \"\"\n",
    "    conn = None\n",
    "    try:\n",
    "        conn = psycopg2.connect(\"dbname='mydatabase' user='myuser' host='localhost' port='65432' password='123qwe'\")\n",
    "        cur = conn.cursor()\n",
    "        sql = SelectString + \"\\nFROM player\" + WhereString + \"\\n\"\n",
    "        print(sql)\n",
    "        \n",
    "        cur.execute(sql)\n",
    "        row = cur.fetchone()\n",
    "        while row is not None:\n",
    "            #print(row)\n",
    "            outputList.append(row)\n",
    "            row = cur.fetchone()\n",
    "    except (Exception, psycopg2.DatabaseError) as error:\n",
    "            print(error)\n",
    "            print(sql)\n",
    "    finally:\n",
    "        if conn is not None:\n",
    "            conn.close()\n",
    "    return outputList"
   ]
  },
  {
   "cell_type": "code",
   "execution_count": 50,
   "metadata": {},
   "outputs": [
    {
     "name": "stdout",
     "output_type": "stream",
     "text": [
      "\n",
      "SELECT \n",
      "    date :: VARCHAR(10), num, player, spacial, st,                       --01 05 \n",
      "    age, since, tsi, ls, xp,                                             --06 10 \n",
      "    fo, stm, lo, mb, kp,                                                 --11 15 \n",
      "    df, pm, wi, ps, sc,                                                  --16 20 \n",
      "    sp, con, last :: VARCHAR(10), rt :: VARCHAR(3), po,                  --21 25 \n",
      "    wage, g, kp_p :: VARCHAR(5), wb_p :: VARCHAR(5), cd_p :: VARCHAR(5), --26 30 \n",
      "    w_p :: VARCHAR(5), im_p :: VARCHAR(5), fw_p :: VARCHAR(5)            --31 35 \n",
      "FROM player\n",
      "WHERE \n",
      "    date = last \n",
      "    and date = '2017-09-09' \n",
      "    order by num,date \n",
      "\n"
     ]
    }
   ],
   "source": [
    "SelectString = \"\"\n",
    "SelectString += \"\\n\" + \"SELECT \"\n",
    "SelectString += \"\\n\" + \"    date :: VARCHAR(10), num, player, spacial, st,                       --01 05 \"\n",
    "SelectString += \"\\n\" + \"    age, since, tsi, ls, xp,                                             --06 10 \"\n",
    "SelectString += \"\\n\" + \"    fo, stm, lo, mb, kp,                                                 --11 15 \"\n",
    "SelectString += \"\\n\" + \"    df, pm, wi, ps, sc,                                                  --16 20 \"\n",
    "SelectString += \"\\n\" + \"    sp, con, last :: VARCHAR(10), rt :: VARCHAR(3), po,                  --21 25 \"\n",
    "SelectString += \"\\n\" + \"    wage, g, kp_p :: VARCHAR(5), wb_p :: VARCHAR(5), cd_p :: VARCHAR(5), --26 30 \"\n",
    "SelectString += \"\\n\" + \"    w_p :: VARCHAR(5), im_p :: VARCHAR(5), fw_p :: VARCHAR(5)            --31 35 \"\n",
    "\n",
    "WhereString = \"\"\n",
    "WhereString += \"\\n\" + \"WHERE \"\n",
    "WhereString += \"\\n\" + \"    date = last \"\n",
    "WhereString += \"\\n\" + \"    and date = '\" + folder.replace('/','-') + \"' \"\n",
    "WhereString += \"\\n\" + \"    order by num,date \"\n",
    "\n",
    "tupleList = selectPlayer(SelectString, WhereString)\n",
    "for tuple in tupleList:\n",
    "    print(tuple[0], tuple[1], tuple[2], tuple[3], tuple[4],\n",
    "          tuple[5], tuple[6], tuple[7], tuple[8], tuple[9],\n",
    "          tuple[10], tuple[11], tuple[12], tuple[13], tuple[14],\n",
    "          tuple[15], tuple[16], tuple[17], tuple[18], tuple[19],\n",
    "          tuple[20], tuple[21], tuple[22], tuple[23], tuple[24],\n",
    "          tuple[25], tuple[26], tuple[27], tuple[28], tuple[29],\n",
    "          tuple[30], tuple[31], tuple[32],\n",
    "          sep=',')"
   ]
  },
  {
   "cell_type": "code",
   "execution_count": 51,
   "metadata": {},
   "outputs": [
    {
     "name": "stdout",
     "output_type": "stream",
     "text": [
      "\n",
      "SELECT \n",
      "    num, playerid --01 02 \n",
      "FROM player\n",
      "WHERE \n",
      "    date = '2017-09-09' \n",
      "    order by num \n",
      "\n",
      "1\t427619233\n",
      "2\t428709461\n",
      "3\t427619235\n",
      "4\t427619236\n",
      "5\t427619237\n",
      "6\t427619238\n",
      "7\t427619239\n",
      "8\t427619240\n",
      "9\t427619241\n",
      "10\t427619242\n",
      "11\t427619243\n",
      "12\t427619244\n",
      "13\t427619245\n",
      "14\t427619246\n",
      "15\t427619247\n",
      "16\t427619248\n",
      "17\t427619249\n",
      "18\t427619250\n",
      "20\t427827635\n",
      "21\t428112207\n",
      "22\t428060480\n",
      "23\t428125893\n",
      "24\t425173438\n",
      "25\t406205227\n",
      "26\t425734621\n",
      "29\t426926338\n",
      "30\t430373564\n",
      "31\t430626797\n",
      "32\t430762543\n",
      "99\t427619232\n"
     ]
    }
   ],
   "source": [
    "SelectString = \"\"\n",
    "SelectString += \"\\n\" + \"SELECT \"\n",
    "SelectString += \"\\n\" + \"    num, playerid --01 02 \"\n",
    "\n",
    "WhereString = \"\"\n",
    "WhereString += \"\\n\" + \"WHERE \"\n",
    "WhereString += \"\\n\" + \"    date = '\" + folder.replace('/','-') + \"' \"\n",
    "WhereString += \"\\n\" + \"    order by num \"\n",
    "\n",
    "numPlayerIDtupleList = selectPlayer(SelectString, WhereString)\n",
    "for tuple in numPlayerIDtupleList:\n",
    "    print(tuple[0], tuple[1], sep=\"\\t\")"
   ]
  },
  {
   "cell_type": "code",
   "execution_count": 52,
   "metadata": {},
   "outputs": [
    {
     "name": "stdout",
     "output_type": "stream",
     "text": [
      "2017/09/09/numPlayerID.txt <- this file is not exists.\n"
     ]
    }
   ],
   "source": [
    "import os.path\n",
    "filePath = folder + '/numPlayerID.txt'\n",
    "\n",
    "if ( os.path.exists(filePath) ):\n",
    "    os.remove(filePath)\n",
    "    print(filePath + \" <- this file is deleted.\")\n",
    "\n",
    "if not ( os.path.exists(filePath) ):\n",
    "    print(filePath + \" <- this file is not exists.\")"
   ]
  },
  {
   "cell_type": "code",
   "execution_count": 53,
   "metadata": {
    "collapsed": true
   },
   "outputs": [],
   "source": [
    "with open (folder + '/numPlayerID.txt', 'a') as f:\n",
    "    f.write( '\\n'.join('%s,%s' % myTuple for myTuple in numPlayerIDtupleList) + '\\n' )"
   ]
  }
 ],
 "metadata": {
  "kernelspec": {
   "display_name": "Python 3",
   "language": "python",
   "name": "python3"
  },
  "language_info": {
   "codemirror_mode": {
    "name": "ipython",
    "version": 3
   },
   "file_extension": ".py",
   "mimetype": "text/x-python",
   "name": "python",
   "nbconvert_exporter": "python",
   "pygments_lexer": "ipython3",
   "version": "3.6.1"
  }
 },
 "nbformat": 4,
 "nbformat_minor": 2
}
