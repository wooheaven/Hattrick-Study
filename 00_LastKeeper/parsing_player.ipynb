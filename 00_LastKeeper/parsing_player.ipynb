{
 "cells": [
  {
   "cell_type": "code",
   "execution_count": 1,
   "metadata": {
    "collapsed": true
   },
   "outputs": [],
   "source": [
    "import sys\n",
    "\n",
    "import pandas\n",
    "\n",
    "sys.path.insert(0, '../03_Remake_with_TDD/algorithms')\n",
    "from ht_time import *"
   ]
  },
  {
   "cell_type": "code",
   "execution_count": null,
   "metadata": {
    "collapsed": true
   },
   "outputs": [],
   "source": [
    "sys.path.insert(0, '../03_Remake_with_TDD/player')\n",
    "from parse import Parse"
   ]
  },
  {
   "cell_type": "code",
   "execution_count": 2,
   "metadata": {
    "collapsed": true
   },
   "outputs": [],
   "source": [
    "sys.path.insert(0, '../03_Remake_with_TDD/player')\n",
    "from parse_tmp import Parse"
   ]
  },
  {
   "cell_type": "code",
   "execution_count": 3,
   "metadata": {
    "collapsed": true
   },
   "outputs": [],
   "source": [
    "sys.path.insert(0, '../03_Remake_with_TDD/postgresql')\n",
    "from ht_player_postgresql import *"
   ]
  },
  {
   "cell_type": "code",
   "execution_count": 4,
   "metadata": {},
   "outputs": [
    {
     "name": "stdout",
     "output_type": "stream",
     "text": [
      "folder = 2018/10/28\n"
     ]
    }
   ],
   "source": [
    "HattrickTime = HattrickTime()\n",
    "folder = HattrickTime.findLastSunOrWed()\n",
    "# folder = ht_time.findLastSunOrWed('2018/04/04')\n",
    "# folder = '2017/10/04'\n",
    "print(\"folder =\", folder)"
   ]
  },
  {
   "cell_type": "code",
   "execution_count": null,
   "metadata": {
    "collapsed": true
   },
   "outputs": [],
   "source": [
    "# folder = '2018/09/25'\n",
    "# print(\"folder =\", folder)"
   ]
  },
  {
   "cell_type": "code",
   "execution_count": 5,
   "metadata": {},
   "outputs": [
    {
     "data": {
      "text/plain": [
       "'2018/10/30'"
      ]
     },
     "execution_count": 5,
     "metadata": {},
     "output_type": "execute_result"
    }
   ],
   "source": [
    "from datetime import date\n",
    "\n",
    "nowDate = date.today().strftime('%Y/%m/%d')\n",
    "nowDate"
   ]
  },
  {
   "cell_type": "code",
   "execution_count": 6,
   "metadata": {
    "collapsed": true
   },
   "outputs": [],
   "source": [
    "import sys\n",
    "\n",
    "# sys.path.insert(0, '../97_Parse/')\n",
    "# from parseSkillTable import *\n",
    "\n",
    "sys.path.insert(0, '../98_Crawler/01_DualMonitor/')\n",
    "from DualMonitor import getIsDualMonitor\n",
    "\n",
    "sys.path.insert(0, '../98_Crawler/02_WebBrowser/')\n",
    "from FirefoxTab import clickTabOfFireFox\n",
    "\n",
    "sys.path.insert(0, '../98_Crawler/03_OnScreen/')\n",
    "from Empty import clickEmpty\n",
    "from MoveScroll import moveScroll\n",
    "from MoveFindMoveClick import moveByImage\n",
    "\n",
    "sys.path.insert(0, '../98_Crawler/04_Login/')\n",
    "# from HattrickLogInOut import clickFacebookLogin, clickFacebookLogout\n",
    "from HattrickLogInOut import clickHattrickLogin2, clickHattrickLogout"
   ]
  },
  {
   "cell_type": "code",
   "execution_count": 7,
   "metadata": {},
   "outputs": [
    {
     "name": "stdout",
     "output_type": "stream",
     "text": [
      "use 1 monitor = 1920 x 1080 isDualMonitor= False\n"
     ]
    }
   ],
   "source": [
    "# isDualMonitor\n",
    "isDualMonitor = getIsDualMonitor()\n",
    "\n",
    "# Hattrick LastKeeper Tab\n",
    "clickTabOfFireFox(5, isDualMonitor)\n",
    "\n",
    "# Hattrick Login by Facebook\n",
    "# clickEmpty(410, isDualMonitor)\n",
    "clickEmpty(305, isDualMonitor)\n",
    "moveScroll(20)\n",
    "# clickFacebookLogin(484, 393, isDualMonitor)\n",
    "clickHattrickLogin2(500, 305, isDualMonitor)"
   ]
  },
  {
   "cell_type": "code",
   "execution_count": 8,
   "metadata": {},
   "outputs": [
    {
     "name": "stdout",
     "output_type": "stream",
     "text": [
      "use 1 monitor = 1920 x 1080 isDualMonitor= False\n",
      "re find\n",
      "screen-MyClub.png location on Screen (529, 339, 83, 45)\n",
      "re find\n",
      "screen-Player.png location on Screen (394, 701, 61, 64)\n",
      "re find\n",
      "screen-SkillTable.png location on Screen (566, 605, 87, 29)\n",
      "re find\n",
      "screen-Since.png location on Screen (580, 943, 168, 25)\n",
      "re find\n",
      "screen-Copy.png location on Screen (1085, 635, 32, 25)\n"
     ]
    }
   ],
   "source": [
    "# isDualMonitor\n",
    "isDualMonitor = getIsDualMonitor()\n",
    "\n",
    "# Hattrick LastKeeper Tab\n",
    "clickTabOfFireFox(5, isDualMonitor)\n",
    "\n",
    "# Hattrick Login by Facebook\n",
    "# clickEmpty(410, isDualMonitor)\n",
    "clickEmpty(305, isDualMonitor)\n",
    "moveScroll(20)\n",
    "# clickFacebookLogin(484, 393, isDualMonitor)\n",
    "clickHattrickLogin2(500, 305, isDualMonitor)\n",
    "\n",
    "# Hattrick MyClub\n",
    "moveScroll(20)\n",
    "moveByImage(529, 339, 77, 42, isDualMonitor, 'screen-MyClub.png')\n",
    "\n",
    "# Hattrick Player\n",
    "clickEmpty(700, isDualMonitor)\n",
    "moveScroll(20)\n",
    "moveByImage(394, 701, 72, 59, isDualMonitor, 'screen-Player.png')\n",
    "\n",
    "# Hattrick SkillTable\n",
    "clickEmpty(593, isDualMonitor)\n",
    "moveScroll(20)\n",
    "moveByImage(566, 605, 137, 52, isDualMonitor, 'screen-SkillTable.png')\n",
    "\n",
    "# Hattrick Since\n",
    "moveScroll(-7)\n",
    "moveByImage(580, 943, 168, 25, isDualMonitor, 'screen-Since.png')\n",
    "\n",
    "# Hattrick Copy\n",
    "moveScroll(10)\n",
    "moveByImage(1085, 635, 32, 25, isDualMonitor, 'screen-Copy.png')\n",
    "\n",
    "# Hattrick Logout\n",
    "moveScroll(20)\n",
    "# clickFacebookLogout(1258, 337, isDualMonitor)\n",
    "clickHattrickLogout(1270, 370, isDualMonitor)\n",
    "\n",
    "# Jupyter Notebook Tab\n",
    "clickTabOfFireFox(7, isDualMonitor)"
   ]
  },
  {
   "cell_type": "code",
   "execution_count": 9,
   "metadata": {},
   "outputs": [
    {
     "name": "stdout",
     "output_type": "stream",
     "text": [
      "[table]\n",
      "[tr][th]#[/th][th]Nat[/th][th]Player[/th][th]Sp[/th][th]Stat[/th][th]Age[/th][th]Since[/th][th]TSI[/th][th]LS[/th][th]XP[/th][th]Fo[/th][th]Stm[/th][th]Lo[/th][th]MB[/th][th]KP[/th][th]DF[/th][th]PM[/th][th]WI[/th][th]PS[/th][th]SC[/th][th]SP[/th][th]Psico[/th][th]Last[/th][th]Rt[/th][th]Pos[/th][th]Wage[/th][th]G[/th][th]KP[/th][th]WBd[/th][th]WB[/th][th]WBtm[/th][th]WBo[/th][th]CD[/th][th]CDtw[/th][th]Cdo[/th][th]W[/th][th]IM[/th][th]FW[/th][th]FWd[/th][th]FWtw[/th][th]TDF[/th][th]BPo[/th][th]BPoV[/th][/tr]\n",
      "[tr][td]2[/td][td]Hanguk[/td][td]Jee-Hoon Kim [playerid=428709461][/td][td][/td][td][/td][td]23.15[/td][td]4 시즌   5 주   2 일[/td][td]58100[/td][td]3[/td][td]2[/td][td]7[/td][td]8[/td][td]20[/td][td]✔[/td][td]15[/td][td]5[/td][td]1[/td][td]1[/td][td]1[/td][td]2[/td][td]10[/td][td]1513[/td][td]2018-10-24 [playerid=428709461][/td][td]8[/td][td]KP[/td][td]19050000[/td][td]0[/td][td]13.4[/td][td]5.37[/td][td]4.99[/td][td]5.06[/td][td]4.59[/td][td]5.15[/td][td]5.34[/td][td]4.43[/td][td]3.47[/td][td]3.26[/td][td]3.17[/td][td]2.98[/td][td]3.16[/td][td]0[/td][td]KP[/td][td]13.4[/td][/tr]\n",
      "[tr][td]4[/td][td]Hanguk[/td][td]Ji-Woon Lee [playerid=427619236][/td][td][/td][td][/td][td]23.56[/td][td]4 시즌   13 주   2 일[/td][td]1260[/td][td]5[/td][td]3[/td][td]7[/td][td]8[/td][td]20[/td][td]✔[/td][td]1[/td][td]7[/td][td]4[/td][td]3[/td][td]5[/td][td]2[/td][td]9[/td][td]725[/td][td]2018-10-24 [playerid=427619236][/td][td]4.5[/td][td]CD[/td][td]390000[/td][td]26[/td][td]4.66[/td][td]7.66[/td][td]7.34[/td][td]7.47[/td][td]7.02[/td][td]7.65[/td][td]7.7[/td][td]7.11[/td][td]6.27[/td][td]6.22[/td][td]5.11[/td][td]5.67[/td][td]5[/td][td]0[/td][td]CDtw[/td][td]7.7[/td][/tr]\n",
      "[tr][td]6[/td][td]Hanguk[/td][td]Jae-Shin Cha [playerid=427619238][/td][td][/td][td]Y×2[/td][td]31.37[/td][td]4 시즌   13 주   2 일[/td][td]410[/td][td]5[/td][td]6[/td][td]4[/td][td]6[/td][td]20[/td][td]✔[/td][td]1[/td][td]7[/td][td]3[/td][td]6[/td][td]3[/td][td]1[/td][td]11[/td][td]703[/td][td]2018-10-28 [playerid=427619238][/td][td]3.5[/td][td]WB[/td][td]350000[/td][td]24[/td][td]3.64[/td][td]6.02[/td][td]5.82[/td][td]5.7[/td][td]5.6[/td][td]5.54[/td][td]5.86[/td][td]5.02[/td][td]4.76[/td][td]4.09[/td][td]3.51[/td][td]3.66[/td][td]3.77[/td][td]0[/td][td]WBd[/td][td]6.02[/td][/tr]\n",
      "[tr][td]8[/td][td]Hanguk[/td][td]Hong-Chan Son [playerid=427619240][/td][td][/td][td]Y×1[/td][td]25.97[/td][td]4 시즌   13 주   2 일[/td][td]1220[/td][td]5[/td][td]4[/td][td]7[/td][td]7[/td][td]20[/td][td]✔[/td][td]1[/td][td]5[/td][td]6[/td][td]5[/td][td]5[/td][td]1[/td][td]10[/td][td]641[/td][td]2018-10-28 [playerid=427619240][/td][td]5[/td][td]W[/td][td]310000[/td][td]8[/td][td]4.23[/td][td]7.08[/td][td]7.14[/td][td]7.2[/td][td]7.21[/td][td]7.28[/td][td]7.15[/td][td]7.46[/td][td]7.41[/td][td]7.49[/td][td]5.64[/td][td]6.49[/td][td]5.58[/td][td]0[/td][td]IMtw[/td][td]7.58[/td][/tr]\n",
      "[tr][td]10[/td][td]Hanguk[/td][td]Kwang-Eul Jeon [playerid=427619242][/td][td][/td][td]Y×1[/td][td]27.103[/td][td]4 시즌   13 주   2 일[/td][td]1520[/td][td]4[/td][td]5[/td][td]6[/td][td]7[/td][td]20[/td][td]✔[/td][td]1[/td][td]6[/td][td]7[/td][td]3[/td][td]3[/td][td]2[/td][td]11[/td][td]758[/td][td]2018-10-28 [playerid=427619242][/td][td]4.5[/td][td]IM[/td][td]430000[/td][td]18[/td][td]4.24[/td][td]7.06[/td][td]7.03[/td][td]7.3[/td][td]7.01[/td][td]7.66[/td][td]7.31[/td][td]7.82[/td][td]6.99[/td][td]7.59[/td][td]5.41[/td][td]5.98[/td][td]5.07[/td][td]0[/td][td]Cdo[/td][td]7.82[/td][/tr]\n",
      "[tr][td]11[/td][td]Hanguk[/td][td]Kwang-Hwan Yun [playerid=427619243][/td][td][/td][td]Y×1[/td][td]30.70[/td][td]4 시즌   13 주   2 일[/td][td]490[/td][td]6[/td][td]5[/td][td]6[/td][td]6[/td][td]20[/td][td]✔[/td][td]2[/td][td]5[/td][td]6[/td][td]2[/td][td]5[/td][td]2[/td][td]10[/td][td]611[/td][td]2018-10-28 [playerid=427619243][/td][td]4[/td][td]W[/td][td]310000[/td][td]14[/td][td]4.47[/td][td]6.01[/td][td]5.98[/td][td]6.24[/td][td]5.96[/td][td]6.59[/td][td]6.25[/td][td]6.75[/td][td]6.17[/td][td]6.81[/td][td]5.17[/td][td]5.9[/td][td]4.8[/td][td]0[/td][td]IMd[/td][td]6.84[/td][/tr]\n",
      "[tr][td]12[/td][td]Hanguk[/td][td]Chan-Myung Lee [playerid=427619244][/td][td][/td][td]Y×2[/td][td]29.79[/td][td]4 시즌   13 주   2 일[/td][td]780[/td][td]3[/td][td]5[/td][td]8[/td][td]6[/td][td]20[/td][td]✔[/td][td]1[/td][td]3[/td][td]7[/td][td]3[/td][td]4[/td][td]3[/td][td]10[/td][td]724[/td][td]2018-10-24 [playerid=427619244][/td][td]5[/td][td]IM[/td][td]390000[/td][td]9[/td][td]3.82[/td][td]5.8[/td][td]6.06[/td][td]6.3[/td][td]6.33[/td][td]6.62[/td][td]6.1[/td][td]7.34[/td][td]7.24[/td][td]8.13[/td][td]6.48[/td][td]7.05[/td][td]6.09[/td][td]0[/td][td]IMo[/td][td]8.16[/td][/tr]\n",
      "[tr][td]13[/td][td]Hanguk[/td][td]Sung-Kook Han [playerid=427619245][/td][td]공 마술사\n",
      "더 많은 정보를 보려면 클릭[/td][td][/td][td]25.67[/td][td]4 시즌   13 주   2 일[/td][td]940[/td][td]2[/td][td]4[/td][td]3[/td][td]7[/td][td]20[/td][td]✔[/td][td]1[/td][td]5[/td][td]6[/td][td]6[/td][td]5[/td][td]2[/td][td]10[/td][td]632[/td][td]2018-10-28 [playerid=427619245][/td][td]3[/td][td]W[/td][td]330000[/td][td]25[/td][td]2.76[/td][td]4.72[/td][td]4.78[/td][td]4.77[/td][td]4.84[/td][td]4.75[/td][td]4.72[/td][td]4.87[/td][td]4.97[/td][td]4.91[/td][td]4.01[/td][td]0[/td][td]4.04[/td][td]4.42[/td][td]IMtw[/td][td]5.01[/td][/tr]\n",
      "[tr][td]15[/td][td]Hanguk[/td][td]Man-Ok Lee [playerid=427619247][/td][td]예측할 수 없음\n",
      "더 많은 정보를 보려면 클릭[/td][td]Y×1[/td][td]27.8[/td][td]4 시즌   13 주   2 일[/td][td]2120[/td][td]5[/td][td]4[/td][td]6[/td][td]7[/td][td]20[/td][td]✔[/td][td]1[/td][td]5[/td][td]5[/td][td]7[/td][td]6[/td][td]2[/td][td]10[/td][td]770[/td][td]2018-10-24 [playerid=427619247][/td][td]5[/td][td]W[/td][td]350000[/td][td]13[/td][td]3.9[/td][td]6.66[/td][td]6.73[/td][td]6.58[/td][td]6.78[/td][td]6.39[/td][td]6.55[/td][td]6.39[/td][td]6.84[/td][td]6.38[/td][td]5.66[/td][td]6.2[/td][td]5.88[/td][td]0[/td][td]Wo[/td][td]7.03[/td][/tr]\n",
      "[tr][td]16[/td][td]Hanguk[/td][td]Dong-Shik Kim [playerid=427619248][/td][td][/td][td]Y×2[/td][td]23.2[/td][td]4 시즌   13 주   2 일[/td][td]1620[/td][td]6[/td][td]3[/td][td]7[/td][td]8[/td][td]20[/td][td]✔[/td][td]1[/td][td]3[/td][td]3[/td][td]6[/td][td]4[/td][td]7[/td][td]12[/td][td]753[/td][td]2018-10-28 [playerid=427619248][/td][td]5.5[/td][td]FW[/td][td]410000[/td][td]42[/td][td]3.54[/td][td]5.35[/td][td]5.45[/td][td]5.21[/td][td]5.53[/td][td]4.9[/td][td]5.15[/td][td]4.9[/td][td]5.59[/td][td]5.14[/td][td]6.98[/td][td]6.21[/td][td]7.28[/td][td]0[/td][td]FWtw[/td][td]7.28[/td][/tr]\n",
      "[tr][td]25[/td][td]Polska[/td][td]Pylyp Nagorniak [playerid=406205227][/td][td][/td][td][/td][td]31.2[/td][td]4 시즌   8 주   1 일[/td][td]830[/td][td]5[/td][td]3[/td][td]5[/td][td]6[/td][td]20[/td][td][/td][td]1[/td][td]6[/td][td]6[/td][td]3[/td][td]6[/td][td]3[/td][td]11[/td][td]606[/td][td]2018-10-24 [playerid=406205227][/td][td]4[/td][td]IM[/td][td]396000[/td][td]12[/td][td]3.16[/td][td]5.54[/td][td]5.46[/td][td]5.65[/td][td]5.39[/td][td]5.9[/td][td]5.7[/td][td]5.9[/td][td]5.42[/td][td]5.82[/td][td]4.66[/td][td]5.25[/td][td]4.4[/td][td]0[/td][td]CD[/td][td]5.9[/td][/tr]\n",
      "[tr][td]31[/td][td]Hanguk[/td][td]Se-Hee Park [playerid=430626797][/td][td][/td][td][/td][td]22.49[/td][td]3 시즌   12 주   2 일[/td][td]1120[/td][td]4[/td][td]3[/td][td]5[/td][td]7[/td][td]20[/td][td]✔[/td][td]1[/td][td]2[/td][td]5[/td][td]5[/td][td]3[/td][td]7[/td][td]9[/td][td]726[/td][td]2018-10-28 [playerid=430626797][/td][td]4[/td][td]FW[/td][td]390000[/td][td]28[/td][td]2.76[/td][td]4.11[/td][td]4.36[/td][td]4.31[/td][td]4.6[/td][td]4.25[/td][td]4.13[/td][td]4.71[/td][td]5.17[/td][td]5.38[/td][td]6.16[/td][td]5.62[/td][td]6.17[/td][td]0[/td][td]FWtw[/td][td]6.17[/td][/tr]\n",
      "[tr][td]34[/td][td]Sverige[/td][td]Axel Hermansson [playerid=422526443][/td][td][/td][td][/td][td]32.24[/td][td]3 시즌   10 주   1 일[/td][td]700[/td][td]5[/td][td]5[/td][td]6[/td][td]6[/td][td]20[/td][td][/td][td]2[/td][td]6[/td][td]6[/td][td]2[/td][td]6[/td][td]2[/td][td]9[/td][td]604[/td][td]2018-09-23 [playerid=422526443][/td][td]4[/td][td]IM[/td][td]420000[/td][td]18[/td][td]4.23[/td][td]6.07[/td][td]5.95[/td][td]6.22[/td][td]5.85[/td][td]6.59[/td][td]6.29[/td][td]6.59[/td][td]5.89[/td][td]6.46[/td][td]4.8[/td][td]5.64[/td][td]4.43[/td][td]0[/td][td]CD[/td][td]6.59[/td][/tr]\n",
      "[tr][td]40[/td][td]Perú[/td][td]Matías Pichis [playerid=416567166][/td][td][/td][td]Bru[/td][td]25.92[/td][td]3 시즌   6 주   0 일[/td][td]8690[/td][td]6[/td][td]2[/td][td]6[/td][td]7[/td][td]20[/td][td][/td][td]1[/td][td]10[/td][td]8[/td][td]2[/td][td]4[/td][td]4[/td][td]9[/td][td]1000[/td][td]2018-10-28 [playerid=416567166][/td][td]5.5[/td][td]CD[/td][td]1764000[/td][td]5[/td][td]4.19[/td][td]8.22[/td][td]7.87[/td][td]8.32[/td][td]7.55[/td][td]8.91[/td][td]8.55[/td][td]8.6[/td][td]6.81[/td][td]7.61[/td][td]5.33[/td][td]5.81[/td][td]4.79[/td][td]0[/td][td]CD[/td][td]8.91[/td][/tr]\n",
      "[tr][td]48[/td][td]Hanguk[/td][td]Dong-Suk Lee [playerid=432205385][/td][td]공 마술사\n",
      "더 많은 정보를 보려면 클릭[/td][td][/td][td]21.63[/td][td]3 시즌   0 주   1 일[/td][td]1140[/td][td]6[/td][td]2[/td][td]6[/td][td]7[/td][td]20[/td][td]✔[/td][td]1[/td][td]5[/td][td]4[/td][td]5[/td][td]6[/td][td]5[/td][td]6[/td][td]615[/td][td]2018-10-24 [playerid=432205385][/td][td]3.5[/td][td]FW[/td][td]290000[/td][td]14[/td][td]3.55[/td][td]5.89[/td][td]5.83[/td][td]5.78[/td][td]5.77[/td][td]5.7[/td][td]5.82[/td][td]5.54[/td][td]5.66[/td][td]5.47[/td][td]5.91[/td][td]0[/td][td]5.99[/td][td]5.98[/td][td]FWtw[/td][td]5.99[/td][/tr]\n",
      "[tr][td]52[/td][td]Hanguk[/td][td]Seong-Gong Choi [playerid=433454317][/td][td]예측할 수 없음\n",
      "더 많은 정보를 보려면 클릭[/td][td][/td][td]20.31[/td][td]2 시즌   12 주   2 일[/td][td]4910[/td][td]4[/td][td]2[/td][td]5[/td][td]7[/td][td]20[/td][td]✔[/td][td]1[/td][td]7[/td][td]7[/td][td]7[/td][td]4[/td][td]5[/td][td]7[/td][td]775[/td][td]2018-10-28 [playerid=433454317][/td][td]4[/td][td]CD[/td][td]550000[/td][td]16[/td][td]3.68[/td][td]7.06[/td][td]7.06[/td][td]7.06[/td][td]7.06[/td][td]7.06[/td][td]7.06[/td][td]7.06[/td][td]6.84[/td][td]6.77[/td][td]6.02[/td][td]6[/td][td]6.06[/td][td]0[/td][td]CD[/td][td]7.06[/td][/tr]\n",
      "[tr][td]55[/td][td]Hanguk[/td][td]Geun-Ho Han [playerid=433728993][/td][td][/td][td][/td][td]21.33[/td][td]2 시즌   9 주   2 일[/td][td]2130[/td][td]3[/td][td]2[/td][td]6[/td][td]7[/td][td]20[/td][td]✔[/td][td]1[/td][td]5[/td][td]6[/td][td]4[/td][td]3[/td][td]7[/td][td]6[/td][td]727[/td][td]2018-10-24 [playerid=433728993][/td][td]4[/td][td]FW[/td][td]410000[/td][td]13[/td][td]3.57[/td][td]6.08[/td][td]6.11[/td][td]6.24[/td][td]6.15[/td][td]6.41[/td][td]6.21[/td][td]6.57[/td][td]6.18[/td][td]6.63[/td][td]6.67[/td][td]6.24[/td][td]6.49[/td][td]0[/td][td]IMd[/td][td]6.67[/td][/tr]\n",
      "[tr][td]61[/td][td]Oceania[/td][td]Cedrick Williamson [playerid=430364099][/td][td]힘 있음\n",
      "더 많은 정보를 보려면 클릭[/td][td][/td][td]20.96[/td][td]2 시즌   4 주   0 일[/td][td]6450[/td][td]3[/td][td]3[/td][td]7[/td][td]7[/td][td]17[/td][td][/td][td]1[/td][td]8[/td][td]5[/td][td]7[/td][td]7[/td][td]2[/td][td]7[/td][td]871[/td][td]2018-10-24 [playerid=430364099][/td][td]4[/td][td]WB[/td][td]708000[/td][td]2[/td][td]4.27[/td][td]8.37[/td][td]8.14[/td][td]8.04[/td][td]7.91[/td][td]7.91[/td][td]8.21[/td][td]7.37[/td][td]7.22[/td][td]6.55[/td][td]5.5[/td][td]6.21[/td][td]5.73[/td][td]0[/td][td]WBd[/td][td]8.37[/td][/tr]\n",
      "[tr][td]65[/td][td]Hanguk[/td][td]Sang-Hyun Yun [playerid=434942107][/td][td][/td][td][/td][td]19.59[/td][td]1 시즌   15 주   2 일[/td][td]3060[/td][td]3[/td][td]1[/td][td]7[/td][td]6[/td][td]20[/td][td]✔[/td][td]1[/td][td]6[/td][td]5[/td][td]4[/td][td]7[/td][td]4[/td][td]5[/td][td]795[/td][td]2018-10-24 [playerid=434942107][/td][td]4.5[/td][td]W[/td][td]390000[/td][td]4[/td][td]3.47[/td][td]6.17[/td][td]6.05[/td][td]6.14[/td][td]5.94[/td][td]6.26[/td][td]6.22[/td][td]6.09[/td][td]5.85[/td][td]5.95[/td][td]5.53[/td][td]5.99[/td][td]5.4[/td][td]0[/td][td]CD[/td][td]6.26[/td][/tr]\n",
      "[tr][td]70[/td][td]Hanguk[/td][td]Min-Gyu Jung [playerid=429263814][/td][td][/td][td][/td][td]25.25[/td][td]1 시즌   10 주   6 일[/td][td]5870[/td][td]1[/td][td]4[/td][td]7[/td][td]7[/td][td]15[/td][td][/td][td]1[/td][td]9[/td][td]6[/td][td]4[/td][td]4[/td][td]2[/td][td]7[/td][td]959[/td][td]2018-10-24 [playerid=429263814][/td][td]5[/td][td]CD[/td][td]1030000[/td][td]2[/td][td]4.61[/td][td]8.8[/td][td]8.44[/td][td]8.65[/td][td]8.1[/td][td]8.93[/td][td]8.9[/td][td]8.4[/td][td]7.1[/td][td]7.17[/td][td]5.05[/td][td]5.64[/td][td]4.88[/td][td]0[/td][td]CD[/td][td]8.93[/td][/tr]\n",
      "[tr][td]72[/td][td]Hanguk[/td][td]Gyeong-Ryeol Kim [playerid=435840503][/td][td][/td][td][/td][td]19.73[/td][td]1 시즌   9 주   2 일[/td][td]1210[/td][td]3[/td][td]1[/td][td]3[/td][td]6[/td][td]20[/td][td]✔[/td][td]1[/td][td]7[/td][td]6[/td][td]4[/td][td]4[/td][td]3[/td][td]7[/td][td]744[/td][td]2018-10-10 [playerid=435840503][/td][td]4[/td][td]CD[/td][td]390000[/td][td]0[/td][td]2.46[/td][td]4.56[/td][td]4.46[/td][td]4.57[/td][td]4.37[/td][td]4.71[/td][td]4.64[/td][td]4.6[/td][td]4.11[/td][td]4.24[/td][td]3.3[/td][td]3.55[/td][td]3.19[/td][td]0[/td][td]CD[/td][td]4.71[/td][/tr]\n",
      "[tr][td]78[/td][td]Hanguk[/td][td]Jung-Oh Han [playerid=433730490][/td][td]공 마술사\n",
      "더 많은 정보를 보려면 클릭[/td][td][/td][td]21.54[/td][td]8 주   6 일[/td][td]4530[/td][td]4[/td][td]2[/td][td]6[/td][td]8[/td][td]9[/td][td][/td][td]1[/td][td]9[/td][td]3[/td][td]5[/td][td]1[/td][td]3[/td][td]6[/td][td]960[/td][td]2018-10-24 [playerid=433730490][/td][td]4.5[/td][td]WB[/td][td]1270000[/td][td]4[/td][td]3.65[/td][td]7.23[/td][td]6.76[/td][td]6.71[/td][td]6.27[/td][td]6.65[/td][td]7.07[/td][td]5.66[/td][td]4.53[/td][td]3.81[/td][td]3.3[/td][td]0[/td][td]3.54[/td][td]2.89[/td][td]WBd[/td][td]7.23[/td][/tr]\n",
      "[tr][td]79[/td][td]España[/td][td]Jimeno Eguiruren [playerid=415605434][/td][td][/td][td]Y×2[/td][td]25.110[/td][td]6 주   2 일[/td][td]26270[/td][td]5[/td][td]5[/td][td]7[/td][td]7[/td][td]7[/td][td][/td][td]1[/td][td]8[/td][td]11[/td][td]3[/td][td]9[/td][td]2[/td][td]6[/td][td]1097[/td][td]2018-10-28 [playerid=415605434][/td][td]6.5[/td][td]IM[/td][td]4068000[/td][td]22[/td][td]4.02[/td][td]8.43[/td][td]8.45[/td][td]9.03[/td][td]8.52[/td][td]9.78[/td][td]8.97[/td][td]10.31[/td][td]9.27[/td][td]10.7[/td][td]6.8[/td][td]8.63[/td][td]5.99[/td][td]0[/td][td]IMd[/td][td]10.72[/td][/tr]\n",
      "[tr][td]80[/td][td]Andorra[/td][td]Joaquim Muntaner [playerid=427020395][/td][td]공 마술사\n",
      "더 많은 정보를 보려면 클릭[/td][td][/td][td]27.56[/td][td]4 주   5 일[/td][td]16290[/td][td]6[/td][td]6[/td][td]7[/td][td]7[/td][td]6[/td][td][/td][td]1[/td][td]9[/td][td]6[/td][td]8[/td][td]7[/td][td]4[/td][td]10[/td][td]1001[/td][td]2018-10-28 [playerid=427020395][/td][td]5[/td][td]WB[/td][td]1260000[/td][td]29[/td][td]4.35[/td][td]9.09[/td][td]8.87[/td][td]8.76[/td][td]8.63[/td][td]8.63[/td][td]8.93[/td][td]8.1[/td][td]7.87[/td][td]7.22[/td][td]6.48[/td][td]0[/td][td]6.71[/td][td]6.92[/td][td]WBd[/td][td]9.09[/td][/tr]\n",
      "[tr][td]81[/td][td]Hanguk[/td][td]Sang-Yong Jang [playerid=433566477][/td][td][/td][td][/td][td]21.48[/td][td]4 주   2 일[/td][td]7020[/td][td]2[/td][td]2[/td][td]5[/td][td]8[/td][td]6[/td][td][/td][td]1[/td][td]9[/td][td]6[/td][td]6[/td][td]5[/td][td]4[/td][td]5[/td][td]931[/td][td]2018-10-28 [playerid=433566477][/td][td]4[/td][td]WB[/td][td]970000[/td][td]5[/td][td]3.21[/td][td]7.03[/td][td]6.78[/td][td]6.83[/td][td]6.54[/td][td]6.89[/td][td]7.01[/td][td]6.43[/td][td]5.75[/td][td]5.53[/td][td]4.58[/td][td]4.79[/td][td]4.61[/td][td]0[/td][td]WBd[/td][td]7.03[/td][/tr]\n",
      "[tr][td]82[/td][td]Hanguk[/td][td]Si-Yul SaGong [playerid=438852209][/td][td][/td][td][/td][td]17.63[/td][td]1 주   6 일[/td][td]1220[/td][td]4[/td][td]1[/td][td]4[/td][td]5[/td][td]20[/td][td]✔[/td][td]5[/td][td]3[/td][td]1[/td][td]2[/td][td]1[/td][td]1[/td][td]2[/td][td]596[/td][td]2018-10-28 [playerid=438852209][/td][td]2[/td][td]KP[/td][td]750000[/td][td]0[/td][td]3.7[/td][td]2.51[/td][td]2.4[/td][td]2.38[/td][td]2.29[/td][td]2.34[/td][td]2.45[/td][td]2.1[/td][td]1.92[/td][td]1.71[/td][td]1.64[/td][td]1.6[/td][td]1.71[/td][td]0[/td][td]KP[/td][td]3.7[/td][/tr]\n",
      "[tr][td]83[/td][td]Hanguk[/td][td]Kwang-Hyun Seo [playerid=434869614][/td][td]예측할 수 없음\n",
      "더 많은 정보를 보려면 클릭[/td][td][/td][td]20.45[/td][td]1 주   3 일[/td][td]2740[/td][td]2[/td][td]1[/td][td]7[/td][td]7[/td][td]4[/td][td][/td][td]1[/td][td]8[/td][td]5[/td][td]4[/td][td]5[/td][td]4[/td][td]2[/td][td]804[/td][td]2018-10-28 [playerid=434869614][/td][td]4[/td][td]CD[/td][td]390000[/td][td]9[/td][td]2.94[/td][td]6.5[/td][td]6.19[/td][td]6.31[/td][td]5.88[/td][td]6.48[/td][td]6.54[/td][td]5.96[/td][td]5.07[/td][td]5.05[/td][td]4.27[/td][td]4.5[/td][td]4.16[/td][td]0[/td][td]CDtw[/td][td]6.54[/td][/tr]\n",
      "[tr][td]98[/td][td]Hanguk[/td][td]Woo-Sung Myo [playerid=438979591][/td][td][/td][td][/td][td]18.27[/td][td]2 일[/td][td]1620[/td][td]5[/td][td]1[/td][td]6[/td][td]5[/td][td]20[/td][td]✔[/td][td]6[/td][td]3[/td][td]1[/td][td]1[/td][td]1[/td][td]1[/td][td]1[/td][td]606[/td][td][/td][td][/td][td][/td][td]850000[/td][td]0[/td][td]5.08[/td][td]2.95[/td][td]2.8[/td][td]2.83[/td][td]2.64[/td][td]2.87[/td][td]2.94[/td][td]2.58[/td][td]2.19[/td][td]2.09[/td][td]1.91[/td][td]1.91[/td][td]1.91[/td][td]0[/td][td]KP[/td][td]5.08[/td][/tr]\n",
      "[tr][td]99[/td][td]Danmark[/td][td]Torben Boesen [playerid=321795066] 코치[/td][td]헤딩\n",
      "더 많은 정보를 보려면 클릭[/td][td][/td][td]41.47[/td][td]7 주   2 일[/td][td]70[/td][td]5[/td][td]13[/td][td]5[/td][td]1[/td][td]8[/td][td][/td][td]0[/td][td]8[/td][td]0[/td][td]3[/td][td]0[/td][td]0[/td][td]0[/td][td]782[/td][td]2018-06-06 [playerid=321795066][/td][td]4[/td][td]WB[/td][td]396000[/td][td]79[/td][td]2.07[/td][td]3.86[/td][td]3.51[/td][td]3.46[/td][td]3.15[/td][td]3.4[/td][td]3.72[/td][td]2.65[/td][td]1.95[/td][td]1.39[/td][td]1.11[/td][td]1.02[/td][td]1.29[/td][td]0[/td][td]WBd[/td][td]3.86[/td][/tr]\n",
      "[/table]\n"
     ]
    }
   ],
   "source": [
    "import pyperclip\n",
    "\n",
    "tmpClip = pyperclip.paste()\n",
    "print(tmpClip)"
   ]
  },
  {
   "cell_type": "code",
   "execution_count": 10,
   "metadata": {
    "collapsed": true
   },
   "outputs": [],
   "source": [
    "from ht_file import *"
   ]
  },
  {
   "cell_type": "code",
   "execution_count": 11,
   "metadata": {
    "collapsed": true
   },
   "outputs": [],
   "source": [
    "HattrickFile = HattrickFile()"
   ]
  },
  {
   "cell_type": "code",
   "execution_count": 12,
   "metadata": {},
   "outputs": [
    {
     "name": "stdout",
     "output_type": "stream",
     "text": [
      "2018/10/28\t\t : will be created\n",
      "2018/10/28\t\t : is existed\n"
     ]
    }
   ],
   "source": [
    "HattrickFile.check_and_create_folder(folder)"
   ]
  },
  {
   "cell_type": "code",
   "execution_count": 13,
   "metadata": {},
   "outputs": [
    {
     "name": "stdout",
     "output_type": "stream",
     "text": [
      "2018/10/28/player.html\t : is not existed\n"
     ]
    }
   ],
   "source": [
    "HattrickFile.check_and_delete_file(folder + '/player.html')"
   ]
  },
  {
   "cell_type": "code",
   "execution_count": 14,
   "metadata": {
    "collapsed": true
   },
   "outputs": [],
   "source": [
    "with open(folder + '/player.html', 'w') as f:\n",
    "    f.write(tmpClip)"
   ]
  },
  {
   "cell_type": "code",
   "execution_count": 15,
   "metadata": {
    "collapsed": true
   },
   "outputs": [],
   "source": [
    "p = Parse()"
   ]
  },
  {
   "cell_type": "code",
   "execution_count": 16,
   "metadata": {},
   "outputs": [
    {
     "name": "stdout",
     "output_type": "stream",
     "text": [
      "<table>\n",
      "<tr><th>#</th><th>Nat</th><th>Player</th><th>Sp</th><th>Stat</th><th>Age</th><th>Since</th><th>TSI</th><th>LS</th><th>XP</th><th>Fo</th><th>Stm</th><th>Lo</th><th>MB</th><th>KP</th><th>DF</th><th>PM</th><th>WI</th><th>PS</th><th>SC</th><th>SP</th><th>Psico</th><th>Last</th><th>Rt</th><th>Pos</th><th>Wage</th><th>G</th><th>KP</th><th>WBd</th><th>WB</th><th>WBtm</th><th>WBo</th><th>CD</th><th>CDtw</th><th>Cdo</th><th>W</th><th>IM</th><th>FW</th><th>FWd</th><th>FWtw</th><th>TDF</th><th>BPo</th><th>BPoV</th></tr>\n",
      "<tr><td>2</td><td>Hanguk</td><td>Jee-Hoon Kim [playerid=428709461]</td><td></td><td></td><td>23.15</td><td>4 시즌   5 주   2 일</td><td>58100</td><td>3</td><td>2</td><td>7</td><td>8</td><td>20</td><td>✔</td><td>15</td><td>5</td><td>1</td><td>1</td><td>1</td><td>2</td><td>10</td><td>1513</td><td>2018-10-24 [playerid=428709461]</td><td>8</td><td>KP</td><td>19050000</td><td>0</td><td>13.4</td><td>5.37</td><td>4.99</td><td>5.06</td><td>4.59</td><td>5.15</td><td>5.34</td><td>4.43</td><td>3.47</td><td>3.26</td><td>3.17</td><td>2.98</td><td>3.16</td><td>0</td><td>KP</td><td>13.4</td></tr>\n",
      "<tr><td>4</td><td>Hanguk</td><td>Ji-Woon Lee [playerid=427619236]</td><td></td><td></td><td>23.56</td><td>4 시즌   13 주   2 일</td><td>1260</td><td>5</td><td>3</td><td>7</td><td>8</td><td>20</td><td>✔</td><td>1</td><td>7</td><td>4</td><td>3</td><td>5</td><td>2</td><td>9</td><td>725</td><td>2018-10-24 [playerid=427619236]</td><td>4.5</td><td>CD</td><td>390000</td><td>26</td><td>4.66</td><td>7.66</td><td>7.34</td><td>7.47</td><td>7.02</td><td>7.65</td><td>7.7</td><td>7.11</td><td>6.27</td><td>6.22</td><td>5.11</td><td>5.67</td><td>5</td><td>0</td><td>CDtw</td><td>7.7</td></tr>\n",
      "<tr><td>6</td><td>Hanguk</td><td>Jae-Shin Cha [playerid=427619238]</td><td></td><td>Y×2</td><td>31.37</td><td>4 시즌   13 주   2 일</td><td>410</td><td>5</td><td>6</td><td>4</td><td>6</td><td>20</td><td>✔</td><td>1</td><td>7</td><td>3</td><td>6</td><td>3</td><td>1</td><td>11</td><td>703</td><td>2018-10-28 [playerid=427619238]</td><td>3.5</td><td>WB</td><td>350000</td><td>24</td><td>3.64</td><td>6.02</td><td>5.82</td><td>5.7</td><td>5.6</td><td>5.54</td><td>5.86</td><td>5.02</td><td>4.76</td><td>4.09</td><td>3.51</td><td>3.66</td><td>3.77</td><td>0</td><td>WBd</td><td>6.02</td></tr>\n",
      "<tr><td>8</td><td>Hanguk</td><td>Hong-Chan Son [playerid=427619240]</td><td></td><td>Y×1</td><td>25.97</td><td>4 시즌   13 주   2 일</td><td>1220</td><td>5</td><td>4</td><td>7</td><td>7</td><td>20</td><td>✔</td><td>1</td><td>5</td><td>6</td><td>5</td><td>5</td><td>1</td><td>10</td><td>641</td><td>2018-10-28 [playerid=427619240]</td><td>5</td><td>W</td><td>310000</td><td>8</td><td>4.23</td><td>7.08</td><td>7.14</td><td>7.2</td><td>7.21</td><td>7.28</td><td>7.15</td><td>7.46</td><td>7.41</td><td>7.49</td><td>5.64</td><td>6.49</td><td>5.58</td><td>0</td><td>IMtw</td><td>7.58</td></tr>\n",
      "<tr><td>10</td><td>Hanguk</td><td>Kwang-Eul Jeon [playerid=427619242]</td><td></td><td>Y×1</td><td>27.103</td><td>4 시즌   13 주   2 일</td><td>1520</td><td>4</td><td>5</td><td>6</td><td>7</td><td>20</td><td>✔</td><td>1</td><td>6</td><td>7</td><td>3</td><td>3</td><td>2</td><td>11</td><td>758</td><td>2018-10-28 [playerid=427619242]</td><td>4.5</td><td>IM</td><td>430000</td><td>18</td><td>4.24</td><td>7.06</td><td>7.03</td><td>7.3</td><td>7.01</td><td>7.66</td><td>7.31</td><td>7.82</td><td>6.99</td><td>7.59</td><td>5.41</td><td>5.98</td><td>5.07</td><td>0</td><td>Cdo</td><td>7.82</td></tr>\n",
      "<tr><td>11</td><td>Hanguk</td><td>Kwang-Hwan Yun [playerid=427619243]</td><td></td><td>Y×1</td><td>30.70</td><td>4 시즌   13 주   2 일</td><td>490</td><td>6</td><td>5</td><td>6</td><td>6</td><td>20</td><td>✔</td><td>2</td><td>5</td><td>6</td><td>2</td><td>5</td><td>2</td><td>10</td><td>611</td><td>2018-10-28 [playerid=427619243]</td><td>4</td><td>W</td><td>310000</td><td>14</td><td>4.47</td><td>6.01</td><td>5.98</td><td>6.24</td><td>5.96</td><td>6.59</td><td>6.25</td><td>6.75</td><td>6.17</td><td>6.81</td><td>5.17</td><td>5.9</td><td>4.8</td><td>0</td><td>IMd</td><td>6.84</td></tr>\n",
      "<tr><td>12</td><td>Hanguk</td><td>Chan-Myung Lee [playerid=427619244]</td><td></td><td>Y×2</td><td>29.79</td><td>4 시즌   13 주   2 일</td><td>780</td><td>3</td><td>5</td><td>8</td><td>6</td><td>20</td><td>✔</td><td>1</td><td>3</td><td>7</td><td>3</td><td>4</td><td>3</td><td>10</td><td>724</td><td>2018-10-24 [playerid=427619244]</td><td>5</td><td>IM</td><td>390000</td><td>9</td><td>3.82</td><td>5.8</td><td>6.06</td><td>6.3</td><td>6.33</td><td>6.62</td><td>6.1</td><td>7.34</td><td>7.24</td><td>8.13</td><td>6.48</td><td>7.05</td><td>6.09</td><td>0</td><td>IMo</td><td>8.16</td></tr>\n",
      "<tr><td>13</td><td>Hanguk</td><td>Sung-Kook Han [playerid=427619245]</td><td>공 마술사\n",
      "더 많은 정보를 보려면 클릭</td><td></td><td>25.67</td><td>4 시즌   13 주   2 일</td><td>940</td><td>2</td><td>4</td><td>3</td><td>7</td><td>20</td><td>✔</td><td>1</td><td>5</td><td>6</td><td>6</td><td>5</td><td>2</td><td>10</td><td>632</td><td>2018-10-28 [playerid=427619245]</td><td>3</td><td>W</td><td>330000</td><td>25</td><td>2.76</td><td>4.72</td><td>4.78</td><td>4.77</td><td>4.84</td><td>4.75</td><td>4.72</td><td>4.87</td><td>4.97</td><td>4.91</td><td>4.01</td><td>0</td><td>4.04</td><td>4.42</td><td>IMtw</td><td>5.01</td></tr>\n",
      "<tr><td>15</td><td>Hanguk</td><td>Man-Ok Lee [playerid=427619247]</td><td>예측할 수 없음\n",
      "더 많은 정보를 보려면 클릭</td><td>Y×1</td><td>27.8</td><td>4 시즌   13 주   2 일</td><td>2120</td><td>5</td><td>4</td><td>6</td><td>7</td><td>20</td><td>✔</td><td>1</td><td>5</td><td>5</td><td>7</td><td>6</td><td>2</td><td>10</td><td>770</td><td>2018-10-24 [playerid=427619247]</td><td>5</td><td>W</td><td>350000</td><td>13</td><td>3.9</td><td>6.66</td><td>6.73</td><td>6.58</td><td>6.78</td><td>6.39</td><td>6.55</td><td>6.39</td><td>6.84</td><td>6.38</td><td>5.66</td><td>6.2</td><td>5.88</td><td>0</td><td>Wo</td><td>7.03</td></tr>\n",
      "<tr><td>16</td><td>Hanguk</td><td>Dong-Shik Kim [playerid=427619248]</td><td></td><td>Y×2</td><td>23.2</td><td>4 시즌   13 주   2 일</td><td>1620</td><td>6</td><td>3</td><td>7</td><td>8</td><td>20</td><td>✔</td><td>1</td><td>3</td><td>3</td><td>6</td><td>4</td><td>7</td><td>12</td><td>753</td><td>2018-10-28 [playerid=427619248]</td><td>5.5</td><td>FW</td><td>410000</td><td>42</td><td>3.54</td><td>5.35</td><td>5.45</td><td>5.21</td><td>5.53</td><td>4.9</td><td>5.15</td><td>4.9</td><td>5.59</td><td>5.14</td><td>6.98</td><td>6.21</td><td>7.28</td><td>0</td><td>FWtw</td><td>7.28</td></tr>\n",
      "<tr><td>25</td><td>Polska</td><td>Pylyp Nagorniak [playerid=406205227]</td><td></td><td></td><td>31.2</td><td>4 시즌   8 주   1 일</td><td>830</td><td>5</td><td>3</td><td>5</td><td>6</td><td>20</td><td></td><td>1</td><td>6</td><td>6</td><td>3</td><td>6</td><td>3</td><td>11</td><td>606</td><td>2018-10-24 [playerid=406205227]</td><td>4</td><td>IM</td><td>396000</td><td>12</td><td>3.16</td><td>5.54</td><td>5.46</td><td>5.65</td><td>5.39</td><td>5.9</td><td>5.7</td><td>5.9</td><td>5.42</td><td>5.82</td><td>4.66</td><td>5.25</td><td>4.4</td><td>0</td><td>CD</td><td>5.9</td></tr>\n",
      "<tr><td>31</td><td>Hanguk</td><td>Se-Hee Park [playerid=430626797]</td><td></td><td></td><td>22.49</td><td>3 시즌   12 주   2 일</td><td>1120</td><td>4</td><td>3</td><td>5</td><td>7</td><td>20</td><td>✔</td><td>1</td><td>2</td><td>5</td><td>5</td><td>3</td><td>7</td><td>9</td><td>726</td><td>2018-10-28 [playerid=430626797]</td><td>4</td><td>FW</td><td>390000</td><td>28</td><td>2.76</td><td>4.11</td><td>4.36</td><td>4.31</td><td>4.6</td><td>4.25</td><td>4.13</td><td>4.71</td><td>5.17</td><td>5.38</td><td>6.16</td><td>5.62</td><td>6.17</td><td>0</td><td>FWtw</td><td>6.17</td></tr>\n",
      "<tr><td>34</td><td>Sverige</td><td>Axel Hermansson [playerid=422526443]</td><td></td><td></td><td>32.24</td><td>3 시즌   10 주   1 일</td><td>700</td><td>5</td><td>5</td><td>6</td><td>6</td><td>20</td><td></td><td>2</td><td>6</td><td>6</td><td>2</td><td>6</td><td>2</td><td>9</td><td>604</td><td>2018-09-23 [playerid=422526443]</td><td>4</td><td>IM</td><td>420000</td><td>18</td><td>4.23</td><td>6.07</td><td>5.95</td><td>6.22</td><td>5.85</td><td>6.59</td><td>6.29</td><td>6.59</td><td>5.89</td><td>6.46</td><td>4.8</td><td>5.64</td><td>4.43</td><td>0</td><td>CD</td><td>6.59</td></tr>\n",
      "<tr><td>40</td><td>Perú</td><td>Matías Pichis [playerid=416567166]</td><td></td><td>Bru</td><td>25.92</td><td>3 시즌   6 주   0 일</td><td>8690</td><td>6</td><td>2</td><td>6</td><td>7</td><td>20</td><td></td><td>1</td><td>10</td><td>8</td><td>2</td><td>4</td><td>4</td><td>9</td><td>1000</td><td>2018-10-28 [playerid=416567166]</td><td>5.5</td><td>CD</td><td>1764000</td><td>5</td><td>4.19</td><td>8.22</td><td>7.87</td><td>8.32</td><td>7.55</td><td>8.91</td><td>8.55</td><td>8.6</td><td>6.81</td><td>7.61</td><td>5.33</td><td>5.81</td><td>4.79</td><td>0</td><td>CD</td><td>8.91</td></tr>\n",
      "<tr><td>48</td><td>Hanguk</td><td>Dong-Suk Lee [playerid=432205385]</td><td>공 마술사\n",
      "더 많은 정보를 보려면 클릭</td><td></td><td>21.63</td><td>3 시즌   0 주   1 일</td><td>1140</td><td>6</td><td>2</td><td>6</td><td>7</td><td>20</td><td>✔</td><td>1</td><td>5</td><td>4</td><td>5</td><td>6</td><td>5</td><td>6</td><td>615</td><td>2018-10-24 [playerid=432205385]</td><td>3.5</td><td>FW</td><td>290000</td><td>14</td><td>3.55</td><td>5.89</td><td>5.83</td><td>5.78</td><td>5.77</td><td>5.7</td><td>5.82</td><td>5.54</td><td>5.66</td><td>5.47</td><td>5.91</td><td>0</td><td>5.99</td><td>5.98</td><td>FWtw</td><td>5.99</td></tr>\n",
      "<tr><td>52</td><td>Hanguk</td><td>Seong-Gong Choi [playerid=433454317]</td><td>예측할 수 없음\n",
      "더 많은 정보를 보려면 클릭</td><td></td><td>20.31</td><td>2 시즌   12 주   2 일</td><td>4910</td><td>4</td><td>2</td><td>5</td><td>7</td><td>20</td><td>✔</td><td>1</td><td>7</td><td>7</td><td>7</td><td>4</td><td>5</td><td>7</td><td>775</td><td>2018-10-28 [playerid=433454317]</td><td>4</td><td>CD</td><td>550000</td><td>16</td><td>3.68</td><td>7.06</td><td>7.06</td><td>7.06</td><td>7.06</td><td>7.06</td><td>7.06</td><td>7.06</td><td>6.84</td><td>6.77</td><td>6.02</td><td>6</td><td>6.06</td><td>0</td><td>CD</td><td>7.06</td></tr>\n",
      "<tr><td>55</td><td>Hanguk</td><td>Geun-Ho Han [playerid=433728993]</td><td></td><td></td><td>21.33</td><td>2 시즌   9 주   2 일</td><td>2130</td><td>3</td><td>2</td><td>6</td><td>7</td><td>20</td><td>✔</td><td>1</td><td>5</td><td>6</td><td>4</td><td>3</td><td>7</td><td>6</td><td>727</td><td>2018-10-24 [playerid=433728993]</td><td>4</td><td>FW</td><td>410000</td><td>13</td><td>3.57</td><td>6.08</td><td>6.11</td><td>6.24</td><td>6.15</td><td>6.41</td><td>6.21</td><td>6.57</td><td>6.18</td><td>6.63</td><td>6.67</td><td>6.24</td><td>6.49</td><td>0</td><td>IMd</td><td>6.67</td></tr>\n",
      "<tr><td>61</td><td>Oceania</td><td>Cedrick Williamson [playerid=430364099]</td><td>힘 있음\n",
      "더 많은 정보를 보려면 클릭</td><td></td><td>20.96</td><td>2 시즌   4 주   0 일</td><td>6450</td><td>3</td><td>3</td><td>7</td><td>7</td><td>17</td><td></td><td>1</td><td>8</td><td>5</td><td>7</td><td>7</td><td>2</td><td>7</td><td>871</td><td>2018-10-24 [playerid=430364099]</td><td>4</td><td>WB</td><td>708000</td><td>2</td><td>4.27</td><td>8.37</td><td>8.14</td><td>8.04</td><td>7.91</td><td>7.91</td><td>8.21</td><td>7.37</td><td>7.22</td><td>6.55</td><td>5.5</td><td>6.21</td><td>5.73</td><td>0</td><td>WBd</td><td>8.37</td></tr>\n",
      "<tr><td>65</td><td>Hanguk</td><td>Sang-Hyun Yun [playerid=434942107]</td><td></td><td></td><td>19.59</td><td>1 시즌   15 주   2 일</td><td>3060</td><td>3</td><td>1</td><td>7</td><td>6</td><td>20</td><td>✔</td><td>1</td><td>6</td><td>5</td><td>4</td><td>7</td><td>4</td><td>5</td><td>795</td><td>2018-10-24 [playerid=434942107]</td><td>4.5</td><td>W</td><td>390000</td><td>4</td><td>3.47</td><td>6.17</td><td>6.05</td><td>6.14</td><td>5.94</td><td>6.26</td><td>6.22</td><td>6.09</td><td>5.85</td><td>5.95</td><td>5.53</td><td>5.99</td><td>5.4</td><td>0</td><td>CD</td><td>6.26</td></tr>\n",
      "<tr><td>70</td><td>Hanguk</td><td>Min-Gyu Jung [playerid=429263814]</td><td></td><td></td><td>25.25</td><td>1 시즌   10 주   6 일</td><td>5870</td><td>1</td><td>4</td><td>7</td><td>7</td><td>15</td><td></td><td>1</td><td>9</td><td>6</td><td>4</td><td>4</td><td>2</td><td>7</td><td>959</td><td>2018-10-24 [playerid=429263814]</td><td>5</td><td>CD</td><td>1030000</td><td>2</td><td>4.61</td><td>8.8</td><td>8.44</td><td>8.65</td><td>8.1</td><td>8.93</td><td>8.9</td><td>8.4</td><td>7.1</td><td>7.17</td><td>5.05</td><td>5.64</td><td>4.88</td><td>0</td><td>CD</td><td>8.93</td></tr>\n",
      "<tr><td>72</td><td>Hanguk</td><td>Gyeong-Ryeol Kim [playerid=435840503]</td><td></td><td></td><td>19.73</td><td>1 시즌   9 주   2 일</td><td>1210</td><td>3</td><td>1</td><td>3</td><td>6</td><td>20</td><td>✔</td><td>1</td><td>7</td><td>6</td><td>4</td><td>4</td><td>3</td><td>7</td><td>744</td><td>2018-10-10 [playerid=435840503]</td><td>4</td><td>CD</td><td>390000</td><td>0</td><td>2.46</td><td>4.56</td><td>4.46</td><td>4.57</td><td>4.37</td><td>4.71</td><td>4.64</td><td>4.6</td><td>4.11</td><td>4.24</td><td>3.3</td><td>3.55</td><td>3.19</td><td>0</td><td>CD</td><td>4.71</td></tr>\n",
      "<tr><td>78</td><td>Hanguk</td><td>Jung-Oh Han [playerid=433730490]</td><td>공 마술사\n",
      "더 많은 정보를 보려면 클릭</td><td></td><td>21.54</td><td>8 주   6 일</td><td>4530</td><td>4</td><td>2</td><td>6</td><td>8</td><td>9</td><td></td><td>1</td><td>9</td><td>3</td><td>5</td><td>1</td><td>3</td><td>6</td><td>960</td><td>2018-10-24 [playerid=433730490]</td><td>4.5</td><td>WB</td><td>1270000</td><td>4</td><td>3.65</td><td>7.23</td><td>6.76</td><td>6.71</td><td>6.27</td><td>6.65</td><td>7.07</td><td>5.66</td><td>4.53</td><td>3.81</td><td>3.3</td><td>0</td><td>3.54</td><td>2.89</td><td>WBd</td><td>7.23</td></tr>\n",
      "<tr><td>79</td><td>España</td><td>Jimeno Eguiruren [playerid=415605434]</td><td></td><td>Y×2</td><td>25.110</td><td>6 주   2 일</td><td>26270</td><td>5</td><td>5</td><td>7</td><td>7</td><td>7</td><td></td><td>1</td><td>8</td><td>11</td><td>3</td><td>9</td><td>2</td><td>6</td><td>1097</td><td>2018-10-28 [playerid=415605434]</td><td>6.5</td><td>IM</td><td>4068000</td><td>22</td><td>4.02</td><td>8.43</td><td>8.45</td><td>9.03</td><td>8.52</td><td>9.78</td><td>8.97</td><td>10.31</td><td>9.27</td><td>10.7</td><td>6.8</td><td>8.63</td><td>5.99</td><td>0</td><td>IMd</td><td>10.72</td></tr>\n",
      "<tr><td>80</td><td>Andorra</td><td>Joaquim Muntaner [playerid=427020395]</td><td>공 마술사\n",
      "더 많은 정보를 보려면 클릭</td><td></td><td>27.56</td><td>4 주   5 일</td><td>16290</td><td>6</td><td>6</td><td>7</td><td>7</td><td>6</td><td></td><td>1</td><td>9</td><td>6</td><td>8</td><td>7</td><td>4</td><td>10</td><td>1001</td><td>2018-10-28 [playerid=427020395]</td><td>5</td><td>WB</td><td>1260000</td><td>29</td><td>4.35</td><td>9.09</td><td>8.87</td><td>8.76</td><td>8.63</td><td>8.63</td><td>8.93</td><td>8.1</td><td>7.87</td><td>7.22</td><td>6.48</td><td>0</td><td>6.71</td><td>6.92</td><td>WBd</td><td>9.09</td></tr>\n",
      "<tr><td>81</td><td>Hanguk</td><td>Sang-Yong Jang [playerid=433566477]</td><td></td><td></td><td>21.48</td><td>4 주   2 일</td><td>7020</td><td>2</td><td>2</td><td>5</td><td>8</td><td>6</td><td></td><td>1</td><td>9</td><td>6</td><td>6</td><td>5</td><td>4</td><td>5</td><td>931</td><td>2018-10-28 [playerid=433566477]</td><td>4</td><td>WB</td><td>970000</td><td>5</td><td>3.21</td><td>7.03</td><td>6.78</td><td>6.83</td><td>6.54</td><td>6.89</td><td>7.01</td><td>6.43</td><td>5.75</td><td>5.53</td><td>4.58</td><td>4.79</td><td>4.61</td><td>0</td><td>WBd</td><td>7.03</td></tr>\n",
      "<tr><td>82</td><td>Hanguk</td><td>Si-Yul SaGong [playerid=438852209]</td><td></td><td></td><td>17.63</td><td>1 주   6 일</td><td>1220</td><td>4</td><td>1</td><td>4</td><td>5</td><td>20</td><td>✔</td><td>5</td><td>3</td><td>1</td><td>2</td><td>1</td><td>1</td><td>2</td><td>596</td><td>2018-10-28 [playerid=438852209]</td><td>2</td><td>KP</td><td>750000</td><td>0</td><td>3.7</td><td>2.51</td><td>2.4</td><td>2.38</td><td>2.29</td><td>2.34</td><td>2.45</td><td>2.1</td><td>1.92</td><td>1.71</td><td>1.64</td><td>1.6</td><td>1.71</td><td>0</td><td>KP</td><td>3.7</td></tr>\n",
      "<tr><td>83</td><td>Hanguk</td><td>Kwang-Hyun Seo [playerid=434869614]</td><td>예측할 수 없음\n",
      "더 많은 정보를 보려면 클릭</td><td></td><td>20.45</td><td>1 주   3 일</td><td>2740</td><td>2</td><td>1</td><td>7</td><td>7</td><td>4</td><td></td><td>1</td><td>8</td><td>5</td><td>4</td><td>5</td><td>4</td><td>2</td><td>804</td><td>2018-10-28 [playerid=434869614]</td><td>4</td><td>CD</td><td>390000</td><td>9</td><td>2.94</td><td>6.5</td><td>6.19</td><td>6.31</td><td>5.88</td><td>6.48</td><td>6.54</td><td>5.96</td><td>5.07</td><td>5.05</td><td>4.27</td><td>4.5</td><td>4.16</td><td>0</td><td>CDtw</td><td>6.54</td></tr>\n",
      "<tr><td>98</td><td>Hanguk</td><td>Woo-Sung Myo [playerid=438979591]</td><td></td><td></td><td>18.27</td><td>2 일</td><td>1620</td><td>5</td><td>1</td><td>6</td><td>5</td><td>20</td><td>✔</td><td>6</td><td>3</td><td>1</td><td>1</td><td>1</td><td>1</td><td>1</td><td>606</td><td></td><td></td><td></td><td>850000</td><td>0</td><td>5.08</td><td>2.95</td><td>2.8</td><td>2.83</td><td>2.64</td><td>2.87</td><td>2.94</td><td>2.58</td><td>2.19</td><td>2.09</td><td>1.91</td><td>1.91</td><td>1.91</td><td>0</td><td>KP</td><td>5.08</td></tr>\n",
      "<tr><td>99</td><td>Danmark</td><td>Torben Boesen [playerid=321795066] 코치</td><td>헤딩\n",
      "더 많은 정보를 보려면 클릭</td><td></td><td>41.47</td><td>7 주   2 일</td><td>70</td><td>5</td><td>13</td><td>5</td><td>1</td><td>8</td><td></td><td>0</td><td>8</td><td>0</td><td>3</td><td>0</td><td>0</td><td>0</td><td>782</td><td>2018-06-06 [playerid=321795066]</td><td>4</td><td>WB</td><td>396000</td><td>79</td><td>2.07</td><td>3.86</td><td>3.51</td><td>3.46</td><td>3.15</td><td>3.4</td><td>3.72</td><td>2.65</td><td>1.95</td><td>1.39</td><td>1.11</td><td>1.02</td><td>1.29</td><td>0</td><td>WBd</td><td>3.86</td></tr>\n",
      "</table>\n"
     ]
    }
   ],
   "source": [
    "p.read_line_list(folder + '/player.html')\n",
    "p.print_line_list()"
   ]
  },
  {
   "cell_type": "code",
   "execution_count": 17,
   "metadata": {},
   "outputs": [
    {
     "name": "stdout",
     "output_type": "stream",
     "text": [
      "['Number', 'Nat', 'Player', 'PlayerID', 'Special', 'Stat', 'Age', 'Since', 'TSI', 'LS', 'XP', 'Fo', 'Stm', 'Lo', 'MB', 'KP', 'DF', 'PM', 'WI', 'PS', 'SC', 'SP', 'Psico', 'Last', 'Rt', 'Pos', 'Wage', 'G', 'KPPos', 'WBdPos', 'WBPos', 'WBtmPos', 'WBoPos', 'CDPos', 'CDtwPos', 'CDoPos', 'WPos', 'IMPos', 'FWPos', 'FWdPos', 'FWtwPos', 'TDFPos', 'BPo', 'BPoV']\n",
      "['Number', 'Nat', 'Player', 'PlayerID', 'Special', 'Stat', 'Age', 'Since', 'TSI', 'LS', 'XP', 'Fo', 'Stm', 'Lo', 'FALSE', 'KP', 'DF', 'PM', 'WI', 'PS', 'SC', 'SP', 'Psico', 'Last', 'Rt', 'Pos', 'Wage', 'G', 'KPPos', 'WBdPos', 'WBPos', 'WBtmPos', 'WBoPos', 'CDPos', 'CDtwPos', 'CDoPos', 'WPos', 'IMPos', 'FWPos', 'FWdPos', 'FWtwPos', 'TDFPos', 'BPo', 'BPoV']\n",
      "['2', 'Hanguk', 'Jee-Hoon Kim', '428709461', '', '', '23.15', '4 시즌 5 주 2 일', '58100', '3', '2', '7', '8', '20', 'TRUE', '15', '5', '1', '1', '1', '2', '10', '1513', '2018-10-24', '8', 'KP', '19050000', '0', '13.4', '5.37', '4.99', '5.06', '4.59', '5.15', '5.34', '4.43', '3.47', '3.26', '3.17', '2.98', '3.16', '0', 'KP', '13.4']\n",
      "['4', 'Hanguk', 'Ji-Woon Lee', '427619236', '', '', '23.56', '4 시즌 13 주 2 일', '1260', '5', '3', '7', '8', '20', 'TRUE', '1', '7', '4', '3', '5', '2', '9', '725', '2018-10-24', '4.5', 'CD', '390000', '26', '4.66', '7.66', '7.34', '7.47', '7.02', '7.65', '7.7', '7.11', '6.27', '6.22', '5.11', '5.67', '5', '0', 'CDtw', '7.7']\n",
      "['6', 'Hanguk', 'Jae-Shin Cha', '427619238', '', 'Y×2', '31.37', '4 시즌 13 주 2 일', '410', '5', '6', '4', '6', '20', 'TRUE', '1', '7', '3', '6', '3', '1', '11', '703', '2018-10-28', '3.5', 'WB', '350000', '24', '3.64', '6.02', '5.82', '5.7', '5.6', '5.54', '5.86', '5.02', '4.76', '4.09', '3.51', '3.66', '3.77', '0', 'WBd', '6.02']\n",
      "['8', 'Hanguk', 'Hong-Chan Son', '427619240', '', 'Y×1', '25.97', '4 시즌 13 주 2 일', '1220', '5', '4', '7', '7', '20', 'TRUE', '1', '5', '6', '5', '5', '1', '10', '641', '2018-10-28', '5', 'W', '310000', '8', '4.23', '7.08', '7.14', '7.2', '7.21', '7.28', '7.15', '7.46', '7.41', '7.49', '5.64', '6.49', '5.58', '0', 'IMtw', '7.58']\n",
      "['10', 'Hanguk', 'Kwang-Eul Jeon', '427619242', '', 'Y×1', '27.103', '4 시즌 13 주 2 일', '1520', '4', '5', '6', '7', '20', 'TRUE', '1', '6', '7', '3', '3', '2', '11', '758', '2018-10-28', '4.5', 'IM', '430000', '18', '4.24', '7.06', '7.03', '7.3', '7.01', '7.66', '7.31', '7.82', '6.99', '7.59', '5.41', '5.98', '5.07', '0', 'Cdo', '7.82']\n",
      "['11', 'Hanguk', 'Kwang-Hwan Yun', '427619243', '', 'Y×1', '30.70', '4 시즌 13 주 2 일', '490', '6', '5', '6', '6', '20', 'TRUE', '2', '5', '6', '2', '5', '2', '10', '611', '2018-10-28', '4', 'W', '310000', '14', '4.47', '6.01', '5.98', '6.24', '5.96', '6.59', '6.25', '6.75', '6.17', '6.81', '5.17', '5.9', '4.8', '0', 'IMd', '6.84']\n",
      "['12', 'Hanguk', 'Chan-Myung Lee', '427619244', '', 'Y×2', '29.79', '4 시즌 13 주 2 일', '780', '3', '5', '8', '6', '20', 'TRUE', '1', '3', '7', '3', '4', '3', '10', '724', '2018-10-24', '5', 'IM', '390000', '9', '3.82', '5.8', '6.06', '6.3', '6.33', '6.62', '6.1', '7.34', '7.24', '8.13', '6.48', '7.05', '6.09', '0', 'IMo', '8.16']\n",
      "['13', 'Hanguk', 'Sung-Kook Han', '427619245', 'Technical', '', '25.67', '4 시즌 13 주 2 일', '940', '2', '4', '3', '7', '20', 'TRUE', '1', '5', '6', '6', '5', '2', '10', '632', '2018-10-28', '3', 'W', '330000', '25', '2.76', '4.72', '4.78', '4.77', '4.84', '4.75', '4.72', '4.87', '4.97', '4.91', '4.01', '0', '4.04', '4.42', 'IMtw', '5.01']\n",
      "['15', 'Hanguk', 'Man-Ok Lee', '427619247', 'Unpredictable', 'Y×1', '27.8', '4 시즌 13 주 2 일', '2120', '5', '4', '6', '7', '20', 'TRUE', '1', '5', '5', '7', '6', '2', '10', '770', '2018-10-24', '5', 'W', '350000', '13', '3.9', '6.66', '6.73', '6.58', '6.78', '6.39', '6.55', '6.39', '6.84', '6.38', '5.66', '6.2', '5.88', '0', 'Wo', '7.03']\n",
      "['16', 'Hanguk', 'Dong-Shik Kim', '427619248', '', 'Y×2', '23.2', '4 시즌 13 주 2 일', '1620', '6', '3', '7', '8', '20', 'TRUE', '1', '3', '3', '6', '4', '7', '12', '753', '2018-10-28', '5.5', 'FW', '410000', '42', '3.54', '5.35', '5.45', '5.21', '5.53', '4.9', '5.15', '4.9', '5.59', '5.14', '6.98', '6.21', '7.28', '0', 'FWtw', '7.28']\n",
      "['25', 'Polska', 'Pylyp Nagorniak', '406205227', '', '', '31.2', '4 시즌 8 주 1 일', '830', '5', '3', '5', '6', '20', 'FALSE', '1', '6', '6', '3', '6', '3', '11', '606', '2018-10-24', '4', 'IM', '396000', '12', '3.16', '5.54', '5.46', '5.65', '5.39', '5.9', '5.7', '5.9', '5.42', '5.82', '4.66', '5.25', '4.4', '0', 'CD', '5.9']\n",
      "['31', 'Hanguk', 'Se-Hee Park', '430626797', '', '', '22.49', '3 시즌 12 주 2 일', '1120', '4', '3', '5', '7', '20', 'TRUE', '1', '2', '5', '5', '3', '7', '9', '726', '2018-10-28', '4', 'FW', '390000', '28', '2.76', '4.11', '4.36', '4.31', '4.6', '4.25', '4.13', '4.71', '5.17', '5.38', '6.16', '5.62', '6.17', '0', 'FWtw', '6.17']\n",
      "['34', 'Sverige', 'Axel Hermansson', '422526443', '', '', '32.24', '3 시즌 10 주 1 일', '700', '5', '5', '6', '6', '20', 'FALSE', '2', '6', '6', '2', '6', '2', '9', '604', '2018-09-23', '4', 'IM', '420000', '18', '4.23', '6.07', '5.95', '6.22', '5.85', '6.59', '6.29', '6.59', '5.89', '6.46', '4.8', '5.64', '4.43', '0', 'CD', '6.59']\n",
      "['40', 'Perú', 'Matías Pichis', '416567166', '', 'Bru', '25.92', '3 시즌 6 주 0 일', '8690', '6', '2', '6', '7', '20', 'FALSE', '1', '10', '8', '2', '4', '4', '9', '1000', '2018-10-28', '5.5', 'CD', '1764000', '5', '4.19', '8.22', '7.87', '8.32', '7.55', '8.91', '8.55', '8.6', '6.81', '7.61', '5.33', '5.81', '4.79', '0', 'CD', '8.91']\n",
      "['48', 'Hanguk', 'Dong-Suk Lee', '432205385', 'Technical', '', '21.63', '3 시즌 0 주 1 일', '1140', '6', '2', '6', '7', '20', 'TRUE', '1', '5', '4', '5', '6', '5', '6', '615', '2018-10-24', '3.5', 'FW', '290000', '14', '3.55', '5.89', '5.83', '5.78', '5.77', '5.7', '5.82', '5.54', '5.66', '5.47', '5.91', '0', '5.99', '5.98', 'FWtw', '5.99']\n",
      "['52', 'Hanguk', 'Seong-Gong Choi', '433454317', 'Unpredictable', '', '20.31', '2 시즌 12 주 2 일', '4910', '4', '2', '5', '7', '20', 'TRUE', '1', '7', '7', '7', '4', '5', '7', '775', '2018-10-28', '4', 'CD', '550000', '16', '3.68', '7.06', '7.06', '7.06', '7.06', '7.06', '7.06', '7.06', '6.84', '6.77', '6.02', '6', '6.06', '0', 'CD', '7.06']\n",
      "['55', 'Hanguk', 'Geun-Ho Han', '433728993', '', '', '21.33', '2 시즌 9 주 2 일', '2130', '3', '2', '6', '7', '20', 'TRUE', '1', '5', '6', '4', '3', '7', '6', '727', '2018-10-24', '4', 'FW', '410000', '13', '3.57', '6.08', '6.11', '6.24', '6.15', '6.41', '6.21', '6.57', '6.18', '6.63', '6.67', '6.24', '6.49', '0', 'IMd', '6.67']\n",
      "['61', 'Oceania', 'Cedrick Williamson', '430364099', 'Powerful', '', '20.96', '2 시즌 4 주 0 일', '6450', '3', '3', '7', '7', '17', 'FALSE', '1', '8', '5', '7', '7', '2', '7', '871', '2018-10-24', '4', 'WB', '708000', '2', '4.27', '8.37', '8.14', '8.04', '7.91', '7.91', '8.21', '7.37', '7.22', '6.55', '5.5', '6.21', '5.73', '0', 'WBd', '8.37']\n",
      "['65', 'Hanguk', 'Sang-Hyun Yun', '434942107', '', '', '19.59', '1 시즌 15 주 2 일', '3060', '3', '1', '7', '6', '20', 'TRUE', '1', '6', '5', '4', '7', '4', '5', '795', '2018-10-24', '4.5', 'W', '390000', '4', '3.47', '6.17', '6.05', '6.14', '5.94', '6.26', '6.22', '6.09', '5.85', '5.95', '5.53', '5.99', '5.4', '0', 'CD', '6.26']\n",
      "['70', 'Hanguk', 'Min-Gyu Jung', '429263814', '', '', '25.25', '1 시즌 10 주 6 일', '5870', '1', '4', '7', '7', '15', 'FALSE', '1', '9', '6', '4', '4', '2', '7', '959', '2018-10-24', '5', 'CD', '1030000', '2', '4.61', '8.8', '8.44', '8.65', '8.1', '8.93', '8.9', '8.4', '7.1', '7.17', '5.05', '5.64', '4.88', '0', 'CD', '8.93']\n",
      "['72', 'Hanguk', 'Gyeong-Ryeol Kim', '435840503', '', '', '19.73', '1 시즌 9 주 2 일', '1210', '3', '1', '3', '6', '20', 'TRUE', '1', '7', '6', '4', '4', '3', '7', '744', '2018-10-10', '4', 'CD', '390000', '0', '2.46', '4.56', '4.46', '4.57', '4.37', '4.71', '4.64', '4.6', '4.11', '4.24', '3.3', '3.55', '3.19', '0', 'CD', '4.71']\n",
      "['78', 'Hanguk', 'Jung-Oh Han', '433730490', 'Technical', '', '21.54', '8 주 6 일', '4530', '4', '2', '6', '8', '9', 'FALSE', '1', '9', '3', '5', '1', '3', '6', '960', '2018-10-24', '4.5', 'WB', '1270000', '4', '3.65', '7.23', '6.76', '6.71', '6.27', '6.65', '7.07', '5.66', '4.53', '3.81', '3.3', '0', '3.54', '2.89', 'WBd', '7.23']\n",
      "['79', 'España', 'Jimeno Eguiruren', '415605434', '', 'Y×2', '25.110', '6 주 2 일', '26270', '5', '5', '7', '7', '7', 'FALSE', '1', '8', '11', '3', '9', '2', '6', '1097', '2018-10-28', '6.5', 'IM', '4068000', '22', '4.02', '8.43', '8.45', '9.03', '8.52', '9.78', '8.97', '10.31', '9.27', '10.7', '6.8', '8.63', '5.99', '0', 'IMd', '10.72']\n",
      "['80', 'Andorra', 'Joaquim Muntaner', '427020395', 'Technical', '', '27.56', '4 주 5 일', '16290', '6', '6', '7', '7', '6', 'FALSE', '1', '9', '6', '8', '7', '4', '10', '1001', '2018-10-28', '5', 'WB', '1260000', '29', '4.35', '9.09', '8.87', '8.76', '8.63', '8.63', '8.93', '8.1', '7.87', '7.22', '6.48', '0', '6.71', '6.92', 'WBd', '9.09']\n",
      "['81', 'Hanguk', 'Sang-Yong Jang', '433566477', '', '', '21.48', '4 주 2 일', '7020', '2', '2', '5', '8', '6', 'FALSE', '1', '9', '6', '6', '5', '4', '5', '931', '2018-10-28', '4', 'WB', '970000', '5', '3.21', '7.03', '6.78', '6.83', '6.54', '6.89', '7.01', '6.43', '5.75', '5.53', '4.58', '4.79', '4.61', '0', 'WBd', '7.03']\n",
      "['82', 'Hanguk', 'Si-Yul Sa', '438852209', '', '', '17.63', '1 주 6 일', '1220', '4', '1', '4', '5', '20', 'TRUE', '5', '3', '1', '2', '1', '1', '2', '596', '2018-10-28', '2', 'KP', '750000', '0', '3.7', '2.51', '2.4', '2.38', '2.29', '2.34', '2.45', '2.1', '1.92', '1.71', '1.64', '1.6', '1.71', '0', 'KP', '3.7']\n",
      "['83', 'Hanguk', 'Kwang-Hyun Seo', '434869614', 'Unpredictable', '', '20.45', '1 주 3 일', '2740', '2', '1', '7', '7', '4', 'FALSE', '1', '8', '5', '4', '5', '4', '2', '804', '2018-10-28', '4', 'CD', '390000', '9', '2.94', '6.5', '6.19', '6.31', '5.88', '6.48', '6.54', '5.96', '5.07', '5.05', '4.27', '4.5', '4.16', '0', 'CDtw', '6.54']\n",
      "['98', 'Hanguk', 'Woo-Sung Myo', '438979591', '', '', '18.27', '2 일', '1620', '5', '1', '6', '5', '20', 'TRUE', '6', '3', '1', '1', '1', '1', '1', '606', '', '', '', '850000', '0', '5.08', '2.95', '2.8', '2.83', '2.64', '2.87', '2.94', '2.58', '2.19', '2.09', '1.91', '1.91', '1.91', '0', 'KP', '5.08']\n",
      "['99', 'Danmark', 'Torben Boesen', '321795066', 'Head', '', '41.47', '7 주 2 일', '70', '5', '13', '5', '1', '8', 'FALSE', '0', '8', '0', '3', '0', '0', '0', '782', '2018-06-06', '4', 'WB', '396000', '79', '2.07', '3.86', '3.51', '3.46', '3.15', '3.4', '3.72', '2.65', '1.95', '1.39', '1.11', '1.02', '1.29', '0', 'WBd', '3.86']\n"
     ]
    }
   ],
   "source": [
    "p.write_line_list(folder + '/player.html')\n",
    "p.modify_line_list(folder + '/player.html')\n",
    "p.print_df_cols()\n",
    "p.print_df()"
   ]
  },
  {
   "cell_type": "code",
   "execution_count": 18,
   "metadata": {
    "collapsed": true
   },
   "outputs": [],
   "source": [
    "p.save_df(folder + '/player.csv')"
   ]
  },
  {
   "cell_type": "code",
   "execution_count": 19,
   "metadata": {},
   "outputs": [
    {
     "name": "stdout",
     "output_type": "stream",
     "text": [
      "44\tNumber\n",
      "44\t2\n",
      "44\t4\n",
      "44\t6\n",
      "44\t8\n",
      "44\t10\n",
      "44\t11\n",
      "44\t12\n",
      "44\t13\n",
      "44\t15\n",
      "44\t16\n",
      "44\t25\n",
      "44\t31\n",
      "44\t34\n",
      "44\t40\n",
      "44\t48\n",
      "44\t52\n",
      "44\t55\n",
      "44\t61\n",
      "44\t65\n",
      "44\t70\n",
      "44\t72\n",
      "44\t78\n",
      "44\t79\n",
      "44\t80\n",
      "44\t81\n",
      "44\t82\n",
      "44\t83\n",
      "44\t98\n",
      "44\t99\n"
     ]
    }
   ],
   "source": [
    "with open(folder + '/player.csv', 'r', encoding='utf-8') as f:\n",
    "    for line in f:\n",
    "        col = line.split(\",\")\n",
    "        print(len(col), col[0], sep=\"\\t\" ) # len = 42 -> 44"
   ]
  },
  {
   "cell_type": "code",
   "execution_count": 20,
   "metadata": {},
   "outputs": [
    {
     "name": "stdout",
     "output_type": "stream",
     "text": [
      "2018/10/28/player.html\t : will be removed\n",
      "2018/10/28/player.html\t : is not existed\n"
     ]
    }
   ],
   "source": [
    "HattrickFile.check_and_delete_file(folder + '/player.html')"
   ]
  },
  {
   "cell_type": "code",
   "execution_count": 21,
   "metadata": {
    "collapsed": true
   },
   "outputs": [],
   "source": [
    "import psycopg2"
   ]
  },
  {
   "cell_type": "code",
   "execution_count": 22,
   "metadata": {},
   "outputs": [
    {
     "name": "stdout",
     "output_type": "stream",
     "text": [
      "<connection object at 0x7fe623c3a9c8; dsn: 'user=myuser password=xxx dbname=mydatabase host=localhost port=65432', closed: 0>\n"
     ]
    }
   ],
   "source": [
    "conn = psycopg2.connect(\"dbname='mydatabase' user='myuser' host='localhost' port='65432' password='123qwe'\")\n",
    "print(conn)"
   ]
  },
  {
   "cell_type": "code",
   "execution_count": 23,
   "metadata": {
    "collapsed": true
   },
   "outputs": [],
   "source": [
    "ht_player_pg = HattrickPlayerPostgreSQL()\n",
    "ht_player_table_name = 'player_tmp'"
   ]
  },
  {
   "cell_type": "code",
   "execution_count": 24,
   "metadata": {},
   "outputs": [
    {
     "data": {
      "text/plain": [
       "3232"
      ]
     },
     "execution_count": 24,
     "metadata": {},
     "output_type": "execute_result"
    }
   ],
   "source": [
    "ht_player_pg.select_count_player(conn, ht_player_table_name)"
   ]
  },
  {
   "cell_type": "code",
   "execution_count": null,
   "metadata": {
    "collapsed": true
   },
   "outputs": [],
   "source": [
    "import csv\n",
    "with open(folder + '/player.csv', 'r', encoding='utf-8') as f:\n",
    "    reader = csv.reader(f, delimiter=',')\n",
    "    for row in reader:\n",
    "        if row[0] != \"Number\" :\n",
    "            ht_player_pg.insert_player(conn, ht_player_table_name, folder.replace('/', '-'), row)"
   ]
  },
  {
   "cell_type": "code",
   "execution_count": 25,
   "metadata": {
    "collapsed": true
   },
   "outputs": [],
   "source": [
    "import csv\n",
    "with open(folder + '/player.csv', 'r', encoding='utf-8') as f:\n",
    "    reader = csv.reader(f, delimiter=',')\n",
    "    for row in reader:\n",
    "        if row[0] != \"Number\" :\n",
    "            ht_player_pg.insert_player_tmp(conn, ht_player_table_name, folder.replace('/', '-'), row)"
   ]
  },
  {
   "cell_type": "code",
   "execution_count": 26,
   "metadata": {},
   "outputs": [
    {
     "data": {
      "text/plain": [
       "3261"
      ]
     },
     "execution_count": 26,
     "metadata": {},
     "output_type": "execute_result"
    }
   ],
   "source": [
    "ht_player_pg.select_count_player(conn, ht_player_table_name)"
   ]
  },
  {
   "cell_type": "code",
   "execution_count": 27,
   "metadata": {},
   "outputs": [
    {
     "name": "stdout",
     "output_type": "stream",
     "text": [
      "2018-10-28,2,Jee-Hoon Kim,,,23.15,4 시즌 5 주 2 일,58100,3,2,7,8,20,True,15,5,1,1,1,2,10,1513,2018-10-24,8.0,KP,19050000,0,13.40,5.37,4.99,5.06,5.15,5.34,4.43,3.47,3.26,3.17,2.98,3.16,0.00,KP,13.4\n",
      "2018-10-28,4,Ji-Woon Lee,,,23.56,4 시즌 13 주 2 일,1260,5,3,7,8,20,True,1,7,4,3,5,2,9,725,2018-10-24,4.5,CD,390000,26,4.66,7.66,7.34,7.47,7.65,7.70,7.11,6.27,6.22,5.11,5.67,5.00,0.00,CDtw,7.7\n",
      "2018-10-28,6,Jae-Shin Cha,,Y×2,31.37,4 시즌 13 주 2 일,410,5,6,4,6,20,True,1,7,3,6,3,1,11,703,2018-10-28,3.5,WB,350000,24,3.64,6.02,5.82,5.70,5.54,5.86,5.02,4.76,4.09,3.51,3.66,3.77,0.00,WBd,6.02\n",
      "2018-10-28,8,Hong-Chan Son,,Y×1,25.97,4 시즌 13 주 2 일,1220,5,4,7,7,20,True,1,5,6,5,5,1,10,641,2018-10-28,5.0,W,310000,8,4.23,7.08,7.14,7.20,7.28,7.15,7.46,7.41,7.49,5.64,6.49,5.58,0.00,IMtw,7.58\n",
      "2018-10-28,10,Kwang-Eul Jeon,,Y×1,27.103,4 시즌 13 주 2 일,1520,4,5,6,7,20,True,1,6,7,3,3,2,11,758,2018-10-28,4.5,IM,430000,18,4.24,7.06,7.03,7.30,7.66,7.31,7.82,6.99,7.59,5.41,5.98,5.07,0.00,Cdo,7.82\n",
      "2018-10-28,11,Kwang-Hwan Yun,,Y×1,30.70,4 시즌 13 주 2 일,490,6,5,6,6,20,True,2,5,6,2,5,2,10,611,2018-10-28,4.0,W,310000,14,4.47,6.01,5.98,6.24,6.59,6.25,6.75,6.17,6.81,5.17,5.90,4.80,0.00,IMd,6.84\n",
      "2018-10-28,12,Chan-Myung Lee,,Y×2,29.79,4 시즌 13 주 2 일,780,3,5,8,6,20,True,1,3,7,3,4,3,10,724,2018-10-24,5.0,IM,390000,9,3.82,5.80,6.06,6.30,6.62,6.10,7.34,7.24,8.13,6.48,7.05,6.09,0.00,IMo,8.16\n",
      "2018-10-28,13,Sung-Kook Han,Technical,,25.67,4 시즌 13 주 2 일,940,2,4,3,7,20,True,1,5,6,6,5,2,10,632,2018-10-28,3.0,W,330000,25,2.76,4.72,4.78,4.77,4.75,4.72,4.87,4.97,4.91,4.01,0.00,4.04,4.42,IMtw,5.01\n",
      "2018-10-28,15,Man-Ok Lee,Unpredictable,Y×1,27.8,4 시즌 13 주 2 일,2120,5,4,6,7,20,True,1,5,5,7,6,2,10,770,2018-10-24,5.0,W,350000,13,3.90,6.66,6.73,6.58,6.39,6.55,6.39,6.84,6.38,5.66,6.20,5.88,0.00,Wo,7.03\n",
      "2018-10-28,16,Dong-Shik Kim,,Y×2,23.2,4 시즌 13 주 2 일,1620,6,3,7,8,20,True,1,3,3,6,4,7,12,753,2018-10-28,5.5,FW,410000,42,3.54,5.35,5.45,5.21,4.90,5.15,4.90,5.59,5.14,6.98,6.21,7.28,0.00,FWtw,7.28\n",
      "2018-10-28,25,Pylyp Nagorniak,,,31.2,4 시즌 8 주 1 일,830,5,3,5,6,20,False,1,6,6,3,6,3,11,606,2018-10-24,4.0,IM,396000,12,3.16,5.54,5.46,5.65,5.90,5.70,5.90,5.42,5.82,4.66,5.25,4.40,0.00,CD,5.9\n",
      "2018-10-28,31,Se-Hee Park,,,22.49,3 시즌 12 주 2 일,1120,4,3,5,7,20,True,1,2,5,5,3,7,9,726,2018-10-28,4.0,FW,390000,28,2.76,4.11,4.36,4.31,4.25,4.13,4.71,5.17,5.38,6.16,5.62,6.17,0.00,FWtw,6.17\n",
      "2018-10-28,34,Axel Hermansson,,,32.24,3 시즌 10 주 1 일,700,5,5,6,6,20,False,2,6,6,2,6,2,9,604,2018-09-23,4.0,IM,420000,18,4.23,6.07,5.95,6.22,6.59,6.29,6.59,5.89,6.46,4.80,5.64,4.43,0.00,CD,6.59\n",
      "2018-10-28,40,Matías Pichis,,Bru,25.92,3 시즌 6 주 0 일,8690,6,2,6,7,20,False,1,10,8,2,4,4,9,1000,2018-10-28,5.5,CD,1764000,5,4.19,8.22,7.87,8.32,8.91,8.55,8.60,6.81,7.61,5.33,5.81,4.79,0.00,CD,8.91\n",
      "2018-10-28,48,Dong-Suk Lee,Technical,,21.63,3 시즌 0 주 1 일,1140,6,2,6,7,20,True,1,5,4,5,6,5,6,615,2018-10-24,3.5,FW,290000,14,3.55,5.89,5.83,5.78,5.70,5.82,5.54,5.66,5.47,5.91,0.00,5.99,5.98,FWtw,5.99\n",
      "2018-10-28,52,Seong-Gong Choi,Unpredictable,,20.31,2 시즌 12 주 2 일,4910,4,2,5,7,20,True,1,7,7,7,4,5,7,775,2018-10-28,4.0,CD,550000,16,3.68,7.06,7.06,7.06,7.06,7.06,7.06,6.84,6.77,6.02,6.00,6.06,0.00,CD,7.06\n",
      "2018-10-28,55,Geun-Ho Han,,,21.33,2 시즌 9 주 2 일,2130,3,2,6,7,20,True,1,5,6,4,3,7,6,727,2018-10-24,4.0,FW,410000,13,3.57,6.08,6.11,6.24,6.41,6.21,6.57,6.18,6.63,6.67,6.24,6.49,0.00,IMd,6.67\n",
      "2018-10-28,61,Cedrick Williamson,Powerful,,20.96,2 시즌 4 주 0 일,6450,3,3,7,7,17,False,1,8,5,7,7,2,7,871,2018-10-24,4.0,WB,708000,2,4.27,8.37,8.14,8.04,7.91,8.21,7.37,7.22,6.55,5.50,6.21,5.73,0.00,WBd,8.37\n",
      "2018-10-28,65,Sang-Hyun Yun,,,19.59,1 시즌 15 주 2 일,3060,3,1,7,6,20,True,1,6,5,4,7,4,5,795,2018-10-24,4.5,W,390000,4,3.47,6.17,6.05,6.14,6.26,6.22,6.09,5.85,5.95,5.53,5.99,5.40,0.00,CD,6.26\n",
      "2018-10-28,70,Min-Gyu Jung,,,25.25,1 시즌 10 주 6 일,5870,1,4,7,7,15,False,1,9,6,4,4,2,7,959,2018-10-24,5.0,CD,1030000,2,4.61,8.80,8.44,8.65,8.93,8.90,8.40,7.10,7.17,5.05,5.64,4.88,0.00,CD,8.93\n",
      "2018-10-28,72,Gyeong-Ryeol Kim,,,19.73,1 시즌 9 주 2 일,1210,3,1,3,6,20,True,1,7,6,4,4,3,7,744,2018-10-10,4.0,CD,390000,0,2.46,4.56,4.46,4.57,4.71,4.64,4.60,4.11,4.24,3.30,3.55,3.19,0.00,CD,4.71\n",
      "2018-10-28,78,Jung-Oh Han,Technical,,21.54,8 주 6 일,4530,4,2,6,8,9,False,1,9,3,5,1,3,6,960,2018-10-24,4.5,WB,1270000,4,3.65,7.23,6.76,6.71,6.65,7.07,5.66,4.53,3.81,3.30,0.00,3.54,2.89,WBd,7.23\n",
      "2018-10-28,79,Jimeno Eguiruren,,Y×2,25.110,6 주 2 일,26270,5,5,7,7,7,False,1,8,11,3,9,2,6,1097,2018-10-28,6.5,IM,4068000,22,4.02,8.43,8.45,9.03,9.78,8.97,10.31,9.27,10.70,6.80,8.63,5.99,0.00,IMd,10.72\n",
      "2018-10-28,80,Joaquim Muntaner,Technical,,27.56,4 주 5 일,16290,6,6,7,7,6,False,1,9,6,8,7,4,10,1001,2018-10-28,5.0,WB,1260000,29,4.35,9.09,8.87,8.76,8.63,8.93,8.10,7.87,7.22,6.48,0.00,6.71,6.92,WBd,9.09\n",
      "2018-10-28,81,Sang-Yong Jang,,,21.48,4 주 2 일,7020,2,2,5,8,6,False,1,9,6,6,5,4,5,931,2018-10-28,4.0,WB,970000,5,3.21,7.03,6.78,6.83,6.89,7.01,6.43,5.75,5.53,4.58,4.79,4.61,0.00,WBd,7.03\n",
      "2018-10-28,82,Si-Yul Sa,,,17.63,1 주 6 일,1220,4,1,4,5,20,True,5,3,1,2,1,1,2,596,2018-10-28,2.0,KP,750000,0,3.70,2.51,2.40,2.38,2.34,2.45,2.10,1.92,1.71,1.64,1.60,1.71,0.00,KP,3.7\n",
      "2018-10-28,83,Kwang-Hyun Seo,Unpredictable,,20.45,1 주 3 일,2740,2,1,7,7,4,False,1,8,5,4,5,4,2,804,2018-10-28,4.0,CD,390000,9,2.94,6.50,6.19,6.31,6.48,6.54,5.96,5.07,5.05,4.27,4.50,4.16,0.00,CDtw,6.54\n",
      "2018-10-28,98,Woo-Sung Myo,,,18.27,2 일,1620,5,1,6,5,20,True,6,3,1,1,1,1,1,606,0001-01-01,0.0,,850000,0,5.08,2.95,2.80,2.83,2.87,2.94,2.58,2.19,2.09,1.91,1.91,1.91,0.00,KP,5.08\n",
      "2018-10-28,99,Torben Boesen,Head,,41.47,7 주 2 일,70,5,13,5,1,8,False,0,8,0,3,0,0,0,782,2018-06-06,4.0,WB,396000,79,2.07,3.86,3.51,3.46,3.40,3.72,2.65,1.95,1.39,1.11,1.02,1.29,0.00,WBd,3.86\n"
     ]
    }
   ],
   "source": [
    "tuple_list = ht_player_pg.select_player(conn, ht_player_table_name, folder)\n",
    "ht_player_pg.print(tuple_list)"
   ]
  },
  {
   "cell_type": "code",
   "execution_count": 28,
   "metadata": {},
   "outputs": [
    {
     "data": {
      "text/plain": [
       "<connection object at 0x7fe623c3a9c8; dsn: 'user=myuser password=xxx dbname=mydatabase host=localhost port=65432', closed: 1>"
      ]
     },
     "execution_count": 28,
     "metadata": {},
     "output_type": "execute_result"
    }
   ],
   "source": [
    "conn.close()\n",
    "conn"
   ]
  },
  {
   "cell_type": "code",
   "execution_count": 29,
   "metadata": {
    "collapsed": true
   },
   "outputs": [],
   "source": [
    "conn = None\n",
    "conn"
   ]
  },
  {
   "cell_type": "code",
   "execution_count": null,
   "metadata": {
    "collapsed": true
   },
   "outputs": [],
   "source": []
  }
 ],
 "metadata": {
  "kernelspec": {
   "display_name": "Python 3",
   "language": "python",
   "name": "python3"
  },
  "language_info": {
   "codemirror_mode": {
    "name": "ipython",
    "version": 3
   },
   "file_extension": ".py",
   "mimetype": "text/x-python",
   "name": "python",
   "nbconvert_exporter": "python",
   "pygments_lexer": "ipython3",
   "version": "3.6.3"
  }
 },
 "nbformat": 4,
 "nbformat_minor": 2
}
