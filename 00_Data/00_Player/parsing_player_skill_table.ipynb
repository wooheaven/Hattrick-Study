{
 "cells": [
  {
   "cell_type": "code",
   "execution_count": 1,
   "metadata": {},
   "outputs": [
    {
     "data": {
      "text/plain": [
       "'2017/07/30'"
      ]
     },
     "execution_count": 1,
     "metadata": {},
     "output_type": "execute_result"
    }
   ],
   "source": [
    "folder = \"2017/07/30\"\n",
    "folder"
   ]
  },
  {
   "cell_type": "code",
   "execution_count": 2,
   "metadata": {
    "collapsed": true
   },
   "outputs": [],
   "source": [
    "# player_skill_table from Hattrick to file"
   ]
  },
  {
   "cell_type": "code",
   "execution_count": 3,
   "metadata": {
    "collapsed": true
   },
   "outputs": [],
   "source": [
    "import pyautogui\n",
    "screenWidth, screenHeight = pyautogui.size()\n",
    "currentMouseX, currentMouseY = pyautogui.position()"
   ]
  },
  {
   "cell_type": "code",
   "execution_count": 4,
   "metadata": {
    "collapsed": true
   },
   "outputs": [],
   "source": [
    "# firefox 4번째 tab 클릭하기\n",
    "pyautogui.moveTo(screenWidth/10*7, screenHeight/30*1, duration=1.5)\n",
    "pyautogui.click()\n",
    "# hattrick 배경 클릭하기\n",
    "pyautogui.moveTo(screenWidth/11*6, screenHeight/30*3, duration=1.5)\n",
    "pyautogui.click()\n",
    "# 스크롤 올리기\n",
    "pyautogui.scroll(20)\n",
    "# hattrick 선수 클릭하기\n",
    "pyautogui.moveTo(screenWidth/18*11, screenHeight/31*21, duration=1.5)\n",
    "pyautogui.click()\n",
    "# hattrick 배경 클릭하기\n",
    "pyautogui.moveTo(screenWidth/11*6, screenHeight/30*3, duration=2.5)\n",
    "pyautogui.click()\n",
    "# 스크롤 올리기\n",
    "pyautogui.scroll(20)\n",
    "# 스킬 테이블 클릭하기\n",
    "pyautogui.moveTo(screenWidth/14*11, screenHeight/31*18, duration=3.5)\n",
    "pyautogui.click()\n",
    "# 스크롤 내리기\n",
    "pyautogui.scroll(-5)\n",
    "# 클럽에 소속된 시간 나타내기 클릭하기\n",
    "pyautogui.moveTo(screenWidth/12*8, screenHeight/31*28, duration=3.5)\n",
    "pyautogui.click()\n",
    "# 복사 클릭하기\n",
    "pyautogui.moveTo(screenWidth/14*11, screenHeight/31*8, duration=4)\n",
    "pyautogui.click()\n",
    "# 닫기 클릭하기\n",
    "pyautogui.moveTo(screenWidth/21*20, screenHeight/31*11, duration=1.5)\n",
    "pyautogui.click()\n",
    "# 스킬 테이블 클릭하기\n",
    "pyautogui.moveTo(screenWidth/28*22, screenHeight/34*8, duration=1.5)\n",
    "pyautogui.click()\n",
    "# 스크롤 올리기\n",
    "pyautogui.scroll(20)\n",
    "# firefox 5번째 tab 클릭하기\n",
    "pyautogui.moveTo(screenWidth/12*9, screenHeight/30*1, duration=2)\n",
    "pyautogui.click()"
   ]
  },
  {
   "cell_type": "code",
   "execution_count": 5,
   "metadata": {
    "collapsed": true
   },
   "outputs": [],
   "source": [
    "import pyperclip # The name you have the file\n",
    "tmpClip = pyperclip.paste()"
   ]
  },
  {
   "cell_type": "code",
   "execution_count": 6,
   "metadata": {},
   "outputs": [
    {
     "name": "stdout",
     "output_type": "stream",
     "text": [
      "[table]\n",
      "[tr][th]-[/th][th]#[/th][th]Nat[/th][th]Player[/th][th]Sp[/th][th]Stat[/th][th]Age[/th][th]Since[/th][th]TSI[/th][th]LS[/th][th]XP[/th][th]Fo[/th][th]Stm[/th][th]Lo[/th][th]MB[/th][th]KP[/th][th]DF[/th][th]PM[/th][th]WI[/th][th]PS[/th][th]SC[/th][th]SP[/th][th]Psico[/th][th]Last[/th][th]Rt[/th][th]Pos[/th][th]Wage[/th][th]G[/th][th]TC[/th][th]PH[/th][th]KP[/th][th]WB[/th][th]CD[/th][th]W[/th][th]IM[/th][th]FW[/th][/tr]\n",
      "[tr][td]–[/td][td]1[/td][td]Hanguk[/td][td]Jee-Seung Oh [playerid=427619233][/td][td][/td][td][/td][td]22.0[/td][td]12 주   3 일[/td][td]6930[/td][td]4[/td][td]3[/td][td]7[/td][td]7[/td][td]20[/td][td]✔[/td][td]8[/td][td]3[/td][td]1[/td][td]1[/td][td]1[/td][td]1[/td][td]6[/td][td]856[/td][td]2017-07-26 [playerid=427619233][/td][td]4.5[/td][td]KP[/td][td]1970000[/td][td]0[/td][td][playerid=427619233][/td][td][playerid=427619233][/td][td]8[/td][td]3.95[/td][td]4.03[/td][td]3.22[/td][td]3.1[/td][td]2.89[/td][/tr]\n",
      "[tr][td]–[/td][td]2[/td][td]Hanguk[/td][td]Jee-Hoon Kim [playerid=428709461][/td][td][/td][td][/td][td]19.9[/td][td]4 주   4 일[/td][td]2580[/td][td]3[/td][td]1[/td][td]7[/td][td]5[/td][td]20[/td][td]✔[/td][td]6[/td][td]5[/td][td]1[/td][td]1[/td][td]1[/td][td]2[/td][td]2[/td][td]665[/td][td]2017-07-30 [playerid=428709461][/td][td]3.5[/td][td]KP[/td][td]930000[/td][td]0[/td][td][playerid=428709461][/td][td][playerid=428709461][/td][td]6.24[/td][td]4.17[/td][td]4.32[/td][td]2.79[/td][td]2.6[/td][td]2.52[/td][/tr]\n",
      "[tr][td]–[/td][td]3[/td][td]Hanguk[/td][td]Eun-Seok Hong [playerid=427619235][/td][td][/td][td][/td][td]29.34[/td][td]12 주   3 일[/td][td]450[/td][td]5[/td][td]4[/td][td]5[/td][td]6[/td][td]20[/td][td]✔[/td][td]1[/td][td]6[/td][td]6[/td][td]3[/td][td]2[/td][td]2[/td][td]4[/td][td]621[/td][td]2017-07-26 [playerid=427619235][/td][td]3[/td][td]CD[/td][td]300000[/td][td]1[/td][td][playerid=427619235][/td][td][playerid=427619235][/td][td]3.7[/td][td]6.01[/td][td]6.46[/td][td]5.69[/td][td]6.04[/td][td]4.38[/td][/tr]\n",
      "[tr][td]–[/td][td]4[/td][td]Hanguk[/td][td]Ji-Woon Lee [playerid=427619236][/td][td][/td][td][/td][td]19.50[/td][td]12 주   3 일[/td][td]1090[/td][td]5[/td][td]2[/td][td]6[/td][td]6[/td][td]20[/td][td]✔[/td][td]1[/td][td]7[/td][td]4[/td][td]3[/td][td]5[/td][td]2[/td][td]5[/td][td]738[/td][td]2017-07-23 [playerid=427619236][/td][td]3.5[/td][td]CD[/td][td]390000[/td][td]2[/td][td][playerid=427619236][/td][td][playerid=427619236][/td][td]3.95[/td][td]6.33[/td][td]6.61[/td][td]5.38[/td][td]5.34[/td][td]4.35[/td][/tr]\n",
      "[tr][td]–[/td][td]5[/td][td]Hanguk[/td][td]Jang-Soo Choi [playerid=427619237][/td][td]빠름\n",
      "더 많은 정보를 보려면 클릭[/td][td][/td][td]30.96[/td][td]12 주   3 일[/td][td]180[/td][td]5[/td][td]5[/td][td]4[/td][td]6[/td][td]20[/td][td]✔[/td][td]1[/td][td]6[/td][td]4[/td][td]4[/td][td]2[/td][td]1[/td][td]7[/td][td]603[/td][td]2017-06-22 [playerid=427619237][/td][td]2[/td][td]CD[/td][td]280000[/td][td]0[/td][td][playerid=427619237][/td][td][playerid=427619237][/td][td]3.32[/td][td]5.16[/td][td]5.22[/td][td]4.5[/td][td]4.33[/td][td]3.31[/td][/tr]\n",
      "[tr][td]–[/td][td]6[/td][td]Hanguk[/td][td]Jae-Shin Cha [playerid=427619238][/td][td][/td][td]Y×1[/td][td]27.31[/td][td]12 주   3 일[/td][td]940[/td][td]5[/td][td]4[/td][td]4[/td][td]7[/td][td]20[/td][td]✔[/td][td]1[/td][td]7[/td][td]3[/td][td]6[/td][td]3[/td][td]2[/td][td]6[/td][td]777[/td][td]2017-07-26 [playerid=427619238][/td][td]3.5[/td][td]WB[/td][td]390000[/td][td]3[/td][td][playerid=427619238][/td][td][playerid=427619238][/td][td]3.52[/td][td]5.73[/td][td]5.45[/td][td]4.65[/td][td]4.01[/td][td]3.68[/td][/tr]\n",
      "[tr][td]–[/td][td]7[/td][td]Hanguk[/td][td]In-Moo Byon [playerid=427619239][/td][td][/td][td][/td][td]32.19[/td][td]12 주   3 일[/td][td]440[/td][td]1[/td][td]6[/td][td]6[/td][td]6[/td][td]20[/td][td]✔[/td][td]2[/td][td]6[/td][td]5[/td][td]5[/td][td]5[/td][td]3[/td][td]6[/td][td]595[/td][td]2017-07-30 [playerid=427619239][/td][td]3.5[/td][td]CD[/td][td]300000[/td][td]4[/td][td][playerid=427619239][/td][td][playerid=427619239][/td][td]4.72[/td][td]6.73[/td][td]6.76[/td][td]6.4[/td][td]6.28[/td][td]5.56[/td][/tr]\n",
      "[tr][td]–[/td][td]8[/td][td]Hanguk[/td][td]Hong-Chan Son [playerid=427619240][/td][td][/td][td]Y×1[/td][td]21.91[/td][td]12 주   3 일[/td][td]1110[/td][td]5[/td][td]3[/td][td]6[/td][td]7[/td][td]20[/td][td]✔[/td][td]1[/td][td]5[/td][td]6[/td][td]5[/td][td]5[/td][td]1[/td][td]4[/td][td]632[/td][td]2017-07-26 [playerid=427619240][/td][td]3.5[/td][td]WB[/td][td]310000[/td][td]0[/td][td][playerid=427619240][/td][td][playerid=427619240][/td][td]3.73[/td][td]6.4[/td][td]6.53[/td][td]6.65[/td][td]6.72[/td][td]5.02[/td][/tr]\n",
      "[tr][td]–[/td][td]9[/td][td]Hanguk[/td][td]Hoi-Taek Park [playerid=427619241][/td][td]예측할 수 없음\n",
      "더 많은 정보를 보려면 클릭[/td][td][/td][td]19.98[/td][td]12 주   3 일[/td][td]1000[/td][td]2[/td][td]2[/td][td]5[/td][td]6[/td][td]20[/td][td]✔[/td][td]1[/td][td]5[/td][td]6[/td][td]3[/td][td]6[/td][td]3[/td][td]6[/td][td]646[/td][td]2017-07-26 [playerid=427619241][/td][td]3.5[/td][td]IM[/td][td]330000[/td][td]3[/td][td][playerid=427619241][/td][td][playerid=427619241][/td][td]3.04[/td][td]5.05[/td][td]5.44[/td][td]5.3[/td][td]5.74[/td][td]4.71[/td][/tr]\n",
      "[tr][td]–[/td][td]10[/td][td]Hanguk[/td][td]Kwang-Eul Jeon [playerid=427619242][/td][td][/td][td][/td][td]23.97[/td][td]12 주   3 일[/td][td]1420[/td][td]4[/td][td]3[/td][td]6[/td][td]7[/td][td]20[/td][td]✔[/td][td]1[/td][td]6[/td][td]7[/td][td]3[/td][td]3[/td][td]2[/td][td]5[/td][td]747[/td][td]2017-07-26 [playerid=427619242][/td][td]4[/td][td]IM[/td][td]430000[/td][td]2[/td][td][playerid=427619242][/td][td][playerid=427619242][/td][td]3.96[/td][td]6.73[/td][td]7.36[/td][td]6.69[/td][td]7.29[/td][td]5.12[/td][/tr]\n",
      "[tr][td]–[/td][td]11[/td][td]Hanguk[/td][td]Kwang-Hwan Yun [playerid=427619243][/td][td][/td][td][/td][td]26.64[/td][td]12 주   3 일[/td][td]670[/td][td]6[/td][td]3[/td][td]4[/td][td]6[/td][td]20[/td][td]✔[/td][td]2[/td][td]5[/td][td]6[/td][td]3[/td][td]5[/td][td]2[/td][td]6[/td][td]673[/td][td]2017-07-30 [playerid=427619243][/td][td]3.5[/td][td]IM[/td][td]330000[/td][td]2[/td][td][playerid=427619243][/td][td][playerid=427619243][/td][td]3.45[/td][td]4.82[/td][td]5.18[/td][td]4.99[/td][td]5.36[/td][td]4.1[/td][/tr]\n",
      "[tr][td]–[/td][td]12[/td][td]Hanguk[/td][td]Chan-Myung Lee [playerid=427619244][/td][td][/td][td][/td][td]25.73[/td][td]12 주   3 일[/td][td]930[/td][td]3[/td][td]4[/td][td]5[/td][td]7[/td][td]20[/td][td]✔[/td][td]1[/td][td]3[/td][td]7[/td][td]3[/td][td]4[/td][td]3[/td][td]4[/td][td]761[/td][td]2017-07-26 [playerid=427619244][/td][td]3.5[/td][td]FW[/td][td]410000[/td][td]1[/td][td][playerid=427619244][/td][td][playerid=427619244][/td][td]3.08[/td][td]4.95[/td][td]5.42[/td][td]5.93[/td][td]6.67[/td][td]5.3[/td][/tr]\n",
      "[tr][td]–[/td][td]13[/td][td]Hanguk[/td][td]Sung-Kook Han [playerid=427619245][/td][td]공 마술사\n",
      "더 많은 정보를 보려면 클릭[/td][td][/td][td]21.61[/td][td]12 주   3 일[/td][td]1410[/td][td]2[/td][td]3[/td][td]6[/td][td]7[/td][td]20[/td][td]✔[/td][td]1[/td][td]5[/td][td]6[/td][td]6[/td][td]5[/td][td]2[/td][td]5[/td][td]628[/td][td]2017-07-26 [playerid=427619245][/td][td]4.5[/td][td]W[/td][td]330000[/td][td]7[/td][td][playerid=427619245][/td][td][playerid=427619245][/td][td]3.71[/td][td]6.53[/td][td]6.49[/td][td]6.8[/td][td]6.72[/td][td]5.46[/td][/tr]\n",
      "[tr][td]–[/td][td]14[/td][td]Hanguk[/td][td]Se-Jong Cho [playerid=427619246][/td][td][/td][td][/td][td]28.61[/td][td]12 주   3 일[/td][td]790[/td][td]4[/td][td]5[/td][td]6[/td][td]6[/td][td]20[/td][td]✔[/td][td]1[/td][td]5[/td][td]5[/td][td]6[/td][td]3[/td][td]4[/td][td]4[/td][td]613[/td][td]2017-07-30 [playerid=427619246][/td][td]3.5[/td][td]WB[/td][td]290000[/td][td]8[/td][td][playerid=427619246][/td][td][playerid=427619246][/td][td]3.89[/td][td]6.46[/td][td]6.3[/td][td]6.32[/td][td]6.1[/td][td]5.77[/td][/tr]\n",
      "[tr][td]–[/td][td]15[/td][td]Hanguk[/td][td]Man-Ok Lee [playerid=427619247][/td][td]예측할 수 없음\n",
      "더 많은 정보를 보려면 클릭[/td][td]Y×1[/td][td]23.2[/td][td]12 주   3 일[/td][td]2250[/td][td]5[/td][td]3[/td][td]7[/td][td]7[/td][td]20[/td][td]✔[/td][td]1[/td][td]5[/td][td]5[/td][td]7[/td][td]6[/td][td]2[/td][td]4[/td][td]759[/td][td]2017-07-30 [playerid=427619247][/td][td]5[/td][td]W[/td][td]350000[/td][td]7[/td][td][playerid=427619247][/td][td][playerid=427619247][/td][td]4.03[/td][td]7.07[/td][td]6.71[/td][td]7.19[/td][td]6.69[/td][td]5.92[/td][/tr]\n",
      "[tr][td]–[/td][td]16[/td][td]Hanguk[/td][td]Dong-Shik Kim [playerid=427619248][/td][td][/td][td][/td][td]18.108[/td][td]12 주   3 일[/td][td]1270[/td][td]6[/td][td]2[/td][td]5[/td][td]6[/td][td]20[/td][td]✔[/td][td]1[/td][td]3[/td][td]3[/td][td]6[/td][td]4[/td][td]7[/td][td]6[/td][td]774[/td][td]2017-07-26 [playerid=427619248][/td][td]4.5[/td][td]FW[/td][td]410000[/td][td]10[/td][td][playerid=427619248][/td][td][playerid=427619248][/td][td]2.69[/td][td]4.23[/td][td]3.78[/td][td]4.34[/td][td]3.97[/td][td]5.47[/td][/tr]\n",
      "[tr][td]–[/td][td]17[/td][td]Hanguk[/td][td]Seung-Mee Kim [playerid=427619249][/td][td]예측할 수 없음\n",
      "더 많은 정보를 보려면 클릭[/td][td][/td][td]34.47[/td][td]12 주   3 일[/td][td]60[/td][td]2[/td][td]6[/td][td]5[/td][td]5[/td][td]20[/td][td]✔[/td][td]1[/td][td]2[/td][td]4[/td][td]4[/td][td]4[/td][td]7[/td][td]5[/td][td]680[/td][td]2017-07-30 [playerid=427619249][/td][td]4[/td][td]FW[/td][td]300000[/td][td]12[/td][td][playerid=427619249][/td][td][playerid=427619249][/td][td]2.78[/td][td]3.91[/td][td]3.85[/td][td]4.49[/td][td]4.66[/td][td]5.65[/td][/tr]\n",
      "[tr][td]–[/td][td]18[/td][td]Hanguk[/td][td]Kwang-Rae Kim [playerid=427619250][/td][td]헤딩\n",
      "더 많은 정보를 보려면 클릭[/td][td]Y×2[/td][td]26.68[/td][td]12 주   3 일[/td][td]930[/td][td]3[/td][td]4[/td][td]4[/td][td]7[/td][td]20[/td][td]✔[/td][td]1[/td][td]2[/td][td]5[/td][td]3[/td][td]6[/td][td]6[/td][td]2[/td][td]642[/td][td]2017-07-30 [playerid=427619250][/td][td]4[/td][td]FW[/td][td]310000[/td][td]9[/td][td][playerid=427619250][/td][td][playerid=427619250][/td][td]2.53[/td][td]3.65[/td][td]3.82[/td][td]4.52[/td][td]4.99[/td][td]5.37[/td][/tr]\n",
      "[tr][td]–[/td][td]19[/td][td]Hanguk[/td][td]Joo-Po Lee [playerid=428801949][/td][td][/td][td][/td][td]17.61[/td][td]3 주   4 일[/td][td]0[/td][td]5[/td][td]1[/td][td]5[/td][td]5[/td][td]20[/td][td]✔[/td][td]1[/td][td]2[/td][td]2[/td][td]3[/td][td]1[/td][td]1[/td][td]3[/td][td]290[/td][td][/td][td][/td][td][/td][td]250000[/td][td]0[/td][td][playerid=428801949][/td][td][playerid=428801949][/td][td]1.95[/td][td]2.58[/td][td]2.45[/td][td]2.53[/td][td]2.35[/td][td]2.13[/td][/tr]\n",
      "[tr][td]–[/td][td]20[/td][td]Brasil[/td][td]Jader da Matta [playerid=427827635][/td][td][/td][td]R[/td][td]32.25[/td][td]7 주   2 일[/td][td]690[/td][td]4[/td][td]6[/td][td]6[/td][td]6[/td][td]8[/td][td][/td][td]2[/td][td]6[/td][td]6[/td][td]5[/td][td]6[/td][td]2[/td][td]5[/td][td]590[/td][td]2017-07-30 [playerid=427827635][/td][td]3.5[/td][td]WB[/td][td]384000[/td][td]1[/td][td][playerid=427827635][/td][td][playerid=427827635][/td][td]3.79[/td][td]5.99[/td][td]6.15[/td][td]5.98[/td][td]6.03[/td][td]4.68[/td][/tr]\n",
      "[tr][td]–[/td][td]21[/td][td]Belgium[/td][td]Jitse Haes [playerid=428112207][/td][td][/td][td]Y×1[/td][td]31.66[/td][td]7 주   3 일[/td][td]880[/td][td]4[/td][td]5[/td][td]6[/td][td]6[/td][td]8[/td][td][/td][td]2[/td][td]6[/td][td]6[/td][td]5[/td][td]6[/td][td]2[/td][td]5[/td][td]596[/td][td]2017-07-30 [playerid=428112207][/td][td]3[/td][td]CD[/td][td]384000[/td][td]2[/td][td][playerid=428112207][/td][td][playerid=428112207][/td][td]3.73[/td][td]5.94[/td][td]6.1[/td][td]5.93[/td][td]5.98[/td][td]4.62[/td][/tr]\n",
      "[tr][td]–[/td][td]22[/td][td]Nederland[/td][td]Keith Esser [playerid=428060480][/td][td]빠름\n",
      "더 많은 정보를 보려면 클릭[/td][td][/td][td]31.83[/td][td]7 주   2 일[/td][td]870[/td][td]5[/td][td]6[/td][td]5[/td][td]6[/td][td]8[/td][td][/td][td]2[/td][td]6[/td][td]5[/td][td]6[/td][td]6[/td][td]3[/td][td]6[/td][td]595[/td][td]2017-07-30 [playerid=428060480][/td][td]3.5[/td][td]W[/td][td]372000[/td][td]1[/td][td][playerid=428060480][/td][td][playerid=428060480][/td][td]3.52[/td][td]5.54[/td][td]5.43[/td][td]5.32[/td][td]5.05[/td][td]4.53[/td][/tr]\n",
      "[tr][td]–[/td][td]23[/td][td]Belgium[/td][td]Mathias Piron [playerid=428125893][/td][td]공 마술사\n",
      "더 많은 정보를 보려면 클릭[/td][td][/td][td]32.35[/td][td]7 주   3 일[/td][td]530[/td][td]6[/td][td]5[/td][td]4[/td][td]6[/td][td]8[/td][td][/td][td]2[/td][td]6[/td][td]6[/td][td]6[/td][td]6[/td][td]3[/td][td]6[/td][td]590[/td][td]2017-07-30 [playerid=428125893][/td][td]3[/td][td]W[/td][td]372000[/td][td]1[/td][td][playerid=428125893][/td][td][playerid=428125893][/td][td]3.02[/td][td]4.95[/td][td]4.95[/td][td]4.95[/td][td]4.87[/td][td]4.11[/td][/tr]\n",
      "[tr][td]–[/td][td]24[/td][td]Canada[/td][td]Philippe Morel [playerid=425173438][/td][td]예측할 수 없음\n",
      "더 많은 정보를 보려면 클릭[/td][td][/td][td]33.49[/td][td]7 주   2 일[/td][td]290[/td][td]5[/td][td]5[/td][td]6[/td][td]5[/td][td]8[/td][td][/td][td]2[/td][td]6[/td][td]5[/td][td]5[/td][td]6[/td][td]2[/td][td]6[/td][td]590[/td][td]2017-07-26 [playerid=425173438][/td][td]3[/td][td]W[/td][td]360000[/td][td]3[/td][td][playerid=425173438][/td][td][playerid=425173438][/td][td]3.57[/td][td]5.51[/td][td]5.55[/td][td]5.27[/td][td]5.13[/td][td]4.18[/td][/tr]\n",
      "[tr][td]–[/td][td]25[/td][td]Polska[/td][td]Pylyp Nagorniak [playerid=406205227][/td][td][/td][td]Y×2[/td][td]26.108[/td][td]7 주   3 일[/td][td]1580[/td][td]5[/td][td]3[/td][td]5[/td][td]5[/td][td]8[/td][td][/td][td]1[/td][td]6[/td][td]7[/td][td]3[/td][td]6[/td][td]3[/td][td]6[/td][td]720[/td][td]2017-07-30 [playerid=406205227][/td][td]3.5[/td][td]IM[/td][td]444000[/td][td]1[/td][td][playerid=406205227][/td][td][playerid=406205227][/td][td]2.53[/td][td]4.89[/td][td]5.42[/td][td]5.06[/td][td]5.61[/td][td]4.18[/td][/tr]\n",
      "[tr][td]–[/td][td]26[/td][td]Türkiye[/td][td]Türker Arkan [playerid=425734621][/td][td][/td][td]Y×1[/td][td]33.13[/td][td]7 주   2 일[/td][td]710[/td][td]1[/td][td]6[/td][td]7[/td][td]6[/td][td]8[/td][td][/td][td]2[/td][td]6[/td][td]7[/td][td]5[/td][td]6[/td][td]2[/td][td]5[/td][td]680[/td][td]2017-07-30 [playerid=425734621][/td][td]4.5[/td][td]IM[/td][td]456000[/td][td]11[/td][td][playerid=425734621][/td][td][playerid=425734621][/td][td]4.01[/td][td]6.54[/td][td]6.84[/td][td]6.78[/td][td]7.04[/td][td]5.21[/td][/tr]\n",
      "[tr][td]–[/td][td]27[/td][td]Hanguk[/td][td]Joon Yuk [playerid=429133218][/td][td][/td][td][/td][td]18.69[/td][td]0 일[/td][td]170[/td][td]3[/td][td]1[/td][td]6[/td][td]5[/td][td]20[/td][td]✔[/td][td]1[/td][td]5[/td][td]4[/td][td]2[/td][td]4[/td][td]3[/td][td]3[/td][td]498[/td][td][/td][td][/td][td][/td][td]250000[/td][td]0[/td][td][playerid=429133218][/td][td][playerid=429133218][/td][td]2.8[/td][td]4.36[/td][td]4.69[/td][td]4.03[/td][td]4.27[/td][td]3.71[/td][/tr]\n",
      "[tr][td]–[/td][td]28[/td][td]Hanguk[/td][td]Kyoo-Poong Jeon [playerid=428976501][/td][td][/td][td][/td][td]18.63[/td][td]1 주   4 일[/td][td]40[/td][td]3[/td][td]1[/td][td]6[/td][td]5[/td][td]20[/td][td]✔[/td][td]1[/td][td]3[/td][td]3[/td][td]3[/td][td]2[/td][td]4[/td][td]4[/td][td]406[/td][td]2017-07-30 [playerid=428976501][/td][td]2[/td][td]CD[/td][td]250000[/td][td]1[/td][td][playerid=428976501][/td][td][playerid=428976501][/td][td]2.36[/td][td]3.45[/td][td]3.45[/td][td]3.37[/td][td]3.4[/td][td]3.64[/td][/tr]\n",
      "[tr][td]–[/td][td]99[/td][td]Hanguk[/td][td]Je-Min Jung [playerid=427619232] 코치[/td][td][/td][td][/td][td]41.12[/td][td]12 주   3 일[/td][td]0[/td][td]4[/td][td]8[/td][td]3[/td][td]2[/td][td]20[/td][td]✔[/td][td]0[/td][td]0[/td][td]0[/td][td]0[/td][td]0[/td][td]0[/td][td]2[/td][td]340[/td][td][/td][td][/td][td][/td][td]250000[/td][td]0[/td][td][playerid=427619232][/td][td][playerid=427619232][/td][td]1.14[/td][td]1.14[/td][td]1.14[/td][td]1.14[/td][td]1.14[/td][td]1.14[/td][/tr]\n",
      "[/table]\n"
     ]
    }
   ],
   "source": [
    "print(tmpClip)"
   ]
  },
  {
   "cell_type": "code",
   "execution_count": 7,
   "metadata": {
    "collapsed": true
   },
   "outputs": [],
   "source": [
    "def removeHattrickTag(inputList):\n",
    "    outputList = list();\n",
    "    for line in inputList:\n",
    "        if line.find('table') == -1:\n",
    "            line = line.replace('[tr]', '')\n",
    "            line = line.replace('[/tr]', '')\n",
    "            line = line.replace('[th]', '')\n",
    "            line = line.replace('[/th]', ',')\n",
    "            line = line.replace('[td]', '')\n",
    "            line = line.replace('[/td]', ',')\n",
    "            outputList.append(line)\n",
    "    return outputList"
   ]
  },
  {
   "cell_type": "code",
   "execution_count": 8,
   "metadata": {
    "collapsed": true
   },
   "outputs": [],
   "source": [
    "def combineTwoLine(inputList):\n",
    "    outputStr = \"\";\n",
    "    for line in inputList:\n",
    "        col = line.split(\",\")\n",
    "        if len(col) == 37 : \n",
    "            outputStr = outputStr + line + \"\\n\"\n",
    "        if len(col) == 5 : \n",
    "            outputStr = outputStr + line \n",
    "        if len(col) == 33 : \n",
    "            for i in range(1, 33):\n",
    "                outputStr = outputStr + \",\" + col[i]\n",
    "            outputStr = outputStr + \"\\n\"\n",
    "    outputStr = outputStr[:-1]\n",
    "    return outputStr.split(\"\\n\")"
   ]
  },
  {
   "cell_type": "code",
   "execution_count": 9,
   "metadata": {
    "collapsed": true
   },
   "outputs": [],
   "source": [
    "def removeFirstColumn(inputList):\n",
    "    outputList = list();\n",
    "    for line in inputList:\n",
    "        col = line.split(\",\")\n",
    "        tmpStr = \"\"\n",
    "        \n",
    "        for i in range(1,len(col)):\n",
    "            tmpStr += col[i] + \",\"\n",
    "        tmpStr = tmpStr[:-1]\n",
    "        outputList.append(tmpStr)\n",
    "    return outputList"
   ]
  },
  {
   "cell_type": "code",
   "execution_count": 10,
   "metadata": {
    "collapsed": true
   },
   "outputs": [],
   "source": [
    "def dividePlayerAndPlayerID(inputList):\n",
    "    outputList = list();\n",
    "    for line in inputList:\n",
    "        col = line.split(\",\")\n",
    "        tmpStr = \"\"\n",
    "        if col[2] == \"Player\": \n",
    "            col[2] = \"Player,PlayerID\"\n",
    "            tmpStr += col[0]\n",
    "            for i in range(1, len(col)):\n",
    "                tmpStr += \",\" + col[i]\n",
    "            outputList.append(tmpStr)\n",
    "        else : \n",
    "            tmpStr = line.replace(\" [playerid=\", \",\", 1)\n",
    "            tmpStr = tmpStr.replace(\"]\", \"\", 1)\n",
    "            outputList.append(tmpStr)\n",
    "    return outputList"
   ]
  },
  {
   "cell_type": "code",
   "execution_count": 11,
   "metadata": {
    "collapsed": true
   },
   "outputs": [],
   "source": [
    "def removeSpaceInSince(inputList):\n",
    "    outputList = list();\n",
    "    for line in inputList:\n",
    "        col = line.split(\",\")\n",
    "        if col[7] != \"Since\":\n",
    "            tmpStr = \"\"\n",
    "            tmpStr = line.replace(\" 주\", \"주\", 1).replace(\"주 \", \"주\", 1).replace(\"주 \", \"주\", 1).replace(\" 일\", \"일\", 1)\n",
    "            outputList.append(tmpStr)\n",
    "        else:\n",
    "            outputList.append(line)\n",
    "    return outputList"
   ]
  },
  {
   "cell_type": "code",
   "execution_count": 12,
   "metadata": {
    "collapsed": true
   },
   "outputs": [],
   "source": [
    "def modifyMB(inputList):\n",
    "    outputList = list();\n",
    "    for line in inputList:\n",
    "        col = line.split(\",\")\n",
    "        if col[14] == \"MB\":\n",
    "            outputList.append(line)\n",
    "        if len( col[14] ) == 1:\n",
    "            tmpLine = line.replace(\"✔\", \"TRUE\", 1)\n",
    "            outputList.append(tmpLine)\n",
    "        if len( col[14] ) == 0:\n",
    "            col[14] = \"FALSE\"\n",
    "            tmpLine = col[0]\n",
    "            for i in range(1, len(col) ):\n",
    "                tmpLine += \",\" + col[i]\n",
    "            outputList.append(tmpLine)\n",
    "    return outputList"
   ]
  },
  {
   "cell_type": "code",
   "execution_count": 13,
   "metadata": {
    "collapsed": true
   },
   "outputs": [],
   "source": [
    "def modifyLast(inputList):\n",
    "    outputList = list();\n",
    "    for line in inputList:\n",
    "        col = line.split(\",\")\n",
    "        if col[23] == \"Last\":\n",
    "            outputList.append(line)\n",
    "        else :\n",
    "            col[23] = col[23][:10]\n",
    "            tmpLine = col[0]\n",
    "            for i in range(1, len(col)):\n",
    "                tmpLine += \",\" + col[i]\n",
    "            outputList.append(tmpLine)\n",
    "    return outputList"
   ]
  },
  {
   "cell_type": "code",
   "execution_count": 14,
   "metadata": {
    "collapsed": true
   },
   "outputs": [],
   "source": [
    "def assignEmptyForTC(inputList):\n",
    "    outputList = list();\n",
    "    for line in inputList:\n",
    "        col = line.split(\",\")\n",
    "        if col[28] == \"TC\":\n",
    "            outputList.append(line)\n",
    "        else :\n",
    "            col[28] = \"\"\n",
    "            tmpLine = col[0]\n",
    "            for i in range(1, len(col)):\n",
    "                tmpLine += \",\" + col[i]\n",
    "            outputList.append(tmpLine)\n",
    "    return outputList"
   ]
  },
  {
   "cell_type": "code",
   "execution_count": 15,
   "metadata": {
    "collapsed": true
   },
   "outputs": [],
   "source": [
    "def assignEmptyForPH(inputList):\n",
    "    outputList = list();\n",
    "    for line in inputList:\n",
    "        col = line.split(\",\")\n",
    "        if col[29] == \"PH\":\n",
    "            outputList.append(line)\n",
    "        else :\n",
    "            col[29] = \"\"\n",
    "            tmpLine = col[0]\n",
    "            for i in range(1, len(col)):\n",
    "                tmpLine += \",\" + col[i]\n",
    "            outputList.append(tmpLine)\n",
    "    return outputList"
   ]
  },
  {
   "cell_type": "code",
   "execution_count": 16,
   "metadata": {
    "collapsed": true
   },
   "outputs": [],
   "source": [
    "def removeLastString(inputList):\n",
    "    outputList = list();\n",
    "    for line in inputList:\n",
    "        outputList.append( line[0:-1] )\n",
    "    return outputList"
   ]
  },
  {
   "cell_type": "code",
   "execution_count": 18,
   "metadata": {},
   "outputs": [],
   "source": [
    "lineList = tmpClip.split(\"\\n\");\n",
    "\n",
    "lineList = removeHattrickTag(lineList)\n",
    "lineList = combineTwoLine(lineList)\n",
    "lineList = removeFirstColumn(lineList)\n",
    "lineList = dividePlayerAndPlayerID(lineList)\n",
    "lineList = removeSpaceInSince(lineList)\n",
    "lineList = modifyMB(lineList)\n",
    "lineList = modifyLast(lineList)\n",
    "lineList = assignEmptyForTC(lineList)\n",
    "lineList = assignEmptyForPH(lineList)\n",
    "lineList = removeLastString(lineList)"
   ]
  },
  {
   "cell_type": "code",
   "execution_count": 19,
   "metadata": {},
   "outputs": [
    {
     "name": "stdout",
     "output_type": "stream",
     "text": [
      "#,Nat,Player,PlayerID,Sp,Stat,Age,Since,TSI,LS,XP,Fo,Stm,Lo,MB,KP,DF,PM,WI,PS,SC,SP,Psico,Last,Rt,Pos,Wage,G,TC,PH,KP,WB,CD,W,IM,FW\n",
      "1,Hanguk,Jee-Seung Oh,427619233,,,22.0,12주 3일,6930,4,3,7,7,20,TRUE,8,3,1,1,1,1,6,856,2017-07-26,4.5,KP,1970000,0,,,8,3.95,4.03,3.22,3.1,2.89\n",
      "2,Hanguk,Jee-Hoon Kim,428709461,,,19.9,4주 4일,2580,3,1,7,5,20,TRUE,6,5,1,1,1,2,2,665,2017-07-30,3.5,KP,930000,0,,,6.24,4.17,4.32,2.79,2.6,2.52\n",
      "3,Hanguk,Eun-Seok Hong,427619235,,,29.34,12주 3일,450,5,4,5,6,20,TRUE,1,6,6,3,2,2,4,621,2017-07-26,3,CD,300000,1,,,3.7,6.01,6.46,5.69,6.04,4.38\n",
      "4,Hanguk,Ji-Woon Lee,427619236,,,19.50,12주 3일,1090,5,2,6,6,20,TRUE,1,7,4,3,5,2,5,738,2017-07-23,3.5,CD,390000,2,,,3.95,6.33,6.61,5.38,5.34,4.35\n",
      "5,Hanguk,Jang-Soo Choi,427619237,빠름,,30.96,12주 3일,180,5,5,4,6,20,TRUE,1,6,4,4,2,1,7,603,2017-06-22,2,CD,280000,0,,,3.32,5.16,5.22,4.5,4.33,3.31\n",
      "6,Hanguk,Jae-Shin Cha,427619238,,Y×1,27.31,12주 3일,940,5,4,4,7,20,TRUE,1,7,3,6,3,2,6,777,2017-07-26,3.5,WB,390000,3,,,3.52,5.73,5.45,4.65,4.01,3.68\n",
      "7,Hanguk,In-Moo Byon,427619239,,,32.19,12주 3일,440,1,6,6,6,20,TRUE,2,6,5,5,5,3,6,595,2017-07-30,3.5,CD,300000,4,,,4.72,6.73,6.76,6.4,6.28,5.56\n",
      "8,Hanguk,Hong-Chan Son,427619240,,Y×1,21.91,12주 3일,1110,5,3,6,7,20,TRUE,1,5,6,5,5,1,4,632,2017-07-26,3.5,WB,310000,0,,,3.73,6.4,6.53,6.65,6.72,5.02\n",
      "9,Hanguk,Hoi-Taek Park,427619241,예측할 수 없음,,19.98,12주 3일,1000,2,2,5,6,20,TRUE,1,5,6,3,6,3,6,646,2017-07-26,3.5,IM,330000,3,,,3.04,5.05,5.44,5.3,5.74,4.71\n",
      "10,Hanguk,Kwang-Eul Jeon,427619242,,,23.97,12주 3일,1420,4,3,6,7,20,TRUE,1,6,7,3,3,2,5,747,2017-07-26,4,IM,430000,2,,,3.96,6.73,7.36,6.69,7.29,5.12\n",
      "11,Hanguk,Kwang-Hwan Yun,427619243,,,26.64,12주 3일,670,6,3,4,6,20,TRUE,2,5,6,3,5,2,6,673,2017-07-30,3.5,IM,330000,2,,,3.45,4.82,5.18,4.99,5.36,4.1\n",
      "12,Hanguk,Chan-Myung Lee,427619244,,,25.73,12주 3일,930,3,4,5,7,20,TRUE,1,3,7,3,4,3,4,761,2017-07-26,3.5,FW,410000,1,,,3.08,4.95,5.42,5.93,6.67,5.3\n",
      "13,Hanguk,Sung-Kook Han,427619245,공 마술사,,21.61,12주 3일,1410,2,3,6,7,20,TRUE,1,5,6,6,5,2,5,628,2017-07-26,4.5,W,330000,7,,,3.71,6.53,6.49,6.8,6.72,5.46\n",
      "14,Hanguk,Se-Jong Cho,427619246,,,28.61,12주 3일,790,4,5,6,6,20,TRUE,1,5,5,6,3,4,4,613,2017-07-30,3.5,WB,290000,8,,,3.89,6.46,6.3,6.32,6.1,5.77\n",
      "15,Hanguk,Man-Ok Lee,427619247,예측할 수 없음,Y×1,23.2,12주 3일,2250,5,3,7,7,20,TRUE,1,5,5,7,6,2,4,759,2017-07-30,5,W,350000,7,,,4.03,7.07,6.71,7.19,6.69,5.92\n",
      "16,Hanguk,Dong-Shik Kim,427619248,,,18.108,12주 3일,1270,6,2,5,6,20,TRUE,1,3,3,6,4,7,6,774,2017-07-26,4.5,FW,410000,10,,,2.69,4.23,3.78,4.34,3.97,5.47\n",
      "17,Hanguk,Seung-Mee Kim,427619249,예측할 수 없음,,34.47,12주 3일,60,2,6,5,5,20,TRUE,1,2,4,4,4,7,5,680,2017-07-30,4,FW,300000,12,,,2.78,3.91,3.85,4.49,4.66,5.65\n",
      "18,Hanguk,Kwang-Rae Kim,427619250,헤딩,Y×2,26.68,12주 3일,930,3,4,4,7,20,TRUE,1,2,5,3,6,6,2,642,2017-07-30,4,FW,310000,9,,,2.53,3.65,3.82,4.52,4.99,5.37\n",
      "19,Hanguk,Joo-Po Lee,428801949,,,17.61,3주 4일,0,5,1,5,5,20,TRUE,1,2,2,3,1,1,3,290,,,,250000,0,,,1.95,2.58,2.45,2.53,2.35,2.13\n",
      "20,Brasil,Jader da Matta,427827635,,R,32.25,7주 2일,690,4,6,6,6,8,FALSE,2,6,6,5,6,2,5,590,2017-07-30,3.5,WB,384000,1,,,3.79,5.99,6.15,5.98,6.03,4.68\n",
      "21,Belgium,Jitse Haes,428112207,,Y×1,31.66,7주 3일,880,4,5,6,6,8,FALSE,2,6,6,5,6,2,5,596,2017-07-30,3,CD,384000,2,,,3.73,5.94,6.1,5.93,5.98,4.62\n",
      "22,Nederland,Keith Esser,428060480,빠름,,31.83,7주 2일,870,5,6,5,6,8,FALSE,2,6,5,6,6,3,6,595,2017-07-30,3.5,W,372000,1,,,3.52,5.54,5.43,5.32,5.05,4.53\n",
      "23,Belgium,Mathias Piron,428125893,공 마술사,,32.35,7주 3일,530,6,5,4,6,8,FALSE,2,6,6,6,6,3,6,590,2017-07-30,3,W,372000,1,,,3.02,4.95,4.95,4.95,4.87,4.11\n",
      "24,Canada,Philippe Morel,425173438,예측할 수 없음,,33.49,7주 2일,290,5,5,6,5,8,FALSE,2,6,5,5,6,2,6,590,2017-07-26,3,W,360000,3,,,3.57,5.51,5.55,5.27,5.13,4.18\n",
      "25,Polska,Pylyp Nagorniak,406205227,,Y×2,26.108,7주 3일,1580,5,3,5,5,8,FALSE,1,6,7,3,6,3,6,720,2017-07-30,3.5,IM,444000,1,,,2.53,4.89,5.42,5.06,5.61,4.18\n",
      "26,Türkiye,Türker Arkan,425734621,,Y×1,33.13,7주 2일,710,1,6,7,6,8,FALSE,2,6,7,5,6,2,5,680,2017-07-30,4.5,IM,456000,11,,,4.01,6.54,6.84,6.78,7.04,5.21\n",
      "27,Hanguk,Joon Yuk,429133218,,,18.69,0일,170,3,1,6,5,20,TRUE,1,5,4,2,4,3,3,498,,,,250000,0,,,2.8,4.36,4.69,4.03,4.27,3.71\n",
      "28,Hanguk,Kyoo-Poong Jeon,428976501,,,18.63,1주 4일,40,3,1,6,5,20,TRUE,1,3,3,3,2,4,4,406,2017-07-30,2,CD,250000,1,,,2.36,3.45,3.45,3.37,3.4,3.64\n",
      "99,Hanguk,Je-Min Jung,427619232 코치,,,41.12,12주 3일,0,4,8,3,2,20,TRUE,0,0,0,0,0,0,2,340,,,,250000,0,,,1.14,1.14,1.14,1.14,1.14,1.14\n"
     ]
    }
   ],
   "source": [
    "for line in lineList:\n",
    "    print(line)\n",
    "    #print(len( line.split(\",\") ) )"
   ]
  },
  {
   "cell_type": "code",
   "execution_count": 20,
   "metadata": {},
   "outputs": [
    {
     "name": "stdout",
     "output_type": "stream",
     "text": [
      "False\n"
     ]
    }
   ],
   "source": [
    "import os.path\n",
    "filePath = folder + '/player_skill_table.txt'\n",
    "if ( os.path.exists(filePath) ):\n",
    "    os.remove(filePath)\n",
    "print( os.path.exists(filePath) )"
   ]
  },
  {
   "cell_type": "code",
   "execution_count": 21,
   "metadata": {
    "collapsed": true
   },
   "outputs": [],
   "source": [
    "with open(folder+'/player_skill_table.txt', 'a') as f:\n",
    "    for line in lineList:\n",
    "        f.write(line + \"\\n\")"
   ]
  },
  {
   "cell_type": "code",
   "execution_count": null,
   "metadata": {
    "collapsed": true
   },
   "outputs": [],
   "source": [
    "# player_skill_table from file to table"
   ]
  },
  {
   "cell_type": "code",
   "execution_count": null,
   "metadata": {
    "collapsed": true
   },
   "outputs": [],
   "source": [
    "import pymsgbox"
   ]
  },
  {
   "cell_type": "code",
   "execution_count": null,
   "metadata": {
    "collapsed": true
   },
   "outputs": [],
   "source": [
    "pymsgbox.alert(text='', title='', button='OK')"
   ]
  },
  {
   "cell_type": "code",
   "execution_count": null,
   "metadata": {
    "collapsed": true
   },
   "outputs": [],
   "source": [
    "pymsgbox.confirm(text='', title='', buttons=['OK', 'Cancel'])"
   ]
  },
  {
   "cell_type": "code",
   "execution_count": null,
   "metadata": {
    "collapsed": true
   },
   "outputs": [],
   "source": [
    "print(text)"
   ]
  },
  {
   "cell_type": "code",
   "execution_count": null,
   "metadata": {
    "collapsed": true
   },
   "outputs": [],
   "source": [
    "import psycopg2"
   ]
  },
  {
   "cell_type": "code",
   "execution_count": null,
   "metadata": {
    "collapsed": true
   },
   "outputs": [],
   "source": [
    "def dropPlayer():\n",
    "    conn = None\n",
    "    try:\n",
    "        conn = psycopg2.connect(\"dbname='mydatabase' user='myuser' host='localhost' port='65432' password='123qwe'\")\n",
    "        cur = conn.cursor()\n",
    "        sql = \"\"\"DROP TABLE IF EXISTS player ; \"\"\"\n",
    "        cur.execute(sql)\n",
    "        conn.commit()\n",
    "    except(Exception, psycopg2.DatabaseError) as error:\n",
    "        print(error)\n",
    "    finally:\n",
    "        if conn is not None:\n",
    "            conn.close()"
   ]
  },
  {
   "cell_type": "code",
   "execution_count": null,
   "metadata": {
    "collapsed": true
   },
   "outputs": [],
   "source": [
    "# dropPlayer()"
   ]
  },
  {
   "cell_type": "code",
   "execution_count": null,
   "metadata": {
    "collapsed": true
   },
   "outputs": [],
   "source": [
    "def createPlayer():\n",
    "    conn = None\n",
    "    try:\n",
    "        conn = psycopg2.connect(\"dbname='mydatabase' user='myuser' host='localhost' port='65432' password='123qwe'\")\n",
    "        cur = conn.cursor()\n",
    "        sql = \"\"\"\n",
    "CREATE TABLE player (\n",
    "    Date DATE, \n",
    "    Name VARCHAR(30), \n",
    "    Age VARCHAR(10), \n",
    "    TSI BIGINT, \n",
    "    PayPerWeek BIGINT, \n",
    "    Form INT, \n",
    "    Stamina INT, \n",
    "    Special VARCHAR(8),\n",
    "    Experience INT,\n",
    "    Leadership INT,\n",
    "    Loyalty INT,\n",
    "    Keeper INT,\n",
    "    Defending INT,\n",
    "    Playmaking INT,\n",
    "    Winger INT,\n",
    "    Passing INT,\n",
    "    Scoring INT,\n",
    "    SetPieces INT\n",
    ") ; \"\"\"\n",
    "        cur.execute(sql)\n",
    "        conn.commit()\n",
    "    except(Exception, psycopg2.DatabaseError) as error:\n",
    "        print(error)\n",
    "    finally:\n",
    "        if conn is not None:\n",
    "            conn.close()"
   ]
  },
  {
   "cell_type": "code",
   "execution_count": null,
   "metadata": {
    "collapsed": true
   },
   "outputs": [],
   "source": [
    "#createPlayer()"
   ]
  },
  {
   "cell_type": "code",
   "execution_count": null,
   "metadata": {
    "collapsed": true
   },
   "outputs": [],
   "source": [
    "def insertPlayer(folder, row):\n",
    "    conn = None\n",
    "    try:\n",
    "        conn = psycopg2.connect(\"dbname='mydatabase' user='myuser' host='localhost' port='65432' password='123qwe'\")\n",
    "        cur = conn.cursor()\n",
    "        sql = \"\"\"INSERT INTO player (SELECT to_date(%s, 'YYYYMMDD'), %s, %s, %s, %s, %s, %s, %s, %s, %s, %s, %s, %s, %s, %s, %s, %s, %s) ;\"\"\"\n",
    "        cur.execute(sql, (folder,row[0],row[1],row[2],row[3],row[4],row[5],row[6],row[7],row[8],row[9],row[10],row[11],row[12],row[13],row[14],row[15],row[16]))\n",
    "        conn.commit()\n",
    "    except (Exception, psycopg2.DatabaseError) as error:\n",
    "        print(error)\n",
    "    finally:\n",
    "        if conn is not None:\n",
    "            conn.close()"
   ]
  },
  {
   "cell_type": "code",
   "execution_count": null,
   "metadata": {
    "collapsed": true
   },
   "outputs": [],
   "source": [
    "def selectPlayer(tableName):\n",
    "    conn = None\n",
    "    try:\n",
    "        conn = psycopg2.connect(\"dbname='mydatabase' user='myuser' host='localhost' port='65432' password='123qwe'\")\n",
    "        cur = conn.cursor()\n",
    "        cur.execute(\"SELECT * FROM \" + tableName)\n",
    "        row = cur.fetchone()\n",
    "        while row is not None:\n",
    "            print(row)\n",
    "            row = cur.fetchone()\n",
    "    except (Exception, psycopg2.DatabaseError) as error:\n",
    "            print(error)\n",
    "    finally:\n",
    "        if conn is not None:\n",
    "            conn.close()"
   ]
  },
  {
   "cell_type": "code",
   "execution_count": null,
   "metadata": {
    "collapsed": true
   },
   "outputs": [],
   "source": [
    "#selectPlayer(\"player\")"
   ]
  },
  {
   "cell_type": "code",
   "execution_count": null,
   "metadata": {
    "collapsed": true
   },
   "outputs": [],
   "source": [
    "import csv"
   ]
  },
  {
   "cell_type": "code",
   "execution_count": null,
   "metadata": {
    "collapsed": true
   },
   "outputs": [],
   "source": [
    "with open(folder + '/player.txt', 'r', encoding='utf-8') as f:\n",
    "    reader = csv.reader(f, delimiter=',')\n",
    "    for row in reader:\n",
    "        if(re.match('^[0-9]{1,2}\\. ', row[0])) :\n",
    "            print(folder, row)\n",
    "            insertPlayer(folder, row)"
   ]
  }
 ],
 "metadata": {
  "kernelspec": {
   "display_name": "Python 3",
   "language": "python",
   "name": "python3"
  },
  "language_info": {
   "codemirror_mode": {
    "name": "ipython",
    "version": 3
   },
   "file_extension": ".py",
   "mimetype": "text/x-python",
   "name": "python",
   "nbconvert_exporter": "python",
   "pygments_lexer": "ipython3",
   "version": "3.6.0"
  }
 },
 "nbformat": 4,
 "nbformat_minor": 2
}
