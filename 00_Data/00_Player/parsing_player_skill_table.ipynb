{
 "cells": [
  {
   "cell_type": "code",
   "execution_count": 1,
   "metadata": {},
   "outputs": [
    {
     "data": {
      "text/plain": [
       "'2017/08/05'"
      ]
     },
     "execution_count": 1,
     "metadata": {},
     "output_type": "execute_result"
    }
   ],
   "source": [
    "folder = \"2017/08/05\"\n",
    "folder"
   ]
  },
  {
   "cell_type": "code",
   "execution_count": 2,
   "metadata": {
    "collapsed": true
   },
   "outputs": [],
   "source": [
    "# player_skill_table from Hattrick to file"
   ]
  },
  {
   "cell_type": "code",
   "execution_count": 3,
   "metadata": {
    "collapsed": true
   },
   "outputs": [],
   "source": [
    "import pyautogui\n",
    "screenWidth, screenHeight = pyautogui.size()\n",
    "currentMouseX, currentMouseY = pyautogui.position()"
   ]
  },
  {
   "cell_type": "code",
   "execution_count": 4,
   "metadata": {
    "collapsed": true
   },
   "outputs": [],
   "source": [
    "# firefox 4번째 tab 클릭하기\n",
    "pyautogui.moveTo(screenWidth/10*7, screenHeight/30*1, duration=1.5)\n",
    "pyautogui.click()\n",
    "# 나의 클럽 클릭하기\n",
    "pyautogui.moveTo(screenWidth/14*9, screenHeight/30*10, duration=1.5)\n",
    "pyautogui.click()\n",
    "# hattrick 배경 클릭하기\n",
    "pyautogui.moveTo(screenWidth/11*6, screenHeight/30*3, duration=3)\n",
    "pyautogui.click()\n",
    "# 스크롤 올리기\n",
    "pyautogui.scroll(20)\n",
    "# hattrick 선수 클릭하기\n",
    "pyautogui.moveTo(screenWidth/18*11, screenHeight/31*21, duration=1.5)\n",
    "pyautogui.click()\n",
    "# hattrick 배경 클릭하기\n",
    "pyautogui.moveTo(screenWidth/11*6, screenHeight/30*3, duration=2.5)\n",
    "pyautogui.click()\n",
    "# 스크롤 올리기\n",
    "pyautogui.scroll(20)\n",
    "# 스킬 테이블 클릭하기\n",
    "pyautogui.moveTo(screenWidth/14*11, screenHeight/31*18, duration=3.5)\n",
    "pyautogui.click()\n",
    "# 스크롤 내리기\n",
    "pyautogui.scroll(-5)\n",
    "# 클럽에 소속된 시간 나타내기 클릭하기\n",
    "pyautogui.moveTo(screenWidth/12*8, screenHeight/31*28, duration=4)\n",
    "pyautogui.click()\n",
    "# 복사 클릭하기\n",
    "pyautogui.moveTo(screenWidth/14*11, screenHeight/31*8, duration=5)\n",
    "pyautogui.click()\n",
    "# 닫기 클릭하기\n",
    "pyautogui.moveTo(screenWidth/21*20, screenHeight/31*11, duration=1.5)\n",
    "pyautogui.click()\n",
    "# 스킬 테이블 클릭하기\n",
    "pyautogui.moveTo(screenWidth/28*22, screenHeight/34*8, duration=1.5)\n",
    "pyautogui.click()\n",
    "# 스크롤 올리기\n",
    "pyautogui.scroll(20)\n",
    "# firefox 5번째 tab 클릭하기\n",
    "pyautogui.moveTo(screenWidth/12*9, screenHeight/30*1, duration=2)\n",
    "pyautogui.click()"
   ]
  },
  {
   "cell_type": "code",
   "execution_count": 5,
   "metadata": {
    "collapsed": true
   },
   "outputs": [],
   "source": [
    "import pyperclip # The name you have the file\n",
    "tmpClip = pyperclip.paste()"
   ]
  },
  {
   "cell_type": "code",
   "execution_count": 6,
   "metadata": {},
   "outputs": [
    {
     "name": "stdout",
     "output_type": "stream",
     "text": [
      "[table]\n",
      "[tr][th]-[/th][th]#[/th][th]Nat[/th][th]Player[/th][th]Sp[/th][th]Stat[/th][th]Age[/th][th]Since[/th][th]TSI[/th][th]LS[/th][th]XP[/th][th]Fo[/th][th]Stm[/th][th]Lo[/th][th]MB[/th][th]KP[/th][th]DF[/th][th]PM[/th][th]WI[/th][th]PS[/th][th]SC[/th][th]SP[/th][th]Psico[/th][th]Last[/th][th]Rt[/th][th]Pos[/th][th]Wage[/th][th]G[/th][th]TC[/th][th]PH[/th][th]KP[/th][th]WB[/th][th]CD[/th][th]W[/th][th]IM[/th][th]FW[/th][/tr]\n",
      "[tr][td]–[/td][td]1[/td][td]Hanguk[/td][td]Jee-Seung Oh [playerid=427619233][/td][td][/td][td][/td][td]22.3[/td][td]13 주   0 일[/td][td]6810[/td][td]4[/td][td]3[/td][td]7[/td][td]6[/td][td]20[/td][td]✔[/td][td]8[/td][td]3[/td][td]1[/td][td]1[/td][td]1[/td][td]1[/td][td]6[/td][td]852[/td][td]2017-07-26 [playerid=427619233][/td][td]4.5[/td][td]KP[/td][td]1970000[/td][td]0[/td][td][playerid=427619233][/td][td][playerid=427619233][/td][td]8[/td][td]3.95[/td][td]4.03[/td][td]3.22[/td][td]3.1[/td][td]2.89[/td][/tr]\n",
      "[tr][td]–[/td][td]2[/td][td]Hanguk[/td][td]Jee-Hoon Kim [playerid=428709461][/td][td][/td][td][/td][td]19.12[/td][td]5 주   0 일[/td][td]2970[/td][td]3[/td][td]1[/td][td]7[/td][td]5[/td][td]20[/td][td]✔[/td][td]6[/td][td]5[/td][td]1[/td][td]1[/td][td]1[/td][td]2[/td][td]2[/td][td]689[/td][td]2017-07-30 [playerid=428709461][/td][td]3.5[/td][td]KP[/td][td]930000[/td][td]0[/td][td][playerid=428709461][/td][td][playerid=428709461][/td][td]6.24[/td][td]4.17[/td][td]4.32[/td][td]2.79[/td][td]2.6[/td][td]2.52[/td][/tr]\n",
      "[tr][td]–[/td][td]3[/td][td]Hanguk[/td][td]Eun-Seok Hong [playerid=427619235][/td][td][/td][td][/td][td]29.37[/td][td]13 주   0 일[/td][td]460[/td][td]5[/td][td]4[/td][td]6[/td][td]6[/td][td]20[/td][td]✔[/td][td]1[/td][td]6[/td][td]6[/td][td]3[/td][td]2[/td][td]2[/td][td]4[/td][td]614[/td][td]2017-07-26 [playerid=427619235][/td][td]3[/td][td]CD[/td][td]300000[/td][td]1[/td][td][playerid=427619235][/td][td][playerid=427619235][/td][td]4.04[/td][td]6.58[/td][td]7.07[/td][td]6.22[/td][td]6.61[/td][td]4.79[/td][/tr]\n",
      "[tr][td]–[/td][td]4[/td][td]Hanguk[/td][td]Ji-Woon Lee [playerid=427619236][/td][td][/td][td][/td][td]19.53[/td][td]13 주   0 일[/td][td]1070[/td][td]5[/td][td]2[/td][td]6[/td][td]6[/td][td]20[/td][td]✔[/td][td]1[/td][td]7[/td][td]4[/td][td]3[/td][td]5[/td][td]2[/td][td]5[/td][td]735[/td][td]2017-07-23 [playerid=427619236][/td][td]3.5[/td][td]CD[/td][td]390000[/td][td]2[/td][td][playerid=427619236][/td][td][playerid=427619236][/td][td]3.95[/td][td]6.33[/td][td]6.61[/td][td]5.38[/td][td]5.34[/td][td]4.35[/td][/tr]\n",
      "[tr][td]–[/td][td]5[/td][td]Hanguk[/td][td]Jang-Soo Choi [playerid=427619237][/td][td]빠름\n",
      "더 많은 정보를 보려면 클릭[/td][td][/td][td]30.99[/td][td]13 주   0 일[/td][td]200[/td][td]5[/td][td]5[/td][td]5[/td][td]6[/td][td]20[/td][td]✔[/td][td]1[/td][td]6[/td][td]4[/td][td]4[/td][td]2[/td][td]1[/td][td]7[/td][td]603[/td][td]2017-06-22 [playerid=427619237][/td][td]2[/td][td]CD[/td][td]280000[/td][td]0[/td][td][playerid=427619237][/td][td][playerid=427619237][/td][td]3.72[/td][td]5.79[/td][td]5.85[/td][td]5.04[/td][td]4.85[/td][td]3.71[/td][/tr]\n",
      "[tr][td]–[/td][td]6[/td][td]Hanguk[/td][td]Jae-Shin Cha [playerid=427619238][/td][td][/td][td]Y×1[/td][td]27.34[/td][td]13 주   0 일[/td][td]880[/td][td]5[/td][td]4[/td][td]4[/td][td]7[/td][td]20[/td][td]✔[/td][td]1[/td][td]7[/td][td]3[/td][td]6[/td][td]3[/td][td]2[/td][td]6[/td][td]767[/td][td]2017-07-26 [playerid=427619238][/td][td]3.5[/td][td]WB[/td][td]390000[/td][td]3[/td][td][playerid=427619238][/td][td][playerid=427619238][/td][td]3.52[/td][td]5.73[/td][td]5.45[/td][td]4.65[/td][td]4.01[/td][td]3.68[/td][/tr]\n",
      "[tr][td]–[/td][td]7[/td][td]Hanguk[/td][td]In-Moo Byon [playerid=427619239][/td][td][/td][td][/td][td]32.22[/td][td]13 주   0 일[/td][td]470[/td][td]1[/td][td]6[/td][td]7[/td][td]6[/td][td]20[/td][td]✔[/td][td]2[/td][td]6[/td][td]5[/td][td]5[/td][td]5[/td][td]3[/td][td]6[/td][td]595[/td][td]2017-07-30 [playerid=427619239][/td][td]3.5[/td][td]CD[/td][td]300000[/td][td]4[/td][td][playerid=427619239][/td][td][playerid=427619239][/td][td]5.09[/td][td]7.25[/td][td]7.29[/td][td]6.9[/td][td]6.77[/td][td]6[/td][/tr]\n",
      "[tr][td]–[/td][td]8[/td][td]Hanguk[/td][td]Hong-Chan Son [playerid=427619240][/td][td][/td][td]Y×1[/td][td]21.94[/td][td]13 주   0 일[/td][td]1120[/td][td]5[/td][td]3[/td][td]7[/td][td]7[/td][td]20[/td][td]✔[/td][td]1[/td][td]5[/td][td]6[/td][td]5[/td][td]5[/td][td]1[/td][td]4[/td][td]624[/td][td]2017-07-26 [playerid=427619240][/td][td]3.5[/td][td]WB[/td][td]310000[/td][td]0[/td][td][playerid=427619240][/td][td][playerid=427619240][/td][td]4.02[/td][td]6.9[/td][td]7.04[/td][td]7.16[/td][td]7.24[/td][td]5.41[/td][/tr]\n",
      "[tr][td]–[/td][td]9[/td][td]Hanguk[/td][td]Hoi-Taek Park [playerid=427619241][/td][td]예측할 수 없음\n",
      "더 많은 정보를 보려면 클릭[/td][td][/td][td]19.101[/td][td]13 주   0 일[/td][td]1010[/td][td]2[/td][td]2[/td][td]5[/td][td]6[/td][td]20[/td][td]✔[/td][td]1[/td][td]5[/td][td]6[/td][td]3[/td][td]6[/td][td]3[/td][td]6[/td][td]648[/td][td]2017-07-26 [playerid=427619241][/td][td]3.5[/td][td]IM[/td][td]330000[/td][td]3[/td][td][playerid=427619241][/td][td][playerid=427619241][/td][td]3.04[/td][td]5.05[/td][td]5.44[/td][td]5.3[/td][td]5.74[/td][td]4.71[/td][/tr]\n",
      "[tr][td]–[/td][td]10[/td][td]Hanguk[/td][td]Kwang-Eul Jeon [playerid=427619242][/td][td][/td][td][/td][td]23.100[/td][td]13 주   0 일[/td][td]1430[/td][td]4[/td][td]3[/td][td]6[/td][td]7[/td][td]20[/td][td]✔[/td][td]1[/td][td]6[/td][td]7[/td][td]3[/td][td]3[/td][td]2[/td][td]5[/td][td]748[/td][td]2017-07-26 [playerid=427619242][/td][td]4[/td][td]IM[/td][td]430000[/td][td]2[/td][td][playerid=427619242][/td][td][playerid=427619242][/td][td]3.96[/td][td]6.73[/td][td]7.36[/td][td]6.69[/td][td]7.29[/td][td]5.12[/td][/tr]\n",
      "[tr][td]–[/td][td]11[/td][td]Hanguk[/td][td]Kwang-Hwan Yun [playerid=427619243][/td][td][/td][td][/td][td]26.67[/td][td]13 주   0 일[/td][td]740[/td][td]6[/td][td]3[/td][td]5[/td][td]6[/td][td]20[/td][td]✔[/td][td]2[/td][td]5[/td][td]6[/td][td]3[/td][td]5[/td][td]2[/td][td]6[/td][td]661[/td][td]2017-07-30 [playerid=427619243][/td][td]3.5[/td][td]IM[/td][td]330000[/td][td]2[/td][td][playerid=427619243][/td][td][playerid=427619243][/td][td]3.87[/td][td]5.39[/td][td]5.81[/td][td]5.59[/td][td]6[/td][td]4.6[/td][/tr]\n",
      "[tr][td]–[/td][td]12[/td][td]Hanguk[/td][td]Chan-Myung Lee [playerid=427619244][/td][td][/td][td][/td][td]25.76[/td][td]13 주   0 일[/td][td]860[/td][td]3[/td][td]4[/td][td]5[/td][td]7[/td][td]20[/td][td]✔[/td][td]1[/td][td]3[/td][td]7[/td][td]3[/td][td]4[/td][td]3[/td][td]4[/td][td]749[/td][td]2017-07-26 [playerid=427619244][/td][td]3.5[/td][td]FW[/td][td]410000[/td][td]1[/td][td][playerid=427619244][/td][td][playerid=427619244][/td][td]3.08[/td][td]4.95[/td][td]5.42[/td][td]5.93[/td][td]6.67[/td][td]5.3[/td][/tr]\n",
      "[tr][td]–[/td][td]13[/td][td]Hanguk[/td][td]Sung-Kook Han [playerid=427619245][/td][td]공 마술사\n",
      "더 많은 정보를 보려면 클릭[/td][td][/td][td]21.64[/td][td]13 주   0 일[/td][td]1280[/td][td]2[/td][td]3[/td][td]5[/td][td]7[/td][td]20[/td][td]✔[/td][td]1[/td][td]5[/td][td]6[/td][td]6[/td][td]5[/td][td]2[/td][td]5[/td][td]629[/td][td]2017-07-26 [playerid=427619245][/td][td]4.5[/td][td]W[/td][td]330000[/td][td]7[/td][td][playerid=427619245][/td][td][playerid=427619245][/td][td]3.39[/td][td]5.97[/td][td]5.94[/td][td]6.21[/td][td]6.14[/td][td]4.99[/td][/tr]\n",
      "[tr][td]–[/td][td]14[/td][td]Hanguk[/td][td]Se-Jong Cho [playerid=427619246][/td][td][/td][td][/td][td]28.64[/td][td]13 주   0 일[/td][td]800[/td][td]4[/td][td]5[/td][td]6[/td][td]6[/td][td]20[/td][td]✔[/td][td]1[/td][td]5[/td][td]5[/td][td]6[/td][td]3[/td][td]4[/td][td]4[/td][td]613[/td][td]2017-07-30 [playerid=427619246][/td][td]3.5[/td][td]WB[/td][td]290000[/td][td]8[/td][td][playerid=427619246][/td][td][playerid=427619246][/td][td]3.89[/td][td]6.46[/td][td]6.3[/td][td]6.32[/td][td]6.1[/td][td]5.77[/td][/tr]\n",
      "[tr][td]–[/td][td]15[/td][td]Hanguk[/td][td]Man-Ok Lee [playerid=427619247][/td][td]예측할 수 없음\n",
      "더 많은 정보를 보려면 클릭[/td][td]Y×1[/td][td]23.5[/td][td]13 주   0 일[/td][td]2280[/td][td]5[/td][td]3[/td][td]7[/td][td]7[/td][td]20[/td][td]✔[/td][td]1[/td][td]5[/td][td]5[/td][td]7[/td][td]6[/td][td]2[/td][td]4[/td][td]762[/td][td]2017-07-30 [playerid=427619247][/td][td]5[/td][td]W[/td][td]350000[/td][td]7[/td][td][playerid=427619247][/td][td][playerid=427619247][/td][td]4.03[/td][td]7.07[/td][td]6.71[/td][td]7.19[/td][td]6.69[/td][td]5.92[/td][/tr]\n",
      "[tr][td]–[/td][td]16[/td][td]Hanguk[/td][td]Dong-Shik Kim [playerid=427619248][/td][td][/td][td][/td][td]18.111[/td][td]13 주   0 일[/td][td]1280[/td][td]6[/td][td]2[/td][td]5[/td][td]6[/td][td]20[/td][td]✔[/td][td]1[/td][td]3[/td][td]3[/td][td]6[/td][td]4[/td][td]7[/td][td]6[/td][td]775[/td][td]2017-07-26 [playerid=427619248][/td][td]4.5[/td][td]FW[/td][td]410000[/td][td]10[/td][td][playerid=427619248][/td][td][playerid=427619248][/td][td]2.69[/td][td]4.23[/td][td]3.78[/td][td]4.34[/td][td]3.97[/td][td]5.47[/td][/tr]\n",
      "[tr][td]–[/td][td]17[/td][td]Hanguk[/td][td]Seung-Mee Kim [playerid=427619249][/td][td]예측할 수 없음\n",
      "더 많은 정보를 보려면 클릭[/td][td][/td][td]34.50[/td][td]13 주   0 일[/td][td]60[/td][td]2[/td][td]6[/td][td]5[/td][td]5[/td][td]20[/td][td]✔[/td][td]1[/td][td]2[/td][td]4[/td][td]4[/td][td]4[/td][td]7[/td][td]5[/td][td]680[/td][td]2017-07-30 [playerid=427619249][/td][td]4[/td][td]FW[/td][td]300000[/td][td]12[/td][td][playerid=427619249][/td][td][playerid=427619249][/td][td]2.78[/td][td]3.91[/td][td]3.85[/td][td]4.49[/td][td]4.66[/td][td]5.65[/td][/tr]\n",
      "[tr][td]–[/td][td]18[/td][td]Hanguk[/td][td]Kwang-Rae Kim [playerid=427619250][/td][td]헤딩\n",
      "더 많은 정보를 보려면 클릭[/td][td]Y×2[/td][td]26.71[/td][td]13 주   0 일[/td][td]880[/td][td]3[/td][td]4[/td][td]4[/td][td]7[/td][td]20[/td][td]✔[/td][td]1[/td][td]2[/td][td]5[/td][td]3[/td][td]6[/td][td]6[/td][td]2[/td][td]631[/td][td]2017-07-30 [playerid=427619250][/td][td]4[/td][td]FW[/td][td]310000[/td][td]9[/td][td][playerid=427619250][/td][td][playerid=427619250][/td][td]2.53[/td][td]3.65[/td][td]3.82[/td][td]4.52[/td][td]4.99[/td][td]5.37[/td][/tr]\n",
      "[tr][td]–[/td][td]19[/td][td]Hanguk[/td][td]Joo-Po Lee [playerid=428801949][/td][td][/td][td][/td][td]17.64[/td][td]4 주   0 일[/td][td]0[/td][td]5[/td][td]1[/td][td]5[/td][td]5[/td][td]20[/td][td]✔[/td][td]1[/td][td]2[/td][td]2[/td][td]3[/td][td]1[/td][td]1[/td][td]3[/td][td]290[/td][td][/td][td][/td][td][/td][td]250000[/td][td]0[/td][td][playerid=428801949][/td][td][playerid=428801949][/td][td]1.95[/td][td]2.58[/td][td]2.45[/td][td]2.53[/td][td]2.35[/td][td]2.13[/td][/tr]\n",
      "[tr][td]–[/td][td]20[/td][td]Brasil[/td][td]Jader da Matta [playerid=427827635][/td][td][/td][td]R[/td][td]32.28[/td][td]7 주   6 일[/td][td]720[/td][td]4[/td][td]6[/td][td]7[/td][td]6[/td][td]8[/td][td][/td][td]2[/td][td]6[/td][td]6[/td][td]5[/td][td]6[/td][td]2[/td][td]5[/td][td]590[/td][td]2017-07-30 [playerid=427827635][/td][td]3.5[/td][td]WB[/td][td]384000[/td][td]1[/td][td][playerid=427827635][/td][td][playerid=427827635][/td][td]4.09[/td][td]6.46[/td][td]6.63[/td][td]6.45[/td][td]6.5[/td][td]5.04[/td][/tr]\n",
      "[tr][td]–[/td][td]21[/td][td]Belgium[/td][td]Jitse Haes [playerid=428112207][/td][td][/td][td]Y×1[/td][td]31.69[/td][td]7 주   6 일[/td][td]890[/td][td]4[/td][td]5[/td][td]6[/td][td]6[/td][td]8[/td][td][/td][td]2[/td][td]6[/td][td]6[/td][td]5[/td][td]6[/td][td]2[/td][td]5[/td][td]596[/td][td]2017-07-30 [playerid=428112207][/td][td]3[/td][td]CD[/td][td]384000[/td][td]2[/td][td][playerid=428112207][/td][td][playerid=428112207][/td][td]3.73[/td][td]5.94[/td][td]6.1[/td][td]5.93[/td][td]5.98[/td][td]4.62[/td][/tr]\n",
      "[tr][td]–[/td][td]22[/td][td]Nederland[/td][td]Keith Esser [playerid=428060480][/td][td]빠름\n",
      "더 많은 정보를 보려면 클릭[/td][td][/td][td]31.86[/td][td]7 주   6 일[/td][td]890[/td][td]5[/td][td]6[/td][td]5[/td][td]6[/td][td]8[/td][td][/td][td]2[/td][td]6[/td][td]5[/td][td]6[/td][td]6[/td][td]3[/td][td]6[/td][td]596[/td][td]2017-07-30 [playerid=428060480][/td][td]3.5[/td][td]W[/td][td]372000[/td][td]1[/td][td][playerid=428060480][/td][td][playerid=428060480][/td][td]3.52[/td][td]5.54[/td][td]5.43[/td][td]5.32[/td][td]5.05[/td][td]4.53[/td][/tr]\n",
      "[tr][td]–[/td][td]23[/td][td]Belgium[/td][td]Mathias Piron [playerid=428125893][/td][td]공 마술사\n",
      "더 많은 정보를 보려면 클릭[/td][td][/td][td]32.38[/td][td]7 주   6 일[/td][td]500[/td][td]6[/td][td]5[/td][td]4[/td][td]6[/td][td]8[/td][td][/td][td]2[/td][td]6[/td][td]6[/td][td]6[/td][td]6[/td][td]3[/td][td]6[/td][td]590[/td][td]2017-07-30 [playerid=428125893][/td][td]3[/td][td]W[/td][td]372000[/td][td]1[/td][td][playerid=428125893][/td][td][playerid=428125893][/td][td]3.02[/td][td]4.95[/td][td]4.95[/td][td]4.95[/td][td]4.87[/td][td]4.11[/td][/tr]\n",
      "[tr][td]–[/td][td]24[/td][td]Canada[/td][td]Philippe Morel [playerid=425173438][/td][td]예측할 수 없음\n",
      "더 많은 정보를 보려면 클릭[/td][td][/td][td]33.52[/td][td]7 주   5 일[/td][td]320[/td][td]5[/td][td]5[/td][td]7[/td][td]5[/td][td]8[/td][td][/td][td]2[/td][td]6[/td][td]5[/td][td]5[/td][td]6[/td][td]2[/td][td]6[/td][td]590[/td][td]2017-07-26 [playerid=425173438][/td][td]3[/td][td]W[/td][td]360000[/td][td]3[/td][td][playerid=425173438][/td][td][playerid=425173438][/td][td]3.85[/td][td]5.94[/td][td]5.98[/td][td]5.68[/td][td]5.53[/td][td]4.51[/td][/tr]\n",
      "[tr][td]–[/td][td]25[/td][td]Polska[/td][td]Pylyp Nagorniak [playerid=406205227][/td][td][/td][td]Y×2[/td][td]26.111[/td][td]7 주   6 일[/td][td]1820[/td][td]5[/td][td]3[/td][td]6[/td][td]5[/td][td]8[/td][td][/td][td]1[/td][td]6[/td][td]7[/td][td]3[/td][td]6[/td][td]3[/td][td]6[/td][td]725[/td][td]2017-07-30 [playerid=406205227][/td][td]3.5[/td][td]IM[/td][td]444000[/td][td]1[/td][td][playerid=406205227][/td][td][playerid=406205227][/td][td]2.77[/td][td]5.34[/td][td]5.93[/td][td]5.53[/td][td]6.13[/td][td]4.57[/td][/tr]\n",
      "[tr][td]–[/td][td]26[/td][td]Türkiye[/td][td]Türker Arkan [playerid=425734621][/td][td][/td][td]Y×1[/td][td]33.16[/td][td]7 주   6 일[/td][td]670[/td][td]1[/td][td]6[/td][td]7[/td][td]6[/td][td]8[/td][td][/td][td]2[/td][td]6[/td][td]7[/td][td]5[/td][td]6[/td][td]2[/td][td]5[/td][td]680[/td][td]2017-07-30 [playerid=425734621][/td][td]4.5[/td][td]IM[/td][td]456000[/td][td]11[/td][td][playerid=425734621][/td][td][playerid=425734621][/td][td]4.01[/td][td]6.54[/td][td]6.84[/td][td]6.78[/td][td]7.04[/td][td]5.21[/td][/tr]\n",
      "[tr][td]–[/td][td]27[/td][td]Hanguk[/td][td]Joon Yuk [playerid=429133218][/td][td][/td][td][/td][td]18.72[/td][td]3 일[/td][td]170[/td][td]3[/td][td]1[/td][td]6[/td][td]5[/td][td]20[/td][td]✔[/td][td]1[/td][td]5[/td][td]4[/td][td]2[/td][td]4[/td][td]3[/td][td]3[/td][td]498[/td][td][/td][td][/td][td][/td][td]250000[/td][td]0[/td][td][playerid=429133218][/td][td][playerid=429133218][/td][td]2.8[/td][td]4.36[/td][td]4.69[/td][td]4.03[/td][td]4.27[/td][td]3.71[/td][/tr]\n",
      "[tr][td]–[/td][td]28[/td][td]Hanguk[/td][td]Kyoo-Poong Jeon [playerid=428976501][/td][td][/td][td][/td][td]18.66[/td][td]2 주   0 일[/td][td]40[/td][td]3[/td][td]1[/td][td]6[/td][td]5[/td][td]20[/td][td]✔[/td][td]1[/td][td]3[/td][td]3[/td][td]3[/td][td]2[/td][td]4[/td][td]4[/td][td]406[/td][td]2017-07-30 [playerid=428976501][/td][td]2[/td][td]CD[/td][td]250000[/td][td]1[/td][td][playerid=428976501][/td][td][playerid=428976501][/td][td]2.36[/td][td]3.45[/td][td]3.45[/td][td]3.37[/td][td]3.4[/td][td]3.64[/td][/tr]\n",
      "[tr][td]–[/td][td]99[/td][td]Hanguk[/td][td]Je-Min Jung [playerid=427619232] 코치[/td][td][/td][td][/td][td]41.15[/td][td]13 주   0 일[/td][td]0[/td][td]4[/td][td]8[/td][td]4[/td][td]1[/td][td]20[/td][td]✔[/td][td]0[/td][td]0[/td][td]0[/td][td]0[/td][td]0[/td][td]0[/td][td]2[/td][td]440[/td][td][/td][td][/td][td][/td][td]250000[/td][td]0[/td][td][playerid=427619232][/td][td][playerid=427619232][/td][td]1.2[/td][td]1.2[/td][td]1.2[/td][td]1.2[/td][td]1.2[/td][td]1.2[/td][/tr]\n",
      "[/table]\n"
     ]
    }
   ],
   "source": [
    "print(tmpClip)"
   ]
  },
  {
   "cell_type": "code",
   "execution_count": 7,
   "metadata": {
    "collapsed": true
   },
   "outputs": [],
   "source": [
    "def removeHattrickTag(inputList):\n",
    "    outputList = list();\n",
    "    for line in inputList:\n",
    "        if line.find('table') == -1:\n",
    "            line = line.replace('[tr]', '')\n",
    "            line = line.replace('[/tr]', '')\n",
    "            line = line.replace('[th]', '')\n",
    "            line = line.replace('[/th]', ',')\n",
    "            line = line.replace('[td]', '')\n",
    "            line = line.replace('[/td]', ',')\n",
    "            outputList.append(line)\n",
    "    return outputList"
   ]
  },
  {
   "cell_type": "code",
   "execution_count": 8,
   "metadata": {
    "collapsed": true
   },
   "outputs": [],
   "source": [
    "def combineTwoLine(inputList):\n",
    "    outputStr = \"\";\n",
    "    for line in inputList:\n",
    "        col = line.split(\",\")\n",
    "        if len(col) == 37 : \n",
    "            outputStr = outputStr + line + \"\\n\"\n",
    "        if len(col) == 5 : \n",
    "            outputStr = outputStr + line \n",
    "        if len(col) == 33 : \n",
    "            for i in range(1, 33):\n",
    "                outputStr = outputStr + \",\" + col[i]\n",
    "            outputStr = outputStr + \"\\n\"\n",
    "    outputStr = outputStr[:-1]\n",
    "    return outputStr.split(\"\\n\")"
   ]
  },
  {
   "cell_type": "code",
   "execution_count": 9,
   "metadata": {
    "collapsed": true
   },
   "outputs": [],
   "source": [
    "def modifySharpToNumber(inputList):\n",
    "    outputList = list();\n",
    "    for line in inputList:\n",
    "        if line.find(\"#\") > -1 : line = line.replace(\"#\", \"Number\")\n",
    "        outputList.append(line)\n",
    "    return outputList"
   ]
  },
  {
   "cell_type": "code",
   "execution_count": 10,
   "metadata": {
    "collapsed": true
   },
   "outputs": [],
   "source": [
    "def modifySpToSpecial(inputList):\n",
    "    outputList = list();\n",
    "    for line in inputList:\n",
    "        if line.find(\"Sp\") > -1 : \n",
    "            line = line.replace(\"Sp\", \"Special\", 1)\n",
    "        else :\n",
    "            line = line.replace(\"공 마술사\", \"Technical\", 1)\n",
    "            line = line.replace(\"빠름\", \"Quick\", 1)\n",
    "            line = line.replace(\"헤딩\", \"Head\", 1)\n",
    "            line = line.replace(\"힘\", \"Powerful\", 1)\n",
    "            line = line.replace(\"예측할 수 없음\", \"Unpredictable\", 1)\n",
    "        outputList.append(line)\n",
    "    return outputList"
   ]
  },
  {
   "cell_type": "code",
   "execution_count": 11,
   "metadata": {
    "collapsed": true
   },
   "outputs": [],
   "source": [
    "def removeFirstColumn(inputList):\n",
    "    outputList = list();\n",
    "    for line in inputList:\n",
    "        col = line.split(\",\")\n",
    "        tmpStr = \"\"\n",
    "        \n",
    "        for i in range(1,len(col)):\n",
    "            tmpStr += col[i] + \",\"\n",
    "        tmpStr = tmpStr[:-1]\n",
    "        outputList.append(tmpStr)\n",
    "    return outputList"
   ]
  },
  {
   "cell_type": "code",
   "execution_count": 12,
   "metadata": {
    "collapsed": true
   },
   "outputs": [],
   "source": [
    "def dividePlayerAndPlayerID(inputList):\n",
    "    outputList = list();\n",
    "    for line in inputList:\n",
    "        col = line.split(\",\")\n",
    "        tmpStr = \"\"\n",
    "        if col[2] == \"Player\": \n",
    "            col[2] = \"Player,PlayerID\"\n",
    "            tmpStr += col[0]\n",
    "            for i in range(1, len(col)):\n",
    "                tmpStr += \",\" + col[i]\n",
    "            outputList.append(tmpStr)\n",
    "        else : \n",
    "            tmpStr = col[2].replace(\" [playerid=\", \",\", 1)\n",
    "            endIndex = tmpStr.find(\"]\")\n",
    "            col[2] = tmpStr[:endIndex]\n",
    "            \n",
    "            tmpStr = col[0]\n",
    "            for i in range(1, len(col)):\n",
    "                tmpStr += \",\" + col[i]\n",
    "            outputList.append(tmpStr)\n",
    "    return outputList"
   ]
  },
  {
   "cell_type": "code",
   "execution_count": 13,
   "metadata": {
    "collapsed": true
   },
   "outputs": [],
   "source": [
    "def removeSpaceInSince(inputList):\n",
    "    outputList = list();\n",
    "    for line in inputList:\n",
    "        col = line.split(\",\")\n",
    "        if col[7] != \"Since\":\n",
    "            tmpStr = \"\"\n",
    "            tmpStr = line.replace(\" 주\", \"주\", 1).replace(\"주 \", \"주\", 1).replace(\"주 \", \"주\", 1).replace(\" 일\", \"일\", 1)\n",
    "            outputList.append(tmpStr)\n",
    "        else:\n",
    "            outputList.append(line)\n",
    "    return outputList"
   ]
  },
  {
   "cell_type": "code",
   "execution_count": 14,
   "metadata": {
    "collapsed": true
   },
   "outputs": [],
   "source": [
    "def modifyMB(inputList):\n",
    "    outputList = list();\n",
    "    for line in inputList:\n",
    "        col = line.split(\",\")\n",
    "        if col[14] == \"MB\":\n",
    "            outputList.append(line)\n",
    "        if len( col[14] ) == 1:\n",
    "            tmpLine = line.replace(\"✔\", \"TRUE\", 1)\n",
    "            outputList.append(tmpLine)\n",
    "        if len( col[14] ) == 0:\n",
    "            col[14] = \"FALSE\"\n",
    "            tmpLine = col[0]\n",
    "            for i in range(1, len(col) ):\n",
    "                tmpLine += \",\" + col[i]\n",
    "            outputList.append(tmpLine)\n",
    "    return outputList"
   ]
  },
  {
   "cell_type": "code",
   "execution_count": 15,
   "metadata": {
    "collapsed": true
   },
   "outputs": [],
   "source": [
    "def modifyLast(inputList):\n",
    "    outputList = list();\n",
    "    for line in inputList:\n",
    "        col = line.split(\",\")\n",
    "        if col[23] == \"Last\":\n",
    "            outputList.append(line)\n",
    "        else :\n",
    "            col[23] = col[23][:10]\n",
    "            tmpLine = col[0]\n",
    "            for i in range(1, len(col)):\n",
    "                tmpLine += \",\" + col[i]\n",
    "            outputList.append(tmpLine)\n",
    "    return outputList"
   ]
  },
  {
   "cell_type": "code",
   "execution_count": 16,
   "metadata": {
    "collapsed": true
   },
   "outputs": [],
   "source": [
    "def assignEmptyForTC(inputList):\n",
    "    outputList = list();\n",
    "    for line in inputList:\n",
    "        col = line.split(\",\")\n",
    "        if col[28] == \"TC\":\n",
    "            outputList.append(line)\n",
    "        else :\n",
    "            col[28] = \"\"\n",
    "            tmpLine = col[0]\n",
    "            for i in range(1, len(col)):\n",
    "                tmpLine += \",\" + col[i]\n",
    "            outputList.append(tmpLine)\n",
    "    return outputList"
   ]
  },
  {
   "cell_type": "code",
   "execution_count": 17,
   "metadata": {
    "collapsed": true
   },
   "outputs": [],
   "source": [
    "def assignEmptyForPH(inputList):\n",
    "    outputList = list();\n",
    "    for line in inputList:\n",
    "        col = line.split(\",\")\n",
    "        if col[29] == \"PH\":\n",
    "            outputList.append(line)\n",
    "        else :\n",
    "            col[29] = \"\"\n",
    "            tmpLine = col[0]\n",
    "            for i in range(1, len(col)):\n",
    "                tmpLine += \",\" + col[i]\n",
    "            outputList.append(tmpLine)\n",
    "    return outputList"
   ]
  },
  {
   "cell_type": "code",
   "execution_count": 18,
   "metadata": {},
   "outputs": [],
   "source": [
    "def modifyKPPos(inputList):\n",
    "    outputList = list();\n",
    "    for line in inputList:\n",
    "        col = line.split(\",\")\n",
    "        if col[30] == \"KP\": \n",
    "            col[30] = \"KPPos\"\n",
    "            tmpLine =col[0]\n",
    "            for i in range(1, len(col)):\n",
    "                tmpLine += \",\" + col[i]\n",
    "            outputList.append(tmpLine)\n",
    "        else :\n",
    "            outputList.append(line)\n",
    "    return outputList"
   ]
  },
  {
   "cell_type": "code",
   "execution_count": 19,
   "metadata": {
    "collapsed": true
   },
   "outputs": [],
   "source": [
    "def modifyWBPos(inputList):\n",
    "    outputList = list();\n",
    "    for line in inputList:\n",
    "        col = line.split(\",\")\n",
    "        if col[31] == \"WB\": \n",
    "            col[31] = \"WBPos\"\n",
    "            tmpLine =col[0]\n",
    "            for i in range(1, len(col)):\n",
    "                tmpLine += \",\" + col[i]\n",
    "            outputList.append(tmpLine)\n",
    "        else :\n",
    "            outputList.append(line)\n",
    "    return outputList"
   ]
  },
  {
   "cell_type": "code",
   "execution_count": 20,
   "metadata": {
    "collapsed": true
   },
   "outputs": [],
   "source": [
    "def modifyCDPos(inputList):\n",
    "    outputList = list();\n",
    "    for line in inputList:\n",
    "        col = line.split(\",\")\n",
    "        if col[32] == \"CD\": \n",
    "            col[32] = \"CDPos\"\n",
    "            tmpLine =col[0]\n",
    "            for i in range(1, len(col)):\n",
    "                tmpLine += \",\" + col[i]\n",
    "            outputList.append(tmpLine)\n",
    "        else :\n",
    "            outputList.append(line)\n",
    "    return outputList"
   ]
  },
  {
   "cell_type": "code",
   "execution_count": 21,
   "metadata": {
    "collapsed": true
   },
   "outputs": [],
   "source": [
    "def modifyWPos(inputList):\n",
    "    outputList = list();\n",
    "    for line in inputList:\n",
    "        col = line.split(\",\")\n",
    "        if col[33] == \"W\": \n",
    "            col[33] = \"WPos\"\n",
    "            tmpLine =col[0]\n",
    "            for i in range(1, len(col)):\n",
    "                tmpLine += \",\" + col[i]\n",
    "            outputList.append(tmpLine)\n",
    "        else :\n",
    "            outputList.append(line)\n",
    "    return outputList"
   ]
  },
  {
   "cell_type": "code",
   "execution_count": 22,
   "metadata": {
    "collapsed": true
   },
   "outputs": [],
   "source": [
    "def modifyIMPos(inputList):\n",
    "    outputList = list();\n",
    "    for line in inputList:\n",
    "        col = line.split(\",\")\n",
    "        if col[34] == \"IM\": \n",
    "            col[34] = \"IMPos\"\n",
    "            tmpLine =col[0]\n",
    "            for i in range(1, len(col)):\n",
    "                tmpLine += \",\" + col[i]\n",
    "            outputList.append(tmpLine)\n",
    "        else :\n",
    "            outputList.append(line)\n",
    "    return outputList"
   ]
  },
  {
   "cell_type": "code",
   "execution_count": 23,
   "metadata": {
    "collapsed": true
   },
   "outputs": [],
   "source": [
    "def modifyFWPos(inputList):\n",
    "    outputList = list();\n",
    "    for line in inputList:\n",
    "        col = line.split(\",\")\n",
    "        if col[35] == \"FW\": \n",
    "            col[35] = \"FWPos\"\n",
    "            tmpLine =col[0]\n",
    "            for i in range(1, len(col)):\n",
    "                tmpLine += \",\" + col[i]\n",
    "            outputList.append(tmpLine)\n",
    "        else :\n",
    "            outputList.append(line)\n",
    "    return outputList"
   ]
  },
  {
   "cell_type": "code",
   "execution_count": 24,
   "metadata": {
    "collapsed": true
   },
   "outputs": [],
   "source": [
    "def removeLastString(inputList):\n",
    "    outputList = list();\n",
    "    for line in inputList:\n",
    "        outputList.append( line[0:-1] )\n",
    "    return outputList"
   ]
  },
  {
   "cell_type": "code",
   "execution_count": 25,
   "metadata": {},
   "outputs": [],
   "source": [
    "lineList = tmpClip.split(\"\\n\");\n",
    "\n",
    "lineList = removeHattrickTag(lineList)\n",
    "lineList = combineTwoLine(lineList)\n",
    "lineList = modifySharpToNumber(lineList)\n",
    "lineList = modifySpToSpecial(lineList)\n",
    "lineList = removeFirstColumn(lineList)\n",
    "lineList = dividePlayerAndPlayerID(lineList)\n",
    "lineList = removeSpaceInSince(lineList)\n",
    "lineList = modifyMB(lineList)\n",
    "lineList = modifyLast(lineList)\n",
    "lineList = assignEmptyForTC(lineList)\n",
    "lineList = assignEmptyForPH(lineList)\n",
    "lineList = modifyKPPos(lineList)\n",
    "lineList = modifyWBPos(lineList)\n",
    "lineList = modifyCDPos(lineList)\n",
    "lineList = modifyWPos(lineList)\n",
    "lineList = modifyIMPos(lineList)\n",
    "lineList = modifyFWPos(lineList)\n",
    "lineList = removeLastString(lineList)"
   ]
  },
  {
   "cell_type": "code",
   "execution_count": 26,
   "metadata": {},
   "outputs": [
    {
     "name": "stdout",
     "output_type": "stream",
     "text": [
      "Number,Nat,Player,PlayerID,Special,Stat,Age,Since,TSI,LS,XP,Fo,Stm,Lo,MB,KP,DF,PM,WI,PS,SC,SP,Psico,Last,Rt,Pos,Wage,G,TC,PH,KPPos,WBPos,CDPos,WPos,IMPos,FWPos\n",
      "1,Hanguk,Jee-Seung Oh,427619233,,,22.3,13주 0일,6810,4,3,7,6,20,TRUE,8,3,1,1,1,1,6,852,2017-07-26,4.5,KP,1970000,0,,,8,3.95,4.03,3.22,3.1,2.89\n",
      "2,Hanguk,Jee-Hoon Kim,428709461,,,19.12,5주 0일,2970,3,1,7,5,20,TRUE,6,5,1,1,1,2,2,689,2017-07-30,3.5,KP,930000,0,,,6.24,4.17,4.32,2.79,2.6,2.52\n",
      "3,Hanguk,Eun-Seok Hong,427619235,,,29.37,13주 0일,460,5,4,6,6,20,TRUE,1,6,6,3,2,2,4,614,2017-07-26,3,CD,300000,1,,,4.04,6.58,7.07,6.22,6.61,4.79\n",
      "4,Hanguk,Ji-Woon Lee,427619236,,,19.53,13주 0일,1070,5,2,6,6,20,TRUE,1,7,4,3,5,2,5,735,2017-07-23,3.5,CD,390000,2,,,3.95,6.33,6.61,5.38,5.34,4.35\n",
      "5,Hanguk,Jang-Soo Choi,427619237,Quick,,30.99,13주 0일,200,5,5,5,6,20,TRUE,1,6,4,4,2,1,7,603,2017-06-22,2,CD,280000,0,,,3.72,5.79,5.85,5.04,4.85,3.71\n",
      "6,Hanguk,Jae-Shin Cha,427619238,,Y×1,27.34,13주 0일,880,5,4,4,7,20,TRUE,1,7,3,6,3,2,6,767,2017-07-26,3.5,WB,390000,3,,,3.52,5.73,5.45,4.65,4.01,3.68\n",
      "7,Hanguk,In-Moo Byon,427619239,,,32.22,13주 0일,470,1,6,7,6,20,TRUE,2,6,5,5,5,3,6,595,2017-07-30,3.5,CD,300000,4,,,5.09,7.25,7.29,6.9,6.77,6\n",
      "8,Hanguk,Hong-Chan Son,427619240,,Y×1,21.94,13주 0일,1120,5,3,7,7,20,TRUE,1,5,6,5,5,1,4,624,2017-07-26,3.5,WB,310000,0,,,4.02,6.9,7.04,7.16,7.24,5.41\n",
      "9,Hanguk,Hoi-Taek Park,427619241,Unpredictable,,19.101,13주 0일,1010,2,2,5,6,20,TRUE,1,5,6,3,6,3,6,648,2017-07-26,3.5,IM,330000,3,,,3.04,5.05,5.44,5.3,5.74,4.71\n",
      "10,Hanguk,Kwang-Eul Jeon,427619242,,,23.100,13주 0일,1430,4,3,6,7,20,TRUE,1,6,7,3,3,2,5,748,2017-07-26,4,IM,430000,2,,,3.96,6.73,7.36,6.69,7.29,5.12\n",
      "11,Hanguk,Kwang-Hwan Yun,427619243,,,26.67,13주 0일,740,6,3,5,6,20,TRUE,2,5,6,3,5,2,6,661,2017-07-30,3.5,IM,330000,2,,,3.87,5.39,5.81,5.59,6,4.6\n",
      "12,Hanguk,Chan-Myung Lee,427619244,,,25.76,13주 0일,860,3,4,5,7,20,TRUE,1,3,7,3,4,3,4,749,2017-07-26,3.5,FW,410000,1,,,3.08,4.95,5.42,5.93,6.67,5.3\n",
      "13,Hanguk,Sung-Kook Han,427619245,Technical,,21.64,13주 0일,1280,2,3,5,7,20,TRUE,1,5,6,6,5,2,5,629,2017-07-26,4.5,W,330000,7,,,3.39,5.97,5.94,6.21,6.14,4.99\n",
      "14,Hanguk,Se-Jong Cho,427619246,,,28.64,13주 0일,800,4,5,6,6,20,TRUE,1,5,5,6,3,4,4,613,2017-07-30,3.5,WB,290000,8,,,3.89,6.46,6.3,6.32,6.1,5.77\n",
      "15,Hanguk,Man-Ok Lee,427619247,Unpredictable,Y×1,23.5,13주 0일,2280,5,3,7,7,20,TRUE,1,5,5,7,6,2,4,762,2017-07-30,5,W,350000,7,,,4.03,7.07,6.71,7.19,6.69,5.92\n",
      "16,Hanguk,Dong-Shik Kim,427619248,,,18.111,13주 0일,1280,6,2,5,6,20,TRUE,1,3,3,6,4,7,6,775,2017-07-26,4.5,FW,410000,10,,,2.69,4.23,3.78,4.34,3.97,5.47\n",
      "17,Hanguk,Seung-Mee Kim,427619249,Unpredictable,,34.50,13주 0일,60,2,6,5,5,20,TRUE,1,2,4,4,4,7,5,680,2017-07-30,4,FW,300000,12,,,2.78,3.91,3.85,4.49,4.66,5.65\n",
      "18,Hanguk,Kwang-Rae Kim,427619250,Head,Y×2,26.71,13주 0일,880,3,4,4,7,20,TRUE,1,2,5,3,6,6,2,631,2017-07-30,4,FW,310000,9,,,2.53,3.65,3.82,4.52,4.99,5.37\n",
      "19,Hanguk,Joo-Po Lee,428801949,,,17.64,4주 0일,0,5,1,5,5,20,TRUE,1,2,2,3,1,1,3,290,,,,250000,0,,,1.95,2.58,2.45,2.53,2.35,2.13\n",
      "20,Brasil,Jader da Matta,427827635,,R,32.28,7주 6일,720,4,6,7,6,8,FALSE,2,6,6,5,6,2,5,590,2017-07-30,3.5,WB,384000,1,,,4.09,6.46,6.63,6.45,6.5,5.04\n",
      "21,Belgium,Jitse Haes,428112207,,Y×1,31.69,7주 6일,890,4,5,6,6,8,FALSE,2,6,6,5,6,2,5,596,2017-07-30,3,CD,384000,2,,,3.73,5.94,6.1,5.93,5.98,4.62\n",
      "22,Nederland,Keith Esser,428060480,Quick,,31.86,7주 6일,890,5,6,5,6,8,FALSE,2,6,5,6,6,3,6,596,2017-07-30,3.5,W,372000,1,,,3.52,5.54,5.43,5.32,5.05,4.53\n",
      "23,Belgium,Mathias Piron,428125893,Technical,,32.38,7주 6일,500,6,5,4,6,8,FALSE,2,6,6,6,6,3,6,590,2017-07-30,3,W,372000,1,,,3.02,4.95,4.95,4.95,4.87,4.11\n",
      "24,Canada,Philippe Morel,425173438,Unpredictable,,33.52,7주 5일,320,5,5,7,5,8,FALSE,2,6,5,5,6,2,6,590,2017-07-26,3,W,360000,3,,,3.85,5.94,5.98,5.68,5.53,4.51\n",
      "25,Polska,Pylyp Nagorniak,406205227,,Y×2,26.111,7주 6일,1820,5,3,6,5,8,FALSE,1,6,7,3,6,3,6,725,2017-07-30,3.5,IM,444000,1,,,2.77,5.34,5.93,5.53,6.13,4.57\n",
      "26,Türkiye,Türker Arkan,425734621,,Y×1,33.16,7주 6일,670,1,6,7,6,8,FALSE,2,6,7,5,6,2,5,680,2017-07-30,4.5,IM,456000,11,,,4.01,6.54,6.84,6.78,7.04,5.21\n",
      "27,Hanguk,Joon Yuk,429133218,,,18.72,3일,170,3,1,6,5,20,TRUE,1,5,4,2,4,3,3,498,,,,250000,0,,,2.8,4.36,4.69,4.03,4.27,3.71\n",
      "28,Hanguk,Kyoo-Poong Jeon,428976501,,,18.66,2주 0일,40,3,1,6,5,20,TRUE,1,3,3,3,2,4,4,406,2017-07-30,2,CD,250000,1,,,2.36,3.45,3.45,3.37,3.4,3.64\n",
      "99,Hanguk,Je-Min Jung,427619232,,,41.15,13주 0일,0,4,8,4,1,20,TRUE,0,0,0,0,0,0,2,440,,,,250000,0,,,1.2,1.2,1.2,1.2,1.2,1.2\n"
     ]
    }
   ],
   "source": [
    "for line in lineList:\n",
    "    print(line)\n",
    "    #print(len( line.split(\",\") ) )"
   ]
  },
  {
   "cell_type": "code",
   "execution_count": 27,
   "metadata": {},
   "outputs": [
    {
     "name": "stdout",
     "output_type": "stream",
     "text": [
      "False\n"
     ]
    }
   ],
   "source": [
    "import os.path\n",
    "filePath = folder + '/player_skill_table.txt'\n",
    "if ( os.path.exists(filePath) ):\n",
    "    os.remove(filePath)\n",
    "print( os.path.exists(filePath) )"
   ]
  },
  {
   "cell_type": "code",
   "execution_count": 28,
   "metadata": {
    "collapsed": true
   },
   "outputs": [],
   "source": [
    "with open(folder+'/player_skill_table.txt', 'a') as f:\n",
    "    for line in lineList:\n",
    "        f.write(line + \"\\n\")"
   ]
  },
  {
   "cell_type": "code",
   "execution_count": null,
   "metadata": {
    "collapsed": true
   },
   "outputs": [],
   "source": [
    "# player_skill_table from file to table"
   ]
  },
  {
   "cell_type": "code",
   "execution_count": null,
   "metadata": {
    "collapsed": true
   },
   "outputs": [],
   "source": [
    "import pymsgbox"
   ]
  },
  {
   "cell_type": "code",
   "execution_count": null,
   "metadata": {},
   "outputs": [],
   "source": [
    "pymsgbox.alert(text='', title='', button='OK')"
   ]
  },
  {
   "cell_type": "code",
   "execution_count": null,
   "metadata": {},
   "outputs": [],
   "source": [
    "getText = pymsgbox.confirm(text='Choose OK or Cancel', title='', buttons=['OK', 'Cancel'])"
   ]
  },
  {
   "cell_type": "code",
   "execution_count": null,
   "metadata": {},
   "outputs": [],
   "source": [
    "print(getText)"
   ]
  },
  {
   "cell_type": "code",
   "execution_count": 29,
   "metadata": {
    "collapsed": true
   },
   "outputs": [],
   "source": [
    "import psycopg2"
   ]
  },
  {
   "cell_type": "code",
   "execution_count": 30,
   "metadata": {
    "collapsed": true
   },
   "outputs": [],
   "source": [
    "def dropPlayerTable():\n",
    "    conn = None\n",
    "    try:\n",
    "        conn = psycopg2.connect(\"dbname='mydatabase' user='myuser' host='localhost' port='65432' password='123qwe'\")\n",
    "        cur = conn.cursor()\n",
    "        sql = \"\"\"DROP TABLE IF EXISTS player ; \"\"\"\n",
    "        cur.execute(sql)\n",
    "        conn.commit()\n",
    "    except(Exception, psycopg2.DatabaseError) as error:\n",
    "        print(error)\n",
    "    finally:\n",
    "        if conn is not None:\n",
    "            conn.close()"
   ]
  },
  {
   "cell_type": "code",
   "execution_count": 39,
   "metadata": {},
   "outputs": [],
   "source": [
    "#dropPlayerTable()"
   ]
  },
  {
   "cell_type": "code",
   "execution_count": 40,
   "metadata": {
    "collapsed": true
   },
   "outputs": [],
   "source": [
    "def createPlayerTable():\n",
    "    conn = None\n",
    "    try:\n",
    "        conn = psycopg2.connect(\"dbname='mydatabase' user='myuser' host='localhost' port='65432' password='123qwe'\")\n",
    "        cur = conn.cursor()\n",
    "        sql = \"\"\"\n",
    "CREATE TABLE player (\n",
    "    Date DATE,           --1\n",
    "    Num int,             --2\n",
    "    Nat VARCHAR(30),     --3\n",
    "    Player VARCHAR(30),  --4\n",
    "    PlayerID BIGINT,     --5\n",
    "    Spacial VARCHAR(30), --6\n",
    "    st VARCHAR(10),      --7  Status Yellow, Red\n",
    "    Age VARCHAR(10),     --8\n",
    "    Since VARCHAR(30),   --9\n",
    "    TSI BIGINT,          --10\n",
    "    LS INT,              --11\n",
    "    XP INT,              --12\n",
    "    Fo INT,              --13\n",
    "    Stm INT,             --14\n",
    "    Lo INT,              --15\n",
    "    MB boolean,          --16\n",
    "    KP INT,              --17\n",
    "    DF INT,              --18\n",
    "    PM INT,              --19\n",
    "    WI INT,              --20\n",
    "    PS INT,              --21\n",
    "    SC INT,              --22\n",
    "    SP INT,              --23\n",
    "    con BIGINT,          --24 Psico\n",
    "    Last DATE,           --25\n",
    "    RT NUMERIC(2, 1),    --26 Rating\n",
    "    Po VARCHAR(5),       --27 Position\n",
    "    Wage BIGINT,         --28\n",
    "    G INT,               --29\n",
    "    --TC VARCHAR(1),     --\n",
    "    --PH VARCHAR(1),     --\n",
    "    KP_P NUMERIC(4, 2),  --30 KP Position\n",
    "    WB_P NUMERIC(4, 2),  --31 WB Position\n",
    "    CD_P NUMERIC(4, 2),  --32 CD Position\n",
    "    W_P NUMERIC(4, 2),   --33 W  Position\n",
    "    IM_P NUMERIC(4, 2),  --34 IM Position\n",
    "    FW_P NUMERIC(4, 2)   --35 FW Position\n",
    ") ; \"\"\"\n",
    "        cur.execute(sql)\n",
    "        conn.commit()\n",
    "    except(Exception, psycopg2.DatabaseError) as error:\n",
    "        print(error)\n",
    "    finally:\n",
    "        if conn is not None:\n",
    "            conn.close()"
   ]
  },
  {
   "cell_type": "code",
   "execution_count": 41,
   "metadata": {},
   "outputs": [],
   "source": [
    "#createPlayerTable()"
   ]
  },
  {
   "cell_type": "code",
   "execution_count": 34,
   "metadata": {},
   "outputs": [],
   "source": [
    "def insertPlayerTable(time, row):\n",
    "    conn = None\n",
    "    try:\n",
    "        conn = psycopg2.connect(\"dbname='mydatabase' user='myuser' host='localhost' port='65432' password='123qwe'\")\n",
    "        cur = conn.cursor()\n",
    "        sql =  \"\"\"\n",
    "INSERT INTO player ( \n",
    "    SELECT \n",
    "        to_date(%s, 'YYYY-MM-DD'), -- 1\n",
    "        %s, %s, %s, %s, %s,        -- 2, 3, 4, 5, 6\n",
    "        %s, %s, %s, %s, %s,        -- 7, 8, 9,10,11\n",
    "        %s, %s, %s, %s, %s,        --12,13,14,15,16\n",
    "        %s, %s, %s, %s, %s,        --17,18,19,20,21\n",
    "        %s, %s, %s, %s, %s,        --22,23,24,25,26\n",
    "        %s, %s, %s,                --27,28,29\n",
    "        %s, %s, %s, %s, %s,        --30,31,32,33,34\n",
    "        %s                         --35\n",
    ") ; \"\"\"\n",
    "        #sql = \"\"\"INSERT INTO player (SELECT to_date(%s, 'YYYY-MM-DD'), %s, %s, %s, %s, %s, %s, %s, %s, %s, %s, %s, %s, %s, %s, %s, %s, %s) ;\"\"\"\n",
    "        print(sql + \"\\t\")\n",
    "        cur.execute(sql, (time, \n",
    "                          row[0],row[1],row[2],row[3],row[4],\n",
    "                          row[5],row[6],row[7],row[8],row[9],\n",
    "                          row[10],row[11],row[12],row[13],row[14], \n",
    "                          row[15],row[16],row[17],row[18],row[19],\n",
    "                          row[20],row[21],row[22],row[23],row[24],\n",
    "                          row[25],row[26],row[27],\n",
    "                          row[30],row[31],row[32],row[33],row[34],\n",
    "                          row[35]\n",
    "                         ))\n",
    "        conn.commit()\n",
    "    except (Exception, psycopg2.DatabaseError) as error:\n",
    "        print(\"test\")\n",
    "        print(error)\n",
    "    finally:\n",
    "        if conn is not None:\n",
    "            conn.close()"
   ]
  },
  {
   "cell_type": "code",
   "execution_count": 35,
   "metadata": {
    "collapsed": true
   },
   "outputs": [],
   "source": [
    "import csv, re"
   ]
  },
  {
   "cell_type": "code",
   "execution_count": 42,
   "metadata": {},
   "outputs": [
    {
     "name": "stdout",
     "output_type": "stream",
     "text": [
      "['1', 'Hanguk', 'Jee-Seung Oh', '427619233', '', '', '22.3', '13주 0일', '6810', '4', '3', '7', '6', '20', 'TRUE', '8', '3', '1', '1', '1', '1', '6', '852', '2017-07-26', '4.5', 'KP', '1970000', '0', '', '', '8', '3.95', '4.03', '3.22', '3.1', '2.89']\n",
      "\n",
      "INSERT INTO player ( \n",
      "    SELECT \n",
      "        to_date(%s, 'YYYY-MM-DD'), -- 1\n",
      "        %s, %s, %s, %s, %s,        -- 2, 3, 4, 5, 6\n",
      "        %s, %s, %s, %s, %s,        -- 7, 8, 9,10,11\n",
      "        %s, %s, %s, %s, %s,        --12,13,14,15,16\n",
      "        %s, %s, %s, %s, %s,        --17,18,19,20,21\n",
      "        %s, %s, %s, %s, %s,        --22,23,24,25,26\n",
      "        %s, %s, %s,                --27,28,29\n",
      "        %s, %s, %s, %s, %s,        --30,31,32,33,34\n",
      "        %s                         --35\n",
      ") ; \t\n",
      "['2', 'Hanguk', 'Jee-Hoon Kim', '428709461', '', '', '19.12', '5주 0일', '2970', '3', '1', '7', '5', '20', 'TRUE', '6', '5', '1', '1', '1', '2', '2', '689', '2017-07-30', '3.5', 'KP', '930000', '0', '', '', '6.24', '4.17', '4.32', '2.79', '2.6', '2.52']\n",
      "\n",
      "INSERT INTO player ( \n",
      "    SELECT \n",
      "        to_date(%s, 'YYYY-MM-DD'), -- 1\n",
      "        %s, %s, %s, %s, %s,        -- 2, 3, 4, 5, 6\n",
      "        %s, %s, %s, %s, %s,        -- 7, 8, 9,10,11\n",
      "        %s, %s, %s, %s, %s,        --12,13,14,15,16\n",
      "        %s, %s, %s, %s, %s,        --17,18,19,20,21\n",
      "        %s, %s, %s, %s, %s,        --22,23,24,25,26\n",
      "        %s, %s, %s,                --27,28,29\n",
      "        %s, %s, %s, %s, %s,        --30,31,32,33,34\n",
      "        %s                         --35\n",
      ") ; \t\n",
      "['3', 'Hanguk', 'Eun-Seok Hong', '427619235', '', '', '29.37', '13주 0일', '460', '5', '4', '6', '6', '20', 'TRUE', '1', '6', '6', '3', '2', '2', '4', '614', '2017-07-26', '3', 'CD', '300000', '1', '', '', '4.04', '6.58', '7.07', '6.22', '6.61', '4.79']\n",
      "\n",
      "INSERT INTO player ( \n",
      "    SELECT \n",
      "        to_date(%s, 'YYYY-MM-DD'), -- 1\n",
      "        %s, %s, %s, %s, %s,        -- 2, 3, 4, 5, 6\n",
      "        %s, %s, %s, %s, %s,        -- 7, 8, 9,10,11\n",
      "        %s, %s, %s, %s, %s,        --12,13,14,15,16\n",
      "        %s, %s, %s, %s, %s,        --17,18,19,20,21\n",
      "        %s, %s, %s, %s, %s,        --22,23,24,25,26\n",
      "        %s, %s, %s,                --27,28,29\n",
      "        %s, %s, %s, %s, %s,        --30,31,32,33,34\n",
      "        %s                         --35\n",
      ") ; \t\n",
      "['4', 'Hanguk', 'Ji-Woon Lee', '427619236', '', '', '19.53', '13주 0일', '1070', '5', '2', '6', '6', '20', 'TRUE', '1', '7', '4', '3', '5', '2', '5', '735', '2017-07-23', '3.5', 'CD', '390000', '2', '', '', '3.95', '6.33', '6.61', '5.38', '5.34', '4.35']\n",
      "\n",
      "INSERT INTO player ( \n",
      "    SELECT \n",
      "        to_date(%s, 'YYYY-MM-DD'), -- 1\n",
      "        %s, %s, %s, %s, %s,        -- 2, 3, 4, 5, 6\n",
      "        %s, %s, %s, %s, %s,        -- 7, 8, 9,10,11\n",
      "        %s, %s, %s, %s, %s,        --12,13,14,15,16\n",
      "        %s, %s, %s, %s, %s,        --17,18,19,20,21\n",
      "        %s, %s, %s, %s, %s,        --22,23,24,25,26\n",
      "        %s, %s, %s,                --27,28,29\n",
      "        %s, %s, %s, %s, %s,        --30,31,32,33,34\n",
      "        %s                         --35\n",
      ") ; \t\n",
      "['5', 'Hanguk', 'Jang-Soo Choi', '427619237', 'Quick', '', '30.99', '13주 0일', '200', '5', '5', '5', '6', '20', 'TRUE', '1', '6', '4', '4', '2', '1', '7', '603', '2017-06-22', '2', 'CD', '280000', '0', '', '', '3.72', '5.79', '5.85', '5.04', '4.85', '3.71']\n",
      "\n",
      "INSERT INTO player ( \n",
      "    SELECT \n",
      "        to_date(%s, 'YYYY-MM-DD'), -- 1\n",
      "        %s, %s, %s, %s, %s,        -- 2, 3, 4, 5, 6\n",
      "        %s, %s, %s, %s, %s,        -- 7, 8, 9,10,11\n",
      "        %s, %s, %s, %s, %s,        --12,13,14,15,16\n",
      "        %s, %s, %s, %s, %s,        --17,18,19,20,21\n",
      "        %s, %s, %s, %s, %s,        --22,23,24,25,26\n",
      "        %s, %s, %s,                --27,28,29\n",
      "        %s, %s, %s, %s, %s,        --30,31,32,33,34\n",
      "        %s                         --35\n",
      ") ; \t\n",
      "['6', 'Hanguk', 'Jae-Shin Cha', '427619238', '', 'Y×1', '27.34', '13주 0일', '880', '5', '4', '4', '7', '20', 'TRUE', '1', '7', '3', '6', '3', '2', '6', '767', '2017-07-26', '3.5', 'WB', '390000', '3', '', '', '3.52', '5.73', '5.45', '4.65', '4.01', '3.68']\n",
      "\n",
      "INSERT INTO player ( \n",
      "    SELECT \n",
      "        to_date(%s, 'YYYY-MM-DD'), -- 1\n",
      "        %s, %s, %s, %s, %s,        -- 2, 3, 4, 5, 6\n",
      "        %s, %s, %s, %s, %s,        -- 7, 8, 9,10,11\n",
      "        %s, %s, %s, %s, %s,        --12,13,14,15,16\n",
      "        %s, %s, %s, %s, %s,        --17,18,19,20,21\n",
      "        %s, %s, %s, %s, %s,        --22,23,24,25,26\n",
      "        %s, %s, %s,                --27,28,29\n",
      "        %s, %s, %s, %s, %s,        --30,31,32,33,34\n",
      "        %s                         --35\n",
      ") ; \t\n",
      "['7', 'Hanguk', 'In-Moo Byon', '427619239', '', '', '32.22', '13주 0일', '470', '1', '6', '7', '6', '20', 'TRUE', '2', '6', '5', '5', '5', '3', '6', '595', '2017-07-30', '3.5', 'CD', '300000', '4', '', '', '5.09', '7.25', '7.29', '6.9', '6.77', '6']\n",
      "\n",
      "INSERT INTO player ( \n",
      "    SELECT \n",
      "        to_date(%s, 'YYYY-MM-DD'), -- 1\n",
      "        %s, %s, %s, %s, %s,        -- 2, 3, 4, 5, 6\n",
      "        %s, %s, %s, %s, %s,        -- 7, 8, 9,10,11\n",
      "        %s, %s, %s, %s, %s,        --12,13,14,15,16\n",
      "        %s, %s, %s, %s, %s,        --17,18,19,20,21\n",
      "        %s, %s, %s, %s, %s,        --22,23,24,25,26\n",
      "        %s, %s, %s,                --27,28,29\n",
      "        %s, %s, %s, %s, %s,        --30,31,32,33,34\n",
      "        %s                         --35\n",
      ") ; \t\n",
      "['8', 'Hanguk', 'Hong-Chan Son', '427619240', '', 'Y×1', '21.94', '13주 0일', '1120', '5', '3', '7', '7', '20', 'TRUE', '1', '5', '6', '5', '5', '1', '4', '624', '2017-07-26', '3.5', 'WB', '310000', '0', '', '', '4.02', '6.9', '7.04', '7.16', '7.24', '5.41']\n",
      "\n",
      "INSERT INTO player ( \n",
      "    SELECT \n",
      "        to_date(%s, 'YYYY-MM-DD'), -- 1\n",
      "        %s, %s, %s, %s, %s,        -- 2, 3, 4, 5, 6\n",
      "        %s, %s, %s, %s, %s,        -- 7, 8, 9,10,11\n",
      "        %s, %s, %s, %s, %s,        --12,13,14,15,16\n",
      "        %s, %s, %s, %s, %s,        --17,18,19,20,21\n",
      "        %s, %s, %s, %s, %s,        --22,23,24,25,26\n",
      "        %s, %s, %s,                --27,28,29\n",
      "        %s, %s, %s, %s, %s,        --30,31,32,33,34\n",
      "        %s                         --35\n",
      ") ; \t\n",
      "['9', 'Hanguk', 'Hoi-Taek Park', '427619241', 'Unpredictable', '', '19.101', '13주 0일', '1010', '2', '2', '5', '6', '20', 'TRUE', '1', '5', '6', '3', '6', '3', '6', '648', '2017-07-26', '3.5', 'IM', '330000', '3', '', '', '3.04', '5.05', '5.44', '5.3', '5.74', '4.71']\n",
      "\n",
      "INSERT INTO player ( \n",
      "    SELECT \n",
      "        to_date(%s, 'YYYY-MM-DD'), -- 1\n",
      "        %s, %s, %s, %s, %s,        -- 2, 3, 4, 5, 6\n",
      "        %s, %s, %s, %s, %s,        -- 7, 8, 9,10,11\n",
      "        %s, %s, %s, %s, %s,        --12,13,14,15,16\n",
      "        %s, %s, %s, %s, %s,        --17,18,19,20,21\n",
      "        %s, %s, %s, %s, %s,        --22,23,24,25,26\n",
      "        %s, %s, %s,                --27,28,29\n",
      "        %s, %s, %s, %s, %s,        --30,31,32,33,34\n",
      "        %s                         --35\n",
      ") ; \t\n",
      "['10', 'Hanguk', 'Kwang-Eul Jeon', '427619242', '', '', '23.100', '13주 0일', '1430', '4', '3', '6', '7', '20', 'TRUE', '1', '6', '7', '3', '3', '2', '5', '748', '2017-07-26', '4', 'IM', '430000', '2', '', '', '3.96', '6.73', '7.36', '6.69', '7.29', '5.12']\n",
      "\n",
      "INSERT INTO player ( \n",
      "    SELECT \n",
      "        to_date(%s, 'YYYY-MM-DD'), -- 1\n",
      "        %s, %s, %s, %s, %s,        -- 2, 3, 4, 5, 6\n",
      "        %s, %s, %s, %s, %s,        -- 7, 8, 9,10,11\n",
      "        %s, %s, %s, %s, %s,        --12,13,14,15,16\n",
      "        %s, %s, %s, %s, %s,        --17,18,19,20,21\n",
      "        %s, %s, %s, %s, %s,        --22,23,24,25,26\n",
      "        %s, %s, %s,                --27,28,29\n",
      "        %s, %s, %s, %s, %s,        --30,31,32,33,34\n",
      "        %s                         --35\n",
      ") ; \t\n",
      "['11', 'Hanguk', 'Kwang-Hwan Yun', '427619243', '', '', '26.67', '13주 0일', '740', '6', '3', '5', '6', '20', 'TRUE', '2', '5', '6', '3', '5', '2', '6', '661', '2017-07-30', '3.5', 'IM', '330000', '2', '', '', '3.87', '5.39', '5.81', '5.59', '6', '4.6']\n",
      "\n",
      "INSERT INTO player ( \n",
      "    SELECT \n",
      "        to_date(%s, 'YYYY-MM-DD'), -- 1\n",
      "        %s, %s, %s, %s, %s,        -- 2, 3, 4, 5, 6\n",
      "        %s, %s, %s, %s, %s,        -- 7, 8, 9,10,11\n",
      "        %s, %s, %s, %s, %s,        --12,13,14,15,16\n",
      "        %s, %s, %s, %s, %s,        --17,18,19,20,21\n",
      "        %s, %s, %s, %s, %s,        --22,23,24,25,26\n",
      "        %s, %s, %s,                --27,28,29\n",
      "        %s, %s, %s, %s, %s,        --30,31,32,33,34\n",
      "        %s                         --35\n",
      ") ; \t\n",
      "['12', 'Hanguk', 'Chan-Myung Lee', '427619244', '', '', '25.76', '13주 0일', '860', '3', '4', '5', '7', '20', 'TRUE', '1', '3', '7', '3', '4', '3', '4', '749', '2017-07-26', '3.5', 'FW', '410000', '1', '', '', '3.08', '4.95', '5.42', '5.93', '6.67', '5.3']\n",
      "\n",
      "INSERT INTO player ( \n",
      "    SELECT \n",
      "        to_date(%s, 'YYYY-MM-DD'), -- 1\n",
      "        %s, %s, %s, %s, %s,        -- 2, 3, 4, 5, 6\n",
      "        %s, %s, %s, %s, %s,        -- 7, 8, 9,10,11\n",
      "        %s, %s, %s, %s, %s,        --12,13,14,15,16\n",
      "        %s, %s, %s, %s, %s,        --17,18,19,20,21\n",
      "        %s, %s, %s, %s, %s,        --22,23,24,25,26\n",
      "        %s, %s, %s,                --27,28,29\n",
      "        %s, %s, %s, %s, %s,        --30,31,32,33,34\n",
      "        %s                         --35\n",
      ") ; \t\n",
      "['13', 'Hanguk', 'Sung-Kook Han', '427619245', 'Technical', '', '21.64', '13주 0일', '1280', '2', '3', '5', '7', '20', 'TRUE', '1', '5', '6', '6', '5', '2', '5', '629', '2017-07-26', '4.5', 'W', '330000', '7', '', '', '3.39', '5.97', '5.94', '6.21', '6.14', '4.99']\n",
      "\n",
      "INSERT INTO player ( \n",
      "    SELECT \n",
      "        to_date(%s, 'YYYY-MM-DD'), -- 1\n",
      "        %s, %s, %s, %s, %s,        -- 2, 3, 4, 5, 6\n",
      "        %s, %s, %s, %s, %s,        -- 7, 8, 9,10,11\n",
      "        %s, %s, %s, %s, %s,        --12,13,14,15,16\n",
      "        %s, %s, %s, %s, %s,        --17,18,19,20,21\n",
      "        %s, %s, %s, %s, %s,        --22,23,24,25,26\n",
      "        %s, %s, %s,                --27,28,29\n",
      "        %s, %s, %s, %s, %s,        --30,31,32,33,34\n",
      "        %s                         --35\n",
      ") ; \t\n",
      "['14', 'Hanguk', 'Se-Jong Cho', '427619246', '', '', '28.64', '13주 0일', '800', '4', '5', '6', '6', '20', 'TRUE', '1', '5', '5', '6', '3', '4', '4', '613', '2017-07-30', '3.5', 'WB', '290000', '8', '', '', '3.89', '6.46', '6.3', '6.32', '6.1', '5.77']\n",
      "\n",
      "INSERT INTO player ( \n",
      "    SELECT \n",
      "        to_date(%s, 'YYYY-MM-DD'), -- 1\n",
      "        %s, %s, %s, %s, %s,        -- 2, 3, 4, 5, 6\n",
      "        %s, %s, %s, %s, %s,        -- 7, 8, 9,10,11\n",
      "        %s, %s, %s, %s, %s,        --12,13,14,15,16\n",
      "        %s, %s, %s, %s, %s,        --17,18,19,20,21\n",
      "        %s, %s, %s, %s, %s,        --22,23,24,25,26\n",
      "        %s, %s, %s,                --27,28,29\n",
      "        %s, %s, %s, %s, %s,        --30,31,32,33,34\n",
      "        %s                         --35\n",
      ") ; \t\n",
      "['15', 'Hanguk', 'Man-Ok Lee', '427619247', 'Unpredictable', 'Y×1', '23.5', '13주 0일', '2280', '5', '3', '7', '7', '20', 'TRUE', '1', '5', '5', '7', '6', '2', '4', '762', '2017-07-30', '5', 'W', '350000', '7', '', '', '4.03', '7.07', '6.71', '7.19', '6.69', '5.92']\n",
      "\n",
      "INSERT INTO player ( \n",
      "    SELECT \n",
      "        to_date(%s, 'YYYY-MM-DD'), -- 1\n",
      "        %s, %s, %s, %s, %s,        -- 2, 3, 4, 5, 6\n",
      "        %s, %s, %s, %s, %s,        -- 7, 8, 9,10,11\n",
      "        %s, %s, %s, %s, %s,        --12,13,14,15,16\n",
      "        %s, %s, %s, %s, %s,        --17,18,19,20,21\n",
      "        %s, %s, %s, %s, %s,        --22,23,24,25,26\n",
      "        %s, %s, %s,                --27,28,29\n",
      "        %s, %s, %s, %s, %s,        --30,31,32,33,34\n",
      "        %s                         --35\n",
      ") ; \t\n",
      "['16', 'Hanguk', 'Dong-Shik Kim', '427619248', '', '', '18.111', '13주 0일', '1280', '6', '2', '5', '6', '20', 'TRUE', '1', '3', '3', '6', '4', '7', '6', '775', '2017-07-26', '4.5', 'FW', '410000', '10', '', '', '2.69', '4.23', '3.78', '4.34', '3.97', '5.47']\n",
      "\n",
      "INSERT INTO player ( \n",
      "    SELECT \n",
      "        to_date(%s, 'YYYY-MM-DD'), -- 1\n",
      "        %s, %s, %s, %s, %s,        -- 2, 3, 4, 5, 6\n",
      "        %s, %s, %s, %s, %s,        -- 7, 8, 9,10,11\n",
      "        %s, %s, %s, %s, %s,        --12,13,14,15,16\n",
      "        %s, %s, %s, %s, %s,        --17,18,19,20,21\n",
      "        %s, %s, %s, %s, %s,        --22,23,24,25,26\n",
      "        %s, %s, %s,                --27,28,29\n",
      "        %s, %s, %s, %s, %s,        --30,31,32,33,34\n",
      "        %s                         --35\n",
      ") ; \t\n",
      "['17', 'Hanguk', 'Seung-Mee Kim', '427619249', 'Unpredictable', '', '34.50', '13주 0일', '60', '2', '6', '5', '5', '20', 'TRUE', '1', '2', '4', '4', '4', '7', '5', '680', '2017-07-30', '4', 'FW', '300000', '12', '', '', '2.78', '3.91', '3.85', '4.49', '4.66', '5.65']\n",
      "\n",
      "INSERT INTO player ( \n",
      "    SELECT \n",
      "        to_date(%s, 'YYYY-MM-DD'), -- 1\n",
      "        %s, %s, %s, %s, %s,        -- 2, 3, 4, 5, 6\n",
      "        %s, %s, %s, %s, %s,        -- 7, 8, 9,10,11\n",
      "        %s, %s, %s, %s, %s,        --12,13,14,15,16\n",
      "        %s, %s, %s, %s, %s,        --17,18,19,20,21\n",
      "        %s, %s, %s, %s, %s,        --22,23,24,25,26\n",
      "        %s, %s, %s,                --27,28,29\n",
      "        %s, %s, %s, %s, %s,        --30,31,32,33,34\n",
      "        %s                         --35\n",
      ") ; \t\n",
      "['18', 'Hanguk', 'Kwang-Rae Kim', '427619250', 'Head', 'Y×2', '26.71', '13주 0일', '880', '3', '4', '4', '7', '20', 'TRUE', '1', '2', '5', '3', '6', '6', '2', '631', '2017-07-30', '4', 'FW', '310000', '9', '', '', '2.53', '3.65', '3.82', '4.52', '4.99', '5.37']\n",
      "\n",
      "INSERT INTO player ( \n",
      "    SELECT \n",
      "        to_date(%s, 'YYYY-MM-DD'), -- 1\n",
      "        %s, %s, %s, %s, %s,        -- 2, 3, 4, 5, 6\n",
      "        %s, %s, %s, %s, %s,        -- 7, 8, 9,10,11\n",
      "        %s, %s, %s, %s, %s,        --12,13,14,15,16\n",
      "        %s, %s, %s, %s, %s,        --17,18,19,20,21\n",
      "        %s, %s, %s, %s, %s,        --22,23,24,25,26\n",
      "        %s, %s, %s,                --27,28,29\n",
      "        %s, %s, %s, %s, %s,        --30,31,32,33,34\n",
      "        %s                         --35\n",
      ") ; \t\n",
      "['19', 'Hanguk', 'Joo-Po Lee', '428801949', '', '', '17.64', '4주 0일', '0', '5', '1', '5', '5', '20', 'TRUE', '1', '2', '2', '3', '1', '1', '3', '290', '', '', '', '250000', '0', '', '', '1.95', '2.58', '2.45', '2.53', '2.35', '2.13']\n",
      "\n",
      "INSERT INTO player ( \n",
      "    SELECT \n",
      "        to_date(%s, 'YYYY-MM-DD'), -- 1\n",
      "        %s, %s, %s, %s, %s,        -- 2, 3, 4, 5, 6\n",
      "        %s, %s, %s, %s, %s,        -- 7, 8, 9,10,11\n",
      "        %s, %s, %s, %s, %s,        --12,13,14,15,16\n",
      "        %s, %s, %s, %s, %s,        --17,18,19,20,21\n",
      "        %s, %s, %s, %s, %s,        --22,23,24,25,26\n",
      "        %s, %s, %s,                --27,28,29\n",
      "        %s, %s, %s, %s, %s,        --30,31,32,33,34\n",
      "        %s                         --35\n",
      ") ; \t\n",
      "test\n",
      "invalid input syntax for type date: \"\"\n",
      "LINE 9:         '1', '3', '290', '', '',        --22,23,24,25,26\n",
      "                                 ^\n",
      "\n",
      "['20', 'Brasil', 'Jader da Matta', '427827635', '', 'R', '32.28', '7주 6일', '720', '4', '6', '7', '6', '8', 'FALSE', '2', '6', '6', '5', '6', '2', '5', '590', '2017-07-30', '3.5', 'WB', '384000', '1', '', '', '4.09', '6.46', '6.63', '6.45', '6.5', '5.04']\n",
      "\n",
      "INSERT INTO player ( \n",
      "    SELECT \n",
      "        to_date(%s, 'YYYY-MM-DD'), -- 1\n",
      "        %s, %s, %s, %s, %s,        -- 2, 3, 4, 5, 6\n",
      "        %s, %s, %s, %s, %s,        -- 7, 8, 9,10,11\n",
      "        %s, %s, %s, %s, %s,        --12,13,14,15,16\n",
      "        %s, %s, %s, %s, %s,        --17,18,19,20,21\n",
      "        %s, %s, %s, %s, %s,        --22,23,24,25,26\n",
      "        %s, %s, %s,                --27,28,29\n",
      "        %s, %s, %s, %s, %s,        --30,31,32,33,34\n",
      "        %s                         --35\n",
      ") ; \t\n",
      "['21', 'Belgium', 'Jitse Haes', '428112207', '', 'Y×1', '31.69', '7주 6일', '890', '4', '5', '6', '6', '8', 'FALSE', '2', '6', '6', '5', '6', '2', '5', '596', '2017-07-30', '3', 'CD', '384000', '2', '', '', '3.73', '5.94', '6.1', '5.93', '5.98', '4.62']\n",
      "\n",
      "INSERT INTO player ( \n",
      "    SELECT \n",
      "        to_date(%s, 'YYYY-MM-DD'), -- 1\n",
      "        %s, %s, %s, %s, %s,        -- 2, 3, 4, 5, 6\n",
      "        %s, %s, %s, %s, %s,        -- 7, 8, 9,10,11\n",
      "        %s, %s, %s, %s, %s,        --12,13,14,15,16\n",
      "        %s, %s, %s, %s, %s,        --17,18,19,20,21\n",
      "        %s, %s, %s, %s, %s,        --22,23,24,25,26\n",
      "        %s, %s, %s,                --27,28,29\n",
      "        %s, %s, %s, %s, %s,        --30,31,32,33,34\n",
      "        %s                         --35\n",
      ") ; \t\n"
     ]
    },
    {
     "name": "stdout",
     "output_type": "stream",
     "text": [
      "['22', 'Nederland', 'Keith Esser', '428060480', 'Quick', '', '31.86', '7주 6일', '890', '5', '6', '5', '6', '8', 'FALSE', '2', '6', '5', '6', '6', '3', '6', '596', '2017-07-30', '3.5', 'W', '372000', '1', '', '', '3.52', '5.54', '5.43', '5.32', '5.05', '4.53']\n",
      "\n",
      "INSERT INTO player ( \n",
      "    SELECT \n",
      "        to_date(%s, 'YYYY-MM-DD'), -- 1\n",
      "        %s, %s, %s, %s, %s,        -- 2, 3, 4, 5, 6\n",
      "        %s, %s, %s, %s, %s,        -- 7, 8, 9,10,11\n",
      "        %s, %s, %s, %s, %s,        --12,13,14,15,16\n",
      "        %s, %s, %s, %s, %s,        --17,18,19,20,21\n",
      "        %s, %s, %s, %s, %s,        --22,23,24,25,26\n",
      "        %s, %s, %s,                --27,28,29\n",
      "        %s, %s, %s, %s, %s,        --30,31,32,33,34\n",
      "        %s                         --35\n",
      ") ; \t\n",
      "['23', 'Belgium', 'Mathias Piron', '428125893', 'Technical', '', '32.38', '7주 6일', '500', '6', '5', '4', '6', '8', 'FALSE', '2', '6', '6', '6', '6', '3', '6', '590', '2017-07-30', '3', 'W', '372000', '1', '', '', '3.02', '4.95', '4.95', '4.95', '4.87', '4.11']\n",
      "\n",
      "INSERT INTO player ( \n",
      "    SELECT \n",
      "        to_date(%s, 'YYYY-MM-DD'), -- 1\n",
      "        %s, %s, %s, %s, %s,        -- 2, 3, 4, 5, 6\n",
      "        %s, %s, %s, %s, %s,        -- 7, 8, 9,10,11\n",
      "        %s, %s, %s, %s, %s,        --12,13,14,15,16\n",
      "        %s, %s, %s, %s, %s,        --17,18,19,20,21\n",
      "        %s, %s, %s, %s, %s,        --22,23,24,25,26\n",
      "        %s, %s, %s,                --27,28,29\n",
      "        %s, %s, %s, %s, %s,        --30,31,32,33,34\n",
      "        %s                         --35\n",
      ") ; \t\n",
      "['24', 'Canada', 'Philippe Morel', '425173438', 'Unpredictable', '', '33.52', '7주 5일', '320', '5', '5', '7', '5', '8', 'FALSE', '2', '6', '5', '5', '6', '2', '6', '590', '2017-07-26', '3', 'W', '360000', '3', '', '', '3.85', '5.94', '5.98', '5.68', '5.53', '4.51']\n",
      "\n",
      "INSERT INTO player ( \n",
      "    SELECT \n",
      "        to_date(%s, 'YYYY-MM-DD'), -- 1\n",
      "        %s, %s, %s, %s, %s,        -- 2, 3, 4, 5, 6\n",
      "        %s, %s, %s, %s, %s,        -- 7, 8, 9,10,11\n",
      "        %s, %s, %s, %s, %s,        --12,13,14,15,16\n",
      "        %s, %s, %s, %s, %s,        --17,18,19,20,21\n",
      "        %s, %s, %s, %s, %s,        --22,23,24,25,26\n",
      "        %s, %s, %s,                --27,28,29\n",
      "        %s, %s, %s, %s, %s,        --30,31,32,33,34\n",
      "        %s                         --35\n",
      ") ; \t\n",
      "['25', 'Polska', 'Pylyp Nagorniak', '406205227', '', 'Y×2', '26.111', '7주 6일', '1820', '5', '3', '6', '5', '8', 'FALSE', '1', '6', '7', '3', '6', '3', '6', '725', '2017-07-30', '3.5', 'IM', '444000', '1', '', '', '2.77', '5.34', '5.93', '5.53', '6.13', '4.57']\n",
      "\n",
      "INSERT INTO player ( \n",
      "    SELECT \n",
      "        to_date(%s, 'YYYY-MM-DD'), -- 1\n",
      "        %s, %s, %s, %s, %s,        -- 2, 3, 4, 5, 6\n",
      "        %s, %s, %s, %s, %s,        -- 7, 8, 9,10,11\n",
      "        %s, %s, %s, %s, %s,        --12,13,14,15,16\n",
      "        %s, %s, %s, %s, %s,        --17,18,19,20,21\n",
      "        %s, %s, %s, %s, %s,        --22,23,24,25,26\n",
      "        %s, %s, %s,                --27,28,29\n",
      "        %s, %s, %s, %s, %s,        --30,31,32,33,34\n",
      "        %s                         --35\n",
      ") ; \t\n",
      "['26', 'Türkiye', 'Türker Arkan', '425734621', '', 'Y×1', '33.16', '7주 6일', '670', '1', '6', '7', '6', '8', 'FALSE', '2', '6', '7', '5', '6', '2', '5', '680', '2017-07-30', '4.5', 'IM', '456000', '11', '', '', '4.01', '6.54', '6.84', '6.78', '7.04', '5.21']\n",
      "\n",
      "INSERT INTO player ( \n",
      "    SELECT \n",
      "        to_date(%s, 'YYYY-MM-DD'), -- 1\n",
      "        %s, %s, %s, %s, %s,        -- 2, 3, 4, 5, 6\n",
      "        %s, %s, %s, %s, %s,        -- 7, 8, 9,10,11\n",
      "        %s, %s, %s, %s, %s,        --12,13,14,15,16\n",
      "        %s, %s, %s, %s, %s,        --17,18,19,20,21\n",
      "        %s, %s, %s, %s, %s,        --22,23,24,25,26\n",
      "        %s, %s, %s,                --27,28,29\n",
      "        %s, %s, %s, %s, %s,        --30,31,32,33,34\n",
      "        %s                         --35\n",
      ") ; \t\n",
      "['27', 'Hanguk', 'Joon Yuk', '429133218', '', '', '18.72', '3일', '170', '3', '1', '6', '5', '20', 'TRUE', '1', '5', '4', '2', '4', '3', '3', '498', '', '', '', '250000', '0', '', '', '2.8', '4.36', '4.69', '4.03', '4.27', '3.71']\n",
      "\n",
      "INSERT INTO player ( \n",
      "    SELECT \n",
      "        to_date(%s, 'YYYY-MM-DD'), -- 1\n",
      "        %s, %s, %s, %s, %s,        -- 2, 3, 4, 5, 6\n",
      "        %s, %s, %s, %s, %s,        -- 7, 8, 9,10,11\n",
      "        %s, %s, %s, %s, %s,        --12,13,14,15,16\n",
      "        %s, %s, %s, %s, %s,        --17,18,19,20,21\n",
      "        %s, %s, %s, %s, %s,        --22,23,24,25,26\n",
      "        %s, %s, %s,                --27,28,29\n",
      "        %s, %s, %s, %s, %s,        --30,31,32,33,34\n",
      "        %s                         --35\n",
      ") ; \t\n",
      "test\n",
      "invalid input syntax for type date: \"\"\n",
      "LINE 9:         '3', '3', '498', '', '',        --22,23,24,25,26\n",
      "                                 ^\n",
      "\n",
      "['28', 'Hanguk', 'Kyoo-Poong Jeon', '428976501', '', '', '18.66', '2주 0일', '40', '3', '1', '6', '5', '20', 'TRUE', '1', '3', '3', '3', '2', '4', '4', '406', '2017-07-30', '2', 'CD', '250000', '1', '', '', '2.36', '3.45', '3.45', '3.37', '3.4', '3.64']\n",
      "\n",
      "INSERT INTO player ( \n",
      "    SELECT \n",
      "        to_date(%s, 'YYYY-MM-DD'), -- 1\n",
      "        %s, %s, %s, %s, %s,        -- 2, 3, 4, 5, 6\n",
      "        %s, %s, %s, %s, %s,        -- 7, 8, 9,10,11\n",
      "        %s, %s, %s, %s, %s,        --12,13,14,15,16\n",
      "        %s, %s, %s, %s, %s,        --17,18,19,20,21\n",
      "        %s, %s, %s, %s, %s,        --22,23,24,25,26\n",
      "        %s, %s, %s,                --27,28,29\n",
      "        %s, %s, %s, %s, %s,        --30,31,32,33,34\n",
      "        %s                         --35\n",
      ") ; \t\n",
      "['99', 'Hanguk', 'Je-Min Jung', '427619232', '', '', '41.15', '13주 0일', '0', '4', '8', '4', '1', '20', 'TRUE', '0', '0', '0', '0', '0', '0', '2', '440', '', '', '', '250000', '0', '', '', '1.2', '1.2', '1.2', '1.2', '1.2', '1.2']\n",
      "\n",
      "INSERT INTO player ( \n",
      "    SELECT \n",
      "        to_date(%s, 'YYYY-MM-DD'), -- 1\n",
      "        %s, %s, %s, %s, %s,        -- 2, 3, 4, 5, 6\n",
      "        %s, %s, %s, %s, %s,        -- 7, 8, 9,10,11\n",
      "        %s, %s, %s, %s, %s,        --12,13,14,15,16\n",
      "        %s, %s, %s, %s, %s,        --17,18,19,20,21\n",
      "        %s, %s, %s, %s, %s,        --22,23,24,25,26\n",
      "        %s, %s, %s,                --27,28,29\n",
      "        %s, %s, %s, %s, %s,        --30,31,32,33,34\n",
      "        %s                         --35\n",
      ") ; \t\n",
      "test\n",
      "invalid input syntax for type date: \"\"\n",
      "LINE 9:         '0', '2', '440', '', '',        --22,23,24,25,26\n",
      "                                 ^\n",
      "\n"
     ]
    }
   ],
   "source": [
    "with open(folder + '/player_skill_table.txt', 'r', encoding='utf-8') as f:\n",
    "    reader = csv.reader(f, delimiter=',')\n",
    "    for row in reader:\n",
    "        #print(row)\n",
    "        if row[0] != \"Number\" :\n",
    "            print(row)\n",
    "            insertPlayerTable('2017-08-05', row)"
   ]
  },
  {
   "cell_type": "code",
   "execution_count": 37,
   "metadata": {
    "collapsed": true
   },
   "outputs": [],
   "source": [
    "def selectAll(tableName):\n",
    "    conn = None\n",
    "    try:\n",
    "        conn = psycopg2.connect(\"dbname='mydatabase' user='myuser' host='localhost' port='65432' password='123qwe'\")\n",
    "        cur = conn.cursor()\n",
    "        cur.execute(\"SELECT * FROM \" + tableName)\n",
    "        row = cur.fetchone()\n",
    "        while row is not None:\n",
    "            print(row)\n",
    "            row = cur.fetchone()\n",
    "    except (Exception, psycopg2.DatabaseError) as error:\n",
    "            print(error)\n",
    "    finally:\n",
    "        if conn is not None:\n",
    "            conn.close()"
   ]
  },
  {
   "cell_type": "code",
   "execution_count": 38,
   "metadata": {},
   "outputs": [
    {
     "name": "stdout",
     "output_type": "stream",
     "text": [
      "(datetime.date(2017, 8, 5), 1, 'Hanguk', 'Jee-Seung Oh', 427619233, '', '', '22.3', '13주 0일', 6810, 4, 3, 7, 6, 20, True, 8, 3, 1, 1, 1, 1, 6, 852, datetime.date(2017, 7, 26), Decimal('4.5'), 'KP', 1970000, 0, Decimal('8.00'), Decimal('3.95'), Decimal('4.03'), Decimal('3.22'), Decimal('3.10'), Decimal('2.89'))\n",
      "(datetime.date(2017, 8, 5), 2, 'Hanguk', 'Jee-Hoon Kim', 428709461, '', '', '19.12', '5주 0일', 2970, 3, 1, 7, 5, 20, True, 6, 5, 1, 1, 1, 2, 2, 689, datetime.date(2017, 7, 30), Decimal('3.5'), 'KP', 930000, 0, Decimal('6.24'), Decimal('4.17'), Decimal('4.32'), Decimal('2.79'), Decimal('2.60'), Decimal('2.52'))\n",
      "(datetime.date(2017, 8, 5), 3, 'Hanguk', 'Eun-Seok Hong', 427619235, '', '', '29.37', '13주 0일', 460, 5, 4, 6, 6, 20, True, 1, 6, 6, 3, 2, 2, 4, 614, datetime.date(2017, 7, 26), Decimal('3.0'), 'CD', 300000, 1, Decimal('4.04'), Decimal('6.58'), Decimal('7.07'), Decimal('6.22'), Decimal('6.61'), Decimal('4.79'))\n",
      "(datetime.date(2017, 8, 5), 4, 'Hanguk', 'Ji-Woon Lee', 427619236, '', '', '19.53', '13주 0일', 1070, 5, 2, 6, 6, 20, True, 1, 7, 4, 3, 5, 2, 5, 735, datetime.date(2017, 7, 23), Decimal('3.5'), 'CD', 390000, 2, Decimal('3.95'), Decimal('6.33'), Decimal('6.61'), Decimal('5.38'), Decimal('5.34'), Decimal('4.35'))\n",
      "(datetime.date(2017, 8, 5), 5, 'Hanguk', 'Jang-Soo Choi', 427619237, 'Quick', '', '30.99', '13주 0일', 200, 5, 5, 5, 6, 20, True, 1, 6, 4, 4, 2, 1, 7, 603, datetime.date(2017, 6, 22), Decimal('2.0'), 'CD', 280000, 0, Decimal('3.72'), Decimal('5.79'), Decimal('5.85'), Decimal('5.04'), Decimal('4.85'), Decimal('3.71'))\n",
      "(datetime.date(2017, 8, 5), 6, 'Hanguk', 'Jae-Shin Cha', 427619238, '', 'Y×1', '27.34', '13주 0일', 880, 5, 4, 4, 7, 20, True, 1, 7, 3, 6, 3, 2, 6, 767, datetime.date(2017, 7, 26), Decimal('3.5'), 'WB', 390000, 3, Decimal('3.52'), Decimal('5.73'), Decimal('5.45'), Decimal('4.65'), Decimal('4.01'), Decimal('3.68'))\n",
      "(datetime.date(2017, 8, 5), 7, 'Hanguk', 'In-Moo Byon', 427619239, '', '', '32.22', '13주 0일', 470, 1, 6, 7, 6, 20, True, 2, 6, 5, 5, 5, 3, 6, 595, datetime.date(2017, 7, 30), Decimal('3.5'), 'CD', 300000, 4, Decimal('5.09'), Decimal('7.25'), Decimal('7.29'), Decimal('6.90'), Decimal('6.77'), Decimal('6.00'))\n",
      "(datetime.date(2017, 8, 5), 8, 'Hanguk', 'Hong-Chan Son', 427619240, '', 'Y×1', '21.94', '13주 0일', 1120, 5, 3, 7, 7, 20, True, 1, 5, 6, 5, 5, 1, 4, 624, datetime.date(2017, 7, 26), Decimal('3.5'), 'WB', 310000, 0, Decimal('4.02'), Decimal('6.90'), Decimal('7.04'), Decimal('7.16'), Decimal('7.24'), Decimal('5.41'))\n",
      "(datetime.date(2017, 8, 5), 9, 'Hanguk', 'Hoi-Taek Park', 427619241, 'Unpredictable', '', '19.101', '13주 0일', 1010, 2, 2, 5, 6, 20, True, 1, 5, 6, 3, 6, 3, 6, 648, datetime.date(2017, 7, 26), Decimal('3.5'), 'IM', 330000, 3, Decimal('3.04'), Decimal('5.05'), Decimal('5.44'), Decimal('5.30'), Decimal('5.74'), Decimal('4.71'))\n",
      "(datetime.date(2017, 8, 5), 10, 'Hanguk', 'Kwang-Eul Jeon', 427619242, '', '', '23.100', '13주 0일', 1430, 4, 3, 6, 7, 20, True, 1, 6, 7, 3, 3, 2, 5, 748, datetime.date(2017, 7, 26), Decimal('4.0'), 'IM', 430000, 2, Decimal('3.96'), Decimal('6.73'), Decimal('7.36'), Decimal('6.69'), Decimal('7.29'), Decimal('5.12'))\n",
      "(datetime.date(2017, 8, 5), 11, 'Hanguk', 'Kwang-Hwan Yun', 427619243, '', '', '26.67', '13주 0일', 740, 6, 3, 5, 6, 20, True, 2, 5, 6, 3, 5, 2, 6, 661, datetime.date(2017, 7, 30), Decimal('3.5'), 'IM', 330000, 2, Decimal('3.87'), Decimal('5.39'), Decimal('5.81'), Decimal('5.59'), Decimal('6.00'), Decimal('4.60'))\n",
      "(datetime.date(2017, 8, 5), 12, 'Hanguk', 'Chan-Myung Lee', 427619244, '', '', '25.76', '13주 0일', 860, 3, 4, 5, 7, 20, True, 1, 3, 7, 3, 4, 3, 4, 749, datetime.date(2017, 7, 26), Decimal('3.5'), 'FW', 410000, 1, Decimal('3.08'), Decimal('4.95'), Decimal('5.42'), Decimal('5.93'), Decimal('6.67'), Decimal('5.30'))\n",
      "(datetime.date(2017, 8, 5), 13, 'Hanguk', 'Sung-Kook Han', 427619245, 'Technical', '', '21.64', '13주 0일', 1280, 2, 3, 5, 7, 20, True, 1, 5, 6, 6, 5, 2, 5, 629, datetime.date(2017, 7, 26), Decimal('4.5'), 'W', 330000, 7, Decimal('3.39'), Decimal('5.97'), Decimal('5.94'), Decimal('6.21'), Decimal('6.14'), Decimal('4.99'))\n",
      "(datetime.date(2017, 8, 5), 14, 'Hanguk', 'Se-Jong Cho', 427619246, '', '', '28.64', '13주 0일', 800, 4, 5, 6, 6, 20, True, 1, 5, 5, 6, 3, 4, 4, 613, datetime.date(2017, 7, 30), Decimal('3.5'), 'WB', 290000, 8, Decimal('3.89'), Decimal('6.46'), Decimal('6.30'), Decimal('6.32'), Decimal('6.10'), Decimal('5.77'))\n",
      "(datetime.date(2017, 8, 5), 15, 'Hanguk', 'Man-Ok Lee', 427619247, 'Unpredictable', 'Y×1', '23.5', '13주 0일', 2280, 5, 3, 7, 7, 20, True, 1, 5, 5, 7, 6, 2, 4, 762, datetime.date(2017, 7, 30), Decimal('5.0'), 'W', 350000, 7, Decimal('4.03'), Decimal('7.07'), Decimal('6.71'), Decimal('7.19'), Decimal('6.69'), Decimal('5.92'))\n",
      "(datetime.date(2017, 8, 5), 16, 'Hanguk', 'Dong-Shik Kim', 427619248, '', '', '18.111', '13주 0일', 1280, 6, 2, 5, 6, 20, True, 1, 3, 3, 6, 4, 7, 6, 775, datetime.date(2017, 7, 26), Decimal('4.5'), 'FW', 410000, 10, Decimal('2.69'), Decimal('4.23'), Decimal('3.78'), Decimal('4.34'), Decimal('3.97'), Decimal('5.47'))\n",
      "(datetime.date(2017, 8, 5), 17, 'Hanguk', 'Seung-Mee Kim', 427619249, 'Unpredictable', '', '34.50', '13주 0일', 60, 2, 6, 5, 5, 20, True, 1, 2, 4, 4, 4, 7, 5, 680, datetime.date(2017, 7, 30), Decimal('4.0'), 'FW', 300000, 12, Decimal('2.78'), Decimal('3.91'), Decimal('3.85'), Decimal('4.49'), Decimal('4.66'), Decimal('5.65'))\n",
      "(datetime.date(2017, 8, 5), 18, 'Hanguk', 'Kwang-Rae Kim', 427619250, 'Head', 'Y×2', '26.71', '13주 0일', 880, 3, 4, 4, 7, 20, True, 1, 2, 5, 3, 6, 6, 2, 631, datetime.date(2017, 7, 30), Decimal('4.0'), 'FW', 310000, 9, Decimal('2.53'), Decimal('3.65'), Decimal('3.82'), Decimal('4.52'), Decimal('4.99'), Decimal('5.37'))\n",
      "(datetime.date(2017, 8, 5), 20, 'Brasil', 'Jader da Matta', 427827635, '', 'R', '32.28', '7주 6일', 720, 4, 6, 7, 6, 8, False, 2, 6, 6, 5, 6, 2, 5, 590, datetime.date(2017, 7, 30), Decimal('3.5'), 'WB', 384000, 1, Decimal('4.09'), Decimal('6.46'), Decimal('6.63'), Decimal('6.45'), Decimal('6.50'), Decimal('5.04'))\n",
      "(datetime.date(2017, 8, 5), 21, 'Belgium', 'Jitse Haes', 428112207, '', 'Y×1', '31.69', '7주 6일', 890, 4, 5, 6, 6, 8, False, 2, 6, 6, 5, 6, 2, 5, 596, datetime.date(2017, 7, 30), Decimal('3.0'), 'CD', 384000, 2, Decimal('3.73'), Decimal('5.94'), Decimal('6.10'), Decimal('5.93'), Decimal('5.98'), Decimal('4.62'))\n",
      "(datetime.date(2017, 8, 5), 22, 'Nederland', 'Keith Esser', 428060480, 'Quick', '', '31.86', '7주 6일', 890, 5, 6, 5, 6, 8, False, 2, 6, 5, 6, 6, 3, 6, 596, datetime.date(2017, 7, 30), Decimal('3.5'), 'W', 372000, 1, Decimal('3.52'), Decimal('5.54'), Decimal('5.43'), Decimal('5.32'), Decimal('5.05'), Decimal('4.53'))\n",
      "(datetime.date(2017, 8, 5), 23, 'Belgium', 'Mathias Piron', 428125893, 'Technical', '', '32.38', '7주 6일', 500, 6, 5, 4, 6, 8, False, 2, 6, 6, 6, 6, 3, 6, 590, datetime.date(2017, 7, 30), Decimal('3.0'), 'W', 372000, 1, Decimal('3.02'), Decimal('4.95'), Decimal('4.95'), Decimal('4.95'), Decimal('4.87'), Decimal('4.11'))\n",
      "(datetime.date(2017, 8, 5), 24, 'Canada', 'Philippe Morel', 425173438, 'Unpredictable', '', '33.52', '7주 5일', 320, 5, 5, 7, 5, 8, False, 2, 6, 5, 5, 6, 2, 6, 590, datetime.date(2017, 7, 26), Decimal('3.0'), 'W', 360000, 3, Decimal('3.85'), Decimal('5.94'), Decimal('5.98'), Decimal('5.68'), Decimal('5.53'), Decimal('4.51'))\n",
      "(datetime.date(2017, 8, 5), 25, 'Polska', 'Pylyp Nagorniak', 406205227, '', 'Y×2', '26.111', '7주 6일', 1820, 5, 3, 6, 5, 8, False, 1, 6, 7, 3, 6, 3, 6, 725, datetime.date(2017, 7, 30), Decimal('3.5'), 'IM', 444000, 1, Decimal('2.77'), Decimal('5.34'), Decimal('5.93'), Decimal('5.53'), Decimal('6.13'), Decimal('4.57'))\n",
      "(datetime.date(2017, 8, 5), 26, 'Türkiye', 'Türker Arkan', 425734621, '', 'Y×1', '33.16', '7주 6일', 670, 1, 6, 7, 6, 8, False, 2, 6, 7, 5, 6, 2, 5, 680, datetime.date(2017, 7, 30), Decimal('4.5'), 'IM', 456000, 11, Decimal('4.01'), Decimal('6.54'), Decimal('6.84'), Decimal('6.78'), Decimal('7.04'), Decimal('5.21'))\n",
      "(datetime.date(2017, 8, 5), 28, 'Hanguk', 'Kyoo-Poong Jeon', 428976501, '', '', '18.66', '2주 0일', 40, 3, 1, 6, 5, 20, True, 1, 3, 3, 3, 2, 4, 4, 406, datetime.date(2017, 7, 30), Decimal('2.0'), 'CD', 250000, 1, Decimal('2.36'), Decimal('3.45'), Decimal('3.45'), Decimal('3.37'), Decimal('3.40'), Decimal('3.64'))\n"
     ]
    }
   ],
   "source": [
    "selectAll(\"player\")"
   ]
  },
  {
   "cell_type": "code",
   "execution_count": null,
   "metadata": {
    "collapsed": true
   },
   "outputs": [],
   "source": []
  }
 ],
 "metadata": {
  "kernelspec": {
   "display_name": "Python 3",
   "language": "python",
   "name": "python3"
  },
  "language_info": {
   "codemirror_mode": {
    "name": "ipython",
    "version": 3
   },
   "file_extension": ".py",
   "mimetype": "text/x-python",
   "name": "python",
   "nbconvert_exporter": "python",
   "pygments_lexer": "ipython3",
   "version": "3.6.0"
  }
 },
 "nbformat": 4,
 "nbformat_minor": 2
}
