{
 "cells": [
  {
   "cell_type": "code",
   "execution_count": 1,
   "metadata": {
    "collapsed": true
   },
   "outputs": [],
   "source": [
    "# inport BeautifulSoup\n",
    "import re\n",
    "from bs4 import BeautifulSoup"
   ]
  },
  {
   "cell_type": "code",
   "execution_count": 2,
   "metadata": {
    "collapsed": true
   },
   "outputs": [],
   "source": [
    "folder = \"20170513\"\n",
    "file=open(folder + \"/a.html\", \"r\")\n",
    "soup = BeautifulSoup(file.read(), \"html.parser\")\n",
    "file.close()"
   ]
  },
  {
   "cell_type": "code",
   "execution_count": 3,
   "metadata": {
    "collapsed": true
   },
   "outputs": [],
   "source": [
    "#print(soup.find_all(\"div\",\"playerInfo\"))"
   ]
  },
  {
   "cell_type": "code",
   "execution_count": 4,
   "metadata": {
    "collapsed": true
   },
   "outputs": [],
   "source": [
    "column = 'Name,Age,TSI,PayPerWeek,Form,Stamina,Special,Experience,Leadership,Loyalty,Keeper,Defending,Playmaking,Winger,Passing,Scoring,SetPieces'\n",
    "f = open(folder + '/player.txt', 'a', encoding='utf-8')\n",
    "f.write(column +'\\n')\n",
    "f.close()"
   ]
  },
  {
   "cell_type": "code",
   "execution_count": 5,
   "metadata": {
    "scrolled": true
   },
   "outputs": [
    {
     "name": "stdout",
     "output_type": "stream",
     "text": [
      "1. Jee-Seung Oh,21세 31일,2310,990000,6,5,,3,4,20,6,3,1,1,1,1,6\n",
      "2. Myung-Jin Min,27세 82일,2080,930000,7,7,,4,1,20,6,4,1,1,2,1,2\n",
      "3. Eun-Seok Hong,28세 65일,520,300000,6,6,,4,5,20,1,6,6,3,2,2,4\n",
      "4. Ji-Woon Lee,18세 81일,970,390000,5,7,,2,5,20,1,7,4,3,5,2,5\n",
      "5. Jang-Soo Choi,30세 15일,210,280000,5,6,빠름,5,5,20,1,6,4,4,2,1,7\n",
      "6. Jae-Shin Cha,26세 62일,1090,390000,6,6,,4,5,20,1,7,3,6,3,2,6\n",
      "7. In-Moo Byon,31세 50일,700,300000,7,6,,5,1,20,2,6,5,5,5,3,6\n",
      "8. Hong-Chan Son,21세 10일,980,310000,6,6,,2,5,20,1,5,6,5,5,1,4\n",
      "9. Hoi-Taek Park,19세 17일,1020,330000,6,5,예측못함,2,2,20,1,5,6,3,6,3,6\n",
      "10. Kwang-Eul Jeon,23세 16일,1270,430000,5,6,,3,4,20,1,6,7,3,3,2,5\n",
      "11. Kwang-Hwan Yun,25세 95일,790,330000,5,6,,3,6,20,2,5,6,3,5,2,6\n",
      "12. Chan-Myung Lee,24세 104일,980,410000,7,6,,3,3,20,1,3,7,3,4,3,4\n",
      "13. Sung-Kook Han,20세 92일,1250,330000,6,6,공 마술사,2,2,20,1,5,6,6,5,2,5\n",
      "14. Se-Jong Cho,27세 92일,840,290000,6,5,,4,4,20,1,5,5,6,3,4,4\n",
      "15. Man-Ok Lee,22세 33일,2010,350000,7,6,예측못함,3,5,20,1,5,5,7,6,2,4\n",
      "16. Dong-Shik Kim,18세 27일,1280,410000,6,5,,1,6,20,1,3,3,6,4,7,6\n",
      "17. Seung-Mee Kim,33세 78일,210,310000,5,6,예측못함,6,2,20,1,3,4,4,4,7,5\n",
      "18. Kwang-Rae Kim,25세 99일,970,310000,5,6,헤딩,3,3,20,1,2,5,3,6,6,2\n"
     ]
    }
   ],
   "source": [
    "for div in soup.find_all(\"div\",\"playerInfo\"):\n",
    "    # get String\n",
    "    line = div.get_text()\n",
    "    \n",
    "    # parsing String\n",
    "    line = line.replace(':\\n                \\n\\n ', ':')\n",
    "    line = line.replace('\\n\\n\\n', '')\n",
    "    line = line.replace('\\n\\n                        1', '\\n1')\n",
    "    line = line.replace('\\n\\n                        2', '\\n2')\n",
    "    line = line.replace('\\n\\n                        3', '\\n3')\n",
    "    line = line.replace('TSI = ','\\nTSI:')\n",
    "    line = line.replace('\\xa0', '')\n",
    "    line = line.replace(', 임금 = ', '\\n임금:')\n",
    "    line = line.replace('Won', ' Won\\n')\n",
    "    line = line.replace('form, ', 'form\\n')\n",
    "    if line.find('체력 [') > -1 :\n",
    "        line = line.replace('체력 [', '체력\\n특수능력:')\n",
    "        line = line.replace(\"예측할 수 없음\", \"예측못함\")\n",
    "        line = line.replace(']', '\\n')\n",
    "    else :\n",
    "        line = line.replace('체력', '체력\\n특수능력:\\n')\n",
    "    line = line.replace('경험과 ', '경험\\n')\n",
    "    line = line.replace('리더십 능력', '리더십능력\\n')\n",
    "    line = line.replace('\\n\\n', '\\n')\n",
    "    line = line.replace('\\n                    ', '')\n",
    "    line = line.replace('충성도 ', '충성도:')\n",
    "    line = line.replace('골키핑', '\\n골키핑')\n",
    "    line = line.replace('수비력','\\n수비력')\n",
    "    line = line.replace('플레이메이킹', '\\n플레이메이킹')\n",
    "    line = line.replace('윙어', '\\n윙어')\n",
    "    line = line.replace('패스력','\\n패스력')\n",
    "    line = line.replace('득점력', '\\n득점력')\n",
    "    line = line.replace('세트 피스','\\n세트피스')\n",
    "    \n",
    "    line = line.replace('신의 경지','20')\n",
    "    line = line.replace('초월적', '19')\n",
    "    line = line.replace('마술적', '18')\n",
    "    line = line.replace('전설적', '17')\n",
    "    line = line.replace('외계인', '16')\n",
    "    line = line.replace('막강함', '15')\n",
    "    line = line.replace('초자연적', '14')\n",
    "    line = line.replace('세계 최고', '13')\n",
    "    line = line.replace('훌륭함', '12')\n",
    "    line = line.replace('눈부심', '11')\n",
    "    line = line.replace('걸출함', '10')\n",
    "    line = line.replace('강력함', '9')\n",
    "    line = line.replace('뛰어남', '8')\n",
    "    line = line.replace('우수', '7')\n",
    "    line = line.replace('무난함', '6')\n",
    "    line = line.replace('불충분함', '5')\n",
    "    line = line.replace('약함', '4')\n",
    "    line = line.replace('나쁨', '3')\n",
    "    line = line.replace('형편 없음', '2')\n",
    "    line = line.replace('최악', '1')\n",
    "    line = line.replace('없음', '0')\n",
    "    \n",
    "    line = line.replace('(\\n', '(')\n",
    "    line = line.replace('\\n (', ':')\n",
    "    line = line.replace(')', '')\n",
    "    \n",
    "    line = line.replace('Je-Min Jung    ', 'Je-Min Jung\\n')\n",
    "    line = line.replace('\\n', ',')\n",
    "    \n",
    "    # name, age, TSI, pay per week, form, health(체력),\n",
    "    \n",
    "    line = line.replace(' 세', '세')\n",
    "    line = line.replace(' 일', '일')\n",
    "    line = line.replace('TSI:', '')\n",
    "    line = line.replace('임금:주급 ', '')\n",
    "    line = line.replace('0 Won','0')\n",
    "    line = line.replace(' form', '')\n",
    "    line = line.replace(' 체력', '')\n",
    "    line = line.replace('특수능력:', '')\n",
    "    line = line.replace(' 경험', '')\n",
    "    line = line.replace(' 리더십능력', '')\n",
    "    line = line.replace('충성도:', '')\n",
    "    line = line.replace('골키핑:', '')\n",
    "    line = line.replace('수비력:', '')\n",
    "    line = line.replace('플레이메이킹:', '')\n",
    "    line = line.replace('윙어:', '')\n",
    "    line = line.replace('패스력:', '')\n",
    "    line = line.replace('득점력:', '')\n",
    "    line = line.replace('세트피스:', '')\n",
    "    \n",
    "    line = re.sub(r'[0-9]{4}-[0-9]{2}-[0-9]{2}:.*,', \"\", line)\n",
    "    \n",
    "    line.encode('utf-8')\n",
    "    f = open(folder + '/player.txt', 'a', encoding='utf-8')\n",
    "       \n",
    "    for lines in line.split('\\n'):\n",
    "        if (re.match('^[0-9]{1,2}\\. ', lines)) :\n",
    "            lines = re.sub(r',$', \"\", lines)\n",
    "            print(lines)\n",
    "            f.write(lines +'\\n')\n",
    "    f.close()"
   ]
  },
  {
   "cell_type": "code",
   "execution_count": 6,
   "metadata": {
    "collapsed": true
   },
   "outputs": [],
   "source": [
    "import psycopg2"
   ]
  },
  {
   "cell_type": "code",
   "execution_count": 7,
   "metadata": {},
   "outputs": [
    {
     "name": "stdout",
     "output_type": "stream",
     "text": [
      "Uh oh, can't connect. Invalid dbname, user or password?\n",
      "could not connect to server: Connection refused\n",
      "\tIs the server running on host \"localhost\" (127.0.0.1) and accepting\n",
      "\tTCP/IP connections on port 65432?\n",
      "\n"
     ]
    }
   ],
   "source": [
    "try:\n",
    "    # use our connection values to establish a connection\n",
    "    connect_str = \"dbname='mydatabase' user='myuser' host='localhost' port='65432' password='123qwe' \"\n",
    "    conn = psycopg2.connect(connect_str)\n",
    "    \n",
    "except Exception as e:\n",
    "    print(\"Uh oh, can't connect. Invalid dbname, user or password?\")\n",
    "    print(e)"
   ]
  },
  {
   "cell_type": "code",
   "execution_count": 8,
   "metadata": {},
   "outputs": [
    {
     "ename": "NameError",
     "evalue": "name 'conn' is not defined",
     "output_type": "error",
     "traceback": [
      "\u001b[0;31m---------------------------------------------------------------------------\u001b[0m",
      "\u001b[0;31mNameError\u001b[0m                                 Traceback (most recent call last)",
      "\u001b[0;32m<ipython-input-8-6aa3a45c0dca>\u001b[0m in \u001b[0;36m<module>\u001b[0;34m()\u001b[0m\n\u001b[1;32m      1\u001b[0m \u001b[0;31m# create a psycopg2 cursor that can execute queries\u001b[0m\u001b[0;34m\u001b[0m\u001b[0;34m\u001b[0m\u001b[0m\n\u001b[0;32m----> 2\u001b[0;31m \u001b[0mcursor\u001b[0m \u001b[0;34m=\u001b[0m \u001b[0mconn\u001b[0m\u001b[0;34m.\u001b[0m\u001b[0mcursor\u001b[0m\u001b[0;34m(\u001b[0m\u001b[0;34m)\u001b[0m\u001b[0;34m\u001b[0m\u001b[0m\n\u001b[0m",
      "\u001b[0;31mNameError\u001b[0m: name 'conn' is not defined"
     ]
    }
   ],
   "source": [
    "# create a psycopg2 cursor that can execute queries\n",
    "cursor = conn.cursor()"
   ]
  },
  {
   "cell_type": "code",
   "execution_count": null,
   "metadata": {
    "collapsed": true
   },
   "outputs": [],
   "source": [
    "# create a new table with a single column called \"name\"\n",
    "cursor.execute(\"\"\"CREATE TABLE tutorials (name char(40)) ;\"\"\")"
   ]
  },
  {
   "cell_type": "code",
   "execution_count": null,
   "metadata": {
    "collapsed": true
   },
   "outputs": [],
   "source": [
    "# insert a row to table\n",
    "cursor.execute(\"\"\"INSERT INTO tutorials (name) VALUES ('testName') ;\"\"\")"
   ]
  },
  {
   "cell_type": "code",
   "execution_count": null,
   "metadata": {},
   "outputs": [],
   "source": [
    "# run a SELECT statement - no data in there, but we can try it\n",
    "cursor.execute(\"\"\"SELECT * from tutorials ;\"\"\")\n",
    "rows = cursor.fetchall()\n",
    "print(rows)"
   ]
  }
 ],
 "metadata": {
  "kernelspec": {
   "display_name": "Python 3",
   "language": "python",
   "name": "python3"
  },
  "language_info": {
   "codemirror_mode": {
    "name": "ipython",
    "version": 3
   },
   "file_extension": ".py",
   "mimetype": "text/x-python",
   "name": "python",
   "nbconvert_exporter": "python",
   "pygments_lexer": "ipython3",
   "version": "3.6.0"
  }
 },
 "nbformat": 4,
 "nbformat_minor": 2
}
