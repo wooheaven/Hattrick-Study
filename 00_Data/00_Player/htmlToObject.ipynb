{
 "cells": [
  {
   "cell_type": "code",
   "execution_count": 1,
   "metadata": {
    "collapsed": true
   },
   "outputs": [],
   "source": [
    "# inport BeautifulSoup\n",
    "import re\n",
    "from bs4 import BeautifulSoup"
   ]
  },
  {
   "cell_type": "code",
   "execution_count": 2,
   "metadata": {
    "collapsed": true
   },
   "outputs": [],
   "source": [
    "file=open(\"20170513/a.html\", \"r\")\n",
    "soup = BeautifulSoup(file.read(), \"html.parser\")\n",
    "file.close()"
   ]
  },
  {
   "cell_type": "code",
   "execution_count": 3,
   "metadata": {},
   "outputs": [],
   "source": [
    "#print(soup.find_all(\"div\",\"playerInfo\"))"
   ]
  },
  {
   "cell_type": "code",
   "execution_count": 4,
   "metadata": {
    "collapsed": true
   },
   "outputs": [],
   "source": [
    "# name, age, TSI, pay per week, form, health(체력),\n",
    "column = 'name, age, TSI, pay per week, form, health(체력),'\n",
    "f = open('20170513/player.txt', 'a', encoding='utf-8')\n",
    "f.write(column +'\\n')\n",
    "f.close()"
   ]
  },
  {
   "cell_type": "code",
   "execution_count": 5,
   "metadata": {},
   "outputs": [
    {
     "name": "stdout",
     "output_type": "stream",
     "text": [
      "1. Jee-Seung Oh,21세 31일,2310,990000,6,5,특수능력:0,3 경험,4 리더십능력,충성도:20,골키핑:6,수비력:3,플레이메이킹:1,윙어:1,패스력:1,득점력:1,세트피스:6,\n",
      "2. Myung-Jin Min,27세 82일,2080,930000,7,7,특수능력:0,4 경험,1 리더십능력,충성도:20,골키핑:6,수비력:4,플레이메이킹:1,윙어:1,패스력:2,득점력:1,세트피스:2,\n",
      "3. Eun-Seok Hong,28세 65일,520,300000,6,6,특수능력:0,4 경험,5 리더십능력,충성도:20,골키핑:1,수비력:6,플레이메이킹:6,윙어:3,패스력:2,득점력:2,세트피스:4,\n",
      "4. Ji-Woon Lee,18세 81일,970,390000,5,7,특수능력:0,2 경험,5 리더십능력,충성도:20,골키핑:1,수비력:7,플레이메이킹:4,윙어:3,패스력:5,득점력:2,세트피스:5,\n",
      "5. Jang-Soo Choi,30세 15일,210,280000,5,6,특수능력:빠름,5 경험,5 리더십능력,충성도:20,골키핑:1,수비력:6,플레이메이킹:4,윙어:4,패스력:2,득점력:1,세트피스:7,\n",
      "6. Jae-Shin Cha,26세 62일,1090,390000,6,6,특수능력:0,4 경험,5 리더십능력,충성도:20,골키핑:1,수비력:7,플레이메이킹:3,윙어:6,패스력:3,득점력:2,세트피스:6,\n",
      "7. In-Moo Byon,31세 50일,700,300000,7,6,특수능력:0,5 경험,1 리더십능력,충성도:20,골키핑:2,수비력:6,플레이메이킹:5,윙어:5,패스력:5,득점력:3,세트피스:6,\n",
      "8. Hong-Chan Son,21세 10일,980,310000,6,6,특수능력:0,2 경험,5 리더십능력,충성도:20,골키핑:1,수비력:5,플레이메이킹:6,윙어:5,패스력:5,득점력:1,세트피스:4,\n",
      "9. Hoi-Taek Park,19세 17일,1020,330000,6,5,특수능력:예측할 수 0,2 경험,2 리더십능력,충성도:20,골키핑:1,수비력:5,플레이메이킹:6,윙어:3,패스력:6,득점력:3,세트피스:6,\n",
      "10. Kwang-Eul Jeon,23세 16일,1270,430000,5,6,특수능력:0,3 경험,4 리더십능력,충성도:20,골키핑:1,수비력:6,플레이메이킹:7,윙어:3,패스력:3,득점력:2,세트피스:5,\n",
      "11. Kwang-Hwan Yun,25세 95일,790,330000,5,6,특수능력:0,3 경험,6 리더십능력,충성도:20,골키핑:2,수비력:5,플레이메이킹:6,윙어:3,패스력:5,득점력:2,세트피스:6,\n",
      "12. Chan-Myung Lee,24세 104일,980,410000,7,6,특수능력:0,3 경험,3 리더십능력,충성도:20,골키핑:1,수비력:3,플레이메이킹:7,윙어:3,패스력:4,득점력:3,세트피스:4,\n",
      "13. Sung-Kook Han,20세 92일,1250,330000,6,6,특수능력:공 마술사,2 경험,2 리더십능력,충성도:20,골키핑:1,수비력:5,플레이메이킹:6,윙어:6,패스력:5,득점력:2,세트피스:5,\n",
      "14. Se-Jong Cho,27세 92일,840,290000,6,5,특수능력:0,4 경험,4 리더십능력,충성도:20,골키핑:1,수비력:5,플레이메이킹:5,윙어:6,패스력:3,득점력:4,세트피스:4,\n",
      "15. Man-Ok Lee,22세 33일,2010,350000,7,6,특수능력:예측할 수 0,3 경험,5 리더십능력,충성도:20,골키핑:1,수비력:5,플레이메이킹:5,윙어:7,패스력:6,득점력:2,세트피스:4,\n",
      "16. Dong-Shik Kim,18세 27일,1280,410000,6,5,특수능력:0,1 경험,6 리더십능력,충성도:20,골키핑:1,수비력:3,플레이메이킹:3,윙어:6,패스력:4,득점력:7,세트피스:6,\n",
      "17. Seung-Mee Kim,33세 78일,210,310000,5,6,특수능력:예측할 수 0,6 경험,2 리더십능력,충성도:20,골키핑:1,수비력:3,플레이메이킹:4,윙어:4,패스력:4,득점력:7,세트피스:5,\n",
      "18. Kwang-Rae Kim,25세 99일,970,310000,5,6,특수능력:헤딩,3 경험,3 리더십능력,충성도:20,골키핑:1,수비력:2,플레이메이킹:5,윙어:3,패스력:6,득점력:6,세트피스:2,\n",
      "Je-Min Jung,40세 43일,0,250000,4,4,특수능력:0,8 경험,4 리더십능력,충성도:20,골키핑:1,수비력:1,플레이메이킹:1,윙어:1,패스력:1,득점력:0,세트피스:3,\n"
     ]
    }
   ],
   "source": [
    "for div in soup.find_all(\"div\",\"playerInfo\"):\n",
    "    # get String\n",
    "    line = div.get_text()\n",
    "    \n",
    "    # parsing String\n",
    "    line = line.replace(':\\n                \\n\\n ', ':')\n",
    "    line = line.replace('\\n\\n\\n', '')\n",
    "    line = line.replace('\\n\\n                        1', '\\n1')\n",
    "    line = line.replace('\\n\\n                        2', '\\n2')\n",
    "    line = line.replace('\\n\\n                        3', '\\n3')\n",
    "    line = line.replace('TSI = ','\\nTSI:')\n",
    "    line = line.replace('\\xa0', '')\n",
    "    line = line.replace(', 임금 = ', '\\n임금:')\n",
    "    line = line.replace('Won', ' Won\\n')\n",
    "    line = line.replace('form, ', 'form\\n')\n",
    "    if line.find('체력 [') > -1 :\n",
    "        line = line.replace('체력 [', '체력\\n특수능력:')\n",
    "        line = line.replace(']', '\\n')\n",
    "    else :\n",
    "        line = line.replace('체력', '체력\\n특수능력:없음\\n')\n",
    "    line = line.replace('경험과 ', '경험\\n')\n",
    "    line = line.replace('리더십 능력', '리더십능력\\n')\n",
    "    line = line.replace('\\n\\n', '\\n')\n",
    "    line = line.replace('\\n                    ', '')\n",
    "    line = line.replace('충성도 ', '충성도:')\n",
    "    line = line.replace('골키핑', '\\n골키핑')\n",
    "    line = line.replace('수비력','\\n수비력')\n",
    "    line = line.replace('플레이메이킹', '\\n플레이메이킹')\n",
    "    line = line.replace('윙어', '\\n윙어')\n",
    "    line = line.replace('패스력','\\n패스력')\n",
    "    line = line.replace('득점력', '\\n득점력')\n",
    "    line = line.replace('세트 피스','\\n세트피스')\n",
    "    \n",
    "    line = line.replace('신의 경지','20')\n",
    "    line = line.replace('초월적', '19')\n",
    "    line = line.replace('마술적', '18')\n",
    "    line = line.replace('전설적', '17')\n",
    "    line = line.replace('외계인', '16')\n",
    "    line = line.replace('막강함', '15')\n",
    "    line = line.replace('초자연적', '14')\n",
    "    line = line.replace('세계 최고', '13')\n",
    "    line = line.replace('훌륭함', '12')\n",
    "    line = line.replace('눈부심', '11')\n",
    "    line = line.replace('걸출함', '10')\n",
    "    line = line.replace('강력함', '9')\n",
    "    line = line.replace('뛰어남', '8')\n",
    "    line = line.replace('우수', '7')\n",
    "    line = line.replace('무난함', '6')\n",
    "    line = line.replace('불충분함', '5')\n",
    "    line = line.replace('약함', '4')\n",
    "    line = line.replace('나쁨', '3')\n",
    "    line = line.replace('형편 없음', '2')\n",
    "    line = line.replace('최악', '1')\n",
    "    line = line.replace('없음', '0')\n",
    "    \n",
    "    line = line.replace('(\\n', '(')\n",
    "    line = line.replace('\\n (', ':')\n",
    "    line = line.replace(')', '')\n",
    "    \n",
    "    line = line.replace('Je-Min Jung    ', 'Je-Min Jung\\n')\n",
    "    line = line.replace('\\n', ',')\n",
    "    \n",
    "    # name, age, TSI, pay per week, form, health(체력),\n",
    "    \n",
    "    line = line.replace(' 세', '세')\n",
    "    line = line.replace(' 일', '일')\n",
    "    line = line.replace('TSI:', '')\n",
    "    line = line.replace('임금:주급 ', '')\n",
    "    line = line.replace('0 Won','0')\n",
    "    line = line.replace(' form', '')\n",
    "    line = line.replace(' 체력', '')\n",
    "    \n",
    "    line.encode('utf-8')\n",
    "    f = open('20170513/player.txt', 'a', encoding='utf-8')\n",
    "    f.write(line +'\\n')\n",
    "    f.close()\n",
    "    \n",
    "    for lines in line.split('\\n'):\n",
    "        if (re.match('[0-9] ', lines)) :\n",
    "            revertString=lines.split(' ')\n",
    "            print (revertString[1] + ':' + revertString[0])\n",
    "        else : \n",
    "            print(lines)"
   ]
  },
  {
   "cell_type": "code",
   "execution_count": 6,
   "metadata": {
    "collapsed": true
   },
   "outputs": [],
   "source": [
    "#lines = soup.find('div','playerInfo').get_text()"
   ]
  },
  {
   "cell_type": "code",
   "execution_count": 7,
   "metadata": {},
   "outputs": [],
   "source": [
    "#lines"
   ]
  },
  {
   "cell_type": "code",
   "execution_count": 8,
   "metadata": {
    "collapsed": true
   },
   "outputs": [],
   "source": [
    "# lines = lines.replace(':\\n                \\n\\n ', ':')\n",
    "# lines = lines.replace('\\n\\n\\n', '')\n",
    "# lines = lines.replace('\\n\\n                        1', '\\n1')\n",
    "# lines = lines.replace('\\n\\n                        2', '\\n2')\n",
    "# lines = lines.replace('\\n\\n                        3', '\\n3')\n",
    "# lines = lines.replace('TSI','\\nTSI')\n",
    "# lines = lines.replace('\\xa0', '')\n",
    "# lines = lines.replace(', 임', '\\n임')\n",
    "# lines = lines.replace('Won', ' Won\\n')\n",
    "# lines = lines.replace('form, ', 'form\\n')\n",
    "# lines = lines.replace('체력', '체력\\n')\n",
    "# lines = lines.replace('경험과 ', '경험\\n')\n",
    "# lines = lines.replace('리더십 능력', '리더십 능력\\n')\n",
    "# lines = lines.replace('\\n\\n', '\\n')\n",
    "# lines = lines.replace('\\n                    ', '')"
   ]
  },
  {
   "cell_type": "code",
   "execution_count": 9,
   "metadata": {},
   "outputs": [],
   "source": [
    "# lines.find('체력 [')"
   ]
  },
  {
   "cell_type": "code",
   "execution_count": 10,
   "metadata": {},
   "outputs": [],
   "source": [
    "# print(lines)"
   ]
  }
 ],
 "metadata": {
  "kernelspec": {
   "display_name": "Python 3",
   "language": "python",
   "name": "python3"
  },
  "language_info": {
   "codemirror_mode": {
    "name": "ipython",
    "version": 3
   },
   "file_extension": ".py",
   "mimetype": "text/x-python",
   "name": "python",
   "nbconvert_exporter": "python",
   "pygments_lexer": "ipython3",
   "version": "3.6.0"
  }
 },
 "nbformat": 4,
 "nbformat_minor": 2
}
