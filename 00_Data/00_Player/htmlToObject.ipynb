{
 "cells": [
  {
   "cell_type": "code",
   "execution_count": 1,
   "metadata": {
    "collapsed": true
   },
   "outputs": [],
   "source": [
    "import re\n",
    "from bs4 import BeautifulSoup, Comment"
   ]
  },
  {
   "cell_type": "code",
   "execution_count": 2,
   "metadata": {},
   "outputs": [
    {
     "data": {
      "text/plain": [
       "'2017/07/19'"
      ]
     },
     "execution_count": 2,
     "metadata": {},
     "output_type": "execute_result"
    }
   ],
   "source": [
    "folder = \"2017/07/19\"\n",
    "folder"
   ]
  },
  {
   "cell_type": "code",
   "execution_count": 3,
   "metadata": {
    "collapsed": true
   },
   "outputs": [],
   "source": [
    "# chrome_match.html\n",
    "# firefox_player_skill_table.txt\n",
    "file = open(folder + \"/match.html\", \"r\")\n",
    "soup = BeautifulSoup(file.read(), \"html.parser\")\n",
    "file.close()"
   ]
  },
  {
   "cell_type": "code",
   "execution_count": 4,
   "metadata": {},
   "outputs": [
    {
     "name": "stdout",
     "output_type": "stream",
     "text": [
      "PO,Number,Star,FromMin,ToMin\n",
      "CO,427619232,0.0,0,0\n",
      "KP,427619233,4.5,0,90\n",
      "WB,427619238,4.0,0,90\n",
      "CD,427619235,3.5,0,90\n",
      "CD,427619239,3.0,0,90\n",
      "WB,427619240,3.5,0,90\n",
      "W,427619245,4.5,0,90\n",
      "IM,427619242,4.5,0,90\n",
      "IM,427619243,3.5,0,50\n",
      "IM,425734621,-1.0,50,90\n",
      "W,428125893,2.5,0,90\n",
      "FW,427619244,3.5,0,60\n",
      "FW,427619250,-1.0,60,90\n",
      "FW,427619248,4.5,0,90\n",
      "114,428709461,0.0,0,0\n",
      "115,428112207,0.0,0,0\n",
      "117,427619247,0.0,0,0\n"
     ]
    }
   ],
   "source": [
    "for div in soup.find_all(\"div\", id=\"ctl00_ctl00_CPContent_CPMain_ucPostMatch_rptTimeline_ctl14_timelineEventPanel\"):\n",
    "    #for inputTag in div.find_all(\"input\", id=\"ctl00_ctl00_CPContent_CPMain_ucPostMatch_rptTimeline_ctl14_playerRatingsAway\"):\n",
    "    for inputTag in div.find_all(\"input\", id=\"ctl00_ctl00_CPContent_CPMain_ucPostMatch_rptTimeline_ctl14_playerRatingsHome\"):\n",
    "        #print(inputTag.prettify())\n",
    "        valueString = inputTag.get('value')\n",
    "        valueString = valueString[1:-1]\n",
    "        valueString = re.sub('},', '}\\n', valueString)\n",
    "        print(\"PO,Number,Star,FromMin,ToMin\")\n",
    "        oldPO = \"\"\n",
    "        oldToMin = \"\"\n",
    "        for line in valueString.split(\"\\n\"):\n",
    "            line = line[1:-1]\n",
    "            col = line.split(\",\")\n",
    "            col[1] = re.sub('\"PositionID\":', '', col[1])\n",
    "            col[0] = re.sub('\"PlayerId\":', '', col[0])\n",
    "            col[3] = re.sub('\"Stars\":', '', col[3])\n",
    "            col[9] = re.sub('\"FromMin\":', '', col[9])\n",
    "            col[10] = re.sub('\"ToMin\":', '', col[10])\n",
    "            if ( col[1] == \"-1\" and oldToMin == col[9] ) :\n",
    "                col[1] = oldPO\n",
    "            else :\n",
    "                oldPO = col[1]\n",
    "                oldToMin = col[10]\n",
    "            \n",
    "            # PO rename\n",
    "            if col[1] == \"0\" : col[1] = \"CO\"\n",
    "            if col[1] == \"100\" : col[1] = \"KP\"\n",
    "            if ( col[1] == \"101\" or col[1] == \"105\" ) : col[1] = \"WB\"\n",
    "            if ( col[1] == \"102\" or col[1] == \"104\" ) : col[1] = \"CD\"\n",
    "            if ( col[1] == \"106\" or col[1] == \"110\" ) : col[1] = \"W\"\n",
    "            if ( col[1] == \"107\" or col[1] == \"109\" ) : col[1] = \"IM\"\n",
    "            if ( col[1] == \"111\" or col[1] == \"113\" ) : col[1] = \"FW\"\n",
    "            \n",
    "            # FromMin ToMin replace\n",
    "            if col[9] == \"-1\" : col[9] = \"0\"\n",
    "            if col[10] == \"-1\" : col[10] = \"0\"\n",
    "            if col[10] == \"92\" : col[10] = \"90\"\n",
    "                \n",
    "            print(col[1] + \",\" + col[0] + \",\" + col[3] + \",\" + col[9] + \",\" + col[10])\n",
    "                \n",
    "        #valueString = valueString[1:-1]\n",
    "        #print(valueString)"
   ]
  },
  {
   "cell_type": "code",
   "execution_count": null,
   "metadata": {
    "collapsed": true
   },
   "outputs": [],
   "source": [
    "import psycopg2"
   ]
  },
  {
   "cell_type": "code",
   "execution_count": null,
   "metadata": {
    "collapsed": true
   },
   "outputs": [],
   "source": [
    "def dropPlayer():\n",
    "    conn = None\n",
    "    try:\n",
    "        conn = psycopg2.connect(\"dbname='mydatabase' user='myuser' host='localhost' port='65432' password='123qwe'\")\n",
    "        cur = conn.cursor()\n",
    "        sql = \"\"\"DROP TABLE IF EXISTS player ; \"\"\"\n",
    "        cur.execute(sql)\n",
    "        conn.commit()\n",
    "    except(Exception, psycopg2.DatabaseError) as error:\n",
    "        print(error)\n",
    "    finally:\n",
    "        if conn is not None:\n",
    "            conn.close()"
   ]
  },
  {
   "cell_type": "code",
   "execution_count": null,
   "metadata": {
    "collapsed": true
   },
   "outputs": [],
   "source": [
    "# dropPlayer()"
   ]
  },
  {
   "cell_type": "code",
   "execution_count": null,
   "metadata": {
    "collapsed": true
   },
   "outputs": [],
   "source": [
    "def createPlayer():\n",
    "    conn = None\n",
    "    try:\n",
    "        conn = psycopg2.connect(\"dbname='mydatabase' user='myuser' host='localhost' port='65432' password='123qwe'\")\n",
    "        cur = conn.cursor()\n",
    "        sql = \"\"\"\n",
    "CREATE TABLE player (\n",
    "    Date DATE, \n",
    "    Name VARCHAR(30), \n",
    "    Age VARCHAR(10), \n",
    "    TSI BIGINT, \n",
    "    PayPerWeek BIGINT, \n",
    "    Form INT, \n",
    "    Stamina INT, \n",
    "    Special VARCHAR(8),\n",
    "    Experience INT,\n",
    "    Leadership INT,\n",
    "    Loyalty INT,\n",
    "    Keeper INT,\n",
    "    Defending INT,\n",
    "    Playmaking INT,\n",
    "    Winger INT,\n",
    "    Passing INT,\n",
    "    Scoring INT,\n",
    "    SetPieces INT\n",
    ") ; \"\"\"\n",
    "        cur.execute(sql)\n",
    "        conn.commit()\n",
    "    except(Exception, psycopg2.DatabaseError) as error:\n",
    "        print(error)\n",
    "    finally:\n",
    "        if conn is not None:\n",
    "            conn.close()"
   ]
  },
  {
   "cell_type": "code",
   "execution_count": null,
   "metadata": {
    "collapsed": true
   },
   "outputs": [],
   "source": [
    "#createPlayer()"
   ]
  },
  {
   "cell_type": "code",
   "execution_count": null,
   "metadata": {
    "collapsed": true
   },
   "outputs": [],
   "source": [
    "def insertPlayer(folder, row):\n",
    "    conn = None\n",
    "    try:\n",
    "        conn = psycopg2.connect(\"dbname='mydatabase' user='myuser' host='localhost' port='65432' password='123qwe'\")\n",
    "        cur = conn.cursor()\n",
    "        sql = \"\"\"INSERT INTO player (SELECT to_date(%s, 'YYYYMMDD'), %s, %s, %s, %s, %s, %s, %s, %s, %s, %s, %s, %s, %s, %s, %s, %s, %s) ;\"\"\"\n",
    "        cur.execute(sql, (folder,row[0],row[1],row[2],row[3],row[4],row[5],row[6],row[7],row[8],row[9],row[10],row[11],row[12],row[13],row[14],row[15],row[16]))\n",
    "        conn.commit()\n",
    "    except (Exception, psycopg2.DatabaseError) as error:\n",
    "        print(error)\n",
    "    finally:\n",
    "        if conn is not None:\n",
    "            conn.close()"
   ]
  },
  {
   "cell_type": "code",
   "execution_count": null,
   "metadata": {
    "collapsed": true
   },
   "outputs": [],
   "source": [
    "def selectPlayer(tableName):\n",
    "    conn = None\n",
    "    try:\n",
    "        conn = psycopg2.connect(\"dbname='mydatabase' user='myuser' host='localhost' port='65432' password='123qwe'\")\n",
    "        cur = conn.cursor()\n",
    "        cur.execute(\"SELECT * FROM \" + tableName)\n",
    "        row = cur.fetchone()\n",
    "        while row is not None:\n",
    "            print(row)\n",
    "            row = cur.fetchone()\n",
    "    except (Exception, psycopg2.DatabaseError) as error:\n",
    "            print(error)\n",
    "    finally:\n",
    "        if conn is not None:\n",
    "            conn.close()"
   ]
  },
  {
   "cell_type": "code",
   "execution_count": null,
   "metadata": {
    "collapsed": true
   },
   "outputs": [],
   "source": [
    "#selectPlayer(\"player\")"
   ]
  },
  {
   "cell_type": "code",
   "execution_count": null,
   "metadata": {
    "collapsed": true
   },
   "outputs": [],
   "source": [
    "import csv"
   ]
  },
  {
   "cell_type": "code",
   "execution_count": null,
   "metadata": {
    "collapsed": true
   },
   "outputs": [],
   "source": [
    "with open(folder + '/player.txt', 'r', encoding='utf-8') as f:\n",
    "    reader = csv.reader(f, delimiter=',')\n",
    "    for row in reader:\n",
    "        if(re.match('^[0-9]{1,2}\\. ', row[0])) :\n",
    "            print(folder, row)\n",
    "            insertPlayer(folder, row)"
   ]
  }
 ],
 "metadata": {
  "kernelspec": {
   "display_name": "Python 3",
   "language": "python",
   "name": "python3"
  },
  "language_info": {
   "codemirror_mode": {
    "name": "ipython",
    "version": 3
   },
   "file_extension": ".py",
   "mimetype": "text/x-python",
   "name": "python",
   "nbconvert_exporter": "python",
   "pygments_lexer": "ipython3",
   "version": "3.6.0"
  }
 },
 "nbformat": 4,
 "nbformat_minor": 2
}
