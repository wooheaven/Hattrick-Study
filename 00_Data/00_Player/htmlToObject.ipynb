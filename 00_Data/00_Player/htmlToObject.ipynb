{
 "cells": [
  {
   "cell_type": "code",
   "execution_count": null,
   "metadata": {
    "collapsed": true
   },
   "outputs": [],
   "source": [
    "# inport BeautifulSoup\n",
    "import re\n",
    "from bs4 import BeautifulSoup, Comment"
   ]
  },
  {
   "cell_type": "code",
   "execution_count": null,
   "metadata": {
    "collapsed": true
   },
   "outputs": [],
   "source": [
    "folder = \"20170624\"\n",
    "folder"
   ]
  },
  {
   "cell_type": "code",
   "execution_count": null,
   "metadata": {
    "collapsed": true
   },
   "outputs": [],
   "source": [
    "file = open(folder + \"/b.html\", \"r\")\n",
    "soup = BeautifulSoup(file.read(), \"html.parser\")\n",
    "file.close()"
   ]
  },
  {
   "cell_type": "code",
   "execution_count": null,
   "metadata": {
    "collapsed": true
   },
   "outputs": [],
   "source": [
    "for linkIndex in range(5): # link\n",
    "    soup.link.unwrap()\n",
    "for metaIndex in range(12): # meta\n",
    "    soup.meta.unwrap()\n",
    "for scriptIndex in range(26): # script\n",
    "    soup.script.decompose()\n",
    "for inputIndex in range(7): # input\n",
    "    soup.input.decompose()\n",
    "for divIndex in range(24): # div\n",
    "    soup.div.unwrap()\n",
    "for imgIndex in range(5): # img\n",
    "    soup.img.unwrap()\n",
    "for h1Index in range(1): # h1\n",
    "    soup.h1.decompose()\n",
    "for h2Index in range(2): # h2\n",
    "    soup.h2.decompose()\n",
    "for h3Index in range(1): # h3\n",
    "    soup.h3.decompose()\n",
    "for pIndex in range(3): # p\n",
    "    soup.p.decompose()\n",
    "for spanIndex in range(1): # span\n",
    "    soup.span.decompose()\n",
    "for buttonIndex in range(1): # buttion\n",
    "    soup.button.decompose()\n",
    "for iframeIndex in range(1): # iframe\n",
    "    soup.iframe.decompose()\n",
    "for brIndex in range(2): # br\n",
    "    soup.br.decompose()\n",
    "for aIndex in range(3): # a\n",
    "    soup.a.decompose()"
   ]
  },
  {
   "cell_type": "code",
   "execution_count": null,
   "metadata": {
    "collapsed": true
   },
   "outputs": [],
   "source": [
    "print(soup.prettify())"
   ]
  },
  {
   "cell_type": "code",
   "execution_count": null,
   "metadata": {
    "collapsed": true
   },
   "outputs": [],
   "source": [
    "print(soup.prettify())"
   ]
  },
  {
   "cell_type": "code",
   "execution_count": null,
   "metadata": {
    "collapsed": true
   },
   "outputs": [],
   "source": [
    "for i in rank.find_all(\"div\", value=True, id=False): # li 태그 + value 속성 존재 + id 속성 비 존재\n",
    "    print(i.get_text(\" \", strip=True)) # 문자열을 가져오는데 태그를 빈 공백으로 나누고 앞 뒤 공백 제거"
   ]
  },
  {
   "cell_type": "code",
   "execution_count": null,
   "metadata": {
    "collapsed": true
   },
   "outputs": [],
   "source": []
  },
  {
   "cell_type": "code",
   "execution_count": null,
   "metadata": {
    "collapsed": true
   },
   "outputs": [],
   "source": [
    "file=open(folder + \"/a.html\", \"r\")\n",
    "soup = BeautifulSoup(file.read(), \"html.parser\")\n",
    "file.close()"
   ]
  },
  {
   "cell_type": "code",
   "execution_count": null,
   "metadata": {
    "collapsed": true
   },
   "outputs": [],
   "source": [
    "column = 'Name,Age,TSI,PayPerWeek,Form,Stamina,Special,Experience,Leadership,Loyalty,Keeper,Defending,Playmaking,Winger,Passing,Scoring,SetPieces,Time,Star,Position'\n",
    "f = open(folder + '/player.txt', 'w', encoding='utf-8')\n",
    "f.write(column +'\\n')\n",
    "f.close()"
   ]
  },
  {
   "cell_type": "code",
   "execution_count": null,
   "metadata": {
    "collapsed": true,
    "scrolled": true
   },
   "outputs": [],
   "source": [
    "for div in soup.find_all(\"div\",\"playerInfo\"):\n",
    "    # get String\n",
    "    line = div.get_text()\n",
    "    \n",
    "    # parsing String\n",
    "    line = line.replace(':\\n                \\n\\n ', ':')\n",
    "    line = line.replace('\\n\\n\\n', '')\n",
    "    line = line.replace('\\n\\n                        1', '\\n1')\n",
    "    line = line.replace('\\n\\n                        2', '\\n2')\n",
    "    line = line.replace('\\n\\n                        3', '\\n3')\n",
    "    line = line.replace('TSI = ','\\nTSI:')\n",
    "    line = line.replace('\\xa0', '')\n",
    "    line = line.replace(', 임금 = ', '\\n임금:')\n",
    "    line = line.replace('Won', ' Won\\n')\n",
    "    line = line.replace('form, ', 'form\\n')\n",
    "    if line.find('체력 [') > -1 :\n",
    "        line = line.replace('체력 [', '체력\\n특수능력:')\n",
    "        line = line.replace(\"예측할 수 없음\", \"예측못함\")\n",
    "        line = line.replace(']', '\\n')\n",
    "    else :\n",
    "        line = line.replace('체력', '체력\\n특수능력:\\n')\n",
    "    line = line.replace('경험과 ', '경험\\n')\n",
    "    line = line.replace('리더십 능력', '리더십능력\\n')\n",
    "    line = line.replace('\\n\\n', '\\n')\n",
    "    line = line.replace('\\n                    ', '')\n",
    "    line = line.replace('충성도 ', '충성도:')\n",
    "    line = line.replace('골키핑', '\\n골키핑')\n",
    "    line = line.replace('수비력','\\n수비력')\n",
    "    line = line.replace('플레이메이킹', '\\n플레이메이킹')\n",
    "    line = line.replace('윙어', '\\n윙어')\n",
    "    line = line.replace('패스력','\\n패스력')\n",
    "    line = line.replace('득점력', '\\n득점력')\n",
    "    line = line.replace('세트 피스','\\n세트피스')\n",
    "    \n",
    "    line = line.replace('신의 경지','20')\n",
    "    line = line.replace('초월적', '19')\n",
    "    line = line.replace('마술적', '18')\n",
    "    line = line.replace('전설적', '17')\n",
    "    line = line.replace('외계인', '16')\n",
    "    line = line.replace('막강함', '15')\n",
    "    line = line.replace('초자연적', '14')\n",
    "    line = line.replace('세계 최고', '13')\n",
    "    line = line.replace('훌륭함', '12')\n",
    "    line = line.replace('눈부심', '11')\n",
    "    line = line.replace('걸출함', '10')\n",
    "    line = line.replace('강력함', '9')\n",
    "    line = line.replace('뛰어남', '8')\n",
    "    line = line.replace('우수', '7')\n",
    "    line = line.replace('무난함', '6')\n",
    "    line = line.replace('불충분함', '5')\n",
    "    line = line.replace('약함', '4')\n",
    "    line = line.replace('나쁨', '3')\n",
    "    line = line.replace('형편 없음', '2')\n",
    "    line = line.replace('최악', '1')\n",
    "    line = line.replace('없음', '0')\n",
    "    \n",
    "    line = line.replace('(\\n', '(')\n",
    "    line = line.replace('\\n (', ':')\n",
    "    line = line.replace(')', '')\n",
    "    \n",
    "    line = line.replace('Je-Min Jung    ', 'Je-Min Jung\\n')\n",
    "    line = line.replace('\\n', ',')\n",
    "    \n",
    "    # name, age, TSI, pay per week, form, health(체력),\n",
    "    \n",
    "    line = line.replace(' 세', '세')\n",
    "    line = line.replace(' 일', '일')\n",
    "    line = line.replace('TSI:', '')\n",
    "    line = line.replace('임금:주급 ', '')\n",
    "    line = line.replace('0 Won','0')\n",
    "    line = line.replace(' form', '')\n",
    "    line = line.replace(' 체력', '')\n",
    "    line = line.replace('특수능력:', '')\n",
    "    line = line.replace(' 경험', '')\n",
    "    line = line.replace(' 리더십능력', '')\n",
    "    line = line.replace('충성도:', '')\n",
    "    line = line.replace('골키핑:', '')\n",
    "    line = line.replace('수비력:', '')\n",
    "    line = line.replace('플레이메이킹:', '')\n",
    "    line = line.replace('윙어:', '')\n",
    "    line = line.replace('패스력:', '')\n",
    "    line = line.replace('득점력:', '')\n",
    "    line = line.replace('세트피스:', '')\n",
    "    \n",
    "    line = re.sub(r'[0-9]{4}-[0-9]{2}-[0-9]{2}:.*,', \"\", line)\n",
    "    \n",
    "    line.encode('utf-8')\n",
    "    f = open(folder + '/player.txt', 'a', encoding='utf-8')\n",
    "       \n",
    "    for lines in line.split('\\n'):\n",
    "        if (re.match('^[0-9]{1,2}\\. ', lines)) :\n",
    "            lines = re.sub(r',$', \"\", lines)\n",
    "            lines = re.sub(r'29.  Won,', '29. Won', lines)\n",
    "            print(lines)\n",
    "            f.write(lines +'\\n')\n",
    "    f.close()"
   ]
  },
  {
   "cell_type": "code",
   "execution_count": null,
   "metadata": {
    "collapsed": true
   },
   "outputs": [],
   "source": [
    "# cat player.txt"
   ]
  },
  {
   "cell_type": "code",
   "execution_count": null,
   "metadata": {
    "collapsed": true
   },
   "outputs": [],
   "source": [
    "import psycopg2"
   ]
  },
  {
   "cell_type": "code",
   "execution_count": null,
   "metadata": {
    "collapsed": true
   },
   "outputs": [],
   "source": [
    "def dropPlayer():\n",
    "    conn = None\n",
    "    try:\n",
    "        conn = psycopg2.connect(\"dbname='mydatabase' user='myuser' host='localhost' port='65432' password='123qwe'\")\n",
    "        cur = conn.cursor()\n",
    "        sql = \"\"\"DROP TABLE IF EXISTS player ; \"\"\"\n",
    "        cur.execute(sql)\n",
    "        conn.commit()\n",
    "    except(Exception, psycopg2.DatabaseError) as error:\n",
    "        print(error)\n",
    "    finally:\n",
    "        if conn is not None:\n",
    "            conn.close()"
   ]
  },
  {
   "cell_type": "code",
   "execution_count": null,
   "metadata": {
    "collapsed": true
   },
   "outputs": [],
   "source": [
    "# dropPlayer()"
   ]
  },
  {
   "cell_type": "code",
   "execution_count": null,
   "metadata": {
    "collapsed": true
   },
   "outputs": [],
   "source": [
    "def createPlayer():\n",
    "    conn = None\n",
    "    try:\n",
    "        conn = psycopg2.connect(\"dbname='mydatabase' user='myuser' host='localhost' port='65432' password='123qwe'\")\n",
    "        cur = conn.cursor()\n",
    "        sql = \"\"\"\n",
    "CREATE TABLE player (\n",
    "    Date DATE, \n",
    "    Name VARCHAR(30), \n",
    "    Age VARCHAR(10), \n",
    "    TSI BIGINT, \n",
    "    PayPerWeek BIGINT, \n",
    "    Form INT, \n",
    "    Stamina INT, \n",
    "    Special VARCHAR(8),\n",
    "    Experience INT,\n",
    "    Leadership INT,\n",
    "    Loyalty INT,\n",
    "    Keeper INT,\n",
    "    Defending INT,\n",
    "    Playmaking INT,\n",
    "    Winger INT,\n",
    "    Passing INT,\n",
    "    Scoring INT,\n",
    "    SetPieces INT\n",
    ") ; \"\"\"\n",
    "        cur.execute(sql)\n",
    "        conn.commit()\n",
    "    except(Exception, psycopg2.DatabaseError) as error:\n",
    "        print(error)\n",
    "    finally:\n",
    "        if conn is not None:\n",
    "            conn.close()"
   ]
  },
  {
   "cell_type": "code",
   "execution_count": null,
   "metadata": {
    "collapsed": true
   },
   "outputs": [],
   "source": [
    "#createPlayer()"
   ]
  },
  {
   "cell_type": "code",
   "execution_count": null,
   "metadata": {
    "collapsed": true
   },
   "outputs": [],
   "source": [
    "def insertPlayer(folder, row):\n",
    "    conn = None\n",
    "    try:\n",
    "        conn = psycopg2.connect(\"dbname='mydatabase' user='myuser' host='localhost' port='65432' password='123qwe'\")\n",
    "        cur = conn.cursor()\n",
    "        sql = \"\"\"INSERT INTO player (SELECT to_date(%s, 'YYYYMMDD'), %s, %s, %s, %s, %s, %s, %s, %s, %s, %s, %s, %s, %s, %s, %s, %s, %s) ;\"\"\"\n",
    "        cur.execute(sql, (folder,row[0],row[1],row[2],row[3],row[4],row[5],row[6],row[7],row[8],row[9],row[10],row[11],row[12],row[13],row[14],row[15],row[16]))\n",
    "        conn.commit()\n",
    "    except (Exception, psycopg2.DatabaseError) as error:\n",
    "        print(error)\n",
    "    finally:\n",
    "        if conn is not None:\n",
    "            conn.close()"
   ]
  },
  {
   "cell_type": "code",
   "execution_count": null,
   "metadata": {
    "collapsed": true
   },
   "outputs": [],
   "source": [
    "def selectPlayer(tableName):\n",
    "    conn = None\n",
    "    try:\n",
    "        conn = psycopg2.connect(\"dbname='mydatabase' user='myuser' host='localhost' port='65432' password='123qwe'\")\n",
    "        cur = conn.cursor()\n",
    "        cur.execute(\"SELECT * FROM \" + tableName)\n",
    "        row = cur.fetchone()\n",
    "        while row is not None:\n",
    "            print(row)\n",
    "            row = cur.fetchone()\n",
    "    except (Exception, psycopg2.DatabaseError) as error:\n",
    "            print(error)\n",
    "    finally:\n",
    "        if conn is not None:\n",
    "            conn.close()"
   ]
  },
  {
   "cell_type": "code",
   "execution_count": null,
   "metadata": {
    "collapsed": true
   },
   "outputs": [],
   "source": [
    "#selectPlayer(\"player\")"
   ]
  },
  {
   "cell_type": "code",
   "execution_count": null,
   "metadata": {
    "collapsed": true
   },
   "outputs": [],
   "source": [
    "import csv"
   ]
  },
  {
   "cell_type": "code",
   "execution_count": null,
   "metadata": {
    "collapsed": true
   },
   "outputs": [],
   "source": [
    "with open(folder + '/player.txt', 'r', encoding='utf-8') as f:\n",
    "    reader = csv.reader(f, delimiter=',')\n",
    "    for row in reader:\n",
    "        if(re.match('^[0-9]{1,2}\\. ', row[0])) :\n",
    "            print(folder, row)\n",
    "            insertPlayer(folder, row)"
   ]
  }
 ],
 "metadata": {
  "kernelspec": {
   "display_name": "Python 3",
   "language": "python",
   "name": "python3"
  },
  "language_info": {
   "codemirror_mode": {
    "name": "ipython",
    "version": 3
   },
   "file_extension": ".py",
   "mimetype": "text/x-python",
   "name": "python",
   "nbconvert_exporter": "python",
   "pygments_lexer": "ipython3",
   "version": "3.6.0"
  }
 },
 "nbformat": 4,
 "nbformat_minor": 2
}
