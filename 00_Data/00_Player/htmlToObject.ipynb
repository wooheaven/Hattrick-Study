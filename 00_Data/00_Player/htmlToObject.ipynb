{
 "cells": [
  {
   "cell_type": "code",
   "execution_count": null,
   "metadata": {
    "collapsed": true
   },
   "outputs": [],
   "source": [
    "import re\n",
    "from bs4 import BeautifulSoup, Comment"
   ]
  },
  {
   "cell_type": "code",
   "execution_count": null,
   "metadata": {
    "collapsed": true
   },
   "outputs": [],
   "source": [
    "folder = \"2017/07/23\"\n",
    "folder"
   ]
  },
  {
   "cell_type": "code",
   "execution_count": null,
   "metadata": {
    "collapsed": true
   },
   "outputs": [],
   "source": [
    "# match.html\n",
    "# firefox_player_skill_table.txt\n",
    "file = open(folder + \"/match.html\", \"r\")\n",
    "soup = BeautifulSoup(file.read(), \"html.parser\")\n",
    "file.close()"
   ]
  },
  {
   "cell_type": "code",
   "execution_count": null,
   "metadata": {
    "collapsed": true
   },
   "outputs": [],
   "source": [
    "def removeFirstChrLastChr(inputList):\n",
    "    outputList = list();\n",
    "    for line in inputList:\n",
    "        line = line[1:-1]\n",
    "        outputList.append(line)\n",
    "    return outputList"
   ]
  },
  {
   "cell_type": "code",
   "execution_count": null,
   "metadata": {
    "collapsed": true
   },
   "outputs": [],
   "source": [
    "def filterColumn(inputList):\n",
    "    outputList = list();\n",
    "    for line in inputList:\n",
    "        col = line.split(\",\")\n",
    "        col[1] = re.sub('\"PositionID\":', '', col[1])\n",
    "        col[0] = re.sub('\"PlayerId\":', '', col[0])\n",
    "        col[3] = re.sub('\"Stars\":', '', col[3])\n",
    "        col[9] = re.sub('\"FromMin\":', '', col[9])\n",
    "        col[10] = re.sub('\"ToMin\":', '', col[10])\n",
    "        \n",
    "        newLine = col[1] + \",\" + col[0] + \",\" + col[3] + \",\" + col[9] + \",\" + col[10]\n",
    "        outputList.append(newLine)\n",
    "    return outputList"
   ]
  },
  {
   "cell_type": "code",
   "execution_count": null,
   "metadata": {
    "collapsed": true
   },
   "outputs": [],
   "source": [
    "def renamePO(inputList):\n",
    "    outputList = list();\n",
    "    for line in inputList:\n",
    "        col = line.split(\",\")\n",
    "        if col[0] == \"0\" : col[0] = \"CO\"\n",
    "        if col[0] == \"100\" : col[0] = \"KP\"\n",
    "        if ( col[0] == \"101\" or col[0] == \"105\" ) : col[0] = \"WB\"\n",
    "        if ( col[0] == \"102\" or col[0] == \"104\" ) : col[0] = \"CD\"\n",
    "        if ( col[0] == \"106\" or col[0] == \"110\" ) : col[0] = \"W\"\n",
    "        if ( col[0] == \"107\" or col[0] == \"109\" ) : col[0] = \"IM\"\n",
    "        if ( col[0] == \"111\" or col[0] == \"113\" ) : col[0] = \"FW\"\n",
    "        \n",
    "        newLine = col[0] + \",\" + col[1] + \",\" + col[2] + \",\" + col[3] + \",\" + col[4]\n",
    "        outputList.append(newLine)\n",
    "    return outputList"
   ]
  },
  {
   "cell_type": "code",
   "execution_count": null,
   "metadata": {
    "collapsed": true
   },
   "outputs": [],
   "source": [
    "def renameNumber(inputList):\n",
    "    outputList = list();\n",
    "    for line in inputList:\n",
    "        col = line.split(\",\")\n",
    "        \n",
    "        if col[1] == \"427619233\" : col[1] = \"1\"\n",
    "        if col[1] == \"428709461\" : col[1] = \"2\"\n",
    "        if col[1] == \"427619235\" : col[1] = \"3\"\n",
    "        if col[1] == \"427619236\" : col[1] = \"4\"\n",
    "        if col[1] == \"427619237\" : col[1] = \"5\"\n",
    "                \n",
    "        if col[1] == \"427619238\" : col[1] = \"6\"\n",
    "        if col[1] == \"427619239\" : col[1] = \"7\"\n",
    "        if col[1] == \"427619240\" : col[1] = \"8\"\n",
    "        if col[1] == \"427619241\" : col[1] = \"9\"\n",
    "        if col[1] == \"427619242\" : col[1] = \"10\"\n",
    "                \n",
    "        if col[1] == \"427619243\" : col[1] = \"11\"\n",
    "        if col[1] == \"427619244\" : col[1] = \"12\"\n",
    "        if col[1] == \"427619245\" : col[1] = \"13\"\n",
    "        if col[1] == \"427619246\" : col[1] = \"14\"\n",
    "        if col[1] == \"427619247\" : col[1] = \"15\"\n",
    "                \n",
    "        if col[1] == \"427619248\" : col[1] = \"16\"\n",
    "        if col[1] == \"427619249\" : col[1] = \"17\"\n",
    "        if col[1] == \"427619250\" : col[1] = \"18\"\n",
    "        if col[1] == \"428801949\" : col[1] = \"19\"\n",
    "        if col[1] == \"427827635\" : col[1] = \"20\"\n",
    "            \n",
    "        if col[1] == \"428112207\" : col[1] = \"21\"\n",
    "        if col[1] == \"428060480\" : col[1] = \"22\"\n",
    "        if col[1] == \"428125893\" : col[1] = \"23\"\n",
    "        if col[1] == \"425173438\" : col[1] = \"24\"\n",
    "        if col[1] == \"406205227\" : col[1] = \"25\"\n",
    "                \n",
    "        if col[1] == \"425734621\" : col[1] = \"26\"\n",
    "        if col[1] == \"428157949\" : col[1] = \"27\"\n",
    "        if col[1] == \"428976501\" : col[1] = \"28\"\n",
    "        if col[1] == \"428342261\" : col[1] = \"29\"\n",
    "        if col[1] == \"427619232\" : col[1] = \"99\"\n",
    "        \n",
    "        newLine = col[0] + \",\" + col[1] + \",\" + col[2] + \",\" + col[3] + \",\" + col[4]\n",
    "        outputList.append(newLine)\n",
    "    return outputList"
   ]
  },
  {
   "cell_type": "code",
   "execution_count": null,
   "metadata": {
    "collapsed": true
   },
   "outputs": [],
   "source": [
    "def renameMin(inputList):\n",
    "    outputList = list();\n",
    "    for line in inputList:\n",
    "        col = line.split(\",\")\n",
    "        if col[3] == \"-1\" : col[3] = \"0\"\n",
    "        if col[4] == \"-1\" : col[4] = \"0\"\n",
    "        if col[4] == \"92\" : col[4] = \"90\"\n",
    "        if col[4] == \"93\" : col[4] = \"90\"\n",
    "        newLine = col[0] + \",\" + col[1] + \",\" + col[2] + \",\" + col[3] + \",\" + col[4]\n",
    "        outputList.append(newLine)\n",
    "    return outputList"
   ]
  },
  {
   "cell_type": "code",
   "execution_count": null,
   "metadata": {
    "collapsed": true
   },
   "outputs": [],
   "source": [
    "def changedPlayer(inputList):\n",
    "    tmpList = list();\n",
    "    oldPO = \"\"\n",
    "    oldToMin = \"\"\n",
    "    for line in inputList:\n",
    "        col = line.split(\",\")\n",
    "        #PO,Number,Star,FromMin,ToMin\n",
    "        # W,22,4.0,0,50\n",
    "        # -1,24,-1.0,50,90\n",
    "        if ( col[0] == \"-1\" and oldToMin == col[3] ) :\n",
    "            col[0] = oldPO\n",
    "        else :\n",
    "            oldPO = col[0]\n",
    "            oldToMin = col[4]\n",
    "        newLine = col[0] + \",\" + col[1] + \",\" + col[2] + \",\" + col[3] + \",\" + col[4]\n",
    "        tmpList.append(newLine)\n",
    "    outputList = list();\n",
    "    oldPO = \"\"\n",
    "    oldFromMin = \"\"\n",
    "    oldToMin = \"\"\n",
    "    for line in reversed(tmpList):\n",
    "        col = line.split(\",\")\n",
    "        #PO,Number,Star,FromMin,ToMin\n",
    "        # IM,26,5.0,40,90\n",
    "        # -1,11,-1.0,0,40\n",
    "        # W,22,4.0,0,50\n",
    "        # -1,24,-1.0,50,90\n",
    "        if ( col[0] == \"-1\" and ( oldFromMin == col[4] or oldToMin == col[3] ) ) :\n",
    "            col[0] = oldPO\n",
    "        else :\n",
    "            oldPO = col[0]\n",
    "            oldFromMin = col[3]\n",
    "            oldToMin = col[4]\n",
    "        newLine = col[0] + \",\" + col[1] + \",\" + col[2] + \",\" + col[3] + \",\" + col[4]\n",
    "        outputList.append(newLine)\n",
    "    lastList = list();\n",
    "    for line in reversed(outputList):\n",
    "        lastList.append(line)\n",
    "    return lastList"
   ]
  },
  {
   "cell_type": "code",
   "execution_count": null,
   "metadata": {
    "collapsed": true
   },
   "outputs": [],
   "source": [
    "def removeRows(inputList):\n",
    "    outputList = list();\n",
    "    for line in inputList:\n",
    "        col = line.split(\",\")\n",
    "        if ( col[0] == \"PO\" or col[0] == \"KP\" or col[0] == \"WB\" or col[0] == \"CD\" or col[0] == \"W\" or col[0] == \"IM\" or col[0] == \"FW\" ):\n",
    "            outputList.append(line)\n",
    "        elif ( col[0] == \"-1\") :\n",
    "            print(\"PO is not changed yet : \" + line)\n",
    "        else :\n",
    "            print(\"This line is removed : \" + line)\n",
    "    return outputList"
   ]
  },
  {
   "cell_type": "code",
   "execution_count": null,
   "metadata": {
    "collapsed": true
   },
   "outputs": [],
   "source": [
    "def sortByPO(inputList):\n",
    "    inputList.sort(key = lambda x: ( x.split(\",\")[0], -int(x.split(\",\")[3]), int(x.split(\",\")[4])))   \n",
    "    outputList = list();\n",
    "    outputList.append(\"PO,Number,Star,FromMin,ToMin\")\n",
    "\n",
    "    for line in inputList:\n",
    "        col = line.split(\",\")\n",
    "        if col[0].find(\"KP\") > -1: outputList.append(line)\n",
    "    for line in inputList:\n",
    "        col = line.split(\",\")\n",
    "        if col[0].find(\"WB\") > -1: outputList.append(line)\n",
    "    for line in l8:\n",
    "        col = line.split(\",\")\n",
    "        if col[0].find(\"CD\") > -1: outputList.append(line)\n",
    "    for line in l8:\n",
    "        col = line.split(\",\")\n",
    "        if col[0].find(\"W\") == 0: outputList.append(line)\n",
    "    for line in l8:\n",
    "        col = line.split(\",\")\n",
    "        if col[0].find(\"IM\") > -1: outputList.append(line)\n",
    "    for line in l8:\n",
    "        col = line.split(\",\")\n",
    "        if col[0].find(\"FW\") > -1: outputList.append(line)\n",
    "    return outputList"
   ]
  },
  {
   "cell_type": "code",
   "execution_count": null,
   "metadata": {
    "collapsed": true
   },
   "outputs": [],
   "source": [
    "for div in soup.find_all(\"div\", id=\"ctl00_ctl00_CPContent_CPMain_ucPostMatch_rptTimeline_ctl14_timelineEventPanel\"):\n",
    "    #for inputTag in div.find_all(\"input\", id=\"ctl00_ctl00_CPContent_CPMain_ucPostMatch_rptTimeline_ctl14_playerRatingsAway\"):\n",
    "    for inputTag in div.find_all(\"input\", id=\"ctl00_ctl00_CPContent_CPMain_ucPostMatch_rptTimeline_ctl14_playerRatingsHome\"):\n",
    "        #print(inputTag.prettify())\n",
    "        valueString = inputTag.get('value')\n",
    "        valueString = re.sub('},', '}\\n', valueString)\n",
    "        \n",
    "        l1 = valueString.split(\"\\n\")\n",
    "        l2 = removeFirstChrLastChr(l1)\n",
    "        l3 = filterColumn(l2)\n",
    "        l4 = renamePO(l3)\n",
    "        l5 = renameNumber(l4)\n",
    "        l6 = renameMin(l5)\n",
    "        l7 = changedPlayer(l6)\n",
    "        l8 = removeRows(l7)\n",
    "        l9 = sortByPO(l8)\n",
    "        \n",
    "        print(\"\\nLast match.txt\\n\")\n",
    "        \n",
    "        for line in l9:\n",
    "            print(line) "
   ]
  },
  {
   "cell_type": "code",
   "execution_count": null,
   "metadata": {
    "collapsed": true
   },
   "outputs": [],
   "source": [
    "def parsingTable(inputList):\n",
    "    outputList = list();\n",
    "    for line in inputList:\n",
    "        if line.find('table') == -1:\n",
    "            line = line.replace('[tr]', '')\n",
    "            line = line.replace('[/tr]', '')\n",
    "            line = line.replace('[th]', '')\n",
    "            line = line.replace('[/th]', ',')\n",
    "            line = line.replace('[td]', '')\n",
    "            line = line.replace('[/td]', ',')\n",
    "            outputList.append(line)\n",
    "    return outputList"
   ]
  },
  {
   "cell_type": "code",
   "execution_count": null,
   "metadata": {
    "collapsed": true,
    "scrolled": true
   },
   "outputs": [],
   "source": [
    "with open (folder + '/player_skill_table.txt') as f:\n",
    "    lineList = f.read().splitlines()\n",
    "    lineList = parsingTable(lineList)"
   ]
  },
  {
   "cell_type": "code",
   "execution_count": null,
   "metadata": {
    "collapsed": true
   },
   "outputs": [],
   "source": [
    "for line in lineList:\n",
    "    print(line)"
   ]
  },
  {
   "cell_type": "code",
   "execution_count": null,
   "metadata": {
    "collapsed": true
   },
   "outputs": [],
   "source": [
    "import pyautogui\n",
    "screenWidth, screenHeight = pyautogui.size()\n",
    "currentMouseX, currentMouseY = pyautogui.position()"
   ]
  },
  {
   "cell_type": "code",
   "execution_count": null,
   "metadata": {},
   "outputs": [],
   "source": [
    "# firefox 4번째 tab 클릭하기\n",
    "pyautogui.moveTo(screenWidth/10*7, screenHeight/30*1, duration=1.5)\n",
    "pyautogui.click()\n",
    "# hattrick 배경 클릭하기\n",
    "pyautogui.moveTo(screenWidth/11*6, screenHeight/30*3, duration=1)\n",
    "pyautogui.click()\n",
    "# 스크롤 올리기\n",
    "pyautogui.scroll(20)\n",
    "# hattrick 선수 클릭하기\n",
    "pyautogui.moveTo(screenWidth/18*11, screenHeight/31*21, duration=1)\n",
    "pyautogui.click()\n",
    "# hattrick 배경 클릭하기\n",
    "pyautogui.moveTo(screenWidth/11*6, screenHeight/30*3, duration=2)\n",
    "pyautogui.click()\n",
    "# 스크롤 올리기\n",
    "pyautogui.scroll(20)\n",
    "# 스킬 테이블 클릭하기\n",
    "pyautogui.moveTo(screenWidth/14*11, screenHeight/31*18, duration=3)\n",
    "pyautogui.click()\n",
    "# 스크롤 내리기\n",
    "pyautogui.scroll(-5)\n",
    "# 클럽에 소속된 시간 나타내기 클릭하기\n",
    "pyautogui.moveTo(screenWidth/12*8, screenHeight/31*28, duration=2.5)\n",
    "pyautogui.click()\n",
    "# 복사 클릭하기\n",
    "pyautogui.moveTo(screenWidth/14*11, screenHeight/31*8, duration=2.5)\n",
    "pyautogui.click()\n",
    "# 닫기 클릭하기\n",
    "pyautogui.moveTo(screenWidth/21*20, screenHeight/31*11, duration=1)\n",
    "pyautogui.click()\n",
    "# 스킬 테이블 클릭하기\n",
    "pyautogui.moveTo(screenWidth/28*22, screenHeight/34*8, duration=1)\n",
    "pyautogui.click()\n",
    "# 스크롤 올리기\n",
    "pyautogui.scroll(20)\n",
    "# firefox 5번째 tab 클릭하기\n",
    "pyautogui.moveTo(screenWidth/12*9, screenHeight/30*1, duration=1.5)\n",
    "pyautogui.click()"
   ]
  },
  {
   "cell_type": "code",
   "execution_count": null,
   "metadata": {
    "collapsed": true
   },
   "outputs": [],
   "source": [
    "import pymsgbox"
   ]
  },
  {
   "cell_type": "code",
   "execution_count": null,
   "metadata": {},
   "outputs": [],
   "source": [
    "pymsgbox.alert(text='', title='', button='OK')"
   ]
  },
  {
   "cell_type": "code",
   "execution_count": null,
   "metadata": {},
   "outputs": [],
   "source": [
    "pymsgbox.confirm(text='', title='', buttons=['OK', 'Cancel'])"
   ]
  },
  {
   "cell_type": "code",
   "execution_count": null,
   "metadata": {
    "collapsed": true
   },
   "outputs": [],
   "source": [
    "print(text)"
   ]
  },
  {
   "cell_type": "code",
   "execution_count": null,
   "metadata": {
    "collapsed": true
   },
   "outputs": [],
   "source": [
    "import psycopg2"
   ]
  },
  {
   "cell_type": "code",
   "execution_count": null,
   "metadata": {
    "collapsed": true
   },
   "outputs": [],
   "source": [
    "def dropPlayer():\n",
    "    conn = None\n",
    "    try:\n",
    "        conn = psycopg2.connect(\"dbname='mydatabase' user='myuser' host='localhost' port='65432' password='123qwe'\")\n",
    "        cur = conn.cursor()\n",
    "        sql = \"\"\"DROP TABLE IF EXISTS player ; \"\"\"\n",
    "        cur.execute(sql)\n",
    "        conn.commit()\n",
    "    except(Exception, psycopg2.DatabaseError) as error:\n",
    "        print(error)\n",
    "    finally:\n",
    "        if conn is not None:\n",
    "            conn.close()"
   ]
  },
  {
   "cell_type": "code",
   "execution_count": null,
   "metadata": {
    "collapsed": true
   },
   "outputs": [],
   "source": [
    "# dropPlayer()"
   ]
  },
  {
   "cell_type": "code",
   "execution_count": null,
   "metadata": {
    "collapsed": true
   },
   "outputs": [],
   "source": [
    "def createPlayer():\n",
    "    conn = None\n",
    "    try:\n",
    "        conn = psycopg2.connect(\"dbname='mydatabase' user='myuser' host='localhost' port='65432' password='123qwe'\")\n",
    "        cur = conn.cursor()\n",
    "        sql = \"\"\"\n",
    "CREATE TABLE player (\n",
    "    Date DATE, \n",
    "    Name VARCHAR(30), \n",
    "    Age VARCHAR(10), \n",
    "    TSI BIGINT, \n",
    "    PayPerWeek BIGINT, \n",
    "    Form INT, \n",
    "    Stamina INT, \n",
    "    Special VARCHAR(8),\n",
    "    Experience INT,\n",
    "    Leadership INT,\n",
    "    Loyalty INT,\n",
    "    Keeper INT,\n",
    "    Defending INT,\n",
    "    Playmaking INT,\n",
    "    Winger INT,\n",
    "    Passing INT,\n",
    "    Scoring INT,\n",
    "    SetPieces INT\n",
    ") ; \"\"\"\n",
    "        cur.execute(sql)\n",
    "        conn.commit()\n",
    "    except(Exception, psycopg2.DatabaseError) as error:\n",
    "        print(error)\n",
    "    finally:\n",
    "        if conn is not None:\n",
    "            conn.close()"
   ]
  },
  {
   "cell_type": "code",
   "execution_count": null,
   "metadata": {
    "collapsed": true
   },
   "outputs": [],
   "source": [
    "#createPlayer()"
   ]
  },
  {
   "cell_type": "code",
   "execution_count": null,
   "metadata": {
    "collapsed": true
   },
   "outputs": [],
   "source": [
    "def insertPlayer(folder, row):\n",
    "    conn = None\n",
    "    try:\n",
    "        conn = psycopg2.connect(\"dbname='mydatabase' user='myuser' host='localhost' port='65432' password='123qwe'\")\n",
    "        cur = conn.cursor()\n",
    "        sql = \"\"\"INSERT INTO player (SELECT to_date(%s, 'YYYYMMDD'), %s, %s, %s, %s, %s, %s, %s, %s, %s, %s, %s, %s, %s, %s, %s, %s, %s) ;\"\"\"\n",
    "        cur.execute(sql, (folder,row[0],row[1],row[2],row[3],row[4],row[5],row[6],row[7],row[8],row[9],row[10],row[11],row[12],row[13],row[14],row[15],row[16]))\n",
    "        conn.commit()\n",
    "    except (Exception, psycopg2.DatabaseError) as error:\n",
    "        print(error)\n",
    "    finally:\n",
    "        if conn is not None:\n",
    "            conn.close()"
   ]
  },
  {
   "cell_type": "code",
   "execution_count": null,
   "metadata": {
    "collapsed": true
   },
   "outputs": [],
   "source": [
    "def selectPlayer(tableName):\n",
    "    conn = None\n",
    "    try:\n",
    "        conn = psycopg2.connect(\"dbname='mydatabase' user='myuser' host='localhost' port='65432' password='123qwe'\")\n",
    "        cur = conn.cursor()\n",
    "        cur.execute(\"SELECT * FROM \" + tableName)\n",
    "        row = cur.fetchone()\n",
    "        while row is not None:\n",
    "            print(row)\n",
    "            row = cur.fetchone()\n",
    "    except (Exception, psycopg2.DatabaseError) as error:\n",
    "            print(error)\n",
    "    finally:\n",
    "        if conn is not None:\n",
    "            conn.close()"
   ]
  },
  {
   "cell_type": "code",
   "execution_count": null,
   "metadata": {
    "collapsed": true
   },
   "outputs": [],
   "source": [
    "#selectPlayer(\"player\")"
   ]
  },
  {
   "cell_type": "code",
   "execution_count": null,
   "metadata": {
    "collapsed": true
   },
   "outputs": [],
   "source": [
    "import csv"
   ]
  },
  {
   "cell_type": "code",
   "execution_count": null,
   "metadata": {
    "collapsed": true
   },
   "outputs": [],
   "source": [
    "with open(folder + '/player.txt', 'r', encoding='utf-8') as f:\n",
    "    reader = csv.reader(f, delimiter=',')\n",
    "    for row in reader:\n",
    "        if(re.match('^[0-9]{1,2}\\. ', row[0])) :\n",
    "            print(folder, row)\n",
    "            insertPlayer(folder, row)"
   ]
  }
 ],
 "metadata": {
  "kernelspec": {
   "display_name": "Python 3",
   "language": "python",
   "name": "python3"
  },
  "language_info": {
   "codemirror_mode": {
    "name": "ipython",
    "version": 3
   },
   "file_extension": ".py",
   "mimetype": "text/x-python",
   "name": "python",
   "nbconvert_exporter": "python",
   "pygments_lexer": "ipython3",
   "version": "3.6.0"
  }
 },
 "nbformat": 4,
 "nbformat_minor": 2
}
