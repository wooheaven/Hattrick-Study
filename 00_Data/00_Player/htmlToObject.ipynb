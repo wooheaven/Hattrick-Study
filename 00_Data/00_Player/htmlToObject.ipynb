{
 "cells": [
  {
   "cell_type": "code",
   "execution_count": null,
   "metadata": {
    "collapsed": true
   },
   "outputs": [],
   "source": [
    "# inport BeautifulSoup\n",
    "import re\n",
    "from bs4 import BeautifulSoup"
   ]
  },
  {
   "cell_type": "code",
   "execution_count": null,
   "metadata": {
    "collapsed": true
   },
   "outputs": [],
   "source": [
    "file=open(\"20170520/a.html\", \"r+\")\n",
    "soup = BeautifulSoup(file.read(), \"html.parser\")"
   ]
  },
  {
   "cell_type": "code",
   "execution_count": null,
   "metadata": {},
   "outputs": [],
   "source": [
    "print(soup.find_all(\"div\",\"playerInfo\"))"
   ]
  },
  {
   "cell_type": "code",
   "execution_count": null,
   "metadata": {},
   "outputs": [],
   "source": [
    "for div in soup.find_all(\"div\",\"playerInfo\"):\n",
    "    # get String\n",
    "    line = div.get_text()\n",
    "    \n",
    "    # parsing String\n",
    "    line = line.replace(':\\n                \\n\\n ', ':')\n",
    "    line = line.replace('\\n\\n\\n', '')\n",
    "    line = line.replace('\\n\\n                        1', '\\n1')\n",
    "    line = line.replace('\\n\\n                        2', '\\n2')\n",
    "    line = line.replace('\\n\\n                        3', '\\n3')\n",
    "    line = line.replace('TSI = ','\\nTSI:')\n",
    "    line = line.replace('\\xa0', '')\n",
    "    line = line.replace(', 임금 = ', '\\n임금:')\n",
    "    line = line.replace('Won', ' Won\\n')\n",
    "    line = line.replace('form, ', 'form\\n')\n",
    "    if line.find('체력 [') > -1 :\n",
    "        line = line.replace('체력 [', '체력\\n특수능력:')\n",
    "        line = line.replace(']', '\\n')\n",
    "    else :\n",
    "        line = line.replace('체력', '체력\\n특수능력:없음\\n')\n",
    "    line = line.replace('경험과 ', '경험\\n')\n",
    "    line = line.replace('리더십 능력', '리더십능력\\n')\n",
    "    line = line.replace('\\n\\n', '\\n')\n",
    "    line = line.replace('\\n                    ', '')\n",
    "    line = line.replace('충성도 ', '충성도:')\n",
    "    line = line.replace('골키핑', '\\n골키핑')\n",
    "    line = line.replace('수비력','\\n수비력')\n",
    "    line = line.replace('플레이메이킹', '\\n플레이메이킹')\n",
    "    line = line.replace('윙어', '\\n윙어')\n",
    "    line = line.replace('패스력','\\n패스력')\n",
    "    line = line.replace('득점력', '\\n득점력')\n",
    "    line = line.replace('세트 피스','\\n세트피스')\n",
    "    \n",
    "    line = line.replace('신의 경지','20')\n",
    "    line = line.replace('초월적', '19')\n",
    "    line = line.replace('마술적', '18')\n",
    "    line = line.replace('전설적', '17')\n",
    "    line = line.replace('외계인', '16')\n",
    "    line = line.replace('막강함', '15')\n",
    "    line = line.replace('초자연적', '14')\n",
    "    line = line.replace('세계 최고', '13')\n",
    "    line = line.replace('훌륭함', '12')\n",
    "    line = line.replace('눈부심', '11')\n",
    "    line = line.replace('걸출함', '10')\n",
    "    line = line.replace('강력함', '9')\n",
    "    line = line.replace('뛰어남', '8')\n",
    "    line = line.replace('우수', '7')\n",
    "    line = line.replace('무난함', '6')\n",
    "    line = line.replace('불충분함', '5')\n",
    "    line = line.replace('약함', '4')\n",
    "    line = line.replace('나쁨', '3')\n",
    "    line = line.replace('형편 없음', '2')\n",
    "    line = line.replace('최악', '1')\n",
    "    line = line.replace('없음', '0')\n",
    "    \n",
    "    line = line.replace('(\\n', '(')\n",
    "    line = line.replace('\\n (', ':')\n",
    "    line = line.replace(')', '')\n",
    "    \n",
    "    for lines in line.split('\\n'):\n",
    "        if (re.match('[0-9] ', lines)) :\n",
    "            revertString=lines.split(' ')\n",
    "            print (revertString[1] + ':' + revertString[0])\n",
    "        else : \n",
    "            print(lines)"
   ]
  },
  {
   "cell_type": "code",
   "execution_count": null,
   "metadata": {
    "collapsed": true
   },
   "outputs": [],
   "source": [
    "lines = soup.find('div','playerInfo').get_text()"
   ]
  },
  {
   "cell_type": "code",
   "execution_count": null,
   "metadata": {
    "collapsed": true
   },
   "outputs": [],
   "source": [
    "lines"
   ]
  },
  {
   "cell_type": "code",
   "execution_count": null,
   "metadata": {
    "collapsed": true
   },
   "outputs": [],
   "source": [
    "lines = lines.replace(':\\n                \\n\\n ', ':')\n",
    "lines = lines.replace('\\n\\n\\n', '')\n",
    "lines = lines.replace('\\n\\n                        1', '\\n1')\n",
    "lines = lines.replace('\\n\\n                        2', '\\n2')\n",
    "lines = lines.replace('\\n\\n                        3', '\\n3')\n",
    "lines = lines.replace('TSI','\\nTSI')\n",
    "lines = lines.replace('\\xa0', '')\n",
    "lines = lines.replace(', 임', '\\n임')\n",
    "lines = lines.replace('Won', ' Won\\n')\n",
    "lines = lines.replace('form, ', 'form\\n')\n",
    "lines = lines.replace('체력', '체력\\n')\n",
    "lines = lines.replace('경험과 ', '경험\\n')\n",
    "lines = lines.replace('리더십 능력', '리더십 능력\\n')\n",
    "lines = lines.replace('\\n\\n', '\\n')\n",
    "lines = lines.replace('\\n                    ', '')"
   ]
  },
  {
   "cell_type": "code",
   "execution_count": null,
   "metadata": {
    "collapsed": true
   },
   "outputs": [],
   "source": [
    "lines.find('체력 [')"
   ]
  },
  {
   "cell_type": "code",
   "execution_count": null,
   "metadata": {
    "collapsed": true
   },
   "outputs": [],
   "source": [
    "print(lines)"
   ]
  }
 ],
 "metadata": {
  "kernelspec": {
   "display_name": "Python 3",
   "language": "python",
   "name": "python3"
  },
  "language_info": {
   "codemirror_mode": {
    "name": "ipython",
    "version": 3
   },
   "file_extension": ".py",
   "mimetype": "text/x-python",
   "name": "python",
   "nbconvert_exporter": "python",
   "pygments_lexer": "ipython3",
   "version": "3.6.0"
  }
 },
 "nbformat": 4,
 "nbformat_minor": 2
}
