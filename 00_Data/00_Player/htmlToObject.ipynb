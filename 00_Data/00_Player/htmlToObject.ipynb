{
 "cells": [
  {
   "cell_type": "code",
   "execution_count": 1,
   "metadata": {
    "collapsed": true
   },
   "outputs": [],
   "source": [
    "# inport BeautifulSoup\n",
    "import re\n",
    "from bs4 import BeautifulSoup, Comment"
   ]
  },
  {
   "cell_type": "code",
   "execution_count": 2,
   "metadata": {},
   "outputs": [
    {
     "data": {
      "text/plain": [
       "'2017/07/16'"
      ]
     },
     "execution_count": 2,
     "metadata": {},
     "output_type": "execute_result"
    }
   ],
   "source": [
    "folder = \"2017/07/16\"\n",
    "folder"
   ]
  },
  {
   "cell_type": "code",
   "execution_count": 4,
   "metadata": {},
   "outputs": [],
   "source": [
    "# chrome_match.html\n",
    "# firefox_player_skill_table.txt\n",
    "file = open(folder + \"/match.html\", \"r\")\n",
    "soup = BeautifulSoup(file.read(), \"html.parser\")\n",
    "file.close()"
   ]
  },
  {
   "cell_type": "code",
   "execution_count": 6,
   "metadata": {},
   "outputs": [
    {
     "name": "stdout",
     "output_type": "stream",
     "text": [
      "<input id=\"ctl00_ctl00_CPContent_CPMain_ucPostMatch_rptTimeline_ctl14_playerRatingsAway\" name=\"ctl00$ctl00$CPContent$CPMain$ucPostMatch$rptTimeline$ctl14$playerRatingsAway\" type=\"hidden\" value='[{\"PlayerId\":427619232,\"PositionID\":0,\"PositionBehaviour\":0,\"Stars\":0.0,\"InjuryLevel\":0,\"Stamina\":0.0,\"Cards\":0,\"IsCaptain\":false,\"IsKicker\":false,\"FromMin\":-1,\"ToMin\":-1},{\"PlayerId\":428709461,\"PositionID\":100,\"PositionBehaviour\":0,\"Stars\":3.0,\"InjuryLevel\":0,\"Stamina\":0.8715629,\"Cards\":0,\"IsCaptain\":false,\"IsKicker\":false,\"FromMin\":-1,\"ToMin\":91},{\"PlayerId\":427619246,\"PositionID\":101,\"PositionBehaviour\":0,\"Stars\":3.5,\"InjuryLevel\":0,\"Stamina\":0.9414048,\"Cards\":0,\"IsCaptain\":false,\"IsKicker\":false,\"FromMin\":-1,\"ToMin\":91},{\"PlayerId\":427619236,\"PositionID\":102,\"PositionBehaviour\":0,\"Stars\":3.5,\"InjuryLevel\":0,\"Stamina\":0.9541545,\"Cards\":0,\"IsCaptain\":false,\"IsKicker\":false,\"FromMin\":-1,\"ToMin\":91},{\"PlayerId\":427619239,\"PositionID\":104,\"PositionBehaviour\":0,\"Stars\":3.0,\"InjuryLevel\":0,\"Stamina\":0.9241197,\"Cards\":0,\"IsCaptain\":false,\"IsKicker\":false,\"FromMin\":-1,\"ToMin\":46},{\"PlayerId\":428112207,\"PositionID\":-1,\"PositionBehaviour\":0,\"Stars\":-1.0,\"InjuryLevel\":0,\"Stamina\":0.0,\"Cards\":0,\"IsCaptain\":false,\"IsKicker\":false,\"FromMin\":46,\"ToMin\":91},{\"PlayerId\":427827635,\"PositionID\":105,\"PositionBehaviour\":0,\"Stars\":3.0,\"InjuryLevel\":0,\"Stamina\":0.9258646,\"Cards\":1,\"IsCaptain\":false,\"IsKicker\":false,\"FromMin\":-1,\"ToMin\":91},{\"PlayerId\":427619247,\"PositionID\":106,\"PositionBehaviour\":0,\"Stars\":5.0,\"InjuryLevel\":0,\"Stamina\":0.982686341,\"Cards\":0,\"IsCaptain\":false,\"IsKicker\":false,\"FromMin\":-1,\"ToMin\":91},{\"PlayerId\":427619241,\"PositionID\":107,\"PositionBehaviour\":0,\"Stars\":3.5,\"InjuryLevel\":0,\"Stamina\":0.901294231,\"Cards\":0,\"IsCaptain\":false,\"IsKicker\":false,\"FromMin\":-1,\"ToMin\":79},{\"PlayerId\":406205227,\"PositionID\":109,\"PositionBehaviour\":0,\"Stars\":3.0,\"InjuryLevel\":0,\"Stamina\":0.878267348,\"Cards\":1,\"IsCaptain\":false,\"IsKicker\":false,\"FromMin\":-1,\"ToMin\":91},{\"PlayerId\":425173438,\"PositionID\":-1,\"PositionBehaviour\":0,\"Stars\":-1.0,\"InjuryLevel\":0,\"Stamina\":0.0,\"Cards\":0,\"IsCaptain\":false,\"IsKicker\":false,\"FromMin\":50,\"ToMin\":91},{\"PlayerId\":428060480,\"PositionID\":110,\"PositionBehaviour\":0,\"Stars\":3.5,\"InjuryLevel\":0,\"Stamina\":0.9377736,\"Cards\":0,\"IsCaptain\":true,\"IsKicker\":true,\"FromMin\":-1,\"ToMin\":50},{\"PlayerId\":427619244,\"PositionID\":111,\"PositionBehaviour\":0,\"Stars\":3.5,\"InjuryLevel\":0,\"Stamina\":0.983661652,\"Cards\":0,\"IsCaptain\":false,\"IsKicker\":false,\"FromMin\":-1,\"ToMin\":91},{\"PlayerId\":427619250,\"PositionID\":113,\"PositionBehaviour\":0,\"Stars\":4.5,\"InjuryLevel\":0,\"Stamina\":0.965537,\"Cards\":0,\"IsCaptain\":false,\"IsKicker\":false,\"FromMin\":-1,\"ToMin\":60},{\"PlayerId\":427619249,\"PositionID\":-1,\"PositionBehaviour\":0,\"Stars\":-1.0,\"InjuryLevel\":0,\"Stamina\":0.0,\"Cards\":0,\"IsCaptain\":false,\"IsKicker\":false,\"FromMin\":60,\"ToMin\":91},{\"PlayerId\":427619233,\"PositionID\":114,\"PositionBehaviour\":0,\"Stars\":0.0,\"InjuryLevel\":0,\"Stamina\":0.0,\"Cards\":0,\"IsCaptain\":false,\"IsKicker\":false,\"FromMin\":0,\"ToMin\":0},{\"PlayerId\":427619243,\"PositionID\":116,\"PositionBehaviour\":0,\"Stars\":0.0,\"InjuryLevel\":0,\"Stamina\":0.0,\"Cards\":0,\"IsCaptain\":false,\"IsKicker\":false,\"FromMin\":0,\"ToMin\":0}]'/>\n",
      "\n"
     ]
    }
   ],
   "source": [
    "for div in soup.find_all(\"div\", id=\"ctl00_ctl00_CPContent_CPMain_ucPostMatch_rptTimeline_ctl14_timelineEventPanel\"):\n",
    "    for inputTag in div.find_all(\"input\", id=\"ctl00_ctl00_CPContent_CPMain_ucPostMatch_rptTimeline_ctl14_playerRatingsAway\"):\n",
    "    #for inputTag in div.find_all(\"input\", id=\"ctl00_ctl00_CPContent_CPMain_ucPostMatch_rptTimeline_ctl14_playerRatingsHome\"):\n",
    "        print(inputTag.prettify())"
   ]
  },
  {
   "cell_type": "code",
   "execution_count": null,
   "metadata": {
    "collapsed": true
   },
   "outputs": [],
   "source": [
    "import psycopg2"
   ]
  },
  {
   "cell_type": "code",
   "execution_count": null,
   "metadata": {
    "collapsed": true
   },
   "outputs": [],
   "source": [
    "def dropPlayer():\n",
    "    conn = None\n",
    "    try:\n",
    "        conn = psycopg2.connect(\"dbname='mydatabase' user='myuser' host='localhost' port='65432' password='123qwe'\")\n",
    "        cur = conn.cursor()\n",
    "        sql = \"\"\"DROP TABLE IF EXISTS player ; \"\"\"\n",
    "        cur.execute(sql)\n",
    "        conn.commit()\n",
    "    except(Exception, psycopg2.DatabaseError) as error:\n",
    "        print(error)\n",
    "    finally:\n",
    "        if conn is not None:\n",
    "            conn.close()"
   ]
  },
  {
   "cell_type": "code",
   "execution_count": null,
   "metadata": {
    "collapsed": true
   },
   "outputs": [],
   "source": [
    "# dropPlayer()"
   ]
  },
  {
   "cell_type": "code",
   "execution_count": null,
   "metadata": {
    "collapsed": true
   },
   "outputs": [],
   "source": [
    "def createPlayer():\n",
    "    conn = None\n",
    "    try:\n",
    "        conn = psycopg2.connect(\"dbname='mydatabase' user='myuser' host='localhost' port='65432' password='123qwe'\")\n",
    "        cur = conn.cursor()\n",
    "        sql = \"\"\"\n",
    "CREATE TABLE player (\n",
    "    Date DATE, \n",
    "    Name VARCHAR(30), \n",
    "    Age VARCHAR(10), \n",
    "    TSI BIGINT, \n",
    "    PayPerWeek BIGINT, \n",
    "    Form INT, \n",
    "    Stamina INT, \n",
    "    Special VARCHAR(8),\n",
    "    Experience INT,\n",
    "    Leadership INT,\n",
    "    Loyalty INT,\n",
    "    Keeper INT,\n",
    "    Defending INT,\n",
    "    Playmaking INT,\n",
    "    Winger INT,\n",
    "    Passing INT,\n",
    "    Scoring INT,\n",
    "    SetPieces INT\n",
    ") ; \"\"\"\n",
    "        cur.execute(sql)\n",
    "        conn.commit()\n",
    "    except(Exception, psycopg2.DatabaseError) as error:\n",
    "        print(error)\n",
    "    finally:\n",
    "        if conn is not None:\n",
    "            conn.close()"
   ]
  },
  {
   "cell_type": "code",
   "execution_count": null,
   "metadata": {
    "collapsed": true
   },
   "outputs": [],
   "source": [
    "#createPlayer()"
   ]
  },
  {
   "cell_type": "code",
   "execution_count": null,
   "metadata": {
    "collapsed": true
   },
   "outputs": [],
   "source": [
    "def insertPlayer(folder, row):\n",
    "    conn = None\n",
    "    try:\n",
    "        conn = psycopg2.connect(\"dbname='mydatabase' user='myuser' host='localhost' port='65432' password='123qwe'\")\n",
    "        cur = conn.cursor()\n",
    "        sql = \"\"\"INSERT INTO player (SELECT to_date(%s, 'YYYYMMDD'), %s, %s, %s, %s, %s, %s, %s, %s, %s, %s, %s, %s, %s, %s, %s, %s, %s) ;\"\"\"\n",
    "        cur.execute(sql, (folder,row[0],row[1],row[2],row[3],row[4],row[5],row[6],row[7],row[8],row[9],row[10],row[11],row[12],row[13],row[14],row[15],row[16]))\n",
    "        conn.commit()\n",
    "    except (Exception, psycopg2.DatabaseError) as error:\n",
    "        print(error)\n",
    "    finally:\n",
    "        if conn is not None:\n",
    "            conn.close()"
   ]
  },
  {
   "cell_type": "code",
   "execution_count": null,
   "metadata": {
    "collapsed": true
   },
   "outputs": [],
   "source": [
    "def selectPlayer(tableName):\n",
    "    conn = None\n",
    "    try:\n",
    "        conn = psycopg2.connect(\"dbname='mydatabase' user='myuser' host='localhost' port='65432' password='123qwe'\")\n",
    "        cur = conn.cursor()\n",
    "        cur.execute(\"SELECT * FROM \" + tableName)\n",
    "        row = cur.fetchone()\n",
    "        while row is not None:\n",
    "            print(row)\n",
    "            row = cur.fetchone()\n",
    "    except (Exception, psycopg2.DatabaseError) as error:\n",
    "            print(error)\n",
    "    finally:\n",
    "        if conn is not None:\n",
    "            conn.close()"
   ]
  },
  {
   "cell_type": "code",
   "execution_count": null,
   "metadata": {
    "collapsed": true
   },
   "outputs": [],
   "source": [
    "#selectPlayer(\"player\")"
   ]
  },
  {
   "cell_type": "code",
   "execution_count": null,
   "metadata": {
    "collapsed": true
   },
   "outputs": [],
   "source": [
    "import csv"
   ]
  },
  {
   "cell_type": "code",
   "execution_count": null,
   "metadata": {
    "collapsed": true
   },
   "outputs": [],
   "source": [
    "with open(folder + '/player.txt', 'r', encoding='utf-8') as f:\n",
    "    reader = csv.reader(f, delimiter=',')\n",
    "    for row in reader:\n",
    "        if(re.match('^[0-9]{1,2}\\. ', row[0])) :\n",
    "            print(folder, row)\n",
    "            insertPlayer(folder, row)"
   ]
  }
 ],
 "metadata": {
  "kernelspec": {
   "display_name": "Python 3",
   "language": "python",
   "name": "python3"
  },
  "language_info": {
   "codemirror_mode": {
    "name": "ipython",
    "version": 3
   },
   "file_extension": ".py",
   "mimetype": "text/x-python",
   "name": "python",
   "nbconvert_exporter": "python",
   "pygments_lexer": "ipython3",
   "version": "3.6.0"
  }
 },
 "nbformat": 4,
 "nbformat_minor": 2
}
