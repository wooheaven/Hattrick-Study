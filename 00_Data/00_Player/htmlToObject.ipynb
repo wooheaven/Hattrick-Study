{
 "cells": [
  {
   "cell_type": "code",
   "execution_count": 1,
   "metadata": {
    "collapsed": true
   },
   "outputs": [],
   "source": [
    "# inport BeautifulSoup\n",
    "import re\n",
    "from bs4 import BeautifulSoup"
   ]
  },
  {
   "cell_type": "code",
   "execution_count": 2,
   "metadata": {
    "collapsed": true
   },
   "outputs": [],
   "source": [
    "folder = \"20170617\""
   ]
  },
  {
   "cell_type": "code",
   "execution_count": 3,
   "metadata": {
    "collapsed": true
   },
   "outputs": [],
   "source": [
    "file=open(folder + \"/a.html\", \"r\")\n",
    "soup = BeautifulSoup(file.read(), \"html.parser\")\n",
    "file.close()"
   ]
  },
  {
   "cell_type": "code",
   "execution_count": 4,
   "metadata": {
    "collapsed": true
   },
   "outputs": [],
   "source": [
    "column = 'Name,Age,TSI,PayPerWeek,Form,Stamina,Special,Experience,Leadership,Loyalty,Keeper,Defending,Playmaking,Winger,Passing,Scoring,SetPieces'\n",
    "f = open(folder + '/player.txt', 'a', encoding='utf-8')\n",
    "f.write(column +'\\n')\n",
    "f.close()"
   ]
  },
  {
   "cell_type": "code",
   "execution_count": 5,
   "metadata": {
    "scrolled": true
   },
   "outputs": [
    {
     "name": "stdout",
     "output_type": "stream",
     "text": [
      "1. Jee-Seung Oh,21세 61일,2670,990000,5,6,,3,4,20,6,3,1,1,1,1,6\n",
      "2. Myung-Jin Min,1    28세 0일,1950,1090000,4,7,,5,1,20,6,4,1,1,2,1,2\n",
      "3. Eun-Seok Hong,28세 95일,500,300000,5,6,,4,5,20,1,6,6,3,2,2,4\n",
      "4. Ji-Woon Lee,18세 111일,910,390000,5,6,,2,5,20,1,7,4,3,5,2,5\n",
      "5. Jang-Soo Choi,30세 45일,150,280000,3,6,빠름,5,5,20,1,6,4,4,2,1,7\n",
      "6. Jae-Shin Cha,26세 92일,1140,390000,6,6,,4,5,20,1,7,3,6,3,2,6\n",
      "7. In-Moo Byon,31세 80일,550,300000,5,6,,5,1,20,2,6,5,5,5,3,6\n",
      "8. Hong-Chan Son,21세 40일,980,310000,6,6,,3,5,20,1,5,6,5,5,1,4\n",
      "9. Hoi-Taek Park,19세 47일,770,330000,4,5,예측못함,2,2,20,1,5,6,3,6,3,6\n",
      "10. Kwang-Eul Jeon,23세 46일,1370,430000,6,6,,3,4,20,1,6,7,3,3,2,5\n",
      "11. Kwang-Hwan Yun,26세 13일,810,330000,6,6,,3,6,20,2,5,6,3,5,2,6\n",
      "12. Chan-Myung Lee,25세 22일,970,410000,6,7,,4,3,20,1,3,7,3,4,3,4\n",
      "13. Sung-Kook Han,21세 10일,1190,330000,5,6,공 마술사,3,2,20,1,5,6,6,5,2,5\n",
      "14. Se-Jong Cho,28세 10일,710,290000,5,6,,4,4,20,1,5,5,6,3,4,4\n",
      "15. Man-Ok Lee,22세 63일,1970,350000,6,6,예측못함,3,5,20,1,5,5,7,6,2,4\n",
      "16. Dong-Shik Kim,18세 57일,990,410000,4,6,,2,6,20,1,3,3,6,4,7,6\n",
      "17. Seung-Mee Kim,33세 108일,200,310000,6,6,예측못함,6,2,20,1,3,4,4,4,7,5\n",
      "18. Kwang-Rae Kim,26세 17일,1090,310000,6,6,헤딩,3,3,20,1,2,5,3,6,6,2\n",
      "19. Eui-Soo Park,18세 31일,300,450000,6,5,,1,5,20,4,2,1,1,1,1,2\n",
      "20. Jader da Matta,31세 86일,890,384000,5,6,,6,4,1,2,6,6,5,6,2,5\n",
      "21. Jitse Haes,31세 15일,930,384000,6,6,,5,4,2,2,6,6,5,6,2,5\n",
      "22. Keith Esser,31세 32일,1020,372000,5,7,빠름,6,5,1,2,6,6,6,6,3,6\n",
      "23. Mathias Piron,31세 96일,870,372000,5,6,공 마술사,5,6,2,2,6,6,6,6,3,6\n",
      "24. Philippe Morel,32세 110일,410,372000,4,5,예측못함,5,5,1,2,6,6,5,6,3,6\n",
      "25. Pylyp Nagorniak,26세 57일,1400,444000,4,5,,2,5,2,1,6,7,3,6,3,6\n",
      "26. Türker Arkan,32세 74일,1030,420000,6,6,,6,1,1,2,6,7,5,6,2,6\n"
     ]
    }
   ],
   "source": [
    "for div in soup.find_all(\"div\",\"playerInfo\"):\n",
    "    # get String\n",
    "    line = div.get_text()\n",
    "    \n",
    "    # parsing String\n",
    "    line = line.replace(':\\n                \\n\\n ', ':')\n",
    "    line = line.replace('\\n\\n\\n', '')\n",
    "    line = line.replace('\\n\\n                        1', '\\n1')\n",
    "    line = line.replace('\\n\\n                        2', '\\n2')\n",
    "    line = line.replace('\\n\\n                        3', '\\n3')\n",
    "    line = line.replace('TSI = ','\\nTSI:')\n",
    "    line = line.replace('\\xa0', '')\n",
    "    line = line.replace(', 임금 = ', '\\n임금:')\n",
    "    line = line.replace('Won', ' Won\\n')\n",
    "    line = line.replace('form, ', 'form\\n')\n",
    "    if line.find('체력 [') > -1 :\n",
    "        line = line.replace('체력 [', '체력\\n특수능력:')\n",
    "        line = line.replace(\"예측할 수 없음\", \"예측못함\")\n",
    "        line = line.replace(']', '\\n')\n",
    "    else :\n",
    "        line = line.replace('체력', '체력\\n특수능력:\\n')\n",
    "    line = line.replace('경험과 ', '경험\\n')\n",
    "    line = line.replace('리더십 능력', '리더십능력\\n')\n",
    "    line = line.replace('\\n\\n', '\\n')\n",
    "    line = line.replace('\\n                    ', '')\n",
    "    line = line.replace('충성도 ', '충성도:')\n",
    "    line = line.replace('골키핑', '\\n골키핑')\n",
    "    line = line.replace('수비력','\\n수비력')\n",
    "    line = line.replace('플레이메이킹', '\\n플레이메이킹')\n",
    "    line = line.replace('윙어', '\\n윙어')\n",
    "    line = line.replace('패스력','\\n패스력')\n",
    "    line = line.replace('득점력', '\\n득점력')\n",
    "    line = line.replace('세트 피스','\\n세트피스')\n",
    "    \n",
    "    line = line.replace('신의 경지','20')\n",
    "    line = line.replace('초월적', '19')\n",
    "    line = line.replace('마술적', '18')\n",
    "    line = line.replace('전설적', '17')\n",
    "    line = line.replace('외계인', '16')\n",
    "    line = line.replace('막강함', '15')\n",
    "    line = line.replace('초자연적', '14')\n",
    "    line = line.replace('세계 최고', '13')\n",
    "    line = line.replace('훌륭함', '12')\n",
    "    line = line.replace('눈부심', '11')\n",
    "    line = line.replace('걸출함', '10')\n",
    "    line = line.replace('강력함', '9')\n",
    "    line = line.replace('뛰어남', '8')\n",
    "    line = line.replace('우수', '7')\n",
    "    line = line.replace('무난함', '6')\n",
    "    line = line.replace('불충분함', '5')\n",
    "    line = line.replace('약함', '4')\n",
    "    line = line.replace('나쁨', '3')\n",
    "    line = line.replace('형편 없음', '2')\n",
    "    line = line.replace('최악', '1')\n",
    "    line = line.replace('없음', '0')\n",
    "    \n",
    "    line = line.replace('(\\n', '(')\n",
    "    line = line.replace('\\n (', ':')\n",
    "    line = line.replace(')', '')\n",
    "    \n",
    "    line = line.replace('Je-Min Jung    ', 'Je-Min Jung\\n')\n",
    "    line = line.replace('\\n', ',')\n",
    "    \n",
    "    # name, age, TSI, pay per week, form, health(체력),\n",
    "    \n",
    "    line = line.replace(' 세', '세')\n",
    "    line = line.replace(' 일', '일')\n",
    "    line = line.replace('TSI:', '')\n",
    "    line = line.replace('임금:주급 ', '')\n",
    "    line = line.replace('0 Won','0')\n",
    "    line = line.replace(' form', '')\n",
    "    line = line.replace(' 체력', '')\n",
    "    line = line.replace('특수능력:', '')\n",
    "    line = line.replace(' 경험', '')\n",
    "    line = line.replace(' 리더십능력', '')\n",
    "    line = line.replace('충성도:', '')\n",
    "    line = line.replace('골키핑:', '')\n",
    "    line = line.replace('수비력:', '')\n",
    "    line = line.replace('플레이메이킹:', '')\n",
    "    line = line.replace('윙어:', '')\n",
    "    line = line.replace('패스력:', '')\n",
    "    line = line.replace('득점력:', '')\n",
    "    line = line.replace('세트피스:', '')\n",
    "    \n",
    "    line = re.sub(r'[0-9]{4}-[0-9]{2}-[0-9]{2}:.*,', \"\", line)\n",
    "    \n",
    "    line.encode('utf-8')\n",
    "    f = open(folder + '/player.txt', 'a', encoding='utf-8')\n",
    "       \n",
    "    for lines in line.split('\\n'):\n",
    "        if (re.match('^[0-9]{1,2}\\. ', lines)) :\n",
    "            lines = re.sub(r',$', \"\", lines)\n",
    "            print(lines)\n",
    "            f.write(lines +'\\n')\n",
    "    f.close()"
   ]
  },
  {
   "cell_type": "code",
   "execution_count": null,
   "metadata": {
    "collapsed": true
   },
   "outputs": [],
   "source": [
    "# cat player.txt"
   ]
  },
  {
   "cell_type": "code",
   "execution_count": 6,
   "metadata": {
    "collapsed": true
   },
   "outputs": [],
   "source": [
    "import csv"
   ]
  },
  {
   "cell_type": "code",
   "execution_count": 16,
   "metadata": {},
   "outputs": [
    {
     "name": "stdout",
     "output_type": "stream",
     "text": [
      "20170617 ['1. Jee-Seung Oh', '21세 61일', '2670', '990000', '5', '6', '', '3', '4', '20', '6', '3', '1', '1', '1', '1', '6']\n",
      "20170617 ['2. Myung-Jin Min', '28세 0일', '1950', '1090000', '4', '7', '', '5', '1', '20', '6', '4', '1', '1', '2', '1', '2']\n",
      "20170617 ['3. Eun-Seok Hong', '28세 95일', '500', '300000', '5', '6', '', '4', '5', '20', '1', '6', '6', '3', '2', '2', '4']\n",
      "20170617 ['4. Ji-Woon Lee', '18세 111일', '910', '390000', '5', '6', '', '2', '5', '20', '1', '7', '4', '3', '5', '2', '5']\n",
      "20170617 ['5. Jang-Soo Choi', '30세 45일', '150', '280000', '3', '6', '빠름', '5', '5', '20', '1', '6', '4', '4', '2', '1', '7']\n",
      "20170617 ['6. Jae-Shin Cha', '26세 92일', '1140', '390000', '6', '6', '', '4', '5', '20', '1', '7', '3', '6', '3', '2', '6']\n",
      "20170617 ['7. In-Moo Byon', '31세 80일', '550', '300000', '5', '6', '', '5', '1', '20', '2', '6', '5', '5', '5', '3', '6']\n",
      "20170617 ['8. Hong-Chan Son', '21세 40일', '980', '310000', '6', '6', '', '3', '5', '20', '1', '5', '6', '5', '5', '1', '4']\n",
      "20170617 ['9. Hoi-Taek Park', '19세 47일', '770', '330000', '4', '5', '예측못함', '2', '2', '20', '1', '5', '6', '3', '6', '3', '6']\n",
      "20170617 ['10. Kwang-Eul Jeon', '23세 46일', '1370', '430000', '6', '6', '', '3', '4', '20', '1', '6', '7', '3', '3', '2', '5']\n",
      "20170617 ['11. Kwang-Hwan Yun', '26세 13일', '810', '330000', '6', '6', '', '3', '6', '20', '2', '5', '6', '3', '5', '2', '6']\n",
      "20170617 ['12. Chan-Myung Lee', '25세 22일', '970', '410000', '6', '7', '', '4', '3', '20', '1', '3', '7', '3', '4', '3', '4']\n",
      "20170617 ['13. Sung-Kook Han', '21세 10일', '1190', '330000', '5', '6', '공 마술사', '3', '2', '20', '1', '5', '6', '6', '5', '2', '5']\n",
      "20170617 ['14. Se-Jong Cho', '28세 10일', '710', '290000', '5', '6', '', '4', '4', '20', '1', '5', '5', '6', '3', '4', '4']\n",
      "20170617 ['15. Man-Ok Lee', '22세 63일', '1970', '350000', '6', '6', '예측못함', '3', '5', '20', '1', '5', '5', '7', '6', '2', '4']\n",
      "20170617 ['16. Dong-Shik Kim', '18세 57일', '990', '410000', '4', '6', '', '2', '6', '20', '1', '3', '3', '6', '4', '7', '6']\n",
      "20170617 ['17. Seung-Mee Kim', '33세 108일', '200', '310000', '6', '6', '예측못함', '6', '2', '20', '1', '3', '4', '4', '4', '7', '5']\n",
      "20170617 ['18. Kwang-Rae Kim', '26세 17일', '1090', '310000', '6', '6', '헤딩', '3', '3', '20', '1', '2', '5', '3', '6', '6', '2']\n",
      "20170617 ['19. Eui-Soo Park', '18세 31일', '300', '450000', '6', '5', '', '1', '5', '20', '4', '2', '1', '1', '1', '1', '2']\n",
      "20170617 ['20. Jader da Matta', '31세 86일', '890', '384000', '5', '6', '', '6', '4', '1', '2', '6', '6', '5', '6', '2', '5']\n",
      "20170617 ['21. Jitse Haes', '31세 15일', '930', '384000', '6', '6', '', '5', '4', '2', '2', '6', '6', '5', '6', '2', '5']\n",
      "20170617 ['22. Keith Esser', '31세 32일', '1020', '372000', '5', '7', '빠름', '6', '5', '1', '2', '6', '6', '6', '6', '3', '6']\n",
      "20170617 ['23. Mathias Piron', '31세 96일', '870', '372000', '5', '6', '공 마술사', '5', '6', '2', '2', '6', '6', '6', '6', '3', '6']\n",
      "20170617 ['24. Philippe Morel', '32세 110일', '410', '372000', '4', '5', '예측못함', '5', '5', '1', '2', '6', '6', '5', '6', '3', '6']\n",
      "20170617 ['25. Pylyp Nagorniak', '26세 57일', '1400', '444000', '4', '5', '', '2', '5', '2', '1', '6', '7', '3', '6', '3', '6']\n",
      "20170617 ['26. Türker Arkan', '32세 74일', '1030', '420000', '6', '6', '', '6', '1', '1', '2', '6', '7', '5', '6', '2', '6']\n"
     ]
    }
   ],
   "source": [
    "with open(folder + '/player.txt', 'r', encoding='utf-8') as f:\n",
    "    reader = csv.reader(f, delimiter=',')\n",
    "    for row in reader:\n",
    "        if(re.match('^[0-9]{1,2}\\. ', row[0])) :\n",
    "            print(folder, row)\n",
    "            insertPlayer(folder, row)"
   ]
  },
  {
   "cell_type": "code",
   "execution_count": 10,
   "metadata": {
    "collapsed": true
   },
   "outputs": [],
   "source": [
    "import psycopg2"
   ]
  },
  {
   "cell_type": "code",
   "execution_count": 12,
   "metadata": {
    "scrolled": true
   },
   "outputs": [
    {
     "data": {
      "text/plain": [
       "\"dbname='mydatabase' user='myuser' host='localhost' port='65432' password='123qwe'\""
      ]
     },
     "execution_count": 12,
     "metadata": {},
     "output_type": "execute_result"
    }
   ],
   "source": [
    "connect_str = \"dbname='mydatabase' user='myuser' host='localhost' port='65432' password='123qwe'\"\n",
    "connect_str"
   ]
  },
  {
   "cell_type": "code",
   "execution_count": null,
   "metadata": {
    "collapsed": true
   },
   "outputs": [],
   "source": [
    "try:\n",
    "    # use our connection values to establish a connection\n",
    "    connect_str = \"dbname='mydatabase' user='myuser' host='localhost' port='65432' password='123qwe'\"\n",
    "    conn = psycopg2.connect(connect_str)\n",
    "    \n",
    "except Exception as e:\n",
    "    print(\"Uh oh, can't connect. Invalid dbname, user or password?\")\n",
    "    print(e)"
   ]
  },
  {
   "cell_type": "code",
   "execution_count": null,
   "metadata": {
    "collapsed": true
   },
   "outputs": [],
   "source": [
    "# create a psycopg2 cursor that can execute queries\n",
    "cursor = conn.cursor()\n",
    "cursor"
   ]
  },
  {
   "cell_type": "code",
   "execution_count": null,
   "metadata": {
    "collapsed": true
   },
   "outputs": [],
   "source": [
    "cursor.execute(\"\"\"DROP TABLE IF EXISTS player \"\"\")\n",
    "conn.commit()"
   ]
  },
  {
   "cell_type": "code",
   "execution_count": null,
   "metadata": {
    "collapsed": true
   },
   "outputs": [],
   "source": [
    "cursor.execute(\"\"\"\n",
    "CREATE TABLE player (\n",
    "    Date DATE, \n",
    "    Name VARCHAR(30), \n",
    "    Age VARCHAR(10), \n",
    "    TSI BIGINT, \n",
    "    PayPerWeek BIGINT, \n",
    "    Form INT, \n",
    "    Stamina INT, \n",
    "    Special VARCHAR(8),\n",
    "    Experience INT,\n",
    "    Leadership INT,\n",
    "    Loyalty INT,\n",
    "    Keeper INT,\n",
    "    Defending INT,\n",
    "    Playmaking INT,\n",
    "    Winger INT,\n",
    "    Passing INT,\n",
    "    Scoring INT,\n",
    "    SetPieces INT\n",
    ") ;\"\"\")\n",
    "conn.commit()"
   ]
  },
  {
   "cell_type": "code",
   "execution_count": null,
   "metadata": {
    "collapsed": true
   },
   "outputs": [],
   "source": [
    "# insert a row to table\n",
    "cursor.execute(\"\"\"INSERT INTO player (SELECT to_date('20170609','YYYYMMDD')) ;\"\"\")\n",
    "conn.commit()"
   ]
  },
  {
   "cell_type": "code",
   "execution_count": 15,
   "metadata": {
    "collapsed": true
   },
   "outputs": [],
   "source": [
    "def insertPlayer(folder, row):\n",
    "    conn = None\n",
    "    try:\n",
    "        conn = psycopg2.connect(connect_str)\n",
    "        cur = conn.cursor()\n",
    "        sql = \"\"\"INSERT INTO player (SELECT to_date(%s, 'YYYYMMDD'), %s, %s, %s, %s, %s, %s, %s, %s, %s, %s, %s, %s, %s, %s, %s, %s, %s) ;\"\"\"\n",
    "        cur.execute(sql, (folder,row[0],row[1],row[2],row[3],row[4],row[5],row[6],row[7],row[8],row[9],row[10],row[11],row[12],row[13],row[14],row[15],row[16]))\n",
    "        conn.commit()\n",
    "    except (Exception, psycopg2.DatabaseError) as error:\n",
    "        print(error)\n",
    "    finally:\n",
    "        if conn is not None:\n",
    "            conn.close()"
   ]
  },
  {
   "cell_type": "code",
   "execution_count": null,
   "metadata": {
    "collapsed": true
   },
   "outputs": [],
   "source": [
    "# run a SELECT statement - no data in there, but we can try it\n",
    "cursor.execute(\"\"\"SELECT * from player ;\"\"\")\n",
    "rows = cursor.fetchall()\n",
    "print(rows)"
   ]
  },
  {
   "cell_type": "code",
   "execution_count": 13,
   "metadata": {
    "collapsed": true
   },
   "outputs": [],
   "source": [
    "def selectPlayer(tableName):\n",
    "    conn = None\n",
    "    try:\n",
    "        conn = psycopg2.connect(connect_str)\n",
    "        cur = conn.cursor()\n",
    "        cur.execute(\"SELECT * FROM \" + tableName)\n",
    "        row = cur.fetchone()\n",
    "        while row is not None:\n",
    "            print(row)\n",
    "            row = cur.fetchone()\n",
    "    except (Exception, psycopg2.DatabaseError) as error:\n",
    "            print(error)\n",
    "    finally:\n",
    "        if conn is not None:\n",
    "            conn.close()"
   ]
  },
  {
   "cell_type": "code",
   "execution_count": 17,
   "metadata": {},
   "outputs": [
    {
     "name": "stdout",
     "output_type": "stream",
     "text": [
      "(datetime.date(2017, 6, 10), '1. Jee-Seung Oh', '21세 59일', 2670, 990000, 5, 6, '', 3, 4, 20, 6, 3, 1, 1, 1, 1, 6)\n",
      "(datetime.date(2017, 6, 10), '2. Myung-Jin Min', '27세 110일', 1930, 930000, 4, 7, '', 5, 1, 20, 6, 4, 1, 1, 2, 1, 2)\n",
      "(datetime.date(2017, 6, 10), '3. Eun-Seok Hong', '28세 93일', 500, 300000, 5, 6, '', 4, 5, 20, 1, 6, 6, 3, 2, 2, 4)\n",
      "(datetime.date(2017, 6, 10), '4. Ji-Woon Lee', '18세 109일', 910, 390000, 5, 6, '', 2, 5, 20, 1, 7, 4, 3, 5, 2, 5)\n",
      "(datetime.date(2017, 6, 10), '5. Jang-Soo Choi', '30세 43일', 150, 280000, 3, 6, '빠름', 5, 5, 20, 1, 6, 4, 4, 2, 1, 7)\n",
      "(datetime.date(2017, 6, 10), '6. Jae-Shin Cha', '26세 90일', 1120, 390000, 6, 6, '', 4, 5, 20, 1, 7, 3, 6, 3, 2, 6)\n",
      "(datetime.date(2017, 6, 10), '7. In-Moo Byon', '31세 78일', 560, 300000, 5, 6, '', 5, 1, 20, 2, 6, 5, 5, 5, 3, 6)\n",
      "(datetime.date(2017, 6, 10), '8. Hong-Chan Son', '21세 38일', 980, 310000, 6, 6, '', 3, 5, 20, 1, 5, 6, 5, 5, 1, 4)\n",
      "(datetime.date(2017, 6, 10), '9. Hoi-Taek Park', '19세 45일', 770, 330000, 4, 5, '예측못함', 2, 2, 20, 1, 5, 6, 3, 6, 3, 6)\n",
      "(datetime.date(2017, 6, 10), '10. Kwang-Eul Jeon', '23세 44일', 1370, 430000, 6, 6, '', 3, 4, 20, 1, 6, 7, 3, 3, 2, 5)\n",
      "(datetime.date(2017, 6, 10), '11. Kwang-Hwan Yun', '26세 11일', 810, 330000, 6, 6, '', 3, 6, 20, 2, 5, 6, 3, 5, 2, 6)\n",
      "(datetime.date(2017, 6, 10), '12. Chan-Myung Lee', '25세 20일', 970, 410000, 6, 7, '', 3, 3, 20, 1, 3, 7, 3, 4, 3, 4)\n",
      "(datetime.date(2017, 6, 10), '13. Sung-Kook Han', '21세 8일', 1190, 330000, 5, 6, '공 마술사', 2, 2, 20, 1, 5, 6, 6, 5, 2, 5)\n",
      "(datetime.date(2017, 6, 10), '14. Se-Jong Cho', '28세 8일', 710, 290000, 5, 6, '', 4, 4, 20, 1, 5, 5, 6, 3, 4, 4)\n",
      "(datetime.date(2017, 6, 10), '15. Man-Ok Lee', '22세 61일', 1970, 350000, 6, 6, '예측못함', 3, 5, 20, 1, 5, 5, 7, 6, 2, 4)\n",
      "(datetime.date(2017, 6, 10), '16. Dong-Shik Kim', '18세 55일', 990, 410000, 4, 6, '', 2, 6, 20, 1, 3, 3, 6, 4, 7, 6)\n",
      "(datetime.date(2017, 6, 10), '17. Seung-Mee Kim', '33세 106일', 200, 310000, 6, 6, '예측못함', 6, 2, 20, 1, 3, 4, 4, 4, 7, 5)\n",
      "(datetime.date(2017, 6, 10), '18. Kwang-Rae Kim', '26세 15일', 1090, 310000, 6, 6, '헤딩', 3, 3, 20, 1, 2, 5, 3, 6, 6, 2)\n",
      "(datetime.date(2017, 6, 17), '1. Jee-Seung Oh', '21세 61일', 2670, 990000, 5, 6, '', 3, 4, 20, 6, 3, 1, 1, 1, 1, 6)\n",
      "(datetime.date(2017, 6, 17), '2. Myung-Jin Min', '28세 0일', 1950, 1090000, 4, 7, '', 5, 1, 20, 6, 4, 1, 1, 2, 1, 2)\n",
      "(datetime.date(2017, 6, 17), '3. Eun-Seok Hong', '28세 95일', 500, 300000, 5, 6, '', 4, 5, 20, 1, 6, 6, 3, 2, 2, 4)\n",
      "(datetime.date(2017, 6, 17), '4. Ji-Woon Lee', '18세 111일', 910, 390000, 5, 6, '', 2, 5, 20, 1, 7, 4, 3, 5, 2, 5)\n",
      "(datetime.date(2017, 6, 17), '5. Jang-Soo Choi', '30세 45일', 150, 280000, 3, 6, '빠름', 5, 5, 20, 1, 6, 4, 4, 2, 1, 7)\n",
      "(datetime.date(2017, 6, 17), '6. Jae-Shin Cha', '26세 92일', 1140, 390000, 6, 6, '', 4, 5, 20, 1, 7, 3, 6, 3, 2, 6)\n",
      "(datetime.date(2017, 6, 17), '7. In-Moo Byon', '31세 80일', 550, 300000, 5, 6, '', 5, 1, 20, 2, 6, 5, 5, 5, 3, 6)\n",
      "(datetime.date(2017, 6, 17), '8. Hong-Chan Son', '21세 40일', 980, 310000, 6, 6, '', 3, 5, 20, 1, 5, 6, 5, 5, 1, 4)\n",
      "(datetime.date(2017, 6, 17), '9. Hoi-Taek Park', '19세 47일', 770, 330000, 4, 5, '예측못함', 2, 2, 20, 1, 5, 6, 3, 6, 3, 6)\n",
      "(datetime.date(2017, 6, 17), '10. Kwang-Eul Jeon', '23세 46일', 1370, 430000, 6, 6, '', 3, 4, 20, 1, 6, 7, 3, 3, 2, 5)\n",
      "(datetime.date(2017, 6, 17), '11. Kwang-Hwan Yun', '26세 13일', 810, 330000, 6, 6, '', 3, 6, 20, 2, 5, 6, 3, 5, 2, 6)\n",
      "(datetime.date(2017, 6, 17), '12. Chan-Myung Lee', '25세 22일', 970, 410000, 6, 7, '', 4, 3, 20, 1, 3, 7, 3, 4, 3, 4)\n",
      "(datetime.date(2017, 6, 17), '13. Sung-Kook Han', '21세 10일', 1190, 330000, 5, 6, '공 마술사', 3, 2, 20, 1, 5, 6, 6, 5, 2, 5)\n",
      "(datetime.date(2017, 6, 17), '14. Se-Jong Cho', '28세 10일', 710, 290000, 5, 6, '', 4, 4, 20, 1, 5, 5, 6, 3, 4, 4)\n",
      "(datetime.date(2017, 6, 17), '15. Man-Ok Lee', '22세 63일', 1970, 350000, 6, 6, '예측못함', 3, 5, 20, 1, 5, 5, 7, 6, 2, 4)\n",
      "(datetime.date(2017, 6, 17), '16. Dong-Shik Kim', '18세 57일', 990, 410000, 4, 6, '', 2, 6, 20, 1, 3, 3, 6, 4, 7, 6)\n",
      "(datetime.date(2017, 6, 17), '17. Seung-Mee Kim', '33세 108일', 200, 310000, 6, 6, '예측못함', 6, 2, 20, 1, 3, 4, 4, 4, 7, 5)\n",
      "(datetime.date(2017, 6, 17), '18. Kwang-Rae Kim', '26세 17일', 1090, 310000, 6, 6, '헤딩', 3, 3, 20, 1, 2, 5, 3, 6, 6, 2)\n",
      "(datetime.date(2017, 6, 17), '19. Eui-Soo Park', '18세 31일', 300, 450000, 6, 5, '', 1, 5, 20, 4, 2, 1, 1, 1, 1, 2)\n",
      "(datetime.date(2017, 6, 17), '20. Jader da Matta', '31세 86일', 890, 384000, 5, 6, '', 6, 4, 1, 2, 6, 6, 5, 6, 2, 5)\n",
      "(datetime.date(2017, 6, 17), '21. Jitse Haes', '31세 15일', 930, 384000, 6, 6, '', 5, 4, 2, 2, 6, 6, 5, 6, 2, 5)\n",
      "(datetime.date(2017, 6, 17), '22. Keith Esser', '31세 32일', 1020, 372000, 5, 7, '빠름', 6, 5, 1, 2, 6, 6, 6, 6, 3, 6)\n",
      "(datetime.date(2017, 6, 17), '23. Mathias Piron', '31세 96일', 870, 372000, 5, 6, '공 마술사', 5, 6, 2, 2, 6, 6, 6, 6, 3, 6)\n",
      "(datetime.date(2017, 6, 17), '24. Philippe Morel', '32세 110일', 410, 372000, 4, 5, '예측못함', 5, 5, 1, 2, 6, 6, 5, 6, 3, 6)\n",
      "(datetime.date(2017, 6, 17), '25. Pylyp Nagorniak', '26세 57일', 1400, 444000, 4, 5, '', 2, 5, 2, 1, 6, 7, 3, 6, 3, 6)\n",
      "(datetime.date(2017, 6, 17), '26. Türker Arkan', '32세 74일', 1030, 420000, 6, 6, '', 6, 1, 1, 2, 6, 7, 5, 6, 2, 6)\n"
     ]
    }
   ],
   "source": [
    "selectPlayer(\"player\")"
   ]
  },
  {
   "cell_type": "code",
   "execution_count": null,
   "metadata": {
    "collapsed": true
   },
   "outputs": [],
   "source": [
    "conn.close()"
   ]
  }
 ],
 "metadata": {
  "kernelspec": {
   "display_name": "Python 3",
   "language": "python",
   "name": "python3"
  },
  "language_info": {
   "codemirror_mode": {
    "name": "ipython",
    "version": 3
   },
   "file_extension": ".py",
   "mimetype": "text/x-python",
   "name": "python",
   "nbconvert_exporter": "python",
   "pygments_lexer": "ipython3",
   "version": "3.6.0"
  }
 },
 "nbformat": 4,
 "nbformat_minor": 2
}
