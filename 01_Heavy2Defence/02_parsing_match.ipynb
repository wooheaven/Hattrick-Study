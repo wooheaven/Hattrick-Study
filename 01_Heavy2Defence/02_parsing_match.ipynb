{
 "cells": [
  {
   "cell_type": "code",
   "execution_count": 1,
   "metadata": {},
   "outputs": [
    {
     "name": "stderr",
     "output_type": "stream",
     "text": [
      "/home/rwoo/02_WorkSpace/04_Hattrick/Hattrick-Study/99_Utility/ht-venv/lib/python3.6/site-packages/psycopg2/__init__.py:144: UserWarning: The psycopg2 wheel package will be renamed from release 2.8; in order to keep installing from binary please use \"pip install psycopg2-binary\" instead. For details see: <http://initd.org/psycopg/docs/install.html#binary-install-from-pypi>.\n",
      "  \"\"\")\n"
     ]
    }
   ],
   "source": [
    "import sys\n",
    "\n",
    "sys.path.insert(0, '../03_Remake_with_TDD/algorithms')\n",
    "from ht_time import *\n",
    "\n",
    "sys.path.insert(0, '../03_Remake_with_TDD/postgresql')\n",
    "from ht_player_postgresql import *\n",
    "from ht_match_postgresql import *"
   ]
  },
  {
   "cell_type": "code",
   "execution_count": 2,
   "metadata": {},
   "outputs": [
    {
     "name": "stdout",
     "output_type": "stream",
     "text": [
      "folder = 2019/01/13\n"
     ]
    }
   ],
   "source": [
    "ht_time = HattrickTime()\n",
    "folder = ht_time.findLastSunOrWed()\n",
    "# folder = '2018/12/16'\n",
    "print(\"folder =\", folder)"
   ]
  },
  {
   "cell_type": "code",
   "execution_count": 3,
   "metadata": {},
   "outputs": [],
   "source": [
    "import re\n",
    "from bs4 import BeautifulSoup"
   ]
  },
  {
   "cell_type": "code",
   "execution_count": 4,
   "metadata": {},
   "outputs": [],
   "source": [
    "import sys\n",
    "sys.path.insert(0, '../97_Parse/')\n",
    "from parseMatch import *\n",
    "\n",
    "sys.path.insert(0, '../98_Crawler/01_DualMonitor/')\n",
    "from DualMonitor import getIsDualMonitor\n",
    "\n",
    "sys.path.insert(0, '../98_Crawler/02_WebBrowser/')\n",
    "from FirefoxTab import clickTabOfFireFox\n",
    "from crawMatch import *\n",
    "\n",
    "sys.path.insert(0, '../98_Crawler/03_OnScreen/')\n",
    "from Empty import clickEmpty\n",
    "from MoveScroll import moveScroll\n",
    "from MoveFindMoveClick import moveByImage, moveByImageWithModify\n",
    "\n",
    "sys.path.insert(0, '../98_Crawler/04_Login/')\n",
    "from HattrickLogInOut import clickHattrickLogin, clickHattrickLogout"
   ]
  },
  {
   "cell_type": "code",
   "execution_count": 33,
   "metadata": {
    "scrolled": true
   },
   "outputs": [
    {
     "name": "stdout",
     "output_type": "stream",
     "text": [
      "use 1 monitor = 1920 x 1080 isDualMonitor= False\n"
     ]
    }
   ],
   "source": [
    "# isDualMonitor\n",
    "isDualMonitor = getIsDualMonitor()\n",
    "\n",
    "clickTabOfFireFox(4, isDualMonitor)\n",
    "\n",
    "clickEmpty(305, isDualMonitor)\n",
    "moveScroll(20)\n",
    "clickHattrickLogin(510, 305, isDualMonitor)"
   ]
  },
  {
   "cell_type": "code",
   "execution_count": 6,
   "metadata": {},
   "outputs": [
    {
     "name": "stdout",
     "output_type": "stream",
     "text": [
      "use 1 monitor = 1920 x 1080 isDualMonitor= False\n",
      "screen-MyClub.png location on Screen (517, 338, 79, 44)\n",
      "screen-Match.png location on Screen (380, 700, 84, 100)\n"
     ]
    }
   ],
   "source": [
    "# isDualMonitor\n",
    "isDualMonitor = getIsDualMonitor()\n",
    "\n",
    "# Hattrick HeavyDefence Tab\n",
    "clickTabOfFireFox(4, isDualMonitor)\n",
    "\n",
    "# Hattrick Login by Facebook\n",
    "clickEmpty(305, isDualMonitor)\n",
    "moveScroll(20)\n",
    "clickHattrickLogin(510, 305, isDualMonitor)\n",
    "\n",
    "# Hattrick MyClub\n",
    "moveScroll(20)\n",
    "moveByImage(517, 338, 79, 44, isDualMonitor, 'screen-MyClub.png')\n",
    "\n",
    "# Hattrick Match\n",
    "clickEmpty(700, isDualMonitor)\n",
    "moveScroll(20)\n",
    "moveByImage(380, 700, 84, 100, isDualMonitor, 'screen-Match.png')\n",
    "\n",
    "# Hattrick LastMatch\n",
    "clickEmpty(831, isDualMonitor)\n",
    "moveScroll(20)\n",
    "# moveByImageWithModify(1040, 831, 15, -15, 58, 48, isDualMonitor, 'screen-LastMatch.png')\n",
    "moveAndClick(1095, 845, isDualMonitor)\n",
    "time.sleep(5)\n",
    "\n",
    "# FirefoxFile\n",
    "moveAndClick(90, 15, isDualMonitor)\n",
    "\n",
    "# SavePageAs\n",
    "moveAndClick(91, 130, isDualMonitor)\n",
    "\n",
    "# Type match\n",
    "time.sleep(0.5)\n",
    "typeFileName()\n",
    "\n",
    "# rwoo folder\n",
    "moveAndClick(550, 313, isDualMonitor)\n",
    "moveAndClick(550, 313, isDualMonitor)\n",
    "\n",
    "# 02_workspace folder\n",
    "moveAndClicks(880, 400, isDualMonitor, 2)\n",
    "\n",
    "# 04_Hattrick folder\n",
    "moveAndClicks(880, 455, isDualMonitor, 2)\n",
    "\n",
    "# HattrickStudy\n",
    "moveAndClicks(880, 377, isDualMonitor, 2)\n",
    "\n",
    "# 01_Heavy2Defence\n",
    "moveAndClicks(880, 390, isDualMonitor, 2)\n",
    "\n",
    "# 2018\n",
    "moveAndClicks(880, 420, isDualMonitor, 2)\n",
    "\n",
    "# Last Month\n",
    "clickLastMonthOrDay()\n",
    "\n",
    "# Last Day\n",
    "clickLastMonthOrDay()\n",
    "\n",
    "# Save\n",
    "moveAndClicks(1380, 895, isDualMonitor, 2)\n",
    "# moveByImage(1338, 883, 88, 35, isDualMonitor, 'screen-Save.png')\n",
    "\n",
    "# Hattrick Logout by Facebook\n",
    "clickEmpty(336, isDualMonitor)\n",
    "moveScroll(20)\n",
    "clickHattrickLogout(1270, 370, isDualMonitor)\n",
    "\n",
    "# Jupyter Tab\n",
    "clickTabOfFireFox(7, isDualMonitor)"
   ]
  },
  {
   "cell_type": "code",
   "execution_count": 7,
   "metadata": {},
   "outputs": [],
   "source": [
    "from ht_file import *\n",
    "HattrickFile = HattrickFile()"
   ]
  },
  {
   "cell_type": "code",
   "execution_count": 8,
   "metadata": {},
   "outputs": [
    {
     "name": "stdout",
     "output_type": "stream",
     "text": [
      "2019/01/13/match_files\t\t : is exitsted\n",
      "2019/01/13/match_files\t\t : will be removed\n",
      "2019/01/13/match_files\t\t : is not exitsed\n"
     ]
    }
   ],
   "source": [
    "HattrickFile.check_and_delete_folder(folder + '/match_files')"
   ]
  },
  {
   "cell_type": "code",
   "execution_count": 9,
   "metadata": {},
   "outputs": [],
   "source": [
    "from ht_match import *"
   ]
  },
  {
   "cell_type": "code",
   "execution_count": 10,
   "metadata": {},
   "outputs": [],
   "source": [
    "HattrickMatch = HattrickMatch()"
   ]
  },
  {
   "cell_type": "code",
   "execution_count": 11,
   "metadata": {},
   "outputs": [],
   "source": [
    "# ht_player_table_name = 'player'\n",
    "ht_player_table_name = 'player_tmp'"
   ]
  },
  {
   "cell_type": "code",
   "execution_count": 12,
   "metadata": {
    "scrolled": true
   },
   "outputs": [
    {
     "name": "stdout",
     "output_type": "stream",
     "text": [
      "Home\n"
     ]
    }
   ],
   "source": [
    "match_dict_list = HattrickMatch.findMatchList(folder + '/match.html', 'mydatabase2', ht_player_table_name)"
   ]
  },
  {
   "cell_type": "code",
   "execution_count": 13,
   "metadata": {},
   "outputs": [
    {
     "name": "stdout",
     "output_type": "stream",
     "text": [
      "\n",
      "cat match_str_List\n",
      "\n",
      "po,num,rt,sMin,eMin\n",
      "KP,74,5,0,90\n",
      "WB,67,5.5,0,90\n",
      "WB,76,4,0,90\n",
      "CD,59,6,0,90\n",
      "CD,69,4.5,0,90\n",
      "CD,77,3,0,90\n",
      "W,13,6.5,0,90\n",
      "W,15,6,0,80\n",
      "W,63,4.5,80,90\n",
      "IM,10,5.5,0,90\n",
      "IM,12,5,0,60\n",
      "IM,61,6.0,60,90\n",
      "FW,18,5.5,0,70\n",
      "FW,60,5.0,70,90\n"
     ]
    }
   ],
   "source": [
    "match_str_list = HattrickMatch.matchDictListToMatchStrList(match_dict_list)\n",
    "\n",
    "print(\"\\ncat match_str_List\\n\")\n",
    "for str_line in match_str_list:\n",
    "    print(str_line)"
   ]
  },
  {
   "cell_type": "code",
   "execution_count": 14,
   "metadata": {},
   "outputs": [
    {
     "name": "stdout",
     "output_type": "stream",
     "text": [
      "2019/01/13/match.txt\t : is not existed\n"
     ]
    }
   ],
   "source": [
    "HattrickFile.check_and_delete_file(folder + '/match.txt')"
   ]
  },
  {
   "cell_type": "code",
   "execution_count": 15,
   "metadata": {},
   "outputs": [],
   "source": [
    "for line in match_str_list:\n",
    "    with open (folder + '/match.txt', 'a') as f:\n",
    "        f.write(line + \"\\n\")"
   ]
  },
  {
   "cell_type": "code",
   "execution_count": 16,
   "metadata": {},
   "outputs": [],
   "source": [
    "import psycopg2"
   ]
  },
  {
   "cell_type": "code",
   "execution_count": 17,
   "metadata": {},
   "outputs": [
    {
     "data": {
      "text/plain": [
       "<connection object at 0x7f0103183e88; dsn: 'user=myuser password=xxx dbname=mydatabase2 host=localhost port=65432', closed: 0>"
      ]
     },
     "execution_count": 17,
     "metadata": {},
     "output_type": "execute_result"
    }
   ],
   "source": [
    "conn = psycopg2.connect(\"dbname='mydatabase2' user='myuser' host='localhost' port='65432' password='123qwe'\")\n",
    "conn"
   ]
  },
  {
   "cell_type": "code",
   "execution_count": 18,
   "metadata": {},
   "outputs": [],
   "source": [
    "hattrickMatchPostgresql = HattrickMatchPostgreSQL()\n",
    "hattrickPlayerPostgresql = HattrickPlayerPostgreSQL()"
   ]
  },
  {
   "cell_type": "code",
   "execution_count": 19,
   "metadata": {},
   "outputs": [
    {
     "data": {
      "text/plain": [
       "1270"
      ]
     },
     "execution_count": 19,
     "metadata": {},
     "output_type": "execute_result"
    }
   ],
   "source": [
    "hattrickMatchPostgresql.select_count_of_match(conn)"
   ]
  },
  {
   "cell_type": "code",
   "execution_count": 20,
   "metadata": {},
   "outputs": [],
   "source": [
    "import csv\n",
    "with open(folder + '/match.txt', 'r', encoding='utf-8') as f:\n",
    "    reader = csv.reader(f, delimiter=',')\n",
    "    for row in reader:\n",
    "        if(re.match( '^[0-9]{1,2}', row[1] ) ) :\n",
    "            hattrickMatchPostgresql.insert_to_match(conn, folder.replace('/', '-'), row)"
   ]
  },
  {
   "cell_type": "code",
   "execution_count": 21,
   "metadata": {},
   "outputs": [
    {
     "data": {
      "text/plain": [
       "1284"
      ]
     },
     "execution_count": 21,
     "metadata": {},
     "output_type": "execute_result"
    }
   ],
   "source": [
    "hattrickMatchPostgresql.select_count_of_match(conn)"
   ]
  },
  {
   "cell_type": "code",
   "execution_count": 22,
   "metadata": {},
   "outputs": [],
   "source": [
    "hattrickMatchPostgresql.update_rt_of_match(conn, ht_player_table_name)"
   ]
  },
  {
   "cell_type": "code",
   "execution_count": 23,
   "metadata": {},
   "outputs": [
    {
     "name": "stdout",
     "output_type": "stream",
     "text": [
      "KP\t74\t4.5\t0\t90\n",
      "WB\t76\t3.5\t0\t90\n",
      "WB\t67\t5.5\t0\t90\n",
      "CD\t77\t2.5\t0\t90\n",
      "CD\t59\t6.0\t0\t90\n",
      "CD\t69\t4.0\t0\t90\n",
      "W\t15\t6.0\t0\t80\n",
      "W\t63\t4.5\t80\t90\n",
      "W\t13\t6.0\t0\t90\n",
      "IM\t12\t5.0\t0\t60\n",
      "IM\t61\t6.0\t60\t90\n",
      "IM\t10\t5.5\t0\t90\n",
      "FW\t18\t5.5\t0\t70\n",
      "FW\t60\t5.0\t70\t90\n"
     ]
    }
   ],
   "source": [
    "tupleList = hattrickMatchPostgresql.getMatchByDate(folder, conn)\n",
    "hattrickMatchPostgresql.printMatchByDate(tupleList)"
   ]
  },
  {
   "cell_type": "code",
   "execution_count": 24,
   "metadata": {
    "scrolled": true
   },
   "outputs": [
    {
     "name": "stdout",
     "output_type": "stream",
     "text": [
      "2019/01/13/match.txt\t : will be removed\n",
      "2019/01/13/match.txt\t : is not existed\n"
     ]
    }
   ],
   "source": [
    "HattrickFile.check_and_delete_file(folder + '/match.txt')"
   ]
  },
  {
   "cell_type": "code",
   "execution_count": 25,
   "metadata": {},
   "outputs": [],
   "source": [
    "with open ( folder + '/match.txt', 'a' ) as f:\n",
    "    f.write(\"po,num,rt,sMin,eMin\\n\")\n",
    "    f.write( '\\n'.join('%s,%s,%s,%s,%s' % myTuple for myTuple in tupleList) + '\\n' )"
   ]
  },
  {
   "cell_type": "code",
   "execution_count": 26,
   "metadata": {
    "scrolled": true
   },
   "outputs": [
    {
     "name": "stdout",
     "output_type": "stream",
     "text": [
      "date num min/rt |    01   |    74   |\n",
      "----------------|---------|---------|\n",
      "2018-12-16      |         |  90/4.5 |\n",
      "2018-12-19      |  90/3.5 |         |\n",
      "2018-12-26      |  90/3.5 |         |\n",
      "2018-12-30      |         |  90/4.5 |\n",
      "2019-01-02      |  90/3.5 |         |\n",
      "2019-01-06      |         |  90/4.5 |\n",
      "2019-01-09      |  90/4.0 |         |\n",
      "2019-01-13      |         |  90/4.5 |\n"
     ]
    }
   ],
   "source": [
    "tupleList = hattrickMatchPostgresql.getMatchByPoNum(conn, 'KP', [1,74])\n",
    "hattrickMatchPostgresql.printMatchByPoNum(tupleList, [1,74])"
   ]
  },
  {
   "cell_type": "code",
   "execution_count": 27,
   "metadata": {
    "scrolled": false
   },
   "outputs": [
    {
     "name": "stdout",
     "output_type": "stream",
     "text": [
      "date num min/rt |    67   |    71   |    72   |    76   |\n",
      "----------------|---------|---------|---------|---------|\n",
      "2018-12-16      |  90/3.5 |  90/4.0 |         |         |\n",
      "2018-12-19      |         |         |  90/4.0 |  90/3.0 |\n",
      "2018-12-26      |         |  90/4.5 |  90/4.0 |         |\n",
      "2018-12-30      |  90/4.5 |  90/4.0 |         |         |\n",
      "2019-01-02      |         |         |  90/3.5 |  90/3.5 |\n",
      "2019-01-06      |  90/5.0 |  90/4.5 |         |         |\n",
      "2019-01-09      |         |         |  90/4.0 |  90/3.5 |\n",
      "2019-01-13      |  90/5.5 |         |         |  90/3.5 |\n",
      "Num\tb_p\tb_p_v\twbd_p\twb_p\twbtm_p\twbo_p\n",
      "67\tWBd\t9.3\t9.30\t8.54\t8.68\t7.77\n",
      "71\tCD\t8.49\t8.35\t8.31\t8.39\t8.29\n",
      "72\tWBd\t6.97\t6.97\t6.84\t6.80\t6.70\n",
      "76\tCD\t6.63\t6.63\t6.63\t6.63\t6.63\n"
     ]
    }
   ],
   "source": [
    "tupleList = hattrickMatchPostgresql.getMatchByPoNum(conn, 'WB', [67,71,72,76])\n",
    "hattrickMatchPostgresql.printMatchByPoNum(tupleList, [67,71,72,76])\n",
    "tupleList = hattrickPlayerPostgresql.select(conn, ht_player_table_name, folder, [67,71,72,76], 'wb')\n",
    "print('Num', 'b_p', 'b_p_v', 'wbd_p', 'wb_p', 'wbtm_p', 'wbo_p', sep='\\t')\n",
    "hattrickPlayerPostgresql.print(tupleList, sep='\\t')"
   ]
  },
  {
   "cell_type": "code",
   "execution_count": 28,
   "metadata": {
    "scrolled": true
   },
   "outputs": [
    {
     "name": "stdout",
     "output_type": "stream",
     "text": [
      "date num min/rt |    59   |    64   |    68   |    69   |    73   |    77   |\n",
      "----------------|---------|---------|---------|---------|---------|---------|\n",
      "2018-12-16      |  42/6.0 |         |  90/5.0 |         |         |         |\n",
      "2018-12-19      |         |  90/6.0 |         |  90/3.5 |  90/3.5 |         |\n",
      "2018-12-26      |         |  90/6.0 |  90/5.0 |  90/4.0 |         |         |\n",
      "2018-12-30      |  90/5.5 |         |         |  90/4.0 |         |         |\n",
      "2019-01-02      |         |  90/6.0 |  90/5.0 |         |  90/3.5 |         |\n",
      "2019-01-06      |  90/5.5 |         |         |  90/4.0 |         |  90/3.0 |\n",
      "2019-01-09      |         |  90/6.5 |  90/5.0 |         |  90/4.0 |         |\n",
      "2019-01-13      |  90/6.0 |         |         |  90/4.0 |         |  90/2.5 |\n",
      "Num\tb_p\tb_p_v\tcd_p\tcdtw_p\tcdo_p\n",
      "59\tCDtw\t9.27\t9.08\t9.27\t8.02\n",
      "64\tCDtw\t10.19\t9.95\t10.19\t8.67\n",
      "68\tCDtw\t8.48\t8.43\t8.48\t7.95\n",
      "69\tCD\t6.91\t6.91\t6.62\t6.73\n",
      "73\tCDtw\t7.08\t7.07\t7.08\t6.73\n",
      "77\tCD\t5.01\t5.01\t4.95\t5.01\n"
     ]
    }
   ],
   "source": [
    "tupleList = hattrickMatchPostgresql.getMatchByPoNum(conn, 'CD', [59,64,68,69,73,77])\n",
    "hattrickMatchPostgresql.printMatchByPoNum(tupleList, [59,64,68,69,73,77])\n",
    "tupleList = hattrickPlayerPostgresql.select(conn, ht_player_table_name, folder, [59,64,68,69,73,77], 'cd')\n",
    "print('Num', 'b_p', 'b_p_v', 'cd_p', 'cdtw_p', 'cdo_p', sep='\\t')\n",
    "hattrickPlayerPostgresql.print(tupleList, sep='\\t')"
   ]
  },
  {
   "cell_type": "code",
   "execution_count": 29,
   "metadata": {
    "scrolled": true
   },
   "outputs": [
    {
     "name": "stdout",
     "output_type": "stream",
     "text": [
      "date num min/rt |    07   |    13   |    15   |    43   |    63   |\n",
      "----------------|---------|---------|---------|---------|---------|\n",
      "2018-12-16      |         |  70/6.5 |  90/5.5 |  20/6.0 |         |\n",
      "2018-12-19      |  90/4.0 |         |         |  90/6.0 |         |\n",
      "2018-12-26      |  90/4.0 |         |         |  90/5.5 |         |\n",
      "2018-12-30      |         |  90/6.0 |  90/5.5 |         |         |\n",
      "2019-01-02      |  90/4.0 |         |         |  90/5.0 |         |\n",
      "2019-01-06      |         |  90/6.0 |  85/5.5 |         |   5/5.0 |\n",
      "2019-01-09      |  30/3.5 |         |         |  90/5.5 |  60/4.5 |\n",
      "2019-01-13      |         |  90/6.0 |  80/6.0 |         |  10/4.5 |\n",
      "Num\tb_p\tb_p_v\twd_p\tw_p\twtm_p, wo_p\n",
      "7\tCD\t6.35\t5.72\t5.46\t5.46\t5.32\n",
      "13\tWBd\t10.61\t9.22\t8.63\t8.58\t8.44\n",
      "15\tWBd\t9.92\t8.73\t8.21\t8.12\t8.16\n",
      "43\tWBd\t10.19\t7.79\t6.77\t6.67\t6.47\n",
      "63\tCdo\t6.14\t5.84\t5.91\t6.03\t5.76\n"
     ]
    }
   ],
   "source": [
    "tupleList = hattrickMatchPostgresql.getMatchByPoNum(conn, 'W', [7,13,15,43,63])\n",
    "hattrickMatchPostgresql.printMatchByPoNum(tupleList, [7,13,15,43,63])\n",
    "tupleList = hattrickPlayerPostgresql.select(conn, ht_player_table_name, folder, [7,13,15,43,63], 'w')\n",
    "print('Num', 'b_p', 'b_p_v', 'wd_p', 'w_p', 'wtm_p, wo_p', sep='\\t')\n",
    "hattrickPlayerPostgresql.print(tupleList, sep='\\t')"
   ]
  },
  {
   "cell_type": "code",
   "execution_count": 30,
   "metadata": {
    "scrolled": false
   },
   "outputs": [
    {
     "name": "stdout",
     "output_type": "stream",
     "text": [
      "date num min/rt |    10   |    12   |    31   |    61   |\n",
      "----------------|---------|---------|---------|---------|\n",
      "2018-12-16      |  65/6.0 |  25/5.5 |         |         |\n",
      "2018-12-19      |  30/6.0 |  60/5.5 |  90/6.5 |         |\n",
      "2018-12-26      |  25/6.0 |  65/5.5 |  90/6.5 |         |\n",
      "2018-12-30      |  70/6.0 |         |  20/7.0 |         |\n",
      "2019-01-02      |  30/6.0 |  60/5.5 |  90/6.5 |         |\n",
      "2019-01-06      |  70/6.0 |         |  20/7.0 |         |\n",
      "2019-01-09      |  30/6.0 |  60/5.0 |  90/6.5 |         |\n",
      "2019-01-13      |  90/5.5 |  60/5.0 |         |  30/6.0 |\n",
      "Num\tb_p\tb_p_v\timd_p\tim_p\timtw_p\timo_p\n",
      "10\tCD\t10.01\t8.87\t8.52\t8.28\t8.13\n",
      "12\tIMd\t8.22\t8.22\t8.20\t7.99\t8.17\n",
      "31\tCD\t10.6\t10.05\t9.89\t9.37\t9.70\n",
      "61\tCDtw\t10.09\t8.73\t8.53\t8.48\t8.32\n"
     ]
    }
   ],
   "source": [
    "tupleList = hattrickMatchPostgresql.getMatchByPoNum(conn, 'IM', [10,12,31,61])\n",
    "hattrickMatchPostgresql.printMatchByPoNum(tupleList, [10,12,31,61])\n",
    "tupleList = hattrickPlayerPostgresql.select(conn, ht_player_table_name, folder, [10,12,31,61], 'im')\n",
    "print('Num', 'b_p', 'b_p_v', 'imd_p', 'im_p', 'imtw_p', 'imo_p', sep='\\t')\n",
    "hattrickPlayerPostgresql.print(tupleList, sep='\\t')"
   ]
  },
  {
   "cell_type": "code",
   "execution_count": 31,
   "metadata": {
    "scrolled": false
   },
   "outputs": [
    {
     "name": "stdout",
     "output_type": "stream",
     "text": [
      "date num min/rt |    16   |    18   |    60   |    78   |\n",
      "----------------|---------|---------|---------|---------|\n",
      "2018-12-16      |         |  70/5.5 |  20/5.0 |         |\n",
      "2018-12-19      |  90/6.0 |         |         |         |\n",
      "2018-12-26      |  90/5.5 |         |         |         |\n",
      "2018-12-30      |         |  70/5.5 |  20/5.0 |         |\n",
      "2019-01-02      |  90/5.5 |         |         |         |\n",
      "2019-01-06      |         |  80/5.5 |         |  10/5.0 |\n",
      "2019-01-09      |  90/6.0 |         |         |         |\n",
      "2019-01-13      |         |  70/5.5 |  20/5.0 |         |\n",
      "num\tb_p\tb_p_v\tfw_p\tfwd_p\tfwtw_p\ttdf_p\n",
      "16\tFWtw\t7.07\t6.89\t6.16\t7.07\t0.00\n",
      "18\tFWd\t6.46\t6.42\t6.46\t6.20\t0.00\n",
      "60\tFW\t5.94\t5.94\t5.45\t5.74\t0.00\n",
      "78\tFWtw\t5.24\t5.04\t4.58\t5.24\t0.00\n"
     ]
    }
   ],
   "source": [
    "tupleList = hattrickMatchPostgresql.getMatchByPoNum(conn, 'FW', [16,18,60,78])\n",
    "hattrickMatchPostgresql.printMatchByPoNum(tupleList, [16,18,60,78])\n",
    "# 16 fw_w\n",
    "# 60 fw\n",
    "print('num','b_p', 'b_p_v', 'fw_p', 'fwd_p', 'fwtw_p', 'tdf_p', sep='\\t')\n",
    "tupleList = hattrickPlayerPostgresql.select(conn, ht_player_table_name, folder, [16,18,60,78], 'fw')\n",
    "hattrickPlayerPostgresql.print(tupleList, sep='\\t')"
   ]
  },
  {
   "cell_type": "code",
   "execution_count": null,
   "metadata": {},
   "outputs": [],
   "source": [
    "conn.close()\n",
    "print(conn)"
   ]
  },
  {
   "cell_type": "code",
   "execution_count": null,
   "metadata": {},
   "outputs": [],
   "source": [
    "conn = None\n",
    "print(conn)"
   ]
  },
  {
   "cell_type": "code",
   "execution_count": null,
   "metadata": {},
   "outputs": [],
   "source": []
  }
 ],
 "metadata": {
  "kernelspec": {
   "display_name": "Python 3",
   "language": "python",
   "name": "python3"
  },
  "language_info": {
   "codemirror_mode": {
    "name": "ipython",
    "version": 3
   },
   "file_extension": ".py",
   "mimetype": "text/x-python",
   "name": "python",
   "nbconvert_exporter": "python",
   "pygments_lexer": "ipython3",
   "version": "3.6.7"
  }
 },
 "nbformat": 4,
 "nbformat_minor": 2
}
