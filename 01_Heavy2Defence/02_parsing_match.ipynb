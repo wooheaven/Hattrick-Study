{
 "cells": [
  {
   "cell_type": "code",
   "execution_count": 1,
   "metadata": {
    "scrolled": true
   },
   "outputs": [
    {
     "name": "stderr",
     "output_type": "stream",
     "text": [
      "/home/rwoo/02_WorkSpace/04_Hattrick/Hattrick-Study/99_Utility/ht-venv/lib/python3.6/site-packages/psycopg2/__init__.py:144: UserWarning: The psycopg2 wheel package will be renamed from release 2.8; in order to keep installing from binary please use \"pip install psycopg2-binary\" instead. For details see: <http://initd.org/psycopg/docs/install.html#binary-install-from-pypi>.\n",
      "  \"\"\")\n"
     ]
    }
   ],
   "source": [
    "import sys\n",
    "\n",
    "sys.path.insert(0, '../03_Remake_with_TDD/algorithms')\n",
    "from ht_time import *\n",
    "\n",
    "sys.path.insert(0, '../03_Remake_with_TDD/postgresql')\n",
    "from ht_player_postgresql import *\n",
    "from ht_match_postgresql import *"
   ]
  },
  {
   "cell_type": "code",
   "execution_count": 2,
   "metadata": {},
   "outputs": [
    {
     "name": "stdout",
     "output_type": "stream",
     "text": [
      "folder = 2019/06/30\n"
     ]
    }
   ],
   "source": [
    "ht_time = HattrickTime()\n",
    "folder = ht_time.findLastSunOrWed()\n",
    "# folder = '2019/05/19'\n",
    "print(\"folder =\", folder)"
   ]
  },
  {
   "cell_type": "code",
   "execution_count": 3,
   "metadata": {},
   "outputs": [],
   "source": [
    "import re\n",
    "from bs4 import BeautifulSoup"
   ]
  },
  {
   "cell_type": "code",
   "execution_count": 4,
   "metadata": {},
   "outputs": [],
   "source": [
    "import sys\n",
    "sys.path.insert(0, '../97_Parse/')\n",
    "from parseMatch import *\n",
    "\n",
    "sys.path.insert(0, '../98_Crawler/01_DualMonitor/')\n",
    "from DualMonitor import getIsDualMonitor\n",
    "\n",
    "sys.path.insert(0, '../98_Crawler/02_WebBrowser/')\n",
    "from FirefoxTab import clickTabOfFireFox\n",
    "from crawMatch import *\n",
    "\n",
    "sys.path.insert(0, '../98_Crawler/03_OnScreen/')\n",
    "from Empty import clickEmpty\n",
    "from MoveScroll import moveScroll\n",
    "from MoveFindMoveClick import moveByImage, moveByImageWithModify\n",
    "\n",
    "sys.path.insert(0, '../98_Crawler/04_Login/')\n",
    "from HattrickLogInOut import clickHattrickLogin, clickHattrickLogout"
   ]
  },
  {
   "cell_type": "code",
   "execution_count": 5,
   "metadata": {},
   "outputs": [
    {
     "name": "stdout",
     "output_type": "stream",
     "text": [
      "use 2 monitor = 3840 x 1080 isDualMonitor= True\n"
     ]
    }
   ],
   "source": [
    "# isDualMonitor\n",
    "isDualMonitor = getIsDualMonitor()"
   ]
  },
  {
   "cell_type": "code",
   "execution_count": null,
   "metadata": {
    "scrolled": true
   },
   "outputs": [],
   "source": [
    "# Hattrick HeavyDefence Tab\n",
    "clickTabOfFireFox(3, isDualMonitor)\n",
    "\n",
    "clickEmpty(305, isDualMonitor)\n",
    "moveScroll(20)\n",
    "clickHattrickLogin(497, 574, isDualMonitor)"
   ]
  },
  {
   "cell_type": "code",
   "execution_count": 6,
   "metadata": {},
   "outputs": [
    {
     "name": "stdout",
     "output_type": "stream",
     "text": [
      "screen-MyClub.png location on Screen ( 517 336 79 44 )\n",
      "re find\n",
      "screen-Match.png location on Screen ( 400 675 53 52 )\n"
     ]
    },
    {
     "ename": "KeyboardInterrupt",
     "evalue": "",
     "output_type": "error",
     "traceback": [
      "\u001b[0;31m---------------------------------------------------------------------------\u001b[0m",
      "\u001b[0;31mKeyboardInterrupt\u001b[0m                         Traceback (most recent call last)",
      "\u001b[0;32m<ipython-input-6-1d1f90859abd>\u001b[0m in \u001b[0;36m<module>\u001b[0;34m\u001b[0m\n\u001b[1;32m     68\u001b[0m \u001b[0;34m\u001b[0m\u001b[0m\n\u001b[1;32m     69\u001b[0m \u001b[0;31m# Jupyter Tab\u001b[0m\u001b[0;34m\u001b[0m\u001b[0;34m\u001b[0m\u001b[0;34m\u001b[0m\u001b[0m\n\u001b[0;32m---> 70\u001b[0;31m \u001b[0mclickTabOfFireFox\u001b[0m\u001b[0;34m(\u001b[0m\u001b[0;36m6\u001b[0m\u001b[0;34m,\u001b[0m \u001b[0misDualMonitor\u001b[0m\u001b[0;34m)\u001b[0m\u001b[0;34m\u001b[0m\u001b[0;34m\u001b[0m\u001b[0m\n\u001b[0m",
      "\u001b[0;32m~/02_WorkSpace/04_Hattrick/Hattrick-Study/98_Crawler/02_WebBrowser/FirefoxTab.py\u001b[0m in \u001b[0;36mclickTabOfFireFox\u001b[0;34m(n, isDualMonitor)\u001b[0m\n\u001b[1;32m      9\u001b[0m \u001b[0;34m\u001b[0m\u001b[0m\n\u001b[1;32m     10\u001b[0m         \u001b[0;31m# wait\u001b[0m\u001b[0;34m\u001b[0m\u001b[0;34m\u001b[0m\u001b[0;34m\u001b[0m\u001b[0m\n\u001b[0;32m---> 11\u001b[0;31m         \u001b[0mtime\u001b[0m\u001b[0;34m.\u001b[0m\u001b[0msleep\u001b[0m\u001b[0;34m(\u001b[0m\u001b[0;36m0.5\u001b[0m\u001b[0;34m)\u001b[0m\u001b[0;34m\u001b[0m\u001b[0;34m\u001b[0m\u001b[0m\n\u001b[0m\u001b[1;32m     12\u001b[0m \u001b[0;34m\u001b[0m\u001b[0m\n\u001b[1;32m     13\u001b[0m         \u001b[0;31m# move and click\u001b[0m\u001b[0;34m\u001b[0m\u001b[0;34m\u001b[0m\u001b[0;34m\u001b[0m\u001b[0m\n",
      "\u001b[0;31mKeyboardInterrupt\u001b[0m: "
     ]
    }
   ],
   "source": [
    "# Hattrick HeavyDefence Tab\n",
    "clickTabOfFireFox(3, isDualMonitor)\n",
    "\n",
    "# Hattrick Login by Facebook\n",
    "clickEmpty(305, isDualMonitor)\n",
    "# moveScroll(20)\n",
    "# clickHattrickLogin(496, 575, isDualMonitor)\n",
    "\n",
    "# Hattrick MyClub\n",
    "moveScroll(20)\n",
    "moveByImage(517, 336, 79, 44, isDualMonitor, 'screen-MyClub.png')\n",
    "\n",
    "# Hattrick Match\n",
    "clickEmpty(670, isDualMonitor)\n",
    "moveScroll(20)\n",
    "moveByImage(400, 676, 53, 52, isDualMonitor, 'screen-Match.png')\n",
    "\n",
    "# Hattrick LastMatch\n",
    "clickEmpty(800, isDualMonitor)\n",
    "moveScroll(20)\n",
    "# moveByImageWithModify(1040, 831, 15, -15, 58, 48, isDualMonitor, 'screen-LastMatch.png')\n",
    "moveAndClick(1095, 800, isDualMonitor)\n",
    "time.sleep(5)\n",
    "\n",
    "# FirefoxFile\n",
    "moveAndClick(90, 15, isDualMonitor)\n",
    "\n",
    "# SavePageAs\n",
    "moveAndClick(91, 130, isDualMonitor)\n",
    "\n",
    "# Type match\n",
    "time.sleep(0.5)\n",
    "typeFileName()\n",
    "\n",
    "# rwoo folder\n",
    "moveAndClick(550, 313, isDualMonitor)\n",
    "moveAndClick(550, 313, isDualMonitor)\n",
    "\n",
    "# 02_workspace folder\n",
    "moveAndClicks(880, 400, isDualMonitor, 2)\n",
    "\n",
    "# 04_Hattrick folder\n",
    "moveAndClicks(880, 455, isDualMonitor, 2)\n",
    "\n",
    "# HattrickStudy\n",
    "moveAndClicks(880, 377, isDualMonitor, 2)\n",
    "\n",
    "# 01_Heavy2Defence\n",
    "moveAndClicks(880, 390, isDualMonitor, 2)\n",
    "\n",
    "# 2018\n",
    "moveAndClicks(880, 420, isDualMonitor, 2)\n",
    "\n",
    "# Last Month\n",
    "clickLastMonthOrDay()\n",
    "\n",
    "# Last Day\n",
    "clickLastMonthOrDay()\n",
    "\n",
    "# Save\n",
    "moveAndClicks(1380, 895, isDualMonitor, 2)\n",
    "# moveByImage(1338, 883, 88, 35, isDualMonitor, 'screen-Save.png')\n",
    "\n",
    "# Hattrick Logout\n",
    "# clickEmpty(336, isDualMonitor)\n",
    "# moveScroll(20)\n",
    "# clickHattrickLogout(1270, 370, isDualMonitor)\n",
    "\n",
    "# Jupyter Tab\n",
    "clickTabOfFireFox(6, isDualMonitor)"
   ]
  },
  {
   "cell_type": "code",
   "execution_count": 7,
   "metadata": {},
   "outputs": [],
   "source": [
    "from ht_file import *\n",
    "HattrickFile = HattrickFile()"
   ]
  },
  {
   "cell_type": "code",
   "execution_count": 8,
   "metadata": {
    "scrolled": true
   },
   "outputs": [
    {
     "name": "stdout",
     "output_type": "stream",
     "text": [
      "2019/06/30/match_files\t\t : is exitsted\n",
      "2019/06/30/match_files\t\t : will be removed\n",
      "2019/06/30/match_files\t\t : is not exitsed\n"
     ]
    }
   ],
   "source": [
    "HattrickFile.check_and_delete_folder(folder + '/match_files')"
   ]
  },
  {
   "cell_type": "code",
   "execution_count": 9,
   "metadata": {},
   "outputs": [],
   "source": [
    "from ht_match import *"
   ]
  },
  {
   "cell_type": "code",
   "execution_count": 10,
   "metadata": {},
   "outputs": [],
   "source": [
    "HattrickMatch = HattrickMatch()"
   ]
  },
  {
   "cell_type": "code",
   "execution_count": 11,
   "metadata": {},
   "outputs": [],
   "source": [
    "# ht_player_table_name = 'player'\n",
    "ht_player_table_name = 'player_tmp'"
   ]
  },
  {
   "cell_type": "code",
   "execution_count": 12,
   "metadata": {
    "scrolled": true
   },
   "outputs": [
    {
     "name": "stdout",
     "output_type": "stream",
     "text": [
      "line num 4226 head 100 {\"matchId\":643040938,\"sourceSystem\":\"Hattrick\",\"matchType\":8,\"leagueId\":30,\"leagueName\":\"대한민국\",\"lluI\n",
      "HeavyDefence HomeTeam\n"
     ]
    }
   ],
   "source": [
    "match_player = HattrickMatch.findMatchList(folder + '/match.html', 'mydatabase2', ht_player_table_name)"
   ]
  },
  {
   "cell_type": "code",
   "execution_count": 13,
   "metadata": {},
   "outputs": [
    {
     "name": "stdout",
     "output_type": "stream",
     "text": [
      "po,num,rt,sMin,eMin\n",
      "KP,74,4.5,0,92\n",
      "WB,64,5.5,0,92\n",
      "CD,68,7.0,0,92\n",
      "CD,77,5.5,0,92\n",
      "CD,71,6.5,0,92\n",
      "WB,72,6.5,0,92\n",
      "W,43,5.5,0,46\n",
      "W,63,5.5,46,92\n",
      "IM,10,5.5,0,92\n",
      "IM,61,6.0,0,57\n",
      "IM,31,7.0,57,92\n",
      "W,80,6.5,0,92\n",
      "FW,16,5.0,0,80\n",
      "FW,78,6.5,80,92\n"
     ]
    }
   ],
   "source": [
    "HattrickMatch.print_match_player(match_player)"
   ]
  },
  {
   "cell_type": "code",
   "execution_count": 14,
   "metadata": {},
   "outputs": [],
   "source": [
    "HattrickMatch.save_match_player(folder+'/match.txt', match_player)"
   ]
  },
  {
   "cell_type": "code",
   "execution_count": 15,
   "metadata": {},
   "outputs": [],
   "source": [
    "# HattrickFile.check_and_delete_file(folder + '/match.txt')"
   ]
  },
  {
   "cell_type": "code",
   "execution_count": 16,
   "metadata": {},
   "outputs": [],
   "source": [
    "import psycopg2"
   ]
  },
  {
   "cell_type": "code",
   "execution_count": 35,
   "metadata": {},
   "outputs": [
    {
     "data": {
      "text/plain": [
       "<connection object at 0x7f4877855e88; dsn: 'user=myuser password=xxx dbname=mydatabase2 host=localhost port=65432', closed: 0>"
      ]
     },
     "execution_count": 35,
     "metadata": {},
     "output_type": "execute_result"
    }
   ],
   "source": [
    "conn = psycopg2.connect(\"dbname='mydatabase2' user='myuser' host='localhost' port='65432' password='123qwe'\")\n",
    "conn"
   ]
  },
  {
   "cell_type": "code",
   "execution_count": 18,
   "metadata": {},
   "outputs": [],
   "source": [
    "hattrickMatchPostgresql = HattrickMatchPostgreSQL()\n",
    "hattrickPlayerPostgresql = HattrickPlayerPostgreSQL()"
   ]
  },
  {
   "cell_type": "code",
   "execution_count": 19,
   "metadata": {},
   "outputs": [
    {
     "data": {
      "text/plain": [
       "1850"
      ]
     },
     "execution_count": 19,
     "metadata": {},
     "output_type": "execute_result"
    }
   ],
   "source": [
    "hattrickMatchPostgresql.select_count_of_match(conn)"
   ]
  },
  {
   "cell_type": "code",
   "execution_count": 20,
   "metadata": {},
   "outputs": [],
   "source": [
    "import csv\n",
    "with open(folder + '/match.txt', 'r', encoding='utf-8') as f:\n",
    "    reader = csv.reader(f, delimiter=',')\n",
    "    for row in reader:\n",
    "        if(re.match( '^[0-9]{1,2}', row[1] ) ) :\n",
    "            hattrickMatchPostgresql.insert_to_match(conn, folder.replace('/', '-'), row)"
   ]
  },
  {
   "cell_type": "code",
   "execution_count": 21,
   "metadata": {},
   "outputs": [
    {
     "data": {
      "text/plain": [
       "1864"
      ]
     },
     "execution_count": 21,
     "metadata": {},
     "output_type": "execute_result"
    }
   ],
   "source": [
    "hattrickMatchPostgresql.select_count_of_match(conn)"
   ]
  },
  {
   "cell_type": "code",
   "execution_count": 22,
   "metadata": {},
   "outputs": [],
   "source": [
    "hattrickMatchPostgresql.update_rt_of_match(conn, ht_player_table_name)"
   ]
  },
  {
   "cell_type": "code",
   "execution_count": 23,
   "metadata": {},
   "outputs": [
    {
     "name": "stdout",
     "output_type": "stream",
     "text": [
      "KP\t74\t4.5\t0\t92\n",
      "WB\t64\t5.5\t0\t92\n",
      "WB\t72\t6.5\t0\t92\n",
      "CD\t77\t5.5\t0\t92\n",
      "CD\t68\t7.0\t0\t92\n",
      "CD\t71\t6.5\t0\t92\n",
      "W\t43\t5.5\t0\t46\n",
      "W\t63\t5.5\t46\t92\n",
      "W\t80\t6.5\t0\t92\n",
      "IM\t61\t6.0\t0\t57\n",
      "IM\t31\t7.0\t57\t92\n",
      "IM\t10\t5.5\t0\t92\n",
      "FW\t16\t5.0\t0\t80\n",
      "FW\t78\t6.5\t80\t92\n"
     ]
    }
   ],
   "source": [
    "tupleList = hattrickMatchPostgresql.getMatchByDate(folder, conn)\n",
    "hattrickMatchPostgresql.printMatchByDate(tupleList)"
   ]
  },
  {
   "cell_type": "code",
   "execution_count": 24,
   "metadata": {
    "scrolled": true
   },
   "outputs": [
    {
     "name": "stdout",
     "output_type": "stream",
     "text": [
      "2019/06/30/match.txt\t : will be removed\n",
      "2019/06/30/match.txt\t : is not existed\n"
     ]
    }
   ],
   "source": [
    "HattrickFile.check_and_delete_file(folder + '/match.txt')"
   ]
  },
  {
   "cell_type": "code",
   "execution_count": 25,
   "metadata": {},
   "outputs": [],
   "source": [
    "with open ( folder + '/match.txt', 'a' ) as f:\n",
    "    f.write(\"po,num,rt,sMin,eMin\\n\")\n",
    "    f.write( '\\n'.join('%s,%s,%s,%s,%s' % myTuple for myTuple in tupleList) + '\\n' )"
   ]
  },
  {
   "cell_type": "code",
   "execution_count": 26,
   "metadata": {
    "scrolled": true
   },
   "outputs": [
    {
     "name": "stdout",
     "output_type": "stream",
     "text": [
      "date num min/rt |    01   |    74   |\n",
      "----------------|---------|---------|\n",
      "2019-06-02      |   0/0.0 |         |\n",
      "2019-06-05      |  92/4.5 |         |\n",
      "2019-06-09      |         |  92/5.0 |\n",
      "2019-06-12      |  92/5.0 |         |\n",
      "2019-06-16      |         |  90/5.5 |\n",
      "2019-06-19      |  90/4.5 |         |\n",
      "2019-06-23      |         |  92/5.5 |\n",
      "2019-06-26      |  91/4.5 |         |\n",
      "2019-06-30      |         |  92/4.5 |\n"
     ]
    }
   ],
   "source": [
    "tupleList = hattrickMatchPostgresql.getMatchByPoNum(conn, 'KP', [1,74])\n",
    "hattrickMatchPostgresql.printMatchByPoNum(tupleList, [1,74])\n",
    "# hattrickPlayerPostgresql.select(conn, ht_player_table_name, folder, [1,74], 'wb')"
   ]
  },
  {
   "cell_type": "code",
   "execution_count": 27,
   "metadata": {
    "scrolled": false
   },
   "outputs": [
    {
     "name": "stdout",
     "output_type": "stream",
     "text": [
      "date num min/rt |    64   |    72   |    76   |    79   |\n",
      "----------------|---------|---------|---------|---------|\n",
      "2019-06-02      |         |         |   0/0.0 |         |\n",
      "2019-06-05      |         |         |  92/5.5 |         |\n",
      "2019-06-09      |  92/7.0 |  92/6.0 |         |         |\n",
      "2019-06-12      |         |         |  92/5.5 |         |\n",
      "2019-06-16      |  90/5.5 |  90/6.0 |         |         |\n",
      "2019-06-19      |         |         |  90/5.5 |         |\n",
      "2019-06-23      |  92/5.5 |  92/6.0 |         |         |\n",
      "2019-06-26      |         |         |  91/5.5 |  91/3.0 |\n",
      "2019-06-30      |  92/5.5 |  92/6.5 |         |         |\n",
      "+----+-------+-------+---------+---------+--------+----------+---------+----------+-------+\n",
      "|    |   num | b_p   |   b_p_v |   wbd_p |   wb_p |   wbtm_p |   wbo_p | idxmax   |   max |\n",
      "|----+-------+-------+---------+---------+--------+----------+---------+----------+-------|\n",
      "|  0 |    64 | WBd   |    9.65 |    9.65 |   8.88 |     9.08 |    8.1  | wbd_p    |  9.65 |\n",
      "|  1 |    72 | WBd   |   10.41 |   10.41 |   9.97 |     9.97 |    9.51 | wbd_p    | 10.41 |\n",
      "|  2 |    76 | WBd   |   10.33 |   10.33 |   9.94 |    10.01 |    9.54 | wbd_p    | 10.33 |\n",
      "|  3 |    79 | WBd   |    5    |    5    |   4.77 |     4.82 |    4.54 | wbd_p    |  5    |\n",
      "+----+-------+-------+---------+---------+--------+----------+---------+----------+-------+\n"
     ]
    }
   ],
   "source": [
    "tupleList = hattrickMatchPostgresql.getMatchByPoNum(conn, 'WB', [64,72,76,79])\n",
    "hattrickMatchPostgresql.printMatchByPoNum(tupleList, [64,72,76,79])\n",
    "hattrickPlayerPostgresql.select(conn, ht_player_table_name, folder, [64,72,76,79], 'wb')"
   ]
  },
  {
   "cell_type": "code",
   "execution_count": 28,
   "metadata": {
    "scrolled": false
   },
   "outputs": [
    {
     "name": "stdout",
     "output_type": "stream",
     "text": [
      "date num min/rt |    59   |    68   |    69   |    71   |    73   |    77   |\n",
      "----------------|---------|---------|---------|---------|---------|---------|\n",
      "2019-06-02      |   0/0.0 |         |   0/0.0 |         |         |   0/0.0 |\n",
      "2019-06-05      |  92/6.5 |         |  92/5.5 |         |         |  92/5.0 |\n",
      "2019-06-09      |         |  92/6.5 |         |  92/6.5 |         |  92/5.0 |\n",
      "2019-06-12      |  92/7.0 |         |  92/6.0 |         |  92/5.0 |         |\n",
      "2019-06-16      |         |  90/6.5 |         |  90/6.5 |         |  90/5.5 |\n",
      "2019-06-19      |  90/7.0 |         |  90/6.0 |         |  90/5.0 |         |\n",
      "2019-06-23      |         |  92/7.0 |         |  92/6.5 |         |  92/5.5 |\n",
      "2019-06-26      |  91/6.5 |         |  91/6.0 |         |  91/5.5 |         |\n",
      "2019-06-30      |         |  92/7.0 |         |  92/6.5 |         |  92/5.5 |\n",
      "+----+-------+-------+---------+--------+----------+---------+----------+-------+\n",
      "|    |   num | b_p   |   b_p_v |   cd_p |   cdtw_p |   cdo_p | idxmax   |   max |\n",
      "|----+-------+-------+---------+--------+----------+---------+----------+-------|\n",
      "|  0 |    59 | WBd   |   10.76 |  10.44 |    10.75 |    8.93 | cdtw_p   | 10.75 |\n",
      "|  1 |    68 | CDtw  |   11.31 |  11.16 |    11.31 |   10.24 | cdtw_p   | 11.31 |\n",
      "|  2 |    69 | CD    |   10.14 |  10.14 |    10.02 |    9.22 | cd_p     | 10.14 |\n",
      "|  3 |    71 | CDtw  |   11.27 |  11.22 |    11.27 |   10.66 | cdtw_p   | 11.27 |\n",
      "|  4 |    73 | CDtw  |    9.6  |   9.46 |     9.6  |    8.57 | cdtw_p   |  9.6  |\n",
      "|  5 |    77 | CDtw  |    9.44 |   9.39 |     9.44 |    8.87 | cdtw_p   |  9.44 |\n",
      "+----+-------+-------+---------+--------+----------+---------+----------+-------+\n"
     ]
    }
   ],
   "source": [
    "tupleList = hattrickMatchPostgresql.getMatchByPoNum(conn, 'CD', [59,68,69,71,73,77])\n",
    "hattrickMatchPostgresql.printMatchByPoNum(tupleList, [59,68,69,71,73,77])\n",
    "hattrickPlayerPostgresql.select(conn, ht_player_table_name, folder, [59,68,69,71,73,77], 'cd')"
   ]
  },
  {
   "cell_type": "code",
   "execution_count": 36,
   "metadata": {
    "scrolled": true
   },
   "outputs": [
    {
     "name": "stdout",
     "output_type": "stream",
     "text": [
      "date num min/rt |    13   |    15   |    43   |    63   |    80   |\n",
      "----------------|---------|---------|---------|---------|---------|\n",
      "2019-06-02      |   0/0.0 |   0/0.0 |         |         |         |\n",
      "2019-06-05      |  85/6.0 |  92/6.5 |         |         |         |\n",
      "2019-06-09      |         |         |  80/5.0 |  92/4.5 |         |\n",
      "2019-06-12      |  92/6.5 |  92/6.5 |         |         |         |\n",
      "2019-06-16      |         |         |  85/4.5 |  90/4.5 |         |\n",
      "2019-06-19      |  85/7.0 |  90/6.5 |         |         |         |\n",
      "2019-06-23      |         |         |  80/5.0 |  92/4.5 |         |\n",
      "2019-06-26      |  91/7.5 |  91/6.5 |         |         |         |\n",
      "2019-06-30      |         |         |  46/5.5 |  46/5.5 |  92/6.5 |\n",
      "+----+-------+-------+---------+--------+-------+---------+--------+----------+-------+\n",
      "|    |   num | b_p   |   b_p_v |   wd_p |   w_p |   wtm_p |   wo_p | idxmax   |   max |\n",
      "|----+-------+-------+---------+--------+-------+---------+--------+----------+-------|\n",
      "|  0 |    13 | WBd   |   10.41 |   9.04 |  8.46 |    8.41 |   8.28 | wd_p     |  9.04 |\n",
      "|  1 |    15 | WBd   |   10.65 |   9.38 |  8.82 |    8.72 |   8.76 | wd_p     |  9.38 |\n",
      "|  2 |    43 | WBd   |   10.3  |   7.76 |  6.67 |    6.56 |   6.36 | wd_p     |  7.76 |\n",
      "|  3 |    63 | Cdo   |    8.95 |   8.34 |  8.44 |    8.64 |   8.12 | wtm_p    |  8.64 |\n",
      "|  4 |    80 | Wo    |    9.23 |   7.92 |  8.51 |    8.27 |   9.23 | wo_p     |  9.23 |\n",
      "+----+-------+-------+---------+--------+-------+---------+--------+----------+-------+\n"
     ]
    }
   ],
   "source": [
    "tupleList = hattrickMatchPostgresql.getMatchByPoNum(conn, 'W', [13,15,43,63,80])\n",
    "hattrickMatchPostgresql.printMatchByPoNum(tupleList, [13,15,43,63,80])\n",
    "hattrickPlayerPostgresql.select(conn, ht_player_table_name, folder, [13,15,43,63,80], 'w')"
   ]
  },
  {
   "cell_type": "code",
   "execution_count": 30,
   "metadata": {
    "scrolled": false
   },
   "outputs": [
    {
     "name": "stdout",
     "output_type": "stream",
     "text": [
      "date num min/rt |    10   |    12   |    31   |    61   |\n",
      "----------------|---------|---------|---------|---------|\n",
      "2019-06-02      |         |         |   0/0.0 |   0/0.0 |\n",
      "2019-06-05      |         |  27/5.5 |  92/6.5 |  65/6.0 |\n",
      "2019-06-09      |  92/6.0 |         |  37/7.0 |  55/6.0 |\n",
      "2019-06-12      |         |  27/5.5 |  92/6.5 |  65/6.0 |\n",
      "2019-06-16      |  90/6.0 |         |  35/7.0 |  55/5.5 |\n",
      "2019-06-19      |         |  25/5.5 |  90/6.5 |  65/5.5 |\n",
      "2019-06-23      |  92/6.0 |         |  37/6.5 |  55/6.0 |\n",
      "2019-06-26      |         |  29/5.0 |  91/6.0 |  62/6.0 |\n",
      "2019-06-30      |  92/5.5 |         |  35/7.0 |  57/6.0 |\n",
      "+----+-------+-------+---------+---------+--------+----------+---------+----------+-------+\n",
      "|    |   num | b_p   |   b_p_v |   imd_p |   im_p |   imtw_p |   imo_p | idxmax   |   max |\n",
      "|----+-------+-------+---------+---------+--------+----------+---------+----------+-------|\n",
      "|  0 |    10 | CD    |    9.89 |    8.76 |   8.42 |     8.18 |    8.03 | imd_p    |  8.76 |\n",
      "|  1 |    12 | IMd   |    8.67 |    8.67 |   8.6  |     8.38 |    8.49 | imd_p    |  8.67 |\n",
      "|  2 |    31 | CD    |   10.61 |   10.06 |   9.9  |     9.39 |    9.72 | imd_p    | 10.06 |\n",
      "|  3 |    61 | CDtw  |   10.71 |    8.91 |   8.65 |     8.61 |    8.38 | imd_p    |  8.91 |\n",
      "+----+-------+-------+---------+---------+--------+----------+---------+----------+-------+\n"
     ]
    }
   ],
   "source": [
    "tupleList = hattrickMatchPostgresql.getMatchByPoNum(conn, 'IM', [10,12,31,61])\n",
    "hattrickMatchPostgresql.printMatchByPoNum(tupleList, [10,12,31,61])\n",
    "hattrickPlayerPostgresql.select(conn, ht_player_table_name, folder, [10,12,31,61], 'im')"
   ]
  },
  {
   "cell_type": "code",
   "execution_count": 31,
   "metadata": {
    "scrolled": false
   },
   "outputs": [
    {
     "name": "stdout",
     "output_type": "stream",
     "text": [
      "date num min/rt |    16   |    18   |    60   |    78   |\n",
      "----------------|---------|---------|---------|---------|\n",
      "2019-06-02      |         |   0/0.0 |         |         |\n",
      "2019-06-05      |         |  75/5.5 |         |  17/5.5 |\n",
      "2019-06-09      |  75/6.0 |         |  17/3.5 |         |\n",
      "2019-06-12      |         |  75/5.5 |         |  17/6.0 |\n",
      "2019-06-16      |  80/5.5 |         |  10/3.5 |         |\n",
      "2019-06-19      |         |  70/5.5 |         |  20/6.0 |\n",
      "2019-06-23      |  85/5.5 |         |         |   7/6.0 |\n",
      "2019-06-26      |         |  80/5.5 |  11/4.0 |         |\n",
      "2019-06-30      |  80/5.0 |         |         |  12/6.5 |\n",
      "num\tb_p\tb_p_v\tfw_p\tfwd_p\tfwtw_p\ttdf_p\n",
      "+----+-------+-------+---------+--------+---------+----------+---------+----------+-------+\n",
      "|    |   num | b_p   |   b_p_v |   fw_p |   fwd_p |   fwtw_p |   tdf_p | idxmax   |   max |\n",
      "|----+-------+-------+---------+--------+---------+----------+---------+----------+-------|\n",
      "|  0 |    16 | WBd   |    6.22 |   5.99 |    5.37 |     6.15 |       0 | fwtw_p   |  6.15 |\n",
      "|  1 |    18 | FW    |    6.65 |   6.65 |    6.6  |     6.51 |       0 | fw_p     |  6.65 |\n",
      "|  2 |    60 | FW    |    5.79 |   5.79 |    5.31 |     5.59 |       0 | fw_p     |  5.79 |\n",
      "|  3 |    78 | FWtw  |    6.02 |   5.79 |    5.26 |     6.02 |       0 | fwtw_p   |  6.02 |\n",
      "+----+-------+-------+---------+--------+---------+----------+---------+----------+-------+\n"
     ]
    }
   ],
   "source": [
    "tupleList = hattrickMatchPostgresql.getMatchByPoNum(conn, 'FW', [16,18,60,78])\n",
    "hattrickMatchPostgresql.printMatchByPoNum(tupleList, [16,18,60,78])\n",
    "# 16 fw_w\n",
    "# 60 fw\n",
    "print('num','b_p', 'b_p_v', 'fw_p', 'fwd_p', 'fwtw_p', 'tdf_p', sep='\\t')\n",
    "hattrickPlayerPostgresql.select(conn, ht_player_table_name, folder, [16,18,60,78], 'fw')"
   ]
  },
  {
   "cell_type": "code",
   "execution_count": 32,
   "metadata": {},
   "outputs": [
    {
     "name": "stdout",
     "output_type": "stream",
     "text": [
      "<connection object at 0x7f48778559c8; dsn: 'user=myuser password=xxx dbname=mydatabase2 host=localhost port=65432', closed: 1>\n"
     ]
    }
   ],
   "source": [
    "conn.close()\n",
    "print(conn)"
   ]
  },
  {
   "cell_type": "code",
   "execution_count": 33,
   "metadata": {},
   "outputs": [
    {
     "name": "stdout",
     "output_type": "stream",
     "text": [
      "None\n"
     ]
    }
   ],
   "source": [
    "conn = None\n",
    "print(conn)"
   ]
  },
  {
   "cell_type": "code",
   "execution_count": null,
   "metadata": {},
   "outputs": [],
   "source": []
  }
 ],
 "metadata": {
  "kernelspec": {
   "display_name": "Python 3",
   "language": "python",
   "name": "python3"
  },
  "language_info": {
   "codemirror_mode": {
    "name": "ipython",
    "version": 3
   },
   "file_extension": ".py",
   "mimetype": "text/x-python",
   "name": "python",
   "nbconvert_exporter": "python",
   "pygments_lexer": "ipython3",
   "version": "3.6.7"
  }
 },
 "nbformat": 4,
 "nbformat_minor": 2
}
