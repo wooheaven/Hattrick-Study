{
 "cells": [
  {
   "cell_type": "code",
   "execution_count": null,
   "metadata": {},
   "outputs": [],
   "source": [
    "import datetime\n",
    "now = datetime.datetime.now()\n",
    "print(now)\n",
    "nowDate = now.strftime('%Y-%m-%d')\n",
    "print(nowDate)"
   ]
  },
  {
   "cell_type": "code",
   "execution_count": null,
   "metadata": {},
   "outputs": [],
   "source": [
    "folder = nowDate.replace('-','/')\n",
    "print(folder)\n",
    "folder = \"2017/09/27\"\n",
    "print(folder)"
   ]
  },
  {
   "cell_type": "code",
   "execution_count": null,
   "metadata": {
    "collapsed": true
   },
   "outputs": [],
   "source": [
    "from webCrawler import *"
   ]
  },
  {
   "cell_type": "code",
   "execution_count": null,
   "metadata": {
    "collapsed": true
   },
   "outputs": [],
   "source": [
    "clickTabOfFireFox(4)\n",
    "clickEmpty(119/300)\n",
    "moveScroll(20)\n",
    "clickHattrickLogin()\n",
    "clickMyClub()\n",
    "clickEmpty(183/300)\n",
    "moveScroll(20)\n",
    "clickPlayer()\n",
    "clickEmpty(155/300)\n",
    "moveScroll(20)\n",
    "clickSkillTable()\n",
    "moveScroll(-5)\n",
    "clickSince(318/380) # 선수 24명 = 311/380\n",
    "clickCopy()\n",
    "clickClose()\n",
    "moveScroll(20)\n",
    "clickSkillTable()\n",
    "clickHattrickLogout()\n",
    "clickURL()\n",
    "clickTabOfFireFox(7)"
   ]
  },
  {
   "cell_type": "code",
   "execution_count": null,
   "metadata": {},
   "outputs": [],
   "source": [
    "import pyperclip # The name you have the file\n",
    "tmpClip = pyperclip.paste()\n",
    "print(tmpClip)"
   ]
  },
  {
   "cell_type": "code",
   "execution_count": null,
   "metadata": {},
   "outputs": [],
   "source": [
    "import os.path\n",
    "filePath = folder + '/player.html'\n",
    "\n",
    "if not os.path.exists(folder):\n",
    "    print(folder + \"\\t\\t : will be created\")\n",
    "    os.makedirs(folder)\n",
    "else :\n",
    "    print(folder + \"\\t\\t : is existed\")\n",
    "\n",
    "if ( os.path.exists(filePath) ):\n",
    "    print(filePath + \"\\t : will be removed\")\n",
    "    os.remove(filePath)\n",
    "    \n",
    "if not os.path.exists(filePath):\n",
    "    print(filePath + \"\\t : is not exists\")"
   ]
  },
  {
   "cell_type": "code",
   "execution_count": null,
   "metadata": {
    "collapsed": true
   },
   "outputs": [],
   "source": [
    "with open(folder+'/player.html', 'a') as f:\n",
    "    f.write(tmpClip)"
   ]
  },
  {
   "cell_type": "code",
   "execution_count": null,
   "metadata": {
    "collapsed": true
   },
   "outputs": [],
   "source": [
    "from parser import *"
   ]
  },
  {
   "cell_type": "code",
   "execution_count": null,
   "metadata": {
    "collapsed": true
   },
   "outputs": [],
   "source": [
    "def modifySharpToNumber(inputList):\n",
    "    outputList = list();\n",
    "    for line in inputList:\n",
    "        if line.find(\"#\") > -1 : line = line.replace(\"#\", \"Number\")\n",
    "        outputList.append(line)\n",
    "    return outputList"
   ]
  },
  {
   "cell_type": "code",
   "execution_count": null,
   "metadata": {
    "collapsed": true
   },
   "outputs": [],
   "source": [
    "def modifySpToSpecial(inputList):\n",
    "    outputList = list();\n",
    "    for line in inputList:\n",
    "        if line.find(\"Sp\") > -1 : \n",
    "            line = line.replace(\"Sp\", \"Special\", 1)\n",
    "        else :\n",
    "            line = line.replace(\"공 마술사\", \"Technical\", 1)\n",
    "            line = line.replace(\"빠름\", \"Quick\", 1)\n",
    "            line = line.replace(\"헤딩\", \"Head\", 1)\n",
    "            line = line.replace(\"힘 있음\", \"Powerful\", 1)\n",
    "            line = line.replace(\"예측할 수 없음\", \"Unpredictable\", 1)\n",
    "        outputList.append(line)\n",
    "    return outputList"
   ]
  },
  {
   "cell_type": "code",
   "execution_count": null,
   "metadata": {
    "collapsed": true
   },
   "outputs": [],
   "source": [
    "def removeFirstColumn(inputList):\n",
    "    outputList = list();\n",
    "    for line in inputList:\n",
    "        col = line.split(\",\")\n",
    "        tmpStr = \"\"\n",
    "        \n",
    "        for i in range(1,len(col)):\n",
    "            tmpStr += col[i] + \",\"\n",
    "        tmpStr = tmpStr[:-1]\n",
    "        outputList.append(tmpStr)\n",
    "    return outputList"
   ]
  },
  {
   "cell_type": "code",
   "execution_count": null,
   "metadata": {
    "collapsed": true
   },
   "outputs": [],
   "source": [
    "def dividePlayerAndPlayerID(inputList):\n",
    "    outputList = list();\n",
    "    for line in inputList:\n",
    "        col = line.split(\",\")\n",
    "        tmpStr = \"\"\n",
    "        if col[2] == \"Player\": \n",
    "            col[2] = \"Player,PlayerID\"\n",
    "            tmpStr += col[0]\n",
    "            for i in range(1, len(col)):\n",
    "                tmpStr += \",\" + col[i]\n",
    "            outputList.append(tmpStr)\n",
    "        else : \n",
    "            tmpStr = col[2].replace(\" [playerid=\", \",\", 1)\n",
    "            endIndex = tmpStr.find(\"]\")\n",
    "            col[2] = tmpStr[:endIndex]\n",
    "            \n",
    "            tmpStr = col[0]\n",
    "            for i in range(1, len(col)):\n",
    "                tmpStr += \",\" + col[i]\n",
    "            outputList.append(tmpStr)\n",
    "    return outputList"
   ]
  },
  {
   "cell_type": "code",
   "execution_count": null,
   "metadata": {
    "collapsed": true
   },
   "outputs": [],
   "source": [
    "from datetime import datetime\n",
    "from dateutil.relativedelta import relativedelta\n",
    "import re"
   ]
  },
  {
   "cell_type": "code",
   "execution_count": null,
   "metadata": {
    "collapsed": true
   },
   "outputs": [],
   "source": [
    "class SeasonWeekDay:\n",
    "    \n",
    "    def __init__(self, timeStr):\n",
    "        for myStr in timeStr.split(' '):\n",
    "            if ( re.search('시즌', myStr) ):\n",
    "                self.seasonInt = int(myStr[:-2])\n",
    "            if ( re.search('주', myStr) ):\n",
    "                self.weekInt = int(myStr[:-1])\n",
    "            if ( re.search('일', myStr) ):\n",
    "                self.dayInt = int(myStr[:-1])\n",
    "    \n",
    "    def display(self):\n",
    "        outStr = ''\n",
    "        if (hasattr(self, 'seasonInt')):\n",
    "            if (self.seasonInt > 0):\n",
    "                outStr += str(self.seasonInt) + '시즌 '\n",
    "        if (hasattr(self, 'weekInt')):\n",
    "            outStr += str(self.weekInt) + '주 '\n",
    "        if (hasattr(self, 'dayInt')):\n",
    "            outStr += str(self.dayInt) + '일'\n",
    "        return outStr\n",
    "    \n",
    "    def modify(self, diffDayInt):\n",
    "        if (self.dayInt >= diffDayInt):\n",
    "            self.dayInt = self.dayInt - diffDayInt\n",
    "        else :\n",
    "            if (self.weekInt > 0):\n",
    "                self.weekInt -= 1\n",
    "                self.dayInt = self.dayInt - diffDayInt + 7\n",
    "            else :\n",
    "                if (self.weekInt == 0):\n",
    "                    self.seasonInt -= 1\n",
    "                    self.weekInt = 15\n",
    "                    self.dayInt = self.dayInt - diffDayInt + 7"
   ]
  },
  {
   "cell_type": "code",
   "execution_count": null,
   "metadata": {
    "collapsed": true
   },
   "outputs": [],
   "source": [
    "def modifySince(inputList, targetStr, nowStr):   \n",
    "    outputList = list();\n",
    "    for line in inputList:\n",
    "        col = line.split(\",\")\n",
    "        if col[7] != \"Since\":            \n",
    "            col[7] = col[7].replace(\" 시즌\", \"시즌\", 1).replace(\"시즌 \", \"시즌\", 1).replace(\"시즌 \", \"시즌\", 1)\n",
    "            col[7] = col[7].replace(\" 주\", \"주\", 1).replace(\"주 \", \"주\", 1).replace(\"주 \", \"주\", 1)\n",
    "            col[7] = col[7].replace(\" 일\", \"일\", 1)\n",
    "            \n",
    "            targetDay = datetime.strptime(targetStr, '%Y/%m/%d').date()\n",
    "            nowDay = datetime.strptime(nowStr, '%Y/%m/%d').date()\n",
    "            diffDay = relativedelta(nowDay, targetDay)\n",
    "            \n",
    "            #print(col[7])\n",
    "            \n",
    "            modifySinceStr = SeasonWeekDay(col[7])\n",
    "            modifySinceStr.modify(int(diffDay.days))\n",
    "            \n",
    "            #print(int(diffDay.days), col[7], modifySinceStr.display())\n",
    "            col[7] = modifySinceStr.display()\n",
    "            \n",
    "            tmpStr = col[0]\n",
    "            for i in range(1, len(col)):\n",
    "                tmpStr += \",\" + col[i]\n",
    "            \n",
    "            outputList.append(tmpStr)\n",
    "        else:\n",
    "            outputList.append(line)\n",
    "    return outputList"
   ]
  },
  {
   "cell_type": "code",
   "execution_count": null,
   "metadata": {
    "collapsed": true
   },
   "outputs": [],
   "source": [
    "def modifyMB(inputList):\n",
    "    outputList = list();\n",
    "    for line in inputList:\n",
    "        col = line.split(\",\")\n",
    "        if col[14] == \"MB\":\n",
    "            outputList.append(line)\n",
    "        if len( col[14] ) == 1:\n",
    "            tmpLine = line.replace(\"✔\", \"TRUE\", 1)\n",
    "            outputList.append(tmpLine)\n",
    "        if len( col[14] ) == 0:\n",
    "            col[14] = \"FALSE\"\n",
    "            tmpLine = col[0]\n",
    "            for i in range(1, len(col) ):\n",
    "                tmpLine += \",\" + col[i]\n",
    "            outputList.append(tmpLine)\n",
    "    return outputList"
   ]
  },
  {
   "cell_type": "code",
   "execution_count": null,
   "metadata": {
    "collapsed": true
   },
   "outputs": [],
   "source": [
    "def modifyLast(inputList):\n",
    "    outputList = list();\n",
    "    for line in inputList:\n",
    "        col = line.split(\",\")\n",
    "        if col[23] == \"Last\":\n",
    "            outputList.append(line)\n",
    "        else :\n",
    "            col[23] = col[23][:10]\n",
    "            tmpLine = col[0]\n",
    "            for i in range(1, len(col)):\n",
    "                tmpLine += \",\" + col[i]\n",
    "            outputList.append(tmpLine)\n",
    "    return outputList"
   ]
  },
  {
   "cell_type": "code",
   "execution_count": null,
   "metadata": {
    "collapsed": true
   },
   "outputs": [],
   "source": [
    "def assignEmptyForTC(inputList):\n",
    "    outputList = list();\n",
    "    for line in inputList:\n",
    "        col = line.split(\",\")\n",
    "        if col[28] == \"TC\":\n",
    "            outputList.append(line)\n",
    "        else :\n",
    "            col[28] = \"\"\n",
    "            tmpLine = col[0]\n",
    "            for i in range(1, len(col)):\n",
    "                tmpLine += \",\" + col[i]\n",
    "            outputList.append(tmpLine)\n",
    "    return outputList"
   ]
  },
  {
   "cell_type": "code",
   "execution_count": null,
   "metadata": {
    "collapsed": true
   },
   "outputs": [],
   "source": [
    "def assignEmptyForPH(inputList):\n",
    "    outputList = list();\n",
    "    for line in inputList:\n",
    "        col = line.split(\",\")\n",
    "        if col[29] == \"PH\":\n",
    "            outputList.append(line)\n",
    "        else :\n",
    "            col[29] = \"\"\n",
    "            tmpLine = col[0]\n",
    "            for i in range(1, len(col)):\n",
    "                tmpLine += \",\" + col[i]\n",
    "            outputList.append(tmpLine)\n",
    "    return outputList"
   ]
  },
  {
   "cell_type": "code",
   "execution_count": null,
   "metadata": {
    "collapsed": true
   },
   "outputs": [],
   "source": [
    "def modifyKPPos(inputList):\n",
    "    outputList = list();\n",
    "    for line in inputList:\n",
    "        col = line.split(\",\")\n",
    "        if col[30] == \"KP\": \n",
    "            col[30] = \"KPPos\"\n",
    "            tmpLine =col[0]\n",
    "            for i in range(1, len(col)):\n",
    "                tmpLine += \",\" + col[i]\n",
    "            outputList.append(tmpLine)\n",
    "        else :\n",
    "            outputList.append(line)\n",
    "    return outputList"
   ]
  },
  {
   "cell_type": "code",
   "execution_count": null,
   "metadata": {
    "collapsed": true
   },
   "outputs": [],
   "source": [
    "def modifyWBPos(inputList):\n",
    "    outputList = list();\n",
    "    for line in inputList:\n",
    "        col = line.split(\",\")\n",
    "        if col[31] == \"WB\": \n",
    "            col[31] = \"WBPos\"\n",
    "            tmpLine =col[0]\n",
    "            for i in range(1, len(col)):\n",
    "                tmpLine += \",\" + col[i]\n",
    "            outputList.append(tmpLine)\n",
    "        else :\n",
    "            outputList.append(line)\n",
    "    return outputList"
   ]
  },
  {
   "cell_type": "code",
   "execution_count": null,
   "metadata": {
    "collapsed": true
   },
   "outputs": [],
   "source": [
    "def modifyCDPos(inputList):\n",
    "    outputList = list();\n",
    "    for line in inputList:\n",
    "        col = line.split(\",\")\n",
    "        if col[32] == \"CD\": \n",
    "            col[32] = \"CDPos\"\n",
    "            tmpLine =col[0]\n",
    "            for i in range(1, len(col)):\n",
    "                tmpLine += \",\" + col[i]\n",
    "            outputList.append(tmpLine)\n",
    "        else :\n",
    "            outputList.append(line)\n",
    "    return outputList"
   ]
  },
  {
   "cell_type": "code",
   "execution_count": null,
   "metadata": {
    "collapsed": true
   },
   "outputs": [],
   "source": [
    "def modifyWPos(inputList):\n",
    "    outputList = list();\n",
    "    for line in inputList:\n",
    "        col = line.split(\",\")\n",
    "        if col[33] == \"W\": \n",
    "            col[33] = \"WPos\"\n",
    "            tmpLine =col[0]\n",
    "            for i in range(1, len(col)):\n",
    "                tmpLine += \",\" + col[i]\n",
    "            outputList.append(tmpLine)\n",
    "        else :\n",
    "            outputList.append(line)\n",
    "    return outputList"
   ]
  },
  {
   "cell_type": "code",
   "execution_count": null,
   "metadata": {
    "collapsed": true
   },
   "outputs": [],
   "source": [
    "def modifyIMPos(inputList):\n",
    "    outputList = list();\n",
    "    for line in inputList:\n",
    "        col = line.split(\",\")\n",
    "        if col[34] == \"IM\": \n",
    "            col[34] = \"IMPos\"\n",
    "            tmpLine =col[0]\n",
    "            for i in range(1, len(col)):\n",
    "                tmpLine += \",\" + col[i]\n",
    "            outputList.append(tmpLine)\n",
    "        else :\n",
    "            outputList.append(line)\n",
    "    return outputList"
   ]
  },
  {
   "cell_type": "code",
   "execution_count": null,
   "metadata": {
    "collapsed": true
   },
   "outputs": [],
   "source": [
    "def modifyFWPos(inputList):\n",
    "    outputList = list();\n",
    "    for line in inputList:\n",
    "        col = line.split(\",\")\n",
    "        if col[35] == \"FW\": \n",
    "            col[35] = \"FWPos\"\n",
    "            tmpLine =col[0]\n",
    "            for i in range(1, len(col)):\n",
    "                tmpLine += \",\" + col[i]\n",
    "            outputList.append(tmpLine)\n",
    "        else :\n",
    "            outputList.append(line)\n",
    "    return outputList"
   ]
  },
  {
   "cell_type": "code",
   "execution_count": null,
   "metadata": {
    "collapsed": true
   },
   "outputs": [],
   "source": [
    "def removeLastString(inputList):\n",
    "    outputList = list();\n",
    "    for line in inputList:\n",
    "        outputList.append( line[0:-1] )\n",
    "    return outputList"
   ]
  },
  {
   "cell_type": "code",
   "execution_count": null,
   "metadata": {},
   "outputs": [],
   "source": [
    "import csv\n",
    "lineList = [] # emptyList\n",
    "\n",
    "with open(folder + '/player.html', 'r', encoding='utf-8') as f:\n",
    "    reader = csv.reader(f, delimiter='\\n')\n",
    "    for row in reader:\n",
    "        #print(row[0])\n",
    "        lineList.append(row[0])\n",
    "lineList"
   ]
  },
  {
   "cell_type": "code",
   "execution_count": null,
   "metadata": {
    "collapsed": true,
    "scrolled": true
   },
   "outputs": [],
   "source": [
    "#lineList = tmpClip.split(\"\\n\");\n",
    "\n",
    "lineList = removeHattrickTag(lineList)\n",
    "lineList = combineTwoLine(lineList)\n",
    "lineList = modifySharpToNumber(lineList)\n",
    "lineList = modifySpToSpecial(lineList)\n",
    "lineList = removeFirstColumn(lineList)\n",
    "lineList = dividePlayerAndPlayerID(lineList)\n",
    "lineList = modifySince(lineList, folder, nowDate.replace('-','/'))\n",
    "lineList = modifyMB(lineList)\n",
    "lineList = modifyLast(lineList)\n",
    "lineList = assignEmptyForTC(lineList)\n",
    "lineList = assignEmptyForPH(lineList)\n",
    "lineList = modifyKPPos(lineList)\n",
    "lineList = modifyWBPos(lineList)\n",
    "lineList = modifyCDPos(lineList)\n",
    "lineList = modifyWPos(lineList)\n",
    "lineList = modifyIMPos(lineList)\n",
    "lineList = modifyFWPos(lineList)\n",
    "lineList = removeLastString(lineList)"
   ]
  },
  {
   "cell_type": "code",
   "execution_count": null,
   "metadata": {},
   "outputs": [],
   "source": [
    "for line in lineList:\n",
    "    col = line.split(\",\")\n",
    "    print(len(col), col[0], sep=\"\\t\" ) # 36"
   ]
  },
  {
   "cell_type": "code",
   "execution_count": null,
   "metadata": {},
   "outputs": [],
   "source": [
    "import os.path\n",
    "\n",
    "filePath = folder + '/player.html'\n",
    "if ( os.path.exists(filePath) ):\n",
    "    print(filePath + \"\\t : will be removed\")\n",
    "    os.remove(filePath)\n",
    "\n",
    "filePath = folder + '/player.txt'\n",
    "if not os.path.exists(folder):\n",
    "    print(folder + \"\\t : will be created\")\n",
    "    os.makedirs(folder)\n",
    "\n",
    "if ( os.path.exists(filePath) ):\n",
    "    print(filePath + \"\\t : will be removed\")\n",
    "    os.remove(filePath)\n",
    "    \n",
    "if not os.path.exists(filePath):\n",
    "    print(filePath + \"\\t : is not exists\")"
   ]
  },
  {
   "cell_type": "code",
   "execution_count": null,
   "metadata": {
    "collapsed": true
   },
   "outputs": [],
   "source": [
    "with open(folder+'/player.txt', 'a') as f:\n",
    "    for line in lineList:\n",
    "        f.write(line + \"\\n\")"
   ]
  },
  {
   "cell_type": "code",
   "execution_count": null,
   "metadata": {
    "collapsed": true
   },
   "outputs": [],
   "source": [
    "# player_skill_table from file to table"
   ]
  },
  {
   "cell_type": "code",
   "execution_count": null,
   "metadata": {
    "collapsed": true
   },
   "outputs": [],
   "source": [
    "#import pymsgbox"
   ]
  },
  {
   "cell_type": "code",
   "execution_count": null,
   "metadata": {
    "collapsed": true
   },
   "outputs": [],
   "source": [
    "#pymsgbox.alert(text='', title='', button='OK')"
   ]
  },
  {
   "cell_type": "code",
   "execution_count": null,
   "metadata": {
    "collapsed": true
   },
   "outputs": [],
   "source": [
    "#getText = pymsgbox.confirm(text='Choose OK or Cancel', title='', buttons=['OK', 'Cancel'])"
   ]
  },
  {
   "cell_type": "code",
   "execution_count": null,
   "metadata": {
    "collapsed": true
   },
   "outputs": [],
   "source": [
    "#print(getText)"
   ]
  },
  {
   "cell_type": "code",
   "execution_count": null,
   "metadata": {
    "collapsed": true
   },
   "outputs": [],
   "source": [
    "import psycopg2"
   ]
  },
  {
   "cell_type": "code",
   "execution_count": null,
   "metadata": {
    "collapsed": true
   },
   "outputs": [],
   "source": [
    "def dropPlayerTable():\n",
    "    conn = None\n",
    "    try:\n",
    "        conn = psycopg2.connect(\"dbname='mydatabase2' user='myuser' host='localhost' port='65432' password='123qwe'\")\n",
    "        cur = conn.cursor()\n",
    "        sql = \"\"\"DROP TABLE IF EXISTS player ; \"\"\"\n",
    "        cur.execute(sql)\n",
    "        conn.commit()\n",
    "    except(Exception, psycopg2.DatabaseError) as error:\n",
    "        print(error)\n",
    "    finally:\n",
    "        if conn is not None:\n",
    "            conn.close()"
   ]
  },
  {
   "cell_type": "code",
   "execution_count": null,
   "metadata": {
    "collapsed": true
   },
   "outputs": [],
   "source": [
    "#dropPlayerTable()"
   ]
  },
  {
   "cell_type": "code",
   "execution_count": null,
   "metadata": {
    "collapsed": true
   },
   "outputs": [],
   "source": [
    "def createPlayerTable():\n",
    "    conn = None\n",
    "    try:\n",
    "        conn = psycopg2.connect(\"dbname='mydatabase2' user='myuser' host='localhost' port='65432' password='123qwe'\")\n",
    "        cur = conn.cursor()\n",
    "        sql = \"\"\"\n",
    "CREATE TABLE player (\n",
    "    Date DATE,           --01\n",
    "    Num int,             --02\n",
    "    Nat VARCHAR(30),     --03\n",
    "    Player VARCHAR(30),  --04\n",
    "    PlayerID BIGINT,     --05\n",
    "    Spacial VARCHAR(30), --06\n",
    "    st VARCHAR(10),      --07  Status Yellow, Red\n",
    "    Age VARCHAR(10),     --08\n",
    "    Since VARCHAR(30),   --09\n",
    "    TSI BIGINT,          --10\n",
    "    LS INT,              --11\n",
    "    XP INT,              --12\n",
    "    Fo INT,              --13\n",
    "    Stm INT,             --14\n",
    "    Lo INT,              --15\n",
    "    MB boolean,          --16\n",
    "    KP INT,              --17\n",
    "    DF INT,              --18\n",
    "    PM INT,              --19\n",
    "    WI INT,              --20\n",
    "    PS INT,              --21\n",
    "    SC INT,              --22\n",
    "    SP INT,              --23\n",
    "    con BIGINT,          --24 Psico\n",
    "    Last DATE,           --25\n",
    "    RT NUMERIC(2, 1),    --26 Rating\n",
    "    Po VARCHAR(5),       --27 Position\n",
    "    Wage BIGINT,         --28\n",
    "    G INT,               --29\n",
    "    --TC VARCHAR(1),     --\n",
    "    --PH VARCHAR(1),     --\n",
    "    KP_P NUMERIC(4, 2),  --30 KP Position\n",
    "    WB_P NUMERIC(4, 2),  --31 WB Position\n",
    "    CD_P NUMERIC(4, 2),  --32 CD Position\n",
    "    W_P NUMERIC(4, 2),   --33 W  Position\n",
    "    IM_P NUMERIC(4, 2),  --34 IM Position\n",
    "    FW_P NUMERIC(4, 2)   --35 FW Position\n",
    ") ; \"\"\"\n",
    "        cur.execute(sql)\n",
    "        conn.commit()\n",
    "    except(Exception, psycopg2.DatabaseError) as error:\n",
    "        print(error)\n",
    "    finally:\n",
    "        if conn is not None:\n",
    "            conn.close()"
   ]
  },
  {
   "cell_type": "code",
   "execution_count": null,
   "metadata": {
    "collapsed": true
   },
   "outputs": [],
   "source": [
    "#createPlayerTable()"
   ]
  },
  {
   "cell_type": "code",
   "execution_count": null,
   "metadata": {
    "collapsed": true
   },
   "outputs": [],
   "source": [
    "def insertPlayerTable(time, row):\n",
    "    conn = None\n",
    "    try:\n",
    "        conn = psycopg2.connect(\"dbname='mydatabase2' user='myuser' host='localhost' port='65432' password='123qwe'\")\n",
    "        cur = conn.cursor()\n",
    "        sql =  \"\"\"\n",
    "INSERT INTO player ( \n",
    "    SELECT \n",
    "        to_date(%s, 'YYYY-MM-DD'),                                    -- 1\n",
    "        %s, %s, %s, %s, %s,                                           -- 2, 3, 4, 5, 6\n",
    "        %s, %s, %s, %s, %s,                                           -- 7, 8, 9,10,11\n",
    "        %s, %s, %s, %s, %s,                                           --12,13,14,15,16\n",
    "        %s, %s, %s, %s, %s,                                           --17,18,19,20,21\n",
    "        %s, %s, %s,                                                   --22,23,24\n",
    "        to_date(coalesce(nullif(%s,''), '0001-01-01'), 'YYYY-MM-DD'), --25\n",
    "        cast(coalesce(nullif(%s,''),'0.0') as float),                 --26\n",
    "        %s, %s, %s,                                                   --27,28,29\n",
    "        %s, %s, %s, %s, %s,                                           --30,31,32,33,34\n",
    "        %s                                                            --35\n",
    ") ; \"\"\"\n",
    "        #print(sql + \"\\t\")\n",
    "        cur.execute(sql, ( time, \n",
    "                           row[0], row[1], row[2], row[3], row[4],\n",
    "                           row[5], row[6], row[7], row[8], row[9],\n",
    "                           row[10],row[11],row[12],row[13],row[14], \n",
    "                           row[15],row[16],row[17],row[18],row[19],\n",
    "                           row[20],row[21],row[22],\n",
    "                           row[23],\n",
    "                           row[24],\n",
    "                           row[25],row[26],row[27],\n",
    "                           row[30],row[31],row[32],row[33],row[34],\n",
    "                           row[35]\n",
    "                         )\n",
    "                   )\n",
    "        conn.commit()\n",
    "    except (Exception, psycopg2.DatabaseError) as error:\n",
    "        print(sql)\n",
    "        print(row)\n",
    "        print(\"Error Happend\")\n",
    "        print(error)\n",
    "    finally:\n",
    "        if conn is not None:\n",
    "            conn.close()"
   ]
  },
  {
   "cell_type": "code",
   "execution_count": null,
   "metadata": {
    "collapsed": true
   },
   "outputs": [],
   "source": [
    "import csv\n",
    "with open(folder + '/player.txt', 'r', encoding='utf-8') as f:\n",
    "    reader = csv.reader(f, delimiter=',')\n",
    "    for row in reader:\n",
    "        if row[0] != \"Number\" :\n",
    "            insertPlayerTable( folder.replace('/','-'), row)"
   ]
  },
  {
   "cell_type": "code",
   "execution_count": null,
   "metadata": {
    "collapsed": true
   },
   "outputs": [],
   "source": [
    "def selectPlayer(SelectString, WhereString):\n",
    "    outputList = list();\n",
    "    sql = \"\"\n",
    "    conn = None\n",
    "    try:\n",
    "        conn = psycopg2.connect(\"dbname='mydatabase2' user='myuser' host='localhost' port='65432' password='123qwe'\")\n",
    "        cur = conn.cursor()\n",
    "        sql = SelectString + \"\\nFROM player\" + WhereString + \"\\n\"\n",
    "        print(sql)\n",
    "        \n",
    "        cur.execute(sql)\n",
    "        row = cur.fetchone()\n",
    "        while row is not None:\n",
    "            #print(row)\n",
    "            outputList.append(row)\n",
    "            row = cur.fetchone()\n",
    "    except (Exception, psycopg2.DatabaseError) as error:\n",
    "            print(error)\n",
    "            print(sql)\n",
    "    finally:\n",
    "        if conn is not None:\n",
    "            conn.close()\n",
    "    return outputList"
   ]
  },
  {
   "cell_type": "code",
   "execution_count": null,
   "metadata": {},
   "outputs": [],
   "source": [
    "SelectString = \"\"\n",
    "SelectString += \"\\n\" + \"SELECT \"\n",
    "SelectString += \"\\n\" + \"    date :: VARCHAR(10), num, player, spacial, st,                       --01 05 \"\n",
    "SelectString += \"\\n\" + \"    age, since, tsi, ls, xp,                                             --06 10 \"\n",
    "SelectString += \"\\n\" + \"    fo, stm, lo, mb, kp,                                                 --11 15 \"\n",
    "SelectString += \"\\n\" + \"    df, pm, wi, ps, sc,                                                  --16 20 \"\n",
    "SelectString += \"\\n\" + \"    sp, con, last :: VARCHAR(10), rt :: VARCHAR(3), po,                  --21 25 \"\n",
    "SelectString += \"\\n\" + \"    wage, g, kp_p :: VARCHAR(5), wb_p :: VARCHAR(5), cd_p :: VARCHAR(5), --26 30 \"\n",
    "SelectString += \"\\n\" + \"    w_p :: VARCHAR(5), im_p :: VARCHAR(5), fw_p :: VARCHAR(5)            --31 35 \"\n",
    "\n",
    "WhereString = \"\"\n",
    "WhereString += \"\\n\" + \"WHERE \"\n",
    "WhereString += \"\\n\" + \"    date = last \"\n",
    "WhereString += \"\\n\" + \"    and date = '\" + folder.replace('/','-') + \"' \"\n",
    "WhereString += \"\\n\" + \"    order by num,date \"\n",
    "\n",
    "tupleList = selectPlayer(SelectString, WhereString)\n",
    "for tuple in tupleList:\n",
    "    print(tuple[0], tuple[1], tuple[2], tuple[3], tuple[4],\n",
    "          tuple[5], tuple[6], tuple[7], tuple[8], tuple[9],\n",
    "          tuple[10], tuple[11], tuple[12], tuple[13], tuple[14],\n",
    "          tuple[15], tuple[16], tuple[17], tuple[18], tuple[19],\n",
    "          tuple[20], tuple[21], tuple[22], tuple[23], tuple[24],\n",
    "          tuple[25], tuple[26], tuple[27], tuple[28], tuple[29],\n",
    "          tuple[30], tuple[31], tuple[32],\n",
    "          sep=',')"
   ]
  },
  {
   "cell_type": "code",
   "execution_count": null,
   "metadata": {},
   "outputs": [],
   "source": [
    "SelectString = \"\"\n",
    "SelectString += \"\\n\" + \"SELECT \"\n",
    "SelectString += \"\\n\" + \"    num, playerid --01 02 \"\n",
    "\n",
    "WhereString = \"\"\n",
    "WhereString += \"\\n\" + \"WHERE \"\n",
    "WhereString += \"\\n\" + \"    date = '\" + folder.replace('/','-') + \"' \"\n",
    "WhereString += \"\\n\" + \"    order by num \"\n",
    "\n",
    "numPlayerIDtupleList = selectPlayer(SelectString, WhereString)\n",
    "for tuple in numPlayerIDtupleList:\n",
    "    print(tuple[0], tuple[1], sep=\"\\t\")"
   ]
  },
  {
   "cell_type": "code",
   "execution_count": null,
   "metadata": {},
   "outputs": [],
   "source": [
    "import os.path\n",
    "filePath = folder + '/numPlayerID.txt'\n",
    "\n",
    "if ( os.path.exists(filePath) ):\n",
    "    os.remove(filePath)\n",
    "    print(filePath + \" <- this file is deleted.\")\n",
    "\n",
    "if not ( os.path.exists(filePath) ):\n",
    "    print(filePath + \" <- this file is not exists.\")"
   ]
  },
  {
   "cell_type": "code",
   "execution_count": null,
   "metadata": {
    "collapsed": true
   },
   "outputs": [],
   "source": [
    "with open (folder + '/numPlayerID.txt', 'a') as f:\n",
    "    f.write( '\\n'.join('%s,%s' % myTuple for myTuple in numPlayerIDtupleList) + '\\n' )"
   ]
  }
 ],
 "metadata": {
  "kernelspec": {
   "display_name": "Python 3",
   "language": "python",
   "name": "python3"
  },
  "language_info": {
   "codemirror_mode": {
    "name": "ipython",
    "version": 3
   },
   "file_extension": ".py",
   "mimetype": "text/x-python",
   "name": "python",
   "nbconvert_exporter": "python",
   "pygments_lexer": "ipython3",
   "version": "3.6.1"
  }
 },
 "nbformat": 4,
 "nbformat_minor": 2
}
