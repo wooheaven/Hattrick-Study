{
 "cells": [
  {
   "cell_type": "code",
   "execution_count": null,
   "metadata": {
    "collapsed": true
   },
   "outputs": [],
   "source": [
    "import sys\n",
    "\n",
    "sys.path.insert(0, '../03_Remake_with_TDD/algorithms')\n",
    "from ht_time import *\n",
    "\n",
    "sys.path.insert(0, '../03_Remake_with_TDD/postgresql')\n",
    "from ht_match_postgresql import *"
   ]
  },
  {
   "cell_type": "code",
   "execution_count": null,
   "metadata": {},
   "outputs": [],
   "source": [
    "ht_time = HattrickTime()\n",
    "folder = ht_time.findLastSunOrWed()\n",
    "# folder = '2018/04/08'\n",
    "print(\"folder =\", folder)"
   ]
  },
  {
   "cell_type": "code",
   "execution_count": null,
   "metadata": {
    "collapsed": true
   },
   "outputs": [],
   "source": [
    "import re\n",
    "from bs4 import BeautifulSoup"
   ]
  },
  {
   "cell_type": "code",
   "execution_count": null,
   "metadata": {
    "collapsed": true
   },
   "outputs": [],
   "source": [
    "import sys\n",
    "\n",
    "sys.path.insert(0, '../97_Parse/')\n",
    "from parseMatch import *\n",
    "\n",
    "sys.path.insert(0, '../98_Crawler/01_DualMonitor/')\n",
    "from DualMonitor import getIsDualMonitor\n",
    "\n",
    "sys.path.insert(0, '../98_Crawler/02_WebBrowser/')\n",
    "from FirefoxTab import clickTabOfFireFox\n",
    "from crawMatch import *\n",
    "\n",
    "sys.path.insert(0, '../98_Crawler/03_OnScreen/')\n",
    "from Empty import clickEmpty\n",
    "from MoveScroll import moveScroll\n",
    "from MoveFindMoveClick import moveByImage, moveByImageWithModify\n",
    "\n",
    "sys.path.insert(0, '../98_Crawler/04_Login/')\n",
    "from HattrickLogInOut import clickHattrickLogin, clickHattrickLogout"
   ]
  },
  {
   "cell_type": "code",
   "execution_count": null,
   "metadata": {},
   "outputs": [],
   "source": [
    "# isDualMonitor\n",
    "isDualMonitor = getIsDualMonitor()\n",
    "\n",
    "clickTabOfFireFox(4, isDualMonitor)\n",
    "\n",
    "clickEmpty(305, isDualMonitor)\n",
    "moveScroll(20)\n",
    "clickHattrickLogin(500, 305, isDualMonitor)\n",
    "\n",
    "# clickHattrickLogout(1270, 370, isDualMonitor)"
   ]
  },
  {
   "cell_type": "code",
   "execution_count": null,
   "metadata": {},
   "outputs": [],
   "source": [
    "# isDualMonitor\n",
    "isDualMonitor = getIsDualMonitor()\n",
    "\n",
    "# Hattrick HeavyDefence Tab\n",
    "clickTabOfFireFox(4, isDualMonitor)\n",
    "\n",
    "# # Hattrick Login by Facebook\n",
    "clickEmpty(305, isDualMonitor)\n",
    "moveScroll(20)\n",
    "clickHattrickLogin(500, 305, isDualMonitor)\n",
    "\n",
    "# Hattrick MyClub\n",
    "moveScroll(20)\n",
    "moveByImage(530, 342, 77, 42, isDualMonitor, 'screen-MyClub.png')\n",
    "\n",
    "# Hattrick Match\n",
    "clickEmpty(700, isDualMonitor)\n",
    "moveScroll(20)\n",
    "moveByImage(384, 698, 80, 108, isDualMonitor, 'screen-Match.png')\n",
    "\n",
    "# Hattrick LastMatch\n",
    "clickEmpty(831, isDualMonitor)\n",
    "moveScroll(20)\n",
    "# moveByImageWithModify(1040, 831, 15, -15, 58, 48, isDualMonitor, 'screen-LastMatch.png')\n",
    "moveAndClick(1082, 841, isDualMonitor)\n",
    "time.sleep(5)\n",
    "\n",
    "# FirefoxFile\n",
    "moveAndClick(90, 15, isDualMonitor)\n",
    "\n",
    "# SavePageAs\n",
    "time.sleep(3)\n",
    "moveAndClick(91, 130, isDualMonitor)\n",
    "\n",
    "# Type match\n",
    "time.sleep(3)\n",
    "typeFileName()\n",
    "\n",
    "# rwoo folder\n",
    "moveAndClick(570, 460, isDualMonitor)\n",
    "\n",
    "# 02_workspace folder\n",
    "moveAndClicks(720, 440, isDualMonitor, 2)\n",
    "\n",
    "# 04_Hattrick folder\n",
    "moveAndClicks(720, 500, isDualMonitor, 2)\n",
    "\n",
    "# HattrickStudy\n",
    "moveAndClicks(720, 415, isDualMonitor, 2)\n",
    "\n",
    "# 01_Heavy2Defence\n",
    "moveAndClicks(720, 440, isDualMonitor, 2)\n",
    "\n",
    "# 2018\n",
    "moveAndClicks(720, 440, isDualMonitor, 2)\n",
    "\n",
    "# Last Month\n",
    "clickLastMonthOrDay()\n",
    "\n",
    "# Last Day\n",
    "clickLastMonthOrDay()\n",
    "\n",
    "# Save\n",
    "moveByImage(1280, 847, 91, 41, isDualMonitor, 'screen-Save.png')\n",
    "\n",
    "# Hattrick Logout by Facebook\n",
    "clickEmpty(336, isDualMonitor)\n",
    "moveScroll(20)\n",
    "clickHattrickLogout(1270, 370, isDualMonitor)\n",
    "\n",
    "# Jupyter Tab\n",
    "clickTabOfFireFox(7, isDualMonitor)"
   ]
  },
  {
   "cell_type": "code",
   "execution_count": null,
   "metadata": {
    "collapsed": true
   },
   "outputs": [],
   "source": [
    "from ht_file import *"
   ]
  },
  {
   "cell_type": "code",
   "execution_count": null,
   "metadata": {},
   "outputs": [],
   "source": [
    "HattrickFile = HattrickFile()\n",
    "HattrickFile.check_and_delete_folder(folder + '/match_files')"
   ]
  },
  {
   "cell_type": "code",
   "execution_count": null,
   "metadata": {
    "collapsed": true
   },
   "outputs": [],
   "source": [
    "from ht_match import *"
   ]
  },
  {
   "cell_type": "code",
   "execution_count": null,
   "metadata": {},
   "outputs": [],
   "source": [
    "HattrickMatch = HattrickMatch()\n",
    "match_dict_list = HattrickMatch.findMatchList(folder + '/match.html', 'mydatabase2')\n",
    "match_str_list = HattrickMatch.matchDictListToMatchStrList(match_dict_list)\n",
    "\n",
    "print(\"\\ncat match_str_List\\n\")\n",
    "for str_line in match_str_list:\n",
    "    print(str_line)"
   ]
  },
  {
   "cell_type": "code",
   "execution_count": null,
   "metadata": {},
   "outputs": [],
   "source": [
    "HattrickFile.check_and_delete_file(folder + '/match.txt')"
   ]
  },
  {
   "cell_type": "code",
   "execution_count": null,
   "metadata": {
    "collapsed": true
   },
   "outputs": [],
   "source": [
    "for line in match_str_list:\n",
    "    with open (folder + '/match.txt', 'a') as f:\n",
    "        f.write(line + \"\\n\")"
   ]
  },
  {
   "cell_type": "code",
   "execution_count": null,
   "metadata": {
    "collapsed": true
   },
   "outputs": [],
   "source": [
    "# From match.txt to match table"
   ]
  },
  {
   "cell_type": "code",
   "execution_count": null,
   "metadata": {
    "collapsed": true
   },
   "outputs": [],
   "source": [
    "import psycopg2"
   ]
  },
  {
   "cell_type": "code",
   "execution_count": null,
   "metadata": {},
   "outputs": [],
   "source": [
    "conn = psycopg2.connect(\"dbname='mydatabase2' user='myuser' host='localhost' port='65432' password='123qwe'\")\n",
    "conn"
   ]
  },
  {
   "cell_type": "code",
   "execution_count": null,
   "metadata": {
    "collapsed": true
   },
   "outputs": [],
   "source": [
    "# def dropMatchTable():\n",
    "#     conn = None\n",
    "#     try:\n",
    "#         conn = psycopg2.connect(\"dbname='mydatabase2' user='myuser' host='localhost' port='65432' password='123qwe'\")\n",
    "#         cur = conn.cursor()\n",
    "#         sql = \"\"\"DROP TABLE IF EXISTS match ; \"\"\"\n",
    "#         cur.execute(sql)\n",
    "#         conn.commit()\n",
    "#     except(Exception, psycopg2.DatabaseError) as error:\n",
    "#         print(error)\n",
    "#     finally:\n",
    "#         if conn is not None:\n",
    "#             conn.close()"
   ]
  },
  {
   "cell_type": "code",
   "execution_count": null,
   "metadata": {
    "collapsed": true
   },
   "outputs": [],
   "source": [
    "#dropMatchTable()"
   ]
  },
  {
   "cell_type": "code",
   "execution_count": null,
   "metadata": {
    "collapsed": true
   },
   "outputs": [],
   "source": [
    "# def createMatchTable():\n",
    "#     conn = None\n",
    "#     try:\n",
    "#         conn = psycopg2.connect(\"dbname='mydatabase2' user='myuser' host='localhost' port='65432' password='123qwe'\")\n",
    "#         cur = conn.cursor()\n",
    "#         sql = \"\"\"\n",
    "# CREATE TABLE match (\n",
    "#     Date DATE,          --01\n",
    "#     Po   VARCHAR(5),    --02 Position\n",
    "#     Num  INT,           --03 Number\n",
    "#     RT   NUMERIC(2, 1), --04 Rating\n",
    "#     sMin INT,           --05 Start Min\n",
    "#     eMin INT            --06 End Min\n",
    "# ) ; \"\"\"\n",
    "#         cur.execute(sql)\n",
    "#         conn.commit()\n",
    "#     except(Exception, psycopg2.DatabaseError) as error:\n",
    "#         print(error)\n",
    "#     finally:\n",
    "#         if conn is not None:\n",
    "#             conn.close()"
   ]
  },
  {
   "cell_type": "code",
   "execution_count": null,
   "metadata": {
    "collapsed": true
   },
   "outputs": [],
   "source": [
    "# createMatchTable()"
   ]
  },
  {
   "cell_type": "code",
   "execution_count": null,
   "metadata": {
    "collapsed": true
   },
   "outputs": [],
   "source": [
    "hattrickMatchPostgresql = HattrickMatchPostgreSQL()"
   ]
  },
  {
   "cell_type": "code",
   "execution_count": null,
   "metadata": {},
   "outputs": [],
   "source": [
    "hattrickMatchPostgresql.select_count_of_match(conn)"
   ]
  },
  {
   "cell_type": "code",
   "execution_count": null,
   "metadata": {
    "collapsed": true
   },
   "outputs": [],
   "source": [
    "import csv\n",
    "with open(folder + '/match.txt', 'r', encoding='utf-8') as f:\n",
    "    reader = csv.reader(f, delimiter=',')\n",
    "    for row in reader:\n",
    "        if(re.match( '^[0-9]{1,2}', row[1] ) ) :\n",
    "            hattrickMatchPostgresql.insert_to_match(conn, folder.replace('/', '-'), row)"
   ]
  },
  {
   "cell_type": "code",
   "execution_count": null,
   "metadata": {},
   "outputs": [],
   "source": [
    "hattrickMatchPostgresql.select_count_of_match(conn)"
   ]
  },
  {
   "cell_type": "code",
   "execution_count": null,
   "metadata": {
    "collapsed": true
   },
   "outputs": [],
   "source": [
    "hattrickMatchPostgresql.update_rt_of_match(conn)"
   ]
  },
  {
   "cell_type": "code",
   "execution_count": null,
   "metadata": {},
   "outputs": [],
   "source": [
    "tupleList = hattrickMatchPostgresql.getMatchByDate(folder, conn)\n",
    "hattrickMatchPostgresql.printMatchByDate(tupleList)"
   ]
  },
  {
   "cell_type": "code",
   "execution_count": null,
   "metadata": {
    "scrolled": true
   },
   "outputs": [],
   "source": [
    "HattrickFile.check_and_delete_file(folder + '/match.txt')"
   ]
  },
  {
   "cell_type": "code",
   "execution_count": null,
   "metadata": {
    "collapsed": true
   },
   "outputs": [],
   "source": [
    "with open ( folder + '/match.txt', 'a' ) as f:\n",
    "    f.write(\"po,num,rt,sMin,eMin\\n\")\n",
    "    f.write( '\\n'.join('%s,%s,%s,%s,%s' % myTuple for myTuple in tupleList) + '\\n' )"
   ]
  },
  {
   "cell_type": "code",
   "execution_count": null,
   "metadata": {
    "scrolled": false
   },
   "outputs": [],
   "source": [
    "tupleList = hattrickMatchPostgresql.getMatchByPoNum(conn, 'KP', [1,2])\n",
    "hattrickMatchPostgresql.printMatchByPoNum(tupleList, [1,2])"
   ]
  },
  {
   "cell_type": "code",
   "execution_count": null,
   "metadata": {
    "scrolled": true
   },
   "outputs": [],
   "source": [
    "tupleList = hattrickMatchPostgresql.getMatchByPoNum(conn, 'WB', [44,46,54,58])\n",
    "hattrickMatchPostgresql.printMatchByPoNum(tupleList, [44,46,54,58])"
   ]
  },
  {
   "cell_type": "code",
   "execution_count": null,
   "metadata": {
    "scrolled": true
   },
   "outputs": [],
   "source": [
    "tupleList = hattrickMatchPostgresql.getMatchByPoNum(conn, 'CD', [33,43,59,61,64,66])\n",
    "hattrickMatchPostgresql.printMatchByPoNum(tupleList, [33,43,59,61,64,66])"
   ]
  },
  {
   "cell_type": "code",
   "execution_count": null,
   "metadata": {},
   "outputs": [],
   "source": [
    "tupleList = hattrickMatchPostgresql.getMatchByPoNum(conn, 'W', [7,13,15,48,63])\n",
    "hattrickMatchPostgresql.printMatchByPoNum(tupleList, [7,13,15,48,63])"
   ]
  },
  {
   "cell_type": "code",
   "execution_count": null,
   "metadata": {
    "scrolled": true
   },
   "outputs": [],
   "source": [
    "tupleList = hattrickMatchPostgresql.getMatchByPoNum(conn, 'IM', [9,10,11,12,31])\n",
    "hattrickMatchPostgresql.printMatchByPoNum(tupleList, [9,10,11,12,31])"
   ]
  },
  {
   "cell_type": "code",
   "execution_count": null,
   "metadata": {
    "scrolled": true
   },
   "outputs": [],
   "source": [
    "tupleList = hattrickMatchPostgresql.getMatchByPoNum(conn, 'FW', [16,17,18,60])\n",
    "hattrickMatchPostgresql.printMatchByPoNum(tupleList, [16,17,18,60])"
   ]
  },
  {
   "cell_type": "code",
   "execution_count": null,
   "metadata": {},
   "outputs": [],
   "source": [
    "conn.close()\n",
    "print(conn)"
   ]
  },
  {
   "cell_type": "code",
   "execution_count": null,
   "metadata": {},
   "outputs": [],
   "source": [
    "conn = None\n",
    "print(conn)"
   ]
  },
  {
   "cell_type": "code",
   "execution_count": null,
   "metadata": {
    "collapsed": true
   },
   "outputs": [],
   "source": []
  }
 ],
 "metadata": {
  "kernelspec": {
   "display_name": "Python 3",
   "language": "python",
   "name": "python3"
  },
  "language_info": {
   "codemirror_mode": {
    "name": "ipython",
    "version": 3
   },
   "file_extension": ".py",
   "mimetype": "text/x-python",
   "name": "python",
   "nbconvert_exporter": "python",
   "pygments_lexer": "ipython3",
   "version": "3.6.3"
  }
 },
 "nbformat": 4,
 "nbformat_minor": 2
}
