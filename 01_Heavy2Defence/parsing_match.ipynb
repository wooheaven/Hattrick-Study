{
 "cells": [
  {
   "cell_type": "code",
   "execution_count": null,
   "metadata": {},
   "outputs": [],
   "source": [
    "import datetime\n",
    "now = datetime.datetime.now()\n",
    "print(now)\n",
    "nowDate = now.strftime('%Y-%m-%d')\n",
    "print(nowDate)"
   ]
  },
  {
   "cell_type": "code",
   "execution_count": null,
   "metadata": {},
   "outputs": [],
   "source": [
    "folder = nowDate.replace('-','/')\n",
    "print(folder)\n",
    "folder = \"2017/09/17\"\n",
    "print(folder)"
   ]
  },
  {
   "cell_type": "code",
   "execution_count": null,
   "metadata": {
    "collapsed": true
   },
   "outputs": [],
   "source": [
    "import re\n",
    "from bs4 import BeautifulSoup"
   ]
  },
  {
   "cell_type": "code",
   "execution_count": null,
   "metadata": {
    "collapsed": true
   },
   "outputs": [],
   "source": [
    "# From match.html to match.txt"
   ]
  },
  {
   "cell_type": "code",
   "execution_count": null,
   "metadata": {
    "collapsed": true
   },
   "outputs": [],
   "source": [
    "import pyautogui, time\n",
    "screenWidth, screenHeight = pyautogui.size()\n",
    "currentMouseX, currentMouseY = pyautogui.position()"
   ]
  },
  {
   "cell_type": "code",
   "execution_count": null,
   "metadata": {
    "collapsed": true
   },
   "outputs": [],
   "source": [
    "# firefox 4번째 tab 클릭하기\n",
    "pyautogui.moveTo(screenWidth/10*7, screenHeight/30*1, duration=0.3)\n",
    "pyautogui.click()\n",
    "# hattrick 배경 클릭하기\n",
    "pyautogui.moveTo(screenWidth/110*65, screenHeight/300*119, duration=0.2)\n",
    "pyautogui.click()\n",
    "# 스크롤 올리기\n",
    "pyautogui.scroll(20)\n",
    "# heavy2defence 로 로그인 하기\n",
    "pyautogui.moveTo(screenWidth/1100*693, screenHeight/300*119, duration=0.2)\n",
    "pyautogui.click()\n",
    "time.sleep(13)\n",
    "# 나의 클럽 클릭하기\n",
    "pyautogui.moveTo(screenWidth/140*90, screenHeight/30*9, duration=0.5)\n",
    "pyautogui.click()\n",
    "# hattrick 배경 클릭하기\n",
    "pyautogui.moveTo(screenWidth/110*65, screenHeight/300*155, duration=0.9)\n",
    "pyautogui.click()\n",
    "# 스크롤 올리기\n",
    "pyautogui.scroll(20)\n",
    "# 경기 클릭하기\n",
    "time.sleep(1)\n",
    "pyautogui.moveTo(screenWidth/110*67, screenHeight/300*190, duration=0.5)\n",
    "pyautogui.click()\n",
    "# 마지막 경기 클릭하기\n",
    "pyautogui.moveTo(screenWidth/180*127, screenHeight/410*290, duration=2.7)\n",
    "pyautogui.click()\n",
    "# Firefox 파일 클릭하기\n",
    "pyautogui.moveTo(screenWidth/50*26, screenHeight/70*1, duration=6)\n",
    "pyautogui.click()\n",
    "# 다른 이름으로 저정하기 클릭하기\n",
    "pyautogui.moveTo(screenWidth/50*26, screenHeight/100*12, duration=0.5)\n",
    "pyautogui.click()\n",
    "# 파일이름 지정하기\n",
    "time.sleep(1)\n",
    "pyautogui.typewrite('match', interval=0.05)\n",
    "# Home 폴더 클릭하기\n",
    "pyautogui.moveTo(screenWidth/50*32, screenHeight/200*53, duration=0.1)\n",
    "pyautogui.click(clicks=2, interval=0.15)\n",
    "# 02_workspace 폴더 클릭하기\n",
    "pyautogui.moveTo(screenWidth/50*34, screenHeight/1000*331, duration=0.05)\n",
    "pyautogui.click(clicks=2, interval=0.15)\n",
    "# 02_Hattrick 폴더 클릭하기\n",
    "pyautogui.moveTo(screenWidth/50*34, screenHeight/1000*333, duration=0.05)\n",
    "pyautogui.click(clicks=2, interval=0.15)\n",
    "# Hattrick-Study 폴더 클릭하기\n",
    "pyautogui.moveTo(screenWidth/100*68, screenHeight/200*63, duration=0.05)\n",
    "pyautogui.click(clicks=2, interval=0.15)\n",
    "# 01_Heavy2Defence 폴더 클릭하기\n",
    "pyautogui.moveTo(screenWidth/100*68, screenHeight/2000*653, duration=0.05)\n",
    "pyautogui.click(clicks=2, interval=0.15)\n",
    "# 2017 폴더 클릭하기\n",
    "pyautogui.moveTo(screenWidth/100*68, screenHeight/2000*635, duration=0.05)\n",
    "pyautogui.click(clicks=2, interval=0.15)\n",
    "# 마지막 월 클릭하기\n",
    "pyautogui.moveTo(screenWidth/100*68, screenHeight/2000*633, duration=0.05)\n",
    "pyautogui.click()\n",
    "for i in range(13):\n",
    "    pyautogui.press('down')\n",
    "pyautogui.press('enter')\n",
    "time.sleep(1)\n",
    "# 마지막 날짜 클릭하기\n",
    "pyautogui.moveTo(screenWidth/100*68, screenHeight/2000*633, duration=0.3)\n",
    "pyautogui.click()\n",
    "for i in range(10):\n",
    "    pyautogui.press('down')\n",
    "pyautogui.press('enter')\n",
    "time.sleep(1)\n",
    "# 저장하기 클릭하기\n",
    "pyautogui.moveTo(screenWidth/1000*852, screenHeight/2000*1485, duration=0.3)\n",
    "pyautogui.click()\n",
    "time.sleep(3)\n",
    "# heavy2defence 로그아웃하기\n",
    "pyautogui.moveTo(screenWidth/110*92, screenHeight/300*90, duration=0.2)\n",
    "pyautogui.click()\n",
    "time.sleep(2)\n",
    "# web url 변경하기\n",
    "pyautogui.moveTo(screenWidth/110*63, screenHeight/300*19, duration=1)\n",
    "pyautogui.click()\n",
    "for i in range(13):\n",
    "    pyautogui.press('left')\n",
    "pyautogui.typewrite('92', interval=0.05)\n",
    "pyautogui.press('enter')\n",
    "time.sleep(2)\n",
    "# firefox 7번째 tab 클릭하기\n",
    "pyautogui.moveTo(screenWidth/120*103, screenHeight/30*1, duration=0.3)\n",
    "pyautogui.click()"
   ]
  },
  {
   "cell_type": "code",
   "execution_count": null,
   "metadata": {
    "collapsed": true
   },
   "outputs": [],
   "source": [
    "# save as match.html"
   ]
  },
  {
   "cell_type": "code",
   "execution_count": null,
   "metadata": {},
   "outputs": [],
   "source": [
    "import os.path, shutil\n",
    "filePath = folder + '/match_files'\n",
    "\n",
    "if ( os.path.exists(filePath) ):\n",
    "    shutil.rmtree(filePath, ignore_errors=True)\n",
    "    print(filePath + \" <- this folder is deleted.\")\n",
    "\n",
    "if not ( os.path.exists(filePath) ):\n",
    "    print(filePath + \" <- this folder is not exists.\")"
   ]
  },
  {
   "cell_type": "code",
   "execution_count": null,
   "metadata": {
    "collapsed": true
   },
   "outputs": [],
   "source": [
    "file = open(folder + \"/match.html\", \"r\")\n",
    "soup = BeautifulSoup(file.read(), \"html.parser\")\n",
    "file.close()"
   ]
  },
  {
   "cell_type": "code",
   "execution_count": null,
   "metadata": {
    "collapsed": true
   },
   "outputs": [],
   "source": [
    "def removeFirstChrLastChr(inputList):\n",
    "    outputList = list();\n",
    "    for line in inputList:\n",
    "        line = line.replace(\"[\", \"\", 1).replace(\"]\", \"\", 1).replace(\"{\", \"\", 1).replace(\"}\", \"\", 1)\n",
    "        outputList.append(line)\n",
    "    return outputList"
   ]
  },
  {
   "cell_type": "code",
   "execution_count": null,
   "metadata": {
    "collapsed": true
   },
   "outputs": [],
   "source": [
    "def filterColumn(inputList):\n",
    "    outputList = list();\n",
    "    for line in inputList:\n",
    "        col = line.split(\",\")\n",
    "        col[1] = re.sub('\"PositionID\":', '', col[1])\n",
    "        col[0] = re.sub('\"PlayerId\":', '', col[0])\n",
    "        col[3] = re.sub('\"Stars\":', '', col[3])\n",
    "        col[9] = re.sub('\"FromMin\":', '', col[9])\n",
    "        col[10] = re.sub('\"ToMin\":', '', col[10])\n",
    "        \n",
    "        newLine = col[1] + \",\" + col[0] + \",\" + col[3] + \",\" + col[9] + \",\" + col[10]\n",
    "        outputList.append(newLine)\n",
    "    return outputList"
   ]
  },
  {
   "cell_type": "code",
   "execution_count": null,
   "metadata": {
    "collapsed": true
   },
   "outputs": [],
   "source": [
    "def renamePO(inputList):\n",
    "    outputList = list();\n",
    "    for line in inputList:\n",
    "        col = line.split(\",\")\n",
    "        if col[0] == \"0\" : col[0] = \"CO\"\n",
    "        if col[0] == \"100\" : col[0] = \"KP\"\n",
    "        if ( col[0] == \"101\" or col[0] == \"105\" ) : col[0] = \"WB\"\n",
    "        if ( col[0] == \"102\" or col[0] == \"103\" or col[0] == \"104\" ) : col[0] = \"CD\"\n",
    "        if ( col[0] == \"106\" or col[0] == \"110\" ) : col[0] = \"W\"\n",
    "        if ( col[0] == \"107\" or col[0] == \"109\" ) : col[0] = \"IM\"\n",
    "        if ( col[0] == \"111\" or col[0] == \"112\" or col[0] == \"113\" ) : col[0] = \"FW\"\n",
    "        \n",
    "        newLine = col[0] + \",\" + col[1] + \",\" + col[2] + \",\" + col[3] + \",\" + col[4]\n",
    "        outputList.append(newLine)\n",
    "    return outputList"
   ]
  },
  {
   "cell_type": "code",
   "execution_count": null,
   "metadata": {
    "collapsed": true
   },
   "outputs": [],
   "source": [
    "def renameNumber(inputList):\n",
    "    import csv\n",
    "    data={}\n",
    "    with open( folder + '/numPlayerID.txt') as f:\n",
    "        reader=csv.reader(f, skipinitialspace=True)\n",
    "        for row in reader:\n",
    "            data[row[1]]=row[0]\n",
    "    #print(data)\n",
    "    \n",
    "    outputList = list();\n",
    "    for line in inputList:\n",
    "        col = line.split(\",\")\n",
    "        \n",
    "        if col[1] in data.keys():\n",
    "            col[1] = data[col[1]]  \n",
    "        \n",
    "        newLine = col[0] + \",\" + col[1] + \",\" + col[2] + \",\" + col[3] + \",\" + col[4]\n",
    "        outputList.append(newLine)\n",
    "    return outputList"
   ]
  },
  {
   "cell_type": "code",
   "execution_count": null,
   "metadata": {
    "collapsed": true
   },
   "outputs": [],
   "source": [
    "def renameMin(inputList):\n",
    "    outputList = list();\n",
    "    for line in inputList:\n",
    "        col = line.split(\",\")\n",
    "        if col[3] == \"-1\" : col[3] = \"0\"\n",
    "        if col[4] == \"-1\" : col[4] = \"0\"\n",
    "        if col[4] == \"91\" : col[4] = \"90\"\n",
    "        if col[4] == \"92\" : col[4] = \"90\"\n",
    "        if col[4] == \"93\" : col[4] = \"90\"\n",
    "        if col[4] == \"94\" : col[4] = \"90\"\n",
    "        newLine = col[0] + \",\" + col[1] + \",\" + col[2] + \",\" + col[3] + \",\" + col[4]\n",
    "        outputList.append(newLine)\n",
    "    return outputList"
   ]
  },
  {
   "cell_type": "code",
   "execution_count": null,
   "metadata": {
    "collapsed": true
   },
   "outputs": [],
   "source": [
    "def changedPlayer(inputList):\n",
    "    tmpList = list();\n",
    "    oldPO = \"\"\n",
    "    oldFromMin = \"\"\n",
    "    oldToMin = \"\"\n",
    "    for line in inputList:\n",
    "        col = line.split(\",\")\n",
    "        #PO,Number,Star,FromMin,ToMin\n",
    "        #FW,17, 4.5,38,90\n",
    "        #-1,16,-1.0, 0,38\n",
    "        if ( oldPO != \"CO\" and col[0] == \"-1\" and ( oldFromMin == col[4] or oldToMin == col[3] ) ) :\n",
    "            col[0] = oldPO\n",
    "        else :\n",
    "            oldPO = col[0]\n",
    "            oldFromMin = col[3]\n",
    "            oldToMin = col[4]\n",
    "        newLine = col[0] + \",\" + col[1] + \",\" + col[2] + \",\" + col[3] + \",\" + col[4]\n",
    "        tmpList.append(newLine)\n",
    "    outputList = list();\n",
    "    oldPO = \"\"\n",
    "    oldFromMin = \"\"\n",
    "    oldToMin = \"\"\n",
    "    for line in reversed(tmpList):\n",
    "        col = line.split(\",\")\n",
    "        #PO,Number,Star,FromMin,ToMin\n",
    "        # IM,26,5.0,40,90\n",
    "        # -1,11,-1.0,0,40\n",
    "        # W,22,4.0,0,50\n",
    "        # -1,24,-1.0,50,90\n",
    "        if ( oldPO != \"CO\" and col[0] == \"-1\" and ( oldFromMin == col[4] or oldToMin == col[3] ) ) :\n",
    "            col[0] = oldPO\n",
    "        else :\n",
    "            oldPO = col[0]\n",
    "            oldFromMin = col[3]\n",
    "            oldToMin = col[4]\n",
    "        newLine = col[0] + \",\" + col[1] + \",\" + col[2] + \",\" + col[3] + \",\" + col[4]\n",
    "        outputList.append(newLine)\n",
    "    lastList = list();\n",
    "    for line in reversed(outputList):\n",
    "        lastList.append(line)\n",
    "    return lastList"
   ]
  },
  {
   "cell_type": "code",
   "execution_count": null,
   "metadata": {
    "collapsed": true
   },
   "outputs": [],
   "source": [
    "def removeRows(inputList):\n",
    "    outputList = list();\n",
    "    for line in inputList:\n",
    "        col = line.split(\",\")\n",
    "        if ( col[0] == \"PO\" or col[0] == \"KP\" or col[0] == \"WB\" or col[0] == \"CD\" or col[0] == \"W\" or col[0] == \"IM\" or col[0] == \"FW\" ):\n",
    "            outputList.append(line)\n",
    "        elif ( col[0] == \"-1\") :\n",
    "            print(\"PO is not changed yet : \" + line)\n",
    "        else :\n",
    "            print(\"This line is removed : \" + line)\n",
    "    return outputList"
   ]
  },
  {
   "cell_type": "code",
   "execution_count": null,
   "metadata": {
    "collapsed": true
   },
   "outputs": [],
   "source": [
    "def pickUpByKeyword(inputList, outputList, keyword):\n",
    "    newInputList = list();\n",
    "    for line in inputList:\n",
    "        col = line.split(\",\")\n",
    "        if col[0] == keyword:\n",
    "            outputList.append(line)\n",
    "        else :\n",
    "            newInputList.append(line)\n",
    "    return newInputList, outputList"
   ]
  },
  {
   "cell_type": "code",
   "execution_count": null,
   "metadata": {
    "collapsed": true
   },
   "outputs": [],
   "source": [
    "def sortByPO(inputList):        \n",
    "    inputList.sort(key = lambda x: ( x.split(\",\")[0], -int(x.split(\",\")[3]), int(x.split(\",\")[4])))   \n",
    "        \n",
    "    outputList = list();\n",
    "    outputList.append(\"po,num,rt,sMin,eMin\")\n",
    "    \n",
    "    inputList, outputList = pickUpByKeyword(inputList, outputList, \"KP\")\n",
    "    inputList, outputList = pickUpByKeyword(inputList, outputList, \"WB\")\n",
    "    inputList, outputList = pickUpByKeyword(inputList, outputList, \"CD\")\n",
    "    inputList, outputList = pickUpByKeyword(inputList, outputList, \"W\")\n",
    "    inputList, outputList = pickUpByKeyword(inputList, outputList, \"IM\")\n",
    "    inputList, outputList = pickUpByKeyword(inputList, outputList, \"FW\")\n",
    "\n",
    "    return outputList"
   ]
  },
  {
   "cell_type": "code",
   "execution_count": null,
   "metadata": {},
   "outputs": [],
   "source": [
    "import os.path\n",
    "filePath = folder + '/match.txt'\n",
    "\n",
    "if ( os.path.exists(filePath) ):\n",
    "    os.remove(filePath)\n",
    "    print(filePath + \" <- this file is deleted.\")\n",
    "\n",
    "if not ( os.path.exists(filePath) ):\n",
    "    print(filePath + \" <- this file is not exists.\")"
   ]
  },
  {
   "cell_type": "code",
   "execution_count": null,
   "metadata": {},
   "outputs": [],
   "source": [
    "for div in soup.find_all(\"div\", id=\"ctl00_ctl00_CPContent_CPMain_ucPostMatch_rptTimeline_ctl14_timelineEventPanel\"):\n",
    "    for inputTag in div.find_all(\"input\", id=\"ctl00_ctl00_CPContent_CPMain_ucPostMatch_rptTimeline_ctl14_playerRatingsAway\"):\n",
    "    #for inputTag in div.find_all(\"input\", id=\"ctl00_ctl00_CPContent_CPMain_ucPostMatch_rptTimeline_ctl14_playerRatingsHome\"):\n",
    "        #print(inputTag.prettify())\n",
    "        valueString = inputTag.get('value')\n",
    "        valueString = re.sub('},', '}\\n', valueString)\n",
    "        \n",
    "        matchList = valueString.split(\"\\n\")            \n",
    "        matchList = removeFirstChrLastChr(matchList)\n",
    "        matchList = filterColumn(matchList)\n",
    "        matchList = renamePO(matchList)\n",
    "        matchList = renameNumber(matchList)\n",
    "        matchList = renameMin(matchList)\n",
    "        matchList = changedPlayer(matchList)\n",
    "        matchList = removeRows(matchList)\n",
    "        matchList = sortByPO(matchList)\n",
    "        \n",
    "        print(\"\\ncat match.txt\\n\")\n",
    "        \n",
    "        for line in matchList:\n",
    "            print(line)"
   ]
  },
  {
   "cell_type": "code",
   "execution_count": null,
   "metadata": {},
   "outputs": [],
   "source": [
    "import os.path\n",
    "filePath = folder + '/match.txt'\n",
    "\n",
    "if ( os.path.exists(filePath) ):\n",
    "    os.remove(filePath)\n",
    "    print(filePath + \" <- this file is deleted.\")\n",
    "\n",
    "if not ( os.path.exists(filePath) ):\n",
    "    print(filePath + \" <- this file is not exists.\")"
   ]
  },
  {
   "cell_type": "code",
   "execution_count": null,
   "metadata": {
    "collapsed": true
   },
   "outputs": [],
   "source": [
    "for line in matchList:\n",
    "    with open (folder + '/match.txt', 'a') as f:\n",
    "        f.write(line + \"\\n\")"
   ]
  },
  {
   "cell_type": "code",
   "execution_count": null,
   "metadata": {
    "collapsed": true
   },
   "outputs": [],
   "source": [
    "# From match.txt to match table"
   ]
  },
  {
   "cell_type": "code",
   "execution_count": null,
   "metadata": {
    "collapsed": true
   },
   "outputs": [],
   "source": [
    "import psycopg2"
   ]
  },
  {
   "cell_type": "code",
   "execution_count": null,
   "metadata": {
    "collapsed": true
   },
   "outputs": [],
   "source": [
    "def dropMatchTable():\n",
    "    conn = None\n",
    "    try:\n",
    "        conn = psycopg2.connect(\"dbname='mydatabase2' user='myuser' host='localhost' port='65432' password='123qwe'\")\n",
    "        cur = conn.cursor()\n",
    "        sql = \"\"\"DROP TABLE IF EXISTS match ; \"\"\"\n",
    "        cur.execute(sql)\n",
    "        conn.commit()\n",
    "    except(Exception, psycopg2.DatabaseError) as error:\n",
    "        print(error)\n",
    "    finally:\n",
    "        if conn is not None:\n",
    "            conn.close()"
   ]
  },
  {
   "cell_type": "code",
   "execution_count": null,
   "metadata": {
    "collapsed": true
   },
   "outputs": [],
   "source": [
    "#dropMatchTable()"
   ]
  },
  {
   "cell_type": "code",
   "execution_count": null,
   "metadata": {
    "collapsed": true
   },
   "outputs": [],
   "source": [
    "def createMatchTable():\n",
    "    conn = None\n",
    "    try:\n",
    "        conn = psycopg2.connect(\"dbname='mydatabase2' user='myuser' host='localhost' port='65432' password='123qwe'\")\n",
    "        cur = conn.cursor()\n",
    "        sql = \"\"\"\n",
    "CREATE TABLE match (\n",
    "    Date DATE,          --01\n",
    "    Po   VARCHAR(5),    --02 Position\n",
    "    Num  INT,           --03 Number\n",
    "    RT   NUMERIC(2, 1), --04 Rating\n",
    "    sMin INT,           --05 Start Min\n",
    "    eMin INT            --06 End Min\n",
    ") ; \"\"\"\n",
    "        cur.execute(sql)\n",
    "        conn.commit()\n",
    "    except(Exception, psycopg2.DatabaseError) as error:\n",
    "        print(error)\n",
    "    finally:\n",
    "        if conn is not None:\n",
    "            conn.close()"
   ]
  },
  {
   "cell_type": "code",
   "execution_count": null,
   "metadata": {
    "collapsed": true
   },
   "outputs": [],
   "source": [
    "#createMatchTable()"
   ]
  },
  {
   "cell_type": "code",
   "execution_count": null,
   "metadata": {
    "collapsed": true
   },
   "outputs": [],
   "source": [
    "def insertMatchTable(time, row):\n",
    "    conn = None\n",
    "    try:\n",
    "        conn = psycopg2.connect(\"dbname='mydatabase2' user='myuser' host='localhost' port='65432' password='123qwe'\")\n",
    "        cur = conn.cursor()\n",
    "        sql = \"\"\"\n",
    "INSERT INTO match ( \n",
    "    SELECT \n",
    "        to_date(%s, 'YYYY-MM-DD'), --01 \n",
    "        %s, %s, %s, %s, %s       --02 03 04 05 06\n",
    ") ;\"\"\"\n",
    "        cur.execute(sql, ( time,\n",
    "                           row[0], row[1], row[2], row[3], row[4] ) )\n",
    "        conn.commit()\n",
    "    except (Exception, psycopg2.DatabaseError) as error:\n",
    "        print(\"Error Happend\")\n",
    "        print(error)\n",
    "        print(sql)\n",
    "        print(row)\n",
    "    finally:\n",
    "        if conn is not None:\n",
    "            conn.close()"
   ]
  },
  {
   "cell_type": "code",
   "execution_count": null,
   "metadata": {
    "collapsed": true
   },
   "outputs": [],
   "source": [
    "import csv\n",
    "with open(folder + '/match.txt', 'r', encoding='utf-8') as f:\n",
    "    reader = csv.reader(f, delimiter=',')\n",
    "    for row in reader:\n",
    "        if(re.match( '^[0-9]{1,2}', row[1] ) ) :\n",
    "            insertMatchTable( folder.replace('/','-'), row )"
   ]
  },
  {
   "cell_type": "code",
   "execution_count": null,
   "metadata": {
    "collapsed": true
   },
   "outputs": [],
   "source": [
    "def updateRatingOfMatchTable():\n",
    "    conn = None\n",
    "    try:\n",
    "        conn = psycopg2.connect(\"dbname='mydatabase2' user='myuser' host='localhost' port='65432' password='123qwe'\")\n",
    "        cur = conn.cursor()\n",
    "        sql = \"\"\"\n",
    "update match \n",
    "    set rt = player.rt \n",
    "from player   \n",
    "where \n",
    "    match.date = player.date \n",
    "    and player.date = player.last \n",
    "    and match.po = player.po \n",
    "    and match.num = player.num \n",
    "    and match.rt != player.rt\n",
    "; \"\"\"\n",
    "        cur.execute(sql)\n",
    "        conn.commit()\n",
    "    except (Exception, psycopg2.DatabaseError) as error:\n",
    "        print(\"Error Happend\")\n",
    "        print(error)\n",
    "        print(sql)\n",
    "    finally:\n",
    "        if conn is not None:\n",
    "            conn.close()"
   ]
  },
  {
   "cell_type": "code",
   "execution_count": null,
   "metadata": {
    "collapsed": true
   },
   "outputs": [],
   "source": [
    "updateRatingOfMatchTable()"
   ]
  },
  {
   "cell_type": "code",
   "execution_count": null,
   "metadata": {
    "collapsed": true
   },
   "outputs": [],
   "source": [
    "def getTupleListFromMatch(query):\n",
    "    outputList = list();\n",
    "    conn = None\n",
    "    try:\n",
    "        conn = psycopg2.connect(\"dbname='mydatabase2' user='myuser' host='localhost' port='65432' password='123qwe'\")\n",
    "        cur = conn.cursor()\n",
    "        \n",
    "        print(query + \"\\n\")\n",
    "        cur.execute(query)\n",
    "        row = cur.fetchone()\n",
    "        while row is not None:\n",
    "            #print(row)\n",
    "            outputList.append(row)\n",
    "            row = cur.fetchone()\n",
    "    except (Exception, psycopg2.DatabaseError) as error:\n",
    "        print(\"Error Happend\")\n",
    "        print(error)\n",
    "    finally:\n",
    "        if conn is not None:\n",
    "            conn.close()\n",
    "    return outputList"
   ]
  },
  {
   "cell_type": "code",
   "execution_count": null,
   "metadata": {},
   "outputs": [],
   "source": [
    "query = \"\"\n",
    "query += \"\\n\" + \"SELECT \"\n",
    "query += \"\\n\" + \"    po, num, rt :: VARCHAR(5), smin, emin \"\n",
    "query += \"\\n\" + \"FROM match \"\n",
    "query += \"\\n\" + \"WHERE \"\n",
    "query += \"\\n\" + \"    date ='\" + folder.replace('/','-') + \"'\"\n",
    "query += \"\\n\" + \"ORDER BY \"\n",
    "query += \"\\n\" + \"    CASE \"\n",
    "query += \"\\n\" + \"        WHEN po = 'KP' THEN 1\"\n",
    "query += \"\\n\" + \"        WHEN po = 'WB' THEN 2\"\n",
    "query += \"\\n\" + \"        WHEN po = 'CD' THEN 3\"\n",
    "query += \"\\n\" + \"        WHEN po = 'W'  THEN 4\"\n",
    "query += \"\\n\" + \"        WHEN po = 'IM' THEN 5\"\n",
    "query += \"\\n\" + \"        WHEN po = 'FW' THEN 6\"\n",
    "query += \"\\n\" + \"        ELSE 7 \"\n",
    "query += \"\\n\" + \"    END, \"\n",
    "query += \"\\n\" + \"    num \"\n",
    "\n",
    "tupleList = getTupleListFromMatch(query)\n",
    "for tuple in tupleList:\n",
    "    print(tuple[0], tuple[1], tuple[2], tuple[3], tuple[4], sep='\\t')"
   ]
  },
  {
   "cell_type": "code",
   "execution_count": null,
   "metadata": {
    "scrolled": true
   },
   "outputs": [],
   "source": [
    "import os.path\n",
    "filePath = folder + '/match.txt'\n",
    "\n",
    "if ( os.path.exists(filePath) ):\n",
    "    os.remove(filePath)\n",
    "    print(filePath + \" <- this file is deleted.\")\n",
    "\n",
    "if not ( os.path.exists(filePath) ):\n",
    "    print(filePath + \" <- this file is not exists.\")"
   ]
  },
  {
   "cell_type": "code",
   "execution_count": null,
   "metadata": {
    "collapsed": true
   },
   "outputs": [],
   "source": [
    "with open ( folder + '/match.txt', 'a' ) as f:\n",
    "    f.write(\"po,num,rt,sMin,eMin\\n\")\n",
    "    f.write( '\\n'.join('%s,%s,%s,%s,%s' % myTuple for myTuple in tupleList) + '\\n' )"
   ]
  },
  {
   "cell_type": "code",
   "execution_count": null,
   "metadata": {
    "collapsed": true
   },
   "outputs": [],
   "source": [
    "def getKP():\n",
    "    outputList = list();\n",
    "    conn = None\n",
    "    try:\n",
    "        conn = psycopg2.connect(\"dbname='mydatabase2' user='myuser' host='localhost' port='65432' password='123qwe'\")\n",
    "        cur = conn.cursor()\n",
    "        query =         \"\"\"SELECT * \"\"\"\n",
    "        query += \"\\n\" + \"\"\"FROM crosstab( \"\"\"\n",
    "        query += \"\\n\" + \"\"\"    'SELECT \"\"\"\n",
    "        query += \"\\n\" + \"\"\"        date :: VARCHAR(10), num, emin-smin||''/''||rt :: VARCHAR(7) as time_rt \"\"\"\n",
    "        query += \"\\n\" + \"\"\"    FROM match \"\"\"\n",
    "        query += \"\\n\" + \"\"\"    WHERE \"\"\"\n",
    "        query += \"\\n\" + \"\"\"        po = ''KP'' \"\"\"\n",
    "        query += \"\\n\" + \"\"\"    ORDER BY \"\"\"\n",
    "        query += \"\\n\" + \"\"\"        date,num', \"\"\"\n",
    "        query += \"\\n\" + \"\"\"    'SELECT m from unnest(''{1,2}''::int[]) m' \"\"\"\n",
    "        query += \"\\n\" + \"\"\") \"\"\"\n",
    "        query += \"\\n\" + \"\"\"AS ( \"\"\"\n",
    "        query += \"\\n\" + \"\"\"    \"date num min/rt\" VARCHAR(10), \"\"\"\n",
    "        query += \"\\n\" + \"\"\"    \"   1   \" VARCHAR(7), \"\"\"\n",
    "        query += \"\\n\" + \"\"\"    \"   2   \" VARCHAR(7) \"\"\"\n",
    "        query += \"\\n\" + \"\"\")\"\"\"\n",
    "        query += \"\\n\" + \"\"\"ORDER BY 1\"\"\"\n",
    "\n",
    "        #print(query + \"\\n\")\n",
    "        cur.execute(query)\n",
    "        row = cur.fetchone()\n",
    "        while row is not None:\n",
    "            #print(row)\n",
    "            outputList.append(row)\n",
    "            row = cur.fetchone()\n",
    "    except (Exception, psycopg2.DatabaseError) as error:\n",
    "        print(\"Error Happend\")\n",
    "        print(error)\n",
    "    finally:\n",
    "        if conn is not None:\n",
    "            conn.close()\n",
    "    return outputList"
   ]
  },
  {
   "cell_type": "code",
   "execution_count": null,
   "metadata": {
    "collapsed": true
   },
   "outputs": [],
   "source": [
    "def xstr(s):\n",
    "    if s is None:\n",
    "        return '       '\n",
    "    else :\n",
    "        if len(s) == 6:\n",
    "            s = ' ' + s\n",
    "        if len(s) == 5:\n",
    "            s = '  ' + s\n",
    "    return str(s)"
   ]
  },
  {
   "cell_type": "code",
   "execution_count": null,
   "metadata": {},
   "outputs": [],
   "source": [
    "tupleList = getKP()\n",
    "print('date num min/rt |    1    |     2    ')\n",
    "print('----------------+---------+----------')\n",
    "for tuple in tupleList:\n",
    "    #print( len(tuple) )\n",
    "    print(tuple[0] + '     ', xstr(tuple[1]), xstr(tuple[2]), sep=\" | \")"
   ]
  },
  {
   "cell_type": "code",
   "execution_count": null,
   "metadata": {
    "collapsed": true
   },
   "outputs": [],
   "source": [
    "def getWB():\n",
    "    outputList = list();\n",
    "    conn = None\n",
    "    try:\n",
    "        conn = psycopg2.connect(\"dbname='mydatabase2' user='myuser' host='localhost' port='65432' password='123qwe'\")\n",
    "        cur = conn.cursor()\n",
    "        query =         \"\"\"SELECT * \"\"\"\n",
    "        query += \"\\n\" + \"\"\"FROM crosstab( \"\"\"\n",
    "        query += \"\\n\" + \"\"\"    'SELECT \"\"\"\n",
    "        query += \"\\n\" + \"\"\"        date :: VARCHAR(10), num, emin-smin||''/''||rt :: VARCHAR(7) as time_rt \"\"\"\n",
    "        query += \"\\n\" + \"\"\"    FROM match \"\"\"\n",
    "        query += \"\\n\" + \"\"\"    WHERE \"\"\"\n",
    "        query += \"\\n\" + \"\"\"        po = ''WB'' \"\"\"\n",
    "        query += \"\\n\" + \"\"\"    ORDER BY \"\"\"\n",
    "        query += \"\\n\" + \"\"\"        date, num', \"\"\"\n",
    "        query += \"\\n\" + \"\"\"    'SELECT m from unnest(''{4,13,14,15}''::int[]) m' \"\"\"\n",
    "        query += \"\\n\" + \"\"\") \"\"\"\n",
    "        query += \"\\n\" + \"\"\"AS ( \"\"\"\n",
    "        query += \"\\n\" + \"\"\"    \"date num min/rt\" VARCHAR(10), \"\"\"\n",
    "        query += \"\\n\" + \"\"\"    \"   4   \" VARCHAR(8), \"\"\"\n",
    "        query += \"\\n\" + \"\"\"    \"   13   \" VARCHAR(8), \"\"\"\n",
    "        query += \"\\n\" + \"\"\"    \"   14  \" VARCHAR(8), \"\"\"\n",
    "        query += \"\\n\" + \"\"\"    \"   15  \" VARCHAR(8) \"\"\"\n",
    "        query += \"\\n\" + \"\"\")\"\"\"\n",
    "        query += \"\\n\" + \"\"\"ORDER BY 1\"\"\"\n",
    "\n",
    "        #print(query + \"\\n\")\n",
    "        cur.execute(query)\n",
    "        row = cur.fetchone()\n",
    "        while row is not None:\n",
    "            #print(row)\n",
    "            outputList.append(row)\n",
    "            row = cur.fetchone()\n",
    "    except (Exception, psycopg2.DatabaseError) as error:\n",
    "        print(\"Error Happend\")\n",
    "        print(error)\n",
    "    finally:\n",
    "        if conn is not None:\n",
    "            conn.close()\n",
    "    return outputList"
   ]
  },
  {
   "cell_type": "code",
   "execution_count": null,
   "metadata": {},
   "outputs": [],
   "source": [
    "tupleList = getWB()\n",
    "print('date num min/rt |    4    |    13   |    14   |    15   ')\n",
    "print('----------------+---------+---------+---------+---------')\n",
    "for tuple in tupleList:\n",
    "    #print( len(tuple) )\n",
    "    print(tuple[0] + '     ', xstr(tuple[1]), xstr(tuple[2]), xstr(tuple[3]), xstr(tuple[4]), sep=\" | \")"
   ]
  },
  {
   "cell_type": "code",
   "execution_count": null,
   "metadata": {
    "collapsed": true
   },
   "outputs": [],
   "source": [
    "def getCD():\n",
    "    outputList = list();\n",
    "    conn = None\n",
    "    try:\n",
    "        conn = psycopg2.connect(\"dbname='mydatabase2' user='myuser' host='localhost' port='65432' password='123qwe'\")\n",
    "        cur = conn.cursor()\n",
    "        query =  \"\"\"SELECT * \"\"\"\n",
    "        query += \"\\n\" + \"\"\"FROM crosstab( \"\"\"\n",
    "        query += \"\\n\" + \"\"\"    'SELECT \"\"\"\n",
    "        query += \"\\n\" + \"\"\"        date :: VARCHAR(10), num, emin-smin||''/''||rt :: VARCHAR(7) as time_rt \"\"\"\n",
    "        query += \"\\n\" + \"\"\"    FROM match \"\"\"\n",
    "        query += \"\\n\" + \"\"\"    WHERE \"\"\"\n",
    "        query += \"\\n\" + \"\"\"        po = ''CD'' \"\"\"\n",
    "        query += \"\\n\" + \"\"\"    ORDER BY \"\"\"\n",
    "        query += \"\\n\" + \"\"\"        date, num', \"\"\"\n",
    "        query += \"\\n\" + \"\"\"    'SELECT m from unnest(''{5,6,8,9,10,11}''::int[]) m' \"\"\"\n",
    "        query += \"\\n\" + \"\"\") \"\"\"\n",
    "        query += \"\\n\" + \"\"\"AS ( \"\"\"\n",
    "        query += \"\\n\" + \"\"\"    \"date num min/rt\" VARCHAR(10), \"\"\"\n",
    "        query += \"\\n\" + \"\"\"    \"   5   \" VARCHAR(8), \"\"\"\n",
    "        query += \"\\n\" + \"\"\"    \"   6   \" VARCHAR(8), \"\"\"\n",
    "        query += \"\\n\" + \"\"\"    \"   8   \" VARCHAR(8), \"\"\"\n",
    "        query += \"\\n\" + \"\"\"    \"   9   \" VARCHAR(8), \"\"\"\n",
    "        query += \"\\n\" + \"\"\"    \"   10  \" VARCHAR(8), \"\"\"\n",
    "        query += \"\\n\" + \"\"\"    \"   11  \" VARCHAR(8) \"\"\"\n",
    "        query += \"\\n\" + \"\"\")\"\"\"\n",
    "        query += \"\\n\" + \"\"\"ORDER BY 1\"\"\"\n",
    "\n",
    "        #print(query + \"\\n\")\n",
    "        cur.execute(query)\n",
    "        row = cur.fetchone()\n",
    "        while row is not None:\n",
    "            #print(row)\n",
    "            outputList.append(row)\n",
    "            row = cur.fetchone()\n",
    "    except (Exception, psycopg2.DatabaseError) as error:\n",
    "        print(\"Error Happend\")\n",
    "        print(error)\n",
    "    finally:\n",
    "        if conn is not None:\n",
    "            conn.close()\n",
    "    return outputList"
   ]
  },
  {
   "cell_type": "code",
   "execution_count": null,
   "metadata": {},
   "outputs": [],
   "source": [
    "tupleList = getCD()\n",
    "print('date num min/rt |    5    |    6    |    8    |    9    |    10   |    11  ')\n",
    "print('----------------+---------+---------+---------+---------+---------+--------')\n",
    "for tuple in tupleList:\n",
    "    #print( len(tuple) )\n",
    "    print(tuple[0] + '     ', xstr(tuple[1]), xstr(tuple[2]), xstr(tuple[3]), xstr(tuple[4]), xstr(tuple[5]), xstr(tuple[6]),sep=\" | \")"
   ]
  },
  {
   "cell_type": "code",
   "execution_count": null,
   "metadata": {
    "collapsed": true
   },
   "outputs": [],
   "source": [
    "def getW():\n",
    "    outputList = list();\n",
    "    conn = None\n",
    "    try:\n",
    "        conn = psycopg2.connect(\"dbname='mydatabase2' user='myuser' host='localhost' port='65432' password='123qwe'\")\n",
    "        cur = conn.cursor()\n",
    "        query =  \"\"\"SELECT * \"\"\"\n",
    "        query += \"\\n\" + \"\"\"FROM crosstab( \"\"\"\n",
    "        query += \"\\n\" + \"\"\"    'SELECT \"\"\"\n",
    "        query += \"\\n\" + \"\"\"        date :: VARCHAR(10), num, emin-smin||''/''||rt :: VARCHAR(7) as time_rt \"\"\"\n",
    "        query += \"\\n\" + \"\"\"    FROM match \"\"\"\n",
    "        query += \"\\n\" + \"\"\"    WHERE \"\"\"\n",
    "        query += \"\\n\" + \"\"\"        po = ''W'' \"\"\"\n",
    "        query += \"\\n\" + \"\"\"    ORDER BY \"\"\"\n",
    "        query += \"\\n\" + \"\"\"        date, num', \"\"\"\n",
    "        query += \"\\n\" + \"\"\"    'SELECT m from unnest(''{3,7,19,23}''::int[]) m' \"\"\"\n",
    "        query += \"\\n\" + \"\"\") \"\"\"\n",
    "        query += \"\\n\" + \"\"\"AS ( \"\"\"\n",
    "        query += \"\\n\" + \"\"\"    \"date num min/rt\" VARCHAR(10), \"\"\"\n",
    "        query += \"\\n\" + \"\"\"    \"   3   \" VARCHAR(8), \"\"\"\n",
    "        query += \"\\n\" + \"\"\"    \"   7   \" VARCHAR(8), \"\"\"\n",
    "        query += \"\\n\" + \"\"\"    \"   19  \" VARCHAR(8), \"\"\"\n",
    "        query += \"\\n\" + \"\"\"    \"   23  \" VARCHAR(8) \"\"\"\n",
    "        query += \"\\n\" + \"\"\")\"\"\"\n",
    "        query += \"\\n\" + \"\"\"ORDER BY 1\"\"\"\n",
    "\n",
    "        #print(query + \"\\n\")\n",
    "        cur.execute(query)\n",
    "        row = cur.fetchone()\n",
    "        while row is not None:\n",
    "            #print(row)\n",
    "            outputList.append(row)\n",
    "            row = cur.fetchone()\n",
    "    except (Exception, psycopg2.DatabaseError) as error:\n",
    "        print(\"Error Happend\")\n",
    "        print(error)\n",
    "    finally:\n",
    "        if conn is not None:\n",
    "            conn.close()\n",
    "    return outputList"
   ]
  },
  {
   "cell_type": "code",
   "execution_count": null,
   "metadata": {},
   "outputs": [],
   "source": [
    "tupleList = getW()\n",
    "print('date num min/rt |    3    |    7    |    19   |    23   ')\n",
    "print('----------------+---------+---------+---------+---------')\n",
    "for tuple in tupleList:\n",
    "    #print( len(tuple) )\n",
    "    print(tuple[0] + '     ', xstr(tuple[1]), xstr(tuple[2]), xstr(tuple[3]), xstr(tuple[4]), sep=\" | \")"
   ]
  },
  {
   "cell_type": "code",
   "execution_count": null,
   "metadata": {
    "collapsed": true
   },
   "outputs": [],
   "source": [
    "def getIM():\n",
    "    outputList = list();\n",
    "    conn = None\n",
    "    try:\n",
    "        conn = psycopg2.connect(\"dbname='mydatabase2' user='myuser' host='localhost' port='65432' password='123qwe'\")\n",
    "        cur = conn.cursor()\n",
    "        query =  \"\"\"SELECT * \"\"\"\n",
    "        query += \"\\n\" + \"\"\"FROM crosstab( \"\"\"\n",
    "        query += \"\\n\" + \"\"\"    'SELECT \"\"\"\n",
    "        query += \"\\n\" + \"\"\"        date :: VARCHAR(10), num, emin-smin||''/''||rt :: VARCHAR(7) as time_rt \"\"\"\n",
    "        query += \"\\n\" + \"\"\"    FROM match \"\"\"\n",
    "        query += \"\\n\" + \"\"\"    WHERE \"\"\"\n",
    "        query += \"\\n\" + \"\"\"        po = ''IM'' \"\"\"\n",
    "        query += \"\\n\" + \"\"\"    ORDER BY \"\"\"\n",
    "        query += \"\\n\" + \"\"\"        date, num', \"\"\"\n",
    "        query += \"\\n\" + \"\"\"    'SELECT m from unnest(''{12,18,20,21}''::int[]) m' \"\"\"\n",
    "        query += \"\\n\" + \"\"\") \"\"\"\n",
    "        query += \"\\n\" + \"\"\"AS ( \"\"\"\n",
    "        query += \"\\n\" + \"\"\"    \"date num min/rt\" VARCHAR(10), \"\"\"\n",
    "        query += \"\\n\" + \"\"\"    \"   12  \" VARCHAR(8), \"\"\"\n",
    "        query += \"\\n\" + \"\"\"    \"   18  \" VARCHAR(8), \"\"\"\n",
    "        query += \"\\n\" + \"\"\"    \"   20  \" VARCHAR(8), \"\"\"\n",
    "        query += \"\\n\" + \"\"\"    \"   21  \" VARCHAR(8) \"\"\"\n",
    "        query += \"\\n\" + \"\"\")\"\"\"\n",
    "        query += \"\\n\" + \"\"\"ORDER BY 1\"\"\"\n",
    "\n",
    "        #print(query + \"\\n\")\n",
    "        cur.execute(query)\n",
    "        row = cur.fetchone()\n",
    "        while row is not None:\n",
    "            #print(row)\n",
    "            outputList.append(row)\n",
    "            row = cur.fetchone()\n",
    "    except (Exception, psycopg2.DatabaseError) as error:\n",
    "        print(\"Error Happend\")\n",
    "        print(error)\n",
    "    finally:\n",
    "        if conn is not None:\n",
    "            conn.close()\n",
    "    return outputList"
   ]
  },
  {
   "cell_type": "code",
   "execution_count": null,
   "metadata": {},
   "outputs": [],
   "source": [
    "tupleList = getIM()\n",
    "print('date num min/rt |    12   |    18   |    20   |    21   ')\n",
    "print('----------------+---------+---------+---------+---------')\n",
    "for tuple in tupleList:\n",
    "    #print( len(tuple) )\n",
    "    print(tuple[0] + '     ', xstr(tuple[1]), xstr(tuple[2]), xstr(tuple[3]), xstr(tuple[4]), sep=\" | \")"
   ]
  },
  {
   "cell_type": "code",
   "execution_count": null,
   "metadata": {
    "collapsed": true
   },
   "outputs": [],
   "source": [
    "def getFW():\n",
    "    outputList = list();\n",
    "    conn = None\n",
    "    try:\n",
    "        conn = psycopg2.connect(\"dbname='mydatabase2' user='myuser' host='localhost' port='65432' password='123qwe'\")\n",
    "        cur = conn.cursor()\n",
    "        query =  \"\"\"SELECT * \"\"\"\n",
    "        query += \"\\n\" + \"\"\"FROM crosstab( \"\"\"\n",
    "        query += \"\\n\" + \"\"\"    'SELECT \"\"\"\n",
    "        query += \"\\n\" + \"\"\"        date :: VARCHAR(10), num, emin-smin||''/''||rt :: VARCHAR(7) as time_rt \"\"\"\n",
    "        query += \"\\n\" + \"\"\"    FROM match \"\"\"\n",
    "        query += \"\\n\" + \"\"\"    WHERE \"\"\"\n",
    "        query += \"\\n\" + \"\"\"        po = ''FW'' \"\"\"\n",
    "        query += \"\\n\" + \"\"\"    ORDER BY \"\"\"\n",
    "        query += \"\\n\" + \"\"\"        date, num', \"\"\"\n",
    "        query += \"\\n\" + \"\"\"    'SELECT m from unnest(''{16,17,22}''::int[]) m' \"\"\"\n",
    "        query += \"\\n\" + \"\"\") \"\"\"\n",
    "        query += \"\\n\" + \"\"\"AS ( \"\"\"\n",
    "        query += \"\\n\" + \"\"\"    \"date num min/rt\" VARCHAR(10), \"\"\"\n",
    "        query += \"\\n\" + \"\"\"    \"   16  \" VARCHAR(8), \"\"\"\n",
    "        query += \"\\n\" + \"\"\"    \"   17  \" VARCHAR(8), \"\"\"\n",
    "        query += \"\\n\" + \"\"\"    \"   22  \" VARCHAR(8) \"\"\"\n",
    "        query += \"\\n\" + \"\"\")\"\"\"\n",
    "        query += \"\\n\" + \"\"\"ORDER BY 1\"\"\"\n",
    "\n",
    "        #print(query + \"\\n\")\n",
    "        cur.execute(query)\n",
    "        row = cur.fetchone()\n",
    "        while row is not None:\n",
    "            #print(row)\n",
    "            outputList.append(row)\n",
    "            row = cur.fetchone()\n",
    "    except (Exception, psycopg2.DatabaseError) as error:\n",
    "        print(\"Error Happend\")\n",
    "        print(error)\n",
    "    finally:\n",
    "        if conn is not None:\n",
    "            conn.close()\n",
    "    return outputList"
   ]
  },
  {
   "cell_type": "code",
   "execution_count": null,
   "metadata": {},
   "outputs": [],
   "source": [
    "tupleList = getFW()\n",
    "print('date num min/rt |    16   |    17   |    22   ')\n",
    "print('----------------+---------+---------+---------')\n",
    "for tuple in tupleList:\n",
    "    #print( len(tuple) )\n",
    "    print(tuple[0] + '     ',xstr(tuple[1]),xstr(tuple[2]),xstr(tuple[3]), sep=\" | \")"
   ]
  }
 ],
 "metadata": {
  "kernelspec": {
   "display_name": "Python 3",
   "language": "python",
   "name": "python3"
  },
  "language_info": {
   "codemirror_mode": {
    "name": "ipython",
    "version": 3
   },
   "file_extension": ".py",
   "mimetype": "text/x-python",
   "name": "python",
   "nbconvert_exporter": "python",
   "pygments_lexer": "ipython3",
   "version": "3.6.1"
  }
 },
 "nbformat": 4,
 "nbformat_minor": 2
}
