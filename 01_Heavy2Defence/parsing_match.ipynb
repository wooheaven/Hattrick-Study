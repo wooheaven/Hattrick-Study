{
 "cells": [
  {
   "cell_type": "code",
   "execution_count": 1,
   "metadata": {},
   "outputs": [
    {
     "name": "stderr",
     "output_type": "stream",
     "text": [
      "/home/rwoo/02_WorkSpace/04_Hattrick/Hattrick-Study/99_Utility/ht-venv/lib/python3.6/site-packages/psycopg2/__init__.py:144: UserWarning: The psycopg2 wheel package will be renamed from release 2.8; in order to keep installing from binary please use \"pip install psycopg2-binary\" instead. For details see: <http://initd.org/psycopg/docs/install.html#binary-install-from-pypi>.\n",
      "  \"\"\")\n"
     ]
    }
   ],
   "source": [
    "import sys\n",
    "\n",
    "sys.path.insert(0, '../03_Remake_with_TDD/algorithms')\n",
    "from ht_time import *\n",
    "\n",
    "sys.path.insert(0, '../03_Remake_with_TDD/postgresql')\n",
    "from ht_player_postgresql import *\n",
    "from ht_match_postgresql import *"
   ]
  },
  {
   "cell_type": "code",
   "execution_count": 2,
   "metadata": {},
   "outputs": [
    {
     "name": "stdout",
     "output_type": "stream",
     "text": [
      "folder = 2018/11/21\n"
     ]
    }
   ],
   "source": [
    "ht_time = HattrickTime()\n",
    "folder = ht_time.findLastSunOrWed()\n",
    "# folder = '2018/04/08'\n",
    "print(\"folder =\", folder)"
   ]
  },
  {
   "cell_type": "code",
   "execution_count": 3,
   "metadata": {},
   "outputs": [],
   "source": [
    "import re\n",
    "from bs4 import BeautifulSoup"
   ]
  },
  {
   "cell_type": "code",
   "execution_count": 6,
   "metadata": {},
   "outputs": [],
   "source": [
    "import sys\n",
    "sys.path.insert(0, '../97_Parse/')\n",
    "from parseMatch import *\n",
    "\n",
    "sys.path.insert(0, '../98_Crawler/01_DualMonitor/')\n",
    "from DualMonitor import getIsDualMonitor\n",
    "\n",
    "sys.path.insert(0, '../98_Crawler/02_WebBrowser/')\n",
    "from FirefoxTab import clickTabOfFireFox\n",
    "from crawMatch import *\n",
    "\n",
    "sys.path.insert(0, '../98_Crawler/03_OnScreen/')\n",
    "from Empty import clickEmpty\n",
    "from MoveScroll import moveScroll\n",
    "from MoveFindMoveClick import moveByImage, moveByImageWithModify\n",
    "\n",
    "sys.path.insert(0, '../98_Crawler/04_Login/')\n",
    "from HattrickLogInOut import clickHattrickLogin, clickHattrickLogout"
   ]
  },
  {
   "cell_type": "code",
   "execution_count": 5,
   "metadata": {
    "scrolled": true
   },
   "outputs": [
    {
     "name": "stdout",
     "output_type": "stream",
     "text": [
      "use 2 monitor = 3840 x 1080 isDualMonitor= True\n"
     ]
    },
    {
     "ename": "KeyboardInterrupt",
     "evalue": "",
     "output_type": "error",
     "traceback": [
      "\u001b[0;31m---------------------------------------------------------------------------\u001b[0m",
      "\u001b[0;31mKeyboardInterrupt\u001b[0m                         Traceback (most recent call last)",
      "\u001b[0;32m<ipython-input-5-95d1bc3f54c4>\u001b[0m in \u001b[0;36m<module>\u001b[0;34m\u001b[0m\n\u001b[1;32m      6\u001b[0m \u001b[0mclickEmpty\u001b[0m\u001b[0;34m(\u001b[0m\u001b[0;36m305\u001b[0m\u001b[0;34m,\u001b[0m \u001b[0misDualMonitor\u001b[0m\u001b[0;34m)\u001b[0m\u001b[0;34m\u001b[0m\u001b[0;34m\u001b[0m\u001b[0m\n\u001b[1;32m      7\u001b[0m \u001b[0mmoveScroll\u001b[0m\u001b[0;34m(\u001b[0m\u001b[0;36m20\u001b[0m\u001b[0;34m)\u001b[0m\u001b[0;34m\u001b[0m\u001b[0;34m\u001b[0m\u001b[0m\n\u001b[0;32m----> 8\u001b[0;31m \u001b[0mclickHattrickLogin\u001b[0m\u001b[0;34m(\u001b[0m\u001b[0;36m510\u001b[0m\u001b[0;34m,\u001b[0m \u001b[0;36m305\u001b[0m\u001b[0;34m,\u001b[0m \u001b[0misDualMonitor\u001b[0m\u001b[0;34m)\u001b[0m\u001b[0;34m\u001b[0m\u001b[0;34m\u001b[0m\u001b[0m\n\u001b[0m\u001b[1;32m      9\u001b[0m \u001b[0;34m\u001b[0m\u001b[0m\n\u001b[1;32m     10\u001b[0m \u001b[0;31m# clickHattrickLogout(1270, 370, isDualMonitor)\u001b[0m\u001b[0;34m\u001b[0m\u001b[0;34m\u001b[0m\u001b[0;34m\u001b[0m\u001b[0m\n",
      "\u001b[0;32m~/02_WorkSpace/04_Hattrick/Hattrick-Study/98_Crawler/04_Login/HattrickLogInOut.py\u001b[0m in \u001b[0;36mclickHattrickLogin\u001b[0;34m(x, y, isDualMonitor)\u001b[0m\n\u001b[1;32m     61\u001b[0m \u001b[0;34m\u001b[0m\u001b[0m\n\u001b[1;32m     62\u001b[0m         \u001b[0;31m# type id\u001b[0m\u001b[0;34m\u001b[0m\u001b[0;34m\u001b[0m\u001b[0;34m\u001b[0m\u001b[0m\n\u001b[0;32m---> 63\u001b[0;31m         \u001b[0mpyautogui\u001b[0m\u001b[0;34m.\u001b[0m\u001b[0mtypewrite\u001b[0m\u001b[0;34m(\u001b[0m\u001b[0;34m'heavy2defence'\u001b[0m\u001b[0;34m,\u001b[0m \u001b[0minterval\u001b[0m\u001b[0;34m=\u001b[0m\u001b[0;36m0.07\u001b[0m\u001b[0;34m)\u001b[0m\u001b[0;34m\u001b[0m\u001b[0;34m\u001b[0m\u001b[0m\n\u001b[0m\u001b[1;32m     64\u001b[0m \u001b[0;34m\u001b[0m\u001b[0m\n\u001b[1;32m     65\u001b[0m         \u001b[0;31m# wait\u001b[0m\u001b[0;34m\u001b[0m\u001b[0;34m\u001b[0m\u001b[0;34m\u001b[0m\u001b[0m\n",
      "\u001b[0;32m~/02_WorkSpace/04_Hattrick/Hattrick-Study/99_Utility/ht-venv/lib/python3.6/site-packages/pyautogui/__init__.py\u001b[0m in \u001b[0;36mtypewrite\u001b[0;34m(message, interval, pause, _pause)\u001b[0m\n\u001b[1;32m    983\u001b[0m             \u001b[0mc\u001b[0m \u001b[0;34m=\u001b[0m \u001b[0mc\u001b[0m\u001b[0;34m.\u001b[0m\u001b[0mlower\u001b[0m\u001b[0;34m(\u001b[0m\u001b[0;34m)\u001b[0m\u001b[0;34m\u001b[0m\u001b[0;34m\u001b[0m\u001b[0m\n\u001b[1;32m    984\u001b[0m         \u001b[0mpress\u001b[0m\u001b[0;34m(\u001b[0m\u001b[0mc\u001b[0m\u001b[0;34m,\u001b[0m \u001b[0m_pause\u001b[0m\u001b[0;34m=\u001b[0m\u001b[0;32mFalse\u001b[0m\u001b[0;34m)\u001b[0m\u001b[0;34m\u001b[0m\u001b[0;34m\u001b[0m\u001b[0m\n\u001b[0;32m--> 985\u001b[0;31m         \u001b[0mtime\u001b[0m\u001b[0;34m.\u001b[0m\u001b[0msleep\u001b[0m\u001b[0;34m(\u001b[0m\u001b[0minterval\u001b[0m\u001b[0;34m)\u001b[0m\u001b[0;34m\u001b[0m\u001b[0;34m\u001b[0m\u001b[0m\n\u001b[0m\u001b[1;32m    986\u001b[0m         \u001b[0m_failSafeCheck\u001b[0m\u001b[0;34m(\u001b[0m\u001b[0;34m)\u001b[0m\u001b[0;34m\u001b[0m\u001b[0;34m\u001b[0m\u001b[0m\n\u001b[1;32m    987\u001b[0m \u001b[0;34m\u001b[0m\u001b[0m\n",
      "\u001b[0;31mKeyboardInterrupt\u001b[0m: "
     ]
    }
   ],
   "source": [
    "# isDualMonitor\n",
    "isDualMonitor = getIsDualMonitor()\n",
    "\n",
    "clickTabOfFireFox(4, isDualMonitor)\n",
    "\n",
    "clickEmpty(305, isDualMonitor)\n",
    "moveScroll(20)\n",
    "clickHattrickLogin(510, 305, isDualMonitor)\n",
    "\n",
    "# clickHattrickLogout(1270, 370, isDualMonitor)"
   ]
  },
  {
   "cell_type": "code",
   "execution_count": 8,
   "metadata": {},
   "outputs": [
    {
     "name": "stdout",
     "output_type": "stream",
     "text": [
      "use 2 monitor = 3840 x 1080 isDualMonitor= True\n",
      "screen-MyClub.png location on Screen ( 517 336 79 44 )\n",
      "screen-Match.png location on Screen ( 380 698 84 100 )\n"
     ]
    }
   ],
   "source": [
    "# isDualMonitor\n",
    "isDualMonitor = getIsDualMonitor()\n",
    "\n",
    "# Hattrick HeavyDefence Tab\n",
    "clickTabOfFireFox(4, isDualMonitor)\n",
    "\n",
    "# Hattrick Login by Facebook\n",
    "clickEmpty(305, isDualMonitor)\n",
    "moveScroll(20)\n",
    "clickHattrickLogin(510, 305, isDualMonitor)\n",
    "\n",
    "# Hattrick MyClub\n",
    "moveScroll(20)\n",
    "moveByImage(517, 336, 79, 44, isDualMonitor, 'screen-MyClub.png')\n",
    "\n",
    "# Hattrick Match\n",
    "clickEmpty(700, isDualMonitor)\n",
    "moveScroll(20)\n",
    "moveByImage(380, 698, 84, 100, isDualMonitor, 'screen-Match.png')\n",
    "\n",
    "# Hattrick LastMatch\n",
    "clickEmpty(831, isDualMonitor)\n",
    "moveScroll(20)\n",
    "# moveByImageWithModify(1040, 831, 15, -15, 58, 48, isDualMonitor, 'screen-LastMatch.png')\n",
    "moveAndClick(1095, 845, isDualMonitor)\n",
    "time.sleep(5)\n",
    "\n",
    "# FirefoxFile\n",
    "moveAndClick(90, 15, isDualMonitor)\n",
    "\n",
    "# # SavePageAs\n",
    "# time.sleep(3)\n",
    "# moveAndClick(91, 130, isDualMonitor)\n",
    "\n",
    "# # Type match\n",
    "# time.sleep(3)\n",
    "# typeFileName()\n",
    "\n",
    "# # rwoo folder\n",
    "# moveAndClick(570, 460, isDualMonitor)\n",
    "\n",
    "# # 02_workspace folder\n",
    "# moveAndClicks(720, 440, isDualMonitor, 2)\n",
    "\n",
    "# # 04_Hattrick folder\n",
    "# moveAndClicks(720, 500, isDualMonitor, 2)\n",
    "\n",
    "# # HattrickStudy\n",
    "# moveAndClicks(720, 415, isDualMonitor, 2)\n",
    "\n",
    "# # 01_Heavy2Defence\n",
    "# moveAndClicks(720, 440, isDualMonitor, 2)\n",
    "\n",
    "# # 2018\n",
    "# moveAndClicks(720, 440, isDualMonitor, 2)\n",
    "\n",
    "# # Last Month\n",
    "# clickLastMonthOrDay()\n",
    "\n",
    "# # Last Day\n",
    "# clickLastMonthOrDay()\n",
    "\n",
    "# # Save\n",
    "# moveByImage(1280, 847, 91, 41, isDualMonitor, 'screen-Save.png')\n",
    "\n",
    "# # Hattrick Logout by Facebook\n",
    "# clickEmpty(336, isDualMonitor)\n",
    "# moveScroll(20)\n",
    "# clickHattrickLogout(1270, 370, isDualMonitor)\n",
    "\n",
    "# # Jupyter Tab\n",
    "# clickTabOfFireFox(7, isDualMonitor)"
   ]
  },
  {
   "cell_type": "code",
   "execution_count": 9,
   "metadata": {},
   "outputs": [],
   "source": [
    "from ht_file import *\n",
    "HattrickFile = HattrickFile()"
   ]
  },
  {
   "cell_type": "code",
   "execution_count": 10,
   "metadata": {},
   "outputs": [
    {
     "name": "stdout",
     "output_type": "stream",
     "text": [
      "2018/11/21/match_files\t\t : is exitsted\n",
      "2018/11/21/match_files\t\t : will be removed\n",
      "2018/11/21/match_files\t\t : is not exitsed\n"
     ]
    }
   ],
   "source": [
    "HattrickFile.check_and_delete_folder(folder + '/match_files')"
   ]
  },
  {
   "cell_type": "code",
   "execution_count": 11,
   "metadata": {},
   "outputs": [],
   "source": [
    "from ht_match import *"
   ]
  },
  {
   "cell_type": "code",
   "execution_count": 12,
   "metadata": {},
   "outputs": [],
   "source": [
    "HattrickMatch = HattrickMatch()"
   ]
  },
  {
   "cell_type": "code",
   "execution_count": 13,
   "metadata": {},
   "outputs": [],
   "source": [
    "# ht_player_table_name = 'player'\n",
    "ht_player_table_name = 'player_tmp'"
   ]
  },
  {
   "cell_type": "code",
   "execution_count": 14,
   "metadata": {
    "scrolled": true
   },
   "outputs": [
    {
     "name": "stdout",
     "output_type": "stream",
     "text": [
      "Away\n"
     ]
    }
   ],
   "source": [
    "match_dict_list = HattrickMatch.findMatchList(folder + '/match.html', 'mydatabase2', ht_player_table_name)"
   ]
  },
  {
   "cell_type": "code",
   "execution_count": 15,
   "metadata": {},
   "outputs": [
    {
     "name": "stdout",
     "output_type": "stream",
     "text": [
      "\n",
      "cat match_str_List\n",
      "\n",
      "po,num,rt,sMin,eMin\n",
      "KP,1,3.5,0,90\n",
      "WB,72,2.5,0,90\n",
      "WB,75,3,0,90\n",
      "CD,64,5.5,0,90\n",
      "CD,69,3.5,0,90\n",
      "CD,68,5,0,90\n",
      "W,43,5.5,0,90\n",
      "W,63,6.5,0,16\n",
      "W,7,4,16,90\n",
      "IM,31,7,0,90\n",
      "IM,12,5.5,0,65\n",
      "IM,10,6.0,65,90\n",
      "FW,16,6,0,90\n"
     ]
    }
   ],
   "source": [
    "match_str_list = HattrickMatch.matchDictListToMatchStrList(match_dict_list)\n",
    "\n",
    "print(\"\\ncat match_str_List\\n\")\n",
    "for str_line in match_str_list:\n",
    "    print(str_line)"
   ]
  },
  {
   "cell_type": "code",
   "execution_count": 16,
   "metadata": {},
   "outputs": [
    {
     "name": "stdout",
     "output_type": "stream",
     "text": [
      "2018/11/21/match.txt\t : is not existed\n"
     ]
    }
   ],
   "source": [
    "HattrickFile.check_and_delete_file(folder + '/match.txt')"
   ]
  },
  {
   "cell_type": "code",
   "execution_count": 17,
   "metadata": {},
   "outputs": [],
   "source": [
    "for line in match_str_list:\n",
    "    with open (folder + '/match.txt', 'a') as f:\n",
    "        f.write(line + \"\\n\")"
   ]
  },
  {
   "cell_type": "code",
   "execution_count": 18,
   "metadata": {},
   "outputs": [],
   "source": [
    "import psycopg2"
   ]
  },
  {
   "cell_type": "code",
   "execution_count": 19,
   "metadata": {},
   "outputs": [
    {
     "data": {
      "text/plain": [
       "<connection object at 0x7ff7e2d5b768; dsn: 'user=myuser password=xxx dbname=mydatabase2 host=localhost port=65432', closed: 0>"
      ]
     },
     "execution_count": 19,
     "metadata": {},
     "output_type": "execute_result"
    }
   ],
   "source": [
    "conn = psycopg2.connect(\"dbname='mydatabase2' user='myuser' host='localhost' port='65432' password='123qwe'\")\n",
    "conn"
   ]
  },
  {
   "cell_type": "code",
   "execution_count": 20,
   "metadata": {},
   "outputs": [],
   "source": [
    "hattrickMatchPostgresql = HattrickMatchPostgreSQL()\n",
    "hattrickPlayerPostgresql = HattrickPlayerPostgreSQL()"
   ]
  },
  {
   "cell_type": "code",
   "execution_count": 21,
   "metadata": {},
   "outputs": [
    {
     "data": {
      "text/plain": [
       "1089"
      ]
     },
     "execution_count": 21,
     "metadata": {},
     "output_type": "execute_result"
    }
   ],
   "source": [
    "hattrickMatchPostgresql.select_count_of_match(conn)"
   ]
  },
  {
   "cell_type": "code",
   "execution_count": 22,
   "metadata": {},
   "outputs": [],
   "source": [
    "import csv\n",
    "with open(folder + '/match.txt', 'r', encoding='utf-8') as f:\n",
    "    reader = csv.reader(f, delimiter=',')\n",
    "    for row in reader:\n",
    "        if(re.match( '^[0-9]{1,2}', row[1] ) ) :\n",
    "            hattrickMatchPostgresql.insert_to_match(conn, folder.replace('/', '-'), row)"
   ]
  },
  {
   "cell_type": "code",
   "execution_count": 23,
   "metadata": {},
   "outputs": [
    {
     "data": {
      "text/plain": [
       "1102"
      ]
     },
     "execution_count": 23,
     "metadata": {},
     "output_type": "execute_result"
    }
   ],
   "source": [
    "hattrickMatchPostgresql.select_count_of_match(conn)"
   ]
  },
  {
   "cell_type": "code",
   "execution_count": 24,
   "metadata": {},
   "outputs": [],
   "source": [
    "hattrickMatchPostgresql.update_rt_of_match(conn, ht_player_table_name)"
   ]
  },
  {
   "cell_type": "code",
   "execution_count": 25,
   "metadata": {},
   "outputs": [
    {
     "name": "stdout",
     "output_type": "stream",
     "text": [
      "KP\t1\t3.5\t0\t90\n",
      "WB\t72\t2.5\t0\t90\n",
      "WB\t75\t3.0\t0\t90\n",
      "CD\t69\t3.0\t0\t90\n",
      "CD\t64\t5.0\t0\t90\n",
      "CD\t68\t4.5\t0\t90\n",
      "W\t63\t6.5\t0\t16\n",
      "W\t7\t3.5\t16\t90\n",
      "W\t43\t5.5\t0\t90\n",
      "IM\t12\t5.5\t0\t65\n",
      "IM\t10\t6.0\t65\t90\n",
      "IM\t31\t6.5\t0\t90\n",
      "FW\t16\t6.0\t0\t90\n"
     ]
    }
   ],
   "source": [
    "tupleList = hattrickMatchPostgresql.getMatchByDate(folder, conn)\n",
    "hattrickMatchPostgresql.printMatchByDate(tupleList)"
   ]
  },
  {
   "cell_type": "code",
   "execution_count": 26,
   "metadata": {
    "scrolled": true
   },
   "outputs": [
    {
     "name": "stdout",
     "output_type": "stream",
     "text": [
      "2018/11/21/match.txt\t : will be removed\n",
      "2018/11/21/match.txt\t : is not existed\n"
     ]
    }
   ],
   "source": [
    "HattrickFile.check_and_delete_file(folder + '/match.txt')"
   ]
  },
  {
   "cell_type": "code",
   "execution_count": 27,
   "metadata": {},
   "outputs": [],
   "source": [
    "with open ( folder + '/match.txt', 'a' ) as f:\n",
    "    f.write(\"po,num,rt,sMin,eMin\\n\")\n",
    "    f.write( '\\n'.join('%s,%s,%s,%s,%s' % myTuple for myTuple in tupleList) + '\\n' )"
   ]
  },
  {
   "cell_type": "code",
   "execution_count": 28,
   "metadata": {
    "scrolled": true
   },
   "outputs": [
    {
     "name": "stdout",
     "output_type": "stream",
     "text": [
      "date num min/rt |    01   |    74   |\n",
      "----------------|---------|---------|\n",
      "2018-10-24      |  90/4.0 |         |\n",
      "2018-10-28      |         |         |\n",
      "2018-10-31      |  90/4.5 |         |\n",
      "2018-11-04      |         |         |\n",
      "2018-11-07      |  90/4.0 |         |\n",
      "2018-11-11      |         |  90/3.0 |\n",
      "2018-11-14      |  90/3.5 |         |\n",
      "2018-11-18      |         |  90/3.0 |\n",
      "2018-11-21      |  90/3.5 |         |\n"
     ]
    }
   ],
   "source": [
    "tupleList = hattrickMatchPostgresql.getMatchByPoNum(conn, 'KP', [1,74])\n",
    "hattrickMatchPostgresql.printMatchByPoNum(tupleList, [1,74])"
   ]
  },
  {
   "cell_type": "code",
   "execution_count": 29,
   "metadata": {
    "scrolled": false
   },
   "outputs": [
    {
     "name": "stdout",
     "output_type": "stream",
     "text": [
      "date num min/rt |    67   |    71   |    72   |    75   |\n",
      "----------------|---------|---------|---------|---------|\n",
      "2018-10-24      |  90/4.0 |         |  90/3.5 |         |\n",
      "2018-10-28      |         |  90/2.5 |         |  90/2.5 |\n",
      "2018-10-31      |  90/4.0 |         |  90/3.5 |         |\n",
      "2018-11-04      |         |  90/3.0 |         |  90/2.5 |\n",
      "2018-11-07      |  90/4.0 |         |  90/3.0 |         |\n",
      "2018-11-11      |  52/3.5 |  90/3.0 |         |  38/3.0 |\n",
      "2018-11-14      |  90/4.0 |         |  90/3.0 |         |\n",
      "2018-11-18      |  90/3.5 |  90/3.0 |         |         |\n",
      "2018-11-21      |         |         |  90/2.5 |  90/3.0 |\n",
      "Num\tb_p\tb_p_v\twbd_p\twb_p\twbtm_p\twbo_p\n",
      "67\tWBd\t6.45\t6.45\t5.95\t6.04\t5.45\n",
      "71\tCdo\t6.21\t5.92\t5.97\t6.02\t6.02\n",
      "72\tWBd\t5.53\t5.53\t5.49\t5.44\t5.44\n",
      "75\tWBo\t5.03\t4.98\t5.01\t4.74\t5.03\n"
     ]
    }
   ],
   "source": [
    "tupleList = hattrickMatchPostgresql.getMatchByPoNum(conn, 'WB', [67,71,72,75])\n",
    "hattrickMatchPostgresql.printMatchByPoNum(tupleList, [67,71,72,75])\n",
    "tupleList = hattrickPlayerPostgresql.select(conn, ht_player_table_name, folder, [67,71,72,75], 'wb')\n",
    "print('Num', 'b_p', 'b_p_v', 'wbd_p', 'wb_p', 'wbtm_p', 'wbo_p', sep='\\t')\n",
    "hattrickPlayerPostgresql.print(tupleList, sep='\\t')"
   ]
  },
  {
   "cell_type": "code",
   "execution_count": 30,
   "metadata": {
    "scrolled": true
   },
   "outputs": [
    {
     "name": "stdout",
     "output_type": "stream",
     "text": [
      "date num min/rt |    59   |    61   |    64   |    68   |    69   |    73   |\n",
      "----------------|---------|---------|---------|---------|---------|---------|\n",
      "2018-10-24      |         |         |  90/5.0 |  90/4.0 |  90/2.5 |         |\n",
      "2018-10-28      |  90/4.5 |  90/5.0 |         |         |         |  90/2.5 |\n",
      "2018-10-31      |         |         |  90/5.0 |  90/4.0 |  90/2.5 |         |\n",
      "2018-11-04      |  90/4.5 |  90/5.0 |         |         |         |  90/3.0 |\n",
      "2018-11-07      |         |         |  90/5.5 |  90/4.5 |  90/3.0 |         |\n",
      "2018-11-11      |  90/5.0 |  90/5.0 |         |         |         |  90/3.0 |\n",
      "2018-11-14      |         |         |  90/5.0 |  90/4.5 |  90/3.0 |         |\n",
      "2018-11-18      |  90/5.5 |  90/5.0 |         |         |         |  90/3.0 |\n",
      "2018-11-21      |         |         |  90/5.0 |  90/4.5 |  90/3.0 |         |\n",
      "Num\tb_p\tb_p_v\tcd_p\tcdtw_p\tcdo_p\n",
      "59\tCDtw\t8.88\t8.74\t8.88\t7.82\n",
      "61\tCDtw\t9.03\t9.02\t9.03\t8.67\n",
      "64\tCDtw\t8.55\t8.37\t8.55\t7.39\n",
      "68\tCDtw\t8.39\t8.38\t8.39\t8.04\n",
      "69\tCD\t5.88\t5.88\t5.55\t5.88\n",
      "73\tCD\t5.91\t5.91\t5.88\t5.76\n"
     ]
    }
   ],
   "source": [
    "tupleList = hattrickMatchPostgresql.getMatchByPoNum(conn, 'CD', [59,61,64,68,69,73])\n",
    "hattrickMatchPostgresql.printMatchByPoNum(tupleList, [59,61,64,68,69,73])\n",
    "tupleList = hattrickPlayerPostgresql.select(conn, ht_player_table_name, folder, [59,61,64,68,69,73], 'cd')\n",
    "print('Num', 'b_p', 'b_p_v', 'cd_p', 'cdtw_p', 'cdo_p', sep='\\t')\n",
    "hattrickPlayerPostgresql.print(tupleList, sep='\\t')"
   ]
  },
  {
   "cell_type": "code",
   "execution_count": 31,
   "metadata": {
    "scrolled": false
   },
   "outputs": [
    {
     "name": "stdout",
     "output_type": "stream",
     "text": [
      "date num min/rt |    07   |    13   |    15   |    43   |    63   |\n",
      "----------------|---------|---------|---------|---------|---------|\n",
      "2018-10-24      |  55/4.0 |         |         |  35/4.5 |  90/6.0 |\n",
      "2018-10-28      |         |  90/6.5 |  90/7.0 |         |         |\n",
      "2018-10-31      |  50/4.0 |         |         |  40/4.0 |  90/6.0 |\n",
      "2018-11-04      |         |  90/6.5 |  90/7.0 |         |         |\n",
      "2018-11-07      |  50/4.5 |         |         |  40/5.0 |  90/5.5 |\n",
      "2018-11-11      |         |  90/6.5 |  90/6.5 |         |         |\n",
      "2018-11-14      |  35/4.5 |         |         |  55/5.0 |  90/5.5 |\n",
      "2018-11-18      |         |  90/6.5 |  90/6.5 |         |         |\n",
      "2018-11-21      |  74/3.5 |         |         |  90/5.5 |  16/6.5 |\n",
      "Num\tb_p\tb_p_v\twd_p\tw_p\twtm_p, wo_p\n",
      "7\tWBd\t7.08\t6.22\t5.84\t5.80\t5.75\n",
      "13\tWBd\t10.55\t9.14\t8.55\t8.50\t8.37\n",
      "15\tWBd\t9.93\t8.74\t8.22\t8.13\t8.17\n",
      "43\tWBd\t9.84\t7.52\t6.53\t6.44\t6.25\n",
      "63\tIMd\t8.8\t8.27\t8.46\t8.66\t8.21\n"
     ]
    }
   ],
   "source": [
    "tupleList = hattrickMatchPostgresql.getMatchByPoNum(conn, 'W', [7,13,15,43,63])\n",
    "hattrickMatchPostgresql.printMatchByPoNum(tupleList, [7,13,15,43,63])\n",
    "tupleList = hattrickPlayerPostgresql.select(conn, ht_player_table_name, folder, [7,13,15,43,63], 'w')\n",
    "print('Num', 'b_p', 'b_p_v', 'wd_p', 'w_p', 'wtm_p, wo_p', sep='\\t')\n",
    "hattrickPlayerPostgresql.print(tupleList, sep='\\t')"
   ]
  },
  {
   "cell_type": "code",
   "execution_count": 32,
   "metadata": {
    "scrolled": true
   },
   "outputs": [
    {
     "name": "stdout",
     "output_type": "stream",
     "text": [
      "date num min/rt |    09   |    10   |    11   |    12   |    31   |\n",
      "----------------|---------|---------|---------|---------|---------|\n",
      "2018-10-24      |         |  46/5.5 |  44/5.0 |         |  90/6.5 |\n",
      "2018-10-28      |  90/6.0 |  50/6.0 |         |  40/5.0 |         |\n",
      "2018-10-31      |         |  90/5.5 |  79/4.5 |         |  11/7.0 |\n",
      "2018-11-04      |  90/5.5 |  50/6.0 |         |  40/5.0 |         |\n",
      "2018-11-07      |         |  46/5.5 |         |  90/5.0 |  44/7.0 |\n",
      "2018-11-11      |  90/5.5 |  50/5.5 |         |  40/5.0 |         |\n",
      "2018-11-14      |         |  25/5.5 |         |  65/5.5 |  90/6.5 |\n",
      "2018-11-18      |  90/6.0 |  50/6.0 |         |  40/5.5 |         |\n",
      "2018-11-21      |         |  25/6.0 |         |  65/5.5 |  90/6.5 |\n",
      "Num\tb_p\tb_p_v\timd_p\tim_p\timtw_p\timo_p\n",
      "9\tCD\t10.68\t8.84\t8.53\t8.41\t8.20\n",
      "10\tCD\t9.89\t8.75\t8.40\t8.16\t8.01\n",
      "11\tCD\t7.78\t6.96\t6.79\t6.66\t6.60\n",
      "12\tIMd\t8.5\t8.50\t8.48\t8.26\t8.44\n",
      "31\tCD\t10.03\t9.88\t9.78\t9.26\t9.65\n"
     ]
    }
   ],
   "source": [
    "tupleList = hattrickMatchPostgresql.getMatchByPoNum(conn, 'IM', [9,10,11,12,31])\n",
    "hattrickMatchPostgresql.printMatchByPoNum(tupleList, [9,10,11,12,31])\n",
    "tupleList = hattrickPlayerPostgresql.select(conn, ht_player_table_name, folder, [9,10,11,12,31], 'im')\n",
    "print('Num', 'b_p', 'b_p_v', 'imd_p', 'im_p', 'imtw_p', 'imo_p', sep='\\t')\n",
    "hattrickPlayerPostgresql.print(tupleList, sep='\\t')"
   ]
  },
  {
   "cell_type": "code",
   "execution_count": 33,
   "metadata": {
    "scrolled": false
   },
   "outputs": [
    {
     "name": "stdout",
     "output_type": "stream",
     "text": [
      "date num min/rt |    16   |    18   |    60   |\n",
      "----------------|---------|---------|---------|\n",
      "2018-10-24      |         |  80/5.5 |  10/5.0 |\n",
      "2018-10-28      |  81/6.0 |         |   9/5.0 |\n",
      "2018-10-31      |         |  80/5.5 |  10/5.0 |\n",
      "2018-11-04      |  35/6.0 |         |         |\n",
      "2018-11-07      |         |  80/5.5 |  10/5.0 |\n",
      "2018-11-11      |         |  65/5.5 |  25/5.0 |\n",
      "2018-11-14      |  90/6.0 |         |         |\n",
      "2018-11-18      |         |  70/5.5 |  20/5.0 |\n",
      "2018-11-21      |  90/6.0 |         |         |\n",
      "num\tb_p\tb_p_v\tfw_p\tfwd_p\tfwtw_p\ttdf_p\n",
      "16\tFWtw\t7.3\t7.11\t6.36\t7.30\t0.00\n",
      "18\tFWd\t6.46\t6.42\t6.46\t6.20\t0.00\n",
      "60\tFW\t5.94\t5.94\t5.45\t5.74\t0.00\n"
     ]
    }
   ],
   "source": [
    "tupleList = hattrickMatchPostgresql.getMatchByPoNum(conn, 'FW', [16,18,60])\n",
    "hattrickMatchPostgresql.printMatchByPoNum(tupleList, [16,18,60])\n",
    "# 16 fw_w\n",
    "# 60 fw\n",
    "print('num','b_p', 'b_p_v', 'fw_p', 'fwd_p', 'fwtw_p', 'tdf_p', sep='\\t')\n",
    "tupleList = hattrickPlayerPostgresql.select(conn, ht_player_table_name, folder, [16,18,60], 'fw')\n",
    "hattrickPlayerPostgresql.print(tupleList, sep='\\t')"
   ]
  },
  {
   "cell_type": "code",
   "execution_count": 34,
   "metadata": {},
   "outputs": [
    {
     "name": "stdout",
     "output_type": "stream",
     "text": [
      "<connection object at 0x7ff7e2d5b768; dsn: 'user=myuser password=xxx dbname=mydatabase2 host=localhost port=65432', closed: 1>\n"
     ]
    }
   ],
   "source": [
    "conn.close()\n",
    "print(conn)"
   ]
  },
  {
   "cell_type": "code",
   "execution_count": 35,
   "metadata": {},
   "outputs": [
    {
     "name": "stdout",
     "output_type": "stream",
     "text": [
      "None\n"
     ]
    }
   ],
   "source": [
    "conn = None\n",
    "print(conn)"
   ]
  },
  {
   "cell_type": "code",
   "execution_count": null,
   "metadata": {},
   "outputs": [],
   "source": []
  }
 ],
 "metadata": {
  "kernelspec": {
   "display_name": "Python 3",
   "language": "python",
   "name": "python3"
  },
  "language_info": {
   "codemirror_mode": {
    "name": "ipython",
    "version": 3
   },
   "file_extension": ".py",
   "mimetype": "text/x-python",
   "name": "python",
   "nbconvert_exporter": "python",
   "pygments_lexer": "ipython3",
   "version": "3.6.7"
  }
 },
 "nbformat": 4,
 "nbformat_minor": 2
}
