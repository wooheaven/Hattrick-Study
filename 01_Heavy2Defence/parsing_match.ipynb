{
 "cells": [
  {
   "cell_type": "code",
   "execution_count": null,
   "metadata": {
    "collapsed": true
   },
   "outputs": [],
   "source": [
    "import sys\n",
    "\n",
    "sys.path.insert(0, '../03_Remake_with_TDD/algorithms')\n",
    "from ht_time import *"
   ]
  },
  {
   "cell_type": "code",
   "execution_count": null,
   "metadata": {},
   "outputs": [],
   "source": [
    "ht_time = HattrickTime()\n",
    "folder = ht_time.findLastSunOrWed()\n",
    "# folder = '2018/04/08'\n",
    "print(\"folder =\", folder)"
   ]
  },
  {
   "cell_type": "code",
   "execution_count": null,
   "metadata": {
    "collapsed": true
   },
   "outputs": [],
   "source": [
    "import re\n",
    "from bs4 import BeautifulSoup"
   ]
  },
  {
   "cell_type": "code",
   "execution_count": null,
   "metadata": {
    "collapsed": true
   },
   "outputs": [],
   "source": [
    "import sys\n",
    "\n",
    "sys.path.insert(0, '../97_Parse/')\n",
    "from parseMatch import *\n",
    "\n",
    "sys.path.insert(0, '../98_Crawler/01_DualMonitor/')\n",
    "from DualMonitor import getIsDualMonitor\n",
    "\n",
    "sys.path.insert(0, '../98_Crawler/02_WebBrowser/')\n",
    "from FirefoxTab import clickTabOfFireFox\n",
    "from crawMatch import *\n",
    "\n",
    "sys.path.insert(0, '../98_Crawler/03_OnScreen/')\n",
    "from Empty import clickEmpty\n",
    "from MoveScroll import moveScroll\n",
    "from MoveFindMoveClick import moveByImage, moveByImageWithModify\n",
    "\n",
    "sys.path.insert(0, '../98_Crawler/04_Login/')\n",
    "from HattrickLogInOut import clickHattrickLogin, clickHattrickLogout"
   ]
  },
  {
   "cell_type": "code",
   "execution_count": null,
   "metadata": {
    "collapsed": true
   },
   "outputs": [],
   "source": [
    "# isDualMonitor\n",
    "isDualMonitor = getIsDualMonitor()\n",
    "\n",
    "clickTabOfFireFox(4, isDualMonitor)\n",
    "\n",
    "clickEmpty(305, isDualMonitor)\n",
    "moveScroll(20)\n",
    "clickHattrickLogin(500, 305, isDualMonitor)\n",
    "\n",
    "# clickHattrickLogout(1270, 370, isDualMonitor)"
   ]
  },
  {
   "cell_type": "code",
   "execution_count": null,
   "metadata": {
    "collapsed": true
   },
   "outputs": [],
   "source": [
    "# isDualMonitor\n",
    "isDualMonitor = getIsDualMonitor()\n",
    "\n",
    "# Hattrick HeavyDefence Tab\n",
    "clickTabOfFireFox(4, isDualMonitor)\n",
    "\n",
    "# # Hattrick Login by Facebook\n",
    "clickEmpty(305, isDualMonitor)\n",
    "moveScroll(20)\n",
    "clickHattrickLogin(500, 305, isDualMonitor)\n",
    "\n",
    "# Hattrick MyClub\n",
    "moveScroll(20)\n",
    "moveByImage(530, 342, 77, 42, isDualMonitor, 'screen-MyClub.png')\n",
    "\n",
    "# Hattrick Match\n",
    "clickEmpty(700, isDualMonitor)\n",
    "moveScroll(20)\n",
    "moveByImage(384, 698, 80, 108, isDualMonitor, 'screen-Match.png')\n",
    "\n",
    "# Hattrick LastMatch\n",
    "clickEmpty(831, isDualMonitor)\n",
    "moveScroll(20)\n",
    "# moveByImageWithModify(1040, 831, 15, -15, 58, 48, isDualMonitor, 'screen-LastMatch.png')\n",
    "moveAndClick(1082, 841, isDualMonitor)\n",
    "time.sleep(5)\n",
    "\n",
    "# FirefoxFile\n",
    "moveAndClick(90, 15, isDualMonitor)\n",
    "\n",
    "# SavePageAs\n",
    "time.sleep(3)\n",
    "moveAndClick(91, 130, isDualMonitor)\n",
    "\n",
    "# Type match\n",
    "time.sleep(3)\n",
    "typeFileName()\n",
    "\n",
    "# rwoo folder\n",
    "moveAndClick(570, 460, isDualMonitor)\n",
    "\n",
    "# 02_workspace folder\n",
    "moveAndClicks(720, 440, isDualMonitor, 2)\n",
    "\n",
    "# 04_Hattrick folder\n",
    "moveAndClicks(720, 500, isDualMonitor, 2)\n",
    "\n",
    "# HattrickStudy\n",
    "moveAndClicks(720, 415, isDualMonitor, 2)\n",
    "\n",
    "# 01_Heavy2Defence\n",
    "moveAndClicks(720, 440, isDualMonitor, 2)\n",
    "\n",
    "# 2018\n",
    "moveAndClicks(720, 440, isDualMonitor, 2)\n",
    "\n",
    "# Last Month\n",
    "clickLastMonthOrDay()\n",
    "\n",
    "# Last Day\n",
    "clickLastMonthOrDay()\n",
    "\n",
    "# Save\n",
    "moveByImage(1280, 847, 91, 41, isDualMonitor, 'screen-Save.png')\n",
    "\n",
    "# Hattrick Logout by Facebook\n",
    "clickEmpty(336, isDualMonitor)\n",
    "moveScroll(20)\n",
    "clickHattrickLogout(1270, 370, isDualMonitor)\n",
    "\n",
    "# Jupyter Tab\n",
    "clickTabOfFireFox(7, isDualMonitor)"
   ]
  },
  {
   "cell_type": "code",
   "execution_count": null,
   "metadata": {
    "collapsed": true
   },
   "outputs": [],
   "source": [
    "from ht_file import *"
   ]
  },
  {
   "cell_type": "code",
   "execution_count": null,
   "metadata": {
    "collapsed": true
   },
   "outputs": [],
   "source": [
    "HattrickFile = HattrickFile()\n",
    "HattrickFile.check_and_delete_folder(folder + '/match_files')"
   ]
  },
  {
   "cell_type": "code",
   "execution_count": null,
   "metadata": {
    "collapsed": true
   },
   "outputs": [],
   "source": [
    "from ht_match import *"
   ]
  },
  {
   "cell_type": "code",
   "execution_count": null,
   "metadata": {
    "collapsed": true
   },
   "outputs": [],
   "source": [
    "HattrickMatch = HattrickMatch()\n",
    "match_dict_list = HattrickMatch.findMatchList(folder + '/match.html', 'mydatabase2')\n",
    "match_str_list = HattrickMatch.matchDictListToMatchStrList(match_dict_list)\n",
    "\n",
    "print(\"\\ncat match_str_List\\n\")\n",
    "for str_line in match_str_list:\n",
    "    print(str_line)"
   ]
  },
  {
   "cell_type": "code",
   "execution_count": null,
   "metadata": {
    "collapsed": true
   },
   "outputs": [],
   "source": [
    "HattrickFile.check_and_delete_file(folder + '/match.txt')"
   ]
  },
  {
   "cell_type": "code",
   "execution_count": null,
   "metadata": {
    "collapsed": true
   },
   "outputs": [],
   "source": [
    "for line in match_str_list:\n",
    "    with open (folder + '/match.txt', 'a') as f:\n",
    "        f.write(line + \"\\n\")"
   ]
  },
  {
   "cell_type": "code",
   "execution_count": null,
   "metadata": {
    "collapsed": true
   },
   "outputs": [],
   "source": [
    "# From match.txt to match table"
   ]
  },
  {
   "cell_type": "code",
   "execution_count": null,
   "metadata": {
    "collapsed": true
   },
   "outputs": [],
   "source": [
    "import psycopg2"
   ]
  },
  {
   "cell_type": "code",
   "execution_count": null,
   "metadata": {
    "collapsed": true
   },
   "outputs": [],
   "source": [
    "# def dropMatchTable():\n",
    "#     conn = None\n",
    "#     try:\n",
    "#         conn = psycopg2.connect(\"dbname='mydatabase2' user='myuser' host='localhost' port='65432' password='123qwe'\")\n",
    "#         cur = conn.cursor()\n",
    "#         sql = \"\"\"DROP TABLE IF EXISTS match ; \"\"\"\n",
    "#         cur.execute(sql)\n",
    "#         conn.commit()\n",
    "#     except(Exception, psycopg2.DatabaseError) as error:\n",
    "#         print(error)\n",
    "#     finally:\n",
    "#         if conn is not None:\n",
    "#             conn.close()"
   ]
  },
  {
   "cell_type": "code",
   "execution_count": null,
   "metadata": {
    "collapsed": true
   },
   "outputs": [],
   "source": [
    "#dropMatchTable()"
   ]
  },
  {
   "cell_type": "code",
   "execution_count": null,
   "metadata": {
    "collapsed": true
   },
   "outputs": [],
   "source": [
    "# def createMatchTable():\n",
    "#     conn = None\n",
    "#     try:\n",
    "#         conn = psycopg2.connect(\"dbname='mydatabase2' user='myuser' host='localhost' port='65432' password='123qwe'\")\n",
    "#         cur = conn.cursor()\n",
    "#         sql = \"\"\"\n",
    "# CREATE TABLE match (\n",
    "#     Date DATE,          --01\n",
    "#     Po   VARCHAR(5),    --02 Position\n",
    "#     Num  INT,           --03 Number\n",
    "#     RT   NUMERIC(2, 1), --04 Rating\n",
    "#     sMin INT,           --05 Start Min\n",
    "#     eMin INT            --06 End Min\n",
    "# ) ; \"\"\"\n",
    "#         cur.execute(sql)\n",
    "#         conn.commit()\n",
    "#     except(Exception, psycopg2.DatabaseError) as error:\n",
    "#         print(error)\n",
    "#     finally:\n",
    "#         if conn is not None:\n",
    "#             conn.close()"
   ]
  },
  {
   "cell_type": "code",
   "execution_count": null,
   "metadata": {
    "collapsed": true
   },
   "outputs": [],
   "source": [
    "# createMatchTable()"
   ]
  },
  {
   "cell_type": "code",
   "execution_count": null,
   "metadata": {
    "collapsed": true
   },
   "outputs": [],
   "source": [
    "def selectCountPlayer():\n",
    "    conn = None\n",
    "    try:\n",
    "        conn = psycopg2.connect(\"dbname='mydatabase2' user='myuser' host='localhost' port='65432' password='123qwe'\")\n",
    "        cur = conn.cursor()\n",
    "        sql = \"SELECT COUNT(*) FROM match\" \n",
    "        \n",
    "        cur.execute(sql)\n",
    "        row = cur.fetchone()\n",
    "    except (Exception, psycopg2.DatabaseError) as error:\n",
    "        print(error)\n",
    "        print(sql)\n",
    "    finally:\n",
    "        if conn is not None:\n",
    "            conn.close()\n",
    "    return row[0]"
   ]
  },
  {
   "cell_type": "code",
   "execution_count": null,
   "metadata": {
    "collapsed": true
   },
   "outputs": [],
   "source": [
    "selectCountPlayer()"
   ]
  },
  {
   "cell_type": "code",
   "execution_count": null,
   "metadata": {
    "collapsed": true
   },
   "outputs": [],
   "source": [
    "def insertMatchTable(time, row):\n",
    "    conn = None\n",
    "    try:\n",
    "        conn = psycopg2.connect(\"dbname='mydatabase2' user='myuser' host='localhost' port='65432' password='123qwe'\")\n",
    "        cur = conn.cursor()\n",
    "        sql = \"\"\"\n",
    "INSERT INTO match ( \n",
    "    SELECT \n",
    "        to_date(%s, 'YYYY-MM-DD'), --01 \n",
    "        %s, %s, %s, %s, %s         --02 03 04 05 06\n",
    ") ;\"\"\"\n",
    "        cur.execute(sql, ( time,\n",
    "                           row[0], row[1], row[2], row[3], row[4] ) )\n",
    "        conn.commit()\n",
    "    except (Exception, psycopg2.DatabaseError) as error:\n",
    "        print(\"Error Happend\")\n",
    "        print(error)\n",
    "        print(sql)\n",
    "        print(row)\n",
    "    finally:\n",
    "        if conn is not None:\n",
    "            conn.close()"
   ]
  },
  {
   "cell_type": "code",
   "execution_count": null,
   "metadata": {
    "collapsed": true
   },
   "outputs": [],
   "source": [
    "import csv\n",
    "with open(folder + '/match.txt', 'r', encoding='utf-8') as f:\n",
    "    reader = csv.reader(f, delimiter=',')\n",
    "    for row in reader:\n",
    "        if(re.match( '^[0-9]{1,2}', row[1] ) ) :\n",
    "            insertMatchTable( folder.replace('/','-'), row )"
   ]
  },
  {
   "cell_type": "code",
   "execution_count": null,
   "metadata": {
    "collapsed": true
   },
   "outputs": [],
   "source": [
    "selectCountPlayer()"
   ]
  },
  {
   "cell_type": "code",
   "execution_count": null,
   "metadata": {
    "collapsed": true
   },
   "outputs": [],
   "source": [
    "def updateRatingOfMatchTable():\n",
    "    conn = None\n",
    "    try:\n",
    "        conn = psycopg2.connect(\"dbname='mydatabase2' user='myuser' host='localhost' port='65432' password='123qwe'\")\n",
    "        cur = conn.cursor()\n",
    "        sql = \"\"\"\n",
    "update match \n",
    "    set rt = player.rt \n",
    "from player   \n",
    "where \n",
    "    match.date = player.date \n",
    "    and player.date = player.last \n",
    "    and match.po = player.po \n",
    "    and match.num = player.num \n",
    "    and match.rt != player.rt\n",
    "; \"\"\"\n",
    "        cur.execute(sql)\n",
    "        conn.commit()\n",
    "    except (Exception, psycopg2.DatabaseError) as error:\n",
    "        print(\"Error Happend\")\n",
    "        print(error)\n",
    "        print(sql)\n",
    "    finally:\n",
    "        if conn is not None:\n",
    "            conn.close()"
   ]
  },
  {
   "cell_type": "code",
   "execution_count": null,
   "metadata": {
    "collapsed": true
   },
   "outputs": [],
   "source": [
    "updateRatingOfMatchTable()"
   ]
  },
  {
   "cell_type": "code",
   "execution_count": null,
   "metadata": {
    "collapsed": true
   },
   "outputs": [],
   "source": [
    "def getTupleListFromMatch(query):\n",
    "    outputList = list();\n",
    "    conn = None\n",
    "    try:\n",
    "        conn = psycopg2.connect(\"dbname='mydatabase2' user='myuser' host='localhost' port='65432' password='123qwe'\")\n",
    "        cur = conn.cursor()\n",
    "        \n",
    "        #print(query + \"\\n\")\n",
    "        cur.execute(query)\n",
    "        row = cur.fetchone()\n",
    "        while row is not None:\n",
    "            #print(row)\n",
    "            outputList.append(row)\n",
    "            row = cur.fetchone()\n",
    "    except (Exception, psycopg2.DatabaseError) as error:\n",
    "        print(\"Error Happend\")\n",
    "        print(error)\n",
    "    finally:\n",
    "        if conn is not None:\n",
    "            conn.close()\n",
    "    return outputList"
   ]
  },
  {
   "cell_type": "code",
   "execution_count": null,
   "metadata": {
    "collapsed": true,
    "scrolled": true
   },
   "outputs": [],
   "source": [
    "query = \"\"\n",
    "query += \"\\n\" + \"SELECT \"\n",
    "query += \"\\n\" + \"    po, num, rt :: VARCHAR(5), smin, emin \"\n",
    "query += \"\\n\" + \"FROM match \"\n",
    "query += \"\\n\" + \"WHERE \"\n",
    "query += \"\\n\" + \"    date ='\" + folder.replace('/','-') + \"'\"\n",
    "query += \"\\n\" + \"ORDER BY \"\n",
    "query += \"\\n\" + \"    CASE \"\n",
    "query += \"\\n\" + \"        WHEN po = 'KP' THEN 1\"\n",
    "query += \"\\n\" + \"        WHEN po = 'WB' THEN 2\"\n",
    "query += \"\\n\" + \"        WHEN po = 'CD' THEN 3\"\n",
    "query += \"\\n\" + \"        WHEN po = 'W'  THEN 4\"\n",
    "query += \"\\n\" + \"        WHEN po = 'IM' THEN 5\"\n",
    "query += \"\\n\" + \"        WHEN po = 'FW' THEN 6\"\n",
    "query += \"\\n\" + \"        ELSE 7 \"\n",
    "query += \"\\n\" + \"    END, \"\n",
    "query += \"\\n\" + \"    emin asc, smin desc\"\n",
    "\n",
    "tupleList = getTupleListFromMatch(query)\n",
    "for tuple in tupleList:\n",
    "    print(tuple[0], tuple[1], tuple[2], tuple[3], tuple[4], sep='\\t')"
   ]
  },
  {
   "cell_type": "code",
   "execution_count": null,
   "metadata": {
    "collapsed": true,
    "scrolled": true
   },
   "outputs": [],
   "source": [
    "HattrickFile.check_and_delete_file(folder + '/match.txt')"
   ]
  },
  {
   "cell_type": "code",
   "execution_count": null,
   "metadata": {
    "collapsed": true
   },
   "outputs": [],
   "source": [
    "with open ( folder + '/match.txt', 'a' ) as f:\n",
    "    f.write(\"po,num,rt,sMin,eMin\\n\")\n",
    "    f.write( '\\n'.join('%s,%s,%s,%s,%s' % myTuple for myTuple in tupleList) + '\\n' )"
   ]
  },
  {
   "cell_type": "code",
   "execution_count": null,
   "metadata": {
    "collapsed": true
   },
   "outputs": [],
   "source": [
    "def getKP():\n",
    "    outputList = list();\n",
    "    conn = None\n",
    "    try:\n",
    "        conn = psycopg2.connect(\"dbname='mydatabase2' user='myuser' host='localhost' port='65432' password='123qwe'\")\n",
    "        cur = conn.cursor()\n",
    "        \n",
    "        query =  \"\"\"SELECT * \"\"\"                                                        + \"\\n\"\n",
    "        query += \"\"\"FROM crosstab( \"\"\"                                                  + \"\\n\"\n",
    "        query += \"\"\"    'SELECT \"\"\"                                                     + \"\\n\"\n",
    "        query += \"\"\"        date, \"\"\"                                                   + \"\\n\"\n",
    "        query += \"\"\"        num, \"\"\"                                                    + \"\\n\"\n",
    "        query += \"\"\"        CASE \"\"\"                                                    + \"\\n\"\n",
    "        query += \"\"\"            WHEN length(time_rt)=5 THEN ''  ''||''''||time_rt \"\"\"   + \"\\n\"\n",
    "        query += \"\"\"            WHEN length(time_rt)=6 THEN '' ''||''''||time_rt \"\"\"    + \"\\n\"\n",
    "        query += \"\"\"            WHEN length(time_rt)=7 THEN time_rt \"\"\"                 + \"\\n\"\n",
    "        query += \"\"\"            ELSE ''error'' \"\"\"                                      + \"\\n\"\n",
    "        query += \"\"\"        END AS time_rt \"\"\"                                          + \"\\n\"\n",
    "        query += \"\"\"    FROM ( \"\"\"                                                      + \"\\n\"\n",
    "        query += \"\"\"        SELECT \"\"\"                                                  + \"\\n\"\n",
    "        query += \"\"\"            date :: VARCHAR(10), \"\"\"                                + \"\\n\"\n",
    "        query += \"\"\"            num :: VARCHAR(2), \"\"\"                                  + \"\\n\"\n",
    "        query += \"\"\"            emin-smin||''/''||rt :: VARCHAR(7) as time_rt \"\"\"       + \"\\n\"\n",
    "        query += \"\"\"        FROM match \"\"\"                                              + \"\\n\"\n",
    "        query += \"\"\"        WHERE \"\"\"                                                   + \"\\n\"\n",
    "        query += \"\"\"            po = ''KP'' and current_date - 30 < date \"\"\"            + \"\\n\"\n",
    "        query += \"\"\"        ORDER BY \"\"\"                                                + \"\\n\"\n",
    "        query += \"\"\"            date, num \"\"\"                                           + \"\\n\"\n",
    "        query += \"\"\"    ) AS a', \"\"\"                                                    + \"\\n\"\n",
    "        query += \"\"\"    'SELECT m from unnest(''{1,2}''::int[]) m' \"\"\"                  + \"\\n\"\n",
    "        query += \"\"\") \"\"\"                                                               + \"\\n\"\n",
    "        query += \"\"\"AS ( \"\"\"                                                            + \"\\n\"\n",
    "        query += \"\"\"    \"date num min/rt\" VARCHAR(10), \"\"\"                              + \"\\n\"\n",
    "        query += \"\"\"    \"   01  \" VARCHAR(8), \"\"\"                                       + \"\\n\"\n",
    "        query += \"\"\"    \"   02  \" VARCHAR(8) \"\"\"                                        + \"\\n\"\n",
    "        query += \"\"\") \"\"\"                                                               + \"\\n\"\n",
    "        query += \"\"\"ORDER BY 1 \"\"\"                                                      + \"\\n\"\n",
    "\n",
    "        #print(query + \"\\n\")\n",
    "        cur.execute(query)\n",
    "        row = cur.fetchone()\n",
    "        while row is not None:\n",
    "            #print(row)\n",
    "            outputList.append(row)\n",
    "            row = cur.fetchone()\n",
    "    except (Exception, psycopg2.DatabaseError) as error:\n",
    "        print(\"Error Happend\")\n",
    "        print(error)\n",
    "    finally:\n",
    "        if conn is not None:\n",
    "            conn.close()\n",
    "    return outputList"
   ]
  },
  {
   "cell_type": "code",
   "execution_count": null,
   "metadata": {
    "collapsed": true
   },
   "outputs": [],
   "source": [
    "def xstr(s):\n",
    "    if s is None:\n",
    "        return '       '\n",
    "    else :\n",
    "        if len(s) == 6:\n",
    "            s = ' ' + s\n",
    "        if len(s) == 5:\n",
    "            s = '  ' + s\n",
    "    return str(s)"
   ]
  },
  {
   "cell_type": "code",
   "execution_count": null,
   "metadata": {
    "collapsed": true
   },
   "outputs": [],
   "source": [
    "tupleList = getKP()\n",
    "print('date num min/rt |    01   |    02    ')\n",
    "print('----------------+---------+----------')\n",
    "for tuple in tupleList:\n",
    "    #print( len(tuple) )\n",
    "    print(tuple[0] + '     ', xstr(tuple[1]), xstr(tuple[2]), sep=\" | \")"
   ]
  },
  {
   "cell_type": "code",
   "execution_count": null,
   "metadata": {
    "collapsed": true
   },
   "outputs": [],
   "source": [
    "def getWB():\n",
    "    outputList = list();\n",
    "    conn = None\n",
    "    try:\n",
    "        conn = psycopg2.connect(\"dbname='mydatabase2' user='myuser' host='localhost' port='65432' password='123qwe'\")\n",
    "        cur = conn.cursor()\n",
    "        \n",
    "        query =  \"\"\"SELECT * \"\"\"                                                        + \"\\n\"\n",
    "        query += \"\"\"FROM crosstab( \"\"\"                                                  + \"\\n\"\n",
    "        query += \"\"\"    'SELECT \"\"\"                                                     + \"\\n\"\n",
    "        query += \"\"\"        date, \"\"\"                                                   + \"\\n\"\n",
    "        query += \"\"\"        num, \"\"\"                                                    + \"\\n\"\n",
    "        query += \"\"\"        CASE \"\"\"                                                    + \"\\n\"\n",
    "        query += \"\"\"            WHEN length(time_rt)=5 THEN ''  ''||''''||time_rt \"\"\"   + \"\\n\"\n",
    "        query += \"\"\"            WHEN length(time_rt)=6 THEN '' ''||''''||time_rt \"\"\"    + \"\\n\"\n",
    "        query += \"\"\"            WHEN length(time_rt)=7 THEN time_rt \"\"\"                 + \"\\n\"\n",
    "        query += \"\"\"            ELSE ''error'' \"\"\"                                      + \"\\n\"\n",
    "        query += \"\"\"        END AS time_rt \"\"\"                                          + \"\\n\"\n",
    "        query += \"\"\"    FROM ( \"\"\"                                                      + \"\\n\"\n",
    "        query += \"\"\"        SELECT \"\"\"                                                  + \"\\n\"\n",
    "        query += \"\"\"            date :: VARCHAR(10), \"\"\"                                + \"\\n\"\n",
    "        query += \"\"\"            num :: VARCHAR(2), \"\"\"                                  + \"\\n\"\n",
    "        query += \"\"\"            emin-smin||''/''||rt :: VARCHAR(7) as time_rt \"\"\"       + \"\\n\"\n",
    "        query += \"\"\"        FROM match \"\"\"                                              + \"\\n\"\n",
    "        query += \"\"\"        WHERE \"\"\"                                                   + \"\\n\"\n",
    "        query += \"\"\"            po = ''WB'' and current_date - 30 < date \"\"\"            + \"\\n\"\n",
    "        query += \"\"\"        ORDER BY \"\"\"                                                + \"\\n\"\n",
    "        query += \"\"\"            date, num \"\"\"                                           + \"\\n\"\n",
    "        query += \"\"\"    ) AS a', \"\"\"                                                    + \"\\n\"\n",
    "        query += \"\"\"    'SELECT m from unnest(''{44,46,54,58}''::int[]) m' \"\"\"          + \"\\n\"\n",
    "        query += \"\"\") \"\"\"                                                               + \"\\n\"\n",
    "        query += \"\"\"AS ( \"\"\"                                                            + \"\\n\"\n",
    "        query += \"\"\"    \"date num min/rt\" VARCHAR(10), \"\"\"                              + \"\\n\"\n",
    "        query += \"\"\"    \"   44  \" VARCHAR(8), \"\"\"                                       + \"\\n\"\n",
    "        query += \"\"\"    \"   46  \" VARCHAR(8), \"\"\"                                       + \"\\n\"\n",
    "        query += \"\"\"    \"   54  \" VARCHAR(8), \"\"\"                                       + \"\\n\"\n",
    "        query += \"\"\"    \"   58  \" VARCHAR(8) \"\"\"                                        + \"\\n\"\n",
    "        query += \"\"\") \"\"\"                                                               + \"\\n\"\n",
    "        query += \"\"\"ORDER BY 1 \"\"\"                                                      + \"\\n\"\n",
    "\n",
    "#         print(query + \"\\n\")\n",
    "        cur.execute(query)\n",
    "        row = cur.fetchone()\n",
    "        while row is not None:\n",
    "            #print(row)\n",
    "            outputList.append(row)\n",
    "            row = cur.fetchone()\n",
    "    except (Exception, psycopg2.DatabaseError) as error:\n",
    "        print(query +\" \\n\")\n",
    "        print(\"Error Happend\")\n",
    "        print(error)\n",
    "    finally:\n",
    "        if conn is not None:\n",
    "            conn.close()\n",
    "    return outputList"
   ]
  },
  {
   "cell_type": "code",
   "execution_count": null,
   "metadata": {
    "collapsed": true
   },
   "outputs": [],
   "source": [
    "tupleList = getWB()\n",
    "print('date num min/rt |    44   |    46   |    54   |    58   ')\n",
    "print('----------------+---------+---------+---------+---------')\n",
    "for tuple in tupleList:\n",
    "    #print( len(tuple) )\n",
    "    print(tuple[0] + '     ', xstr(tuple[1]), xstr(tuple[2]), xstr(tuple[3]), xstr(tuple[4]), sep=\" | \")"
   ]
  },
  {
   "cell_type": "code",
   "execution_count": null,
   "metadata": {
    "collapsed": true
   },
   "outputs": [],
   "source": [
    "def getCD():\n",
    "    outputList = list();\n",
    "    conn = None\n",
    "    try:\n",
    "        conn = psycopg2.connect(\"dbname='mydatabase2' user='myuser' host='localhost' port='65432' password='123qwe'\")\n",
    "        cur = conn.cursor()\n",
    "\n",
    "        query =  \"\"\"SELECT * \"\"\"                                                        + \"\\n\"\n",
    "        query += \"\"\"FROM crosstab( \"\"\"                                                  + \"\\n\"\n",
    "        query += \"\"\"    'SELECT \"\"\"                                                     + \"\\n\" \n",
    "        query += \"\"\"        date, \"\"\"                                                   + \"\\n\"\n",
    "        query += \"\"\"        num, \"\"\"                                                    + \"\\n\"\n",
    "        query += \"\"\"        CASE \"\"\"                                                    + \"\\n\"\n",
    "        query += \"\"\"            WHEN length(time_rt)=5 THEN ''  ''||''''||time_rt \"\"\"   + \"\\n\"\n",
    "        query += \"\"\"            WHEN length(time_rt)=6 THEN '' ''||''''||time_rt \"\"\"    + \"\\n\"\n",
    "        query += \"\"\"            WHEN length(time_rt)=7 THEN time_rt \"\"\"                 + \"\\n\"\n",
    "        query += \"\"\"            ELSE ''error'' \"\"\"                                      + \"\\n\"\n",
    "        query += \"\"\"        END AS time_rt \"\"\"                                          + \"\\n\"\n",
    "        query += \"\"\"    FROM ( \"\"\"                                                      + \"\\n\"\n",
    "        query += \"\"\"        SELECT \"\"\"                                                  + \"\\n\"\n",
    "        query += \"\"\"            date :: VARCHAR(10), \"\"\"                                + \"\\n\"\n",
    "        query += \"\"\"            num :: VARCHAR(2), \"\"\"                                  + \"\\n\"\n",
    "        query += \"\"\"            emin-smin||''/''||rt :: VARCHAR(7) as time_rt \"\"\"       + \"\\n\" \n",
    "        query += \"\"\"        FROM match \"\"\"                                              + \"\\n\" \n",
    "        query += \"\"\"        WHERE \"\"\"                                                   + \"\\n\" \n",
    "        query += \"\"\"            po = ''CD'' and current_date - 30 < date \"\"\"            + \"\\n\" \n",
    "        query += \"\"\"        ORDER BY \"\"\"                                                + \"\\n\"\n",
    "        query += \"\"\"            date, num \"\"\"                                           + \"\\n\"\n",
    "        query += \"\"\"    ) AS a', \"\"\"                                                    + \"\\n\"\n",
    "        query += \"\"\"    'SELECT m from unnest(''{33,43,48,59,61,64}''::int[]) m' \"\"\"    + \"\\n\" \n",
    "        query += \"\"\") \"\"\"                                                               + \"\\n\"\n",
    "        query += \"\"\"AS ( \"\"\"                                                            + \"\\n\"\n",
    "        query += \"\"\"    \"date num min/rt\" VARCHAR(10), \"\"\"                              + \"\\n\" \n",
    "        query += \"\"\"    \"   33  \" VARCHAR(8), \"\"\"                                       + \"\\n\"\n",
    "        query += \"\"\"    \"   43  \" VARCHAR(8), \"\"\"                                       + \"\\n\"\n",
    "        query += \"\"\"    \"   48  \" VARCHAR(8), \"\"\"                                       + \"\\n\"\n",
    "        query += \"\"\"    \"   59  \" VARCHAR(8), \"\"\"                                       + \"\\n\"\n",
    "        query += \"\"\"    \"   61  \" VARCHAR(8), \"\"\"                                       + \"\\n\"\n",
    "        query += \"\"\"    \"   64  \" VARCHAR(8) \"\"\"                                        + \"\\n\"\n",
    "        query += \"\"\") \"\"\"                                                               + \"\\n\"\n",
    "        query += \"\"\"ORDER BY 1 \"\"\"                                                      + \"\\n\"\n",
    "\n",
    "#         print(query + \"\\n\")\n",
    "        cur.execute(query)\n",
    "        row = cur.fetchone()\n",
    "        while row is not None:\n",
    "            #print(row)\n",
    "            outputList.append(row)\n",
    "            row = cur.fetchone()\n",
    "    except (Exception, psycopg2.DatabaseError) as error:\n",
    "        print(\"Error Happend\")\n",
    "        print(error)\n",
    "    finally:\n",
    "        if conn is not None:\n",
    "            conn.close()\n",
    "    return outputList"
   ]
  },
  {
   "cell_type": "code",
   "execution_count": null,
   "metadata": {
    "collapsed": true
   },
   "outputs": [],
   "source": [
    "tupleList = getCD()\n",
    "print('date num min/rt |    33   |    43   |    48   |    59   |    61   |    64   |')\n",
    "print('----------------+---------+---------+---------+---------+---------+---------+')\n",
    "for tuple in tupleList:\n",
    "    #print( len(tuple) )\n",
    "    print(tuple[0] + '     ', xstr(tuple[1]), xstr(tuple[2]), xstr(tuple[3]), xstr(tuple[4]), xstr(tuple[5]), xstr(tuple[6]),sep=\" | \")"
   ]
  },
  {
   "cell_type": "code",
   "execution_count": null,
   "metadata": {
    "collapsed": true
   },
   "outputs": [],
   "source": [
    "def getW():\n",
    "    outputList = list();\n",
    "    conn = None\n",
    "    try:\n",
    "        conn = psycopg2.connect(\"dbname='mydatabase2' user='myuser' host='localhost' port='65432' password='123qwe'\")\n",
    "        cur = conn.cursor()\n",
    "        \n",
    "        query =  \"\"\"SELECT * \"\"\"                                                        + \"\\n\"\n",
    "        query += \"\"\"FROM crosstab( \"\"\"                                                  + \"\\n\"\n",
    "        query += \"\"\"    'SELECT \"\"\"                                                     + \"\\n\"\n",
    "        query += \"\"\"        date, \"\"\"                                                   + \"\\n\"\n",
    "        query += \"\"\"        num, \"\"\"                                                    + \"\\n\"\n",
    "        query += \"\"\"        CASE \"\"\"                                                    + \"\\n\"\n",
    "        query += \"\"\"            WHEN length(time_rt)=5 THEN ''  ''||''''||time_rt \"\"\"   + \"\\n\"\n",
    "        query += \"\"\"            WHEN length(time_rt)=6 THEN '' ''||''''||time_rt \"\"\"    + \"\\n\"\n",
    "        query += \"\"\"            WHEN length(time_rt)=7 THEN time_rt \"\"\"                 + \"\\n\"\n",
    "        query += \"\"\"            ELSE ''error'' \"\"\"                                      + \"\\n\"\n",
    "        query += \"\"\"        END AS time_rt \"\"\"                                          + \"\\n\"\n",
    "        query += \"\"\"    FROM ( \"\"\"                                                      + \"\\n\"\n",
    "        query += \"\"\"        SELECT \"\"\"                                                  + \"\\n\"\n",
    "        query += \"\"\"            date :: VARCHAR(10), \"\"\"                                + \"\\n\"\n",
    "        query += \"\"\"            num :: VARCHAR(2), \"\"\"                                  + \"\\n\"\n",
    "        query += \"\"\"            emin-smin||''/''||rt :: VARCHAR(7) as time_rt \"\"\"       + \"\\n\"\n",
    "        query += \"\"\"        FROM match \"\"\"                                              + \"\\n\"\n",
    "        query += \"\"\"        WHERE \"\"\"                                                   + \"\\n\"\n",
    "        query += \"\"\"            po = ''W'' and current_date - 30 < date \"\"\"             + \"\\n\"\n",
    "        query += \"\"\"        ORDER BY \"\"\"                                                + \"\\n\"\n",
    "        query += \"\"\"            date, num \"\"\"                                           + \"\\n\"\n",
    "        query += \"\"\"    ) AS a', \"\"\"                                                    + \"\\n\"\n",
    "        query += \"\"\"    'SELECT m from unnest(''{3,7,13,15,63}''::int[]) m' \"\"\"         + \"\\n\"\n",
    "        query += \"\"\") \"\"\"                                                               + \"\\n\"\n",
    "        query += \"\"\"AS ( \"\"\"                                                            + \"\\n\"\n",
    "        query += \"\"\"    \"date num min/rt\" VARCHAR(10), \"\"\"                              + \"\\n\"\n",
    "        query += \"\"\"    \"   03  \" VARCHAR(8), \"\"\"                                       + \"\\n\"\n",
    "        query += \"\"\"    \"   07  \" VARCHAR(8), \"\"\"                                       + \"\\n\"\n",
    "        query += \"\"\"    \"   13  \" VARCHAR(8), \"\"\"                                       + \"\\n\"\n",
    "        query += \"\"\"    \"   15  \" VARCHAR(8), \"\"\"                                       + \"\\n\"\n",
    "        query += \"\"\"    \"   63  \" VARCHAR(8) \"\"\"                                        + \"\\n\"\n",
    "        query += \"\"\") \"\"\"                                                               + \"\\n\"\n",
    "        query += \"\"\"ORDER BY 1 \"\"\"                                                      + \"\\n\"\n",
    "        \n",
    "#         print(query + \"\\n\")\n",
    "        cur.execute(query)\n",
    "        row = cur.fetchone()\n",
    "        while row is not None:\n",
    "            #print(row)\n",
    "            outputList.append(row)\n",
    "            row = cur.fetchone()\n",
    "    except (Exception, psycopg2.DatabaseError) as error:\n",
    "        print(\"Error Happend\")\n",
    "        print(error)\n",
    "    finally:\n",
    "        if conn is not None:\n",
    "            conn.close()\n",
    "    return outputList"
   ]
  },
  {
   "cell_type": "code",
   "execution_count": null,
   "metadata": {
    "collapsed": true
   },
   "outputs": [],
   "source": [
    "tupleList = getW()\n",
    "print('date num min/rt |    03   |    07   |    13   |    15   |    63   |')\n",
    "print('----------------+---------+---------+---------+---------+---------+')\n",
    "for tuple in tupleList:\n",
    "    #print( len(tuple) )\n",
    "    print(tuple[0] + '     ', xstr(tuple[1]), xstr(tuple[2]), xstr(tuple[3]), xstr(tuple[4]), xstr(tuple[5]), sep=\" | \")"
   ]
  },
  {
   "cell_type": "code",
   "execution_count": null,
   "metadata": {
    "collapsed": true
   },
   "outputs": [],
   "source": [
    "def getIM():\n",
    "    outputList = list();\n",
    "    conn = None\n",
    "    try:\n",
    "        conn = psycopg2.connect(\"dbname='mydatabase2' user='myuser' host='localhost' port='65432' password='123qwe'\")\n",
    "        cur = conn.cursor()\n",
    "        \n",
    "        query =  \"\"\"SELECT * \"\"\"                                                        + \"\\n\"\n",
    "        query += \"\"\"FROM crosstab( \"\"\"                                                  + \"\\n\"\n",
    "        query += \"\"\"    'SELECT \"\"\"                                                     + \"\\n\"\n",
    "        query += \"\"\"        date, \"\"\"                                                   + \"\\n\"\n",
    "        query += \"\"\"        num, \"\"\"                                                    + \"\\n\"\n",
    "        query += \"\"\"        CASE \"\"\"                                                    + \"\\n\"\n",
    "        query += \"\"\"            WHEN length(time_rt)=5 THEN ''  ''||''''||time_rt \"\"\"   + \"\\n\"\n",
    "        query += \"\"\"            WHEN length(time_rt)=6 THEN '' ''||''''||time_rt \"\"\"    + \"\\n\"\n",
    "        query += \"\"\"            WHEN length(time_rt)=7 THEN time_rt \"\"\"                 + \"\\n\"\n",
    "        query += \"\"\"            ELSE ''error'' \"\"\"                                      + \"\\n\"\n",
    "        query += \"\"\"        END AS time_rt \"\"\"                                          + \"\\n\"\n",
    "        query += \"\"\"    FROM ( \"\"\"                                                      + \"\\n\"\n",
    "        query += \"\"\"        SELECT \"\"\"                                                  + \"\\n\"\n",
    "        query += \"\"\"            date :: VARCHAR(10), \"\"\"                                + \"\\n\"\n",
    "        query += \"\"\"            num :: VARCHAR(2), \"\"\"                                  + \"\\n\"\n",
    "        query += \"\"\"            emin-smin||''/''||rt :: VARCHAR(7) as time_rt \"\"\"       + \"\\n\"\n",
    "        query += \"\"\"        FROM match \"\"\"                                              + \"\\n\"\n",
    "        query += \"\"\"        WHERE \"\"\"                                                   + \"\\n\"\n",
    "        query += \"\"\"            po = ''IM'' and current_date - 30 < date \"\"\"            + \"\\n\"\n",
    "        query += \"\"\"        ORDER BY \"\"\"                                                + \"\\n\"\n",
    "        query += \"\"\"            date, num \"\"\"                                           + \"\\n\"\n",
    "        query += \"\"\"    ) AS a', \"\"\"                                                    + \"\\n\"\n",
    "        query += \"\"\"    'SELECT m from unnest(''{9,10,11,12,31}''::int[]) m' \"\"\"        + \"\\n\"\n",
    "        query += \"\"\") \"\"\"                                                               + \"\\n\"\n",
    "        query += \"\"\"AS ( \"\"\"                                                            + \"\\n\"\n",
    "        query += \"\"\"    \"date num min/rt\" VARCHAR(10), \"\"\"                              + \"\\n\"\n",
    "        query += \"\"\"    \"   09  \" VARCHAR(8), \"\"\"                                       + \"\\n\"\n",
    "        query += \"\"\"    \"   10  \" VARCHAR(8), \"\"\"                                       + \"\\n\"\n",
    "        query += \"\"\"    \"   11  \" VARCHAR(8), \"\"\"                                       + \"\\n\"\n",
    "        query += \"\"\"    \"   12  \" VARCHAR(8), \"\"\"                                       + \"\\n\"\n",
    "        query += \"\"\"    \"   31  \" VARCHAR(8) \"\"\"                                        + \"\\n\"\n",
    "        query += \"\"\") \"\"\"                                                               + \"\\n\"\n",
    "        query += \"\"\"ORDER BY 1 \"\"\"                                                      + \"\\n\"\n",
    "\n",
    "#         print(query + \"\\n\")\n",
    "        cur.execute(query)\n",
    "        row = cur.fetchone()\n",
    "        while row is not None:\n",
    "            #print(row)\n",
    "            outputList.append(row)\n",
    "            row = cur.fetchone()\n",
    "    except (Exception, psycopg2.DatabaseError) as error:\n",
    "        print(\"Error Happend\")\n",
    "        print(error)\n",
    "    finally:\n",
    "        if conn is not None:\n",
    "            conn.close()\n",
    "    return outputList"
   ]
  },
  {
   "cell_type": "code",
   "execution_count": null,
   "metadata": {
    "collapsed": true
   },
   "outputs": [],
   "source": [
    "tupleList = getIM()\n",
    "print('date num min/rt |    09   |    10   |    11   |    12   |    31   |')\n",
    "print('----------------+---------+---------+---------+---------+---------+')\n",
    "for tuple in tupleList:\n",
    "    #print( len(tuple) )\n",
    "    print(tuple[0] + '     ', xstr(tuple[1]), xstr(tuple[2]), xstr(tuple[3]), xstr(tuple[4]), xstr(tuple[5]), sep=\" | \")"
   ]
  },
  {
   "cell_type": "code",
   "execution_count": null,
   "metadata": {
    "collapsed": true
   },
   "outputs": [],
   "source": [
    "def getFW():\n",
    "    outputList = list();\n",
    "    conn = None\n",
    "    try:\n",
    "        conn = psycopg2.connect(\"dbname='mydatabase2' user='myuser' host='localhost' port='65432' password='123qwe'\")\n",
    "        cur = conn.cursor()\n",
    "        \n",
    "        query =  \"\"\"SELECT * \"\"\"                                                        + \"\\n\"\n",
    "        query += \"\"\"FROM crosstab( \"\"\"                                                  + \"\\n\"\n",
    "        query += \"\"\"    'SELECT \"\"\"                                                     + \"\\n\"\n",
    "        query += \"\"\"        date, \"\"\"                                                   + \"\\n\"\n",
    "        query += \"\"\"        num, \"\"\"                                                    + \"\\n\"\n",
    "        query += \"\"\"        CASE \"\"\"                                                    + \"\\n\"\n",
    "        query += \"\"\"            WHEN length(time_rt)=5 THEN ''  ''||''''||time_rt \"\"\"   + \"\\n\"\n",
    "        query += \"\"\"            WHEN length(time_rt)=6 THEN '' ''||''''||time_rt \"\"\"    + \"\\n\"\n",
    "        query += \"\"\"            WHEN length(time_rt)=7 THEN time_rt \"\"\"                 + \"\\n\"\n",
    "        query += \"\"\"            ELSE ''error'' \"\"\"                                      + \"\\n\"\n",
    "        query += \"\"\"        END AS time_rt \"\"\"                                          + \"\\n\"\n",
    "        query += \"\"\"    FROM ( \"\"\"                                                      + \"\\n\"\n",
    "        query += \"\"\"        SELECT \"\"\"                                                  + \"\\n\"\n",
    "        query += \"\"\"            date :: VARCHAR(10), \"\"\"                                + \"\\n\"\n",
    "        query += \"\"\"            num :: VARCHAR(2), \"\"\"                                  + \"\\n\"\n",
    "        query += \"\"\"            emin-smin||''/''||rt :: VARCHAR(7) as time_rt \"\"\"       + \"\\n\"\n",
    "        query += \"\"\"        FROM match \"\"\"                                              + \"\\n\"\n",
    "        query += \"\"\"        WHERE \"\"\"                                                   + \"\\n\"\n",
    "        query += \"\"\"            po = ''FW'' and current_date - 30 < date \"\"\"            + \"\\n\"\n",
    "        query += \"\"\"        ORDER BY \"\"\"                                                + \"\\n\"\n",
    "        query += \"\"\"            date, num \"\"\"                                           + \"\\n\"\n",
    "        query += \"\"\"    ) AS a', \"\"\"                                                    + \"\\n\"\n",
    "        query += \"\"\"    'SELECT m from unnest(''{16,17,18,60}''::int[]) m' \"\"\"          + \"\\n\"\n",
    "        query += \"\"\") \"\"\"                                                               + \"\\n\"\n",
    "        query += \"\"\"AS ( \"\"\"                                                            + \"\\n\"\n",
    "        query += \"\"\"    \"date num min/rt\" VARCHAR(10), \"\"\"                              + \"\\n\"\n",
    "        query += \"\"\"    \"   16  \" VARCHAR(8), \"\"\"                                       + \"\\n\"\n",
    "        query += \"\"\"    \"   17  \" VARCHAR(8), \"\"\"                                       + \"\\n\"\n",
    "        query += \"\"\"    \"   18  \" VARCHAR(8), \"\"\"                                       + \"\\n\"\n",
    "        query += \"\"\"    \"   60  \" VARCHAR(8) \"\"\"                                        + \"\\n\"\n",
    "        query += \"\"\") \"\"\"                                                               + \"\\n\"\n",
    "        query += \"\"\"ORDER BY 1 \"\"\"                                                      + \"\\n\"\n",
    "\n",
    "#         print(query + \"\\n\")\n",
    "        cur.execute(query)\n",
    "        row = cur.fetchone()\n",
    "        while row is not None:\n",
    "            #print(row)\n",
    "            outputList.append(row)\n",
    "            row = cur.fetchone()\n",
    "    except (Exception, psycopg2.DatabaseError) as error:\n",
    "        print(\"Error Happend\")\n",
    "        print(error)\n",
    "    finally:\n",
    "        if conn is not None:\n",
    "            conn.close()\n",
    "    return outputList"
   ]
  },
  {
   "cell_type": "code",
   "execution_count": null,
   "metadata": {},
   "outputs": [],
   "source": [
    "tupleList = getFW()\n",
    "print('date num min/rt |    16   |    17   |    18   |    60   |')\n",
    "print('----------------+---------+---------+---------+---------+')\n",
    "for tuple in tupleList:\n",
    "    #print( len(tuple) )\n",
    "    print(tuple[0] + '     ',xstr(tuple[1]), xstr(tuple[2]), xstr(tuple[3]), xstr(tuple[4]), sep=\" | \")"
   ]
  },
  {
   "cell_type": "code",
   "execution_count": null,
   "metadata": {
    "collapsed": true
   },
   "outputs": [],
   "source": []
  }
 ],
 "metadata": {
  "kernelspec": {
   "display_name": "Python 3",
   "language": "python",
   "name": "python3"
  },
  "language_info": {
   "codemirror_mode": {
    "name": "ipython",
    "version": 3
   },
   "file_extension": ".py",
   "mimetype": "text/x-python",
   "name": "python",
   "nbconvert_exporter": "python",
   "pygments_lexer": "ipython3",
   "version": "3.6.3"
  }
 },
 "nbformat": 4,
 "nbformat_minor": 2
}
