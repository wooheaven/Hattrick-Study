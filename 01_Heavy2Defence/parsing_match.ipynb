{
 "cells": [
  {
   "cell_type": "code",
   "execution_count": null,
   "metadata": {
    "collapsed": true
   },
   "outputs": [],
   "source": [
    "import re\n",
    "from bs4 import BeautifulSoup"
   ]
  },
  {
   "cell_type": "code",
   "execution_count": 3,
   "metadata": {},
   "outputs": [
    {
     "data": {
      "text/plain": [
       "'2017/08/13'"
      ]
     },
     "execution_count": 3,
     "metadata": {},
     "output_type": "execute_result"
    }
   ],
   "source": [
    "folder = \"2017/08/13\"\n",
    "folder"
   ]
  },
  {
   "cell_type": "code",
   "execution_count": null,
   "metadata": {
    "collapsed": true
   },
   "outputs": [],
   "source": [
    "# From match.html to match.txt"
   ]
  },
  {
   "cell_type": "code",
   "execution_count": null,
   "metadata": {
    "collapsed": true
   },
   "outputs": [],
   "source": [
    "import pyautogui, time\n",
    "screenWidth, screenHeight = pyautogui.size()\n",
    "currentMouseX, currentMouseY = pyautogui.position()"
   ]
  },
  {
   "cell_type": "code",
   "execution_count": null,
   "metadata": {
    "collapsed": true
   },
   "outputs": [],
   "source": [
    "# firefox 4번째 tab 클릭하기\n",
    "pyautogui.moveTo(screenWidth/10*7, screenHeight/30*1, duration=1.4)\n",
    "pyautogui.click()\n",
    "# hattrick 배경 클릭하기\n",
    "pyautogui.moveTo(screenWidth/11*6, screenHeight/30*3, duration=1)\n",
    "pyautogui.click()\n",
    "# 스크롤 올리기\n",
    "pyautogui.scroll(20)\n",
    "# 나의 클럽 클릭하기\n",
    "pyautogui.moveTo(screenWidth/14*9, screenHeight/30*10, duration=1.2)\n",
    "pyautogui.click()\n",
    "# hattrick 배경 클릭하기\n",
    "pyautogui.moveTo(screenWidth/11*6, screenHeight/30*3, duration=2)\n",
    "pyautogui.click()\n",
    "# 스크롤 올리기\n",
    "pyautogui.scroll(20)\n",
    "# 경기 클릭하기\n",
    "pyautogui.moveTo(screenWidth/18*11, screenHeight/36*25, duration=2)\n",
    "pyautogui.click()\n",
    "# 마지막 경기 클릭하기\n",
    "pyautogui.moveTo(screenWidth/18*13, screenHeight/41*31, duration=2.7)\n",
    "pyautogui.click()\n",
    "# Firefox 파일 클릭하기\n",
    "pyautogui.moveTo(screenWidth/50*26, screenHeight/70*1, duration=3.1)\n",
    "pyautogui.click()\n",
    "# 다른 이름으로 저정하기 클릭하기\n",
    "pyautogui.moveTo(screenWidth/50*26, screenHeight/100*16, duration=1.5)\n",
    "pyautogui.click()\n",
    "# 파일이름 지정하기\n",
    "time.sleep(2.4)\n",
    "pyautogui.typewrite('match', interval=0.25)\n",
    "# Home 폴더 클릭하기\n",
    "pyautogui.moveTo(screenWidth/50*32, screenHeight/200*55, duration=1.3)\n",
    "pyautogui.click(clicks=2, interval=0.2)\n",
    "# 02_workspace 폴더 클릭하기\n",
    "pyautogui.moveTo(screenWidth/50*35, screenHeight/100*39, duration=1.3)\n",
    "pyautogui.click(clicks=2, interval=0.2)\n",
    "# 06_Hattrick_Workspace 폴더 클릭하기\n",
    "pyautogui.moveTo(screenWidth/50*35, screenHeight/100*47, duration=0.5)\n",
    "pyautogui.click(clicks=2, interval=0.2)\n",
    "# Hattrick-Study 폴더 클릭하기\n",
    "pyautogui.moveTo(screenWidth/100*69, screenHeight/200*67, duration=0.5)\n",
    "pyautogui.click(clicks=2, interval=0.2)\n",
    "# 01_Heavy2Defence 폴더 클릭하기\n",
    "pyautogui.moveTo(screenWidth/100*69, screenHeight/200*72, duration=0.5)\n",
    "pyautogui.click(clicks=2, interval=0.2)\n",
    "# 2017 폴더 클릭하기\n",
    "pyautogui.moveTo(screenWidth/100*69, screenHeight/200*67, duration=0.5)\n",
    "pyautogui.click(clicks=2, interval=0.2)\n",
    "# 08 폴더 클릭하기\n",
    "pyautogui.moveTo(screenWidth/100*69, screenHeight/200*67, duration=0.5)\n",
    "pyautogui.click(clicks=2, interval=0.2)\n",
    "# 달력 클릭하기\n",
    "pyautogui.moveTo(screenWidth/100*49, screenHeight/70*1, duration=0.9)\n",
    "pyautogui.click()"
   ]
  },
  {
   "cell_type": "code",
   "execution_count": null,
   "metadata": {
    "collapsed": true
   },
   "outputs": [],
   "source": [
    "# save as match.html"
   ]
  },
  {
   "cell_type": "code",
   "execution_count": null,
   "metadata": {
    "collapsed": true
   },
   "outputs": [],
   "source": [
    "file = open(folder + \"/match.html\", \"r\")\n",
    "soup = BeautifulSoup(file.read(), \"html.parser\")\n",
    "file.close()"
   ]
  },
  {
   "cell_type": "code",
   "execution_count": null,
   "metadata": {
    "collapsed": true
   },
   "outputs": [],
   "source": [
    "def removeFirstChrLastChr(inputList):\n",
    "    outputList = list();\n",
    "    for line in inputList:\n",
    "        line = line.replace(\"[\", \"\", 1).replace(\"]\", \"\", 1).replace(\"{\", \"\", 1).replace(\"}\", \"\", 1)\n",
    "        outputList.append(line)\n",
    "    return outputList"
   ]
  },
  {
   "cell_type": "code",
   "execution_count": null,
   "metadata": {
    "collapsed": true
   },
   "outputs": [],
   "source": [
    "def filterColumn(inputList):\n",
    "    outputList = list();\n",
    "    for line in inputList:\n",
    "        col = line.split(\",\")\n",
    "        col[1] = re.sub('\"PositionID\":', '', col[1])\n",
    "        col[0] = re.sub('\"PlayerId\":', '', col[0])\n",
    "        col[3] = re.sub('\"Stars\":', '', col[3])\n",
    "        col[9] = re.sub('\"FromMin\":', '', col[9])\n",
    "        col[10] = re.sub('\"ToMin\":', '', col[10])\n",
    "        \n",
    "        newLine = col[1] + \",\" + col[0] + \",\" + col[3] + \",\" + col[9] + \",\" + col[10]\n",
    "        outputList.append(newLine)\n",
    "    return outputList"
   ]
  },
  {
   "cell_type": "code",
   "execution_count": null,
   "metadata": {
    "collapsed": true
   },
   "outputs": [],
   "source": [
    "def renamePO(inputList):\n",
    "    outputList = list();\n",
    "    for line in inputList:\n",
    "        col = line.split(\",\")\n",
    "        if col[0] == \"0\" : col[0] = \"CO\"\n",
    "        if col[0] == \"100\" : col[0] = \"KP\"\n",
    "        if ( col[0] == \"101\" or col[0] == \"105\" ) : col[0] = \"WB\"\n",
    "        if ( col[0] == \"102\" or col[0] == \"104\" ) : col[0] = \"CD\"\n",
    "        if ( col[0] == \"106\" or col[0] == \"110\" ) : col[0] = \"W\"\n",
    "        if ( col[0] == \"107\" or col[0] == \"109\" ) : col[0] = \"IM\"\n",
    "        if ( col[0] == \"111\" or col[0] == \"113\" ) : col[0] = \"FW\"\n",
    "        \n",
    "        newLine = col[0] + \",\" + col[1] + \",\" + col[2] + \",\" + col[3] + \",\" + col[4]\n",
    "        outputList.append(newLine)\n",
    "    return outputList"
   ]
  },
  {
   "cell_type": "code",
   "execution_count": null,
   "metadata": {
    "collapsed": true
   },
   "outputs": [],
   "source": [
    "def renameNumber(inputList):\n",
    "    outputList = list();\n",
    "    for line in inputList:\n",
    "        col = line.split(\",\")\n",
    "        \n",
    "        if col[1] == \"429263806\" : col[1] = \"1\"\n",
    "        if col[1] == \"429263807\" : col[1] = \"2\"\n",
    "        if col[1] == \"429263808\" : col[1] = \"3\"\n",
    "        if col[1] == \"429263809\" : col[1] = \"4\"\n",
    "        if col[1] == \"429263810\" : col[1] = \"5\"\n",
    "        \n",
    "        if col[1] == \"429263811\" : col[1] = \"6\"\n",
    "        if col[1] == \"429263812\" : col[1] = \"7\"\n",
    "        if col[1] == \"429263814\" : col[1] = \"8\"\n",
    "        if col[1] == \"429263815\" : col[1] = \"9\"\n",
    "        if col[1] == \"429263816\" : col[1] = \"10\"\n",
    "                \n",
    "        if col[1] == \"429263818\" : col[1] = \"11\"\n",
    "        if col[1] == \"429263819\" : col[1] = \"12\"\n",
    "        if col[1] == \"429263820\" : col[1] = \"13\"\n",
    "        if col[1] == \"429263822\" : col[1] = \"14\"\n",
    "        if col[1] == \"429263823\" : col[1] = \"15\"\n",
    "                \n",
    "        if col[1] == \"429263824\" : col[1] = \"16\"\n",
    "        if col[1] == \"429263826\" : col[1] = \"17\"\n",
    "        if col[1] == \"429263827\" : col[1] = \"18\"\n",
    "        if col[1] == \"429284705\" : col[1] = \"19\"\n",
    "        #if col[1] == \"\" : col[1] = \"20\"\n",
    "            \n",
    "        #if col[1] == \"\" : col[1] = \"21\"\n",
    "        #if col[1] == \"\" : col[1] = \"22\"\n",
    "        #if col[1] == \"\" : col[1] = \"23\"\n",
    "        #if col[1] == \"\" : col[1] = \"24\"\n",
    "        #if col[1] == \"\" : col[1] = \"25\"\n",
    "                \n",
    "        #if col[1] == \"\" : col[1] = \"26\"\n",
    "        #if col[1] == \"\" : col[1] = \"27\"\n",
    "        #if col[1] == \"\" : col[1] = \"28\"\n",
    "        #if col[1] == \"\" : col[1] = \"29\"\n",
    "            \n",
    "        if col[1] == \"429263805\" : col[1] = \"99\"\n",
    "        \n",
    "        newLine = col[0] + \",\" + col[1] + \",\" + col[2] + \",\" + col[3] + \",\" + col[4]\n",
    "        outputList.append(newLine)\n",
    "    return outputList"
   ]
  },
  {
   "cell_type": "code",
   "execution_count": null,
   "metadata": {
    "collapsed": true
   },
   "outputs": [],
   "source": [
    "def renameMin(inputList):\n",
    "    outputList = list();\n",
    "    for line in inputList:\n",
    "        col = line.split(\",\")\n",
    "        if col[3] == \"-1\" : col[3] = \"0\"\n",
    "        if col[4] == \"-1\" : col[4] = \"0\"\n",
    "        if col[4] == \"91\" : col[4] = \"90\"\n",
    "        if col[4] == \"92\" : col[4] = \"90\"\n",
    "        if col[4] == \"93\" : col[4] = \"90\"\n",
    "        if col[4] == \"94\" : col[4] = \"90\"\n",
    "        newLine = col[0] + \",\" + col[1] + \",\" + col[2] + \",\" + col[3] + \",\" + col[4]\n",
    "        outputList.append(newLine)\n",
    "    return outputList"
   ]
  },
  {
   "cell_type": "code",
   "execution_count": null,
   "metadata": {
    "collapsed": true
   },
   "outputs": [],
   "source": [
    "def changedPlayer(inputList):\n",
    "    tmpList = list();\n",
    "    oldPO = \"\"\n",
    "    oldToMin = \"\"\n",
    "    for line in inputList:\n",
    "        col = line.split(\",\")\n",
    "        #PO,Number,Star,FromMin,ToMin\n",
    "        # W,22,4.0,0,50\n",
    "        # -1,24,-1.0,50,90\n",
    "        if ( oldPO != \"CO\" and col[0] == \"-1\" and oldToMin == col[3] ) :\n",
    "            col[0] = oldPO\n",
    "        else :\n",
    "            oldPO = col[0]\n",
    "            oldToMin = col[4]\n",
    "        newLine = col[0] + \",\" + col[1] + \",\" + col[2] + \",\" + col[3] + \",\" + col[4]\n",
    "        tmpList.append(newLine)\n",
    "    outputList = list();\n",
    "    oldPO = \"\"\n",
    "    oldFromMin = \"\"\n",
    "    oldToMin = \"\"\n",
    "    for line in reversed(tmpList):\n",
    "        col = line.split(\",\")\n",
    "        #PO,Number,Star,FromMin,ToMin\n",
    "        # IM,26,5.0,40,90\n",
    "        # -1,11,-1.0,0,40\n",
    "        # W,22,4.0,0,50\n",
    "        # -1,24,-1.0,50,90\n",
    "        if ( oldPO != \"CO\" and col[0] == \"-1\" and ( oldFromMin == col[4] or oldToMin == col[3] ) ) :\n",
    "            col[0] = oldPO\n",
    "        else :\n",
    "            oldPO = col[0]\n",
    "            oldFromMin = col[3]\n",
    "            oldToMin = col[4]\n",
    "        newLine = col[0] + \",\" + col[1] + \",\" + col[2] + \",\" + col[3] + \",\" + col[4]\n",
    "        outputList.append(newLine)\n",
    "    lastList = list();\n",
    "    for line in reversed(outputList):\n",
    "        lastList.append(line)\n",
    "    return lastList"
   ]
  },
  {
   "cell_type": "code",
   "execution_count": null,
   "metadata": {
    "collapsed": true
   },
   "outputs": [],
   "source": [
    "def removeRows(inputList):\n",
    "    outputList = list();\n",
    "    for line in inputList:\n",
    "        col = line.split(\",\")\n",
    "        if ( col[0] == \"PO\" or col[0] == \"KP\" or col[0] == \"WB\" or col[0] == \"CD\" or col[0] == \"W\" or col[0] == \"IM\" or col[0] == \"FW\" ):\n",
    "            outputList.append(line)\n",
    "        elif ( col[0] == \"-1\") :\n",
    "            print(\"PO is not changed yet : \" + line)\n",
    "        else :\n",
    "            print(\"This line is removed : \" + line)\n",
    "    return outputList"
   ]
  },
  {
   "cell_type": "code",
   "execution_count": null,
   "metadata": {
    "collapsed": true
   },
   "outputs": [],
   "source": [
    "def pickUpByKeyword(inputList, outputList, keyword):\n",
    "    newInputList = list();\n",
    "    for line in inputList:\n",
    "        col = line.split(\",\")\n",
    "        if col[0] == keyword:\n",
    "            outputList.append(line)\n",
    "        else :\n",
    "            newInputList.append(line)\n",
    "    return newInputList, outputList"
   ]
  },
  {
   "cell_type": "code",
   "execution_count": null,
   "metadata": {
    "collapsed": true
   },
   "outputs": [],
   "source": [
    "def sortByPO(inputList):        \n",
    "    inputList.sort(key = lambda x: ( x.split(\",\")[0], -int(x.split(\",\")[3]), int(x.split(\",\")[4])))   \n",
    "        \n",
    "    outputList = list();\n",
    "    outputList.append(\"po,num,rt,sMin,eMin\")\n",
    "    \n",
    "    inputList, outputList = pickUpByKeyword(inputList, outputList, \"KP\")\n",
    "    inputList, outputList = pickUpByKeyword(inputList, outputList, \"WB\")\n",
    "    inputList, outputList = pickUpByKeyword(inputList, outputList, \"CD\")\n",
    "    inputList, outputList = pickUpByKeyword(inputList, outputList, \"W\")\n",
    "    inputList, outputList = pickUpByKeyword(inputList, outputList, \"IM\")\n",
    "    inputList, outputList = pickUpByKeyword(inputList, outputList, \"FW\")\n",
    "\n",
    "    return outputList"
   ]
  },
  {
   "cell_type": "code",
   "execution_count": null,
   "metadata": {
    "collapsed": true
   },
   "outputs": [],
   "source": [
    "import os.path\n",
    "filePath = folder + '/match.txt'\n",
    "\n",
    "if ( os.path.exists(filePath) ):\n",
    "    os.remove(filePath)\n",
    "    print(filePath + \" <- this file is deleted.\")\n",
    "\n",
    "if not ( os.path.exists(filePath) ):\n",
    "    print(filePath + \" <- this file is not exists.\")"
   ]
  },
  {
   "cell_type": "code",
   "execution_count": null,
   "metadata": {
    "collapsed": true
   },
   "outputs": [],
   "source": [
    "for div in soup.find_all(\"div\", id=\"ctl00_ctl00_CPContent_CPMain_ucPostMatch_rptTimeline_ctl14_timelineEventPanel\"):\n",
    "    for inputTag in div.find_all(\"input\", id=\"ctl00_ctl00_CPContent_CPMain_ucPostMatch_rptTimeline_ctl14_playerRatingsAway\"):\n",
    "    #for inputTag in div.find_all(\"input\", id=\"ctl00_ctl00_CPContent_CPMain_ucPostMatch_rptTimeline_ctl14_playerRatingsHome\"):\n",
    "        #print(inputTag.prettify())\n",
    "        valueString = inputTag.get('value')\n",
    "        valueString = re.sub('},', '}\\n', valueString)\n",
    "        \n",
    "        matchList = valueString.split(\"\\n\")            \n",
    "        matchList = removeFirstChrLastChr(matchList)\n",
    "        matchList = filterColumn(matchList)\n",
    "        matchList = renamePO(matchList)\n",
    "        matchList = renameNumber(matchList)\n",
    "        matchList = renameMin(matchList)\n",
    "        matchList = changedPlayer(matchList)\n",
    "        matchList = removeRows(matchList)\n",
    "        matchList = sortByPO(matchList)\n",
    "        \n",
    "        print(\"\\ncat match.txt\\n\")\n",
    "        \n",
    "        for line in matchList:\n",
    "            print(line)\n",
    "            with open (folder + '/match.txt', 'a') as f:\n",
    "                f.write(line + \"\\n\")"
   ]
  },
  {
   "cell_type": "code",
   "execution_count": null,
   "metadata": {
    "collapsed": true
   },
   "outputs": [],
   "source": [
    "# From match.txt to match table"
   ]
  },
  {
   "cell_type": "code",
   "execution_count": 5,
   "metadata": {
    "collapsed": true
   },
   "outputs": [],
   "source": [
    "import psycopg2"
   ]
  },
  {
   "cell_type": "code",
   "execution_count": null,
   "metadata": {
    "collapsed": true
   },
   "outputs": [],
   "source": [
    "def dropMatchTable():\n",
    "    conn = None\n",
    "    try:\n",
    "        conn = psycopg2.connect(\"dbname='mydatabase2' user='myuser' host='localhost' port='65432' password='123qwe'\")\n",
    "        cur = conn.cursor()\n",
    "        sql = \"\"\"DROP TABLE IF EXISTS match ; \"\"\"\n",
    "        cur.execute(sql)\n",
    "        conn.commit()\n",
    "    except(Exception, psycopg2.DatabaseError) as error:\n",
    "        print(error)\n",
    "    finally:\n",
    "        if conn is not None:\n",
    "            conn.close()"
   ]
  },
  {
   "cell_type": "code",
   "execution_count": null,
   "metadata": {
    "collapsed": true
   },
   "outputs": [],
   "source": [
    "#dropMatchTable()"
   ]
  },
  {
   "cell_type": "code",
   "execution_count": null,
   "metadata": {
    "collapsed": true
   },
   "outputs": [],
   "source": [
    "def createMatchTable():\n",
    "    conn = None\n",
    "    try:\n",
    "        conn = psycopg2.connect(\"dbname='mydatabase2' user='myuser' host='localhost' port='65432' password='123qwe'\")\n",
    "        cur = conn.cursor()\n",
    "        sql = \"\"\"\n",
    "CREATE TABLE match (\n",
    "    Date DATE,          --01\n",
    "    Po   VARCHAR(5),    --02 Position\n",
    "    Num  INT,           --03 Number\n",
    "    RT   NUMERIC(2, 1), --04 Rating\n",
    "    sMin INT,           --05 Start Min\n",
    "    eMin INT            --06 End Min\n",
    ") ; \"\"\"\n",
    "        cur.execute(sql)\n",
    "        conn.commit()\n",
    "    except(Exception, psycopg2.DatabaseError) as error:\n",
    "        print(error)\n",
    "    finally:\n",
    "        if conn is not None:\n",
    "            conn.close()"
   ]
  },
  {
   "cell_type": "code",
   "execution_count": null,
   "metadata": {
    "collapsed": true
   },
   "outputs": [],
   "source": [
    "#createMatchTable()"
   ]
  },
  {
   "cell_type": "code",
   "execution_count": null,
   "metadata": {
    "collapsed": true
   },
   "outputs": [],
   "source": [
    "def insertMatchTable(time, row):\n",
    "    conn = None\n",
    "    try:\n",
    "        conn = psycopg2.connect(\"dbname='mydatabase2' user='myuser' host='localhost' port='65432' password='123qwe'\")\n",
    "        cur = conn.cursor()\n",
    "        sql = \"\"\"\n",
    "INSERT INTO match ( \n",
    "    SELECT \n",
    "        to_date(%s, 'YYYY-MM-DD'), --01 \n",
    "        %s, %s, %s, %s, %s       --02 03 04 05 06\n",
    ") ;\"\"\"\n",
    "        cur.execute(sql, ( time,\n",
    "                           row[0], row[1], row[2], row[3], row[4] ) )\n",
    "        conn.commit()\n",
    "    except (Exception, psycopg2.DatabaseError) as error:\n",
    "        print(\"Error Happend\")\n",
    "        print(error)\n",
    "        print(sql)\n",
    "        print(row)\n",
    "    finally:\n",
    "        if conn is not None:\n",
    "            conn.close()"
   ]
  },
  {
   "cell_type": "code",
   "execution_count": null,
   "metadata": {
    "collapsed": true
   },
   "outputs": [],
   "source": [
    "import csv\n",
    "with open(folder + '/match.txt', 'r', encoding='utf-8') as f:\n",
    "    reader = csv.reader(f, delimiter=',')\n",
    "    for row in reader:\n",
    "        if(re.match( '^[0-9]{1,2}', row[1] ) ) :\n",
    "            insertMatchTable( folder.replace('/','-'), row )"
   ]
  },
  {
   "cell_type": "code",
   "execution_count": null,
   "metadata": {
    "collapsed": true
   },
   "outputs": [],
   "source": [
    "def updateRatingOfMatchTable():\n",
    "    conn = None\n",
    "    try:\n",
    "        conn = psycopg2.connect(\"dbname='mydatabase2' user='myuser' host='localhost' port='65432' password='123qwe'\")\n",
    "        cur = conn.cursor()\n",
    "        sql = \"\"\"\n",
    "update match \n",
    "    set rt = player.rt \n",
    "from player   \n",
    "where \n",
    "    match.date = player.date \n",
    "    and player.date = player.last \n",
    "    and match.po = player.po \n",
    "    and match.num = player.num \n",
    "; \"\"\"\n",
    "        cur.execute(sql)\n",
    "        conn.commit()\n",
    "    except (Exception, psycopg2.DatabaseError) as error:\n",
    "        print(\"Error Happend\")\n",
    "        print(error)\n",
    "        print(sql)\n",
    "    finally:\n",
    "        if conn is not None:\n",
    "            conn.close()"
   ]
  },
  {
   "cell_type": "code",
   "execution_count": null,
   "metadata": {
    "collapsed": true
   },
   "outputs": [],
   "source": [
    "updateRatingOfMatchTable()"
   ]
  },
  {
   "cell_type": "code",
   "execution_count": 14,
   "metadata": {
    "collapsed": true
   },
   "outputs": [],
   "source": [
    "def getTupleListFromMatch(SelectString, WhereString):\n",
    "    outputList = list();\n",
    "    conn = None\n",
    "    try:\n",
    "        conn = psycopg2.connect(\"dbname='mydatabase' user='myuser' host='localhost' port='65432' password='123qwe'\")\n",
    "        cur = conn.cursor()\n",
    "        OrderByString = \"\"\n",
    "        OrderByString += \"\\n\" + \"ORDER BY \"\n",
    "        OrderByString += \"\\n\" + \"    CASE \"\n",
    "        OrderByString += \"\\n\" + \"        WHEN po = 'KP' THEN 1 \"\n",
    "        OrderByString += \"\\n\" + \"        WHEN po = 'WB' THEN 2 \"\n",
    "        OrderByString += \"\\n\" + \"        WHEN po = 'CD' THEN 3 \"\n",
    "        OrderByString += \"\\n\" + \"        WHEN po = 'W'  THEN 4 \"\n",
    "        OrderByString += \"\\n\" + \"        WHEN po = 'IM' THEN 5 \"\n",
    "        OrderByString += \"\\n\" + \"        WHEN po = 'FW' THEN 6 \"\n",
    "        OrderByString += \"\\n\" + \"        ELSE 7 \"\n",
    "        OrderByString += \"\\n\" + \"    END \"\n",
    "        \n",
    "        sql = SelectString + \"\\n\" + \"FROM match \" + WhereString + OrderByString + \"\\n\"\n",
    "        print(sql)\n",
    "        cur.execute(sql)\n",
    "        row = cur.fetchone()\n",
    "        while row is not None:\n",
    "            #print(row)\n",
    "            outputList.append(row)\n",
    "            row = cur.fetchone()\n",
    "    except (Exception, psycopg2.DatabaseError) as error:\n",
    "        print(\"Error Happend\")\n",
    "        print(error)\n",
    "    finally:\n",
    "        if conn is not None:\n",
    "            conn.close()\n",
    "    return outputList"
   ]
  },
  {
   "cell_type": "code",
   "execution_count": 15,
   "metadata": {},
   "outputs": [
    {
     "name": "stdout",
     "output_type": "stream",
     "text": [
      "\n",
      "SELECT \n",
      "    po, num, rt :: VARCHAR(5), smin, emin \n",
      "FROM match \n",
      "WHERE \n",
      "    date = '2017-08-13'\n",
      "ORDER BY \n",
      "    CASE \n",
      "        WHEN po = 'KP' THEN 1 \n",
      "        WHEN po = 'WB' THEN 2 \n",
      "        WHEN po = 'CD' THEN 3 \n",
      "        WHEN po = 'W'  THEN 4 \n",
      "        WHEN po = 'IM' THEN 5 \n",
      "        WHEN po = 'FW' THEN 6 \n",
      "        ELSE 7 \n",
      "    END \n",
      "\n",
      "KP\t1\t5.0\t0\t46\n",
      "KP\t29\t2.5\t46\t90\n",
      "WB\t6\t3.0\t0\t90\n",
      "WB\t8\t3.5\t0\t90\n",
      "CD\t4\t3.5\t0\t90\n",
      "CD\t7\t4.0\t38\t90\n",
      "CD\t3\t3.5\t0\t38\n",
      "W\t13\t4.0\t0\t90\n",
      "W\t24\t3.5\t0\t90\n",
      "IM\t9\t3.0\t0\t90\n",
      "IM\t10\t4.0\t0\t90\n",
      "FW\t16\t4.5\t0\t90\n",
      "FW\t12\t3.0\t0\t41\n",
      "FW\t17\t4.0\t41\t90\n"
     ]
    }
   ],
   "source": [
    "SelectString = \"\"\n",
    "SelectString += \"\\n\" + \"SELECT \"\n",
    "SelectString += \"\\n\" + \"    po, num, rt :: VARCHAR(5), smin, emin \"\n",
    "\n",
    "WhereString = \"\"\n",
    "WhereString += \"\\n\" + \"WHERE \"\n",
    "WhereString += \"\\n\" + \"    date = '\" + folder.replace('/','-') + \"'\"\n",
    "\n",
    "tupleList = getTupleListFromMatch(SelectString, WhereString)\n",
    "for tuple in tupleList:\n",
    "    print(tuple[0], tuple[1], tuple[2], tuple[3], tuple[4], sep='\\t')"
   ]
  },
  {
   "cell_type": "code",
   "execution_count": 16,
   "metadata": {
    "scrolled": true
   },
   "outputs": [
    {
     "name": "stdout",
     "output_type": "stream",
     "text": [
      "2017/08/13/match.txt <- this file is deleted.\n",
      "2017/08/13/match.txt <- this file is not exists.\n"
     ]
    }
   ],
   "source": [
    "import os.path\n",
    "filePath = folder + '/match.txt'\n",
    "\n",
    "if ( os.path.exists(filePath) ):\n",
    "    os.remove(filePath)\n",
    "    print(filePath + \" <- this file is deleted.\")\n",
    "\n",
    "if not ( os.path.exists(filePath) ):\n",
    "    print(filePath + \" <- this file is not exists.\")"
   ]
  },
  {
   "cell_type": "code",
   "execution_count": 17,
   "metadata": {
    "collapsed": true
   },
   "outputs": [],
   "source": [
    "with open ( folder + '/match.txt', 'a' ) as f:\n",
    "    f.write(\"po,num,rt,sMin,eMin\\n\")\n",
    "    f.write( '\\n'.join('%s,%s,%s,%s,%s' % myTuple for myTuple in tupleList) + '\\n' )"
   ]
  }
 ],
 "metadata": {
  "kernelspec": {
   "display_name": "Python 3",
   "language": "python",
   "name": "python3"
  },
  "language_info": {
   "codemirror_mode": {
    "name": "ipython",
    "version": 3
   },
   "file_extension": ".py",
   "mimetype": "text/x-python",
   "name": "python",
   "nbconvert_exporter": "python",
   "pygments_lexer": "ipython3",
   "version": "3.6.0"
  }
 },
 "nbformat": 4,
 "nbformat_minor": 2
}
