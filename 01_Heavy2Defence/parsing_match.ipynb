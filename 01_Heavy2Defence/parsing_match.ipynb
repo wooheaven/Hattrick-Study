{
 "cells": [
  {
   "cell_type": "code",
   "execution_count": 1,
   "metadata": {
    "collapsed": true
   },
   "outputs": [],
   "source": [
    "import sys\n",
    "\n",
    "sys.path.insert(0, '../03_Remake_with_TDD/algorithms')\n",
    "from ht_time import *\n",
    "\n",
    "sys.path.insert(0, '../03_Remake_with_TDD/postgresql')\n",
    "from ht_match_postgresql import *"
   ]
  },
  {
   "cell_type": "code",
   "execution_count": 2,
   "metadata": {},
   "outputs": [
    {
     "name": "stdout",
     "output_type": "stream",
     "text": [
      "folder = 2018/06/13\n"
     ]
    }
   ],
   "source": [
    "ht_time = HattrickTime()\n",
    "folder = ht_time.findLastSunOrWed()\n",
    "# folder = '2018/04/08'\n",
    "print(\"folder =\", folder)"
   ]
  },
  {
   "cell_type": "code",
   "execution_count": 3,
   "metadata": {
    "collapsed": true
   },
   "outputs": [],
   "source": [
    "import re\n",
    "from bs4 import BeautifulSoup"
   ]
  },
  {
   "cell_type": "code",
   "execution_count": 4,
   "metadata": {
    "collapsed": true
   },
   "outputs": [],
   "source": [
    "import sys\n",
    "\n",
    "sys.path.insert(0, '../97_Parse/')\n",
    "from parseMatch import *\n",
    "\n",
    "sys.path.insert(0, '../98_Crawler/01_DualMonitor/')\n",
    "from DualMonitor import getIsDualMonitor\n",
    "\n",
    "sys.path.insert(0, '../98_Crawler/02_WebBrowser/')\n",
    "from FirefoxTab import clickTabOfFireFox\n",
    "from crawMatch import *\n",
    "\n",
    "sys.path.insert(0, '../98_Crawler/03_OnScreen/')\n",
    "from Empty import clickEmpty\n",
    "from MoveScroll import moveScroll\n",
    "from MoveFindMoveClick import moveByImage, moveByImageWithModify\n",
    "\n",
    "sys.path.insert(0, '../98_Crawler/04_Login/')\n",
    "from HattrickLogInOut import clickHattrickLogin, clickHattrickLogout"
   ]
  },
  {
   "cell_type": "code",
   "execution_count": 34,
   "metadata": {},
   "outputs": [
    {
     "name": "stdout",
     "output_type": "stream",
     "text": [
      "use 2 monitor = 3840 x 1080 isDualMonitor= True\n"
     ]
    }
   ],
   "source": [
    "# isDualMonitor\n",
    "isDualMonitor = getIsDualMonitor()\n",
    "\n",
    "clickTabOfFireFox(4, isDualMonitor)\n",
    "\n",
    "clickEmpty(305, isDualMonitor)\n",
    "moveScroll(20)\n",
    "clickHattrickLogin(500, 305, isDualMonitor)\n",
    "\n",
    "# clickHattrickLogout(1270, 370, isDualMonitor)"
   ]
  },
  {
   "cell_type": "code",
   "execution_count": 5,
   "metadata": {},
   "outputs": [
    {
     "name": "stdout",
     "output_type": "stream",
     "text": [
      "use 2 monitor = 3840 x 1080 isDualMonitor= True\n",
      "screen-MyClub.png location on Screen ( 530 342 77 42 )\n",
      "screen-Match.png location on Screen ( 384 698 80 108 )\n",
      "screen-Save.png location on Screen ( 1280 847 91 41 )\n"
     ]
    }
   ],
   "source": [
    "# isDualMonitor\n",
    "isDualMonitor = getIsDualMonitor()\n",
    "\n",
    "# Hattrick HeavyDefence Tab\n",
    "clickTabOfFireFox(4, isDualMonitor)\n",
    "\n",
    "# # Hattrick Login by Facebook\n",
    "clickEmpty(305, isDualMonitor)\n",
    "moveScroll(20)\n",
    "clickHattrickLogin(500, 305, isDualMonitor)\n",
    "\n",
    "# Hattrick MyClub\n",
    "moveScroll(20)\n",
    "moveByImage(530, 342, 77, 42, isDualMonitor, 'screen-MyClub.png')\n",
    "\n",
    "# Hattrick Match\n",
    "clickEmpty(700, isDualMonitor)\n",
    "moveScroll(20)\n",
    "moveByImage(384, 698, 80, 108, isDualMonitor, 'screen-Match.png')\n",
    "\n",
    "# Hattrick LastMatch\n",
    "clickEmpty(831, isDualMonitor)\n",
    "moveScroll(20)\n",
    "# moveByImageWithModify(1040, 831, 15, -15, 58, 48, isDualMonitor, 'screen-LastMatch.png')\n",
    "moveAndClick(1082, 841, isDualMonitor)\n",
    "time.sleep(5)\n",
    "\n",
    "# FirefoxFile\n",
    "moveAndClick(90, 15, isDualMonitor)\n",
    "\n",
    "# SavePageAs\n",
    "time.sleep(3)\n",
    "moveAndClick(91, 130, isDualMonitor)\n",
    "\n",
    "# Type match\n",
    "time.sleep(3)\n",
    "typeFileName()\n",
    "\n",
    "# rwoo folder\n",
    "moveAndClick(570, 460, isDualMonitor)\n",
    "\n",
    "# 02_workspace folder\n",
    "moveAndClicks(720, 440, isDualMonitor, 2)\n",
    "\n",
    "# 04_Hattrick folder\n",
    "moveAndClicks(720, 500, isDualMonitor, 2)\n",
    "\n",
    "# HattrickStudy\n",
    "moveAndClicks(720, 415, isDualMonitor, 2)\n",
    "\n",
    "# 01_Heavy2Defence\n",
    "moveAndClicks(720, 440, isDualMonitor, 2)\n",
    "\n",
    "# 2018\n",
    "moveAndClicks(720, 440, isDualMonitor, 2)\n",
    "\n",
    "# Last Month\n",
    "clickLastMonthOrDay()\n",
    "\n",
    "# Last Day\n",
    "clickLastMonthOrDay()\n",
    "\n",
    "# Save\n",
    "moveByImage(1280, 847, 91, 41, isDualMonitor, 'screen-Save.png')\n",
    "\n",
    "# Hattrick Logout by Facebook\n",
    "clickEmpty(336, isDualMonitor)\n",
    "moveScroll(20)\n",
    "clickHattrickLogout(1270, 370, isDualMonitor)\n",
    "\n",
    "# Jupyter Tab\n",
    "clickTabOfFireFox(7, isDualMonitor)"
   ]
  },
  {
   "cell_type": "code",
   "execution_count": 6,
   "metadata": {
    "collapsed": true
   },
   "outputs": [],
   "source": [
    "from ht_file import *"
   ]
  },
  {
   "cell_type": "code",
   "execution_count": 7,
   "metadata": {},
   "outputs": [
    {
     "name": "stdout",
     "output_type": "stream",
     "text": [
      "2018/06/13/match_files\t\t : is exitsted\n",
      "2018/06/13/match_files\t\t : will be removed\n",
      "2018/06/13/match_files\t\t : is not exitsed\n"
     ]
    }
   ],
   "source": [
    "HattrickFile = HattrickFile()\n",
    "HattrickFile.check_and_delete_folder(folder + '/match_files')"
   ]
  },
  {
   "cell_type": "code",
   "execution_count": 8,
   "metadata": {
    "collapsed": true
   },
   "outputs": [],
   "source": [
    "from ht_match import *"
   ]
  },
  {
   "cell_type": "code",
   "execution_count": 9,
   "metadata": {},
   "outputs": [
    {
     "name": "stdout",
     "output_type": "stream",
     "text": [
      "Home\n",
      "\n",
      "cat match_str_List\n",
      "\n",
      "po,num,rt,sMin,eMin\n",
      "KP,2,3.0,0,90\n",
      "WB,54,3.0,0,90\n",
      "WB,58,3.5,0,90\n",
      "CD,33,4.5,0,90\n",
      "CD,43,5.0,0,90\n",
      "CD,59,4.0,0,90\n",
      "W,63,6.5,0,90\n",
      "W,15,6.5,0,80\n",
      "W,7,5.0,80,90\n",
      "IM,31,7.0,0,90\n",
      "IM,10,5.5,0,70\n",
      "IM,11,5.0,70,90\n",
      "FW,16,6.0,0,80\n",
      "FW,17,3.5,80,90\n"
     ]
    }
   ],
   "source": [
    "HattrickMatch = HattrickMatch()\n",
    "match_dict_list = HattrickMatch.findMatchList(folder + '/match.html', 'mydatabase2')\n",
    "match_str_list = HattrickMatch.matchDictListToMatchStrList(match_dict_list)\n",
    "\n",
    "print(\"\\ncat match_str_List\\n\")\n",
    "for str_line in match_str_list:\n",
    "    print(str_line)"
   ]
  },
  {
   "cell_type": "code",
   "execution_count": 10,
   "metadata": {},
   "outputs": [
    {
     "name": "stdout",
     "output_type": "stream",
     "text": [
      "2018/06/13/match.txt\t : will be removed\n",
      "2018/06/13/match.txt\t : is not existed\n"
     ]
    }
   ],
   "source": [
    "HattrickFile.check_and_delete_file(folder + '/match.txt')"
   ]
  },
  {
   "cell_type": "code",
   "execution_count": 11,
   "metadata": {
    "collapsed": true
   },
   "outputs": [],
   "source": [
    "for line in match_str_list:\n",
    "    with open (folder + '/match.txt', 'a') as f:\n",
    "        f.write(line + \"\\n\")"
   ]
  },
  {
   "cell_type": "code",
   "execution_count": null,
   "metadata": {
    "collapsed": true
   },
   "outputs": [],
   "source": [
    "# From match.txt to match table"
   ]
  },
  {
   "cell_type": "code",
   "execution_count": 12,
   "metadata": {
    "collapsed": true
   },
   "outputs": [],
   "source": [
    "import psycopg2"
   ]
  },
  {
   "cell_type": "code",
   "execution_count": 13,
   "metadata": {
    "collapsed": true
   },
   "outputs": [],
   "source": [
    "conn = psycopg2.connect(\"dbname='mydatabase2' user='myuser' host='localhost' port='65432' password='123qwe'\")"
   ]
  },
  {
   "cell_type": "code",
   "execution_count": null,
   "metadata": {
    "collapsed": true
   },
   "outputs": [],
   "source": [
    "# def dropMatchTable():\n",
    "#     conn = None\n",
    "#     try:\n",
    "#         conn = psycopg2.connect(\"dbname='mydatabase2' user='myuser' host='localhost' port='65432' password='123qwe'\")\n",
    "#         cur = conn.cursor()\n",
    "#         sql = \"\"\"DROP TABLE IF EXISTS match ; \"\"\"\n",
    "#         cur.execute(sql)\n",
    "#         conn.commit()\n",
    "#     except(Exception, psycopg2.DatabaseError) as error:\n",
    "#         print(error)\n",
    "#     finally:\n",
    "#         if conn is not None:\n",
    "#             conn.close()"
   ]
  },
  {
   "cell_type": "code",
   "execution_count": null,
   "metadata": {
    "collapsed": true
   },
   "outputs": [],
   "source": [
    "#dropMatchTable()"
   ]
  },
  {
   "cell_type": "code",
   "execution_count": null,
   "metadata": {
    "collapsed": true
   },
   "outputs": [],
   "source": [
    "# def createMatchTable():\n",
    "#     conn = None\n",
    "#     try:\n",
    "#         conn = psycopg2.connect(\"dbname='mydatabase2' user='myuser' host='localhost' port='65432' password='123qwe'\")\n",
    "#         cur = conn.cursor()\n",
    "#         sql = \"\"\"\n",
    "# CREATE TABLE match (\n",
    "#     Date DATE,          --01\n",
    "#     Po   VARCHAR(5),    --02 Position\n",
    "#     Num  INT,           --03 Number\n",
    "#     RT   NUMERIC(2, 1), --04 Rating\n",
    "#     sMin INT,           --05 Start Min\n",
    "#     eMin INT            --06 End Min\n",
    "# ) ; \"\"\"\n",
    "#         cur.execute(sql)\n",
    "#         conn.commit()\n",
    "#     except(Exception, psycopg2.DatabaseError) as error:\n",
    "#         print(error)\n",
    "#     finally:\n",
    "#         if conn is not None:\n",
    "#             conn.close()"
   ]
  },
  {
   "cell_type": "code",
   "execution_count": null,
   "metadata": {
    "collapsed": true
   },
   "outputs": [],
   "source": [
    "# createMatchTable()"
   ]
  },
  {
   "cell_type": "code",
   "execution_count": 14,
   "metadata": {
    "collapsed": true
   },
   "outputs": [],
   "source": [
    "def selectCountPlayer(conn):\n",
    "    try:\n",
    "        cur = conn.cursor()\n",
    "        sql = \"SELECT COUNT(*) FROM match\" \n",
    "        \n",
    "        cur.execute(sql)\n",
    "        row = cur.fetchone()\n",
    "    except (Exception, psycopg2.DatabaseError) as error:\n",
    "        print(error)\n",
    "        print(sql)\n",
    "    return row[0]"
   ]
  },
  {
   "cell_type": "code",
   "execution_count": 15,
   "metadata": {},
   "outputs": [
    {
     "data": {
      "text/plain": [
       "473"
      ]
     },
     "execution_count": 15,
     "metadata": {},
     "output_type": "execute_result"
    }
   ],
   "source": [
    "selectCountPlayer(conn)"
   ]
  },
  {
   "cell_type": "code",
   "execution_count": 16,
   "metadata": {
    "collapsed": true
   },
   "outputs": [],
   "source": [
    "def insertMatchTable(time, row, conn):\n",
    "    try:\n",
    "        cur = conn.cursor()\n",
    "        sql = \"\"\"\n",
    "INSERT INTO match ( \n",
    "    SELECT \n",
    "        to_date(%s, 'YYYY-MM-DD'), --01 \n",
    "        %s, %s, %s, %s, %s         --02 03 04 05 06\n",
    ") ;\"\"\"\n",
    "        cur.execute(sql, ( time,\n",
    "                           row[0], row[1], row[2], row[3], row[4] ) )\n",
    "        conn.commit()\n",
    "    except (Exception, psycopg2.DatabaseError) as error:\n",
    "        print(\"Error Happend\")\n",
    "        print(error)\n",
    "        print(sql)\n",
    "        print(row)"
   ]
  },
  {
   "cell_type": "code",
   "execution_count": 17,
   "metadata": {
    "collapsed": true
   },
   "outputs": [],
   "source": [
    "import csv\n",
    "with open(folder + '/match.txt', 'r', encoding='utf-8') as f:\n",
    "    reader = csv.reader(f, delimiter=',')\n",
    "    for row in reader:\n",
    "        if(re.match( '^[0-9]{1,2}', row[1] ) ) :\n",
    "            insertMatchTable( folder.replace('/','-'), row, conn)"
   ]
  },
  {
   "cell_type": "code",
   "execution_count": 18,
   "metadata": {},
   "outputs": [
    {
     "data": {
      "text/plain": [
       "487"
      ]
     },
     "execution_count": 18,
     "metadata": {},
     "output_type": "execute_result"
    }
   ],
   "source": [
    "selectCountPlayer(conn)"
   ]
  },
  {
   "cell_type": "code",
   "execution_count": 19,
   "metadata": {
    "collapsed": true
   },
   "outputs": [],
   "source": [
    "def updateRatingOfMatchTable(conn):\n",
    "    try:\n",
    "        cur = conn.cursor()\n",
    "        sql = \"\"\"\n",
    "update match \n",
    "    set rt = player.rt \n",
    "from player   \n",
    "where \n",
    "    match.date = player.date \n",
    "    and player.date = player.last \n",
    "    and match.po = player.po \n",
    "    and match.num = player.num \n",
    "    and match.rt != player.rt\n",
    "; \"\"\"\n",
    "        cur.execute(sql)\n",
    "        conn.commit()\n",
    "    except (Exception, psycopg2.DatabaseError) as error:\n",
    "        print(\"Error Happend\")\n",
    "        print(error)\n",
    "        print(sql)"
   ]
  },
  {
   "cell_type": "code",
   "execution_count": 20,
   "metadata": {
    "collapsed": true
   },
   "outputs": [],
   "source": [
    "updateRatingOfMatchTable(conn)"
   ]
  },
  {
   "cell_type": "code",
   "execution_count": 21,
   "metadata": {
    "collapsed": true
   },
   "outputs": [],
   "source": [
    "def getTupleListFromMatch(query, conn):\n",
    "    outputList = list();\n",
    "    try:\n",
    "        cur = conn.cursor()\n",
    "        #print(query + \"\\n\")\n",
    "        cur.execute(query)\n",
    "        row = cur.fetchone()\n",
    "        while row is not None:\n",
    "            #print(row)\n",
    "            outputList.append(row)\n",
    "            row = cur.fetchone()\n",
    "    except (Exception, psycopg2.DatabaseError) as error:\n",
    "        print(\"Error Happend\")\n",
    "        print(error)\n",
    "    return outputList"
   ]
  },
  {
   "cell_type": "code",
   "execution_count": 22,
   "metadata": {
    "scrolled": true
   },
   "outputs": [
    {
     "name": "stdout",
     "output_type": "stream",
     "text": [
      "KP\t2\t3.0\t0\t90\n",
      "KP\t2\t3.0\t0\t90\n",
      "WB\t54\t2.5\t0\t90\n",
      "WB\t58\t3.0\t0\t90\n",
      "WB\t54\t2.5\t0\t90\n",
      "WB\t58\t3.0\t0\t90\n",
      "CD\t33\t4.5\t0\t90\n",
      "CD\t43\t4.5\t0\t90\n",
      "CD\t59\t3.5\t0\t90\n",
      "CD\t33\t4.5\t0\t90\n",
      "CD\t43\t4.5\t0\t90\n",
      "CD\t59\t3.5\t0\t90\n",
      "W\t15\t6.5\t0\t80\n",
      "W\t15\t6.5\t0\t80\n",
      "W\t7\t5.0\t80\t90\n",
      "W\t7\t5.0\t80\t90\n",
      "W\t63\t6.0\t0\t90\n",
      "W\t63\t6.0\t0\t90\n",
      "IM\t10\t5.5\t0\t70\n",
      "IM\t10\t5.5\t0\t70\n",
      "IM\t11\t5.0\t70\t90\n",
      "IM\t11\t5.0\t70\t90\n",
      "IM\t31\t6.5\t0\t90\n",
      "IM\t31\t6.5\t0\t90\n",
      "FW\t16\t5.5\t0\t80\n",
      "FW\t16\t5.5\t0\t80\n",
      "FW\t17\t3.5\t80\t90\n",
      "FW\t17\t3.5\t80\t90\n"
     ]
    }
   ],
   "source": [
    "query = \"\"\n",
    "query += \"\\n\" + \"SELECT \"\n",
    "query += \"\\n\" + \"    po, num, rt :: VARCHAR(5), smin, emin \"\n",
    "query += \"\\n\" + \"FROM match \"\n",
    "query += \"\\n\" + \"WHERE \"\n",
    "query += \"\\n\" + \"    date ='\" + folder.replace('/','-') + \"'\"\n",
    "query += \"\\n\" + \"ORDER BY \"\n",
    "query += \"\\n\" + \"    CASE \"\n",
    "query += \"\\n\" + \"        WHEN po = 'KP' THEN 1\"\n",
    "query += \"\\n\" + \"        WHEN po = 'WB' THEN 2\"\n",
    "query += \"\\n\" + \"        WHEN po = 'CD' THEN 3\"\n",
    "query += \"\\n\" + \"        WHEN po = 'W'  THEN 4\"\n",
    "query += \"\\n\" + \"        WHEN po = 'IM' THEN 5\"\n",
    "query += \"\\n\" + \"        WHEN po = 'FW' THEN 6\"\n",
    "query += \"\\n\" + \"        ELSE 7 \"\n",
    "query += \"\\n\" + \"    END, \"\n",
    "query += \"\\n\" + \"    emin asc, smin desc\"\n",
    "\n",
    "tupleList = getTupleListFromMatch(query, conn)\n",
    "for tuple in tupleList:\n",
    "    print(tuple[0], tuple[1], tuple[2], tuple[3], tuple[4], sep='\\t')"
   ]
  },
  {
   "cell_type": "code",
   "execution_count": 23,
   "metadata": {
    "scrolled": true
   },
   "outputs": [
    {
     "name": "stdout",
     "output_type": "stream",
     "text": [
      "2018/06/13/match.txt\t : will be removed\n",
      "2018/06/13/match.txt\t : is not existed\n"
     ]
    }
   ],
   "source": [
    "HattrickFile.check_and_delete_file(folder + '/match.txt')"
   ]
  },
  {
   "cell_type": "code",
   "execution_count": 24,
   "metadata": {
    "collapsed": true
   },
   "outputs": [],
   "source": [
    "with open ( folder + '/match.txt', 'a' ) as f:\n",
    "    f.write(\"po,num,rt,sMin,eMin\\n\")\n",
    "    f.write( '\\n'.join('%s,%s,%s,%s,%s' % myTuple for myTuple in tupleList) + '\\n' )"
   ]
  },
  {
   "cell_type": "code",
   "execution_count": 25,
   "metadata": {
    "collapsed": true
   },
   "outputs": [],
   "source": [
    "hattrickMatchPostgresql = HattrickMatchPostgreSQL()"
   ]
  },
  {
   "cell_type": "code",
   "execution_count": 26,
   "metadata": {},
   "outputs": [
    {
     "name": "stdout",
     "output_type": "stream",
     "text": [
      "date num min/rt |    01   |    02   |\n",
      "----------------|---------|---------|\n",
      "2018-05-20      |  90/4.0 |         |\n",
      "2018-05-23      |         |  90/3.5 |\n",
      "2018-05-27      |  90/4.0 |         |\n",
      "2018-05-30      |         |  90/3.5 |\n",
      "2018-06-03      |  90/4.0 |         |\n",
      "2018-06-06      |         |  90/3.0 |\n",
      "2018-06-10      |  90/4.0 |         |\n",
      "2018-06-13      |         |  90/3.0 |\n"
     ]
    }
   ],
   "source": [
    "tupleList = hattrickMatchPostgresql.getMatchByPoNum(conn, 'KP', [1,2])\n",
    "hattrickMatchPostgresql.printMatchByPoNum(tupleList, [1,2])"
   ]
  },
  {
   "cell_type": "code",
   "execution_count": 27,
   "metadata": {},
   "outputs": [
    {
     "name": "stdout",
     "output_type": "stream",
     "text": [
      "date num min/rt |    44   |    46   |    54   |    58   |\n",
      "----------------|---------|---------|---------|---------|\n",
      "2018-05-20      |  90/3.5 |  90/4.5 |         |         |\n",
      "2018-05-23      |         |         |  90/2.5 |  90/2.5 |\n",
      "2018-05-27      |  90/3.5 |  90/4.5 |         |         |\n",
      "2018-05-30      |         |         |  90/2.5 |  90/2.5 |\n",
      "2018-06-03      |  90/3.5 |  90/4.5 |         |         |\n",
      "2018-06-06      |         |         |  90/2.5 |  90/3.0 |\n",
      "2018-06-10      |  90/3.5 |  90/4.5 |         |         |\n",
      "2018-06-13      |         |         |  90/2.5 |  90/3.0 |\n"
     ]
    }
   ],
   "source": [
    "tupleList = hattrickMatchPostgresql.getMatchByPoNum(conn, 'WB', [44,46,54,58])\n",
    "hattrickMatchPostgresql.printMatchByPoNum(tupleList, [44,46,54,58])"
   ]
  },
  {
   "cell_type": "code",
   "execution_count": 28,
   "metadata": {},
   "outputs": [
    {
     "name": "stdout",
     "output_type": "stream",
     "text": [
      "date num min/rt |    33   |    43   |    59   |    61   |    64   |    66   |\n",
      "----------------|---------|---------|---------|---------|---------|---------|\n",
      "2018-05-20      |         |         |  90/3.0 |  90/2.5 |         |         |\n",
      "2018-05-23      |  90/4.5 |  90/4.5 |         |         |  90/3.5 |         |\n",
      "2018-05-27      |         |         |  90/3.0 |  90/3.0 |         |         |\n",
      "2018-05-30      |  90/4.5 |  90/4.5 |         |         |  90/3.5 |         |\n",
      "2018-06-03      |         |         |  90/3.0 |  82/3.0 |  83/3.5 |         |\n",
      "2018-06-06      |  90/5.0 |  90/4.5 |         |         |         |         |\n",
      "2018-06-10      |         |         |         |  90/3.0 |  90/3.5 |  59/2.5 |\n",
      "2018-06-13      |  90/4.5 |  90/4.5 |  90/3.5 |         |         |         |\n"
     ]
    }
   ],
   "source": [
    "tupleList = hattrickMatchPostgresql.getMatchByPoNum(conn, 'CD', [33,43,59,61,64,66])\n",
    "hattrickMatchPostgresql.printMatchByPoNum(tupleList, [33,43,59,61,64,66])"
   ]
  },
  {
   "cell_type": "code",
   "execution_count": 29,
   "metadata": {},
   "outputs": [
    {
     "name": "stdout",
     "output_type": "stream",
     "text": [
      "date num min/rt |    07   |    13   |    15   |    48   |    63   |\n",
      "----------------|---------|---------|---------|---------|---------|\n",
      "2018-05-20      |  10/5.0 |  80/6.5 |  90/7.0 |         |         |\n",
      "2018-05-23      |  44/4.5 |         |         |         |  90/4.5 |\n",
      "2018-05-27      |  83/4.5 |   7/6.5 |  90/7.0 |         |         |\n",
      "2018-05-30      |         |         |  44/6.5 |         |  90/5.5 |\n",
      "2018-06-03      |   8/5.5 |  80/6.5 |  90/7.0 |         |         |\n",
      "2018-06-06      |         |         |  30/6.5 |         |  90/6.0 |\n",
      "2018-06-10      |         |  80/6.0 |  90/7.0 |  10/4.0 |         |\n",
      "2018-06-13      |  10/5.0 |         |  80/6.5 |         |  90/6.0 |\n"
     ]
    }
   ],
   "source": [
    "tupleList = hattrickMatchPostgresql.getMatchByPoNum(conn, 'W', [7,13,15,48,63])\n",
    "hattrickMatchPostgresql.printMatchByPoNum(tupleList, [7,13,15,48,63])"
   ]
  },
  {
   "cell_type": "code",
   "execution_count": 30,
   "metadata": {
    "scrolled": false
   },
   "outputs": [
    {
     "name": "stdout",
     "output_type": "stream",
     "text": [
      "date num min/rt |    09   |    10   |    11   |    12   |    31   |\n",
      "----------------|---------|---------|---------|---------|---------|\n",
      "2018-05-20      |  25/5.0 |         |  65/5.0 |         |  90/6.5 |\n",
      "2018-05-23      |  30/5.0 |  75/5.0 |         |  60/4.5 |         |\n",
      "2018-05-27      |  30/5.5 |         |  60/5.0 |         |  90/6.5 |\n",
      "2018-05-30      |  60/5.5 |         |  30/5.0 |  90/4.0 |         |\n",
      "2018-06-03      |  35/5.5 |         |  90/4.5 |  55/4.5 |         |\n",
      "2018-06-06      |         |  20/5.5 |         |  90/4.5 |  70/7.0 |\n",
      "2018-06-10      |  90/5.5 |         |  50/5.0 |  40/5.0 |         |\n",
      "2018-06-13      |         |  70/5.5 |  20/5.0 |         |  90/6.5 |\n"
     ]
    }
   ],
   "source": [
    "tupleList = hattrickMatchPostgresql.getMatchByPoNum(conn, 'IM', [9,10,11,12,31])\n",
    "hattrickMatchPostgresql.printMatchByPoNum(tupleList, [9,10,11,12,31])"
   ]
  },
  {
   "cell_type": "code",
   "execution_count": 31,
   "metadata": {},
   "outputs": [
    {
     "name": "stdout",
     "output_type": "stream",
     "text": [
      "date num min/rt |    16   |    17   |    18   |    60   |\n",
      "----------------|---------|---------|---------|---------|\n",
      "2018-05-20      |         |         |  65/5.5 |  25/5.0 |\n",
      "2018-05-23      |  75/5.5 |  15/4.5 |         |         |\n",
      "2018-05-27      |         |         |  65/5.0 |  25/5.0 |\n",
      "2018-05-30      |  80/5.0 |  10/4.0 |         |         |\n",
      "2018-06-03      |         |         |  65/5.0 |  25/5.0 |\n",
      "2018-06-06      |  80/5.5 |  10/4.0 |         |         |\n",
      "2018-06-10      |         |         |  60/5.0 |  30/4.5 |\n",
      "2018-06-13      |  80/5.5 |  10/3.5 |         |         |\n"
     ]
    }
   ],
   "source": [
    "tupleList = hattrickMatchPostgresql.getMatchByPoNum(conn, 'FW', [16,17,18,60])\n",
    "hattrickMatchPostgresql.printMatchByPoNum(tupleList, [16,17,18,60])"
   ]
  },
  {
   "cell_type": "code",
   "execution_count": 32,
   "metadata": {},
   "outputs": [
    {
     "name": "stdout",
     "output_type": "stream",
     "text": [
      "<connection object at 0x7fda82b8f3d8; dsn: 'user=myuser password=xxx dbname=mydatabase2 host=localhost port=65432', closed: 1>\n"
     ]
    }
   ],
   "source": [
    "conn.close()\n",
    "print(conn)"
   ]
  },
  {
   "cell_type": "code",
   "execution_count": 33,
   "metadata": {},
   "outputs": [
    {
     "name": "stdout",
     "output_type": "stream",
     "text": [
      "None\n"
     ]
    }
   ],
   "source": [
    "conn = None\n",
    "print(conn)"
   ]
  },
  {
   "cell_type": "code",
   "execution_count": null,
   "metadata": {
    "collapsed": true
   },
   "outputs": [],
   "source": []
  }
 ],
 "metadata": {
  "kernelspec": {
   "display_name": "Python 3",
   "language": "python",
   "name": "python3"
  },
  "language_info": {
   "codemirror_mode": {
    "name": "ipython",
    "version": 3
   },
   "file_extension": ".py",
   "mimetype": "text/x-python",
   "name": "python",
   "nbconvert_exporter": "python",
   "pygments_lexer": "ipython3",
   "version": "3.6.3"
  }
 },
 "nbformat": 4,
 "nbformat_minor": 2
}
